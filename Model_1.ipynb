{
 "cells": [
  {
   "cell_type": "markdown",
   "id": "6e7df2a7-0a37-4549-a309-d0e66f831066",
   "metadata": {},
   "source": [
    "# Model 1\n",
    "\n",
    "Regression Problem: The goal is to predict delay of flights."
   ]
  },
  {
   "cell_type": "code",
   "execution_count": 1,
   "id": "34d5dda7-ec6a-4e47-8785-8cd6d80a7a0d",
   "metadata": {},
   "outputs": [],
   "source": [
    "import pandas as pd\n",
    "\n",
    "from sklearn.ensemble import RandomForestRegressor\n",
    "from sklearn.linear_model import LinearRegression\n",
    "from sklearn.svm import SVR\n",
    "\n",
    "import warnings\n",
    "warnings.filterwarnings('ignore')"
   ]
  },
  {
   "cell_type": "code",
   "execution_count": 5,
   "id": "2b52949a-e2e3-434d-bccd-66fdcd72d9fa",
   "metadata": {},
   "outputs": [],
   "source": [
    "from src.modules.data_preprocessing import regression"
   ]
  },
  {
   "cell_type": "code",
   "execution_count": 15,
   "id": "76773319-5ed1-4376-ae4e-1ce1077734b4",
   "metadata": {},
   "outputs": [],
   "source": [
    "X_train_M1 = pd.read_csv('data/X_train_M1.csv')\n",
    "X_test_M1 = pd.read_csv('data/X_test_M1.csv')"
   ]
  },
  {
   "cell_type": "code",
   "execution_count": 16,
   "id": "d30827cc-32df-4185-b7c9-2174289890d9",
   "metadata": {},
   "outputs": [
    {
     "data": {
      "text/html": [
       "<div>\n",
       "<style scoped>\n",
       "    .dataframe tbody tr th:only-of-type {\n",
       "        vertical-align: middle;\n",
       "    }\n",
       "\n",
       "    .dataframe tbody tr th {\n",
       "        vertical-align: top;\n",
       "    }\n",
       "\n",
       "    .dataframe thead th {\n",
       "        text-align: right;\n",
       "    }\n",
       "</style>\n",
       "<table border=\"1\" class=\"dataframe\">\n",
       "  <thead>\n",
       "    <tr style=\"text-align: right;\">\n",
       "      <th></th>\n",
       "      <th>crs_dep_time</th>\n",
       "      <th>dep_time</th>\n",
       "      <th>taxi_out</th>\n",
       "      <th>wheels_off</th>\n",
       "      <th>wheels_on</th>\n",
       "      <th>taxi_in</th>\n",
       "      <th>crs_arr_time</th>\n",
       "      <th>arr_time</th>\n",
       "      <th>cancelled</th>\n",
       "      <th>diverted</th>\n",
       "      <th>...</th>\n",
       "      <th>orig_weather_categ_rain</th>\n",
       "      <th>orig_weather_categ_snow</th>\n",
       "      <th>orig_weather_categ_snow &amp; rain</th>\n",
       "      <th>orig_weather_categ_sunny</th>\n",
       "      <th>dest_weather_categ_empty</th>\n",
       "      <th>dest_weather_categ_no weather data</th>\n",
       "      <th>dest_weather_categ_rain</th>\n",
       "      <th>dest_weather_categ_snow</th>\n",
       "      <th>dest_weather_categ_snow &amp; rain</th>\n",
       "      <th>dest_weather_categ_sunny</th>\n",
       "    </tr>\n",
       "  </thead>\n",
       "  <tbody>\n",
       "    <tr>\n",
       "      <th>0</th>\n",
       "      <td>801</td>\n",
       "      <td>755.0</td>\n",
       "      <td>12.0</td>\n",
       "      <td>807.0</td>\n",
       "      <td>827.0</td>\n",
       "      <td>6.0</td>\n",
       "      <td>850</td>\n",
       "      <td>833.0</td>\n",
       "      <td>0.0</td>\n",
       "      <td>0.0</td>\n",
       "      <td>...</td>\n",
       "      <td>0</td>\n",
       "      <td>0</td>\n",
       "      <td>0</td>\n",
       "      <td>1</td>\n",
       "      <td>0</td>\n",
       "      <td>0</td>\n",
       "      <td>0</td>\n",
       "      <td>0</td>\n",
       "      <td>0</td>\n",
       "      <td>1</td>\n",
       "    </tr>\n",
       "    <tr>\n",
       "      <th>1</th>\n",
       "      <td>610</td>\n",
       "      <td>604.0</td>\n",
       "      <td>17.0</td>\n",
       "      <td>621.0</td>\n",
       "      <td>821.0</td>\n",
       "      <td>14.0</td>\n",
       "      <td>847</td>\n",
       "      <td>835.0</td>\n",
       "      <td>0.0</td>\n",
       "      <td>0.0</td>\n",
       "      <td>...</td>\n",
       "      <td>0</td>\n",
       "      <td>0</td>\n",
       "      <td>0</td>\n",
       "      <td>1</td>\n",
       "      <td>0</td>\n",
       "      <td>0</td>\n",
       "      <td>1</td>\n",
       "      <td>0</td>\n",
       "      <td>0</td>\n",
       "      <td>0</td>\n",
       "    </tr>\n",
       "  </tbody>\n",
       "</table>\n",
       "<p>2 rows × 35 columns</p>\n",
       "</div>"
      ],
      "text/plain": [
       "   crs_dep_time  dep_time  taxi_out  wheels_off  wheels_on  taxi_in  \\\n",
       "0           801     755.0      12.0       807.0      827.0      6.0   \n",
       "1           610     604.0      17.0       621.0      821.0     14.0   \n",
       "\n",
       "   crs_arr_time  arr_time  cancelled  diverted  ...  orig_weather_categ_rain  \\\n",
       "0           850     833.0        0.0       0.0  ...                        0   \n",
       "1           847     835.0        0.0       0.0  ...                        0   \n",
       "\n",
       "   orig_weather_categ_snow  orig_weather_categ_snow & rain  \\\n",
       "0                        0                               0   \n",
       "1                        0                               0   \n",
       "\n",
       "   orig_weather_categ_sunny  dest_weather_categ_empty  \\\n",
       "0                         1                         0   \n",
       "1                         1                         0   \n",
       "\n",
       "   dest_weather_categ_no weather data  dest_weather_categ_rain  \\\n",
       "0                                   0                        0   \n",
       "1                                   0                        1   \n",
       "\n",
       "   dest_weather_categ_snow  dest_weather_categ_snow & rain  \\\n",
       "0                        0                               0   \n",
       "1                        0                               0   \n",
       "\n",
       "   dest_weather_categ_sunny  \n",
       "0                         1  \n",
       "1                         0  \n",
       "\n",
       "[2 rows x 35 columns]"
      ]
     },
     "execution_count": 16,
     "metadata": {},
     "output_type": "execute_result"
    }
   ],
   "source": [
    "X_train_M1.head(2)"
   ]
  },
  {
   "cell_type": "code",
   "execution_count": null,
   "id": "bd231252-f5bb-4b73-ab7a-83bb2b1e83e0",
   "metadata": {},
   "outputs": [],
   "source": [
    "X_test_M1.head(2)"
   ]
  },
  {
   "cell_type": "code",
   "execution_count": 8,
   "id": "5c37cadb-be5a-4da4-9e27-1208b49822b6",
   "metadata": {},
   "outputs": [
    {
     "data": {
      "text/plain": [
       "Index(['dep_time', 'taxi_out', 'wheels_off', 'wheels_on', 'taxi_in',\n",
       "       'crs_arr_time', 'arr_time', 'arr_delay', 'cancelled', 'diverted',\n",
       "       'crs_elapsed_time', 'actual_elapsed_time', 'air_time', 'flights',\n",
       "       'distance', 'dep_time_of_day', 'arr_time_of_day',\n",
       "       'mean_arr_delay_orig_airport', 'mean_arr_delay_dest_airport',\n",
       "       'mean_arr_delay_carrier', 'orig_weather_categ_empty',\n",
       "       'orig_weather_categ_no weather data', 'orig_weather_categ_rain',\n",
       "       'orig_weather_categ_snow', 'orig_weather_categ_snow & rain',\n",
       "       'orig_weather_categ_sunny', 'dest_weather_categ_empty',\n",
       "       'dest_weather_categ_no weather data', 'dest_weather_categ_rain',\n",
       "       'dest_weather_categ_snow', 'dest_weather_categ_snow & rain',\n",
       "       'dest_weather_categ_sunny', 'year', 'month', 'day'],\n",
       "      dtype='object')"
      ]
     },
     "execution_count": 8,
     "metadata": {},
     "output_type": "execute_result"
    }
   ],
   "source": [
    "flights_M1.columns"
   ]
  },
  {
   "cell_type": "code",
   "execution_count": 9,
   "id": "d05b3f49-ebbc-431f-9c31-6e4cf4484cf3",
   "metadata": {},
   "outputs": [],
   "source": [
    "#Declare feature vector and target variable\n",
    "X = flights_M1.drop(['arr_delay'], axis = 1)\n",
    "y = flights_M1['arr_delay']"
   ]
  },
  {
   "cell_type": "code",
   "execution_count": 10,
   "id": "c2340353-bc53-4e29-a648-08df25f0e188",
   "metadata": {},
   "outputs": [
    {
     "data": {
      "text/plain": [
       "Index(['dep_time', 'taxi_out', 'wheels_off', 'wheels_on', 'taxi_in',\n",
       "       'crs_arr_time', 'arr_time', 'cancelled', 'diverted', 'crs_elapsed_time',\n",
       "       'actual_elapsed_time', 'air_time', 'flights', 'distance',\n",
       "       'dep_time_of_day', 'arr_time_of_day', 'mean_arr_delay_orig_airport',\n",
       "       'mean_arr_delay_dest_airport', 'mean_arr_delay_carrier',\n",
       "       'orig_weather_categ_empty', 'orig_weather_categ_no weather data',\n",
       "       'orig_weather_categ_rain', 'orig_weather_categ_snow',\n",
       "       'orig_weather_categ_snow & rain', 'orig_weather_categ_sunny',\n",
       "       'dest_weather_categ_empty', 'dest_weather_categ_no weather data',\n",
       "       'dest_weather_categ_rain', 'dest_weather_categ_snow',\n",
       "       'dest_weather_categ_snow & rain', 'dest_weather_categ_sunny', 'year',\n",
       "       'month', 'day'],\n",
       "      dtype='object')"
      ]
     },
     "execution_count": 10,
     "metadata": {},
     "output_type": "execute_result"
    }
   ],
   "source": [
    "X.columns"
   ]
  },
  {
   "cell_type": "code",
   "execution_count": 11,
   "id": "36ded853-2092-495c-83c0-536944dea00c",
   "metadata": {},
   "outputs": [],
   "source": [
    "regressor_list = [LinearRegression, SVR, RandomForestRegressor]"
   ]
  },
  {
   "cell_type": "code",
   "execution_count": 12,
   "id": "906f0210-667b-458e-bf55-8f0b4158ef2c",
   "metadata": {
    "tags": []
   },
   "outputs": [
    {
     "name": "stdout",
     "output_type": "stream",
     "text": [
      "Regressor: <class 'sklearn.linear_model._base.LinearRegression'> \n",
      " MSE = 2155.414686575052 \n",
      " R2 = 0.0824627328084514 \n",
      " ----------------------------\n",
      "Regressor: <class 'sklearn.svm._classes.SVR'> \n",
      " MSE = 2278.0349582626286 \n",
      " R2 = 0.03026457823185824 \n",
      " ----------------------------\n",
      "Regressor: <class 'sklearn.ensemble._forest.RandomForestRegressor'> \n",
      " MSE = 606.39384155 \n",
      " R2 = 0.7418645462132986 \n",
      " ----------------------------\n"
     ]
    }
   ],
   "source": [
    "regression(X, y, regressor_list)"
   ]
  },
  {
   "cell_type": "markdown",
   "id": "024998b7-d2e5-4eac-9159-1b7f5c611267",
   "metadata": {},
   "source": [
    "## Model 1\n",
    "Incoporate these additional features: weather, date into datetime modules, categorical variables to numeric variables"
   ]
  },
  {
   "cell_type": "code",
   "execution_count": null,
   "id": "043ded1e-6d89-420b-a935-21c14d6ee8af",
   "metadata": {},
   "outputs": [],
   "source": [
    "#split into test train, then use k-fold cross-validation on train set, test"
   ]
  },
  {
   "cell_type": "code",
   "execution_count": null,
   "id": "2df8e8db-5131-419e-abaa-d31d9d2f3cf1",
   "metadata": {},
   "outputs": [],
   "source": []
  },
  {
   "cell_type": "raw",
   "id": "5d418573-870e-4616-b369-1c391cc91547",
   "metadata": {},
   "source": [
    "this is what you will have for the final test:\n",
    "flights_test.columns\n",
    "\n",
    "'fl_date', 'mkt_unique_carrier', 'branded_code_share', 'mkt_carrier',\n",
    "       'mkt_carrier_fl_num', 'op_unique_carrier', 'tail_num',\n",
    "       'op_carrier_fl_num', 'origin_airport_id', 'origin', 'origin_city_name',\n",
    "       'dest_airport_id', 'dest', 'dest_city_name', 'crs_dep_time',\n",
    "       'crs_arr_time', 'dup', 'crs_elapsed_time', 'flights', 'distance'"
   ]
  }
 ],
 "metadata": {
  "kernelspec": {
   "display_name": "lighthouse_env",
   "language": "python",
   "name": "lighthouse_env"
  },
  "language_info": {
   "codemirror_mode": {
    "name": "ipython",
    "version": 3
   },
   "file_extension": ".py",
   "mimetype": "text/x-python",
   "name": "python",
   "nbconvert_exporter": "python",
   "pygments_lexer": "ipython3",
   "version": "3.9.13"
  }
 },
 "nbformat": 4,
 "nbformat_minor": 5
}
