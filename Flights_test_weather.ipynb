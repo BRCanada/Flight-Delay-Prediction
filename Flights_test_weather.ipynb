{
 "cells": [
  {
   "cell_type": "markdown",
   "id": "671fc810-c8aa-4bec-88be-c52c95f31930",
   "metadata": {},
   "source": [
    "## Collect & Clean weather data for test_flights dataset"
   ]
  },
  {
   "cell_type": "code",
   "execution_count": 32,
   "id": "3fe79bfa-130a-4c12-b835-480726115227",
   "metadata": {},
   "outputs": [],
   "source": [
    "import pandas as pd\n",
    "import numpy as np"
   ]
  },
  {
   "cell_type": "code",
   "execution_count": 33,
   "id": "09c6831f-8a9c-45fb-9c66-1bf284739406",
   "metadata": {},
   "outputs": [],
   "source": [
    "import datetime as dt"
   ]
  },
  {
   "cell_type": "code",
   "execution_count": 34,
   "id": "0349743e-3c76-4d4f-9deb-741ca71a72f1",
   "metadata": {},
   "outputs": [],
   "source": [
    "import requests\n",
    "import time"
   ]
  },
  {
   "cell_type": "markdown",
   "id": "1856fee7-d04e-4be5-bafa-e7a5ec533cbf",
   "metadata": {},
   "source": [
    "### Import table of unique date/city combinations\n",
    "***** where was this table created?????? should clean that notebook********\n",
    "\n",
    "This is to reduce the number of API pulls"
   ]
  },
  {
   "cell_type": "code",
   "execution_count": 5,
   "id": "10192ea1-5394-4152-aed4-6b63d9700999",
   "metadata": {
    "tags": []
   },
   "outputs": [],
   "source": [
    "flight_unique = pd.read_csv('data/flights_test_uniques.csv', index_col=0)"
   ]
  },
  {
   "cell_type": "code",
   "execution_count": 6,
   "id": "f3d2d10b-3f1f-48e4-af9b-bddaaa056fe7",
   "metadata": {},
   "outputs": [
    {
     "data": {
      "text/html": [
       "<div>\n",
       "<style scoped>\n",
       "    .dataframe tbody tr th:only-of-type {\n",
       "        vertical-align: middle;\n",
       "    }\n",
       "\n",
       "    .dataframe tbody tr th {\n",
       "        vertical-align: top;\n",
       "    }\n",
       "\n",
       "    .dataframe thead th {\n",
       "        text-align: right;\n",
       "    }\n",
       "</style>\n",
       "<table border=\"1\" class=\"dataframe\">\n",
       "  <thead>\n",
       "    <tr style=\"text-align: right;\">\n",
       "      <th></th>\n",
       "      <th>fl_date</th>\n",
       "      <th>city</th>\n",
       "      <th>count</th>\n",
       "      <th>weather_categ</th>\n",
       "    </tr>\n",
       "  </thead>\n",
       "  <tbody>\n",
       "    <tr>\n",
       "      <th>758</th>\n",
       "      <td>2020-01-03</td>\n",
       "      <td>Chicago, IL</td>\n",
       "      <td>2591</td>\n",
       "      <td>empty</td>\n",
       "    </tr>\n",
       "    <tr>\n",
       "      <th>408</th>\n",
       "      <td>2020-01-02</td>\n",
       "      <td>Chicago, IL</td>\n",
       "      <td>2587</td>\n",
       "      <td>empty</td>\n",
       "    </tr>\n",
       "    <tr>\n",
       "      <th>1463</th>\n",
       "      <td>2020-01-05</td>\n",
       "      <td>Chicago, IL</td>\n",
       "      <td>2556</td>\n",
       "      <td>empty</td>\n",
       "    </tr>\n",
       "    <tr>\n",
       "      <th>1813</th>\n",
       "      <td>2020-01-06</td>\n",
       "      <td>Chicago, IL</td>\n",
       "      <td>2556</td>\n",
       "      <td>empty</td>\n",
       "    </tr>\n",
       "    <tr>\n",
       "      <th>2166</th>\n",
       "      <td>2020-01-07</td>\n",
       "      <td>Chicago, IL</td>\n",
       "      <td>2413</td>\n",
       "      <td>empty</td>\n",
       "    </tr>\n",
       "  </tbody>\n",
       "</table>\n",
       "</div>"
      ],
      "text/plain": [
       "         fl_date         city  count weather_categ\n",
       "758   2020-01-03  Chicago, IL   2591         empty\n",
       "408   2020-01-02  Chicago, IL   2587         empty\n",
       "1463  2020-01-05  Chicago, IL   2556         empty\n",
       "1813  2020-01-06  Chicago, IL   2556         empty\n",
       "2166  2020-01-07  Chicago, IL   2413         empty"
      ]
     },
     "execution_count": 6,
     "metadata": {},
     "output_type": "execute_result"
    }
   ],
   "source": [
    "flight_unique.head()"
   ]
  },
  {
   "cell_type": "markdown",
   "id": "6884dde5-6311-4720-96f2-05463aa04c24",
   "metadata": {},
   "source": [
    "### Import lat long table\n",
    "This table was created and cleaned in the EDA_Task3 notebook"
   ]
  },
  {
   "cell_type": "code",
   "execution_count": 100,
   "id": "c3b7f9c5-7075-4fd4-8a15-d6cc2e420a8b",
   "metadata": {},
   "outputs": [],
   "source": [
    "#api requires lat/long, we found this table via google\n",
    "latlong_df = pd.read_csv('data/uscities_ll.csv')"
   ]
  },
  {
   "cell_type": "code",
   "execution_count": 8,
   "id": "de99e14d-97a1-4324-b89c-7413223534b1",
   "metadata": {},
   "outputs": [
    {
     "data": {
      "text/plain": [
       "(30409, 6)"
      ]
     },
     "execution_count": 8,
     "metadata": {},
     "output_type": "execute_result"
    }
   ],
   "source": [
    "latlong_df.shape"
   ]
  },
  {
   "cell_type": "code",
   "execution_count": 9,
   "id": "f64891b5-5890-453b-b646-db5460f7fbde",
   "metadata": {},
   "outputs": [
    {
     "data": {
      "text/html": [
       "<div>\n",
       "<style scoped>\n",
       "    .dataframe tbody tr th:only-of-type {\n",
       "        vertical-align: middle;\n",
       "    }\n",
       "\n",
       "    .dataframe tbody tr th {\n",
       "        vertical-align: top;\n",
       "    }\n",
       "\n",
       "    .dataframe thead th {\n",
       "        text-align: right;\n",
       "    }\n",
       "</style>\n",
       "<table border=\"1\" class=\"dataframe\">\n",
       "  <thead>\n",
       "    <tr style=\"text-align: right;\">\n",
       "      <th></th>\n",
       "      <th>city</th>\n",
       "      <th>state_id</th>\n",
       "      <th>lat</th>\n",
       "      <th>lng</th>\n",
       "      <th>timezone</th>\n",
       "      <th>city_state</th>\n",
       "    </tr>\n",
       "  </thead>\n",
       "  <tbody>\n",
       "    <tr>\n",
       "      <th>0</th>\n",
       "      <td>New York</td>\n",
       "      <td>NY</td>\n",
       "      <td>40.6943</td>\n",
       "      <td>-73.9249</td>\n",
       "      <td>America/New_York</td>\n",
       "      <td>New York, NY</td>\n",
       "    </tr>\n",
       "    <tr>\n",
       "      <th>1</th>\n",
       "      <td>Los Angeles</td>\n",
       "      <td>CA</td>\n",
       "      <td>34.1141</td>\n",
       "      <td>-118.4068</td>\n",
       "      <td>America/Los_Angeles</td>\n",
       "      <td>Los Angeles, CA</td>\n",
       "    </tr>\n",
       "    <tr>\n",
       "      <th>2</th>\n",
       "      <td>Chicago</td>\n",
       "      <td>IL</td>\n",
       "      <td>41.8375</td>\n",
       "      <td>-87.6866</td>\n",
       "      <td>America/Chicago</td>\n",
       "      <td>Chicago, IL</td>\n",
       "    </tr>\n",
       "    <tr>\n",
       "      <th>3</th>\n",
       "      <td>Miami</td>\n",
       "      <td>FL</td>\n",
       "      <td>25.7840</td>\n",
       "      <td>-80.2101</td>\n",
       "      <td>America/New_York</td>\n",
       "      <td>Miami, FL</td>\n",
       "    </tr>\n",
       "    <tr>\n",
       "      <th>4</th>\n",
       "      <td>Dallas</td>\n",
       "      <td>TX</td>\n",
       "      <td>32.7935</td>\n",
       "      <td>-96.7667</td>\n",
       "      <td>America/Chicago</td>\n",
       "      <td>Dallas, TX</td>\n",
       "    </tr>\n",
       "    <tr>\n",
       "      <th>...</th>\n",
       "      <td>...</td>\n",
       "      <td>...</td>\n",
       "      <td>...</td>\n",
       "      <td>...</td>\n",
       "      <td>...</td>\n",
       "      <td>...</td>\n",
       "    </tr>\n",
       "    <tr>\n",
       "      <th>30404</th>\n",
       "      <td>Drummond</td>\n",
       "      <td>ID</td>\n",
       "      <td>43.9996</td>\n",
       "      <td>-111.3433</td>\n",
       "      <td>America/Boise</td>\n",
       "      <td>Drummond, ID</td>\n",
       "    </tr>\n",
       "    <tr>\n",
       "      <th>30405</th>\n",
       "      <td>Lost Springs</td>\n",
       "      <td>WY</td>\n",
       "      <td>42.7652</td>\n",
       "      <td>-104.9255</td>\n",
       "      <td>America/Denver</td>\n",
       "      <td>Lost Springs, WY</td>\n",
       "    </tr>\n",
       "    <tr>\n",
       "      <th>30406</th>\n",
       "      <td>Provo</td>\n",
       "      <td>SD</td>\n",
       "      <td>43.1937</td>\n",
       "      <td>-103.8329</td>\n",
       "      <td>America/Denver</td>\n",
       "      <td>Provo, SD</td>\n",
       "    </tr>\n",
       "    <tr>\n",
       "      <th>30407</th>\n",
       "      <td>Goldcreek</td>\n",
       "      <td>MT</td>\n",
       "      <td>46.5838</td>\n",
       "      <td>-112.9284</td>\n",
       "      <td>America/Denver</td>\n",
       "      <td>Goldcreek, MT</td>\n",
       "    </tr>\n",
       "    <tr>\n",
       "      <th>30408</th>\n",
       "      <td>Le Roy</td>\n",
       "      <td>IA</td>\n",
       "      <td>40.8779</td>\n",
       "      <td>-93.5926</td>\n",
       "      <td>America/Chicago</td>\n",
       "      <td>Le Roy, IA</td>\n",
       "    </tr>\n",
       "  </tbody>\n",
       "</table>\n",
       "<p>30409 rows × 6 columns</p>\n",
       "</div>"
      ],
      "text/plain": [
       "               city state_id      lat       lng             timezone  \\\n",
       "0          New York       NY  40.6943  -73.9249     America/New_York   \n",
       "1       Los Angeles       CA  34.1141 -118.4068  America/Los_Angeles   \n",
       "2           Chicago       IL  41.8375  -87.6866      America/Chicago   \n",
       "3             Miami       FL  25.7840  -80.2101     America/New_York   \n",
       "4            Dallas       TX  32.7935  -96.7667      America/Chicago   \n",
       "...             ...      ...      ...       ...                  ...   \n",
       "30404      Drummond       ID  43.9996 -111.3433        America/Boise   \n",
       "30405  Lost Springs       WY  42.7652 -104.9255       America/Denver   \n",
       "30406         Provo       SD  43.1937 -103.8329       America/Denver   \n",
       "30407     Goldcreek       MT  46.5838 -112.9284       America/Denver   \n",
       "30408        Le Roy       IA  40.8779  -93.5926      America/Chicago   \n",
       "\n",
       "             city_state  \n",
       "0          New York, NY  \n",
       "1       Los Angeles, CA  \n",
       "2           Chicago, IL  \n",
       "3             Miami, FL  \n",
       "4            Dallas, TX  \n",
       "...                 ...  \n",
       "30404      Drummond, ID  \n",
       "30405  Lost Springs, WY  \n",
       "30406         Provo, SD  \n",
       "30407     Goldcreek, MT  \n",
       "30408        Le Roy, IA  \n",
       "\n",
       "[30409 rows x 6 columns]"
      ]
     },
     "execution_count": 9,
     "metadata": {},
     "output_type": "execute_result"
    }
   ],
   "source": [
    "latlong_df"
   ]
  },
  {
   "cell_type": "code",
   "execution_count": 101,
   "id": "65ac23fe-6d18-4b2d-a9ee-5eb70180ec43",
   "metadata": {},
   "outputs": [
    {
     "data": {
      "text/plain": [
       "30351"
      ]
     },
     "execution_count": 101,
     "metadata": {},
     "output_type": "execute_result"
    }
   ],
   "source": [
    "#check for dupicate city_state combinations\n",
    "latlong_df['city_state'].nunique()"
   ]
  },
  {
   "cell_type": "code",
   "execution_count": 11,
   "id": "209cffa4-d0cf-4d7e-9529-1f8967bc79c2",
   "metadata": {},
   "outputs": [],
   "source": [
    "latlong_df = latlong_df.drop_duplicates(subset='city_state', keep=\"first\")"
   ]
  },
  {
   "cell_type": "code",
   "execution_count": 12,
   "id": "9ec85206-8122-41d7-9804-30f53891ad6f",
   "metadata": {},
   "outputs": [
    {
     "data": {
      "text/html": [
       "<div>\n",
       "<style scoped>\n",
       "    .dataframe tbody tr th:only-of-type {\n",
       "        vertical-align: middle;\n",
       "    }\n",
       "\n",
       "    .dataframe tbody tr th {\n",
       "        vertical-align: top;\n",
       "    }\n",
       "\n",
       "    .dataframe thead th {\n",
       "        text-align: right;\n",
       "    }\n",
       "</style>\n",
       "<table border=\"1\" class=\"dataframe\">\n",
       "  <thead>\n",
       "    <tr style=\"text-align: right;\">\n",
       "      <th></th>\n",
       "      <th>city</th>\n",
       "      <th>state_id</th>\n",
       "      <th>lat</th>\n",
       "      <th>lng</th>\n",
       "      <th>timezone</th>\n",
       "      <th>city_state</th>\n",
       "    </tr>\n",
       "  </thead>\n",
       "  <tbody>\n",
       "    <tr>\n",
       "      <th>0</th>\n",
       "      <td>New York</td>\n",
       "      <td>NY</td>\n",
       "      <td>40.6943</td>\n",
       "      <td>-73.9249</td>\n",
       "      <td>America/New_York</td>\n",
       "      <td>New York, NY</td>\n",
       "    </tr>\n",
       "    <tr>\n",
       "      <th>1</th>\n",
       "      <td>Los Angeles</td>\n",
       "      <td>CA</td>\n",
       "      <td>34.1141</td>\n",
       "      <td>-118.4068</td>\n",
       "      <td>America/Los_Angeles</td>\n",
       "      <td>Los Angeles, CA</td>\n",
       "    </tr>\n",
       "    <tr>\n",
       "      <th>2</th>\n",
       "      <td>Chicago</td>\n",
       "      <td>IL</td>\n",
       "      <td>41.8375</td>\n",
       "      <td>-87.6866</td>\n",
       "      <td>America/Chicago</td>\n",
       "      <td>Chicago, IL</td>\n",
       "    </tr>\n",
       "    <tr>\n",
       "      <th>3</th>\n",
       "      <td>Miami</td>\n",
       "      <td>FL</td>\n",
       "      <td>25.7840</td>\n",
       "      <td>-80.2101</td>\n",
       "      <td>America/New_York</td>\n",
       "      <td>Miami, FL</td>\n",
       "    </tr>\n",
       "    <tr>\n",
       "      <th>4</th>\n",
       "      <td>Dallas</td>\n",
       "      <td>TX</td>\n",
       "      <td>32.7935</td>\n",
       "      <td>-96.7667</td>\n",
       "      <td>America/Chicago</td>\n",
       "      <td>Dallas, TX</td>\n",
       "    </tr>\n",
       "    <tr>\n",
       "      <th>...</th>\n",
       "      <td>...</td>\n",
       "      <td>...</td>\n",
       "      <td>...</td>\n",
       "      <td>...</td>\n",
       "      <td>...</td>\n",
       "      <td>...</td>\n",
       "    </tr>\n",
       "    <tr>\n",
       "      <th>30404</th>\n",
       "      <td>Drummond</td>\n",
       "      <td>ID</td>\n",
       "      <td>43.9996</td>\n",
       "      <td>-111.3433</td>\n",
       "      <td>America/Boise</td>\n",
       "      <td>Drummond, ID</td>\n",
       "    </tr>\n",
       "    <tr>\n",
       "      <th>30405</th>\n",
       "      <td>Lost Springs</td>\n",
       "      <td>WY</td>\n",
       "      <td>42.7652</td>\n",
       "      <td>-104.9255</td>\n",
       "      <td>America/Denver</td>\n",
       "      <td>Lost Springs, WY</td>\n",
       "    </tr>\n",
       "    <tr>\n",
       "      <th>30406</th>\n",
       "      <td>Provo</td>\n",
       "      <td>SD</td>\n",
       "      <td>43.1937</td>\n",
       "      <td>-103.8329</td>\n",
       "      <td>America/Denver</td>\n",
       "      <td>Provo, SD</td>\n",
       "    </tr>\n",
       "    <tr>\n",
       "      <th>30407</th>\n",
       "      <td>Goldcreek</td>\n",
       "      <td>MT</td>\n",
       "      <td>46.5838</td>\n",
       "      <td>-112.9284</td>\n",
       "      <td>America/Denver</td>\n",
       "      <td>Goldcreek, MT</td>\n",
       "    </tr>\n",
       "    <tr>\n",
       "      <th>30408</th>\n",
       "      <td>Le Roy</td>\n",
       "      <td>IA</td>\n",
       "      <td>40.8779</td>\n",
       "      <td>-93.5926</td>\n",
       "      <td>America/Chicago</td>\n",
       "      <td>Le Roy, IA</td>\n",
       "    </tr>\n",
       "  </tbody>\n",
       "</table>\n",
       "<p>30351 rows × 6 columns</p>\n",
       "</div>"
      ],
      "text/plain": [
       "               city state_id      lat       lng             timezone  \\\n",
       "0          New York       NY  40.6943  -73.9249     America/New_York   \n",
       "1       Los Angeles       CA  34.1141 -118.4068  America/Los_Angeles   \n",
       "2           Chicago       IL  41.8375  -87.6866      America/Chicago   \n",
       "3             Miami       FL  25.7840  -80.2101     America/New_York   \n",
       "4            Dallas       TX  32.7935  -96.7667      America/Chicago   \n",
       "...             ...      ...      ...       ...                  ...   \n",
       "30404      Drummond       ID  43.9996 -111.3433        America/Boise   \n",
       "30405  Lost Springs       WY  42.7652 -104.9255       America/Denver   \n",
       "30406         Provo       SD  43.1937 -103.8329       America/Denver   \n",
       "30407     Goldcreek       MT  46.5838 -112.9284       America/Denver   \n",
       "30408        Le Roy       IA  40.8779  -93.5926      America/Chicago   \n",
       "\n",
       "             city_state  \n",
       "0          New York, NY  \n",
       "1       Los Angeles, CA  \n",
       "2           Chicago, IL  \n",
       "3             Miami, FL  \n",
       "4            Dallas, TX  \n",
       "...                 ...  \n",
       "30404      Drummond, ID  \n",
       "30405  Lost Springs, WY  \n",
       "30406         Provo, SD  \n",
       "30407     Goldcreek, MT  \n",
       "30408        Le Roy, IA  \n",
       "\n",
       "[30351 rows x 6 columns]"
      ]
     },
     "execution_count": 12,
     "metadata": {},
     "output_type": "execute_result"
    }
   ],
   "source": [
    "latlong_df"
   ]
  },
  {
   "cell_type": "markdown",
   "id": "41bda490-b3d9-4bc0-8701-41d720c0c43e",
   "metadata": {},
   "source": [
    "### API functions"
   ]
  },
  {
   "cell_type": "markdown",
   "id": "a467efc9-c0f8-48e8-bada-30cec238a47b",
   "metadata": {},
   "source": [
    "************* THIS IS WHERE WE WOULD LOAD THE FUNCTIONS INSTEAD ****************"
   ]
  },
  {
   "cell_type": "code",
   "execution_count": 13,
   "id": "093687ff-cbfc-4853-8fc5-3c96442ec60a",
   "metadata": {},
   "outputs": [],
   "source": [
    "#open weather api function\n",
    "def open_weather_api(lat, long, date, timezone = \"America%2FChicago\"):\n",
    "    \"\"\"\n",
    "    function returns individual api calls by location and date. \n",
    "    \"\"\"\n",
    "    #timezone = America%2FChicago #timezone format, opportunity to fine tune this - doesn't work for some reason, I think formatting\n",
    "    \n",
    "    url = f\"https://archive-api.open-meteo.com/v1/era5?latitude={lat}&longitude={long}&start_date={date}&end_date={date}&hourly=precipitation,rain,snowfall,cloudcover&daily=precipitation_sum,rain_sum,snowfall_sum,precipitation_hours&timezone={timezone}\"\n",
    "    response = requests.get(url)\n",
    "    return response.json()"
   ]
  },
  {
   "cell_type": "code",
   "execution_count": 14,
   "id": "68b244a2-3290-4e3b-a641-2774ffd4a9de",
   "metadata": {
    "collapsed": true,
    "jupyter": {
     "outputs_hidden": true
    },
    "tags": []
   },
   "outputs": [
    {
     "data": {
      "text/plain": [
       "{'latitude': 41.75,\n",
       " 'longitude': -87.75,\n",
       " 'generationtime_ms': 0.4220008850097656,\n",
       " 'utc_offset_seconds': -14400,\n",
       " 'timezone': 'America/New_York',\n",
       " 'timezone_abbreviation': 'EDT',\n",
       " 'elevation': 192.0,\n",
       " 'hourly_units': {'time': 'iso8601',\n",
       "  'precipitation': 'mm',\n",
       "  'rain': 'mm',\n",
       "  'snowfall': 'cm',\n",
       "  'cloudcover': '%'},\n",
       " 'hourly': {'time': ['2018-10-25T00:00',\n",
       "   '2018-10-25T01:00',\n",
       "   '2018-10-25T02:00',\n",
       "   '2018-10-25T03:00',\n",
       "   '2018-10-25T04:00',\n",
       "   '2018-10-25T05:00',\n",
       "   '2018-10-25T06:00',\n",
       "   '2018-10-25T07:00',\n",
       "   '2018-10-25T08:00',\n",
       "   '2018-10-25T09:00',\n",
       "   '2018-10-25T10:00',\n",
       "   '2018-10-25T11:00',\n",
       "   '2018-10-25T12:00',\n",
       "   '2018-10-25T13:00',\n",
       "   '2018-10-25T14:00',\n",
       "   '2018-10-25T15:00',\n",
       "   '2018-10-25T16:00',\n",
       "   '2018-10-25T17:00',\n",
       "   '2018-10-25T18:00',\n",
       "   '2018-10-25T19:00',\n",
       "   '2018-10-25T20:00',\n",
       "   '2018-10-25T21:00',\n",
       "   '2018-10-25T22:00',\n",
       "   '2018-10-25T23:00'],\n",
       "  'precipitation': [0.0,\n",
       "   0.0,\n",
       "   0.0,\n",
       "   0.0,\n",
       "   0.0,\n",
       "   0.0,\n",
       "   0.0,\n",
       "   0.0,\n",
       "   0.0,\n",
       "   0.0,\n",
       "   0.0,\n",
       "   0.0,\n",
       "   0.0,\n",
       "   0.0,\n",
       "   0.0,\n",
       "   0.0,\n",
       "   0.0,\n",
       "   0.0,\n",
       "   0.0,\n",
       "   0.0,\n",
       "   0.0,\n",
       "   0.0,\n",
       "   0.0,\n",
       "   0.0],\n",
       "  'rain': [0.0,\n",
       "   0.0,\n",
       "   0.0,\n",
       "   0.0,\n",
       "   0.0,\n",
       "   0.0,\n",
       "   0.0,\n",
       "   0.0,\n",
       "   0.0,\n",
       "   0.0,\n",
       "   0.0,\n",
       "   0.0,\n",
       "   0.0,\n",
       "   0.0,\n",
       "   0.0,\n",
       "   0.0,\n",
       "   0.0,\n",
       "   0.0,\n",
       "   0.0,\n",
       "   0.0,\n",
       "   0.0,\n",
       "   0.0,\n",
       "   0.0,\n",
       "   0.0],\n",
       "  'snowfall': [0.0,\n",
       "   0.0,\n",
       "   0.0,\n",
       "   0.0,\n",
       "   0.0,\n",
       "   0.0,\n",
       "   0.0,\n",
       "   0.0,\n",
       "   0.0,\n",
       "   0.0,\n",
       "   0.0,\n",
       "   0.0,\n",
       "   0.0,\n",
       "   0.0,\n",
       "   0.0,\n",
       "   0.0,\n",
       "   0.0,\n",
       "   0.0,\n",
       "   0.0,\n",
       "   0.0,\n",
       "   0.0,\n",
       "   0.0,\n",
       "   0.0,\n",
       "   0.0],\n",
       "  'cloudcover': [30,\n",
       "   10,\n",
       "   29,\n",
       "   30,\n",
       "   36,\n",
       "   34,\n",
       "   34,\n",
       "   31,\n",
       "   30,\n",
       "   30,\n",
       "   32,\n",
       "   30,\n",
       "   35,\n",
       "   67,\n",
       "   85,\n",
       "   88,\n",
       "   89,\n",
       "   89,\n",
       "   77,\n",
       "   81,\n",
       "   81,\n",
       "   77,\n",
       "   75,\n",
       "   82]},\n",
       " 'daily_units': {'time': 'iso8601',\n",
       "  'precipitation_sum': 'mm',\n",
       "  'rain_sum': 'mm',\n",
       "  'snowfall_sum': 'cm',\n",
       "  'precipitation_hours': 'h'},\n",
       " 'daily': {'time': ['2018-10-25'],\n",
       "  'precipitation_sum': [0.0],\n",
       "  'rain_sum': [0.0],\n",
       "  'snowfall_sum': [0.0],\n",
       "  'precipitation_hours': [0.0]}}"
      ]
     },
     "execution_count": 14,
     "metadata": {},
     "output_type": "execute_result"
    }
   ],
   "source": [
    "test_api = open_weather_api(\"41.75\",\"-87.75\",\"2018-10-25\", \"America%2FNew_York\")\n",
    "test_api"
   ]
  },
  {
   "cell_type": "code",
   "execution_count": 16,
   "id": "57f9632e-9e04-4247-96cc-bf17a0cd2bee",
   "metadata": {},
   "outputs": [],
   "source": [
    "def city_scrubber(city_str):\n",
    "    \"\"\"\n",
    "    city name will be scrubbed to remove multiple names\n",
    "    Dallas/Fort Something, TX -----> Dallas, TX\n",
    "    \"\"\"\n",
    "    try:\n",
    "        state = city_str.split(',')       #split city(s) and state\n",
    "        cities = state[0].split('/')      #split the list of cities by /\n",
    "        return cities[0] + ',' + state[1]\n",
    "    except: \n",
    "        return \"no state in your city string\""
   ]
  },
  {
   "cell_type": "code",
   "execution_count": 17,
   "id": "2623693d-2917-4ac3-86eb-69a53c0edcad",
   "metadata": {},
   "outputs": [
    {
     "data": {
      "text/plain": [
       "'Dallas, TX'"
      ]
     },
     "execution_count": 17,
     "metadata": {},
     "output_type": "execute_result"
    }
   ],
   "source": [
    "#test\n",
    "city_scrubber(\"Dallas/Fort Something, TX\")"
   ]
  },
  {
   "cell_type": "code",
   "execution_count": 18,
   "id": "8608d666-fe6d-40b4-b251-f5b353634aeb",
   "metadata": {},
   "outputs": [
    {
     "data": {
      "text/plain": [
       "'Austin, TX'"
      ]
     },
     "execution_count": 18,
     "metadata": {},
     "output_type": "execute_result"
    }
   ],
   "source": [
    "city_scrubber(\"Austin, TX\")"
   ]
  },
  {
   "cell_type": "code",
   "execution_count": 19,
   "id": "fdd6ca03-33f8-42af-ae2d-40e83b98b2df",
   "metadata": {},
   "outputs": [
    {
     "data": {
      "text/plain": [
       "'no state in your city string'"
      ]
     },
     "execution_count": 19,
     "metadata": {},
     "output_type": "execute_result"
    }
   ],
   "source": [
    "city_scrubber(\"Austin\")"
   ]
  },
  {
   "cell_type": "code",
   "execution_count": 20,
   "id": "85be5e75-fe0d-498a-a9c2-c2f91226e9c4",
   "metadata": {},
   "outputs": [],
   "source": [
    "#function that returns the weather condition for a date/city\n",
    "def weather_condition(city, date, lat_long_df):\n",
    "    \"\"\"\n",
    "    returns the weather condition for a single date/city. \n",
    "    city format \"city, ST\"\n",
    "    date format \"2020-01-01\"\n",
    "    \"\"\"\n",
    "    #scrub city\n",
    "    #print(city)\n",
    "    city_scrub = city_scrubber(city)\n",
    "    if city_scrub == 'no state in your city string':\n",
    "        return city_scrub, city\n",
    "    \n",
    "    #pull the lat and long for city\n",
    "    lat = None\n",
    "    long = None\n",
    "    try:\n",
    "        lat = float(lat_long_df['lat'][lat_long_df['city_state'] == city_scrub])\n",
    "        long = float(lat_long_df['lng'][lat_long_df['city_state'] == city_scrub])\n",
    "    except:\n",
    "        print(lat, long, city)\n",
    "        pass\n",
    "    \n",
    "    #call the weather api\n",
    "    if lat and long:         #none is False\n",
    "        json_result = open_weather_api(lat, long, date)\n",
    "        #print(json_result)\n",
    "        try:\n",
    "            total_rain = int(json_result['daily']['rain_sum'][0])                  # mm\n",
    "        except: \n",
    "            total_rain = None\n",
    "        try:\n",
    "            total_snow = int(json_result['daily']['snowfall_sum'][0])              # cm        \n",
    "        except:\n",
    "            total_snow = None\n",
    "        try:\n",
    "            cloudcover_mean = round(sum(json_result['hourly']['cloudcover'])/len(json_result['hourly']['cloudcover']))     # %\n",
    "        except:\n",
    "            cloudcover_mean = None\n",
    "\n",
    "        if total_rain is None and total_snow is None and cloudcover_mean is None:\n",
    "            result = \"no weather data\"    \n",
    "        elif total_rain == 0 and total_snow == 0 and cloudcover_mean < 40:\n",
    "            result = \"sunny\"\n",
    "        elif total_rain == 0 and total_snow == 0 and cloudcover_mean >= 40:\n",
    "            result = \"cloudy\"\n",
    "        elif total_rain > 0 and total_snow == 0:\n",
    "            result = \"rain\"\n",
    "        elif total_rain == 0 and total_snow > 0:\n",
    "            result = \"snow\"\n",
    "        elif total_rain > 0 and total_snow > 0:\n",
    "            result = \"snow & rain\"\n",
    "        else:\n",
    "            result = f\"Error, total rain: {total_rain}, total snow: {total_snow}, mean cloud: {cloudcover_mean}\"\n",
    "\n",
    "        return result  "
   ]
  },
  {
   "cell_type": "code",
   "execution_count": 21,
   "id": "c7d5d1a8-b4f7-427b-a09a-4ebd4c3503d0",
   "metadata": {},
   "outputs": [
    {
     "data": {
      "text/plain": [
       "18    39.762\n",
       "Name: lat, dtype: float64"
      ]
     },
     "execution_count": 21,
     "metadata": {},
     "output_type": "execute_result"
    }
   ],
   "source": [
    "latlong_df['lat'][latlong_df['city_state'] == \"Denver, CO\"]"
   ]
  },
  {
   "cell_type": "code",
   "execution_count": 22,
   "id": "dffcc127-0978-48f6-b6ce-1ff60a6cabc9",
   "metadata": {
    "tags": []
   },
   "outputs": [
    {
     "data": {
      "text/plain": [
       "'sunny'"
      ]
     },
     "execution_count": 22,
     "metadata": {},
     "output_type": "execute_result"
    }
   ],
   "source": [
    "#test\n",
    "weather_condition(\"Denver, CO\", \"2019-11-23\", latlong_df)"
   ]
  },
  {
   "cell_type": "markdown",
   "id": "eafa9a45-4cd6-42dd-80c3-a3ddf4ac0cdf",
   "metadata": {},
   "source": [
    "## Run the API call on our data"
   ]
  },
  {
   "cell_type": "code",
   "execution_count": 102,
   "id": "d1dda1f2-7d78-4b26-9449-922c5b5e5179",
   "metadata": {},
   "outputs": [],
   "source": [
    "from tqdm import tqdm           #to display the progress"
   ]
  },
  {
   "cell_type": "code",
   "execution_count": 27,
   "id": "a3b559d6-7dfa-4c7f-b633-58d9222277c7",
   "metadata": {
    "collapsed": true,
    "jupyter": {
     "outputs_hidden": true
    },
    "tags": []
   },
   "outputs": [
    {
     "name": "stderr",
     "output_type": "stream",
     "text": [
      "  0%|                                                                                         | 0/2450 [00:00<?, ?it/s]C:\\Users\\3_hal\\AppData\\Local\\Temp\\ipykernel_22196\\3046711196.py:2: SettingWithCopyWarning: \n",
      "A value is trying to be set on a copy of a slice from a DataFrame\n",
      "\n",
      "See the caveats in the documentation: https://pandas.pydata.org/pandas-docs/stable/user_guide/indexing.html#returning-a-view-versus-a-copy\n",
      "  flight_unique['weather_categ'][row] = weather_condition(flight_unique['city'][row], flight_unique['fl_date'][row], latlong_df)\n",
      "  0%|                                                                                 | 2/2450 [00:00<13:42,  2.98it/s]"
     ]
    },
    {
     "name": "stdout",
     "output_type": "stream",
     "text": [
      "None None Adak Island, AK\n"
     ]
    },
    {
     "name": "stderr",
     "output_type": "stream",
     "text": [
      "  1%|▌                                                                               | 16/2450 [00:05<13:55,  2.91it/s]"
     ]
    },
    {
     "name": "stdout",
     "output_type": "stream",
     "text": [
      "None None Ashland, WV\n"
     ]
    },
    {
     "name": "stderr",
     "output_type": "stream",
     "text": [
      "  1%|▊                                                                               | 25/2450 [00:08<17:04,  2.37it/s]"
     ]
    },
    {
     "name": "stdout",
     "output_type": "stream",
     "text": [
      "None None Barrow, AK\n"
     ]
    },
    {
     "name": "stderr",
     "output_type": "stream",
     "text": [
      "  2%|█▊                                                                              | 56/2450 [00:22<31:06,  1.28it/s]"
     ]
    },
    {
     "name": "stdout",
     "output_type": "stream",
     "text": [
      "None None Charlotte Amalie, VI\n"
     ]
    },
    {
     "name": "stderr",
     "output_type": "stream",
     "text": [
      "  3%|██                                                                              | 62/2450 [00:24<18:24,  2.16it/s]"
     ]
    },
    {
     "name": "stdout",
     "output_type": "stream",
     "text": [
      "None None Christiansted, VI\n"
     ]
    },
    {
     "name": "stderr",
     "output_type": "stream",
     "text": [
      "  3%|██▌                                                                             | 80/2450 [00:31<13:34,  2.91it/s]"
     ]
    },
    {
     "name": "stdout",
     "output_type": "stream",
     "text": [
      "None None Deadhorse, AK\n"
     ]
    },
    {
     "name": "stderr",
     "output_type": "stream",
     "text": [
      "  3%|██▊                                                                             | 85/2450 [00:33<19:04,  2.07it/s]"
     ]
    },
    {
     "name": "stdout",
     "output_type": "stream",
     "text": [
      "None None Devils Lake, ND\n"
     ]
    },
    {
     "name": "stderr",
     "output_type": "stream",
     "text": [
      "  5%|████                                                                           | 125/2450 [00:49<13:37,  2.84it/s]"
     ]
    },
    {
     "name": "stdout",
     "output_type": "stream",
     "text": [
      "None None Guam, TT\n"
     ]
    },
    {
     "name": "stderr",
     "output_type": "stream",
     "text": [
      "  6%|████▍                                                                          | 138/2450 [00:55<20:48,  1.85it/s]"
     ]
    },
    {
     "name": "stdout",
     "output_type": "stream",
     "text": [
      "None None Hilton Head, SC\n"
     ]
    },
    {
     "name": "stderr",
     "output_type": "stream",
     "text": [
      "  6%|████▌                                                                          | 141/2450 [00:55<14:22,  2.68it/s]"
     ]
    },
    {
     "name": "stdout",
     "output_type": "stream",
     "text": [
      "None None Hoolehua, HI\n"
     ]
    },
    {
     "name": "stderr",
     "output_type": "stream",
     "text": [
      "  6%|████▊                                                                          | 148/2450 [00:57<12:37,  3.04it/s]"
     ]
    },
    {
     "name": "stdout",
     "output_type": "stream",
     "text": [
      "None None Islip, NY\n"
     ]
    },
    {
     "name": "stderr",
     "output_type": "stream",
     "text": [
      "  7%|█████▍                                                                         | 168/2450 [01:06<21:28,  1.77it/s]"
     ]
    },
    {
     "name": "stdout",
     "output_type": "stream",
     "text": [
      "None None Kona, HI\n"
     ]
    },
    {
     "name": "stderr",
     "output_type": "stream",
     "text": [
      "  7%|█████▌                                                                         | 173/2450 [01:08<16:22,  2.32it/s]"
     ]
    },
    {
     "name": "stdout",
     "output_type": "stream",
     "text": [
      "None None Lanai, HI\n"
     ]
    },
    {
     "name": "stderr",
     "output_type": "stream",
     "text": [
      "  9%|███████▎                                                                       | 225/2450 [01:29<13:29,  2.75it/s]"
     ]
    },
    {
     "name": "stdout",
     "output_type": "stream",
     "text": [
      "None None Newburgh/Poughkeepsie, NY\n"
     ]
    },
    {
     "name": "stderr",
     "output_type": "stream",
     "text": [
      " 11%|████████▉                                                                      | 277/2450 [01:47<12:22,  2.92it/s]"
     ]
    },
    {
     "name": "stdout",
     "output_type": "stream",
     "text": [
      "None None Saipan, TT\n"
     ]
    },
    {
     "name": "stderr",
     "output_type": "stream",
     "text": [
      " 15%|███████████▋                                                                   | 363/2450 [02:16<11:46,  2.95it/s]"
     ]
    },
    {
     "name": "stdout",
     "output_type": "stream",
     "text": [
      "None None Ashland, WV\n"
     ]
    },
    {
     "name": "stderr",
     "output_type": "stream",
     "text": [
      " 15%|███████████▉                                                                   | 372/2450 [02:19<11:10,  3.10it/s]"
     ]
    },
    {
     "name": "stdout",
     "output_type": "stream",
     "text": [
      "None None Barrow, AK\n"
     ]
    },
    {
     "name": "stderr",
     "output_type": "stream",
     "text": [
      " 16%|████████████▉                                                                  | 403/2450 [02:30<11:37,  2.93it/s]"
     ]
    },
    {
     "name": "stdout",
     "output_type": "stream",
     "text": [
      "None None Charlotte Amalie, VI\n"
     ]
    },
    {
     "name": "stderr",
     "output_type": "stream",
     "text": [
      " 17%|█████████████▏                                                                 | 409/2450 [02:31<11:00,  3.09it/s]"
     ]
    },
    {
     "name": "stdout",
     "output_type": "stream",
     "text": [
      "None None Christiansted, VI\n"
     ]
    },
    {
     "name": "stderr",
     "output_type": "stream",
     "text": [
      " 17%|█████████████▊                                                                 | 428/2450 [02:37<11:22,  2.96it/s]"
     ]
    },
    {
     "name": "stdout",
     "output_type": "stream",
     "text": [
      "None None Deadhorse, AK\n"
     ]
    },
    {
     "name": "stderr",
     "output_type": "stream",
     "text": [
      " 18%|█████████████▉                                                                 | 433/2450 [02:39<10:45,  3.12it/s]"
     ]
    },
    {
     "name": "stdout",
     "output_type": "stream",
     "text": [
      "None None Devils Lake, ND\n"
     ]
    },
    {
     "name": "stderr",
     "output_type": "stream",
     "text": [
      " 19%|███████████████▎                                                               | 473/2450 [02:52<11:23,  2.89it/s]"
     ]
    },
    {
     "name": "stdout",
     "output_type": "stream",
     "text": [
      "None None Guam, TT\n"
     ]
    },
    {
     "name": "stderr",
     "output_type": "stream",
     "text": [
      " 20%|███████████████▋                                                               | 487/2450 [02:57<11:27,  2.86it/s]"
     ]
    },
    {
     "name": "stdout",
     "output_type": "stream",
     "text": [
      "None None Hilton Head, SC\n"
     ]
    },
    {
     "name": "stderr",
     "output_type": "stream",
     "text": [
      " 20%|███████████████▊                                                               | 490/2450 [02:58<09:15,  3.53it/s]"
     ]
    },
    {
     "name": "stdout",
     "output_type": "stream",
     "text": [
      "None None Hoolehua, HI\n"
     ]
    },
    {
     "name": "stderr",
     "output_type": "stream",
     "text": [
      " 20%|████████████████                                                               | 497/2450 [03:00<10:27,  3.11it/s]"
     ]
    },
    {
     "name": "stdout",
     "output_type": "stream",
     "text": [
      "None None Islip, NY\n"
     ]
    },
    {
     "name": "stderr",
     "output_type": "stream",
     "text": [
      " 21%|████████████████▋                                                              | 517/2450 [03:06<11:08,  2.89it/s]"
     ]
    },
    {
     "name": "stdout",
     "output_type": "stream",
     "text": [
      "None None Kona, HI\n"
     ]
    },
    {
     "name": "stderr",
     "output_type": "stream",
     "text": [
      " 21%|████████████████▊                                                              | 522/2450 [03:08<10:08,  3.17it/s]"
     ]
    },
    {
     "name": "stdout",
     "output_type": "stream",
     "text": [
      "None None Lanai, HI\n"
     ]
    },
    {
     "name": "stderr",
     "output_type": "stream",
     "text": [
      " 23%|██████████████████▌                                                            | 574/2450 [03:25<10:45,  2.90it/s]"
     ]
    },
    {
     "name": "stdout",
     "output_type": "stream",
     "text": [
      "None None Newburgh/Poughkeepsie, NY\n"
     ]
    },
    {
     "name": "stderr",
     "output_type": "stream",
     "text": [
      " 24%|██████████████████▉                                                            | 588/2450 [03:30<10:46,  2.88it/s]"
     ]
    },
    {
     "name": "stdout",
     "output_type": "stream",
     "text": [
      "None None Pago Pago, TT\n"
     ]
    },
    {
     "name": "stderr",
     "output_type": "stream",
     "text": [
      " 26%|████████████████████▏                                                          | 627/2450 [03:43<10:19,  2.94it/s]"
     ]
    },
    {
     "name": "stdout",
     "output_type": "stream",
     "text": [
      "None None Saipan, TT\n"
     ]
    },
    {
     "name": "stderr",
     "output_type": "stream",
     "text": [
      " 29%|██████████████████████▉                                                        | 713/2450 [04:12<09:54,  2.92it/s]"
     ]
    },
    {
     "name": "stdout",
     "output_type": "stream",
     "text": [
      "None None Ashland, WV\n"
     ]
    },
    {
     "name": "stderr",
     "output_type": "stream",
     "text": [
      " 29%|███████████████████████▎                                                       | 722/2450 [04:15<09:45,  2.95it/s]"
     ]
    },
    {
     "name": "stdout",
     "output_type": "stream",
     "text": [
      "None None Barrow, AK\n"
     ]
    },
    {
     "name": "stderr",
     "output_type": "stream",
     "text": [
      " 31%|████████████████████████▎                                                      | 753/2450 [04:25<09:35,  2.95it/s]"
     ]
    },
    {
     "name": "stdout",
     "output_type": "stream",
     "text": [
      "None None Charlotte Amalie, VI\n"
     ]
    },
    {
     "name": "stderr",
     "output_type": "stream",
     "text": [
      " 31%|████████████████████████▍                                                      | 759/2450 [04:27<09:02,  3.12it/s]"
     ]
    },
    {
     "name": "stdout",
     "output_type": "stream",
     "text": [
      "None None Christiansted, VI\n"
     ]
    },
    {
     "name": "stderr",
     "output_type": "stream",
     "text": [
      " 32%|█████████████████████████                                                      | 778/2450 [04:33<09:35,  2.90it/s]"
     ]
    },
    {
     "name": "stdout",
     "output_type": "stream",
     "text": [
      "None None Deadhorse, AK\n"
     ]
    },
    {
     "name": "stderr",
     "output_type": "stream",
     "text": [
      " 32%|█████████████████████████▏                                                     | 783/2450 [04:34<08:30,  3.26it/s]"
     ]
    },
    {
     "name": "stdout",
     "output_type": "stream",
     "text": [
      "None None Devils Lake, ND\n"
     ]
    },
    {
     "name": "stderr",
     "output_type": "stream",
     "text": [
      " 34%|██████████████████████████▌                                                    | 823/2450 [04:48<09:08,  2.96it/s]"
     ]
    },
    {
     "name": "stdout",
     "output_type": "stream",
     "text": [
      "None None Guam, TT\n"
     ]
    },
    {
     "name": "stderr",
     "output_type": "stream",
     "text": [
      " 34%|██████████████████████████▉                                                    | 837/2450 [04:52<09:05,  2.96it/s]"
     ]
    },
    {
     "name": "stdout",
     "output_type": "stream",
     "text": [
      "None None Hilton Head, SC\n"
     ]
    },
    {
     "name": "stderr",
     "output_type": "stream",
     "text": [
      " 34%|███████████████████████████                                                    | 840/2450 [04:53<07:43,  3.47it/s]"
     ]
    },
    {
     "name": "stdout",
     "output_type": "stream",
     "text": [
      "None None Hoolehua, HI\n"
     ]
    },
    {
     "name": "stderr",
     "output_type": "stream",
     "text": [
      " 35%|███████████████████████████▎                                                   | 847/2450 [04:55<08:40,  3.08it/s]"
     ]
    },
    {
     "name": "stdout",
     "output_type": "stream",
     "text": [
      "None None Islip, NY\n"
     ]
    },
    {
     "name": "stderr",
     "output_type": "stream",
     "text": [
      " 35%|███████████████████████████▉                                                   | 867/2450 [05:02<09:18,  2.83it/s]"
     ]
    },
    {
     "name": "stdout",
     "output_type": "stream",
     "text": [
      "None None Kona, HI\n"
     ]
    },
    {
     "name": "stderr",
     "output_type": "stream",
     "text": [
      " 36%|████████████████████████████                                                   | 872/2450 [05:03<08:14,  3.19it/s]"
     ]
    },
    {
     "name": "stdout",
     "output_type": "stream",
     "text": [
      "None None Lanai, HI\n"
     ]
    },
    {
     "name": "stderr",
     "output_type": "stream",
     "text": [
      " 38%|█████████████████████████████▊                                                 | 924/2450 [05:20<08:41,  2.93it/s]"
     ]
    },
    {
     "name": "stdout",
     "output_type": "stream",
     "text": [
      "None None Newburgh/Poughkeepsie, NY\n"
     ]
    },
    {
     "name": "stderr",
     "output_type": "stream",
     "text": [
      " 40%|███████████████████████████████▌                                               | 979/2450 [05:39<08:28,  2.89it/s]"
     ]
    },
    {
     "name": "stdout",
     "output_type": "stream",
     "text": [
      "None None Saipan, TT\n"
     ]
    },
    {
     "name": "stderr",
     "output_type": "stream",
     "text": [
      " 43%|█████████████████████████████████▌                                            | 1053/2450 [06:04<08:09,  2.86it/s]"
     ]
    },
    {
     "name": "stdout",
     "output_type": "stream",
     "text": [
      "None None Adak Island, AK\n"
     ]
    },
    {
     "name": "stderr",
     "output_type": "stream",
     "text": [
      " 44%|█████████████████████████████████▉                                            | 1067/2450 [06:09<08:00,  2.88it/s]"
     ]
    },
    {
     "name": "stdout",
     "output_type": "stream",
     "text": [
      "None None Ashland, WV\n"
     ]
    },
    {
     "name": "stderr",
     "output_type": "stream",
     "text": [
      " 44%|██████████████████████████████████▎                                           | 1076/2450 [06:12<08:03,  2.84it/s]"
     ]
    },
    {
     "name": "stdout",
     "output_type": "stream",
     "text": [
      "None None Barrow, AK\n"
     ]
    },
    {
     "name": "stderr",
     "output_type": "stream",
     "text": [
      " 45%|███████████████████████████████████▏                                          | 1107/2450 [06:22<07:40,  2.92it/s]"
     ]
    },
    {
     "name": "stdout",
     "output_type": "stream",
     "text": [
      "None None Charlotte Amalie, VI\n"
     ]
    },
    {
     "name": "stderr",
     "output_type": "stream",
     "text": [
      " 45%|███████████████████████████████████▍                                          | 1113/2450 [06:24<08:24,  2.65it/s]"
     ]
    },
    {
     "name": "stdout",
     "output_type": "stream",
     "text": [
      "None None Christiansted, VI\n"
     ]
    },
    {
     "name": "stderr",
     "output_type": "stream",
     "text": [
      " 46%|████████████████████████████████████                                          | 1132/2450 [06:31<07:24,  2.97it/s]"
     ]
    },
    {
     "name": "stdout",
     "output_type": "stream",
     "text": [
      "None None Deadhorse, AK\n"
     ]
    },
    {
     "name": "stderr",
     "output_type": "stream",
     "text": [
      " 46%|████████████████████████████████████▏                                         | 1137/2450 [06:32<06:54,  3.17it/s]"
     ]
    },
    {
     "name": "stdout",
     "output_type": "stream",
     "text": [
      "None None Devils Lake, ND\n"
     ]
    },
    {
     "name": "stderr",
     "output_type": "stream",
     "text": [
      " 48%|█████████████████████████████████████▍                                        | 1177/2450 [06:45<07:18,  2.90it/s]"
     ]
    },
    {
     "name": "stdout",
     "output_type": "stream",
     "text": [
      "None None Guam, TT\n"
     ]
    },
    {
     "name": "stderr",
     "output_type": "stream",
     "text": [
      " 49%|█████████████████████████████████████▉                                        | 1191/2450 [06:50<07:26,  2.82it/s]"
     ]
    },
    {
     "name": "stdout",
     "output_type": "stream",
     "text": [
      "None None Hilton Head, SC\n"
     ]
    },
    {
     "name": "stderr",
     "output_type": "stream",
     "text": [
      " 49%|██████████████████████████████████████                                        | 1194/2450 [06:51<06:03,  3.45it/s]"
     ]
    },
    {
     "name": "stdout",
     "output_type": "stream",
     "text": [
      "None None Hoolehua, HI\n"
     ]
    },
    {
     "name": "stderr",
     "output_type": "stream",
     "text": [
      " 49%|██████████████████████████████████████▏                                       | 1201/2450 [06:53<06:44,  3.09it/s]"
     ]
    },
    {
     "name": "stdout",
     "output_type": "stream",
     "text": [
      "None None Islip, NY\n"
     ]
    },
    {
     "name": "stderr",
     "output_type": "stream",
     "text": [
      " 50%|██████████████████████████████████████▊                                       | 1221/2450 [06:59<07:00,  2.92it/s]"
     ]
    },
    {
     "name": "stdout",
     "output_type": "stream",
     "text": [
      "None None Kona, HI\n"
     ]
    },
    {
     "name": "stderr",
     "output_type": "stream",
     "text": [
      " 50%|███████████████████████████████████████                                       | 1226/2450 [07:00<06:13,  3.28it/s]"
     ]
    },
    {
     "name": "stdout",
     "output_type": "stream",
     "text": [
      "None None Lanai, HI\n"
     ]
    },
    {
     "name": "stderr",
     "output_type": "stream",
     "text": [
      " 52%|████████████████████████████████████████▋                                     | 1278/2450 [07:18<06:43,  2.90it/s]"
     ]
    },
    {
     "name": "stdout",
     "output_type": "stream",
     "text": [
      "None None Newburgh/Poughkeepsie, NY\n"
     ]
    },
    {
     "name": "stderr",
     "output_type": "stream",
     "text": [
      " 54%|██████████████████████████████████████████▎                                   | 1331/2450 [07:37<06:33,  2.85it/s]"
     ]
    },
    {
     "name": "stdout",
     "output_type": "stream",
     "text": [
      "None None Saipan, TT\n"
     ]
    },
    {
     "name": "stderr",
     "output_type": "stream",
     "text": [
      " 58%|█████████████████████████████████████████████▏                                | 1418/2450 [08:07<06:10,  2.79it/s]"
     ]
    },
    {
     "name": "stdout",
     "output_type": "stream",
     "text": [
      "None None Ashland, WV\n"
     ]
    },
    {
     "name": "stderr",
     "output_type": "stream",
     "text": [
      " 58%|█████████████████████████████████████████████▍                                | 1427/2450 [08:09<05:47,  2.94it/s]"
     ]
    },
    {
     "name": "stdout",
     "output_type": "stream",
     "text": [
      "None None Barrow, AK\n"
     ]
    },
    {
     "name": "stderr",
     "output_type": "stream",
     "text": [
      " 60%|██████████████████████████████████████████████▍                               | 1458/2450 [08:20<05:39,  2.92it/s]"
     ]
    },
    {
     "name": "stdout",
     "output_type": "stream",
     "text": [
      "None None Charlotte Amalie, VI\n"
     ]
    },
    {
     "name": "stderr",
     "output_type": "stream",
     "text": [
      " 60%|██████████████████████████████████████████████▌                               | 1464/2450 [08:22<05:16,  3.11it/s]"
     ]
    },
    {
     "name": "stdout",
     "output_type": "stream",
     "text": [
      "None None Christiansted, VI\n"
     ]
    },
    {
     "name": "stderr",
     "output_type": "stream",
     "text": [
      " 61%|███████████████████████████████████████████████▏                              | 1483/2450 [08:28<05:36,  2.88it/s]"
     ]
    },
    {
     "name": "stdout",
     "output_type": "stream",
     "text": [
      "None None Deadhorse, AK\n"
     ]
    },
    {
     "name": "stderr",
     "output_type": "stream",
     "text": [
      " 61%|███████████████████████████████████████████████▎                              | 1488/2450 [08:29<04:58,  3.23it/s]"
     ]
    },
    {
     "name": "stdout",
     "output_type": "stream",
     "text": [
      "None None Devils Lake, ND\n"
     ]
    },
    {
     "name": "stderr",
     "output_type": "stream",
     "text": [
      " 62%|████████████████████████████████████████████████▋                             | 1528/2450 [08:43<05:19,  2.89it/s]"
     ]
    },
    {
     "name": "stdout",
     "output_type": "stream",
     "text": [
      "None None Guam, TT\n"
     ]
    },
    {
     "name": "stderr",
     "output_type": "stream",
     "text": [
      " 63%|█████████████████████████████████████████████████                             | 1542/2450 [08:47<05:05,  2.97it/s]"
     ]
    },
    {
     "name": "stdout",
     "output_type": "stream",
     "text": [
      "None None Hilton Head, SC\n"
     ]
    },
    {
     "name": "stderr",
     "output_type": "stream",
     "text": [
      " 63%|█████████████████████████████████████████████████▏                            | 1545/2450 [08:48<04:15,  3.54it/s]"
     ]
    },
    {
     "name": "stdout",
     "output_type": "stream",
     "text": [
      "None None Hoolehua, HI\n"
     ]
    },
    {
     "name": "stderr",
     "output_type": "stream",
     "text": [
      " 63%|█████████████████████████████████████████████████▍                            | 1552/2450 [08:50<04:43,  3.17it/s]"
     ]
    },
    {
     "name": "stdout",
     "output_type": "stream",
     "text": [
      "None None Islip, NY\n"
     ]
    },
    {
     "name": "stderr",
     "output_type": "stream",
     "text": [
      " 64%|██████████████████████████████████████████████████                            | 1572/2450 [08:56<05:07,  2.86it/s]"
     ]
    },
    {
     "name": "stdout",
     "output_type": "stream",
     "text": [
      "None None Kona, HI\n"
     ]
    },
    {
     "name": "stderr",
     "output_type": "stream",
     "text": [
      " 64%|██████████████████████████████████████████████████▏                           | 1577/2450 [08:58<04:28,  3.25it/s]"
     ]
    },
    {
     "name": "stdout",
     "output_type": "stream",
     "text": [
      "None None Lanai, HI\n"
     ]
    },
    {
     "name": "stderr",
     "output_type": "stream",
     "text": [
      " 66%|███████████████████████████████████████████████████▊                          | 1629/2450 [09:15<04:41,  2.92it/s]"
     ]
    },
    {
     "name": "stdout",
     "output_type": "stream",
     "text": [
      "None None Newburgh/Poughkeepsie, NY\n"
     ]
    },
    {
     "name": "stderr",
     "output_type": "stream",
     "text": [
      " 69%|█████████████████████████████████████████████████████▌                        | 1681/2450 [09:33<04:21,  2.94it/s]"
     ]
    },
    {
     "name": "stdout",
     "output_type": "stream",
     "text": [
      "None None Saipan, TT\n"
     ]
    },
    {
     "name": "stderr",
     "output_type": "stream",
     "text": [
      " 72%|████████████████████████████████████████████████████████▎                     | 1768/2450 [10:03<04:03,  2.80it/s]"
     ]
    },
    {
     "name": "stdout",
     "output_type": "stream",
     "text": [
      "None None Ashland, WV\n"
     ]
    },
    {
     "name": "stderr",
     "output_type": "stream",
     "text": [
      " 73%|████████████████████████████████████████████████████████▌                     | 1777/2450 [10:06<03:47,  2.96it/s]"
     ]
    },
    {
     "name": "stdout",
     "output_type": "stream",
     "text": [
      "None None Barrow, AK\n"
     ]
    },
    {
     "name": "stderr",
     "output_type": "stream",
     "text": [
      " 74%|█████████████████████████████████████████████████████████▌                    | 1808/2450 [10:16<03:41,  2.89it/s]"
     ]
    },
    {
     "name": "stdout",
     "output_type": "stream",
     "text": [
      "None None Charlotte Amalie, VI\n"
     ]
    },
    {
     "name": "stderr",
     "output_type": "stream",
     "text": [
      " 74%|█████████████████████████████████████████████████████████▊                    | 1814/2450 [10:18<03:28,  3.05it/s]"
     ]
    },
    {
     "name": "stdout",
     "output_type": "stream",
     "text": [
      "None None Christiansted, VI\n"
     ]
    },
    {
     "name": "stderr",
     "output_type": "stream",
     "text": [
      " 75%|██████████████████████████████████████████████████████████▎                   | 1833/2450 [10:24<03:31,  2.91it/s]"
     ]
    },
    {
     "name": "stdout",
     "output_type": "stream",
     "text": [
      "None None Deadhorse, AK\n"
     ]
    },
    {
     "name": "stderr",
     "output_type": "stream",
     "text": [
      " 75%|██████████████████████████████████████████████████████████▌                   | 1838/2450 [10:25<03:09,  3.22it/s]"
     ]
    },
    {
     "name": "stdout",
     "output_type": "stream",
     "text": [
      "None None Devils Lake, ND\n"
     ]
    },
    {
     "name": "stderr",
     "output_type": "stream",
     "text": [
      " 77%|███████████████████████████████████████████████████████████▊                  | 1878/2450 [10:39<03:14,  2.95it/s]"
     ]
    },
    {
     "name": "stdout",
     "output_type": "stream",
     "text": [
      "None None Guam, TT\n"
     ]
    },
    {
     "name": "stderr",
     "output_type": "stream",
     "text": [
      " 77%|████████████████████████████████████████████████████████████▏                 | 1892/2450 [10:44<03:10,  2.92it/s]"
     ]
    },
    {
     "name": "stdout",
     "output_type": "stream",
     "text": [
      "None None Hilton Head, SC\n"
     ]
    },
    {
     "name": "stderr",
     "output_type": "stream",
     "text": [
      " 77%|████████████████████████████████████████████████████████████▎                 | 1895/2450 [10:44<02:41,  3.44it/s]"
     ]
    },
    {
     "name": "stdout",
     "output_type": "stream",
     "text": [
      "None None Hoolehua, HI\n"
     ]
    },
    {
     "name": "stderr",
     "output_type": "stream",
     "text": [
      " 78%|████████████████████████████████████████████████████████████▌                 | 1902/2450 [10:46<02:56,  3.10it/s]"
     ]
    },
    {
     "name": "stdout",
     "output_type": "stream",
     "text": [
      "None None Islip, NY\n"
     ]
    },
    {
     "name": "stderr",
     "output_type": "stream",
     "text": [
      " 78%|█████████████████████████████████████████████████████████████▏                | 1922/2450 [10:53<02:57,  2.98it/s]"
     ]
    },
    {
     "name": "stdout",
     "output_type": "stream",
     "text": [
      "None None Kona, HI\n"
     ]
    },
    {
     "name": "stderr",
     "output_type": "stream",
     "text": [
      " 79%|█████████████████████████████████████████████████████████████▎                | 1927/2450 [10:54<02:39,  3.27it/s]"
     ]
    },
    {
     "name": "stdout",
     "output_type": "stream",
     "text": [
      "None None Lanai, HI\n"
     ]
    },
    {
     "name": "stderr",
     "output_type": "stream",
     "text": [
      " 81%|███████████████████████████████████████████████████████████████               | 1979/2450 [11:12<02:45,  2.85it/s]"
     ]
    },
    {
     "name": "stdout",
     "output_type": "stream",
     "text": [
      "None None Newburgh/Poughkeepsie, NY\n"
     ]
    },
    {
     "name": "stderr",
     "output_type": "stream",
     "text": [
      " 81%|███████████████████████████████████████████████████████████████▌              | 1995/2450 [11:17<02:40,  2.84it/s]"
     ]
    },
    {
     "name": "stdout",
     "output_type": "stream",
     "text": [
      "None None Pago Pago, TT\n"
     ]
    },
    {
     "name": "stderr",
     "output_type": "stream",
     "text": [
      " 83%|████████████████████████████████████████████████████████████████▊             | 2035/2450 [11:31<02:26,  2.84it/s]"
     ]
    },
    {
     "name": "stdout",
     "output_type": "stream",
     "text": [
      "None None Saipan, TT\n"
     ]
    },
    {
     "name": "stderr",
     "output_type": "stream",
     "text": [
      " 87%|███████████████████████████████████████████████████████████████████▌          | 2122/2450 [12:01<01:51,  2.95it/s]"
     ]
    },
    {
     "name": "stdout",
     "output_type": "stream",
     "text": [
      "None None Ashland, WV\n"
     ]
    },
    {
     "name": "stderr",
     "output_type": "stream",
     "text": [
      " 87%|███████████████████████████████████████████████████████████████████▊          | 2131/2450 [12:04<01:47,  2.96it/s]"
     ]
    },
    {
     "name": "stdout",
     "output_type": "stream",
     "text": [
      "None None Barrow, AK\n"
     ]
    },
    {
     "name": "stderr",
     "output_type": "stream",
     "text": [
      " 88%|████████████████████████████████████████████████████████████████████▊         | 2161/2450 [12:14<01:39,  2.91it/s]"
     ]
    },
    {
     "name": "stdout",
     "output_type": "stream",
     "text": [
      "None None Charlotte Amalie, VI\n"
     ]
    },
    {
     "name": "stderr",
     "output_type": "stream",
     "text": [
      " 88%|████████████████████████████████████████████████████████████████████▉         | 2167/2450 [12:15<01:34,  3.00it/s]"
     ]
    },
    {
     "name": "stdout",
     "output_type": "stream",
     "text": [
      "None None Christiansted, VI\n"
     ]
    },
    {
     "name": "stderr",
     "output_type": "stream",
     "text": [
      " 89%|█████████████████████████████████████████████████████████████████████▌        | 2186/2450 [12:22<01:30,  2.91it/s]"
     ]
    },
    {
     "name": "stdout",
     "output_type": "stream",
     "text": [
      "None None Deadhorse, AK\n"
     ]
    },
    {
     "name": "stderr",
     "output_type": "stream",
     "text": [
      " 89%|█████████████████████████████████████████████████████████████████████▊        | 2191/2450 [12:23<01:19,  3.25it/s]"
     ]
    },
    {
     "name": "stdout",
     "output_type": "stream",
     "text": [
      "None None Devils Lake, ND\n"
     ]
    },
    {
     "name": "stderr",
     "output_type": "stream",
     "text": [
      " 91%|███████████████████████████████████████████████████████████████████████       | 2231/2450 [12:36<01:17,  2.82it/s]"
     ]
    },
    {
     "name": "stdout",
     "output_type": "stream",
     "text": [
      "None None Guam, TT\n"
     ]
    },
    {
     "name": "stderr",
     "output_type": "stream",
     "text": [
      " 92%|███████████████████████████████████████████████████████████████████████▍      | 2244/2450 [12:41<01:11,  2.87it/s]"
     ]
    },
    {
     "name": "stdout",
     "output_type": "stream",
     "text": [
      "None None Hilton Head, SC\n"
     ]
    },
    {
     "name": "stderr",
     "output_type": "stream",
     "text": [
      " 92%|███████████████████████████████████████████████████████████████████████▌      | 2247/2450 [12:41<00:58,  3.47it/s]"
     ]
    },
    {
     "name": "stdout",
     "output_type": "stream",
     "text": [
      "None None Hoolehua, HI\n"
     ]
    },
    {
     "name": "stderr",
     "output_type": "stream",
     "text": [
      " 92%|███████████████████████████████████████████████████████████████████████▊      | 2254/2450 [12:43<01:02,  3.14it/s]"
     ]
    },
    {
     "name": "stdout",
     "output_type": "stream",
     "text": [
      "None None Islip, NY\n"
     ]
    },
    {
     "name": "stderr",
     "output_type": "stream",
     "text": [
      " 93%|████████████████████████████████████████████████████████████████████████▍     | 2274/2450 [12:50<00:59,  2.93it/s]"
     ]
    },
    {
     "name": "stdout",
     "output_type": "stream",
     "text": [
      "None None Kona, HI\n"
     ]
    },
    {
     "name": "stderr",
     "output_type": "stream",
     "text": [
      " 93%|████████████████████████████████████████████████████████████████████████▌     | 2279/2450 [12:51<00:52,  3.25it/s]"
     ]
    },
    {
     "name": "stdout",
     "output_type": "stream",
     "text": [
      "None None Lanai, HI\n"
     ]
    },
    {
     "name": "stderr",
     "output_type": "stream",
     "text": [
      " 95%|██████████████████████████████████████████████████████████████████████████▏   | 2331/2450 [13:09<00:42,  2.79it/s]"
     ]
    },
    {
     "name": "stdout",
     "output_type": "stream",
     "text": [
      "None None Newburgh/Poughkeepsie, NY\n"
     ]
    },
    {
     "name": "stderr",
     "output_type": "stream",
     "text": [
      " 97%|███████████████████████████████████████████████████████████████████████████▋  | 2379/2450 [13:25<00:24,  2.84it/s]"
     ]
    },
    {
     "name": "stdout",
     "output_type": "stream",
     "text": [
      "None None Saipan, TT\n"
     ]
    },
    {
     "name": "stderr",
     "output_type": "stream",
     "text": [
      "100%|██████████████████████████████████████████████████████████████████████████████| 2450/2450 [13:50<00:00,  2.95it/s]\n"
     ]
    }
   ],
   "source": [
    "for row in tqdm(range(len(flight_unique))):\n",
    "    flight_unique['weather_categ'][row] = weather_condition(flight_unique['city'][row], flight_unique['fl_date'][row], latlong_df)"
   ]
  },
  {
   "cell_type": "code",
   "execution_count": 29,
   "id": "ed32e72d-6647-45cf-a68c-c961f04b51e5",
   "metadata": {},
   "outputs": [
    {
     "data": {
      "text/html": [
       "<div>\n",
       "<style scoped>\n",
       "    .dataframe tbody tr th:only-of-type {\n",
       "        vertical-align: middle;\n",
       "    }\n",
       "\n",
       "    .dataframe tbody tr th {\n",
       "        vertical-align: top;\n",
       "    }\n",
       "\n",
       "    .dataframe thead th {\n",
       "        text-align: right;\n",
       "    }\n",
       "</style>\n",
       "<table border=\"1\" class=\"dataframe\">\n",
       "  <thead>\n",
       "    <tr style=\"text-align: right;\">\n",
       "      <th></th>\n",
       "      <th>fl_date</th>\n",
       "      <th>city</th>\n",
       "      <th>count</th>\n",
       "      <th>weather_categ</th>\n",
       "    </tr>\n",
       "  </thead>\n",
       "  <tbody>\n",
       "    <tr>\n",
       "      <th>758</th>\n",
       "      <td>2020-01-03</td>\n",
       "      <td>Chicago, IL</td>\n",
       "      <td>2591</td>\n",
       "      <td>cloudy</td>\n",
       "    </tr>\n",
       "    <tr>\n",
       "      <th>408</th>\n",
       "      <td>2020-01-02</td>\n",
       "      <td>Chicago, IL</td>\n",
       "      <td>2587</td>\n",
       "      <td>sunny</td>\n",
       "    </tr>\n",
       "    <tr>\n",
       "      <th>1463</th>\n",
       "      <td>2020-01-05</td>\n",
       "      <td>Chicago, IL</td>\n",
       "      <td>2556</td>\n",
       "      <td>cloudy</td>\n",
       "    </tr>\n",
       "    <tr>\n",
       "      <th>1813</th>\n",
       "      <td>2020-01-06</td>\n",
       "      <td>Chicago, IL</td>\n",
       "      <td>2556</td>\n",
       "      <td>sunny</td>\n",
       "    </tr>\n",
       "    <tr>\n",
       "      <th>2166</th>\n",
       "      <td>2020-01-07</td>\n",
       "      <td>Chicago, IL</td>\n",
       "      <td>2413</td>\n",
       "      <td>sunny</td>\n",
       "    </tr>\n",
       "    <tr>\n",
       "      <th>...</th>\n",
       "      <td>...</td>\n",
       "      <td>...</td>\n",
       "      <td>...</td>\n",
       "      <td>...</td>\n",
       "    </tr>\n",
       "    <tr>\n",
       "      <th>1383</th>\n",
       "      <td>2020-01-04</td>\n",
       "      <td>Vernal, UT</td>\n",
       "      <td>2</td>\n",
       "      <td>sunny</td>\n",
       "    </tr>\n",
       "    <tr>\n",
       "      <th>209</th>\n",
       "      <td>2020-01-01</td>\n",
       "      <td>Moab, UT</td>\n",
       "      <td>2</td>\n",
       "      <td>cloudy</td>\n",
       "    </tr>\n",
       "    <tr>\n",
       "      <th>278</th>\n",
       "      <td>2020-01-01</td>\n",
       "      <td>Salina, KS</td>\n",
       "      <td>1</td>\n",
       "      <td>sunny</td>\n",
       "    </tr>\n",
       "    <tr>\n",
       "      <th>183</th>\n",
       "      <td>2020-01-01</td>\n",
       "      <td>Liberal, KS</td>\n",
       "      <td>1</td>\n",
       "      <td>sunny</td>\n",
       "    </tr>\n",
       "    <tr>\n",
       "      <th>2365</th>\n",
       "      <td>2020-01-07</td>\n",
       "      <td>Quincy, IL</td>\n",
       "      <td>1</td>\n",
       "      <td>sunny</td>\n",
       "    </tr>\n",
       "  </tbody>\n",
       "</table>\n",
       "<p>2450 rows × 4 columns</p>\n",
       "</div>"
      ],
      "text/plain": [
       "         fl_date         city  count weather_categ\n",
       "758   2020-01-03  Chicago, IL   2591        cloudy\n",
       "408   2020-01-02  Chicago, IL   2587         sunny\n",
       "1463  2020-01-05  Chicago, IL   2556        cloudy\n",
       "1813  2020-01-06  Chicago, IL   2556         sunny\n",
       "2166  2020-01-07  Chicago, IL   2413         sunny\n",
       "...          ...          ...    ...           ...\n",
       "1383  2020-01-04   Vernal, UT      2         sunny\n",
       "209   2020-01-01     Moab, UT      2        cloudy\n",
       "278   2020-01-01   Salina, KS      1         sunny\n",
       "183   2020-01-01  Liberal, KS      1         sunny\n",
       "2365  2020-01-07   Quincy, IL      1         sunny\n",
       "\n",
       "[2450 rows x 4 columns]"
      ]
     },
     "execution_count": 29,
     "metadata": {},
     "output_type": "execute_result"
    }
   ],
   "source": [
    "flight_unique"
   ]
  },
  {
   "cell_type": "code",
   "execution_count": 104,
   "id": "35af9179-ce3d-4f93-9af7-4fe522b14b89",
   "metadata": {},
   "outputs": [
    {
     "data": {
      "text/plain": [
       "102"
      ]
     },
     "execution_count": 104,
     "metadata": {},
     "output_type": "execute_result"
    }
   ],
   "source": [
    "flight_unique['weather_categ'].isna().sum()"
   ]
  },
  {
   "cell_type": "code",
   "execution_count": 105,
   "id": "6700b319-6ecd-4f7e-812d-7e291f4f1187",
   "metadata": {},
   "outputs": [],
   "source": [
    "flight_unique['weather_categ'] = flight_unique['weather_categ'].fillna('empty')"
   ]
  },
  {
   "cell_type": "code",
   "execution_count": 106,
   "id": "57247bf4-51d6-42a6-a3b8-1f91c9e27731",
   "metadata": {},
   "outputs": [
    {
     "data": {
      "text/html": [
       "<div>\n",
       "<style scoped>\n",
       "    .dataframe tbody tr th:only-of-type {\n",
       "        vertical-align: middle;\n",
       "    }\n",
       "\n",
       "    .dataframe tbody tr th {\n",
       "        vertical-align: top;\n",
       "    }\n",
       "\n",
       "    .dataframe thead th {\n",
       "        text-align: right;\n",
       "    }\n",
       "</style>\n",
       "<table border=\"1\" class=\"dataframe\">\n",
       "  <thead>\n",
       "    <tr style=\"text-align: right;\">\n",
       "      <th></th>\n",
       "      <th>fl_date</th>\n",
       "      <th>city</th>\n",
       "    </tr>\n",
       "    <tr>\n",
       "      <th>weather_categ</th>\n",
       "      <th></th>\n",
       "      <th></th>\n",
       "    </tr>\n",
       "  </thead>\n",
       "  <tbody>\n",
       "    <tr>\n",
       "      <th>cloudy</th>\n",
       "      <td>615</td>\n",
       "      <td>615</td>\n",
       "    </tr>\n",
       "    <tr>\n",
       "      <th>empty</th>\n",
       "      <td>102</td>\n",
       "      <td>102</td>\n",
       "    </tr>\n",
       "    <tr>\n",
       "      <th>no weather data</th>\n",
       "      <td>28</td>\n",
       "      <td>28</td>\n",
       "    </tr>\n",
       "    <tr>\n",
       "      <th>rain</th>\n",
       "      <td>372</td>\n",
       "      <td>372</td>\n",
       "    </tr>\n",
       "    <tr>\n",
       "      <th>snow</th>\n",
       "      <td>136</td>\n",
       "      <td>136</td>\n",
       "    </tr>\n",
       "    <tr>\n",
       "      <th>snow &amp; rain</th>\n",
       "      <td>29</td>\n",
       "      <td>29</td>\n",
       "    </tr>\n",
       "    <tr>\n",
       "      <th>sunny</th>\n",
       "      <td>1168</td>\n",
       "      <td>1168</td>\n",
       "    </tr>\n",
       "  </tbody>\n",
       "</table>\n",
       "</div>"
      ],
      "text/plain": [
       "                 fl_date  city\n",
       "weather_categ                 \n",
       "cloudy               615   615\n",
       "empty                102   102\n",
       "no weather data       28    28\n",
       "rain                 372   372\n",
       "snow                 136   136\n",
       "snow & rain           29    29\n",
       "sunny               1168  1168"
      ]
     },
     "execution_count": 106,
     "metadata": {},
     "output_type": "execute_result"
    }
   ],
   "source": [
    "flight_unique.groupby(by = 'weather_categ').count()"
   ]
  },
  {
   "cell_type": "markdown",
   "id": "434548ba-0481-4844-8dee-4dad00075461",
   "metadata": {},
   "source": [
    "First, let's see which ones had no weather and see confirm that there was actually no weather data returned"
   ]
  },
  {
   "cell_type": "code",
   "execution_count": 74,
   "id": "44fa596d-9fbb-4dcd-a12a-0936c292d015",
   "metadata": {},
   "outputs": [
    {
     "data": {
      "text/html": [
       "<div>\n",
       "<style scoped>\n",
       "    .dataframe tbody tr th:only-of-type {\n",
       "        vertical-align: middle;\n",
       "    }\n",
       "\n",
       "    .dataframe tbody tr th {\n",
       "        vertical-align: top;\n",
       "    }\n",
       "\n",
       "    .dataframe thead th {\n",
       "        text-align: right;\n",
       "    }\n",
       "</style>\n",
       "<table border=\"1\" class=\"dataframe\">\n",
       "  <thead>\n",
       "    <tr style=\"text-align: right;\">\n",
       "      <th></th>\n",
       "      <th>fl_date</th>\n",
       "      <th>weather_categ</th>\n",
       "    </tr>\n",
       "    <tr>\n",
       "      <th>city</th>\n",
       "      <th></th>\n",
       "      <th></th>\n",
       "    </tr>\n",
       "  </thead>\n",
       "  <tbody>\n",
       "    <tr>\n",
       "      <th>Kahului, HI</th>\n",
       "      <td>7</td>\n",
       "      <td>7</td>\n",
       "    </tr>\n",
       "    <tr>\n",
       "      <th>Kapalua, HI</th>\n",
       "      <td>7</td>\n",
       "      <td>7</td>\n",
       "    </tr>\n",
       "    <tr>\n",
       "      <th>Key West, FL</th>\n",
       "      <td>7</td>\n",
       "      <td>7</td>\n",
       "    </tr>\n",
       "    <tr>\n",
       "      <th>Kotzebue, AK</th>\n",
       "      <td>7</td>\n",
       "      <td>7</td>\n",
       "    </tr>\n",
       "  </tbody>\n",
       "</table>\n",
       "</div>"
      ],
      "text/plain": [
       "              fl_date  weather_categ\n",
       "city                                \n",
       "Kahului, HI         7              7\n",
       "Kapalua, HI         7              7\n",
       "Key West, FL        7              7\n",
       "Kotzebue, AK        7              7"
      ]
     },
     "execution_count": 74,
     "metadata": {},
     "output_type": "execute_result"
    }
   ],
   "source": [
    "flight_unique[flight_unique['weather_categ'] == 'no weather data'].groupby(by = 'city').count()"
   ]
  },
  {
   "cell_type": "code",
   "execution_count": 99,
   "id": "16dd1057-b1a7-4477-aa25-0ef66454a131",
   "metadata": {
    "collapsed": true,
    "jupyter": {
     "outputs_hidden": true
    },
    "tags": []
   },
   "outputs": [
    {
     "data": {
      "text/plain": [
       "{'latitude': 21.0,\n",
       " 'longitude': -156.5,\n",
       " 'generationtime_ms': 0.32591819763183594,\n",
       " 'utc_offset_seconds': -18000,\n",
       " 'timezone': 'America/Chicago',\n",
       " 'timezone_abbreviation': 'CDT',\n",
       " 'elevation': 0.0,\n",
       " 'hourly_units': {'time': 'iso8601',\n",
       "  'precipitation': 'mm',\n",
       "  'rain': 'mm',\n",
       "  'snowfall': 'cm',\n",
       "  'cloudcover': '%'},\n",
       " 'hourly': {'time': ['2020-01-03T00:00',\n",
       "   '2020-01-03T01:00',\n",
       "   '2020-01-03T02:00',\n",
       "   '2020-01-03T03:00',\n",
       "   '2020-01-03T04:00',\n",
       "   '2020-01-03T05:00',\n",
       "   '2020-01-03T06:00',\n",
       "   '2020-01-03T07:00',\n",
       "   '2020-01-03T08:00',\n",
       "   '2020-01-03T09:00',\n",
       "   '2020-01-03T10:00',\n",
       "   '2020-01-03T11:00',\n",
       "   '2020-01-03T12:00',\n",
       "   '2020-01-03T13:00',\n",
       "   '2020-01-03T14:00',\n",
       "   '2020-01-03T15:00',\n",
       "   '2020-01-03T16:00',\n",
       "   '2020-01-03T17:00',\n",
       "   '2020-01-03T18:00',\n",
       "   '2020-01-03T19:00',\n",
       "   '2020-01-03T20:00',\n",
       "   '2020-01-03T21:00',\n",
       "   '2020-01-03T22:00',\n",
       "   '2020-01-03T23:00'],\n",
       "  'precipitation': [None,\n",
       "   None,\n",
       "   None,\n",
       "   None,\n",
       "   None,\n",
       "   None,\n",
       "   None,\n",
       "   None,\n",
       "   None,\n",
       "   None,\n",
       "   None,\n",
       "   None,\n",
       "   None,\n",
       "   None,\n",
       "   None,\n",
       "   None,\n",
       "   None,\n",
       "   None,\n",
       "   None,\n",
       "   None,\n",
       "   None,\n",
       "   None,\n",
       "   None,\n",
       "   None],\n",
       "  'rain': [None,\n",
       "   None,\n",
       "   None,\n",
       "   None,\n",
       "   None,\n",
       "   None,\n",
       "   None,\n",
       "   None,\n",
       "   None,\n",
       "   None,\n",
       "   None,\n",
       "   None,\n",
       "   None,\n",
       "   None,\n",
       "   None,\n",
       "   None,\n",
       "   None,\n",
       "   None,\n",
       "   None,\n",
       "   None,\n",
       "   None,\n",
       "   None,\n",
       "   None,\n",
       "   None],\n",
       "  'snowfall': [None,\n",
       "   None,\n",
       "   None,\n",
       "   None,\n",
       "   None,\n",
       "   None,\n",
       "   None,\n",
       "   None,\n",
       "   None,\n",
       "   None,\n",
       "   None,\n",
       "   None,\n",
       "   None,\n",
       "   None,\n",
       "   None,\n",
       "   None,\n",
       "   None,\n",
       "   None,\n",
       "   None,\n",
       "   None,\n",
       "   None,\n",
       "   None,\n",
       "   None,\n",
       "   None],\n",
       "  'cloudcover': [None,\n",
       "   None,\n",
       "   None,\n",
       "   None,\n",
       "   None,\n",
       "   None,\n",
       "   None,\n",
       "   None,\n",
       "   None,\n",
       "   None,\n",
       "   None,\n",
       "   None,\n",
       "   None,\n",
       "   None,\n",
       "   None,\n",
       "   None,\n",
       "   None,\n",
       "   None,\n",
       "   None,\n",
       "   None,\n",
       "   None,\n",
       "   None,\n",
       "   None,\n",
       "   None]},\n",
       " 'daily_units': {'time': 'iso8601',\n",
       "  'precipitation_sum': 'mm',\n",
       "  'rain_sum': 'mm',\n",
       "  'snowfall_sum': 'cm',\n",
       "  'precipitation_hours': 'h'},\n",
       " 'daily': {'time': ['2020-01-03'],\n",
       "  'precipitation_sum': [None],\n",
       "  'rain_sum': [None],\n",
       "  'snowfall_sum': [None],\n",
       "  'precipitation_hours': [0.0]}}"
      ]
     },
     "execution_count": 99,
     "metadata": {},
     "output_type": "execute_result"
    }
   ],
   "source": [
    "open_weather_api(20.887218, -156.482834, '2020-01-03')"
   ]
  },
  {
   "cell_type": "markdown",
   "id": "7991e8aa-fe69-46fa-82be-674d1dc26582",
   "metadata": {},
   "source": [
    "this confirms there is no weather data for this location with this api"
   ]
  },
  {
   "cell_type": "markdown",
   "id": "4f71c761-0991-4532-a9d2-545988a53ffa",
   "metadata": {},
   "source": [
    "Second, let's see which ones returned 'empty'. We know these are likly cities that were missing lat/long values"
   ]
  },
  {
   "cell_type": "code",
   "execution_count": 107,
   "id": "407b2800-1caa-439e-82ce-25ba2a7f0167",
   "metadata": {},
   "outputs": [
    {
     "data": {
      "text/html": [
       "<div>\n",
       "<style scoped>\n",
       "    .dataframe tbody tr th:only-of-type {\n",
       "        vertical-align: middle;\n",
       "    }\n",
       "\n",
       "    .dataframe tbody tr th {\n",
       "        vertical-align: top;\n",
       "    }\n",
       "\n",
       "    .dataframe thead th {\n",
       "        text-align: right;\n",
       "    }\n",
       "</style>\n",
       "<table border=\"1\" class=\"dataframe\">\n",
       "  <thead>\n",
       "    <tr style=\"text-align: right;\">\n",
       "      <th></th>\n",
       "      <th>fl_date</th>\n",
       "      <th>weather_categ</th>\n",
       "    </tr>\n",
       "    <tr>\n",
       "      <th>city</th>\n",
       "      <th></th>\n",
       "      <th></th>\n",
       "    </tr>\n",
       "  </thead>\n",
       "  <tbody>\n",
       "    <tr>\n",
       "      <th>Adak Island, AK</th>\n",
       "      <td>2</td>\n",
       "      <td>2</td>\n",
       "    </tr>\n",
       "    <tr>\n",
       "      <th>Ashland, WV</th>\n",
       "      <td>7</td>\n",
       "      <td>7</td>\n",
       "    </tr>\n",
       "    <tr>\n",
       "      <th>Barrow, AK</th>\n",
       "      <td>7</td>\n",
       "      <td>7</td>\n",
       "    </tr>\n",
       "    <tr>\n",
       "      <th>Charlotte Amalie, VI</th>\n",
       "      <td>7</td>\n",
       "      <td>7</td>\n",
       "    </tr>\n",
       "    <tr>\n",
       "      <th>Christiansted, VI</th>\n",
       "      <td>7</td>\n",
       "      <td>7</td>\n",
       "    </tr>\n",
       "    <tr>\n",
       "      <th>Deadhorse, AK</th>\n",
       "      <td>7</td>\n",
       "      <td>7</td>\n",
       "    </tr>\n",
       "    <tr>\n",
       "      <th>Devils Lake, ND</th>\n",
       "      <td>7</td>\n",
       "      <td>7</td>\n",
       "    </tr>\n",
       "    <tr>\n",
       "      <th>Guam, TT</th>\n",
       "      <td>7</td>\n",
       "      <td>7</td>\n",
       "    </tr>\n",
       "    <tr>\n",
       "      <th>Hilton Head, SC</th>\n",
       "      <td>7</td>\n",
       "      <td>7</td>\n",
       "    </tr>\n",
       "    <tr>\n",
       "      <th>Hoolehua, HI</th>\n",
       "      <td>7</td>\n",
       "      <td>7</td>\n",
       "    </tr>\n",
       "    <tr>\n",
       "      <th>Islip, NY</th>\n",
       "      <td>7</td>\n",
       "      <td>7</td>\n",
       "    </tr>\n",
       "    <tr>\n",
       "      <th>Kona, HI</th>\n",
       "      <td>7</td>\n",
       "      <td>7</td>\n",
       "    </tr>\n",
       "    <tr>\n",
       "      <th>Lanai, HI</th>\n",
       "      <td>7</td>\n",
       "      <td>7</td>\n",
       "    </tr>\n",
       "    <tr>\n",
       "      <th>Newburgh/Poughkeepsie, NY</th>\n",
       "      <td>7</td>\n",
       "      <td>7</td>\n",
       "    </tr>\n",
       "    <tr>\n",
       "      <th>Pago Pago, TT</th>\n",
       "      <td>2</td>\n",
       "      <td>2</td>\n",
       "    </tr>\n",
       "    <tr>\n",
       "      <th>Saipan, TT</th>\n",
       "      <td>7</td>\n",
       "      <td>7</td>\n",
       "    </tr>\n",
       "  </tbody>\n",
       "</table>\n",
       "</div>"
      ],
      "text/plain": [
       "                           fl_date  weather_categ\n",
       "city                                             \n",
       "Adak Island, AK                  2              2\n",
       "Ashland, WV                      7              7\n",
       "Barrow, AK                       7              7\n",
       "Charlotte Amalie, VI             7              7\n",
       "Christiansted, VI                7              7\n",
       "Deadhorse, AK                    7              7\n",
       "Devils Lake, ND                  7              7\n",
       "Guam, TT                         7              7\n",
       "Hilton Head, SC                  7              7\n",
       "Hoolehua, HI                     7              7\n",
       "Islip, NY                        7              7\n",
       "Kona, HI                         7              7\n",
       "Lanai, HI                        7              7\n",
       "Newburgh/Poughkeepsie, NY        7              7\n",
       "Pago Pago, TT                    2              2\n",
       "Saipan, TT                       7              7"
      ]
     },
     "execution_count": 107,
     "metadata": {},
     "output_type": "execute_result"
    }
   ],
   "source": [
    "flight_unique[flight_unique['weather_categ'] == 'empty'].groupby(by = 'city').count()"
   ]
  },
  {
   "cell_type": "markdown",
   "id": "5aa9218a-c40f-463b-8a23-0d5e8409b466",
   "metadata": {},
   "source": [
    "Looks like we were missing the lat/longs for these 16 cities. Let's find the lat/longs and create a new lat/long df"
   ]
  },
  {
   "cell_type": "code",
   "execution_count": 83,
   "id": "0936f265-4666-4b9c-95c8-293608c66471",
   "metadata": {},
   "outputs": [],
   "source": [
    "latlong_dict = {'city': ['Kahului, HI', 'Kapalua, HI', 'Key West, FL','Kotzebue, AK'], \n",
    "                'lat': [20.887218, 20.9622, 24.5537, 66.898331], \n",
    "                'lng': [-156.482834, -156.6754, -81.7550, -162.596664]}\n",
    "extra_latlong = pd.DataFrame(latlong_dict)"
   ]
  },
  {
   "cell_type": "code",
   "execution_count": null,
   "id": "05e6309e-898c-4fc0-acbc-1a7d3082f816",
   "metadata": {},
   "outputs": [],
   "source": []
  },
  {
   "cell_type": "code",
   "execution_count": null,
   "id": "1ee2ff76-e243-4b34-88e7-9f99aa8c8449",
   "metadata": {},
   "outputs": [],
   "source": []
  },
  {
   "cell_type": "code",
   "execution_count": null,
   "id": "e70d3ff5-0ac9-4ee4-9a19-092fd726dced",
   "metadata": {},
   "outputs": [],
   "source": []
  },
  {
   "cell_type": "code",
   "execution_count": null,
   "id": "9bded20a-2784-4143-83c4-7378948cd7e8",
   "metadata": {},
   "outputs": [],
   "source": []
  },
  {
   "cell_type": "code",
   "execution_count": 84,
   "id": "a54450f6-4aae-49de-94db-7b1c04fc5c5a",
   "metadata": {},
   "outputs": [
    {
     "data": {
      "text/html": [
       "<div>\n",
       "<style scoped>\n",
       "    .dataframe tbody tr th:only-of-type {\n",
       "        vertical-align: middle;\n",
       "    }\n",
       "\n",
       "    .dataframe tbody tr th {\n",
       "        vertical-align: top;\n",
       "    }\n",
       "\n",
       "    .dataframe thead th {\n",
       "        text-align: right;\n",
       "    }\n",
       "</style>\n",
       "<table border=\"1\" class=\"dataframe\">\n",
       "  <thead>\n",
       "    <tr style=\"text-align: right;\">\n",
       "      <th></th>\n",
       "      <th>city</th>\n",
       "      <th>lat</th>\n",
       "      <th>lng</th>\n",
       "    </tr>\n",
       "  </thead>\n",
       "  <tbody>\n",
       "    <tr>\n",
       "      <th>0</th>\n",
       "      <td>Kahului, HI</td>\n",
       "      <td>20.887218</td>\n",
       "      <td>-156.482834</td>\n",
       "    </tr>\n",
       "    <tr>\n",
       "      <th>1</th>\n",
       "      <td>Kapalua, HI</td>\n",
       "      <td>20.962200</td>\n",
       "      <td>-156.675400</td>\n",
       "    </tr>\n",
       "    <tr>\n",
       "      <th>2</th>\n",
       "      <td>Key West, FL</td>\n",
       "      <td>24.553700</td>\n",
       "      <td>-81.755000</td>\n",
       "    </tr>\n",
       "    <tr>\n",
       "      <th>3</th>\n",
       "      <td>Kotzebue, AK</td>\n",
       "      <td>66.898331</td>\n",
       "      <td>-162.596664</td>\n",
       "    </tr>\n",
       "  </tbody>\n",
       "</table>\n",
       "</div>"
      ],
      "text/plain": [
       "           city        lat         lng\n",
       "0   Kahului, HI  20.887218 -156.482834\n",
       "1   Kapalua, HI  20.962200 -156.675400\n",
       "2  Key West, FL  24.553700  -81.755000\n",
       "3  Kotzebue, AK  66.898331 -162.596664"
      ]
     },
     "execution_count": 84,
     "metadata": {},
     "output_type": "execute_result"
    }
   ],
   "source": [
    "extra_latlong"
   ]
  },
  {
   "cell_type": "code",
   "execution_count": 90,
   "id": "52a796a2-96ba-4b9b-a7fb-506f5013e365",
   "metadata": {},
   "outputs": [],
   "source": [
    "#rename city to city_state\n",
    "extra_latlong.rename({'city': 'city_state'}, axis = 1, inplace= True)"
   ]
  },
  {
   "cell_type": "code",
   "execution_count": 91,
   "id": "a54735d6-7bd4-46df-8c68-7fc0870539e5",
   "metadata": {},
   "outputs": [
    {
     "data": {
      "text/html": [
       "<div>\n",
       "<style scoped>\n",
       "    .dataframe tbody tr th:only-of-type {\n",
       "        vertical-align: middle;\n",
       "    }\n",
       "\n",
       "    .dataframe tbody tr th {\n",
       "        vertical-align: top;\n",
       "    }\n",
       "\n",
       "    .dataframe thead th {\n",
       "        text-align: right;\n",
       "    }\n",
       "</style>\n",
       "<table border=\"1\" class=\"dataframe\">\n",
       "  <thead>\n",
       "    <tr style=\"text-align: right;\">\n",
       "      <th></th>\n",
       "      <th>city_state</th>\n",
       "      <th>lat</th>\n",
       "      <th>lng</th>\n",
       "    </tr>\n",
       "  </thead>\n",
       "  <tbody>\n",
       "    <tr>\n",
       "      <th>0</th>\n",
       "      <td>Kahului, HI</td>\n",
       "      <td>20.887218</td>\n",
       "      <td>-156.482834</td>\n",
       "    </tr>\n",
       "    <tr>\n",
       "      <th>1</th>\n",
       "      <td>Kapalua, HI</td>\n",
       "      <td>20.962200</td>\n",
       "      <td>-156.675400</td>\n",
       "    </tr>\n",
       "    <tr>\n",
       "      <th>2</th>\n",
       "      <td>Key West, FL</td>\n",
       "      <td>24.553700</td>\n",
       "      <td>-81.755000</td>\n",
       "    </tr>\n",
       "    <tr>\n",
       "      <th>3</th>\n",
       "      <td>Kotzebue, AK</td>\n",
       "      <td>66.898331</td>\n",
       "      <td>-162.596664</td>\n",
       "    </tr>\n",
       "  </tbody>\n",
       "</table>\n",
       "</div>"
      ],
      "text/plain": [
       "     city_state        lat         lng\n",
       "0   Kahului, HI  20.887218 -156.482834\n",
       "1   Kapalua, HI  20.962200 -156.675400\n",
       "2  Key West, FL  24.553700  -81.755000\n",
       "3  Kotzebue, AK  66.898331 -162.596664"
      ]
     },
     "execution_count": 91,
     "metadata": {},
     "output_type": "execute_result"
    }
   ],
   "source": [
    "extra_latlong"
   ]
  },
  {
   "cell_type": "code",
   "execution_count": 87,
   "id": "c0ceb3f8-8781-478e-9c31-aed65fe533c0",
   "metadata": {},
   "outputs": [],
   "source": [
    "#filter the flights df so we only have to run through these cities\n",
    "extra_flights_unique = flight_unique[flight_unique['weather_categ'] == 'no weather data']"
   ]
  },
  {
   "cell_type": "code",
   "execution_count": 88,
   "id": "745cb3a4-47c7-4b45-94c1-3b5d904cf2bb",
   "metadata": {},
   "outputs": [
    {
     "data": {
      "text/html": [
       "<div>\n",
       "<style scoped>\n",
       "    .dataframe tbody tr th:only-of-type {\n",
       "        vertical-align: middle;\n",
       "    }\n",
       "\n",
       "    .dataframe tbody tr th {\n",
       "        vertical-align: top;\n",
       "    }\n",
       "\n",
       "    .dataframe thead th {\n",
       "        text-align: right;\n",
       "    }\n",
       "</style>\n",
       "<table border=\"1\" class=\"dataframe\">\n",
       "  <thead>\n",
       "    <tr style=\"text-align: right;\">\n",
       "      <th></th>\n",
       "      <th>fl_date</th>\n",
       "      <th>city</th>\n",
       "      <th>weather_categ</th>\n",
       "    </tr>\n",
       "  </thead>\n",
       "  <tbody>\n",
       "    <tr>\n",
       "      <th>337</th>\n",
       "      <td>2020-01-03</td>\n",
       "      <td>Kahului, HI</td>\n",
       "      <td>no weather data</td>\n",
       "    </tr>\n",
       "    <tr>\n",
       "      <th>338</th>\n",
       "      <td>2020-01-05</td>\n",
       "      <td>Kahului, HI</td>\n",
       "      <td>no weather data</td>\n",
       "    </tr>\n",
       "    <tr>\n",
       "      <th>339</th>\n",
       "      <td>2020-01-04</td>\n",
       "      <td>Kahului, HI</td>\n",
       "      <td>no weather data</td>\n",
       "    </tr>\n",
       "    <tr>\n",
       "      <th>342</th>\n",
       "      <td>2020-01-02</td>\n",
       "      <td>Kahului, HI</td>\n",
       "      <td>no weather data</td>\n",
       "    </tr>\n",
       "    <tr>\n",
       "      <th>343</th>\n",
       "      <td>2020-01-01</td>\n",
       "      <td>Kahului, HI</td>\n",
       "      <td>no weather data</td>\n",
       "    </tr>\n",
       "  </tbody>\n",
       "</table>\n",
       "</div>"
      ],
      "text/plain": [
       "        fl_date         city    weather_categ\n",
       "337  2020-01-03  Kahului, HI  no weather data\n",
       "338  2020-01-05  Kahului, HI  no weather data\n",
       "339  2020-01-04  Kahului, HI  no weather data\n",
       "342  2020-01-02  Kahului, HI  no weather data\n",
       "343  2020-01-01  Kahului, HI  no weather data"
      ]
     },
     "execution_count": 88,
     "metadata": {},
     "output_type": "execute_result"
    }
   ],
   "source": [
    "extra_flights_unique.head()"
   ]
  },
  {
   "cell_type": "code",
   "execution_count": 95,
   "id": "836a7e10-9327-414b-9e6d-825c8a3d2846",
   "metadata": {},
   "outputs": [],
   "source": [
    "#reset index\n",
    "extra_flights_unique.reset_index(inplace = True)"
   ]
  },
  {
   "cell_type": "code",
   "execution_count": 96,
   "id": "7f9bbe0b-8cc9-48aa-86f7-4c6391002199",
   "metadata": {},
   "outputs": [
    {
     "data": {
      "text/plain": [
       "'Kahului, HI'"
      ]
     },
     "execution_count": 96,
     "metadata": {},
     "output_type": "execute_result"
    }
   ],
   "source": [
    "extra_flights_unique['city'][0]"
   ]
  },
  {
   "cell_type": "code",
   "execution_count": 97,
   "id": "0f45e2eb-9af4-445a-9de1-7683c56490b2",
   "metadata": {},
   "outputs": [
    {
     "name": "stderr",
     "output_type": "stream",
     "text": [
      "  0%|                                                                                           | 0/28 [00:00<?, ?it/s]C:\\Users\\3_hal\\AppData\\Local\\Temp\\ipykernel_22196\\454287497.py:3: SettingWithCopyWarning: \n",
      "A value is trying to be set on a copy of a slice from a DataFrame\n",
      "\n",
      "See the caveats in the documentation: https://pandas.pydata.org/pandas-docs/stable/user_guide/indexing.html#returning-a-view-versus-a-copy\n",
      "  extra_flights_unique['weather_categ'][row] = weather_condition(extra_flights_unique['city'][row], extra_flights_unique['fl_date'][row], extra_latlong)\n",
      "100%|██████████████████████████████████████████████████████████████████████████████████| 28/28 [00:10<00:00,  2.69it/s]\n"
     ]
    }
   ],
   "source": [
    "#run the function\n",
    "for row in tqdm(range(len(extra_flights_unique))):\n",
    "    extra_flights_unique['weather_categ'][row] = weather_condition(extra_flights_unique['city'][row], extra_flights_unique['fl_date'][row], extra_latlong)"
   ]
  },
  {
   "cell_type": "code",
   "execution_count": 98,
   "id": "2dc1f493-491a-4dce-ac7a-89233a772d19",
   "metadata": {},
   "outputs": [
    {
     "data": {
      "text/html": [
       "<div>\n",
       "<style scoped>\n",
       "    .dataframe tbody tr th:only-of-type {\n",
       "        vertical-align: middle;\n",
       "    }\n",
       "\n",
       "    .dataframe tbody tr th {\n",
       "        vertical-align: top;\n",
       "    }\n",
       "\n",
       "    .dataframe thead th {\n",
       "        text-align: right;\n",
       "    }\n",
       "</style>\n",
       "<table border=\"1\" class=\"dataframe\">\n",
       "  <thead>\n",
       "    <tr style=\"text-align: right;\">\n",
       "      <th></th>\n",
       "      <th>index</th>\n",
       "      <th>fl_date</th>\n",
       "      <th>city</th>\n",
       "      <th>weather_categ</th>\n",
       "    </tr>\n",
       "  </thead>\n",
       "  <tbody>\n",
       "    <tr>\n",
       "      <th>0</th>\n",
       "      <td>337</td>\n",
       "      <td>2020-01-03</td>\n",
       "      <td>Kahului, HI</td>\n",
       "      <td>no weather data</td>\n",
       "    </tr>\n",
       "    <tr>\n",
       "      <th>1</th>\n",
       "      <td>338</td>\n",
       "      <td>2020-01-05</td>\n",
       "      <td>Kahului, HI</td>\n",
       "      <td>no weather data</td>\n",
       "    </tr>\n",
       "    <tr>\n",
       "      <th>2</th>\n",
       "      <td>339</td>\n",
       "      <td>2020-01-04</td>\n",
       "      <td>Kahului, HI</td>\n",
       "      <td>no weather data</td>\n",
       "    </tr>\n",
       "    <tr>\n",
       "      <th>3</th>\n",
       "      <td>342</td>\n",
       "      <td>2020-01-02</td>\n",
       "      <td>Kahului, HI</td>\n",
       "      <td>no weather data</td>\n",
       "    </tr>\n",
       "    <tr>\n",
       "      <th>4</th>\n",
       "      <td>343</td>\n",
       "      <td>2020-01-01</td>\n",
       "      <td>Kahului, HI</td>\n",
       "      <td>no weather data</td>\n",
       "    </tr>\n",
       "    <tr>\n",
       "      <th>5</th>\n",
       "      <td>355</td>\n",
       "      <td>2020-01-06</td>\n",
       "      <td>Kahului, HI</td>\n",
       "      <td>no weather data</td>\n",
       "    </tr>\n",
       "    <tr>\n",
       "      <th>6</th>\n",
       "      <td>386</td>\n",
       "      <td>2020-01-07</td>\n",
       "      <td>Kahului, HI</td>\n",
       "      <td>no weather data</td>\n",
       "    </tr>\n",
       "    <tr>\n",
       "      <th>7</th>\n",
       "      <td>723</td>\n",
       "      <td>2020-01-04</td>\n",
       "      <td>Key West, FL</td>\n",
       "      <td>no weather data</td>\n",
       "    </tr>\n",
       "    <tr>\n",
       "      <th>8</th>\n",
       "      <td>760</td>\n",
       "      <td>2020-01-05</td>\n",
       "      <td>Key West, FL</td>\n",
       "      <td>no weather data</td>\n",
       "    </tr>\n",
       "    <tr>\n",
       "      <th>9</th>\n",
       "      <td>804</td>\n",
       "      <td>2020-01-03</td>\n",
       "      <td>Key West, FL</td>\n",
       "      <td>no weather data</td>\n",
       "    </tr>\n",
       "    <tr>\n",
       "      <th>10</th>\n",
       "      <td>807</td>\n",
       "      <td>2020-01-02</td>\n",
       "      <td>Key West, FL</td>\n",
       "      <td>no weather data</td>\n",
       "    </tr>\n",
       "    <tr>\n",
       "      <th>11</th>\n",
       "      <td>813</td>\n",
       "      <td>2020-01-06</td>\n",
       "      <td>Key West, FL</td>\n",
       "      <td>no weather data</td>\n",
       "    </tr>\n",
       "    <tr>\n",
       "      <th>12</th>\n",
       "      <td>842</td>\n",
       "      <td>2020-01-01</td>\n",
       "      <td>Key West, FL</td>\n",
       "      <td>no weather data</td>\n",
       "    </tr>\n",
       "    <tr>\n",
       "      <th>13</th>\n",
       "      <td>855</td>\n",
       "      <td>2020-01-07</td>\n",
       "      <td>Key West, FL</td>\n",
       "      <td>no weather data</td>\n",
       "    </tr>\n",
       "    <tr>\n",
       "      <th>14</th>\n",
       "      <td>1653</td>\n",
       "      <td>2020-01-07</td>\n",
       "      <td>Kapalua, HI</td>\n",
       "      <td>no weather data</td>\n",
       "    </tr>\n",
       "    <tr>\n",
       "      <th>15</th>\n",
       "      <td>1666</td>\n",
       "      <td>2020-01-06</td>\n",
       "      <td>Kapalua, HI</td>\n",
       "      <td>no weather data</td>\n",
       "    </tr>\n",
       "    <tr>\n",
       "      <th>16</th>\n",
       "      <td>1693</td>\n",
       "      <td>2020-01-04</td>\n",
       "      <td>Kapalua, HI</td>\n",
       "      <td>no weather data</td>\n",
       "    </tr>\n",
       "    <tr>\n",
       "      <th>17</th>\n",
       "      <td>1714</td>\n",
       "      <td>2020-01-01</td>\n",
       "      <td>Kapalua, HI</td>\n",
       "      <td>no weather data</td>\n",
       "    </tr>\n",
       "    <tr>\n",
       "      <th>18</th>\n",
       "      <td>1735</td>\n",
       "      <td>2020-01-03</td>\n",
       "      <td>Kapalua, HI</td>\n",
       "      <td>no weather data</td>\n",
       "    </tr>\n",
       "    <tr>\n",
       "      <th>19</th>\n",
       "      <td>1744</td>\n",
       "      <td>2020-01-02</td>\n",
       "      <td>Kapalua, HI</td>\n",
       "      <td>no weather data</td>\n",
       "    </tr>\n",
       "    <tr>\n",
       "      <th>20</th>\n",
       "      <td>1758</td>\n",
       "      <td>2020-01-05</td>\n",
       "      <td>Kapalua, HI</td>\n",
       "      <td>no weather data</td>\n",
       "    </tr>\n",
       "    <tr>\n",
       "      <th>21</th>\n",
       "      <td>2023</td>\n",
       "      <td>2020-01-01</td>\n",
       "      <td>Kotzebue, AK</td>\n",
       "      <td>no weather data</td>\n",
       "    </tr>\n",
       "    <tr>\n",
       "      <th>22</th>\n",
       "      <td>2062</td>\n",
       "      <td>2020-01-07</td>\n",
       "      <td>Kotzebue, AK</td>\n",
       "      <td>no weather data</td>\n",
       "    </tr>\n",
       "    <tr>\n",
       "      <th>23</th>\n",
       "      <td>2102</td>\n",
       "      <td>2020-01-02</td>\n",
       "      <td>Kotzebue, AK</td>\n",
       "      <td>no weather data</td>\n",
       "    </tr>\n",
       "    <tr>\n",
       "      <th>24</th>\n",
       "      <td>2167</td>\n",
       "      <td>2020-01-06</td>\n",
       "      <td>Kotzebue, AK</td>\n",
       "      <td>no weather data</td>\n",
       "    </tr>\n",
       "    <tr>\n",
       "      <th>25</th>\n",
       "      <td>2176</td>\n",
       "      <td>2020-01-04</td>\n",
       "      <td>Kotzebue, AK</td>\n",
       "      <td>no weather data</td>\n",
       "    </tr>\n",
       "    <tr>\n",
       "      <th>26</th>\n",
       "      <td>2196</td>\n",
       "      <td>2020-01-05</td>\n",
       "      <td>Kotzebue, AK</td>\n",
       "      <td>no weather data</td>\n",
       "    </tr>\n",
       "    <tr>\n",
       "      <th>27</th>\n",
       "      <td>2282</td>\n",
       "      <td>2020-01-03</td>\n",
       "      <td>Kotzebue, AK</td>\n",
       "      <td>no weather data</td>\n",
       "    </tr>\n",
       "  </tbody>\n",
       "</table>\n",
       "</div>"
      ],
      "text/plain": [
       "    index     fl_date          city    weather_categ\n",
       "0     337  2020-01-03   Kahului, HI  no weather data\n",
       "1     338  2020-01-05   Kahului, HI  no weather data\n",
       "2     339  2020-01-04   Kahului, HI  no weather data\n",
       "3     342  2020-01-02   Kahului, HI  no weather data\n",
       "4     343  2020-01-01   Kahului, HI  no weather data\n",
       "5     355  2020-01-06   Kahului, HI  no weather data\n",
       "6     386  2020-01-07   Kahului, HI  no weather data\n",
       "7     723  2020-01-04  Key West, FL  no weather data\n",
       "8     760  2020-01-05  Key West, FL  no weather data\n",
       "9     804  2020-01-03  Key West, FL  no weather data\n",
       "10    807  2020-01-02  Key West, FL  no weather data\n",
       "11    813  2020-01-06  Key West, FL  no weather data\n",
       "12    842  2020-01-01  Key West, FL  no weather data\n",
       "13    855  2020-01-07  Key West, FL  no weather data\n",
       "14   1653  2020-01-07   Kapalua, HI  no weather data\n",
       "15   1666  2020-01-06   Kapalua, HI  no weather data\n",
       "16   1693  2020-01-04   Kapalua, HI  no weather data\n",
       "17   1714  2020-01-01   Kapalua, HI  no weather data\n",
       "18   1735  2020-01-03   Kapalua, HI  no weather data\n",
       "19   1744  2020-01-02   Kapalua, HI  no weather data\n",
       "20   1758  2020-01-05   Kapalua, HI  no weather data\n",
       "21   2023  2020-01-01  Kotzebue, AK  no weather data\n",
       "22   2062  2020-01-07  Kotzebue, AK  no weather data\n",
       "23   2102  2020-01-02  Kotzebue, AK  no weather data\n",
       "24   2167  2020-01-06  Kotzebue, AK  no weather data\n",
       "25   2176  2020-01-04  Kotzebue, AK  no weather data\n",
       "26   2196  2020-01-05  Kotzebue, AK  no weather data\n",
       "27   2282  2020-01-03  Kotzebue, AK  no weather data"
      ]
     },
     "execution_count": 98,
     "metadata": {},
     "output_type": "execute_result"
    }
   ],
   "source": [
    "extra_flights_unique"
   ]
  },
  {
   "cell_type": "code",
   "execution_count": 30,
   "id": "34aa1d1c-5660-4216-a44d-a915689544aa",
   "metadata": {},
   "outputs": [],
   "source": [
    "#save the new colummn to the csv\n",
    "flight_unique.to_csv('data/flights_test_uniques.csv', header=True, index=False)"
   ]
  },
  {
   "cell_type": "markdown",
   "id": "f56caef2-2fba-49d4-b944-74e5e1315954",
   "metadata": {},
   "source": [
    "## Add the weather data for origin and dest city to flights_test df"
   ]
  },
  {
   "cell_type": "code",
   "execution_count": 52,
   "id": "49978c2f-4a87-47b4-8ca1-612f682a5ede",
   "metadata": {},
   "outputs": [],
   "source": [
    "#load flights_test\n",
    "flights_test = pd.read_csv('data/flights_test.csv', index_col=0)"
   ]
  },
  {
   "cell_type": "code",
   "execution_count": 53,
   "id": "143186e3-f408-405b-bb89-8dd7691d6c56",
   "metadata": {},
   "outputs": [
    {
     "data": {
      "text/html": [
       "<div>\n",
       "<style scoped>\n",
       "    .dataframe tbody tr th:only-of-type {\n",
       "        vertical-align: middle;\n",
       "    }\n",
       "\n",
       "    .dataframe tbody tr th {\n",
       "        vertical-align: top;\n",
       "    }\n",
       "\n",
       "    .dataframe thead th {\n",
       "        text-align: right;\n",
       "    }\n",
       "</style>\n",
       "<table border=\"1\" class=\"dataframe\">\n",
       "  <thead>\n",
       "    <tr style=\"text-align: right;\">\n",
       "      <th></th>\n",
       "      <th>fl_date</th>\n",
       "      <th>mkt_unique_carrier</th>\n",
       "      <th>branded_code_share</th>\n",
       "      <th>mkt_carrier</th>\n",
       "      <th>mkt_carrier_fl_num</th>\n",
       "      <th>op_unique_carrier</th>\n",
       "      <th>tail_num</th>\n",
       "      <th>op_carrier_fl_num</th>\n",
       "      <th>origin_airport_id</th>\n",
       "      <th>origin</th>\n",
       "      <th>origin_city_name</th>\n",
       "      <th>dest_airport_id</th>\n",
       "      <th>dest</th>\n",
       "      <th>dest_city_name</th>\n",
       "      <th>crs_dep_time</th>\n",
       "      <th>crs_arr_time</th>\n",
       "      <th>dup</th>\n",
       "      <th>crs_elapsed_time</th>\n",
       "      <th>flights</th>\n",
       "      <th>distance</th>\n",
       "    </tr>\n",
       "  </thead>\n",
       "  <tbody>\n",
       "    <tr>\n",
       "      <th>0</th>\n",
       "      <td>2020-01-01</td>\n",
       "      <td>WN</td>\n",
       "      <td>WN</td>\n",
       "      <td>WN</td>\n",
       "      <td>5888</td>\n",
       "      <td>WN</td>\n",
       "      <td>N951WN</td>\n",
       "      <td>5888</td>\n",
       "      <td>13891</td>\n",
       "      <td>ONT</td>\n",
       "      <td>Ontario, CA</td>\n",
       "      <td>14771</td>\n",
       "      <td>SFO</td>\n",
       "      <td>San Francisco, CA</td>\n",
       "      <td>1810</td>\n",
       "      <td>1945</td>\n",
       "      <td>N</td>\n",
       "      <td>95</td>\n",
       "      <td>1</td>\n",
       "      <td>363</td>\n",
       "    </tr>\n",
       "    <tr>\n",
       "      <th>1</th>\n",
       "      <td>2020-01-01</td>\n",
       "      <td>WN</td>\n",
       "      <td>WN</td>\n",
       "      <td>WN</td>\n",
       "      <td>6276</td>\n",
       "      <td>WN</td>\n",
       "      <td>N467WN</td>\n",
       "      <td>6276</td>\n",
       "      <td>13891</td>\n",
       "      <td>ONT</td>\n",
       "      <td>Ontario, CA</td>\n",
       "      <td>14771</td>\n",
       "      <td>SFO</td>\n",
       "      <td>San Francisco, CA</td>\n",
       "      <td>1150</td>\n",
       "      <td>1320</td>\n",
       "      <td>N</td>\n",
       "      <td>90</td>\n",
       "      <td>1</td>\n",
       "      <td>363</td>\n",
       "    </tr>\n",
       "  </tbody>\n",
       "</table>\n",
       "</div>"
      ],
      "text/plain": [
       "      fl_date mkt_unique_carrier branded_code_share mkt_carrier  \\\n",
       "0  2020-01-01                 WN                 WN          WN   \n",
       "1  2020-01-01                 WN                 WN          WN   \n",
       "\n",
       "   mkt_carrier_fl_num op_unique_carrier tail_num  op_carrier_fl_num  \\\n",
       "0                5888                WN   N951WN               5888   \n",
       "1                6276                WN   N467WN               6276   \n",
       "\n",
       "   origin_airport_id origin origin_city_name  dest_airport_id dest  \\\n",
       "0              13891    ONT      Ontario, CA            14771  SFO   \n",
       "1              13891    ONT      Ontario, CA            14771  SFO   \n",
       "\n",
       "      dest_city_name  crs_dep_time  crs_arr_time dup  crs_elapsed_time  \\\n",
       "0  San Francisco, CA          1810          1945   N                95   \n",
       "1  San Francisco, CA          1150          1320   N                90   \n",
       "\n",
       "   flights  distance  \n",
       "0        1       363  \n",
       "1        1       363  "
      ]
     },
     "execution_count": 53,
     "metadata": {},
     "output_type": "execute_result"
    }
   ],
   "source": [
    "flights_test.head(2)"
   ]
  },
  {
   "cell_type": "code",
   "execution_count": 59,
   "id": "354c6eda-6d9d-47d5-bbfc-df5ed5de23b6",
   "metadata": {},
   "outputs": [],
   "source": [
    "#load flights_test_unique with the weather data\n",
    "flight_unique = pd.read_csv('data/flights_test_uniques.csv')"
   ]
  },
  {
   "cell_type": "code",
   "execution_count": 60,
   "id": "72f0cd37-0aab-4222-bf85-c6cc6606005e",
   "metadata": {},
   "outputs": [
    {
     "data": {
      "text/html": [
       "<div>\n",
       "<style scoped>\n",
       "    .dataframe tbody tr th:only-of-type {\n",
       "        vertical-align: middle;\n",
       "    }\n",
       "\n",
       "    .dataframe tbody tr th {\n",
       "        vertical-align: top;\n",
       "    }\n",
       "\n",
       "    .dataframe thead th {\n",
       "        text-align: right;\n",
       "    }\n",
       "</style>\n",
       "<table border=\"1\" class=\"dataframe\">\n",
       "  <thead>\n",
       "    <tr style=\"text-align: right;\">\n",
       "      <th></th>\n",
       "      <th>fl_date</th>\n",
       "      <th>city</th>\n",
       "      <th>count</th>\n",
       "      <th>weather_categ</th>\n",
       "    </tr>\n",
       "  </thead>\n",
       "  <tbody>\n",
       "    <tr>\n",
       "      <th>0</th>\n",
       "      <td>2020-01-03</td>\n",
       "      <td>Chicago, IL</td>\n",
       "      <td>2591</td>\n",
       "      <td>cloudy</td>\n",
       "    </tr>\n",
       "    <tr>\n",
       "      <th>1</th>\n",
       "      <td>2020-01-02</td>\n",
       "      <td>Chicago, IL</td>\n",
       "      <td>2587</td>\n",
       "      <td>sunny</td>\n",
       "    </tr>\n",
       "  </tbody>\n",
       "</table>\n",
       "</div>"
      ],
      "text/plain": [
       "      fl_date         city  count weather_categ\n",
       "0  2020-01-03  Chicago, IL   2591        cloudy\n",
       "1  2020-01-02  Chicago, IL   2587         sunny"
      ]
     },
     "execution_count": 60,
     "metadata": {},
     "output_type": "execute_result"
    }
   ],
   "source": [
    "flight_unique.head(2)"
   ]
  },
  {
   "cell_type": "code",
   "execution_count": 61,
   "id": "6eb8d405-e581-41dd-b063-5f1fafbbc0ec",
   "metadata": {},
   "outputs": [],
   "source": [
    "#we don't want to add the count, only the weather\n",
    "flight_unique.drop('count', axis = 1, inplace = True)"
   ]
  },
  {
   "cell_type": "code",
   "execution_count": 55,
   "id": "1fad94e6-3e08-4fa1-892a-c75795755070",
   "metadata": {},
   "outputs": [],
   "source": [
    "#merge for origin city\n",
    "flights_test = pd.merge(flights_test, flight_unique, how = 'left', left_on = ['fl_date', 'origin_city_name'], right_on = ['fl_date', 'city'])"
   ]
  },
  {
   "cell_type": "code",
   "execution_count": 56,
   "id": "7675ab9d-9d29-499a-b8c8-577e126d223e",
   "metadata": {},
   "outputs": [
    {
     "data": {
      "text/html": [
       "<div>\n",
       "<style scoped>\n",
       "    .dataframe tbody tr th:only-of-type {\n",
       "        vertical-align: middle;\n",
       "    }\n",
       "\n",
       "    .dataframe tbody tr th {\n",
       "        vertical-align: top;\n",
       "    }\n",
       "\n",
       "    .dataframe thead th {\n",
       "        text-align: right;\n",
       "    }\n",
       "</style>\n",
       "<table border=\"1\" class=\"dataframe\">\n",
       "  <thead>\n",
       "    <tr style=\"text-align: right;\">\n",
       "      <th></th>\n",
       "      <th>fl_date</th>\n",
       "      <th>mkt_unique_carrier</th>\n",
       "      <th>branded_code_share</th>\n",
       "      <th>mkt_carrier</th>\n",
       "      <th>mkt_carrier_fl_num</th>\n",
       "      <th>op_unique_carrier</th>\n",
       "      <th>tail_num</th>\n",
       "      <th>op_carrier_fl_num</th>\n",
       "      <th>origin_airport_id</th>\n",
       "      <th>origin</th>\n",
       "      <th>...</th>\n",
       "      <th>dest</th>\n",
       "      <th>dest_city_name</th>\n",
       "      <th>crs_dep_time</th>\n",
       "      <th>crs_arr_time</th>\n",
       "      <th>dup</th>\n",
       "      <th>crs_elapsed_time</th>\n",
       "      <th>flights</th>\n",
       "      <th>distance</th>\n",
       "      <th>city</th>\n",
       "      <th>weather_categ</th>\n",
       "    </tr>\n",
       "  </thead>\n",
       "  <tbody>\n",
       "    <tr>\n",
       "      <th>0</th>\n",
       "      <td>2020-01-01</td>\n",
       "      <td>WN</td>\n",
       "      <td>WN</td>\n",
       "      <td>WN</td>\n",
       "      <td>5888</td>\n",
       "      <td>WN</td>\n",
       "      <td>N951WN</td>\n",
       "      <td>5888</td>\n",
       "      <td>13891</td>\n",
       "      <td>ONT</td>\n",
       "      <td>...</td>\n",
       "      <td>SFO</td>\n",
       "      <td>San Francisco, CA</td>\n",
       "      <td>1810</td>\n",
       "      <td>1945</td>\n",
       "      <td>N</td>\n",
       "      <td>95</td>\n",
       "      <td>1</td>\n",
       "      <td>363</td>\n",
       "      <td>Ontario, CA</td>\n",
       "      <td>sunny</td>\n",
       "    </tr>\n",
       "    <tr>\n",
       "      <th>1</th>\n",
       "      <td>2020-01-01</td>\n",
       "      <td>WN</td>\n",
       "      <td>WN</td>\n",
       "      <td>WN</td>\n",
       "      <td>6276</td>\n",
       "      <td>WN</td>\n",
       "      <td>N467WN</td>\n",
       "      <td>6276</td>\n",
       "      <td>13891</td>\n",
       "      <td>ONT</td>\n",
       "      <td>...</td>\n",
       "      <td>SFO</td>\n",
       "      <td>San Francisco, CA</td>\n",
       "      <td>1150</td>\n",
       "      <td>1320</td>\n",
       "      <td>N</td>\n",
       "      <td>90</td>\n",
       "      <td>1</td>\n",
       "      <td>363</td>\n",
       "      <td>Ontario, CA</td>\n",
       "      <td>sunny</td>\n",
       "    </tr>\n",
       "  </tbody>\n",
       "</table>\n",
       "<p>2 rows × 22 columns</p>\n",
       "</div>"
      ],
      "text/plain": [
       "      fl_date mkt_unique_carrier branded_code_share mkt_carrier  \\\n",
       "0  2020-01-01                 WN                 WN          WN   \n",
       "1  2020-01-01                 WN                 WN          WN   \n",
       "\n",
       "   mkt_carrier_fl_num op_unique_carrier tail_num  op_carrier_fl_num  \\\n",
       "0                5888                WN   N951WN               5888   \n",
       "1                6276                WN   N467WN               6276   \n",
       "\n",
       "   origin_airport_id origin  ... dest     dest_city_name crs_dep_time  \\\n",
       "0              13891    ONT  ...  SFO  San Francisco, CA         1810   \n",
       "1              13891    ONT  ...  SFO  San Francisco, CA         1150   \n",
       "\n",
       "  crs_arr_time  dup  crs_elapsed_time flights  distance         city  \\\n",
       "0         1945    N                95       1       363  Ontario, CA   \n",
       "1         1320    N                90       1       363  Ontario, CA   \n",
       "\n",
       "   weather_categ  \n",
       "0          sunny  \n",
       "1          sunny  \n",
       "\n",
       "[2 rows x 22 columns]"
      ]
     },
     "execution_count": 56,
     "metadata": {},
     "output_type": "execute_result"
    }
   ],
   "source": [
    "flights_test.head(2)"
   ]
  },
  {
   "cell_type": "code",
   "execution_count": 62,
   "id": "1c8491ae-d21a-47d0-9e63-b59cb2084754",
   "metadata": {},
   "outputs": [],
   "source": [
    "#rename col weather_origin\n",
    "flights_test.rename({'weather_categ': 'orig_weather_categ'}, axis = 1, inplace= True)\n",
    "#drop the city col which also merged\n",
    "flights_test.drop('city', axis = 1, inplace = True)"
   ]
  },
  {
   "cell_type": "code",
   "execution_count": 63,
   "id": "3cdb9744-9b20-41c2-899f-c3bef1ee56b9",
   "metadata": {},
   "outputs": [
    {
     "data": {
      "text/html": [
       "<div>\n",
       "<style scoped>\n",
       "    .dataframe tbody tr th:only-of-type {\n",
       "        vertical-align: middle;\n",
       "    }\n",
       "\n",
       "    .dataframe tbody tr th {\n",
       "        vertical-align: top;\n",
       "    }\n",
       "\n",
       "    .dataframe thead th {\n",
       "        text-align: right;\n",
       "    }\n",
       "</style>\n",
       "<table border=\"1\" class=\"dataframe\">\n",
       "  <thead>\n",
       "    <tr style=\"text-align: right;\">\n",
       "      <th></th>\n",
       "      <th>fl_date</th>\n",
       "      <th>mkt_unique_carrier</th>\n",
       "      <th>branded_code_share</th>\n",
       "      <th>mkt_carrier</th>\n",
       "      <th>mkt_carrier_fl_num</th>\n",
       "      <th>op_unique_carrier</th>\n",
       "      <th>tail_num</th>\n",
       "      <th>op_carrier_fl_num</th>\n",
       "      <th>origin_airport_id</th>\n",
       "      <th>origin</th>\n",
       "      <th>...</th>\n",
       "      <th>dest_airport_id</th>\n",
       "      <th>dest</th>\n",
       "      <th>dest_city_name</th>\n",
       "      <th>crs_dep_time</th>\n",
       "      <th>crs_arr_time</th>\n",
       "      <th>dup</th>\n",
       "      <th>crs_elapsed_time</th>\n",
       "      <th>flights</th>\n",
       "      <th>distance</th>\n",
       "      <th>orig_weather_categ</th>\n",
       "    </tr>\n",
       "  </thead>\n",
       "  <tbody>\n",
       "    <tr>\n",
       "      <th>0</th>\n",
       "      <td>2020-01-01</td>\n",
       "      <td>WN</td>\n",
       "      <td>WN</td>\n",
       "      <td>WN</td>\n",
       "      <td>5888</td>\n",
       "      <td>WN</td>\n",
       "      <td>N951WN</td>\n",
       "      <td>5888</td>\n",
       "      <td>13891</td>\n",
       "      <td>ONT</td>\n",
       "      <td>...</td>\n",
       "      <td>14771</td>\n",
       "      <td>SFO</td>\n",
       "      <td>San Francisco, CA</td>\n",
       "      <td>1810</td>\n",
       "      <td>1945</td>\n",
       "      <td>N</td>\n",
       "      <td>95</td>\n",
       "      <td>1</td>\n",
       "      <td>363</td>\n",
       "      <td>sunny</td>\n",
       "    </tr>\n",
       "    <tr>\n",
       "      <th>1</th>\n",
       "      <td>2020-01-01</td>\n",
       "      <td>WN</td>\n",
       "      <td>WN</td>\n",
       "      <td>WN</td>\n",
       "      <td>6276</td>\n",
       "      <td>WN</td>\n",
       "      <td>N467WN</td>\n",
       "      <td>6276</td>\n",
       "      <td>13891</td>\n",
       "      <td>ONT</td>\n",
       "      <td>...</td>\n",
       "      <td>14771</td>\n",
       "      <td>SFO</td>\n",
       "      <td>San Francisco, CA</td>\n",
       "      <td>1150</td>\n",
       "      <td>1320</td>\n",
       "      <td>N</td>\n",
       "      <td>90</td>\n",
       "      <td>1</td>\n",
       "      <td>363</td>\n",
       "      <td>sunny</td>\n",
       "    </tr>\n",
       "  </tbody>\n",
       "</table>\n",
       "<p>2 rows × 21 columns</p>\n",
       "</div>"
      ],
      "text/plain": [
       "      fl_date mkt_unique_carrier branded_code_share mkt_carrier  \\\n",
       "0  2020-01-01                 WN                 WN          WN   \n",
       "1  2020-01-01                 WN                 WN          WN   \n",
       "\n",
       "   mkt_carrier_fl_num op_unique_carrier tail_num  op_carrier_fl_num  \\\n",
       "0                5888                WN   N951WN               5888   \n",
       "1                6276                WN   N467WN               6276   \n",
       "\n",
       "   origin_airport_id origin  ... dest_airport_id  dest     dest_city_name  \\\n",
       "0              13891    ONT  ...           14771   SFO  San Francisco, CA   \n",
       "1              13891    ONT  ...           14771   SFO  San Francisco, CA   \n",
       "\n",
       "  crs_dep_time  crs_arr_time  dup crs_elapsed_time  flights  distance  \\\n",
       "0         1810          1945    N               95        1       363   \n",
       "1         1150          1320    N               90        1       363   \n",
       "\n",
       "   orig_weather_categ  \n",
       "0               sunny  \n",
       "1               sunny  \n",
       "\n",
       "[2 rows x 21 columns]"
      ]
     },
     "execution_count": 63,
     "metadata": {},
     "output_type": "execute_result"
    }
   ],
   "source": [
    "flights_test.head(2)"
   ]
  },
  {
   "cell_type": "code",
   "execution_count": 64,
   "id": "c9146ccb-b184-4e8e-8992-6f863bcafd60",
   "metadata": {},
   "outputs": [],
   "source": [
    "#add the dest weather\n",
    "flights_test = pd.merge(flights_test, flight_unique, how = 'left', left_on = ['fl_date', 'dest_city_name'], right_on = ['fl_date', 'city'])"
   ]
  },
  {
   "cell_type": "code",
   "execution_count": 65,
   "id": "cd7a36cd-8010-4912-875b-7b19da3014f2",
   "metadata": {},
   "outputs": [
    {
     "data": {
      "text/html": [
       "<div>\n",
       "<style scoped>\n",
       "    .dataframe tbody tr th:only-of-type {\n",
       "        vertical-align: middle;\n",
       "    }\n",
       "\n",
       "    .dataframe tbody tr th {\n",
       "        vertical-align: top;\n",
       "    }\n",
       "\n",
       "    .dataframe thead th {\n",
       "        text-align: right;\n",
       "    }\n",
       "</style>\n",
       "<table border=\"1\" class=\"dataframe\">\n",
       "  <thead>\n",
       "    <tr style=\"text-align: right;\">\n",
       "      <th></th>\n",
       "      <th>fl_date</th>\n",
       "      <th>mkt_unique_carrier</th>\n",
       "      <th>branded_code_share</th>\n",
       "      <th>mkt_carrier</th>\n",
       "      <th>mkt_carrier_fl_num</th>\n",
       "      <th>op_unique_carrier</th>\n",
       "      <th>tail_num</th>\n",
       "      <th>op_carrier_fl_num</th>\n",
       "      <th>origin_airport_id</th>\n",
       "      <th>origin</th>\n",
       "      <th>...</th>\n",
       "      <th>dest_city_name</th>\n",
       "      <th>crs_dep_time</th>\n",
       "      <th>crs_arr_time</th>\n",
       "      <th>dup</th>\n",
       "      <th>crs_elapsed_time</th>\n",
       "      <th>flights</th>\n",
       "      <th>distance</th>\n",
       "      <th>orig_weather_categ</th>\n",
       "      <th>city</th>\n",
       "      <th>weather_categ</th>\n",
       "    </tr>\n",
       "  </thead>\n",
       "  <tbody>\n",
       "    <tr>\n",
       "      <th>0</th>\n",
       "      <td>2020-01-01</td>\n",
       "      <td>WN</td>\n",
       "      <td>WN</td>\n",
       "      <td>WN</td>\n",
       "      <td>5888</td>\n",
       "      <td>WN</td>\n",
       "      <td>N951WN</td>\n",
       "      <td>5888</td>\n",
       "      <td>13891</td>\n",
       "      <td>ONT</td>\n",
       "      <td>...</td>\n",
       "      <td>San Francisco, CA</td>\n",
       "      <td>1810</td>\n",
       "      <td>1945</td>\n",
       "      <td>N</td>\n",
       "      <td>95</td>\n",
       "      <td>1</td>\n",
       "      <td>363</td>\n",
       "      <td>sunny</td>\n",
       "      <td>San Francisco, CA</td>\n",
       "      <td>cloudy</td>\n",
       "    </tr>\n",
       "    <tr>\n",
       "      <th>1</th>\n",
       "      <td>2020-01-01</td>\n",
       "      <td>WN</td>\n",
       "      <td>WN</td>\n",
       "      <td>WN</td>\n",
       "      <td>6276</td>\n",
       "      <td>WN</td>\n",
       "      <td>N467WN</td>\n",
       "      <td>6276</td>\n",
       "      <td>13891</td>\n",
       "      <td>ONT</td>\n",
       "      <td>...</td>\n",
       "      <td>San Francisco, CA</td>\n",
       "      <td>1150</td>\n",
       "      <td>1320</td>\n",
       "      <td>N</td>\n",
       "      <td>90</td>\n",
       "      <td>1</td>\n",
       "      <td>363</td>\n",
       "      <td>sunny</td>\n",
       "      <td>San Francisco, CA</td>\n",
       "      <td>cloudy</td>\n",
       "    </tr>\n",
       "  </tbody>\n",
       "</table>\n",
       "<p>2 rows × 23 columns</p>\n",
       "</div>"
      ],
      "text/plain": [
       "      fl_date mkt_unique_carrier branded_code_share mkt_carrier  \\\n",
       "0  2020-01-01                 WN                 WN          WN   \n",
       "1  2020-01-01                 WN                 WN          WN   \n",
       "\n",
       "   mkt_carrier_fl_num op_unique_carrier tail_num  op_carrier_fl_num  \\\n",
       "0                5888                WN   N951WN               5888   \n",
       "1                6276                WN   N467WN               6276   \n",
       "\n",
       "   origin_airport_id origin  ...     dest_city_name  crs_dep_time  \\\n",
       "0              13891    ONT  ...  San Francisco, CA          1810   \n",
       "1              13891    ONT  ...  San Francisco, CA          1150   \n",
       "\n",
       "  crs_arr_time dup  crs_elapsed_time  flights distance  orig_weather_categ  \\\n",
       "0         1945   N                95        1      363               sunny   \n",
       "1         1320   N                90        1      363               sunny   \n",
       "\n",
       "                city  weather_categ  \n",
       "0  San Francisco, CA         cloudy  \n",
       "1  San Francisco, CA         cloudy  \n",
       "\n",
       "[2 rows x 23 columns]"
      ]
     },
     "execution_count": 65,
     "metadata": {},
     "output_type": "execute_result"
    }
   ],
   "source": [
    "flights_test.head(2)"
   ]
  },
  {
   "cell_type": "code",
   "execution_count": 66,
   "id": "bb6ab59b-8de3-47df-a8d4-70d230a0ae16",
   "metadata": {
    "tags": []
   },
   "outputs": [],
   "source": [
    "#rename col weather dest\n",
    "flights_test.rename({'weather_categ': 'dest_weather_categ'}, axis = 1, inplace= True)\n",
    "#drop the city col which also merged\n",
    "flights_test.drop('city', axis = 1, inplace = True)"
   ]
  },
  {
   "cell_type": "code",
   "execution_count": 67,
   "id": "e94b3c69-a08c-427c-a88e-1d21f568b76f",
   "metadata": {},
   "outputs": [
    {
     "data": {
      "text/html": [
       "<div>\n",
       "<style scoped>\n",
       "    .dataframe tbody tr th:only-of-type {\n",
       "        vertical-align: middle;\n",
       "    }\n",
       "\n",
       "    .dataframe tbody tr th {\n",
       "        vertical-align: top;\n",
       "    }\n",
       "\n",
       "    .dataframe thead th {\n",
       "        text-align: right;\n",
       "    }\n",
       "</style>\n",
       "<table border=\"1\" class=\"dataframe\">\n",
       "  <thead>\n",
       "    <tr style=\"text-align: right;\">\n",
       "      <th></th>\n",
       "      <th>fl_date</th>\n",
       "      <th>mkt_unique_carrier</th>\n",
       "      <th>branded_code_share</th>\n",
       "      <th>mkt_carrier</th>\n",
       "      <th>mkt_carrier_fl_num</th>\n",
       "      <th>op_unique_carrier</th>\n",
       "      <th>tail_num</th>\n",
       "      <th>op_carrier_fl_num</th>\n",
       "      <th>origin_airport_id</th>\n",
       "      <th>origin</th>\n",
       "      <th>...</th>\n",
       "      <th>dest</th>\n",
       "      <th>dest_city_name</th>\n",
       "      <th>crs_dep_time</th>\n",
       "      <th>crs_arr_time</th>\n",
       "      <th>dup</th>\n",
       "      <th>crs_elapsed_time</th>\n",
       "      <th>flights</th>\n",
       "      <th>distance</th>\n",
       "      <th>orig_weather_categ</th>\n",
       "      <th>dest_weather_categ</th>\n",
       "    </tr>\n",
       "  </thead>\n",
       "  <tbody>\n",
       "    <tr>\n",
       "      <th>0</th>\n",
       "      <td>2020-01-01</td>\n",
       "      <td>WN</td>\n",
       "      <td>WN</td>\n",
       "      <td>WN</td>\n",
       "      <td>5888</td>\n",
       "      <td>WN</td>\n",
       "      <td>N951WN</td>\n",
       "      <td>5888</td>\n",
       "      <td>13891</td>\n",
       "      <td>ONT</td>\n",
       "      <td>...</td>\n",
       "      <td>SFO</td>\n",
       "      <td>San Francisco, CA</td>\n",
       "      <td>1810</td>\n",
       "      <td>1945</td>\n",
       "      <td>N</td>\n",
       "      <td>95</td>\n",
       "      <td>1</td>\n",
       "      <td>363</td>\n",
       "      <td>sunny</td>\n",
       "      <td>cloudy</td>\n",
       "    </tr>\n",
       "    <tr>\n",
       "      <th>1</th>\n",
       "      <td>2020-01-01</td>\n",
       "      <td>WN</td>\n",
       "      <td>WN</td>\n",
       "      <td>WN</td>\n",
       "      <td>6276</td>\n",
       "      <td>WN</td>\n",
       "      <td>N467WN</td>\n",
       "      <td>6276</td>\n",
       "      <td>13891</td>\n",
       "      <td>ONT</td>\n",
       "      <td>...</td>\n",
       "      <td>SFO</td>\n",
       "      <td>San Francisco, CA</td>\n",
       "      <td>1150</td>\n",
       "      <td>1320</td>\n",
       "      <td>N</td>\n",
       "      <td>90</td>\n",
       "      <td>1</td>\n",
       "      <td>363</td>\n",
       "      <td>sunny</td>\n",
       "      <td>cloudy</td>\n",
       "    </tr>\n",
       "  </tbody>\n",
       "</table>\n",
       "<p>2 rows × 22 columns</p>\n",
       "</div>"
      ],
      "text/plain": [
       "      fl_date mkt_unique_carrier branded_code_share mkt_carrier  \\\n",
       "0  2020-01-01                 WN                 WN          WN   \n",
       "1  2020-01-01                 WN                 WN          WN   \n",
       "\n",
       "   mkt_carrier_fl_num op_unique_carrier tail_num  op_carrier_fl_num  \\\n",
       "0                5888                WN   N951WN               5888   \n",
       "1                6276                WN   N467WN               6276   \n",
       "\n",
       "   origin_airport_id origin  ... dest     dest_city_name crs_dep_time  \\\n",
       "0              13891    ONT  ...  SFO  San Francisco, CA         1810   \n",
       "1              13891    ONT  ...  SFO  San Francisco, CA         1150   \n",
       "\n",
       "  crs_arr_time  dup  crs_elapsed_time flights  distance  orig_weather_categ  \\\n",
       "0         1945    N                95       1       363               sunny   \n",
       "1         1320    N                90       1       363               sunny   \n",
       "\n",
       "   dest_weather_categ  \n",
       "0              cloudy  \n",
       "1              cloudy  \n",
       "\n",
       "[2 rows x 22 columns]"
      ]
     },
     "execution_count": 67,
     "metadata": {},
     "output_type": "execute_result"
    }
   ],
   "source": [
    "flights_test.head(2)"
   ]
  },
  {
   "cell_type": "code",
   "execution_count": 70,
   "id": "0362842f-72a8-4306-beee-01e72ee08ddd",
   "metadata": {},
   "outputs": [
    {
     "data": {
      "text/html": [
       "<div>\n",
       "<style scoped>\n",
       "    .dataframe tbody tr th:only-of-type {\n",
       "        vertical-align: middle;\n",
       "    }\n",
       "\n",
       "    .dataframe tbody tr th {\n",
       "        vertical-align: top;\n",
       "    }\n",
       "\n",
       "    .dataframe thead th {\n",
       "        text-align: right;\n",
       "    }\n",
       "</style>\n",
       "<table border=\"1\" class=\"dataframe\">\n",
       "  <thead>\n",
       "    <tr style=\"text-align: right;\">\n",
       "      <th></th>\n",
       "      <th>origin_city_name</th>\n",
       "      <th>dest_city_name</th>\n",
       "      <th>orig_weather_categ</th>\n",
       "      <th>dest_weather_categ</th>\n",
       "    </tr>\n",
       "  </thead>\n",
       "  <tbody>\n",
       "    <tr>\n",
       "      <th>0</th>\n",
       "      <td>Ontario, CA</td>\n",
       "      <td>San Francisco, CA</td>\n",
       "      <td>sunny</td>\n",
       "      <td>cloudy</td>\n",
       "    </tr>\n",
       "    <tr>\n",
       "      <th>1</th>\n",
       "      <td>Ontario, CA</td>\n",
       "      <td>San Francisco, CA</td>\n",
       "      <td>sunny</td>\n",
       "      <td>cloudy</td>\n",
       "    </tr>\n",
       "    <tr>\n",
       "      <th>2</th>\n",
       "      <td>Ontario, CA</td>\n",
       "      <td>San Jose, CA</td>\n",
       "      <td>sunny</td>\n",
       "      <td>cloudy</td>\n",
       "    </tr>\n",
       "    <tr>\n",
       "      <th>3</th>\n",
       "      <td>Ontario, CA</td>\n",
       "      <td>San Jose, CA</td>\n",
       "      <td>sunny</td>\n",
       "      <td>cloudy</td>\n",
       "    </tr>\n",
       "    <tr>\n",
       "      <th>4</th>\n",
       "      <td>Ontario, CA</td>\n",
       "      <td>San Jose, CA</td>\n",
       "      <td>sunny</td>\n",
       "      <td>cloudy</td>\n",
       "    </tr>\n",
       "    <tr>\n",
       "      <th>...</th>\n",
       "      <td>...</td>\n",
       "      <td>...</td>\n",
       "      <td>...</td>\n",
       "      <td>...</td>\n",
       "    </tr>\n",
       "    <tr>\n",
       "      <th>150618</th>\n",
       "      <td>Detroit, MI</td>\n",
       "      <td>New York, NY</td>\n",
       "      <td>cloudy</td>\n",
       "      <td>cloudy</td>\n",
       "    </tr>\n",
       "    <tr>\n",
       "      <th>150619</th>\n",
       "      <td>Greer, SC</td>\n",
       "      <td>New York, NY</td>\n",
       "      <td>rain</td>\n",
       "      <td>cloudy</td>\n",
       "    </tr>\n",
       "    <tr>\n",
       "      <th>150620</th>\n",
       "      <td>Atlanta, GA</td>\n",
       "      <td>Fayetteville, AR</td>\n",
       "      <td>rain</td>\n",
       "      <td>sunny</td>\n",
       "    </tr>\n",
       "    <tr>\n",
       "      <th>150621</th>\n",
       "      <td>Fayetteville, AR</td>\n",
       "      <td>Atlanta, GA</td>\n",
       "      <td>sunny</td>\n",
       "      <td>rain</td>\n",
       "    </tr>\n",
       "    <tr>\n",
       "      <th>150622</th>\n",
       "      <td>Portland, ME</td>\n",
       "      <td>New York, NY</td>\n",
       "      <td>cloudy</td>\n",
       "      <td>cloudy</td>\n",
       "    </tr>\n",
       "  </tbody>\n",
       "</table>\n",
       "<p>150623 rows × 4 columns</p>\n",
       "</div>"
      ],
      "text/plain": [
       "        origin_city_name     dest_city_name orig_weather_categ  \\\n",
       "0            Ontario, CA  San Francisco, CA              sunny   \n",
       "1            Ontario, CA  San Francisco, CA              sunny   \n",
       "2            Ontario, CA       San Jose, CA              sunny   \n",
       "3            Ontario, CA       San Jose, CA              sunny   \n",
       "4            Ontario, CA       San Jose, CA              sunny   \n",
       "...                  ...                ...                ...   \n",
       "150618       Detroit, MI       New York, NY             cloudy   \n",
       "150619         Greer, SC       New York, NY               rain   \n",
       "150620       Atlanta, GA   Fayetteville, AR               rain   \n",
       "150621  Fayetteville, AR        Atlanta, GA              sunny   \n",
       "150622      Portland, ME       New York, NY             cloudy   \n",
       "\n",
       "       dest_weather_categ  \n",
       "0                  cloudy  \n",
       "1                  cloudy  \n",
       "2                  cloudy  \n",
       "3                  cloudy  \n",
       "4                  cloudy  \n",
       "...                   ...  \n",
       "150618             cloudy  \n",
       "150619             cloudy  \n",
       "150620              sunny  \n",
       "150621               rain  \n",
       "150622             cloudy  \n",
       "\n",
       "[150623 rows x 4 columns]"
      ]
     },
     "execution_count": 70,
     "metadata": {},
     "output_type": "execute_result"
    }
   ],
   "source": [
    "flights_test[['origin_city_name','dest_city_name', 'orig_weather_categ','dest_weather_categ']]"
   ]
  },
  {
   "cell_type": "code",
   "execution_count": 68,
   "id": "f19dc484-46f9-4111-a186-f4507daa2f0b",
   "metadata": {},
   "outputs": [],
   "source": [
    "#save over the flights_test csv\n",
    "flights_test.to_csv('data/flights_test.csv', header=True, index=False)"
   ]
  },
  {
   "cell_type": "code",
   "execution_count": null,
   "id": "905eecda-c0c9-4047-9f84-0aa066ab3928",
   "metadata": {},
   "outputs": [],
   "source": []
  },
  {
   "cell_type": "code",
   "execution_count": null,
   "id": "e8c2628e-1558-4c9c-8814-e5f9c52c8720",
   "metadata": {},
   "outputs": [],
   "source": []
  },
  {
   "cell_type": "code",
   "execution_count": null,
   "id": "aeaa16df-099e-498b-ba3b-94a28e6779df",
   "metadata": {},
   "outputs": [],
   "source": []
  },
  {
   "cell_type": "code",
   "execution_count": null,
   "id": "f8045e01-8575-4249-b90e-7896bcfce34d",
   "metadata": {},
   "outputs": [],
   "source": []
  },
  {
   "cell_type": "code",
   "execution_count": null,
   "id": "0b699772-ea93-4979-9546-236231d0da5f",
   "metadata": {},
   "outputs": [],
   "source": []
  }
 ],
 "metadata": {
  "kernelspec": {
   "display_name": "lighthouse_env",
   "language": "python",
   "name": "lighthouse_env"
  },
  "language_info": {
   "codemirror_mode": {
    "name": "ipython",
    "version": 3
   },
   "file_extension": ".py",
   "mimetype": "text/x-python",
   "name": "python",
   "nbconvert_exporter": "python",
   "pygments_lexer": "ipython3",
   "version": "3.9.13"
  }
 },
 "nbformat": 4,
 "nbformat_minor": 5
}
