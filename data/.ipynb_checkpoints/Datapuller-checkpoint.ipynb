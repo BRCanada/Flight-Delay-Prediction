{
 "cells": [
  {
   "cell_type": "code",
   "execution_count": 37,
   "id": "75bf11ae-4ac2-4df2-bc30-b16bd57db530",
   "metadata": {},
   "outputs": [],
   "source": [
    "from sqlalchemy import create_engine\n",
    "import psycopg2"
   ]
  },
  {
   "cell_type": "code",
   "execution_count": 38,
   "id": "6b8a4e15-eac1-4eb8-91c0-1ef8fd74176e",
   "metadata": {},
   "outputs": [],
   "source": [
    "dbname = 'mid_term_project'\n",
    "user = 'lhl_student'\n",
    "password = 'lhl_student'\n",
    "host = 'lhl-data-bootcamp.crzjul5qln0e.ca-central-1.rds.amazonaws.com'\n",
    "port = 5432"
   ]
  },
  {
   "cell_type": "code",
   "execution_count": 39,
   "id": "be0736c6-601b-4ba5-a2ca-1baf82d3045e",
   "metadata": {},
   "outputs": [],
   "source": [
    "conn = psycopg2.connect(f\"dbname={dbname} user={user} password={password} host={host} port={port}\")"
   ]
  },
  {
   "cell_type": "code",
   "execution_count": 40,
   "id": "a9c2b185-1571-4c58-a233-9c017e70313e",
   "metadata": {},
   "outputs": [],
   "source": [
    "cur = conn.cursor()"
   ]
  },
  {
   "cell_type": "code",
   "execution_count": 21,
   "id": "3d362c66-3e8e-4af5-8f92-92a6e3f55a4a",
   "metadata": {},
   "outputs": [],
   "source": [
    "sql = \"SELECT * FROM passengers WHERE year = 2019;\""
   ]
  },
  {
   "cell_type": "code",
   "execution_count": 22,
   "id": "74d037b6-e196-4d09-9ba5-1314b2a1e819",
   "metadata": {},
   "outputs": [],
   "source": [
    "cur.execute(sql)"
   ]
  },
  {
   "cell_type": "code",
   "execution_count": 23,
   "id": "4626df51-b85a-4b0b-b104-ec35f71805bd",
   "metadata": {},
   "outputs": [],
   "source": [
    "ret_list = cur.fetchall()"
   ]
  },
  {
   "cell_type": "code",
   "execution_count": 24,
   "id": "0ec7b66d-4852-4090-982b-185b7a7724f2",
   "metadata": {},
   "outputs": [],
   "source": [
    "import pandas as pd"
   ]
  },
  {
   "cell_type": "code",
   "execution_count": 25,
   "id": "f5211605-2e13-4914-9cc1-49005a1258f1",
   "metadata": {},
   "outputs": [],
   "source": [
    "column_list = [ 'departures_scheduled', 'departures_performed', 'payload',\n",
    "       'seats', 'passengers', 'freight', 'mail', 'distance', 'ramp_to_ramp',\n",
    "       'air_time', 'unique_carrier', 'airline_id', 'unique_carrier_name',\n",
    "       'region', 'carrier', 'carrier_name', 'carrier_group',\n",
    "       'carrier_group_new', 'origin_airport_id', 'origin_city_market_id',\n",
    "       'origin', 'origin_city_name', 'origin_country', 'origin_country_name',\n",
    "       'dest_airport_id', 'dest_city_market_id', 'dest', 'dest_city_name',\n",
    "       'dest_country', 'dest_country_name', 'aircraft_group', 'aircraft_type',\n",
    "       'aircraft_config', 'year', 'month', 'distance_group', 'class',\n",
    "       'data_source']"
   ]
  },
  {
   "cell_type": "code",
   "execution_count": 26,
   "id": "d5d81288-b0d2-41f8-8784-cf71cd439198",
   "metadata": {},
   "outputs": [],
   "source": [
    "df = pd.DataFrame(ret_list, columns=column_list)"
   ]
  },
  {
   "cell_type": "code",
   "execution_count": 27,
   "id": "71d0f47d-acf1-4dc4-82f2-253b341168e9",
   "metadata": {},
   "outputs": [
    {
     "data": {
      "text/html": [
       "<div>\n",
       "<style scoped>\n",
       "    .dataframe tbody tr th:only-of-type {\n",
       "        vertical-align: middle;\n",
       "    }\n",
       "\n",
       "    .dataframe tbody tr th {\n",
       "        vertical-align: top;\n",
       "    }\n",
       "\n",
       "    .dataframe thead th {\n",
       "        text-align: right;\n",
       "    }\n",
       "</style>\n",
       "<table border=\"1\" class=\"dataframe\">\n",
       "  <thead>\n",
       "    <tr style=\"text-align: right;\">\n",
       "      <th></th>\n",
       "      <th>departures_scheduled</th>\n",
       "      <th>departures_performed</th>\n",
       "      <th>payload</th>\n",
       "      <th>seats</th>\n",
       "      <th>passengers</th>\n",
       "      <th>freight</th>\n",
       "      <th>mail</th>\n",
       "      <th>distance</th>\n",
       "      <th>ramp_to_ramp</th>\n",
       "      <th>air_time</th>\n",
       "      <th>...</th>\n",
       "      <th>dest_country</th>\n",
       "      <th>dest_country_name</th>\n",
       "      <th>aircraft_group</th>\n",
       "      <th>aircraft_type</th>\n",
       "      <th>aircraft_config</th>\n",
       "      <th>year</th>\n",
       "      <th>month</th>\n",
       "      <th>distance_group</th>\n",
       "      <th>class</th>\n",
       "      <th>data_source</th>\n",
       "    </tr>\n",
       "  </thead>\n",
       "  <tbody>\n",
       "    <tr>\n",
       "      <th>306392</th>\n",
       "      <td>22.0</td>\n",
       "      <td>22.0</td>\n",
       "      <td>77000.0</td>\n",
       "      <td>0.0</td>\n",
       "      <td>0.0</td>\n",
       "      <td>30655.0</td>\n",
       "      <td>0.0</td>\n",
       "      <td>51.0</td>\n",
       "      <td>694.0</td>\n",
       "      <td>489.0</td>\n",
       "      <td>...</td>\n",
       "      <td>US</td>\n",
       "      <td>United States</td>\n",
       "      <td>4</td>\n",
       "      <td>416</td>\n",
       "      <td>2</td>\n",
       "      <td>2019</td>\n",
       "      <td>1</td>\n",
       "      <td>1</td>\n",
       "      <td>G</td>\n",
       "      <td>DU</td>\n",
       "    </tr>\n",
       "    <tr>\n",
       "      <th>101533</th>\n",
       "      <td>0.0</td>\n",
       "      <td>1.0</td>\n",
       "      <td>30978.0</td>\n",
       "      <td>120.0</td>\n",
       "      <td>13.0</td>\n",
       "      <td>0.0</td>\n",
       "      <td>0.0</td>\n",
       "      <td>436.0</td>\n",
       "      <td>0.0</td>\n",
       "      <td>0.0</td>\n",
       "      <td>...</td>\n",
       "      <td>CA</td>\n",
       "      <td>Canada</td>\n",
       "      <td>6</td>\n",
       "      <td>698</td>\n",
       "      <td>1</td>\n",
       "      <td>2019</td>\n",
       "      <td>1</td>\n",
       "      <td>1</td>\n",
       "      <td>F</td>\n",
       "      <td>IF</td>\n",
       "    </tr>\n",
       "    <tr>\n",
       "      <th>101532</th>\n",
       "      <td>0.0</td>\n",
       "      <td>177.0</td>\n",
       "      <td>4266365.0</td>\n",
       "      <td>17164.0</td>\n",
       "      <td>12061.0</td>\n",
       "      <td>12265.0</td>\n",
       "      <td>0.0</td>\n",
       "      <td>436.0</td>\n",
       "      <td>0.0</td>\n",
       "      <td>0.0</td>\n",
       "      <td>...</td>\n",
       "      <td>CA</td>\n",
       "      <td>Canada</td>\n",
       "      <td>6</td>\n",
       "      <td>678</td>\n",
       "      <td>1</td>\n",
       "      <td>2019</td>\n",
       "      <td>1</td>\n",
       "      <td>1</td>\n",
       "      <td>F</td>\n",
       "      <td>IF</td>\n",
       "    </tr>\n",
       "    <tr>\n",
       "      <th>101531</th>\n",
       "      <td>0.0</td>\n",
       "      <td>16.0</td>\n",
       "      <td>584074.0</td>\n",
       "      <td>2704.0</td>\n",
       "      <td>2209.0</td>\n",
       "      <td>0.0</td>\n",
       "      <td>0.0</td>\n",
       "      <td>3091.0</td>\n",
       "      <td>0.0</td>\n",
       "      <td>0.0</td>\n",
       "      <td>...</td>\n",
       "      <td>CA</td>\n",
       "      <td>Canada</td>\n",
       "      <td>6</td>\n",
       "      <td>614</td>\n",
       "      <td>1</td>\n",
       "      <td>2019</td>\n",
       "      <td>1</td>\n",
       "      <td>7</td>\n",
       "      <td>F</td>\n",
       "      <td>IF</td>\n",
       "    </tr>\n",
       "    <tr>\n",
       "      <th>101530</th>\n",
       "      <td>0.0</td>\n",
       "      <td>60.0</td>\n",
       "      <td>2420081.0</td>\n",
       "      <td>10140.0</td>\n",
       "      <td>8470.0</td>\n",
       "      <td>343.0</td>\n",
       "      <td>0.0</td>\n",
       "      <td>2673.0</td>\n",
       "      <td>0.0</td>\n",
       "      <td>0.0</td>\n",
       "      <td>...</td>\n",
       "      <td>CA</td>\n",
       "      <td>Canada</td>\n",
       "      <td>6</td>\n",
       "      <td>614</td>\n",
       "      <td>1</td>\n",
       "      <td>2019</td>\n",
       "      <td>1</td>\n",
       "      <td>6</td>\n",
       "      <td>F</td>\n",
       "      <td>IF</td>\n",
       "    </tr>\n",
       "    <tr>\n",
       "      <th>...</th>\n",
       "      <td>...</td>\n",
       "      <td>...</td>\n",
       "      <td>...</td>\n",
       "      <td>...</td>\n",
       "      <td>...</td>\n",
       "      <td>...</td>\n",
       "      <td>...</td>\n",
       "      <td>...</td>\n",
       "      <td>...</td>\n",
       "      <td>...</td>\n",
       "      <td>...</td>\n",
       "      <td>...</td>\n",
       "      <td>...</td>\n",
       "      <td>...</td>\n",
       "      <td>...</td>\n",
       "      <td>...</td>\n",
       "      <td>...</td>\n",
       "      <td>...</td>\n",
       "      <td>...</td>\n",
       "      <td>...</td>\n",
       "      <td>...</td>\n",
       "    </tr>\n",
       "    <tr>\n",
       "      <th>330424</th>\n",
       "      <td>27.0</td>\n",
       "      <td>27.0</td>\n",
       "      <td>982800.0</td>\n",
       "      <td>4914.0</td>\n",
       "      <td>4358.0</td>\n",
       "      <td>0.0</td>\n",
       "      <td>0.0</td>\n",
       "      <td>1111.0</td>\n",
       "      <td>5136.0</td>\n",
       "      <td>4444.0</td>\n",
       "      <td>...</td>\n",
       "      <td>US</td>\n",
       "      <td>United States</td>\n",
       "      <td>6</td>\n",
       "      <td>694</td>\n",
       "      <td>1</td>\n",
       "      <td>2019</td>\n",
       "      <td>12</td>\n",
       "      <td>3</td>\n",
       "      <td>F</td>\n",
       "      <td>DU</td>\n",
       "    </tr>\n",
       "    <tr>\n",
       "      <th>292661</th>\n",
       "      <td>18.0</td>\n",
       "      <td>18.0</td>\n",
       "      <td>252000.0</td>\n",
       "      <td>1260.0</td>\n",
       "      <td>914.0</td>\n",
       "      <td>0.0</td>\n",
       "      <td>0.0</td>\n",
       "      <td>205.0</td>\n",
       "      <td>1242.0</td>\n",
       "      <td>737.0</td>\n",
       "      <td>...</td>\n",
       "      <td>US</td>\n",
       "      <td>United States</td>\n",
       "      <td>6</td>\n",
       "      <td>673</td>\n",
       "      <td>1</td>\n",
       "      <td>2019</td>\n",
       "      <td>12</td>\n",
       "      <td>1</td>\n",
       "      <td>F</td>\n",
       "      <td>DU</td>\n",
       "    </tr>\n",
       "    <tr>\n",
       "      <th>292660</th>\n",
       "      <td>18.0</td>\n",
       "      <td>18.0</td>\n",
       "      <td>273600.0</td>\n",
       "      <td>1368.0</td>\n",
       "      <td>1211.0</td>\n",
       "      <td>0.0</td>\n",
       "      <td>0.0</td>\n",
       "      <td>936.0</td>\n",
       "      <td>3023.0</td>\n",
       "      <td>2530.0</td>\n",
       "      <td>...</td>\n",
       "      <td>US</td>\n",
       "      <td>United States</td>\n",
       "      <td>6</td>\n",
       "      <td>673</td>\n",
       "      <td>1</td>\n",
       "      <td>2019</td>\n",
       "      <td>12</td>\n",
       "      <td>2</td>\n",
       "      <td>F</td>\n",
       "      <td>DU</td>\n",
       "    </tr>\n",
       "    <tr>\n",
       "      <th>239458</th>\n",
       "      <td>7.0</td>\n",
       "      <td>7.0</td>\n",
       "      <td>1399241.0</td>\n",
       "      <td>0.0</td>\n",
       "      <td>0.0</td>\n",
       "      <td>459093.0</td>\n",
       "      <td>0.0</td>\n",
       "      <td>254.0</td>\n",
       "      <td>457.0</td>\n",
       "      <td>324.0</td>\n",
       "      <td>...</td>\n",
       "      <td>US</td>\n",
       "      <td>United States</td>\n",
       "      <td>7</td>\n",
       "      <td>740</td>\n",
       "      <td>2</td>\n",
       "      <td>2019</td>\n",
       "      <td>12</td>\n",
       "      <td>1</td>\n",
       "      <td>G</td>\n",
       "      <td>DU</td>\n",
       "    </tr>\n",
       "    <tr>\n",
       "      <th>273626</th>\n",
       "      <td>13.0</td>\n",
       "      <td>13.0</td>\n",
       "      <td>527910.0</td>\n",
       "      <td>2080.0</td>\n",
       "      <td>1926.0</td>\n",
       "      <td>3457.0</td>\n",
       "      <td>136.0</td>\n",
       "      <td>760.0</td>\n",
       "      <td>1681.0</td>\n",
       "      <td>1297.0</td>\n",
       "      <td>...</td>\n",
       "      <td>US</td>\n",
       "      <td>United States</td>\n",
       "      <td>6</td>\n",
       "      <td>614</td>\n",
       "      <td>1</td>\n",
       "      <td>2019</td>\n",
       "      <td>12</td>\n",
       "      <td>2</td>\n",
       "      <td>F</td>\n",
       "      <td>DU</td>\n",
       "    </tr>\n",
       "  </tbody>\n",
       "</table>\n",
       "<p>486387 rows × 38 columns</p>\n",
       "</div>"
      ],
      "text/plain": [
       "        departures_scheduled  departures_performed    payload    seats  \\\n",
       "306392                  22.0                  22.0    77000.0      0.0   \n",
       "101533                   0.0                   1.0    30978.0    120.0   \n",
       "101532                   0.0                 177.0  4266365.0  17164.0   \n",
       "101531                   0.0                  16.0   584074.0   2704.0   \n",
       "101530                   0.0                  60.0  2420081.0  10140.0   \n",
       "...                      ...                   ...        ...      ...   \n",
       "330424                  27.0                  27.0   982800.0   4914.0   \n",
       "292661                  18.0                  18.0   252000.0   1260.0   \n",
       "292660                  18.0                  18.0   273600.0   1368.0   \n",
       "239458                   7.0                   7.0  1399241.0      0.0   \n",
       "273626                  13.0                  13.0   527910.0   2080.0   \n",
       "\n",
       "        passengers   freight   mail  distance  ramp_to_ramp  air_time  ...  \\\n",
       "306392         0.0   30655.0    0.0      51.0         694.0     489.0  ...   \n",
       "101533        13.0       0.0    0.0     436.0           0.0       0.0  ...   \n",
       "101532     12061.0   12265.0    0.0     436.0           0.0       0.0  ...   \n",
       "101531      2209.0       0.0    0.0    3091.0           0.0       0.0  ...   \n",
       "101530      8470.0     343.0    0.0    2673.0           0.0       0.0  ...   \n",
       "...            ...       ...    ...       ...           ...       ...  ...   \n",
       "330424      4358.0       0.0    0.0    1111.0        5136.0    4444.0  ...   \n",
       "292661       914.0       0.0    0.0     205.0        1242.0     737.0  ...   \n",
       "292660      1211.0       0.0    0.0     936.0        3023.0    2530.0  ...   \n",
       "239458         0.0  459093.0    0.0     254.0         457.0     324.0  ...   \n",
       "273626      1926.0    3457.0  136.0     760.0        1681.0    1297.0  ...   \n",
       "\n",
       "       dest_country  dest_country_name aircraft_group aircraft_type  \\\n",
       "306392           US      United States              4           416   \n",
       "101533           CA             Canada              6           698   \n",
       "101532           CA             Canada              6           678   \n",
       "101531           CA             Canada              6           614   \n",
       "101530           CA             Canada              6           614   \n",
       "...             ...                ...            ...           ...   \n",
       "330424           US      United States              6           694   \n",
       "292661           US      United States              6           673   \n",
       "292660           US      United States              6           673   \n",
       "239458           US      United States              7           740   \n",
       "273626           US      United States              6           614   \n",
       "\n",
       "       aircraft_config  year  month  distance_group  class  data_source  \n",
       "306392               2  2019      1               1      G           DU  \n",
       "101533               1  2019      1               1      F           IF  \n",
       "101532               1  2019      1               1      F           IF  \n",
       "101531               1  2019      1               7      F           IF  \n",
       "101530               1  2019      1               6      F           IF  \n",
       "...                ...   ...    ...             ...    ...          ...  \n",
       "330424               1  2019     12               3      F           DU  \n",
       "292661               1  2019     12               1      F           DU  \n",
       "292660               1  2019     12               2      F           DU  \n",
       "239458               2  2019     12               1      G           DU  \n",
       "273626               1  2019     12               2      F           DU  \n",
       "\n",
       "[486387 rows x 38 columns]"
      ]
     },
     "execution_count": 27,
     "metadata": {},
     "output_type": "execute_result"
    }
   ],
   "source": [
    "df.sort_values('month')"
   ]
  },
  {
   "cell_type": "code",
   "execution_count": 28,
   "id": "3a9c99f9-0369-44a3-8287-2de54e257c4e",
   "metadata": {},
   "outputs": [],
   "source": [
    "df.to_csv('passengers_2019.csv')"
   ]
  },
  {
   "cell_type": "code",
   "execution_count": 29,
   "id": "e26b18f4-07cc-4dd2-a11a-d8e5e75a541d",
   "metadata": {},
   "outputs": [],
   "source": [
    "# sqlinsane = \"SELECT * FROM flights;\" --when feeling ambitious try this at full throttle"
   ]
  },
  {
   "cell_type": "code",
   "execution_count": 41,
   "id": "38896801-8b79-4f9f-9243-ced2b77fb3b3",
   "metadata": {},
   "outputs": [],
   "source": [
    "sql2 = \"SELECT * FROM passengers WHERE year = 2018;\""
   ]
  },
  {
   "cell_type": "code",
   "execution_count": 42,
   "id": "dcf44403-dfb2-48e4-9211-62877cf3d369",
   "metadata": {},
   "outputs": [],
   "source": [
    "cur.execute(sql2)"
   ]
  },
  {
   "cell_type": "code",
   "execution_count": 43,
   "id": "f6e8bcfd-7307-4725-971d-732e7b2d9e3b",
   "metadata": {},
   "outputs": [],
   "source": [
    "ret_list2 = cur.fetchall()"
   ]
  },
  {
   "cell_type": "code",
   "execution_count": 44,
   "id": "661b57da-bf8d-4d4c-9844-57f3815007fe",
   "metadata": {},
   "outputs": [],
   "source": [
    "df2 = pd.DataFrame(ret_list2, columns=[ 'departures_scheduled', 'departures_performed', 'payload',\n",
    "       'seats', 'passengers', 'freight', 'mail', 'distance', 'ramp_to_ramp',\n",
    "       'air_time', 'unique_carrier', 'airline_id', 'unique_carrier_name',\n",
    "       'region', 'carrier', 'carrier_name', 'carrier_group',\n",
    "       'carrier_group_new', 'origin_airport_id', 'origin_city_market_id',\n",
    "       'origin', 'origin_city_name', 'origin_country', 'origin_country_name',\n",
    "       'dest_airport_id', 'dest_city_market_id', 'dest', 'dest_city_name',\n",
    "       'dest_country', 'dest_country_name', 'aircraft_group', 'aircraft_type',\n",
    "       'aircraft_config', 'year', 'month', 'distance_group', 'class',\n",
    "       'data_source'])"
   ]
  },
  {
   "cell_type": "code",
   "execution_count": 53,
   "id": "de95d85a-013d-42ae-bf99-a756c7899e0b",
   "metadata": {},
   "outputs": [
    {
     "data": {
      "text/plain": [
       "D    398737\n",
       "I     50677\n",
       "L     26393\n",
       "A      6538\n",
       "P      4042\n",
       "Name: region, dtype: int64"
      ]
     },
     "execution_count": 53,
     "metadata": {},
     "output_type": "execute_result"
    }
   ],
   "source": [
    "df.region.value_counts()"
   ]
  },
  {
   "cell_type": "code",
   "execution_count": 55,
   "id": "80c768b6-0672-420f-ad23-0a10111960e7",
   "metadata": {},
   "outputs": [
    {
     "data": {
      "text/plain": [
       "D    385097\n",
       "I     53293\n",
       "L     26127\n",
       "A      6594\n",
       "P      4073\n",
       "Name: region, dtype: int64"
      ]
     },
     "execution_count": 55,
     "metadata": {},
     "output_type": "execute_result"
    }
   ],
   "source": [
    "df2.region.value_counts()"
   ]
  },
  {
   "cell_type": "code",
   "execution_count": 62,
   "id": "2e97d521-b6cb-466f-9631-ad14b01f44a1",
   "metadata": {},
   "outputs": [
    {
     "data": {
      "text/plain": [
       "US    868096\n",
       "CA     17522\n",
       "MX     15994\n",
       "GB      4509\n",
       "DE      2983\n",
       "       ...  \n",
       "TN         1\n",
       "KV         1\n",
       "MN         1\n",
       "SI         1\n",
       "NP         1\n",
       "Name: dest_country, Length: 153, dtype: int64"
      ]
     },
     "execution_count": 62,
     "metadata": {},
     "output_type": "execute_result"
    }
   ],
   "source": [
    "final_df.dest_country.value_counts()"
   ]
  },
  {
   "cell_type": "code",
   "execution_count": 61,
   "id": "47a6f318-3d3e-4edc-8d14-b5ca69749af9",
   "metadata": {},
   "outputs": [],
   "source": [
    "final_df = pd.concat([df, df2])"
   ]
  },
  {
   "cell_type": "code",
   "execution_count": 63,
   "id": "442b73a4-54a1-4531-aaeb-d3819192ddbe",
   "metadata": {},
   "outputs": [],
   "source": [
    "final_df.drop(final_df[final_df['dest_country'] != 'US'].index, inplace=True)"
   ]
  },
  {
   "cell_type": "code",
   "execution_count": 64,
   "id": "852bed51-132f-46bf-96db-277904e1506c",
   "metadata": {},
   "outputs": [],
   "source": [
    "final_df.drop(final_df[final_df['origin_country'] != 'US'].index, inplace=True)"
   ]
  },
  {
   "cell_type": "code",
   "execution_count": 68,
   "id": "e94ad274-6eb2-4a4f-a16c-17db3cb48743",
   "metadata": {},
   "outputs": [
    {
     "data": {
      "text/plain": [
       "2019    318729\n",
       "2018    311729\n",
       "Name: year, dtype: int64"
      ]
     },
     "execution_count": 68,
     "metadata": {},
     "output_type": "execute_result"
    }
   ],
   "source": [
    "final_df.year.value_counts()"
   ]
  },
  {
   "cell_type": "code",
   "execution_count": 69,
   "id": "140f5553-d917-4876-a0d1-c26ba66203e9",
   "metadata": {},
   "outputs": [],
   "source": [
    "final_df.to_csv(\"passenger_master.csv\")"
   ]
  },
  {
   "cell_type": "code",
   "execution_count": null,
   "id": "371b3075-0582-4a1c-a2b0-ddbd73193f83",
   "metadata": {},
   "outputs": [],
   "source": []
  }
 ],
 "metadata": {
  "kernelspec": {
   "display_name": "Python 3 (ipykernel)",
   "language": "python",
   "name": "python3"
  },
  "language_info": {
   "codemirror_mode": {
    "name": "ipython",
    "version": 3
   },
   "file_extension": ".py",
   "mimetype": "text/x-python",
   "name": "python",
   "nbconvert_exporter": "python",
   "pygments_lexer": "ipython3",
   "version": "3.8.13"
  }
 },
 "nbformat": 4,
 "nbformat_minor": 5
}
