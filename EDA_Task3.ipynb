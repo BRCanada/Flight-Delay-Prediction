{
 "cells": [
  {
   "cell_type": "markdown",
   "metadata": {},
   "source": [
    "## EDA - Task 3"
   ]
  },
  {
   "cell_type": "code",
   "execution_count": 46,
   "metadata": {},
   "outputs": [],
   "source": [
    "import pandas as pd\n",
    "import numpy as np\n",
    "import scipy.stats as st"
   ]
  },
  {
   "cell_type": "code",
   "execution_count": 9,
   "metadata": {},
   "outputs": [],
   "source": [
    "flights = pd.read_csv('data/flights_10000.csv')"
   ]
  },
  {
   "cell_type": "markdown",
   "metadata": {
    "tags": []
   },
   "source": [
    "## **Task 3**: Does the weather affect the delay? \n",
    "Use the API to pull the weather information for flights. There is no need to get weather for ALL flights. We can choose the right representative sample. Let's focus on four weather types:\n",
    "- sunny\n",
    "- cloudy\n",
    "- rainy\n",
    "- snow.\n",
    "\n",
    "Test the hypothesis that these 4 delays are from the same distribution. If they are not, which ones are significantly different?"
   ]
  },
  {
   "cell_type": "code",
   "execution_count": 19,
   "metadata": {},
   "outputs": [],
   "source": [
    "weather_delay_df = flights[['fl_date','origin_city_name','dest_city_name', 'orig_weather_categ','dest_weather_categ', 'arr_delay', 'dep_delay']]"
   ]
  },
  {
   "cell_type": "code",
   "execution_count": 20,
   "metadata": {},
   "outputs": [
    {
     "data": {
      "text/html": [
       "<div>\n",
       "<style scoped>\n",
       "    .dataframe tbody tr th:only-of-type {\n",
       "        vertical-align: middle;\n",
       "    }\n",
       "\n",
       "    .dataframe tbody tr th {\n",
       "        vertical-align: top;\n",
       "    }\n",
       "\n",
       "    .dataframe thead th {\n",
       "        text-align: right;\n",
       "    }\n",
       "</style>\n",
       "<table border=\"1\" class=\"dataframe\">\n",
       "  <thead>\n",
       "    <tr style=\"text-align: right;\">\n",
       "      <th></th>\n",
       "      <th>fl_date</th>\n",
       "      <th>origin_city_name</th>\n",
       "      <th>dest_city_name</th>\n",
       "      <th>orig_weather_categ</th>\n",
       "      <th>dest_weather_categ</th>\n",
       "      <th>arr_delay</th>\n",
       "      <th>dep_delay</th>\n",
       "    </tr>\n",
       "  </thead>\n",
       "  <tbody>\n",
       "    <tr>\n",
       "      <th>0</th>\n",
       "      <td>2018-07-10</td>\n",
       "      <td>San Antonio, TX</td>\n",
       "      <td>Nashville, TN</td>\n",
       "      <td>cloudy</td>\n",
       "      <td>cloudy</td>\n",
       "      <td>-2.0</td>\n",
       "      <td>-3.0</td>\n",
       "    </tr>\n",
       "    <tr>\n",
       "      <th>1</th>\n",
       "      <td>2019-10-10</td>\n",
       "      <td>Chicago, IL</td>\n",
       "      <td>Orlando, FL</td>\n",
       "      <td>rain</td>\n",
       "      <td>rain</td>\n",
       "      <td>-9.0</td>\n",
       "      <td>-3.0</td>\n",
       "    </tr>\n",
       "    <tr>\n",
       "      <th>2</th>\n",
       "      <td>2019-07-18</td>\n",
       "      <td>Lawton/Fort Sill, OK</td>\n",
       "      <td>Dallas/Fort Worth, TX</td>\n",
       "      <td>sunny</td>\n",
       "      <td>sunny</td>\n",
       "      <td>8.0</td>\n",
       "      <td>6.0</td>\n",
       "    </tr>\n",
       "    <tr>\n",
       "      <th>3</th>\n",
       "      <td>2018-11-25</td>\n",
       "      <td>Savannah, GA</td>\n",
       "      <td>Chicago, IL</td>\n",
       "      <td>cloudy</td>\n",
       "      <td>snow &amp; rain</td>\n",
       "      <td>NaN</td>\n",
       "      <td>NaN</td>\n",
       "    </tr>\n",
       "    <tr>\n",
       "      <th>4</th>\n",
       "      <td>2018-10-24</td>\n",
       "      <td>Detroit, MI</td>\n",
       "      <td>Santa Ana, CA</td>\n",
       "      <td>sunny</td>\n",
       "      <td>sunny</td>\n",
       "      <td>28.0</td>\n",
       "      <td>-1.0</td>\n",
       "    </tr>\n",
       "  </tbody>\n",
       "</table>\n",
       "</div>"
      ],
      "text/plain": [
       "      fl_date      origin_city_name         dest_city_name orig_weather_categ  \\\n",
       "0  2018-07-10       San Antonio, TX          Nashville, TN             cloudy   \n",
       "1  2019-10-10           Chicago, IL            Orlando, FL               rain   \n",
       "2  2019-07-18  Lawton/Fort Sill, OK  Dallas/Fort Worth, TX              sunny   \n",
       "3  2018-11-25          Savannah, GA            Chicago, IL             cloudy   \n",
       "4  2018-10-24           Detroit, MI          Santa Ana, CA              sunny   \n",
       "\n",
       "  dest_weather_categ  arr_delay  dep_delay  \n",
       "0             cloudy       -2.0       -3.0  \n",
       "1               rain       -9.0       -3.0  \n",
       "2              sunny        8.0        6.0  \n",
       "3        snow & rain        NaN        NaN  \n",
       "4              sunny       28.0       -1.0  "
      ]
     },
     "execution_count": 20,
     "metadata": {},
     "output_type": "execute_result"
    }
   ],
   "source": [
    "weather_delay_df.head()"
   ]
  },
  {
   "cell_type": "code",
   "execution_count": 21,
   "metadata": {
    "collapsed": true,
    "jupyter": {
     "outputs_hidden": true
    },
    "tags": []
   },
   "outputs": [
    {
     "name": "stderr",
     "output_type": "stream",
     "text": [
      "C:\\Users\\3_hal\\AppData\\Local\\Temp\\ipykernel_6288\\1803515873.py:2: SettingWithCopyWarning: \n",
      "A value is trying to be set on a copy of a slice from a DataFrame.\n",
      "Try using .loc[row_indexer,col_indexer] = value instead\n",
      "\n",
      "See the caveats in the documentation: https://pandas.pydata.org/pandas-docs/stable/user_guide/indexing.html#returning-a-view-versus-a-copy\n",
      "  weather_delay_df['arr_delay'] = weather_delay_df['arr_delay'].fillna(0)\n",
      "C:\\Users\\3_hal\\AppData\\Local\\Temp\\ipykernel_6288\\1803515873.py:3: SettingWithCopyWarning: \n",
      "A value is trying to be set on a copy of a slice from a DataFrame.\n",
      "Try using .loc[row_indexer,col_indexer] = value instead\n",
      "\n",
      "See the caveats in the documentation: https://pandas.pydata.org/pandas-docs/stable/user_guide/indexing.html#returning-a-view-versus-a-copy\n",
      "  weather_delay_df['dep_delay'] = weather_delay_df['arr_delay'].fillna(0)\n"
     ]
    }
   ],
   "source": [
    "#fill nans\n",
    "weather_delay_df['arr_delay'] = weather_delay_df['arr_delay'].fillna(0)\n",
    "weather_delay_df['dep_delay'] = weather_delay_df['arr_delay'].fillna(0)"
   ]
  },
  {
   "cell_type": "code",
   "execution_count": 22,
   "metadata": {},
   "outputs": [
    {
     "data": {
      "text/html": [
       "<div>\n",
       "<style scoped>\n",
       "    .dataframe tbody tr th:only-of-type {\n",
       "        vertical-align: middle;\n",
       "    }\n",
       "\n",
       "    .dataframe tbody tr th {\n",
       "        vertical-align: top;\n",
       "    }\n",
       "\n",
       "    .dataframe thead th {\n",
       "        text-align: right;\n",
       "    }\n",
       "</style>\n",
       "<table border=\"1\" class=\"dataframe\">\n",
       "  <thead>\n",
       "    <tr style=\"text-align: right;\">\n",
       "      <th></th>\n",
       "      <th>fl_date</th>\n",
       "      <th>origin_city_name</th>\n",
       "      <th>dest_city_name</th>\n",
       "      <th>orig_weather_categ</th>\n",
       "      <th>dest_weather_categ</th>\n",
       "      <th>arr_delay</th>\n",
       "      <th>dep_delay</th>\n",
       "    </tr>\n",
       "  </thead>\n",
       "  <tbody>\n",
       "    <tr>\n",
       "      <th>0</th>\n",
       "      <td>2018-07-10</td>\n",
       "      <td>San Antonio, TX</td>\n",
       "      <td>Nashville, TN</td>\n",
       "      <td>cloudy</td>\n",
       "      <td>cloudy</td>\n",
       "      <td>-2.0</td>\n",
       "      <td>-2.0</td>\n",
       "    </tr>\n",
       "    <tr>\n",
       "      <th>1</th>\n",
       "      <td>2019-10-10</td>\n",
       "      <td>Chicago, IL</td>\n",
       "      <td>Orlando, FL</td>\n",
       "      <td>rain</td>\n",
       "      <td>rain</td>\n",
       "      <td>-9.0</td>\n",
       "      <td>-9.0</td>\n",
       "    </tr>\n",
       "    <tr>\n",
       "      <th>2</th>\n",
       "      <td>2019-07-18</td>\n",
       "      <td>Lawton/Fort Sill, OK</td>\n",
       "      <td>Dallas/Fort Worth, TX</td>\n",
       "      <td>sunny</td>\n",
       "      <td>sunny</td>\n",
       "      <td>8.0</td>\n",
       "      <td>8.0</td>\n",
       "    </tr>\n",
       "    <tr>\n",
       "      <th>3</th>\n",
       "      <td>2018-11-25</td>\n",
       "      <td>Savannah, GA</td>\n",
       "      <td>Chicago, IL</td>\n",
       "      <td>cloudy</td>\n",
       "      <td>snow &amp; rain</td>\n",
       "      <td>0.0</td>\n",
       "      <td>0.0</td>\n",
       "    </tr>\n",
       "    <tr>\n",
       "      <th>4</th>\n",
       "      <td>2018-10-24</td>\n",
       "      <td>Detroit, MI</td>\n",
       "      <td>Santa Ana, CA</td>\n",
       "      <td>sunny</td>\n",
       "      <td>sunny</td>\n",
       "      <td>28.0</td>\n",
       "      <td>28.0</td>\n",
       "    </tr>\n",
       "  </tbody>\n",
       "</table>\n",
       "</div>"
      ],
      "text/plain": [
       "      fl_date      origin_city_name         dest_city_name orig_weather_categ  \\\n",
       "0  2018-07-10       San Antonio, TX          Nashville, TN             cloudy   \n",
       "1  2019-10-10           Chicago, IL            Orlando, FL               rain   \n",
       "2  2019-07-18  Lawton/Fort Sill, OK  Dallas/Fort Worth, TX              sunny   \n",
       "3  2018-11-25          Savannah, GA            Chicago, IL             cloudy   \n",
       "4  2018-10-24           Detroit, MI          Santa Ana, CA              sunny   \n",
       "\n",
       "  dest_weather_categ  arr_delay  dep_delay  \n",
       "0             cloudy       -2.0       -2.0  \n",
       "1               rain       -9.0       -9.0  \n",
       "2              sunny        8.0        8.0  \n",
       "3        snow & rain        0.0        0.0  \n",
       "4              sunny       28.0       28.0  "
      ]
     },
     "execution_count": 22,
     "metadata": {},
     "output_type": "execute_result"
    }
   ],
   "source": [
    "weather_delay_df.head()"
   ]
  },
  {
   "cell_type": "code",
   "execution_count": 23,
   "metadata": {},
   "outputs": [],
   "source": [
    "import seaborn as sns\n",
    "import matplotlib.pyplot as plt"
   ]
  },
  {
   "cell_type": "code",
   "execution_count": 24,
   "metadata": {},
   "outputs": [
    {
     "data": {
      "text/plain": [
       "<AxesSubplot:xlabel='orig_weather_categ', ylabel='dep_delay'>"
      ]
     },
     "execution_count": 24,
     "metadata": {},
     "output_type": "execute_result"
    },
    {
     "data": {
      "image/png": "[encoded data removed]",
      "text/plain": [
       "<Figure size 842.4x595.44 with 1 Axes>"
      ]
     },
     "metadata": {},
     "output_type": "display_data"
    }
   ],
   "source": [
    "sns.set(rc={'figure.figsize':(11.7,8.27)})\n",
    "sns.scatterplot(data = weather_delay_df, x = 'orig_weather_categ', y = 'dep_delay')\n",
    "sns.scatterplot(data = weather_delay_df, x = 'dest_weather_categ', y = 'arr_delay')"
   ]
  },
  {
   "cell_type": "code",
   "execution_count": 25,
   "metadata": {},
   "outputs": [],
   "source": [
    "avg_origin_conditions = weather_delay_df.groupby(['orig_weather_categ'])['dep_delay'].mean().reset_index()\n",
    "avg_dest_conditions = weather_delay_df.groupby(['dest_weather_categ'])['arr_delay'].mean().reset_index()\n",
    "\n",
    "avg_dest_conditions.sort_values(by='arr_delay', inplace=True)\n",
    "avg_origin_conditions.sort_values(by='dep_delay', inplace=True)"
   ]
  },
  {
   "cell_type": "code",
   "execution_count": 26,
   "metadata": {},
   "outputs": [
    {
     "data": {
      "text/html": [
       "<div>\n",
       "<style scoped>\n",
       "    .dataframe tbody tr th:only-of-type {\n",
       "        vertical-align: middle;\n",
       "    }\n",
       "\n",
       "    .dataframe tbody tr th {\n",
       "        vertical-align: top;\n",
       "    }\n",
       "\n",
       "    .dataframe thead th {\n",
       "        text-align: right;\n",
       "    }\n",
       "</style>\n",
       "<table border=\"1\" class=\"dataframe\">\n",
       "  <thead>\n",
       "    <tr style=\"text-align: right;\">\n",
       "      <th></th>\n",
       "      <th>dest_weather_categ</th>\n",
       "      <th>arr_delay</th>\n",
       "    </tr>\n",
       "  </thead>\n",
       "  <tbody>\n",
       "    <tr>\n",
       "      <th>2</th>\n",
       "      <td>no weather data</td>\n",
       "      <td>-1.166667</td>\n",
       "    </tr>\n",
       "    <tr>\n",
       "      <th>6</th>\n",
       "      <td>sunny</td>\n",
       "      <td>1.286848</td>\n",
       "    </tr>\n",
       "    <tr>\n",
       "      <th>1</th>\n",
       "      <td>empty</td>\n",
       "      <td>1.847458</td>\n",
       "    </tr>\n",
       "    <tr>\n",
       "      <th>0</th>\n",
       "      <td>cloudy</td>\n",
       "      <td>5.095806</td>\n",
       "    </tr>\n",
       "    <tr>\n",
       "      <th>3</th>\n",
       "      <td>rain</td>\n",
       "      <td>10.933610</td>\n",
       "    </tr>\n",
       "  </tbody>\n",
       "</table>\n",
       "</div>"
      ],
      "text/plain": [
       "  dest_weather_categ  arr_delay\n",
       "2    no weather data  -1.166667\n",
       "6              sunny   1.286848\n",
       "1              empty   1.847458\n",
       "0             cloudy   5.095806\n",
       "3               rain  10.933610"
      ]
     },
     "execution_count": 26,
     "metadata": {},
     "output_type": "execute_result"
    }
   ],
   "source": [
    "avg_dest_conditions.head()"
   ]
  },
  {
   "cell_type": "code",
   "execution_count": 28,
   "metadata": {},
   "outputs": [],
   "source": [
    "#drop \"no weather data\" and \"empty\"\n",
    "avg_dest_conditions.drop(2, inplace = True)   # no data\n",
    "avg_dest_conditions.drop(1, inplace = True)   # empty"
   ]
  },
  {
   "cell_type": "code",
   "execution_count": 29,
   "metadata": {},
   "outputs": [
    {
     "data": {
      "text/html": [
       "<div>\n",
       "<style scoped>\n",
       "    .dataframe tbody tr th:only-of-type {\n",
       "        vertical-align: middle;\n",
       "    }\n",
       "\n",
       "    .dataframe tbody tr th {\n",
       "        vertical-align: top;\n",
       "    }\n",
       "\n",
       "    .dataframe thead th {\n",
       "        text-align: right;\n",
       "    }\n",
       "</style>\n",
       "<table border=\"1\" class=\"dataframe\">\n",
       "  <thead>\n",
       "    <tr style=\"text-align: right;\">\n",
       "      <th></th>\n",
       "      <th>dest_weather_categ</th>\n",
       "      <th>arr_delay</th>\n",
       "    </tr>\n",
       "  </thead>\n",
       "  <tbody>\n",
       "    <tr>\n",
       "      <th>6</th>\n",
       "      <td>sunny</td>\n",
       "      <td>1.286848</td>\n",
       "    </tr>\n",
       "    <tr>\n",
       "      <th>0</th>\n",
       "      <td>cloudy</td>\n",
       "      <td>5.095806</td>\n",
       "    </tr>\n",
       "    <tr>\n",
       "      <th>3</th>\n",
       "      <td>rain</td>\n",
       "      <td>10.933610</td>\n",
       "    </tr>\n",
       "    <tr>\n",
       "      <th>5</th>\n",
       "      <td>snow &amp; rain</td>\n",
       "      <td>17.781609</td>\n",
       "    </tr>\n",
       "    <tr>\n",
       "      <th>4</th>\n",
       "      <td>snow</td>\n",
       "      <td>28.395210</td>\n",
       "    </tr>\n",
       "  </tbody>\n",
       "</table>\n",
       "</div>"
      ],
      "text/plain": [
       "  dest_weather_categ  arr_delay\n",
       "6              sunny   1.286848\n",
       "0             cloudy   5.095806\n",
       "3               rain  10.933610\n",
       "5        snow & rain  17.781609\n",
       "4               snow  28.395210"
      ]
     },
     "execution_count": 29,
     "metadata": {},
     "output_type": "execute_result"
    }
   ],
   "source": [
    "avg_dest_conditions"
   ]
  },
  {
   "cell_type": "code",
   "execution_count": 35,
   "metadata": {},
   "outputs": [],
   "source": [
    "avg_origin_conditions.drop(2, inplace = True)   # no data\n",
    "avg_origin_conditions.drop(1, inplace = True)   # empty"
   ]
  },
  {
   "cell_type": "code",
   "execution_count": 45,
   "metadata": {},
   "outputs": [
    {
     "data": {
      "image/png": "[encoded data removed]",
      "text/plain": [
       "<Figure size 864x792 with 2 Axes>"
      ]
     },
     "metadata": {},
     "output_type": "display_data"
    }
   ],
   "source": [
    "fig, ax = plt.subplots(1, 2, figsize=(12,11))\n",
    "\n",
    "ax[0].bar(avg_origin_conditions['orig_weather_categ'], avg_origin_conditions['dep_delay'])\n",
    "ax[0].set_title('Origin city weather delay')\n",
    "\n",
    "ax[1].bar(avg_dest_conditions['dest_weather_categ'], avg_dest_conditions['arr_delay'])\n",
    "ax[1].set_title('Destination city weather delay')\n",
    "\n",
    "plt.show()"
   ]
  },
  {
   "cell_type": "markdown",
   "metadata": {},
   "source": [
    "### Origin City & Departure Delay\n",
    "let's compare the distribution of each weather condition"
   ]
  },
  {
   "cell_type": "code",
   "execution_count": 59,
   "metadata": {},
   "outputs": [
    {
     "data": {
      "text/plain": [
       "2        8.0\n",
       "4       28.0\n",
       "8       -9.0\n",
       "9      -12.0\n",
       "10      10.0\n",
       "        ... \n",
       "9990   -20.0\n",
       "9991   -15.0\n",
       "9992   -26.0\n",
       "9996     0.0\n",
       "9999     3.0\n",
       "Name: arr_delay, Length: 4743, dtype: float64"
      ]
     },
     "execution_count": 59,
     "metadata": {},
     "output_type": "execute_result"
    }
   ],
   "source": [
    "sunny_arr_delay = weather_delay_df[weather_delay_df['orig_weather_categ'] == 'sunny']['arr_delay']\n",
    "sunny_arr_delay"
   ]
  },
  {
   "cell_type": "code",
   "execution_count": 60,
   "metadata": {},
   "outputs": [],
   "source": [
    "cloudy_arr_delay = weather_delay_df[weather_delay_df['orig_weather_categ'] == 'cloudy']['arr_delay']\n",
    "rain_arr_delay = weather_delay_df[weather_delay_df['orig_weather_categ'] == 'rain']['arr_delay']\n",
    "rain_snow_arr_delay = weather_delay_df[weather_delay_df['orig_weather_categ'] == 'snow & rain']['arr_delay']\n",
    "snow_arr_delay = weather_delay_df[weather_delay_df['orig_weather_categ'] == 'snow']['arr_delay']"
   ]
  },
  {
   "cell_type": "code",
   "execution_count": 64,
   "metadata": {},
   "outputs": [
    {
     "data": {
      "text/plain": [
       "F_onewayResult(statistic=34.478092852066695, pvalue=1.2537964151245611e-28)"
      ]
     },
     "execution_count": 64,
     "metadata": {},
     "output_type": "execute_result"
    }
   ],
   "source": [
    "st.f_oneway(sunny_arr_delay, cloudy_arr_delay, rain_arr_delay, rain_snow_arr_delay, snow_arr_delay)"
   ]
  },
  {
   "cell_type": "code",
   "execution_count": 65,
   "metadata": {},
   "outputs": [],
   "source": [
    "# Function to interperet the results for us\n",
    "def oneway_results(list_distributions, nullhyp, alpha):\n",
    "    \"\"\"\n",
    "    returns the result of the test\n",
    "    Params:\n",
    "    list_distributions - list of distributions for comparison\n",
    "    nullhyp - string of your hypothesis\n",
    "    alpha - integer for significance\n",
    "    \"\"\"\n",
    "    test = st.f_oneway(*list_distributions)\n",
    "    print(f'Null hypothesis tested: {nullhyp}')\n",
    "    if test[1] < alpha:\n",
    "        print(f'P-val = {test[1]}\\n Result: Reject the null hypothesis; samples are significantly different.\\n')\n",
    "    else:\n",
    "        print(f'P-val = {test[1]}\\n Result: Fail to reject the null hypothesis.\\n')"
   ]
  },
  {
   "cell_type": "code",
   "execution_count": 66,
   "metadata": {},
   "outputs": [
    {
     "name": "stdout",
     "output_type": "stream",
     "text": [
      "Null hypothesis tested: These 5 weather conditions are from the same distribution.\n",
      "P-val = 1.2537964151245611e-28\n",
      " Result: Reject the null hypothesis; samples are significantly different.\n",
      "\n"
     ]
    }
   ],
   "source": [
    "lst = [sunny_arr_delay, cloudy_arr_delay, rain_arr_delay, rain_snow_arr_delay, snow_arr_delay]\n",
    "oneway_results(lst, \"These 5 weather conditions are from the same distribution.\", 0.05)"
   ]
  }
 ],
 "metadata": {
  "kernelspec": {
   "display_name": "lighthouse_env",
   "language": "python",
   "name": "lighthouse_env"
  },
  "language_info": {
   "codemirror_mode": {
    "name": "ipython",
    "version": 3
   },
   "file_extension": ".py",
   "mimetype": "text/x-python",
   "name": "python",
   "nbconvert_exporter": "python",
   "pygments_lexer": "ipython3",
   "version": "3.9.13"
  },
  "toc": {
   "base_numbering": 1,
   "nav_menu": {},
   "number_sections": true,
   "sideBar": true,
   "skip_h1_title": false,
   "title_cell": "Table of Contents",
   "title_sidebar": "Contents",
   "toc_cell": false,
   "toc_position": {},
   "toc_section_display": true,
   "toc_window_display": false
  },
  "varInspector": {
   "cols": {
    "lenName": 16,
    "lenType": 16,
    "lenVar": 40
   },
   "kernels_config": {
    "python": {
     "delete_cmd_postfix": "",
     "delete_cmd_prefix": "del ",
     "library": "var_list.py",
     "varRefreshCmd": "print(var_dic_list())"
    },
    "r": {
     "delete_cmd_postfix": ") ",
     "delete_cmd_prefix": "rm(",
     "library": "var_list.r",
     "varRefreshCmd": "cat(var_dic_list()) "
    }
   },
   "types_to_exclude": [
    "module",
    "function",
    "builtin_function_or_method",
    "instance",
    "_Feature"
   ],
   "window_display": false
  }
 },
 "nbformat": 4,
 "nbformat_minor": 4
}
