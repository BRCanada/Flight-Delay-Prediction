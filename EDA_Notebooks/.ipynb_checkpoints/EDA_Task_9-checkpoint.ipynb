{
 "cells": [
  {
   "cell_type": "markdown",
   "id": "8e7d5a4b-b722-492f-af57-090c9647769a",
   "metadata": {
    "tags": []
   },
   "source": [
    "#### **Task 9**: Find the top 10 the bussiest airports. Does the biggest number of flights mean that the biggest number of passengers went through the particular airport? How much traffic do these 10 airports cover?"
   ]
  },
  {
   "cell_type": "code",
   "execution_count": 1,
   "id": "b78a0992-f25b-4ea3-ad08-4be8d81cedd6",
   "metadata": {},
   "outputs": [],
   "source": [
    "# Import sys so we can import custom packages without error\n",
    "import sys\n",
    "sys.path.append('../')"
   ]
  },
  {
   "cell_type": "code",
   "execution_count": 2,
   "id": "2b068cf8-4c35-4446-86fc-e7322860929b",
   "metadata": {},
   "outputs": [],
   "source": [
    "# Import Pandas and Numpy to deal with DataFrames and NaN\n",
    "import pandas as pd\n",
    "import numpy as np\n",
    "\n",
    "# Import visualizer module\n",
    "from src.modules.figure_generation import *\n"
   ]
  },
  {
   "cell_type": "code",
   "execution_count": 3,
   "id": "ff357064-9589-4cd3-b587-3cd31e225f19",
   "metadata": {},
   "outputs": [],
   "source": [
    "# Pull the data from csv by concatenating current working directory with\n",
    "# '/data/flights_10000.csv'\n",
    "data = pd.read_csv('../data/flights_10000.csv')"
   ]
  },
  {
   "cell_type": "code",
   "execution_count": 4,
   "id": "b4b16e62-e72e-4069-99a4-5c2a6f76b68e",
   "metadata": {},
   "outputs": [],
   "source": [
    "# New DF from data\n",
    "busy_df = pd.read_csv('../data/flights_passengers_agg.csv')"
   ]
  },
  {
   "cell_type": "code",
   "execution_count": 5,
   "id": "c5235a8f-ec37-4c60-9b60-e4ae2fd80473",
   "metadata": {},
   "outputs": [],
   "source": [
    "# Group by origin information\n",
    "origin_group = busy_df.groupby(['origin', 'year', 'month'])[['flights', 'passengers']].sum()"
   ]
  },
  {
   "cell_type": "code",
   "execution_count": 6,
   "id": "cd0a1803-541e-4738-ac16-98c736909911",
   "metadata": {},
   "outputs": [],
   "source": [
    "#rename index\n",
    "origin_group.index.names = ['airport', 'year', 'month']"
   ]
  },
  {
   "cell_type": "code",
   "execution_count": 7,
   "id": "166341c8-0858-453a-bc5b-87d264d2f29a",
   "metadata": {},
   "outputs": [],
   "source": [
    "#Sort values and print head\n",
    "origin_df = pd.DataFrame(origin_group).sort_values(['flights','passengers'], ascending=False)"
   ]
  },
  {
   "cell_type": "code",
   "execution_count": 8,
   "id": "26ea54e0-093a-4f5d-92db-7f8404060b49",
   "metadata": {},
   "outputs": [
    {
     "data": {
      "text/html": [
       "<div>\n",
       "<style scoped>\n",
       "    .dataframe tbody tr th:only-of-type {\n",
       "        vertical-align: middle;\n",
       "    }\n",
       "\n",
       "    .dataframe tbody tr th {\n",
       "        vertical-align: top;\n",
       "    }\n",
       "\n",
       "    .dataframe thead th {\n",
       "        text-align: right;\n",
       "    }\n",
       "</style>\n",
       "<table border=\"1\" class=\"dataframe\">\n",
       "  <thead>\n",
       "    <tr style=\"text-align: right;\">\n",
       "      <th></th>\n",
       "      <th></th>\n",
       "      <th></th>\n",
       "      <th>flights</th>\n",
       "      <th>passengers</th>\n",
       "    </tr>\n",
       "    <tr>\n",
       "      <th>airport</th>\n",
       "      <th>year</th>\n",
       "      <th>month</th>\n",
       "      <th></th>\n",
       "      <th></th>\n",
       "    </tr>\n",
       "  </thead>\n",
       "  <tbody>\n",
       "    <tr>\n",
       "      <th rowspan=\"2\" valign=\"top\">ORD</th>\n",
       "      <th>2018</th>\n",
       "      <th>6</th>\n",
       "      <td>318.0</td>\n",
       "      <td>1379841.0</td>\n",
       "    </tr>\n",
       "    <tr>\n",
       "      <th>2019</th>\n",
       "      <th>11</th>\n",
       "      <td>301.0</td>\n",
       "      <td>1022869.0</td>\n",
       "    </tr>\n",
       "    <tr>\n",
       "      <th rowspan=\"2\" valign=\"top\">LAX</th>\n",
       "      <th rowspan=\"2\" valign=\"top\">2019</th>\n",
       "      <th>12</th>\n",
       "      <td>261.0</td>\n",
       "      <td>1319686.0</td>\n",
       "    </tr>\n",
       "    <tr>\n",
       "      <th>11</th>\n",
       "      <td>245.0</td>\n",
       "      <td>1123927.0</td>\n",
       "    </tr>\n",
       "    <tr>\n",
       "      <th>ORD</th>\n",
       "      <th>2018</th>\n",
       "      <th>9</th>\n",
       "      <td>245.0</td>\n",
       "      <td>568368.0</td>\n",
       "    </tr>\n",
       "    <tr>\n",
       "      <th>LAX</th>\n",
       "      <th>2018</th>\n",
       "      <th>1</th>\n",
       "      <td>230.0</td>\n",
       "      <td>907719.0</td>\n",
       "    </tr>\n",
       "    <tr>\n",
       "      <th rowspan=\"3\" valign=\"top\">ORD</th>\n",
       "      <th rowspan=\"3\" valign=\"top\">2019</th>\n",
       "      <th>5</th>\n",
       "      <td>224.0</td>\n",
       "      <td>1027646.0</td>\n",
       "    </tr>\n",
       "    <tr>\n",
       "      <th>8</th>\n",
       "      <td>217.0</td>\n",
       "      <td>672506.0</td>\n",
       "    </tr>\n",
       "    <tr>\n",
       "      <th>3</th>\n",
       "      <td>212.0</td>\n",
       "      <td>784060.0</td>\n",
       "    </tr>\n",
       "    <tr>\n",
       "      <th>LAX</th>\n",
       "      <th>2019</th>\n",
       "      <th>8</th>\n",
       "      <td>210.0</td>\n",
       "      <td>1201533.0</td>\n",
       "    </tr>\n",
       "  </tbody>\n",
       "</table>\n",
       "</div>"
      ],
      "text/plain": [
       "                    flights  passengers\n",
       "airport year month                     \n",
       "ORD     2018 6        318.0   1379841.0\n",
       "        2019 11       301.0   1022869.0\n",
       "LAX     2019 12       261.0   1319686.0\n",
       "             11       245.0   1123927.0\n",
       "ORD     2018 9        245.0    568368.0\n",
       "LAX     2018 1        230.0    907719.0\n",
       "ORD     2019 5        224.0   1027646.0\n",
       "             8        217.0    672506.0\n",
       "             3        212.0    784060.0\n",
       "LAX     2019 8        210.0   1201533.0"
      ]
     },
     "execution_count": 8,
     "metadata": {},
     "output_type": "execute_result"
    }
   ],
   "source": [
    "origin_df.head(10)"
   ]
  },
  {
   "cell_type": "code",
   "execution_count": 9,
   "id": "5a0a46b0-abd4-46bd-9104-0f770262b76a",
   "metadata": {},
   "outputs": [
    {
     "data": {
      "text/html": [
       "<div>\n",
       "<style scoped>\n",
       "    .dataframe tbody tr th:only-of-type {\n",
       "        vertical-align: middle;\n",
       "    }\n",
       "\n",
       "    .dataframe tbody tr th {\n",
       "        vertical-align: top;\n",
       "    }\n",
       "\n",
       "    .dataframe thead th {\n",
       "        text-align: right;\n",
       "    }\n",
       "</style>\n",
       "<table border=\"1\" class=\"dataframe\">\n",
       "  <thead>\n",
       "    <tr style=\"text-align: right;\">\n",
       "      <th></th>\n",
       "      <th></th>\n",
       "      <th></th>\n",
       "      <th>flights</th>\n",
       "      <th>passengers</th>\n",
       "    </tr>\n",
       "    <tr>\n",
       "      <th>airport</th>\n",
       "      <th>year</th>\n",
       "      <th>month</th>\n",
       "      <th></th>\n",
       "      <th></th>\n",
       "    </tr>\n",
       "  </thead>\n",
       "  <tbody>\n",
       "    <tr>\n",
       "      <th rowspan=\"5\" valign=\"top\">ORD</th>\n",
       "      <th rowspan=\"4\" valign=\"top\">2019</th>\n",
       "      <th>10</th>\n",
       "      <td>288.0</td>\n",
       "      <td>1153848.0</td>\n",
       "    </tr>\n",
       "    <tr>\n",
       "      <th>12</th>\n",
       "      <td>288.0</td>\n",
       "      <td>895925.0</td>\n",
       "    </tr>\n",
       "    <tr>\n",
       "      <th>6</th>\n",
       "      <td>267.0</td>\n",
       "      <td>1051047.0</td>\n",
       "    </tr>\n",
       "    <tr>\n",
       "      <th>8</th>\n",
       "      <td>259.0</td>\n",
       "      <td>934305.0</td>\n",
       "    </tr>\n",
       "    <tr>\n",
       "      <th>2018</th>\n",
       "      <th>10</th>\n",
       "      <td>240.0</td>\n",
       "      <td>664720.0</td>\n",
       "    </tr>\n",
       "    <tr>\n",
       "      <th>DEN</th>\n",
       "      <th>2018</th>\n",
       "      <th>8</th>\n",
       "      <td>234.0</td>\n",
       "      <td>911100.0</td>\n",
       "    </tr>\n",
       "    <tr>\n",
       "      <th rowspan=\"4\" valign=\"top\">ORD</th>\n",
       "      <th rowspan=\"2\" valign=\"top\">2018</th>\n",
       "      <th>5</th>\n",
       "      <td>230.0</td>\n",
       "      <td>618430.0</td>\n",
       "    </tr>\n",
       "    <tr>\n",
       "      <th>11</th>\n",
       "      <td>227.0</td>\n",
       "      <td>403494.0</td>\n",
       "    </tr>\n",
       "    <tr>\n",
       "      <th rowspan=\"2\" valign=\"top\">2019</th>\n",
       "      <th>4</th>\n",
       "      <td>225.0</td>\n",
       "      <td>778763.0</td>\n",
       "    </tr>\n",
       "    <tr>\n",
       "      <th>7</th>\n",
       "      <td>203.0</td>\n",
       "      <td>881762.0</td>\n",
       "    </tr>\n",
       "  </tbody>\n",
       "</table>\n",
       "</div>"
      ],
      "text/plain": [
       "                    flights  passengers\n",
       "airport year month                     \n",
       "ORD     2019 10       288.0   1153848.0\n",
       "             12       288.0    895925.0\n",
       "             6        267.0   1051047.0\n",
       "             8        259.0    934305.0\n",
       "        2018 10       240.0    664720.0\n",
       "DEN     2018 8        234.0    911100.0\n",
       "ORD     2018 5        230.0    618430.0\n",
       "             11       227.0    403494.0\n",
       "        2019 4        225.0    778763.0\n",
       "             7        203.0    881762.0"
      ]
     },
     "execution_count": 9,
     "metadata": {},
     "output_type": "execute_result"
    }
   ],
   "source": [
    "#Repeat for dest\n",
    "dest_group = busy_df.groupby(['dest', 'year', 'month'])[['flights', 'passengers']].sum()\n",
    "\n",
    "dest_group.index.names = ['airport', 'year', 'month']\n",
    "\n",
    "dest_df = pd.DataFrame(dest_group).sort_values(['flights','passengers'], ascending=False)\n",
    "\n",
    "dest_df.head(10)"
   ]
  },
  {
   "cell_type": "code",
   "execution_count": 10,
   "id": "47c5b3f8-fd73-474c-8215-465d8d3cffca",
   "metadata": {},
   "outputs": [],
   "source": [
    "# Concatenate the dataframes and group by airport\n",
    "airport_df = pd.concat([origin_df, dest_df]).groupby(['airport']).sum()"
   ]
  },
  {
   "cell_type": "code",
   "execution_count": 11,
   "id": "2649a789-9484-497d-ac5e-7f4612e47523",
   "metadata": {},
   "outputs": [
    {
     "data": {
      "text/html": [
       "<div>\n",
       "<style scoped>\n",
       "    .dataframe tbody tr th:only-of-type {\n",
       "        vertical-align: middle;\n",
       "    }\n",
       "\n",
       "    .dataframe tbody tr th {\n",
       "        vertical-align: top;\n",
       "    }\n",
       "\n",
       "    .dataframe thead th {\n",
       "        text-align: right;\n",
       "    }\n",
       "</style>\n",
       "<table border=\"1\" class=\"dataframe\">\n",
       "  <thead>\n",
       "    <tr style=\"text-align: right;\">\n",
       "      <th></th>\n",
       "      <th>flights</th>\n",
       "      <th>passengers</th>\n",
       "    </tr>\n",
       "    <tr>\n",
       "      <th>airport</th>\n",
       "      <th></th>\n",
       "      <th></th>\n",
       "    </tr>\n",
       "  </thead>\n",
       "  <tbody>\n",
       "    <tr>\n",
       "      <th>ATL</th>\n",
       "      <td>6696.0</td>\n",
       "      <td>35628746.0</td>\n",
       "    </tr>\n",
       "    <tr>\n",
       "      <th>LAX</th>\n",
       "      <td>6677.0</td>\n",
       "      <td>34476018.0</td>\n",
       "    </tr>\n",
       "    <tr>\n",
       "      <th>ORD</th>\n",
       "      <td>9385.0</td>\n",
       "      <td>30280979.0</td>\n",
       "    </tr>\n",
       "    <tr>\n",
       "      <th>DEN</th>\n",
       "      <td>6706.0</td>\n",
       "      <td>24516842.0</td>\n",
       "    </tr>\n",
       "    <tr>\n",
       "      <th>SFO</th>\n",
       "      <td>3998.0</td>\n",
       "      <td>20258202.0</td>\n",
       "    </tr>\n",
       "    <tr>\n",
       "      <th>SEA</th>\n",
       "      <td>3730.0</td>\n",
       "      <td>17998091.0</td>\n",
       "    </tr>\n",
       "    <tr>\n",
       "      <th>DFW</th>\n",
       "      <td>3800.0</td>\n",
       "      <td>16959539.0</td>\n",
       "    </tr>\n",
       "    <tr>\n",
       "      <th>LAS</th>\n",
       "      <td>3205.0</td>\n",
       "      <td>16758350.0</td>\n",
       "    </tr>\n",
       "    <tr>\n",
       "      <th>LGA</th>\n",
       "      <td>2554.0</td>\n",
       "      <td>13725121.0</td>\n",
       "    </tr>\n",
       "    <tr>\n",
       "      <th>MCO</th>\n",
       "      <td>2340.0</td>\n",
       "      <td>12686891.0</td>\n",
       "    </tr>\n",
       "  </tbody>\n",
       "</table>\n",
       "</div>"
      ],
      "text/plain": [
       "         flights  passengers\n",
       "airport                     \n",
       "ATL       6696.0  35628746.0\n",
       "LAX       6677.0  34476018.0\n",
       "ORD       9385.0  30280979.0\n",
       "DEN       6706.0  24516842.0\n",
       "SFO       3998.0  20258202.0\n",
       "SEA       3730.0  17998091.0\n",
       "DFW       3800.0  16959539.0\n",
       "LAS       3205.0  16758350.0\n",
       "LGA       2554.0  13725121.0\n",
       "MCO       2340.0  12686891.0"
      ]
     },
     "execution_count": 11,
     "metadata": {},
     "output_type": "execute_result"
    }
   ],
   "source": [
    "#Isolate the top ten airports by passenger\n",
    "top_ten_pass = airport_df.sort_values(['passengers'], ascending=False).head(10)\n",
    "top_ten_pass"
   ]
  },
  {
   "cell_type": "code",
   "execution_count": 31,
   "id": "b896a28b-f54b-406f-a440-283d522d3c34",
   "metadata": {},
   "outputs": [],
   "source": [
    "top_ten_pass['avg_pass_per_flight'] = (top_ten_pass['passengers']/top_ten_pass['flights'])"
   ]
  },
  {
   "cell_type": "code",
   "execution_count": 32,
   "id": "703ec57d-98c8-4c64-8a70-1081b12110db",
   "metadata": {},
   "outputs": [],
   "source": [
    "top_ten_pass['airport'] = top_ten_pass.index"
   ]
  },
  {
   "cell_type": "code",
   "execution_count": 33,
   "id": "afc8393d-91db-459d-b54b-bc7e7d28d02a",
   "metadata": {},
   "outputs": [],
   "source": [
    "top_ten_pass = top_ten_pass.sort_values(['avg_pass_per_flight'])"
   ]
  },
  {
   "cell_type": "code",
   "execution_count": 34,
   "id": "bec0507d-e9ed-40e6-8b8a-b9118c86c129",
   "metadata": {},
   "outputs": [
    {
     "data": {
      "image/png": "[encoded data removed]",
      "text/plain": [
       "<Figure size 640x480 with 1 Axes>"
      ]
     },
     "metadata": {},
     "output_type": "display_data"
    }
   ],
   "source": [
    "make_bar(top_ten_pass, xlabel='airport', ylabel='avg_pass_per_flight')"
   ]
  },
  {
   "cell_type": "code",
   "execution_count": null,
   "id": "d52f7527-50c0-459e-a573-831bec190fa0",
   "metadata": {},
   "outputs": [],
   "source": []
  }
 ],
 "metadata": {
  "kernelspec": {
   "display_name": "Python 3 (ipykernel)",
   "language": "python",
   "name": "python3"
  },
  "language_info": {
   "codemirror_mode": {
    "name": "ipython",
    "version": 3
   },
   "file_extension": ".py",
   "mimetype": "text/x-python",
   "name": "python",
   "nbconvert_exporter": "python",
   "pygments_lexer": "ipython3",
   "version": "3.8.13"
  }
 },
 "nbformat": 4,
 "nbformat_minor": 5
}
