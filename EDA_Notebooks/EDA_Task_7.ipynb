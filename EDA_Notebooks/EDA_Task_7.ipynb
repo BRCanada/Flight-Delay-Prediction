{
 "cells": [
  {
   "cell_type": "markdown",
   "id": "1eff68ce-9012-4902-83bd-2237c03b8005",
   "metadata": {
    "tags": []
   },
   "source": [
    "#### **Task 7**: Test the hypothesis whether planes fly faster when there is the departure delay? "
   ]
  },
  {
   "cell_type": "code",
   "execution_count": 1,
   "id": "40a79d00-f84f-4d46-b7af-1d3fc3e29365",
   "metadata": {},
   "outputs": [],
   "source": [
    "# Import sys so we can import custom packages without error\n",
    "import sys\n",
    "sys.path.append('../')"
   ]
  },
  {
   "cell_type": "code",
   "execution_count": 5,
   "id": "e2532617-6749-4f1e-88ee-e5befca35464",
   "metadata": {},
   "outputs": [],
   "source": [
    "# Import Pandas and Numpy to deal with DataFrames and NaN\n",
    "import pandas as pd\n",
    "import numpy as np\n",
    "\n",
    "# Import visualizer module\n",
    "from src.modules.figure_generation import *"
   ]
  },
  {
   "cell_type": "code",
   "execution_count": 6,
   "id": "826f3e27-bd26-43f7-8de5-adb494db6cd2",
   "metadata": {},
   "outputs": [],
   "source": [
    "# Pull the data from csv by concatenating current working directory with\n",
    "# '/data/flights_10000.csv'\n",
    "data = pd.read_csv('../data/flights_10000.csv')"
   ]
  },
  {
   "cell_type": "code",
   "execution_count": 8,
   "id": "45de2afb-7dac-4d09-9045-ccac95460eb9",
   "metadata": {},
   "outputs": [],
   "source": [
    "#create speed feature (dist/air time, miles/hr) then compare speed vs departure delay\n",
    "flights_tsk7 = data"
   ]
  },
  {
   "cell_type": "code",
   "execution_count": 9,
   "id": "30b76f92-f67a-4e9c-88f6-b770ac23d7ca",
   "metadata": {},
   "outputs": [],
   "source": [
    "#we have to first convert air_time to hours before getting the average\n",
    "flights_tsk7['air_time'] = flights_tsk7['air_time']/60"
   ]
  },
  {
   "cell_type": "code",
   "execution_count": 10,
   "id": "dee2f398-7bdc-4400-8361-a24980f0062e",
   "metadata": {},
   "outputs": [],
   "source": [
    "#divide distance (miles) by air_time (hours)\n",
    "flights_tsk7['flight_speed'] = flights_tsk7['distance']/flights_tsk7['air_time']"
   ]
  },
  {
   "cell_type": "code",
   "execution_count": 11,
   "id": "71460d9c-c9e3-4605-9104-db1f5a68eeb4",
   "metadata": {},
   "outputs": [],
   "source": [
    "# Drop NaNs\n",
    "flights_tsk7['flight_speed'].dropna(inplace=True)"
   ]
  },
  {
   "cell_type": "code",
   "execution_count": 12,
   "id": "d2b09b65-6c4a-4171-91f3-708e1f62ddf6",
   "metadata": {},
   "outputs": [],
   "source": [
    "# grab ttest_ind from scipy\n",
    "from scipy.stats import ttest_ind"
   ]
  },
  {
   "cell_type": "code",
   "execution_count": 13,
   "id": "e3bf734d-3602-47b0-b524-89dcbf1e7101",
   "metadata": {},
   "outputs": [],
   "source": [
    "res = ttest_ind(flights_tsk7['flight_speed'], flights_tsk7['dep_delay'], nan_policy='omit')"
   ]
  },
  {
   "cell_type": "code",
   "execution_count": 14,
   "id": "779426e9-564c-413d-b647-aa375899daa9",
   "metadata": {},
   "outputs": [
    {
     "data": {
      "text/plain": [
       "Ttest_indResult(statistic=435.30284881151874, pvalue=0.0)"
      ]
     },
     "execution_count": 14,
     "metadata": {},
     "output_type": "execute_result"
    }
   ],
   "source": [
    "res"
   ]
  },
  {
   "cell_type": "code",
   "execution_count": 15,
   "id": "9725a5a8-65f1-448e-b713-4cd9a4102388",
   "metadata": {},
   "outputs": [
    {
     "data": {
      "text/plain": [
       "0.0"
      ]
     },
     "execution_count": 15,
     "metadata": {},
     "output_type": "execute_result"
    }
   ],
   "source": [
    "res.pvalue"
   ]
  },
  {
   "cell_type": "code",
   "execution_count": null,
   "id": "a7bf10d9-32f6-48c6-a7ef-4def24e843be",
   "metadata": {},
   "outputs": [],
   "source": []
  }
 ],
 "metadata": {
  "kernelspec": {
   "display_name": "Python 3 (ipykernel)",
   "language": "python",
   "name": "python3"
  },
  "language_info": {
   "codemirror_mode": {
    "name": "ipython",
    "version": 3
   },
   "file_extension": ".py",
   "mimetype": "text/x-python",
   "name": "python",
   "nbconvert_exporter": "python",
   "pygments_lexer": "ipython3",
   "version": "3.8.13"
  }
 },
 "nbformat": 4,
 "nbformat_minor": 5
}
