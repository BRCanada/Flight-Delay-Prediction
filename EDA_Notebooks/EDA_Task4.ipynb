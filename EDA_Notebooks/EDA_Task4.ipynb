{
 "cells": [
  {
   "cell_type": "markdown",
   "id": "fece71ed-4fdc-469d-ad29-97d713e3e1f9",
   "metadata": {},
   "source": [
    "#### **Task 4**: How taxi times changing during the day? Does higher traffic lead to bigger taxi times?"
   ]
  },
  {
   "cell_type": "code",
   "execution_count": 1,
   "id": "118ddeaf-8b15-4c02-ab35-f693d0806b45",
   "metadata": {},
   "outputs": [],
   "source": [
    "# Import sys so we can import custom packages without error\n",
    "import sys\n",
    "sys.path.append('../')"
   ]
  },
  {
   "cell_type": "code",
   "execution_count": 2,
   "id": "c4dfbded-bcb4-4633-94b1-b106c77c2b9c",
   "metadata": {},
   "outputs": [],
   "source": [
    "# Import Pandas and Numpy to deal with DataFrames and NaN\n",
    "import pandas as pd\n",
    "import numpy as np\n",
    "\n",
    "# Import Visualizer\n",
    "from src.modules.figure_generation import *"
   ]
  },
  {
   "cell_type": "code",
   "execution_count": 3,
   "id": "526f27aa-9455-41d5-bc0b-d3d6fab0f9ab",
   "metadata": {},
   "outputs": [],
   "source": [
    "# Import function that determines time of day based on arr_time and dep_time columns\n",
    "from src.modules.data_preprocessing import time_of_day"
   ]
  },
  {
   "cell_type": "code",
   "execution_count": 4,
   "id": "1a411b7f-b342-416c-a249-c8021800032f",
   "metadata": {},
   "outputs": [],
   "source": [
    "# Pull the data from csv by concatenating current working directory with\n",
    "# '/data/flights_10000.csv'\n",
    "data = pd.read_csv('../data/flights_10000.csv')"
   ]
  },
  {
   "cell_type": "code",
   "execution_count": 4,
   "id": "cb6aba5c-224a-440e-a2ec-8b9930d1ab69",
   "metadata": {},
   "outputs": [],
   "source": [
    "#Define a taxi dataframe that only has relevant information\n",
    "#Drop NaN to remove cancellation flights\n",
    "df_taxi = data.loc[:,['tail_num', 'crs_dep_time', 'taxi_out', 'wheels_off', 'wheels_on', 'taxi_in', 'crs_arr_time']].dropna().reset_index()"
   ]
  },
  {
   "cell_type": "code",
   "execution_count": 5,
   "id": "9e83dfc9-c75b-47e5-9cbb-8c4b3bb1b753",
   "metadata": {},
   "outputs": [],
   "source": [
    "#New column to categorize Morning, Afternoon, Evening, Nite\n",
    "df_taxi['dep_time_of_day'] = df_taxi.apply(lambda df: time_of_day(df, method='dep'), axis=1)\n",
    "df_taxi['arr_time_of_day'] = df_taxi.apply(lambda df: time_of_day(df, method='arr'), axis=1)"
   ]
  },
  {
   "cell_type": "code",
   "execution_count": 6,
   "id": "c932e14b-068a-4ba8-b9cc-e17cbf1db08f",
   "metadata": {},
   "outputs": [
    {
     "data": {
      "text/plain": [
       "Morning      4093\n",
       "Afternoon    2870\n",
       "Evening      2202\n",
       "Night         668\n",
       "Name: dep_time_of_day, dtype: int64"
      ]
     },
     "execution_count": 6,
     "metadata": {},
     "output_type": "execute_result"
    }
   ],
   "source": [
    "df_taxi['dep_time_of_day'].value_counts()"
   ]
  },
  {
   "cell_type": "code",
   "execution_count": 7,
   "id": "36f95fd5-188f-42cc-9c4e-b00626c79426",
   "metadata": {},
   "outputs": [],
   "source": [
    "#Add a counter column to return a count of flights in our groupby \n",
    "df_taxi['counter'] = 1"
   ]
  },
  {
   "cell_type": "code",
   "execution_count": 8,
   "id": "214263e1-3842-468d-b7d4-9c81087f465d",
   "metadata": {},
   "outputs": [],
   "source": [
    "#Group departures based on their time_of_day value\n",
    "departure_group = df_taxi.groupby('dep_time_of_day')[['taxi_out', 'counter']].sum().reset_index()"
   ]
  },
  {
   "cell_type": "code",
   "execution_count": 9,
   "id": "9067962d-36a9-4090-9049-236439b1f219",
   "metadata": {},
   "outputs": [
    {
     "data": {
      "text/html": [
       "<div>\n",
       "<style scoped>\n",
       "    .dataframe tbody tr th:only-of-type {\n",
       "        vertical-align: middle;\n",
       "    }\n",
       "\n",
       "    .dataframe tbody tr th {\n",
       "        vertical-align: top;\n",
       "    }\n",
       "\n",
       "    .dataframe thead th {\n",
       "        text-align: right;\n",
       "    }\n",
       "</style>\n",
       "<table border=\"1\" class=\"dataframe\">\n",
       "  <thead>\n",
       "    <tr style=\"text-align: right;\">\n",
       "      <th></th>\n",
       "      <th>dep_time_of_day</th>\n",
       "      <th>taxi_out</th>\n",
       "      <th>counter</th>\n",
       "    </tr>\n",
       "  </thead>\n",
       "  <tbody>\n",
       "    <tr>\n",
       "      <th>2</th>\n",
       "      <td>Morning</td>\n",
       "      <td>72141.0</td>\n",
       "      <td>4093</td>\n",
       "    </tr>\n",
       "    <tr>\n",
       "      <th>0</th>\n",
       "      <td>Afternoon</td>\n",
       "      <td>48919.0</td>\n",
       "      <td>2870</td>\n",
       "    </tr>\n",
       "    <tr>\n",
       "      <th>1</th>\n",
       "      <td>Evening</td>\n",
       "      <td>40184.0</td>\n",
       "      <td>2202</td>\n",
       "    </tr>\n",
       "    <tr>\n",
       "      <th>3</th>\n",
       "      <td>Night</td>\n",
       "      <td>10811.0</td>\n",
       "      <td>668</td>\n",
       "    </tr>\n",
       "  </tbody>\n",
       "</table>\n",
       "</div>"
      ],
      "text/plain": [
       "  dep_time_of_day  taxi_out  counter\n",
       "2         Morning   72141.0     4093\n",
       "0       Afternoon   48919.0     2870\n",
       "1         Evening   40184.0     2202\n",
       "3           Night   10811.0      668"
      ]
     },
     "execution_count": 9,
     "metadata": {},
     "output_type": "execute_result"
    }
   ],
   "source": [
    "# Sort this based on taxi_out times\n",
    "departure_group.sort_values('taxi_out', ascending=False)"
   ]
  },
  {
   "cell_type": "code",
   "execution_count": 10,
   "id": "fc271eaf-2d76-48c8-af76-8e222501dba0",
   "metadata": {},
   "outputs": [
    {
     "data": {
      "text/html": [
       "<div>\n",
       "<style scoped>\n",
       "    .dataframe tbody tr th:only-of-type {\n",
       "        vertical-align: middle;\n",
       "    }\n",
       "\n",
       "    .dataframe tbody tr th {\n",
       "        vertical-align: top;\n",
       "    }\n",
       "\n",
       "    .dataframe thead th {\n",
       "        text-align: right;\n",
       "    }\n",
       "</style>\n",
       "<table border=\"1\" class=\"dataframe\">\n",
       "  <thead>\n",
       "    <tr style=\"text-align: right;\">\n",
       "      <th></th>\n",
       "      <th>arr_time_of_day</th>\n",
       "      <th>taxi_in</th>\n",
       "      <th>counter</th>\n",
       "    </tr>\n",
       "  </thead>\n",
       "  <tbody>\n",
       "    <tr>\n",
       "      <th>2</th>\n",
       "      <td>Morning</td>\n",
       "      <td>23429.0</td>\n",
       "      <td>2883</td>\n",
       "    </tr>\n",
       "    <tr>\n",
       "      <th>0</th>\n",
       "      <td>Afternoon</td>\n",
       "      <td>21208.0</td>\n",
       "      <td>2916</td>\n",
       "    </tr>\n",
       "    <tr>\n",
       "      <th>1</th>\n",
       "      <td>Evening</td>\n",
       "      <td>18591.0</td>\n",
       "      <td>2315</td>\n",
       "    </tr>\n",
       "  </tbody>\n",
       "</table>\n",
       "</div>"
      ],
      "text/plain": [
       "  arr_time_of_day  taxi_in  counter\n",
       "2         Morning  23429.0     2883\n",
       "0       Afternoon  21208.0     2916\n",
       "1         Evening  18591.0     2315"
      ]
     },
     "execution_count": 10,
     "metadata": {},
     "output_type": "execute_result"
    }
   ],
   "source": [
    "#Repeat these for arrival group\n",
    "arrival_group = df_taxi.groupby('arr_time_of_day')[['taxi_in', 'counter']].sum().reset_index()\n",
    "arrival_group.sort_values('taxi_in', ascending=False)"
   ]
  },
  {
   "cell_type": "markdown",
   "id": "cdac0bc2-e509-44f7-8b42-fe42f4c08c3a",
   "metadata": {},
   "source": [
    "#### Visualize the different taxi time weights with pie charts"
   ]
  },
  {
   "cell_type": "code",
   "execution_count": 13,
   "id": "b28d17aa-048f-4e63-89f3-4017a4280f47",
   "metadata": {},
   "outputs": [
    {
     "data": {
      "image/png": "[encoded data removed]",
      "text/plain": [
       "<Figure size 640x480 with 1 Axes>"
      ]
     },
     "metadata": {},
     "output_type": "display_data"
    }
   ],
   "source": [
    "# ARRIVAL TAXI\n",
    "make_pie(arrival_group, 'taxi_in', 'arr_time_of_day')"
   ]
  },
  {
   "cell_type": "code",
   "execution_count": 14,
   "id": "8aab6d96-8fa4-45e0-9b3c-49b6d69acad7",
   "metadata": {},
   "outputs": [
    {
     "data": {
      "image/png": "[encoded data removed]",
      "text/plain": [
       "<Figure size 640x480 with 1 Axes>"
      ]
     },
     "metadata": {},
     "output_type": "display_data"
    }
   ],
   "source": [
    "# DEPARTURE TAXI\n",
    "make_pie(departure_group, 'taxi_out', 'dep_time_of_day')"
   ]
  },
  {
   "cell_type": "code",
   "execution_count": null,
   "id": "4880e23f-38e6-4413-997e-11e43c3b39e5",
   "metadata": {},
   "outputs": [],
   "source": []
  }
 ],
 "metadata": {
  "kernelspec": {
   "display_name": "Python 3 (ipykernel)",
   "language": "python",
   "name": "python3"
  },
  "language_info": {
   "codemirror_mode": {
    "name": "ipython",
    "version": 3
   },
   "file_extension": ".py",
   "mimetype": "text/x-python",
   "name": "python",
   "nbconvert_exporter": "python",
   "pygments_lexer": "ipython3",
   "version": "3.8.13"
  }
 },
 "nbformat": 4,
 "nbformat_minor": 5
}
