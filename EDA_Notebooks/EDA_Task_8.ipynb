{
 "cells": [
  {
   "cell_type": "markdown",
   "id": "92b9369a-0611-49a1-ae3c-7358343a082f",
   "metadata": {},
   "source": [
    "# EDA Task 8"
   ]
  },
  {
   "cell_type": "markdown",
   "id": "18a9b9e1-ff80-4559-acda-0aac8d8a5353",
   "metadata": {
    "tags": []
   },
   "source": [
    "#### **Task 8**: When (which hour) do most 'LONG', 'SHORT', 'MEDIUM' haul flights take off?"
   ]
  },
  {
   "cell_type": "code",
   "execution_count": 1,
   "id": "926ec8b2-462d-45ff-abd2-85704b7f6a84",
   "metadata": {},
   "outputs": [],
   "source": [
    "# Import sys so we can import custom packages without error\n",
    "import sys\n",
    "sys.path.append('../')"
   ]
  },
  {
   "cell_type": "code",
   "execution_count": 2,
   "id": "074d41d9-54ef-45f8-8d85-0f7753005da3",
   "metadata": {},
   "outputs": [],
   "source": [
    "import pandas as pd\n",
    "import numpy as np\n",
    "\n",
    "# Import Visualizers\n",
    "from src.modules.figure_generation import *\n",
    "\n",
    "# Import datetime\n",
    "import datetime as dt"
   ]
  },
  {
   "cell_type": "code",
   "execution_count": 3,
   "id": "9fb4a88f-0c5f-4c08-a86a-c175ad8c9f0b",
   "metadata": {},
   "outputs": [],
   "source": [
    "import warnings\n",
    "warnings.filterwarnings(\"ignore\")"
   ]
  },
  {
   "cell_type": "code",
   "execution_count": 4,
   "id": "7d85635a-4d96-4d99-affe-2ba4cdd52a22",
   "metadata": {},
   "outputs": [
    {
     "data": {
      "text/html": [
       "<div>\n",
       "<style scoped>\n",
       "    .dataframe tbody tr th:only-of-type {\n",
       "        vertical-align: middle;\n",
       "    }\n",
       "\n",
       "    .dataframe tbody tr th {\n",
       "        vertical-align: top;\n",
       "    }\n",
       "\n",
       "    .dataframe thead th {\n",
       "        text-align: right;\n",
       "    }\n",
       "</style>\n",
       "<table border=\"1\" class=\"dataframe\">\n",
       "  <thead>\n",
       "    <tr style=\"text-align: right;\">\n",
       "      <th></th>\n",
       "      <th>mkt_unique_carrier</th>\n",
       "      <th>branded_code_share</th>\n",
       "      <th>mkt_carrier</th>\n",
       "      <th>mkt_carrier_fl_num</th>\n",
       "      <th>op_unique_carrier</th>\n",
       "      <th>tail_num</th>\n",
       "      <th>op_carrier_fl_num</th>\n",
       "      <th>origin_airport_id</th>\n",
       "      <th>origin</th>\n",
       "      <th>origin_city_name</th>\n",
       "      <th>...</th>\n",
       "      <th>weather_delay</th>\n",
       "      <th>nas_delay</th>\n",
       "      <th>security_delay</th>\n",
       "      <th>late_aircraft_delay</th>\n",
       "      <th>first_dep_time</th>\n",
       "      <th>total_add_gtime</th>\n",
       "      <th>longest_add_gtime</th>\n",
       "      <th>no_name</th>\n",
       "      <th>orig_weather_categ</th>\n",
       "      <th>dest_weather_categ</th>\n",
       "    </tr>\n",
       "    <tr>\n",
       "      <th>fl_date</th>\n",
       "      <th></th>\n",
       "      <th></th>\n",
       "      <th></th>\n",
       "      <th></th>\n",
       "      <th></th>\n",
       "      <th></th>\n",
       "      <th></th>\n",
       "      <th></th>\n",
       "      <th></th>\n",
       "      <th></th>\n",
       "      <th></th>\n",
       "      <th></th>\n",
       "      <th></th>\n",
       "      <th></th>\n",
       "      <th></th>\n",
       "      <th></th>\n",
       "      <th></th>\n",
       "      <th></th>\n",
       "      <th></th>\n",
       "      <th></th>\n",
       "      <th></th>\n",
       "    </tr>\n",
       "  </thead>\n",
       "  <tbody>\n",
       "    <tr>\n",
       "      <th>2018-07-10</th>\n",
       "      <td>WN</td>\n",
       "      <td>WN</td>\n",
       "      <td>WN</td>\n",
       "      <td>2212</td>\n",
       "      <td>WN</td>\n",
       "      <td>N958WN</td>\n",
       "      <td>2212</td>\n",
       "      <td>14683</td>\n",
       "      <td>SAT</td>\n",
       "      <td>San Antonio, TX</td>\n",
       "      <td>...</td>\n",
       "      <td>NaN</td>\n",
       "      <td>NaN</td>\n",
       "      <td>NaN</td>\n",
       "      <td>NaN</td>\n",
       "      <td>NaN</td>\n",
       "      <td>NaN</td>\n",
       "      <td>NaN</td>\n",
       "      <td>NaN</td>\n",
       "      <td>cloudy</td>\n",
       "      <td>cloudy</td>\n",
       "    </tr>\n",
       "    <tr>\n",
       "      <th>2019-10-10</th>\n",
       "      <td>UA</td>\n",
       "      <td>UA</td>\n",
       "      <td>UA</td>\n",
       "      <td>206</td>\n",
       "      <td>UA</td>\n",
       "      <td>N68811</td>\n",
       "      <td>206</td>\n",
       "      <td>13930</td>\n",
       "      <td>ORD</td>\n",
       "      <td>Chicago, IL</td>\n",
       "      <td>...</td>\n",
       "      <td>NaN</td>\n",
       "      <td>NaN</td>\n",
       "      <td>NaN</td>\n",
       "      <td>NaN</td>\n",
       "      <td>NaN</td>\n",
       "      <td>NaN</td>\n",
       "      <td>NaN</td>\n",
       "      <td>NaN</td>\n",
       "      <td>rain</td>\n",
       "      <td>rain</td>\n",
       "    </tr>\n",
       "    <tr>\n",
       "      <th>2019-07-18</th>\n",
       "      <td>AA</td>\n",
       "      <td>AA_CODESHARE</td>\n",
       "      <td>AA</td>\n",
       "      <td>4221</td>\n",
       "      <td>MQ</td>\n",
       "      <td>N694AE</td>\n",
       "      <td>4221</td>\n",
       "      <td>12891</td>\n",
       "      <td>LAW</td>\n",
       "      <td>Lawton/Fort Sill, OK</td>\n",
       "      <td>...</td>\n",
       "      <td>NaN</td>\n",
       "      <td>NaN</td>\n",
       "      <td>NaN</td>\n",
       "      <td>NaN</td>\n",
       "      <td>NaN</td>\n",
       "      <td>NaN</td>\n",
       "      <td>NaN</td>\n",
       "      <td>NaN</td>\n",
       "      <td>sunny</td>\n",
       "      <td>sunny</td>\n",
       "    </tr>\n",
       "    <tr>\n",
       "      <th>2018-11-25</th>\n",
       "      <td>UA</td>\n",
       "      <td>UA_CODESHARE</td>\n",
       "      <td>UA</td>\n",
       "      <td>4822</td>\n",
       "      <td>ZW</td>\n",
       "      <td>NaN</td>\n",
       "      <td>4822</td>\n",
       "      <td>14685</td>\n",
       "      <td>SAV</td>\n",
       "      <td>Savannah, GA</td>\n",
       "      <td>...</td>\n",
       "      <td>NaN</td>\n",
       "      <td>NaN</td>\n",
       "      <td>NaN</td>\n",
       "      <td>NaN</td>\n",
       "      <td>NaN</td>\n",
       "      <td>NaN</td>\n",
       "      <td>NaN</td>\n",
       "      <td>NaN</td>\n",
       "      <td>cloudy</td>\n",
       "      <td>snow &amp; rain</td>\n",
       "    </tr>\n",
       "    <tr>\n",
       "      <th>2018-10-24</th>\n",
       "      <td>DL</td>\n",
       "      <td>DL</td>\n",
       "      <td>DL</td>\n",
       "      <td>957</td>\n",
       "      <td>DL</td>\n",
       "      <td>N693DL</td>\n",
       "      <td>957</td>\n",
       "      <td>11433</td>\n",
       "      <td>DTW</td>\n",
       "      <td>Detroit, MI</td>\n",
       "      <td>...</td>\n",
       "      <td>0.0</td>\n",
       "      <td>28.0</td>\n",
       "      <td>0.0</td>\n",
       "      <td>0.0</td>\n",
       "      <td>NaN</td>\n",
       "      <td>NaN</td>\n",
       "      <td>NaN</td>\n",
       "      <td>NaN</td>\n",
       "      <td>sunny</td>\n",
       "      <td>sunny</td>\n",
       "    </tr>\n",
       "  </tbody>\n",
       "</table>\n",
       "<p>5 rows × 43 columns</p>\n",
       "</div>"
      ],
      "text/plain": [
       "           mkt_unique_carrier branded_code_share mkt_carrier  \\\n",
       "fl_date                                                        \n",
       "2018-07-10                 WN                 WN          WN   \n",
       "2019-10-10                 UA                 UA          UA   \n",
       "2019-07-18                 AA       AA_CODESHARE          AA   \n",
       "2018-11-25                 UA       UA_CODESHARE          UA   \n",
       "2018-10-24                 DL                 DL          DL   \n",
       "\n",
       "            mkt_carrier_fl_num op_unique_carrier tail_num  op_carrier_fl_num  \\\n",
       "fl_date                                                                        \n",
       "2018-07-10                2212                WN   N958WN               2212   \n",
       "2019-10-10                 206                UA   N68811                206   \n",
       "2019-07-18                4221                MQ   N694AE               4221   \n",
       "2018-11-25                4822                ZW      NaN               4822   \n",
       "2018-10-24                 957                DL   N693DL                957   \n",
       "\n",
       "            origin_airport_id origin      origin_city_name  ...  \\\n",
       "fl_date                                                     ...   \n",
       "2018-07-10              14683    SAT       San Antonio, TX  ...   \n",
       "2019-10-10              13930    ORD           Chicago, IL  ...   \n",
       "2019-07-18              12891    LAW  Lawton/Fort Sill, OK  ...   \n",
       "2018-11-25              14685    SAV          Savannah, GA  ...   \n",
       "2018-10-24              11433    DTW           Detroit, MI  ...   \n",
       "\n",
       "            weather_delay nas_delay security_delay  late_aircraft_delay  \\\n",
       "fl_date                                                                   \n",
       "2018-07-10            NaN       NaN            NaN                  NaN   \n",
       "2019-10-10            NaN       NaN            NaN                  NaN   \n",
       "2019-07-18            NaN       NaN            NaN                  NaN   \n",
       "2018-11-25            NaN       NaN            NaN                  NaN   \n",
       "2018-10-24            0.0      28.0            0.0                  0.0   \n",
       "\n",
       "            first_dep_time  total_add_gtime  longest_add_gtime  no_name  \\\n",
       "fl_date                                                                   \n",
       "2018-07-10             NaN              NaN                NaN      NaN   \n",
       "2019-10-10             NaN              NaN                NaN      NaN   \n",
       "2019-07-18             NaN              NaN                NaN      NaN   \n",
       "2018-11-25             NaN              NaN                NaN      NaN   \n",
       "2018-10-24             NaN              NaN                NaN      NaN   \n",
       "\n",
       "            orig_weather_categ  dest_weather_categ  \n",
       "fl_date                                             \n",
       "2018-07-10              cloudy              cloudy  \n",
       "2019-10-10                rain                rain  \n",
       "2019-07-18               sunny               sunny  \n",
       "2018-11-25              cloudy         snow & rain  \n",
       "2018-10-24               sunny               sunny  \n",
       "\n",
       "[5 rows x 43 columns]"
      ]
     },
     "execution_count": 4,
     "metadata": {},
     "output_type": "execute_result"
    }
   ],
   "source": [
    "flights = pd.read_csv('../data/flights_10000.csv', index_col=0)\n",
    "flights.head()"
   ]
  },
  {
   "cell_type": "markdown",
   "id": "85e25848-8985-466e-a30a-17cf5b82aa03",
   "metadata": {},
   "source": [
    "American Airlines defines:\n",
    "* short-/medium-haul flights as being less than 3,000 mi (2,600 nmi; 4,800 km) and \n",
    "* long-haul as either being more than 3,000 mi (2,600 nmi; 4,800 km) or being the New York–Los Angeles and New York–San Francisco routes.[8]\n",
    "    \n",
    "United Airlines defines:\n",
    "* short-haul flights as being less than 700 mi (610 nmi; 1,100 km)[9]\n",
    "* long-haul flights as being greater than 3,000 mi (2,600 nmi; 4,800 km).[10]\n",
    "    \n",
    "https://en.wikipedia.org/wiki/Flight_length"
   ]
  },
  {
   "cell_type": "code",
   "execution_count": 5,
   "id": "77e7d37d-af08-40ff-a7d7-55e080ef4550",
   "metadata": {},
   "outputs": [
    {
     "data": {
      "text/html": [
       "<div>\n",
       "<style scoped>\n",
       "    .dataframe tbody tr th:only-of-type {\n",
       "        vertical-align: middle;\n",
       "    }\n",
       "\n",
       "    .dataframe tbody tr th {\n",
       "        vertical-align: top;\n",
       "    }\n",
       "\n",
       "    .dataframe thead th {\n",
       "        text-align: right;\n",
       "    }\n",
       "</style>\n",
       "<table border=\"1\" class=\"dataframe\">\n",
       "  <thead>\n",
       "    <tr style=\"text-align: right;\">\n",
       "      <th></th>\n",
       "      <th>distance</th>\n",
       "      <th>crs_dep_time</th>\n",
       "    </tr>\n",
       "    <tr>\n",
       "      <th>fl_date</th>\n",
       "      <th></th>\n",
       "      <th></th>\n",
       "    </tr>\n",
       "  </thead>\n",
       "  <tbody>\n",
       "    <tr>\n",
       "      <th>2018-07-10</th>\n",
       "      <td>822.0</td>\n",
       "      <td>705</td>\n",
       "    </tr>\n",
       "    <tr>\n",
       "      <th>2019-10-10</th>\n",
       "      <td>1005.0</td>\n",
       "      <td>800</td>\n",
       "    </tr>\n",
       "    <tr>\n",
       "      <th>2019-07-18</th>\n",
       "      <td>140.0</td>\n",
       "      <td>1034</td>\n",
       "    </tr>\n",
       "    <tr>\n",
       "      <th>2018-11-25</th>\n",
       "      <td>773.0</td>\n",
       "      <td>2200</td>\n",
       "    </tr>\n",
       "    <tr>\n",
       "      <th>2018-10-24</th>\n",
       "      <td>1960.0</td>\n",
       "      <td>841</td>\n",
       "    </tr>\n",
       "  </tbody>\n",
       "</table>\n",
       "</div>"
      ],
      "text/plain": [
       "            distance  crs_dep_time\n",
       "fl_date                           \n",
       "2018-07-10     822.0           705\n",
       "2019-10-10    1005.0           800\n",
       "2019-07-18     140.0          1034\n",
       "2018-11-25     773.0          2200\n",
       "2018-10-24    1960.0           841"
      ]
     },
     "execution_count": 5,
     "metadata": {},
     "output_type": "execute_result"
    }
   ],
   "source": [
    "hauls = flights[['distance','crs_dep_time']]\n",
    "hauls.head()"
   ]
  },
  {
   "cell_type": "code",
   "execution_count": 6,
   "id": "1a9ccbbc-4fb8-4b71-a5ee-f627cb64a6dd",
   "metadata": {
    "tags": []
   },
   "outputs": [],
   "source": [
    "#define lengths: short = 700, med = 3000, long is else\n",
    "hauls['time_length_categ'] = 'long'                                    #start with setting all to long\n",
    "hauls.loc[(hauls['distance'] < 701), 'time_length_categ'] = 'short'\n",
    "hauls.loc[(hauls['distance'] > 700) & (hauls['distance'] < 3001), 'time_length_categ'] = 'medium'"
   ]
  },
  {
   "cell_type": "code",
   "execution_count": 7,
   "id": "e03220bd-7ec5-4ec0-ac77-faf725397508",
   "metadata": {},
   "outputs": [
    {
     "data": {
      "text/html": [
       "<div>\n",
       "<style scoped>\n",
       "    .dataframe tbody tr th:only-of-type {\n",
       "        vertical-align: middle;\n",
       "    }\n",
       "\n",
       "    .dataframe tbody tr th {\n",
       "        vertical-align: top;\n",
       "    }\n",
       "\n",
       "    .dataframe thead th {\n",
       "        text-align: right;\n",
       "    }\n",
       "</style>\n",
       "<table border=\"1\" class=\"dataframe\">\n",
       "  <thead>\n",
       "    <tr style=\"text-align: right;\">\n",
       "      <th></th>\n",
       "      <th>crs_dep_time</th>\n",
       "    </tr>\n",
       "    <tr>\n",
       "      <th>time_length_categ</th>\n",
       "      <th></th>\n",
       "    </tr>\n",
       "  </thead>\n",
       "  <tbody>\n",
       "    <tr>\n",
       "      <th>long</th>\n",
       "      <td>8</td>\n",
       "    </tr>\n",
       "    <tr>\n",
       "      <th>medium</th>\n",
       "      <td>4259</td>\n",
       "    </tr>\n",
       "    <tr>\n",
       "      <th>short</th>\n",
       "      <td>5733</td>\n",
       "    </tr>\n",
       "  </tbody>\n",
       "</table>\n",
       "</div>"
      ],
      "text/plain": [
       "                   crs_dep_time\n",
       "time_length_categ              \n",
       "long                          8\n",
       "medium                     4259\n",
       "short                      5733"
      ]
     },
     "execution_count": 7,
     "metadata": {},
     "output_type": "execute_result"
    }
   ],
   "source": [
    "hauls[['crs_dep_time','time_length_categ']].groupby(by = 'time_length_categ').count()"
   ]
  },
  {
   "cell_type": "markdown",
   "id": "a583569a-0cc2-45b9-b9fa-be3dec854afa",
   "metadata": {},
   "source": [
    "Looks like there are only 8 long haul flights in our 10 000 flights df"
   ]
  },
  {
   "cell_type": "code",
   "execution_count": 8,
   "id": "b16d9fcd-f579-4b54-aaf8-bf7d6d910bf0",
   "metadata": {},
   "outputs": [
    {
     "data": {
      "text/plain": [
       "fl_date\n",
       "2019-03-13    1000\n",
       "2018-12-03    2050\n",
       "2019-08-07    1000\n",
       "2018-09-15    2009\n",
       "2019-04-23    1644\n",
       "2019-04-29     935\n",
       "2018-11-25    1625\n",
       "2019-08-05     845\n",
       "Name: crs_dep_time, dtype: int64"
      ]
     },
     "execution_count": 8,
     "metadata": {},
     "output_type": "execute_result"
    }
   ],
   "source": [
    "#let's investigate the 8 long flights\n",
    "hauls[hauls['time_length_categ'] == 'long']['crs_dep_time']"
   ]
  },
  {
   "cell_type": "code",
   "execution_count": 9,
   "id": "c182771a-2e2f-4168-838c-40d083957327",
   "metadata": {
    "tags": []
   },
   "outputs": [],
   "source": [
    "#create new hr col to group\n",
    "hauls['hr'] = [dt.time(hour=x//100).strftime(\"%H:%M\") for x in hauls['crs_dep_time']]"
   ]
  },
  {
   "cell_type": "code",
   "execution_count": 10,
   "id": "57265f53-99e1-42a2-a189-ccd2c1b9707d",
   "metadata": {
    "tags": []
   },
   "outputs": [],
   "source": [
    "#let's group by category and hr and count the frequency\n",
    "hauls_plt = hauls[['hr','time_length_categ']].groupby(by = ['time_length_categ', 'hr']).size()"
   ]
  },
  {
   "cell_type": "code",
   "execution_count": 11,
   "id": "d4e9f7bf-1003-4751-9bd2-aa13f1ee94c7",
   "metadata": {
    "tags": []
   },
   "outputs": [],
   "source": [
    "#take category and hr out of the index and rename the count column. \n",
    "#sort by hr so we can plot nicely\n",
    "hauls_plt = hauls_plt.reset_index().rename({0: 'hr_count'}, axis = 1).sort_values('hr')"
   ]
  },
  {
   "cell_type": "code",
   "execution_count": 12,
   "id": "3cea4939-a70f-46f5-9f11-9913cca18275",
   "metadata": {},
   "outputs": [
    {
     "data": {
      "image/png": "[encoded data removed]",
      "text/plain": [
       "<Figure size 1400x900 with 1 Axes>"
      ]
     },
     "metadata": {},
     "output_type": "display_data"
    }
   ],
   "source": [
    "sns.set(rc={'figure.figsize':(14,9)})\n",
    "make_bar(hauls_plt, xlabel='hr', ylabel='hr_count', hue='time_length_categ')"
   ]
  },
  {
   "cell_type": "code",
   "execution_count": 13,
   "id": "64a160b5-0eef-4986-ad35-6a3538e64388",
   "metadata": {},
   "outputs": [
    {
     "data": {
      "image/png": "[encoded data removed]",
      "text/plain": [
       "<Figure size 1400x900 with 1 Axes>"
      ]
     },
     "metadata": {},
     "output_type": "display_data"
    }
   ],
   "source": [
    "sns.barplot(data=hauls_plt[hauls_plt['time_length_categ'] == 'long'], x ='hr', y='hr_count', color = 'green' ).set(title=\"Long Haul Flights by Hour\")\n",
    "plt.savefig('../output/figures/long_haul_flights_hourly.png')\n",
    "#add titles"
   ]
  },
  {
   "cell_type": "code",
   "execution_count": 14,
   "id": "1de88d8f-ab81-4172-967a-e2d259460025",
   "metadata": {},
   "outputs": [
    {
     "data": {
      "text/html": [
       "<div>\n",
       "<style scoped>\n",
       "    .dataframe tbody tr th:only-of-type {\n",
       "        vertical-align: middle;\n",
       "    }\n",
       "\n",
       "    .dataframe tbody tr th {\n",
       "        vertical-align: top;\n",
       "    }\n",
       "\n",
       "    .dataframe thead th {\n",
       "        text-align: right;\n",
       "    }\n",
       "</style>\n",
       "<table border=\"1\" class=\"dataframe\">\n",
       "  <thead>\n",
       "    <tr style=\"text-align: right;\">\n",
       "      <th></th>\n",
       "      <th>time_length_categ</th>\n",
       "      <th>hr</th>\n",
       "      <th>hr_count</th>\n",
       "    </tr>\n",
       "  </thead>\n",
       "  <tbody>\n",
       "    <tr>\n",
       "      <th>41</th>\n",
       "      <td>short</td>\n",
       "      <td>17:00</td>\n",
       "      <td>424</td>\n",
       "    </tr>\n",
       "    <tr>\n",
       "      <th>11</th>\n",
       "      <td>medium</td>\n",
       "      <td>07:00</td>\n",
       "      <td>335</td>\n",
       "    </tr>\n",
       "    <tr>\n",
       "      <th>4</th>\n",
       "      <td>long</td>\n",
       "      <td>20:00</td>\n",
       "      <td>2</td>\n",
       "    </tr>\n",
       "  </tbody>\n",
       "</table>\n",
       "</div>"
      ],
      "text/plain": [
       "   time_length_categ     hr  hr_count\n",
       "41             short  17:00       424\n",
       "11            medium  07:00       335\n",
       "4               long  20:00         2"
      ]
     },
     "execution_count": 14,
     "metadata": {},
     "output_type": "execute_result"
    }
   ],
   "source": [
    "results = hauls_plt.groupby(by = ['time_length_categ', 'hr'], as_index = False).value_counts()\n",
    "results.sort_values(by = ['hr_count'], ascending = False).groupby(by = 'time_length_categ').head(1).drop('count', axis = 1)"
   ]
  },
  {
   "cell_type": "code",
   "execution_count": 22,
   "id": "65ca993c-4e46-49e8-8de2-ee0935eb2405",
   "metadata": {},
   "outputs": [],
   "source": [
    "#there are multiple answered for long haul as 3 of the hours have a count of 2 - fine tune this?"
   ]
  },
  {
   "cell_type": "code",
   "execution_count": null,
   "id": "3c9dc78d-6284-42da-b11f-285a757e34c1",
   "metadata": {},
   "outputs": [],
   "source": []
  }
 ],
 "metadata": {
  "kernelspec": {
   "display_name": "Python 3 (ipykernel)",
   "language": "python",
   "name": "python3"
  },
  "language_info": {
   "codemirror_mode": {
    "name": "ipython",
    "version": 3
   },
   "file_extension": ".py",
   "mimetype": "text/x-python",
   "name": "python",
   "nbconvert_exporter": "python",
   "pygments_lexer": "ipython3",
   "version": "3.8.13"
  }
 },
 "nbformat": 4,
 "nbformat_minor": 5
}
