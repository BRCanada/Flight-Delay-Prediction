{
 "cells": [
  {
   "cell_type": "markdown",
   "metadata": {},
   "source": [
    "## Exploratory Data Analysis\n",
    "\n",
    "Use this notebook to get familiar with the datasets we have. There is 10 questions we need to answer during the EDA.\n",
    "\n",
    "\n",
    "We shouldn't limit our EDA to these 10 questions. Let's be creative :)."
   ]
  },
  {
   "cell_type": "code",
   "execution_count": 1,
   "metadata": {},
   "outputs": [],
   "source": [
    "import pandas as pd\n",
    "import numpy as np\n",
    "\n",
    "import matplotlib.pyplot as plt\n",
    "import seaborn as sns\n",
    "\n",
    "import os"
   ]
  },
  {
   "cell_type": "code",
   "execution_count": 2,
   "metadata": {},
   "outputs": [
    {
     "data": {
      "text/html": [
       "<div>\n",
       "<style scoped>\n",
       "    .dataframe tbody tr th:only-of-type {\n",
       "        vertical-align: middle;\n",
       "    }\n",
       "\n",
       "    .dataframe tbody tr th {\n",
       "        vertical-align: top;\n",
       "    }\n",
       "\n",
       "    .dataframe thead th {\n",
       "        text-align: right;\n",
       "    }\n",
       "</style>\n",
       "<table border=\"1\" class=\"dataframe\">\n",
       "  <thead>\n",
       "    <tr style=\"text-align: right;\">\n",
       "      <th></th>\n",
       "      <th>fl_date</th>\n",
       "      <th>mkt_unique_carrier</th>\n",
       "      <th>branded_code_share</th>\n",
       "      <th>mkt_carrier</th>\n",
       "      <th>mkt_carrier_fl_num</th>\n",
       "      <th>op_unique_carrier</th>\n",
       "      <th>tail_num</th>\n",
       "      <th>op_carrier_fl_num</th>\n",
       "      <th>origin_airport_id</th>\n",
       "      <th>origin</th>\n",
       "      <th>...</th>\n",
       "      <th>distance</th>\n",
       "      <th>carrier_delay</th>\n",
       "      <th>weather_delay</th>\n",
       "      <th>nas_delay</th>\n",
       "      <th>security_delay</th>\n",
       "      <th>late_aircraft_delay</th>\n",
       "      <th>first_dep_time</th>\n",
       "      <th>total_add_gtime</th>\n",
       "      <th>longest_add_gtime</th>\n",
       "      <th>no_name</th>\n",
       "    </tr>\n",
       "  </thead>\n",
       "  <tbody>\n",
       "    <tr>\n",
       "      <th>0</th>\n",
       "      <td>2018-07-10</td>\n",
       "      <td>WN</td>\n",
       "      <td>WN</td>\n",
       "      <td>WN</td>\n",
       "      <td>2212</td>\n",
       "      <td>WN</td>\n",
       "      <td>N958WN</td>\n",
       "      <td>2212</td>\n",
       "      <td>14683</td>\n",
       "      <td>SAT</td>\n",
       "      <td>...</td>\n",
       "      <td>822.0</td>\n",
       "      <td>NaN</td>\n",
       "      <td>NaN</td>\n",
       "      <td>NaN</td>\n",
       "      <td>NaN</td>\n",
       "      <td>NaN</td>\n",
       "      <td>NaN</td>\n",
       "      <td>NaN</td>\n",
       "      <td>NaN</td>\n",
       "      <td>NaN</td>\n",
       "    </tr>\n",
       "    <tr>\n",
       "      <th>1</th>\n",
       "      <td>2019-10-10</td>\n",
       "      <td>UA</td>\n",
       "      <td>UA</td>\n",
       "      <td>UA</td>\n",
       "      <td>206</td>\n",
       "      <td>UA</td>\n",
       "      <td>N68811</td>\n",
       "      <td>206</td>\n",
       "      <td>13930</td>\n",
       "      <td>ORD</td>\n",
       "      <td>...</td>\n",
       "      <td>1005.0</td>\n",
       "      <td>NaN</td>\n",
       "      <td>NaN</td>\n",
       "      <td>NaN</td>\n",
       "      <td>NaN</td>\n",
       "      <td>NaN</td>\n",
       "      <td>NaN</td>\n",
       "      <td>NaN</td>\n",
       "      <td>NaN</td>\n",
       "      <td>NaN</td>\n",
       "    </tr>\n",
       "    <tr>\n",
       "      <th>2</th>\n",
       "      <td>2019-07-18</td>\n",
       "      <td>AA</td>\n",
       "      <td>AA_CODESHARE</td>\n",
       "      <td>AA</td>\n",
       "      <td>4221</td>\n",
       "      <td>MQ</td>\n",
       "      <td>N694AE</td>\n",
       "      <td>4221</td>\n",
       "      <td>12891</td>\n",
       "      <td>LAW</td>\n",
       "      <td>...</td>\n",
       "      <td>140.0</td>\n",
       "      <td>NaN</td>\n",
       "      <td>NaN</td>\n",
       "      <td>NaN</td>\n",
       "      <td>NaN</td>\n",
       "      <td>NaN</td>\n",
       "      <td>NaN</td>\n",
       "      <td>NaN</td>\n",
       "      <td>NaN</td>\n",
       "      <td>NaN</td>\n",
       "    </tr>\n",
       "    <tr>\n",
       "      <th>3</th>\n",
       "      <td>2018-11-25</td>\n",
       "      <td>UA</td>\n",
       "      <td>UA_CODESHARE</td>\n",
       "      <td>UA</td>\n",
       "      <td>4822</td>\n",
       "      <td>ZW</td>\n",
       "      <td>NaN</td>\n",
       "      <td>4822</td>\n",
       "      <td>14685</td>\n",
       "      <td>SAV</td>\n",
       "      <td>...</td>\n",
       "      <td>773.0</td>\n",
       "      <td>NaN</td>\n",
       "      <td>NaN</td>\n",
       "      <td>NaN</td>\n",
       "      <td>NaN</td>\n",
       "      <td>NaN</td>\n",
       "      <td>NaN</td>\n",
       "      <td>NaN</td>\n",
       "      <td>NaN</td>\n",
       "      <td>NaN</td>\n",
       "    </tr>\n",
       "    <tr>\n",
       "      <th>4</th>\n",
       "      <td>2018-10-24</td>\n",
       "      <td>DL</td>\n",
       "      <td>DL</td>\n",
       "      <td>DL</td>\n",
       "      <td>957</td>\n",
       "      <td>DL</td>\n",
       "      <td>N693DL</td>\n",
       "      <td>957</td>\n",
       "      <td>11433</td>\n",
       "      <td>DTW</td>\n",
       "      <td>...</td>\n",
       "      <td>1960.0</td>\n",
       "      <td>0.0</td>\n",
       "      <td>0.0</td>\n",
       "      <td>28.0</td>\n",
       "      <td>0.0</td>\n",
       "      <td>0.0</td>\n",
       "      <td>NaN</td>\n",
       "      <td>NaN</td>\n",
       "      <td>NaN</td>\n",
       "      <td>NaN</td>\n",
       "    </tr>\n",
       "  </tbody>\n",
       "</table>\n",
       "<p>5 rows × 42 columns</p>\n",
       "</div>"
      ],
      "text/plain": [
       "      fl_date mkt_unique_carrier branded_code_share mkt_carrier  \\\n",
       "0  2018-07-10                 WN                 WN          WN   \n",
       "1  2019-10-10                 UA                 UA          UA   \n",
       "2  2019-07-18                 AA       AA_CODESHARE          AA   \n",
       "3  2018-11-25                 UA       UA_CODESHARE          UA   \n",
       "4  2018-10-24                 DL                 DL          DL   \n",
       "\n",
       "   mkt_carrier_fl_num op_unique_carrier tail_num  op_carrier_fl_num  \\\n",
       "0                2212                WN   N958WN               2212   \n",
       "1                 206                UA   N68811                206   \n",
       "2                4221                MQ   N694AE               4221   \n",
       "3                4822                ZW      NaN               4822   \n",
       "4                 957                DL   N693DL                957   \n",
       "\n",
       "   origin_airport_id origin  ... distance  carrier_delay weather_delay  \\\n",
       "0              14683    SAT  ...    822.0            NaN           NaN   \n",
       "1              13930    ORD  ...   1005.0            NaN           NaN   \n",
       "2              12891    LAW  ...    140.0            NaN           NaN   \n",
       "3              14685    SAV  ...    773.0            NaN           NaN   \n",
       "4              11433    DTW  ...   1960.0            0.0           0.0   \n",
       "\n",
       "  nas_delay  security_delay  late_aircraft_delay  first_dep_time  \\\n",
       "0       NaN             NaN                  NaN             NaN   \n",
       "1       NaN             NaN                  NaN             NaN   \n",
       "2       NaN             NaN                  NaN             NaN   \n",
       "3       NaN             NaN                  NaN             NaN   \n",
       "4      28.0             0.0                  0.0             NaN   \n",
       "\n",
       "   total_add_gtime  longest_add_gtime  no_name  \n",
       "0              NaN                NaN      NaN  \n",
       "1              NaN                NaN      NaN  \n",
       "2              NaN                NaN      NaN  \n",
       "3              NaN                NaN      NaN  \n",
       "4              NaN                NaN      NaN  \n",
       "\n",
       "[5 rows x 42 columns]"
      ]
     },
     "execution_count": 2,
     "metadata": {},
     "output_type": "execute_result"
    }
   ],
   "source": [
    "flights = pd.read_csv('data/flights_10000.csv', index_col=0)\n",
    "flights.head()"
   ]
  },
  {
   "cell_type": "code",
   "execution_count": 3,
   "metadata": {},
   "outputs": [
    {
     "data": {
      "text/plain": [
       "Index(['fl_date', 'mkt_unique_carrier', 'branded_code_share', 'mkt_carrier',\n",
       "       'mkt_carrier_fl_num', 'op_unique_carrier', 'tail_num',\n",
       "       'op_carrier_fl_num', 'origin_airport_id', 'origin', 'origin_city_name',\n",
       "       'dest_airport_id', 'dest', 'dest_city_name', 'crs_dep_time', 'dep_time',\n",
       "       'dep_delay', 'taxi_out', 'wheels_off', 'wheels_on', 'taxi_in',\n",
       "       'crs_arr_time', 'arr_time', 'arr_delay', 'cancelled',\n",
       "       'cancellation_code', 'diverted', 'dup', 'crs_elapsed_time',\n",
       "       'actual_elapsed_time', 'air_time', 'flights', 'distance',\n",
       "       'carrier_delay', 'weather_delay', 'nas_delay', 'security_delay',\n",
       "       'late_aircraft_delay', 'first_dep_time', 'total_add_gtime',\n",
       "       'longest_add_gtime', 'no_name'],\n",
       "      dtype='object')"
      ]
     },
     "execution_count": 3,
     "metadata": {},
     "output_type": "execute_result"
    }
   ],
   "source": [
    "flights.columns"
   ]
  },
  {
   "cell_type": "code",
   "execution_count": 4,
   "metadata": {},
   "outputs": [
    {
     "data": {
      "text/html": [
       "<div>\n",
       "<style scoped>\n",
       "    .dataframe tbody tr th:only-of-type {\n",
       "        vertical-align: middle;\n",
       "    }\n",
       "\n",
       "    .dataframe tbody tr th {\n",
       "        vertical-align: top;\n",
       "    }\n",
       "\n",
       "    .dataframe thead th {\n",
       "        text-align: right;\n",
       "    }\n",
       "</style>\n",
       "<table border=\"1\" class=\"dataframe\">\n",
       "  <thead>\n",
       "    <tr style=\"text-align: right;\">\n",
       "      <th></th>\n",
       "      <th>fl_date</th>\n",
       "      <th>mkt_unique_carrier</th>\n",
       "      <th>branded_code_share</th>\n",
       "      <th>mkt_carrier</th>\n",
       "      <th>mkt_carrier_fl_num</th>\n",
       "      <th>op_unique_carrier</th>\n",
       "      <th>tail_num</th>\n",
       "      <th>op_carrier_fl_num</th>\n",
       "      <th>origin_airport_id</th>\n",
       "      <th>origin</th>\n",
       "      <th>origin_city_name</th>\n",
       "      <th>dest_airport_id</th>\n",
       "      <th>dest</th>\n",
       "      <th>dest_city_name</th>\n",
       "      <th>crs_dep_time</th>\n",
       "      <th>crs_arr_time</th>\n",
       "      <th>dup</th>\n",
       "      <th>crs_elapsed_time</th>\n",
       "      <th>flights</th>\n",
       "      <th>distance</th>\n",
       "    </tr>\n",
       "  </thead>\n",
       "  <tbody>\n",
       "    <tr>\n",
       "      <th>0</th>\n",
       "      <td>1577836800000</td>\n",
       "      <td>WN</td>\n",
       "      <td>WN</td>\n",
       "      <td>WN</td>\n",
       "      <td>5888</td>\n",
       "      <td>WN</td>\n",
       "      <td>N951WN</td>\n",
       "      <td>5888</td>\n",
       "      <td>13891</td>\n",
       "      <td>ONT</td>\n",
       "      <td>Ontario, CA</td>\n",
       "      <td>14771</td>\n",
       "      <td>SFO</td>\n",
       "      <td>San Francisco, CA</td>\n",
       "      <td>1810</td>\n",
       "      <td>1945</td>\n",
       "      <td>N</td>\n",
       "      <td>95</td>\n",
       "      <td>1</td>\n",
       "      <td>363</td>\n",
       "    </tr>\n",
       "    <tr>\n",
       "      <th>1</th>\n",
       "      <td>1577836800000</td>\n",
       "      <td>WN</td>\n",
       "      <td>WN</td>\n",
       "      <td>WN</td>\n",
       "      <td>6276</td>\n",
       "      <td>WN</td>\n",
       "      <td>N467WN</td>\n",
       "      <td>6276</td>\n",
       "      <td>13891</td>\n",
       "      <td>ONT</td>\n",
       "      <td>Ontario, CA</td>\n",
       "      <td>14771</td>\n",
       "      <td>SFO</td>\n",
       "      <td>San Francisco, CA</td>\n",
       "      <td>1150</td>\n",
       "      <td>1320</td>\n",
       "      <td>N</td>\n",
       "      <td>90</td>\n",
       "      <td>1</td>\n",
       "      <td>363</td>\n",
       "    </tr>\n",
       "    <tr>\n",
       "      <th>2</th>\n",
       "      <td>1577836800000</td>\n",
       "      <td>WN</td>\n",
       "      <td>WN</td>\n",
       "      <td>WN</td>\n",
       "      <td>4598</td>\n",
       "      <td>WN</td>\n",
       "      <td>N7885A</td>\n",
       "      <td>4598</td>\n",
       "      <td>13891</td>\n",
       "      <td>ONT</td>\n",
       "      <td>Ontario, CA</td>\n",
       "      <td>14831</td>\n",
       "      <td>SJC</td>\n",
       "      <td>San Jose, CA</td>\n",
       "      <td>2020</td>\n",
       "      <td>2130</td>\n",
       "      <td>N</td>\n",
       "      <td>70</td>\n",
       "      <td>1</td>\n",
       "      <td>333</td>\n",
       "    </tr>\n",
       "    <tr>\n",
       "      <th>3</th>\n",
       "      <td>1577836800000</td>\n",
       "      <td>WN</td>\n",
       "      <td>WN</td>\n",
       "      <td>WN</td>\n",
       "      <td>4761</td>\n",
       "      <td>WN</td>\n",
       "      <td>N551WN</td>\n",
       "      <td>4761</td>\n",
       "      <td>13891</td>\n",
       "      <td>ONT</td>\n",
       "      <td>Ontario, CA</td>\n",
       "      <td>14831</td>\n",
       "      <td>SJC</td>\n",
       "      <td>San Jose, CA</td>\n",
       "      <td>1340</td>\n",
       "      <td>1455</td>\n",
       "      <td>N</td>\n",
       "      <td>75</td>\n",
       "      <td>1</td>\n",
       "      <td>333</td>\n",
       "    </tr>\n",
       "    <tr>\n",
       "      <th>4</th>\n",
       "      <td>1577836800000</td>\n",
       "      <td>WN</td>\n",
       "      <td>WN</td>\n",
       "      <td>WN</td>\n",
       "      <td>5162</td>\n",
       "      <td>WN</td>\n",
       "      <td>N968WN</td>\n",
       "      <td>5162</td>\n",
       "      <td>13891</td>\n",
       "      <td>ONT</td>\n",
       "      <td>Ontario, CA</td>\n",
       "      <td>14831</td>\n",
       "      <td>SJC</td>\n",
       "      <td>San Jose, CA</td>\n",
       "      <td>915</td>\n",
       "      <td>1035</td>\n",
       "      <td>N</td>\n",
       "      <td>80</td>\n",
       "      <td>1</td>\n",
       "      <td>333</td>\n",
       "    </tr>\n",
       "  </tbody>\n",
       "</table>\n",
       "</div>"
      ],
      "text/plain": [
       "         fl_date mkt_unique_carrier branded_code_share mkt_carrier  \\\n",
       "0  1577836800000                 WN                 WN          WN   \n",
       "1  1577836800000                 WN                 WN          WN   \n",
       "2  1577836800000                 WN                 WN          WN   \n",
       "3  1577836800000                 WN                 WN          WN   \n",
       "4  1577836800000                 WN                 WN          WN   \n",
       "\n",
       "   mkt_carrier_fl_num op_unique_carrier tail_num  op_carrier_fl_num  \\\n",
       "0                5888                WN   N951WN               5888   \n",
       "1                6276                WN   N467WN               6276   \n",
       "2                4598                WN   N7885A               4598   \n",
       "3                4761                WN   N551WN               4761   \n",
       "4                5162                WN   N968WN               5162   \n",
       "\n",
       "   origin_airport_id origin origin_city_name  dest_airport_id dest  \\\n",
       "0              13891    ONT      Ontario, CA            14771  SFO   \n",
       "1              13891    ONT      Ontario, CA            14771  SFO   \n",
       "2              13891    ONT      Ontario, CA            14831  SJC   \n",
       "3              13891    ONT      Ontario, CA            14831  SJC   \n",
       "4              13891    ONT      Ontario, CA            14831  SJC   \n",
       "\n",
       "      dest_city_name  crs_dep_time  crs_arr_time dup  crs_elapsed_time  \\\n",
       "0  San Francisco, CA          1810          1945   N                95   \n",
       "1  San Francisco, CA          1150          1320   N                90   \n",
       "2       San Jose, CA          2020          2130   N                70   \n",
       "3       San Jose, CA          1340          1455   N                75   \n",
       "4       San Jose, CA           915          1035   N                80   \n",
       "\n",
       "   flights  distance  \n",
       "0        1       363  \n",
       "1        1       363  \n",
       "2        1       333  \n",
       "3        1       333  \n",
       "4        1       333  "
      ]
     },
     "execution_count": 4,
     "metadata": {},
     "output_type": "execute_result"
    }
   ],
   "source": [
    "#load test data (these are the cols we will have at the test phase)\n",
    "fl_test = pd.read_csv('data/flights_test_10.csv')\n",
    "fl_test.head()"
   ]
  },
  {
   "cell_type": "code",
   "execution_count": 5,
   "metadata": {},
   "outputs": [
    {
     "data": {
      "text/plain": [
       "Timestamp('2020-01-01 00:00:00')"
      ]
     },
     "execution_count": 5,
     "metadata": {},
     "output_type": "execute_result"
    }
   ],
   "source": [
    "pd.Timestamp.fromtimestamp(1577836800000/1000)"
   ]
  },
  {
   "cell_type": "markdown",
   "metadata": {
    "tags": []
   },
   "source": [
    "#### **Task 3**: Does the weather affect the delay? \n",
    "Use the API to pull the weather information for flights. There is no need to get weather for ALL flights. We can choose the right representative sample. Let's focus on four weather types:\n",
    "- sunny\n",
    "- cloudy\n",
    "- rainy\n",
    "- snow.\n",
    "Test the hypothesis that these 4 delays are from the same distribution. If they are not, which ones are significantly different?"
   ]
  },
  {
   "cell_type": "code",
   "execution_count": 5,
   "metadata": {},
   "outputs": [],
   "source": [
    "import datetime as dt"
   ]
  },
  {
   "cell_type": "code",
   "execution_count": 54,
   "metadata": {},
   "outputs": [],
   "source": [
    "fl_test['fl_date'] = fl_test['fl_date']/1000\n",
    "fl_test['fl_date'] = fl_test['fl_date'].apply(pd.Timestamp.fromtimestamp)"
   ]
  },
  {
   "cell_type": "code",
   "execution_count": 56,
   "metadata": {
    "tags": []
   },
   "outputs": [
    {
     "data": {
      "text/html": [
       "<div>\n",
       "<style scoped>\n",
       "    .dataframe tbody tr th:only-of-type {\n",
       "        vertical-align: middle;\n",
       "    }\n",
       "\n",
       "    .dataframe tbody tr th {\n",
       "        vertical-align: top;\n",
       "    }\n",
       "\n",
       "    .dataframe thead th {\n",
       "        text-align: right;\n",
       "    }\n",
       "</style>\n",
       "<table border=\"1\" class=\"dataframe\">\n",
       "  <thead>\n",
       "    <tr style=\"text-align: right;\">\n",
       "      <th></th>\n",
       "      <th>fl_date</th>\n",
       "      <th>mkt_unique_carrier</th>\n",
       "      <th>branded_code_share</th>\n",
       "      <th>mkt_carrier</th>\n",
       "      <th>mkt_carrier_fl_num</th>\n",
       "      <th>op_unique_carrier</th>\n",
       "      <th>tail_num</th>\n",
       "      <th>op_carrier_fl_num</th>\n",
       "      <th>origin_airport_id</th>\n",
       "      <th>origin</th>\n",
       "      <th>origin_city_name</th>\n",
       "      <th>dest_airport_id</th>\n",
       "      <th>dest</th>\n",
       "      <th>dest_city_name</th>\n",
       "      <th>crs_dep_time</th>\n",
       "      <th>crs_arr_time</th>\n",
       "      <th>dup</th>\n",
       "      <th>crs_elapsed_time</th>\n",
       "      <th>flights</th>\n",
       "      <th>distance</th>\n",
       "    </tr>\n",
       "  </thead>\n",
       "  <tbody>\n",
       "    <tr>\n",
       "      <th>0</th>\n",
       "      <td>2020-01-01</td>\n",
       "      <td>WN</td>\n",
       "      <td>WN</td>\n",
       "      <td>WN</td>\n",
       "      <td>5888</td>\n",
       "      <td>WN</td>\n",
       "      <td>N951WN</td>\n",
       "      <td>5888</td>\n",
       "      <td>13891</td>\n",
       "      <td>ONT</td>\n",
       "      <td>Ontario, CA</td>\n",
       "      <td>14771</td>\n",
       "      <td>SFO</td>\n",
       "      <td>San Francisco, CA</td>\n",
       "      <td>1810</td>\n",
       "      <td>1945</td>\n",
       "      <td>N</td>\n",
       "      <td>95</td>\n",
       "      <td>1</td>\n",
       "      <td>363</td>\n",
       "    </tr>\n",
       "    <tr>\n",
       "      <th>1</th>\n",
       "      <td>2020-01-01</td>\n",
       "      <td>WN</td>\n",
       "      <td>WN</td>\n",
       "      <td>WN</td>\n",
       "      <td>6276</td>\n",
       "      <td>WN</td>\n",
       "      <td>N467WN</td>\n",
       "      <td>6276</td>\n",
       "      <td>13891</td>\n",
       "      <td>ONT</td>\n",
       "      <td>Ontario, CA</td>\n",
       "      <td>14771</td>\n",
       "      <td>SFO</td>\n",
       "      <td>San Francisco, CA</td>\n",
       "      <td>1150</td>\n",
       "      <td>1320</td>\n",
       "      <td>N</td>\n",
       "      <td>90</td>\n",
       "      <td>1</td>\n",
       "      <td>363</td>\n",
       "    </tr>\n",
       "    <tr>\n",
       "      <th>2</th>\n",
       "      <td>2020-01-01</td>\n",
       "      <td>WN</td>\n",
       "      <td>WN</td>\n",
       "      <td>WN</td>\n",
       "      <td>4598</td>\n",
       "      <td>WN</td>\n",
       "      <td>N7885A</td>\n",
       "      <td>4598</td>\n",
       "      <td>13891</td>\n",
       "      <td>ONT</td>\n",
       "      <td>Ontario, CA</td>\n",
       "      <td>14831</td>\n",
       "      <td>SJC</td>\n",
       "      <td>San Jose, CA</td>\n",
       "      <td>2020</td>\n",
       "      <td>2130</td>\n",
       "      <td>N</td>\n",
       "      <td>70</td>\n",
       "      <td>1</td>\n",
       "      <td>333</td>\n",
       "    </tr>\n",
       "    <tr>\n",
       "      <th>3</th>\n",
       "      <td>2020-01-01</td>\n",
       "      <td>WN</td>\n",
       "      <td>WN</td>\n",
       "      <td>WN</td>\n",
       "      <td>4761</td>\n",
       "      <td>WN</td>\n",
       "      <td>N551WN</td>\n",
       "      <td>4761</td>\n",
       "      <td>13891</td>\n",
       "      <td>ONT</td>\n",
       "      <td>Ontario, CA</td>\n",
       "      <td>14831</td>\n",
       "      <td>SJC</td>\n",
       "      <td>San Jose, CA</td>\n",
       "      <td>1340</td>\n",
       "      <td>1455</td>\n",
       "      <td>N</td>\n",
       "      <td>75</td>\n",
       "      <td>1</td>\n",
       "      <td>333</td>\n",
       "    </tr>\n",
       "    <tr>\n",
       "      <th>4</th>\n",
       "      <td>2020-01-01</td>\n",
       "      <td>WN</td>\n",
       "      <td>WN</td>\n",
       "      <td>WN</td>\n",
       "      <td>5162</td>\n",
       "      <td>WN</td>\n",
       "      <td>N968WN</td>\n",
       "      <td>5162</td>\n",
       "      <td>13891</td>\n",
       "      <td>ONT</td>\n",
       "      <td>Ontario, CA</td>\n",
       "      <td>14831</td>\n",
       "      <td>SJC</td>\n",
       "      <td>San Jose, CA</td>\n",
       "      <td>915</td>\n",
       "      <td>1035</td>\n",
       "      <td>N</td>\n",
       "      <td>80</td>\n",
       "      <td>1</td>\n",
       "      <td>333</td>\n",
       "    </tr>\n",
       "    <tr>\n",
       "      <th>5</th>\n",
       "      <td>2020-01-01</td>\n",
       "      <td>WN</td>\n",
       "      <td>WN</td>\n",
       "      <td>WN</td>\n",
       "      <td>5684</td>\n",
       "      <td>WN</td>\n",
       "      <td>N7856A</td>\n",
       "      <td>5684</td>\n",
       "      <td>13891</td>\n",
       "      <td>ONT</td>\n",
       "      <td>Ontario, CA</td>\n",
       "      <td>14831</td>\n",
       "      <td>SJC</td>\n",
       "      <td>San Jose, CA</td>\n",
       "      <td>600</td>\n",
       "      <td>715</td>\n",
       "      <td>N</td>\n",
       "      <td>75</td>\n",
       "      <td>1</td>\n",
       "      <td>333</td>\n",
       "    </tr>\n",
       "    <tr>\n",
       "      <th>6</th>\n",
       "      <td>2020-01-01</td>\n",
       "      <td>WN</td>\n",
       "      <td>WN</td>\n",
       "      <td>WN</td>\n",
       "      <td>6152</td>\n",
       "      <td>WN</td>\n",
       "      <td>N7735A</td>\n",
       "      <td>6152</td>\n",
       "      <td>13891</td>\n",
       "      <td>ONT</td>\n",
       "      <td>Ontario, CA</td>\n",
       "      <td>14831</td>\n",
       "      <td>SJC</td>\n",
       "      <td>San Jose, CA</td>\n",
       "      <td>1620</td>\n",
       "      <td>1740</td>\n",
       "      <td>N</td>\n",
       "      <td>80</td>\n",
       "      <td>1</td>\n",
       "      <td>333</td>\n",
       "    </tr>\n",
       "    <tr>\n",
       "      <th>7</th>\n",
       "      <td>2020-01-01</td>\n",
       "      <td>WN</td>\n",
       "      <td>WN</td>\n",
       "      <td>WN</td>\n",
       "      <td>1679</td>\n",
       "      <td>WN</td>\n",
       "      <td>N405WN</td>\n",
       "      <td>1679</td>\n",
       "      <td>13891</td>\n",
       "      <td>ONT</td>\n",
       "      <td>Ontario, CA</td>\n",
       "      <td>14893</td>\n",
       "      <td>SMF</td>\n",
       "      <td>Sacramento, CA</td>\n",
       "      <td>1505</td>\n",
       "      <td>1630</td>\n",
       "      <td>N</td>\n",
       "      <td>85</td>\n",
       "      <td>1</td>\n",
       "      <td>390</td>\n",
       "    </tr>\n",
       "    <tr>\n",
       "      <th>8</th>\n",
       "      <td>2020-01-01</td>\n",
       "      <td>WN</td>\n",
       "      <td>WN</td>\n",
       "      <td>WN</td>\n",
       "      <td>3479</td>\n",
       "      <td>WN</td>\n",
       "      <td>N489WN</td>\n",
       "      <td>3479</td>\n",
       "      <td>13891</td>\n",
       "      <td>ONT</td>\n",
       "      <td>Ontario, CA</td>\n",
       "      <td>14893</td>\n",
       "      <td>SMF</td>\n",
       "      <td>Sacramento, CA</td>\n",
       "      <td>1230</td>\n",
       "      <td>1355</td>\n",
       "      <td>N</td>\n",
       "      <td>85</td>\n",
       "      <td>1</td>\n",
       "      <td>390</td>\n",
       "    </tr>\n",
       "    <tr>\n",
       "      <th>9</th>\n",
       "      <td>2020-01-01</td>\n",
       "      <td>WN</td>\n",
       "      <td>WN</td>\n",
       "      <td>WN</td>\n",
       "      <td>4069</td>\n",
       "      <td>WN</td>\n",
       "      <td>N7708E</td>\n",
       "      <td>4069</td>\n",
       "      <td>13891</td>\n",
       "      <td>ONT</td>\n",
       "      <td>Ontario, CA</td>\n",
       "      <td>14893</td>\n",
       "      <td>SMF</td>\n",
       "      <td>Sacramento, CA</td>\n",
       "      <td>740</td>\n",
       "      <td>900</td>\n",
       "      <td>N</td>\n",
       "      <td>80</td>\n",
       "      <td>1</td>\n",
       "      <td>390</td>\n",
       "    </tr>\n",
       "  </tbody>\n",
       "</table>\n",
       "</div>"
      ],
      "text/plain": [
       "     fl_date mkt_unique_carrier branded_code_share mkt_carrier  \\\n",
       "0 2020-01-01                 WN                 WN          WN   \n",
       "1 2020-01-01                 WN                 WN          WN   \n",
       "2 2020-01-01                 WN                 WN          WN   \n",
       "3 2020-01-01                 WN                 WN          WN   \n",
       "4 2020-01-01                 WN                 WN          WN   \n",
       "5 2020-01-01                 WN                 WN          WN   \n",
       "6 2020-01-01                 WN                 WN          WN   \n",
       "7 2020-01-01                 WN                 WN          WN   \n",
       "8 2020-01-01                 WN                 WN          WN   \n",
       "9 2020-01-01                 WN                 WN          WN   \n",
       "\n",
       "   mkt_carrier_fl_num op_unique_carrier tail_num  op_carrier_fl_num  \\\n",
       "0                5888                WN   N951WN               5888   \n",
       "1                6276                WN   N467WN               6276   \n",
       "2                4598                WN   N7885A               4598   \n",
       "3                4761                WN   N551WN               4761   \n",
       "4                5162                WN   N968WN               5162   \n",
       "5                5684                WN   N7856A               5684   \n",
       "6                6152                WN   N7735A               6152   \n",
       "7                1679                WN   N405WN               1679   \n",
       "8                3479                WN   N489WN               3479   \n",
       "9                4069                WN   N7708E               4069   \n",
       "\n",
       "   origin_airport_id origin origin_city_name  dest_airport_id dest  \\\n",
       "0              13891    ONT      Ontario, CA            14771  SFO   \n",
       "1              13891    ONT      Ontario, CA            14771  SFO   \n",
       "2              13891    ONT      Ontario, CA            14831  SJC   \n",
       "3              13891    ONT      Ontario, CA            14831  SJC   \n",
       "4              13891    ONT      Ontario, CA            14831  SJC   \n",
       "5              13891    ONT      Ontario, CA            14831  SJC   \n",
       "6              13891    ONT      Ontario, CA            14831  SJC   \n",
       "7              13891    ONT      Ontario, CA            14893  SMF   \n",
       "8              13891    ONT      Ontario, CA            14893  SMF   \n",
       "9              13891    ONT      Ontario, CA            14893  SMF   \n",
       "\n",
       "      dest_city_name  crs_dep_time  crs_arr_time dup  crs_elapsed_time  \\\n",
       "0  San Francisco, CA          1810          1945   N                95   \n",
       "1  San Francisco, CA          1150          1320   N                90   \n",
       "2       San Jose, CA          2020          2130   N                70   \n",
       "3       San Jose, CA          1340          1455   N                75   \n",
       "4       San Jose, CA           915          1035   N                80   \n",
       "5       San Jose, CA           600           715   N                75   \n",
       "6       San Jose, CA          1620          1740   N                80   \n",
       "7     Sacramento, CA          1505          1630   N                85   \n",
       "8     Sacramento, CA          1230          1355   N                85   \n",
       "9     Sacramento, CA           740           900   N                80   \n",
       "\n",
       "   flights  distance  \n",
       "0        1       363  \n",
       "1        1       363  \n",
       "2        1       333  \n",
       "3        1       333  \n",
       "4        1       333  \n",
       "5        1       333  \n",
       "6        1       333  \n",
       "7        1       390  \n",
       "8        1       390  \n",
       "9        1       390  "
      ]
     },
     "execution_count": 56,
     "metadata": {},
     "output_type": "execute_result"
    }
   ],
   "source": [
    "fl_test"
   ]
  },
  {
   "cell_type": "code",
   "execution_count": 8,
   "metadata": {},
   "outputs": [
    {
     "data": {
      "text/plain": [
       "Index(['fl_date', 'mkt_unique_carrier', 'branded_code_share', 'mkt_carrier',\n",
       "       'mkt_carrier_fl_num', 'op_unique_carrier', 'tail_num',\n",
       "       'op_carrier_fl_num', 'origin_airport_id', 'origin', 'origin_city_name',\n",
       "       'dest_airport_id', 'dest', 'dest_city_name', 'crs_dep_time',\n",
       "       'crs_arr_time', 'dup', 'crs_elapsed_time', 'flights', 'distance'],\n",
       "      dtype='object')"
      ]
     },
     "execution_count": 8,
     "metadata": {},
     "output_type": "execute_result"
    }
   ],
   "source": [
    "fl_test.columns"
   ]
  },
  {
   "cell_type": "code",
   "execution_count": 41,
   "metadata": {},
   "outputs": [
    {
     "data": {
      "text/html": [
       "<div>\n",
       "<style scoped>\n",
       "    .dataframe tbody tr th:only-of-type {\n",
       "        vertical-align: middle;\n",
       "    }\n",
       "\n",
       "    .dataframe tbody tr th {\n",
       "        vertical-align: top;\n",
       "    }\n",
       "\n",
       "    .dataframe thead th {\n",
       "        text-align: right;\n",
       "    }\n",
       "</style>\n",
       "<table border=\"1\" class=\"dataframe\">\n",
       "  <thead>\n",
       "    <tr style=\"text-align: right;\">\n",
       "      <th></th>\n",
       "      <th>fl_date</th>\n",
       "      <th>origin_city_name</th>\n",
       "      <th>crs_dep_time</th>\n",
       "      <th>dest_city_name</th>\n",
       "      <th>crs_arr_time</th>\n",
       "    </tr>\n",
       "  </thead>\n",
       "  <tbody>\n",
       "    <tr>\n",
       "      <th>0</th>\n",
       "      <td>2018-07-10</td>\n",
       "      <td>San Antonio, TX</td>\n",
       "      <td>705</td>\n",
       "      <td>Nashville, TN</td>\n",
       "      <td>915</td>\n",
       "    </tr>\n",
       "    <tr>\n",
       "      <th>1</th>\n",
       "      <td>2019-10-10</td>\n",
       "      <td>Chicago, IL</td>\n",
       "      <td>800</td>\n",
       "      <td>Orlando, FL</td>\n",
       "      <td>1148</td>\n",
       "    </tr>\n",
       "    <tr>\n",
       "      <th>2</th>\n",
       "      <td>2019-07-18</td>\n",
       "      <td>Lawton/Fort Sill, OK</td>\n",
       "      <td>1034</td>\n",
       "      <td>Dallas/Fort Worth, TX</td>\n",
       "      <td>1130</td>\n",
       "    </tr>\n",
       "    <tr>\n",
       "      <th>3</th>\n",
       "      <td>2018-11-25</td>\n",
       "      <td>Savannah, GA</td>\n",
       "      <td>2200</td>\n",
       "      <td>Chicago, IL</td>\n",
       "      <td>2327</td>\n",
       "    </tr>\n",
       "    <tr>\n",
       "      <th>4</th>\n",
       "      <td>2018-10-24</td>\n",
       "      <td>Detroit, MI</td>\n",
       "      <td>841</td>\n",
       "      <td>Santa Ana, CA</td>\n",
       "      <td>1039</td>\n",
       "    </tr>\n",
       "    <tr>\n",
       "      <th>5</th>\n",
       "      <td>2019-06-08</td>\n",
       "      <td>Richmond, VA</td>\n",
       "      <td>1149</td>\n",
       "      <td>Dallas/Fort Worth, TX</td>\n",
       "      <td>1400</td>\n",
       "    </tr>\n",
       "    <tr>\n",
       "      <th>6</th>\n",
       "      <td>2018-01-29</td>\n",
       "      <td>Charlotte, NC</td>\n",
       "      <td>1436</td>\n",
       "      <td>St. Louis, MO</td>\n",
       "      <td>1534</td>\n",
       "    </tr>\n",
       "    <tr>\n",
       "      <th>7</th>\n",
       "      <td>2019-08-14</td>\n",
       "      <td>Allentown/Bethlehem/Easton, PA</td>\n",
       "      <td>1844</td>\n",
       "      <td>Sanford, FL</td>\n",
       "      <td>2105</td>\n",
       "    </tr>\n",
       "    <tr>\n",
       "      <th>8</th>\n",
       "      <td>2019-01-28</td>\n",
       "      <td>Tucson, AZ</td>\n",
       "      <td>735</td>\n",
       "      <td>Dallas/Fort Worth, TX</td>\n",
       "      <td>1050</td>\n",
       "    </tr>\n",
       "    <tr>\n",
       "      <th>9</th>\n",
       "      <td>2018-03-05</td>\n",
       "      <td>Charlotte, NC</td>\n",
       "      <td>1759</td>\n",
       "      <td>Raleigh/Durham, NC</td>\n",
       "      <td>1854</td>\n",
       "    </tr>\n",
       "  </tbody>\n",
       "</table>\n",
       "</div>"
      ],
      "text/plain": [
       "      fl_date                origin_city_name  crs_dep_time  \\\n",
       "0  2018-07-10                 San Antonio, TX           705   \n",
       "1  2019-10-10                     Chicago, IL           800   \n",
       "2  2019-07-18            Lawton/Fort Sill, OK          1034   \n",
       "3  2018-11-25                    Savannah, GA          2200   \n",
       "4  2018-10-24                     Detroit, MI           841   \n",
       "5  2019-06-08                    Richmond, VA          1149   \n",
       "6  2018-01-29                   Charlotte, NC          1436   \n",
       "7  2019-08-14  Allentown/Bethlehem/Easton, PA          1844   \n",
       "8  2019-01-28                      Tucson, AZ           735   \n",
       "9  2018-03-05                   Charlotte, NC          1759   \n",
       "\n",
       "          dest_city_name  crs_arr_time  \n",
       "0          Nashville, TN           915  \n",
       "1            Orlando, FL          1148  \n",
       "2  Dallas/Fort Worth, TX          1130  \n",
       "3            Chicago, IL          2327  \n",
       "4          Santa Ana, CA          1039  \n",
       "5  Dallas/Fort Worth, TX          1400  \n",
       "6          St. Louis, MO          1534  \n",
       "7            Sanford, FL          2105  \n",
       "8  Dallas/Fort Worth, TX          1050  \n",
       "9     Raleigh/Durham, NC          1854  "
      ]
     },
     "execution_count": 41,
     "metadata": {},
     "output_type": "execute_result"
    }
   ],
   "source": [
    "weather_df = flights[['fl_date', 'origin_city_name','crs_dep_time', 'dest_city_name', 'crs_arr_time']].head(10)\n",
    "weather_df"
   ]
  },
  {
   "cell_type": "code",
   "execution_count": 10,
   "metadata": {},
   "outputs": [],
   "source": [
    "import requests\n",
    "import time\n",
    "api_key_weather = os.environ[\"world_weather_api_key2\"]\n",
    "#world_weather_api_key2 use this one starting oct 25th"
   ]
  },
  {
   "cell_type": "code",
   "execution_count": 11,
   "metadata": {},
   "outputs": [],
   "source": [
    "def get_weather(city, date, tp = 12):\n",
    "    \"\"\"\n",
    "    PARAMETERS:\n",
    "    city: q=New+york,ny City Name, State\n",
    "    date: date=yyyy-MM-dd\n",
    "    nearest weather station: includelocation=yes\n",
    "    time: time intervauls, default of api is 3, we have set default for the function to 12 \n",
    "    Format: format=json (xml is default)\n",
    "    key: key = api_key_weather\n",
    "    \n",
    "    *******The number of results to return, up to 250*******\n",
    "    \"\"\"\n",
    "    \n",
    "    \n",
    "    url = \"http://api.worldweatheronline.com/premium/v1/past-weather.ashx\"\n",
    "    headers = {\n",
    "        \"q\": city.replace(\" \", \"\"),         \n",
    "        \"date\": date,         \n",
    "        \"format\": \"json\",\n",
    "        \"includelocation\":\"yes\",\n",
    "        \"tp\":str(tp),\n",
    "        \"key\": api_key_weather,\n",
    "    }\n",
    "    response = requests.get(url, params=headers)\n",
    "    return response.json()"
   ]
  },
  {
   "cell_type": "code",
   "execution_count": 12,
   "metadata": {
    "collapsed": true,
    "jupyter": {
     "outputs_hidden": true
    },
    "tags": []
   },
   "outputs": [
    {
     "data": {
      "text/plain": [
       "{'data': {'request': [{'type': 'City',\n",
       "    'query': 'Chicago, United States of America'}],\n",
       "  'nearest_area': [{'areaName': [{'value': 'Chicago'}],\n",
       "    'country': [{'value': 'United States of America'}],\n",
       "    'region': [{'value': 'Illinois'}],\n",
       "    'latitude': '41.850',\n",
       "    'longitude': '-87.650'}],\n",
       "  'weather': [{'date': '2019-10-10',\n",
       "    'astronomy': [{'sunrise': '06:57 AM',\n",
       "      'sunset': '06:17 PM',\n",
       "      'moonrise': '05:22 PM',\n",
       "      'moonset': '03:35 AM',\n",
       "      'moon_phase': 'Waxing Gibbous',\n",
       "      'moon_illumination': '76'}],\n",
       "    'maxtempC': '20',\n",
       "    'maxtempF': '68',\n",
       "    'mintempC': '15',\n",
       "    'mintempF': '60',\n",
       "    'avgtempC': '18',\n",
       "    'avgtempF': '64',\n",
       "    'totalSnow_cm': '0.0',\n",
       "    'sunHour': '8.7',\n",
       "    'uvIndex': '5',\n",
       "    'hourly': [{'time': '0',\n",
       "      'tempC': '16',\n",
       "      'tempF': '61',\n",
       "      'windspeedMiles': '11',\n",
       "      'windspeedKmph': '17',\n",
       "      'winddirDegree': '138',\n",
       "      'winddir16Point': 'SE',\n",
       "      'weatherCode': '113',\n",
       "      'weatherIconUrl': [{'value': 'https://cdn.worldweatheronline.com/images/wsymbols01_png_64/wsymbol_0008_clear_sky_night.png'}],\n",
       "      'weatherDesc': [{'value': 'Clear'}],\n",
       "      'precipMM': '0.0',\n",
       "      'precipInches': '0.0',\n",
       "      'humidity': '76',\n",
       "      'visibility': '10',\n",
       "      'visibilityMiles': '6',\n",
       "      'pressure': '1019',\n",
       "      'pressureInches': '30',\n",
       "      'cloudcover': '18',\n",
       "      'HeatIndexC': '16',\n",
       "      'HeatIndexF': '61',\n",
       "      'DewPointC': '12',\n",
       "      'DewPointF': '54',\n",
       "      'WindChillC': '16',\n",
       "      'WindChillF': '61',\n",
       "      'WindGustMiles': '17',\n",
       "      'WindGustKmph': '27',\n",
       "      'FeelsLikeC': '16',\n",
       "      'FeelsLikeF': '61',\n",
       "      'uvIndex': '1'},\n",
       "     {'time': '1200',\n",
       "      'tempC': '19',\n",
       "      'tempF': '66',\n",
       "      'windspeedMiles': '11',\n",
       "      'windspeedKmph': '18',\n",
       "      'winddirDegree': '147',\n",
       "      'winddir16Point': 'SSE',\n",
       "      'weatherCode': '113',\n",
       "      'weatherIconUrl': [{'value': 'https://cdn.worldweatheronline.com/images/wsymbols01_png_64/wsymbol_0001_sunny.png'}],\n",
       "      'weatherDesc': [{'value': 'Sunny'}],\n",
       "      'precipMM': '0.0',\n",
       "      'precipInches': '0.0',\n",
       "      'humidity': '73',\n",
       "      'visibility': '10',\n",
       "      'visibilityMiles': '6',\n",
       "      'pressure': '1017',\n",
       "      'pressureInches': '30',\n",
       "      'cloudcover': '19',\n",
       "      'HeatIndexC': '19',\n",
       "      'HeatIndexF': '66',\n",
       "      'DewPointC': '14',\n",
       "      'DewPointF': '57',\n",
       "      'WindChillC': '19',\n",
       "      'WindChillF': '66',\n",
       "      'WindGustMiles': '15',\n",
       "      'WindGustKmph': '24',\n",
       "      'FeelsLikeC': '19',\n",
       "      'FeelsLikeF': '66',\n",
       "      'uvIndex': '5'}]}]}}"
      ]
     },
     "execution_count": 12,
     "metadata": {},
     "output_type": "execute_result"
    }
   ],
   "source": [
    "#test function\n",
    "get_weather(\"Chicago, IL\", \"2019-10-10\")"
   ]
  },
  {
   "cell_type": "code",
   "execution_count": 13,
   "metadata": {
    "collapsed": true,
    "jupyter": {
     "outputs_hidden": true
    },
    "tags": []
   },
   "outputs": [
    {
     "data": {
      "text/plain": [
       "[{'time': '0',\n",
       "  'tempC': '25',\n",
       "  'tempF': '78',\n",
       "  'windspeedMiles': '6',\n",
       "  'windspeedKmph': '9',\n",
       "  'winddirDegree': '177',\n",
       "  'winddir16Point': 'S',\n",
       "  'weatherCode': '353',\n",
       "  'weatherIconUrl': [{'value': 'https://cdn.worldweatheronline.com/images/wsymbols01_png_64/wsymbol_0025_light_rain_showers_night.png'}],\n",
       "  'weatherDesc': [{'value': 'Light rain shower'}],\n",
       "  'precipMM': '2.1',\n",
       "  'precipInches': '0.1',\n",
       "  'humidity': '83',\n",
       "  'visibility': '10',\n",
       "  'visibilityMiles': '6',\n",
       "  'pressure': '1020',\n",
       "  'pressureInches': '30',\n",
       "  'cloudcover': '41',\n",
       "  'HeatIndexC': '28',\n",
       "  'HeatIndexF': '82',\n",
       "  'DewPointC': '22',\n",
       "  'DewPointF': '72',\n",
       "  'WindChillC': '25',\n",
       "  'WindChillF': '78',\n",
       "  'WindGustMiles': '8',\n",
       "  'WindGustKmph': '13',\n",
       "  'FeelsLikeC': '28',\n",
       "  'FeelsLikeF': '82',\n",
       "  'uvIndex': '1'},\n",
       " {'time': '1200',\n",
       "  'tempC': '31',\n",
       "  'tempF': '87',\n",
       "  'windspeedMiles': '5',\n",
       "  'windspeedKmph': '8',\n",
       "  'winddirDegree': '290',\n",
       "  'winddir16Point': 'WNW',\n",
       "  'weatherCode': '356',\n",
       "  'weatherIconUrl': [{'value': 'https://cdn.worldweatheronline.com/images/wsymbols01_png_64/wsymbol_0010_heavy_rain_showers.png'}],\n",
       "  'weatherDesc': [{'value': 'Moderate or heavy rain shower'}],\n",
       "  'precipMM': '3.8',\n",
       "  'precipInches': '0.1',\n",
       "  'humidity': '59',\n",
       "  'visibility': '7',\n",
       "  'visibilityMiles': '4',\n",
       "  'pressure': '1019',\n",
       "  'pressureInches': '30',\n",
       "  'cloudcover': '53',\n",
       "  'HeatIndexC': '34',\n",
       "  'HeatIndexF': '93',\n",
       "  'DewPointC': '22',\n",
       "  'DewPointF': '71',\n",
       "  'WindChillC': '31',\n",
       "  'WindChillF': '87',\n",
       "  'WindGustMiles': '6',\n",
       "  'WindGustKmph': '9',\n",
       "  'FeelsLikeC': '34',\n",
       "  'FeelsLikeF': '93',\n",
       "  'uvIndex': '7'}]"
      ]
     },
     "execution_count": 13,
     "metadata": {},
     "output_type": "execute_result"
    }
   ],
   "source": [
    "#test function\n",
    "get_weather(\"San Antonio, TX\", \"2018-07-10\")['data']['weather'][0]['hourly']   #now we have a list with two dictionaries for each time (0h and 12h)"
   ]
  },
  {
   "cell_type": "code",
   "execution_count": 16,
   "metadata": {},
   "outputs": [
    {
     "data": {
      "text/plain": [
       "'Moderate or heavy rain shower'"
      ]
     },
     "execution_count": 16,
     "metadata": {},
     "output_type": "execute_result"
    }
   ],
   "source": [
    "get_weather(\"San Antonio, TX\", \"2018-07-10\")['data']['weather'][0]['hourly'][1]['weatherDesc'][0]['value']"
   ]
  },
  {
   "cell_type": "code",
   "execution_count": 17,
   "metadata": {
    "collapsed": true,
    "jupyter": {
     "outputs_hidden": true
    },
    "tags": []
   },
   "outputs": [
    {
     "data": {
      "text/plain": [
       "{'data': {'request': [{'type': 'City',\n",
       "    'query': 'Dallas, United States of America'}],\n",
       "  'nearest_area': [{'areaName': [{'value': 'Dallas'}],\n",
       "    'country': [{'value': 'United States of America'}],\n",
       "    'region': [{'value': 'Texas'}],\n",
       "    'latitude': '32.783',\n",
       "    'longitude': '-96.800'}],\n",
       "  'weather': [{'date': '2019-07-18',\n",
       "    'astronomy': [{'sunrise': '06:31 AM',\n",
       "      'sunset': '08:35 PM',\n",
       "      'moonrise': '10:05 PM',\n",
       "      'moonset': '08:00 AM',\n",
       "      'moon_phase': 'Full Moon',\n",
       "      'moon_illumination': '93'}],\n",
       "    'maxtempC': '36',\n",
       "    'maxtempF': '96',\n",
       "    'mintempC': '26',\n",
       "    'mintempF': '78',\n",
       "    'avgtempC': '32',\n",
       "    'avgtempF': '89',\n",
       "    'totalSnow_cm': '0.0',\n",
       "    'sunHour': '11.6',\n",
       "    'uvIndex': '8',\n",
       "    'hourly': [{'time': '0',\n",
       "      'tempC': '29',\n",
       "      'tempF': '84',\n",
       "      'windspeedMiles': '14',\n",
       "      'windspeedKmph': '23',\n",
       "      'winddirDegree': '183',\n",
       "      'winddir16Point': 'S',\n",
       "      'weatherCode': '113',\n",
       "      'weatherIconUrl': [{'value': 'https://cdn.worldweatheronline.com/images/wsymbols01_png_64/wsymbol_0008_clear_sky_night.png'}],\n",
       "      'weatherDesc': [{'value': 'Clear'}],\n",
       "      'precipMM': '0.0',\n",
       "      'precipInches': '0.0',\n",
       "      'humidity': '70',\n",
       "      'visibility': '10',\n",
       "      'visibilityMiles': '6',\n",
       "      'pressure': '1015',\n",
       "      'pressureInches': '30',\n",
       "      'cloudcover': '4',\n",
       "      'HeatIndexC': '33',\n",
       "      'HeatIndexF': '91',\n",
       "      'DewPointC': '23',\n",
       "      'DewPointF': '73',\n",
       "      'WindChillC': '29',\n",
       "      'WindChillF': '84',\n",
       "      'WindGustMiles': '19',\n",
       "      'WindGustKmph': '31',\n",
       "      'FeelsLikeC': '33',\n",
       "      'FeelsLikeF': '91',\n",
       "      'uvIndex': '1'},\n",
       "     {'time': '1200',\n",
       "      'tempC': '34',\n",
       "      'tempF': '92',\n",
       "      'windspeedMiles': '13',\n",
       "      'windspeedKmph': '22',\n",
       "      'winddirDegree': '199',\n",
       "      'winddir16Point': 'SSW',\n",
       "      'weatherCode': '113',\n",
       "      'weatherIconUrl': [{'value': 'https://cdn.worldweatheronline.com/images/wsymbols01_png_64/wsymbol_0001_sunny.png'}],\n",
       "      'weatherDesc': [{'value': 'Sunny'}],\n",
       "      'precipMM': '0.0',\n",
       "      'precipInches': '0.0',\n",
       "      'humidity': '49',\n",
       "      'visibility': '10',\n",
       "      'visibilityMiles': '6',\n",
       "      'pressure': '1014',\n",
       "      'pressureInches': '30',\n",
       "      'cloudcover': '0',\n",
       "      'HeatIndexC': '38',\n",
       "      'HeatIndexF': '100',\n",
       "      'DewPointC': '21',\n",
       "      'DewPointF': '71',\n",
       "      'WindChillC': '34',\n",
       "      'WindChillF': '92',\n",
       "      'WindGustMiles': '15',\n",
       "      'WindGustKmph': '25',\n",
       "      'FeelsLikeC': '38',\n",
       "      'FeelsLikeF': '100',\n",
       "      'uvIndex': '8'}]}]}}"
      ]
     },
     "execution_count": 17,
     "metadata": {},
     "output_type": "execute_result"
    }
   ],
   "source": [
    "get_weather(\"Dallas/Fort Worth, TX\", \"2019-07-18\")"
   ]
  },
  {
   "cell_type": "code",
   "execution_count": 30,
   "metadata": {
    "collapsed": true,
    "jupyter": {
     "outputs_hidden": true
    },
    "tags": []
   },
   "outputs": [
    {
     "data": {
      "text/plain": [
       "{'data': {'request': [{'type': 'City',\n",
       "    'query': 'Nashville, United States of America'}],\n",
       "  'nearest_area': [{'areaName': [{'value': 'Nashville'}],\n",
       "    'country': [{'value': 'United States of America'}],\n",
       "    'region': [{'value': 'Tennessee'}],\n",
       "    'latitude': '36.166',\n",
       "    'longitude': '-86.784'}],\n",
       "  'weather': [{'date': '2018-07-10',\n",
       "    'astronomy': [{'sunrise': '05:39 AM',\n",
       "      'sunset': '08:06 PM',\n",
       "      'moonrise': '03:15 AM',\n",
       "      'moonset': '05:39 PM',\n",
       "      'moon_phase': 'Waning Crescent',\n",
       "      'moon_illumination': '19'}],\n",
       "    'maxtempC': '32',\n",
       "    'maxtempF': '90',\n",
       "    'mintempC': '23',\n",
       "    'mintempF': '74',\n",
       "    'avgtempC': '29',\n",
       "    'avgtempF': '85',\n",
       "    'totalSnow_cm': '0.0',\n",
       "    'sunHour': '14.5',\n",
       "    'uvIndex': '7',\n",
       "    'hourly': [{'time': '0',\n",
       "      'tempC': '24',\n",
       "      'tempF': '75',\n",
       "      'windspeedMiles': '2',\n",
       "      'windspeedKmph': '4',\n",
       "      'winddirDegree': '285',\n",
       "      'winddir16Point': 'WNW',\n",
       "      'weatherCode': '113',\n",
       "      'weatherIconUrl': [{'value': 'https://cdn.worldweatheronline.com/images/wsymbols01_png_64/wsymbol_0008_clear_sky_night.png'}],\n",
       "      'weatherDesc': [{'value': 'Clear'}],\n",
       "      'precipMM': '0.0',\n",
       "      'precipInches': '0.0',\n",
       "      'humidity': '86',\n",
       "      'visibility': '10',\n",
       "      'visibilityMiles': '6',\n",
       "      'pressure': '1021',\n",
       "      'pressureInches': '30',\n",
       "      'cloudcover': '11',\n",
       "      'HeatIndexC': '26',\n",
       "      'HeatIndexF': '79',\n",
       "      'DewPointC': '21',\n",
       "      'DewPointF': '70',\n",
       "      'WindChillC': '24',\n",
       "      'WindChillF': '75',\n",
       "      'WindGustMiles': '5',\n",
       "      'WindGustKmph': '8',\n",
       "      'FeelsLikeC': '26',\n",
       "      'FeelsLikeF': '79',\n",
       "      'uvIndex': '1'},\n",
       "     {'time': '1200',\n",
       "      'tempC': '32',\n",
       "      'tempF': '90',\n",
       "      'windspeedMiles': '2',\n",
       "      'windspeedKmph': '4',\n",
       "      'winddirDegree': '308',\n",
       "      'winddir16Point': 'NW',\n",
       "      'weatherCode': '356',\n",
       "      'weatherIconUrl': [{'value': 'https://cdn.worldweatheronline.com/images/wsymbols01_png_64/wsymbol_0010_heavy_rain_showers.png'}],\n",
       "      'weatherDesc': [{'value': 'Moderate or heavy rain shower'}],\n",
       "      'precipMM': '2.7',\n",
       "      'precipInches': '0.1',\n",
       "      'humidity': '60',\n",
       "      'visibility': '7',\n",
       "      'visibilityMiles': '4',\n",
       "      'pressure': '1018',\n",
       "      'pressureInches': '30',\n",
       "      'cloudcover': '38',\n",
       "      'HeatIndexC': '37',\n",
       "      'HeatIndexF': '99',\n",
       "      'DewPointC': '23',\n",
       "      'DewPointF': '74',\n",
       "      'WindChillC': '32',\n",
       "      'WindChillF': '90',\n",
       "      'WindGustMiles': '3',\n",
       "      'WindGustKmph': '4',\n",
       "      'FeelsLikeC': '37',\n",
       "      'FeelsLikeF': '99',\n",
       "      'uvIndex': '7'}]}]}}"
      ]
     },
     "execution_count": 30,
     "metadata": {},
     "output_type": "execute_result"
    }
   ],
   "source": [
    "get_weather(weather_df['dest_city_name'][0], weather_df['fl_date'][0])"
   ]
  },
  {
   "cell_type": "code",
   "execution_count": 18,
   "metadata": {},
   "outputs": [],
   "source": [
    "weather_code = pd.read_csv('https://www.worldweatheronline.com/feed/wwoConditionCodes.txt', delimiter='\\t', index_col=0)\n",
    "weather_code.drop(['DayIcon', 'NightIcon'], axis = 1, inplace = True)\n",
    "weather_code.reset_index(inplace = True)"
   ]
  },
  {
   "cell_type": "code",
   "execution_count": 19,
   "metadata": {},
   "outputs": [
    {
     "data": {
      "text/html": [
       "<div>\n",
       "<style scoped>\n",
       "    .dataframe tbody tr th:only-of-type {\n",
       "        vertical-align: middle;\n",
       "    }\n",
       "\n",
       "    .dataframe tbody tr th {\n",
       "        vertical-align: top;\n",
       "    }\n",
       "\n",
       "    .dataframe thead th {\n",
       "        text-align: right;\n",
       "    }\n",
       "</style>\n",
       "<table border=\"1\" class=\"dataframe\">\n",
       "  <thead>\n",
       "    <tr style=\"text-align: right;\">\n",
       "      <th></th>\n",
       "      <th>WeatherCode</th>\n",
       "      <th>Condition</th>\n",
       "    </tr>\n",
       "  </thead>\n",
       "  <tbody>\n",
       "    <tr>\n",
       "      <th>0</th>\n",
       "      <td>395</td>\n",
       "      <td>Moderate or heavy snow in area with thunder</td>\n",
       "    </tr>\n",
       "    <tr>\n",
       "      <th>1</th>\n",
       "      <td>392</td>\n",
       "      <td>Patchy light snow in area with thunder</td>\n",
       "    </tr>\n",
       "    <tr>\n",
       "      <th>2</th>\n",
       "      <td>389</td>\n",
       "      <td>Moderate or heavy rain in area with thunder</td>\n",
       "    </tr>\n",
       "    <tr>\n",
       "      <th>3</th>\n",
       "      <td>386</td>\n",
       "      <td>Patchy light rain in area with thunder</td>\n",
       "    </tr>\n",
       "    <tr>\n",
       "      <th>4</th>\n",
       "      <td>377</td>\n",
       "      <td>Moderate or heavy showers of ice pellets</td>\n",
       "    </tr>\n",
       "  </tbody>\n",
       "</table>\n",
       "</div>"
      ],
      "text/plain": [
       "   WeatherCode                                    Condition\n",
       "0          395  Moderate or heavy snow in area with thunder\n",
       "1          392       Patchy light snow in area with thunder\n",
       "2          389  Moderate or heavy rain in area with thunder\n",
       "3          386       Patchy light rain in area with thunder\n",
       "4          377     Moderate or heavy showers of ice pellets"
      ]
     },
     "execution_count": 19,
     "metadata": {},
     "output_type": "execute_result"
    }
   ],
   "source": [
    "weather_code.head()"
   ]
  },
  {
   "cell_type": "code",
   "execution_count": 47,
   "metadata": {},
   "outputs": [],
   "source": [
    "#assign each condition to a broader category\n",
    "\n",
    "condition_dict = {'cloudy': [119, 122],                                    # cloudy, overcast\n",
    "                  'sunny': [113, 116],                                     # clear/sunny, partly cloudy\n",
    "                  'snow_minor' : [179, 182, 227, 323, 326],                # Patchy snow nearby, Patchy sleet nearby, Blowing snow, Patchy light snow, Light snow\n",
    "                  'snow': [317, 329, 332, 335, 368, 374, 392],             # Light sleet, Patchy moderate snow, Moderate snow, Patchy heavy snow, Light snow showers, Light showers of ice pellets, Patchy light snow in area with thunder\n",
    "                  'rain_minor': [143, 176, 185, 263, 266, 293, 296, 362],              # mist, Patchy rain nearby, Patchy freezing drizzle nearby, Patchy light drizzle, Light drizzle, Patchy light rain, Light rain, Light sleet showers\n",
    "                  'rain': [299, 302, 305, 311, 353, 356, 386, 389, 281],                 # Moderate rain at times, Moderate rain, Heavy rain at times, Light freezing rain, Light rain shower, Moderate or heavy rain shower, Patchy light rain in area with thunder, Moderate or heavy rain in area with thunder, Freezing drizzle\n",
    "                  'harzard': [200, 230, 248, 260, 284, 308, 314, 320, 338, 350, 359, 365, 371, 377, 395]        # Thundery outbreaks in nearby, Blizzard, Fog, Freezing fog, Heavy freezing drizzle, Heavy rain, Moderate or Heavy freezing rain\n",
    "                 }                                                                                              # Moderate or heavy sleet, Heavy snow, Ice pellets, Torrential rain shower, Moderate or heavy sleet, Moderate or heavy snow showers, Moderate or heavy showers of ice pellets, Moderate or heavy snow in area with thunder"
   ]
  },
  {
   "cell_type": "code",
   "execution_count": 44,
   "metadata": {},
   "outputs": [],
   "source": [
    "def weather_cols(df, cond_dict, tp = 12):\n",
    "    \"\"\"\n",
    "    Params: \n",
    "    df = weather_df\n",
    "    tp = hour intervals, 12 hrs means 2 sets of weather results, must match the tp from get_weather func\n",
    "    \"\"\"\n",
    "    for index in df.index:\n",
    "        arrival_json = get_weather(df['origin_city_name'][index], df['fl_date'][index])\n",
    "        dept_json = get_weather(df['dest_city_name'][index], df['fl_date'][index])\n",
    "        #check the frequency of repeat city/date combos\n",
    "        \n",
    "        df[f'weatherCode_arrival'][index] = int(arrival_json['data']['weather'][0]['hourly'][1]['weatherCode'])\n",
    "        df[f'weatherCode_dept'][index] = int(dept_json['data']['weather'][0]['hourly'][1]['weatherCode'])\n",
    "    \n",
    "    # if code in condition dict return the key:\n",
    "    \n",
    "    #first_key = [k for k, v in d.items() if v == 'aaa'][0]"
   ]
  },
  {
   "cell_type": "code",
   "execution_count": 45,
   "metadata": {
    "collapsed": true,
    "jupyter": {
     "outputs_hidden": true
    },
    "tags": []
   },
   "outputs": [
    {
     "name": "stderr",
     "output_type": "stream",
     "text": [
      "C:\\Users\\3_hal\\AppData\\Local\\Temp\\ipykernel_3116\\1104574061.py:12: SettingWithCopyWarning: \n",
      "A value is trying to be set on a copy of a slice from a DataFrame\n",
      "\n",
      "See the caveats in the documentation: https://pandas.pydata.org/pandas-docs/stable/user_guide/indexing.html#returning-a-view-versus-a-copy\n",
      "  df[f'weatherCode_arrival'][index] = int(arrival_json['data']['weather'][0]['hourly'][1]['weatherCode'])\n",
      "C:\\Users\\3_hal\\AppData\\Local\\Temp\\ipykernel_3116\\1104574061.py:13: SettingWithCopyWarning: \n",
      "A value is trying to be set on a copy of a slice from a DataFrame\n",
      "\n",
      "See the caveats in the documentation: https://pandas.pydata.org/pandas-docs/stable/user_guide/indexing.html#returning-a-view-versus-a-copy\n",
      "  df[f'weatherCode_dept'][index] = int(dept_json['data']['weather'][0]['hourly'][1]['weatherCode'])\n"
     ]
    }
   ],
   "source": [
    "weather_cols(weather_df, condition_dict)"
   ]
  },
  {
   "cell_type": "code",
   "execution_count": 46,
   "metadata": {},
   "outputs": [
    {
     "data": {
      "text/html": [
       "<div>\n",
       "<style scoped>\n",
       "    .dataframe tbody tr th:only-of-type {\n",
       "        vertical-align: middle;\n",
       "    }\n",
       "\n",
       "    .dataframe tbody tr th {\n",
       "        vertical-align: top;\n",
       "    }\n",
       "\n",
       "    .dataframe thead th {\n",
       "        text-align: right;\n",
       "    }\n",
       "</style>\n",
       "<table border=\"1\" class=\"dataframe\">\n",
       "  <thead>\n",
       "    <tr style=\"text-align: right;\">\n",
       "      <th></th>\n",
       "      <th>fl_date</th>\n",
       "      <th>origin_city_name</th>\n",
       "      <th>crs_dep_time</th>\n",
       "      <th>dest_city_name</th>\n",
       "      <th>crs_arr_time</th>\n",
       "      <th>weatherCode_arrival</th>\n",
       "      <th>weatherCode_dept</th>\n",
       "    </tr>\n",
       "  </thead>\n",
       "  <tbody>\n",
       "    <tr>\n",
       "      <th>0</th>\n",
       "      <td>2018-07-10</td>\n",
       "      <td>San Antonio, TX</td>\n",
       "      <td>705</td>\n",
       "      <td>Nashville, TN</td>\n",
       "      <td>915</td>\n",
       "      <td>356</td>\n",
       "      <td>356</td>\n",
       "    </tr>\n",
       "    <tr>\n",
       "      <th>1</th>\n",
       "      <td>2019-10-10</td>\n",
       "      <td>Chicago, IL</td>\n",
       "      <td>800</td>\n",
       "      <td>Orlando, FL</td>\n",
       "      <td>1148</td>\n",
       "      <td>113</td>\n",
       "      <td>176</td>\n",
       "    </tr>\n",
       "    <tr>\n",
       "      <th>2</th>\n",
       "      <td>2019-07-18</td>\n",
       "      <td>Lawton/Fort Sill, OK</td>\n",
       "      <td>1034</td>\n",
       "      <td>Dallas/Fort Worth, TX</td>\n",
       "      <td>1130</td>\n",
       "      <td>113</td>\n",
       "      <td>113</td>\n",
       "    </tr>\n",
       "    <tr>\n",
       "      <th>3</th>\n",
       "      <td>2018-11-25</td>\n",
       "      <td>Savannah, GA</td>\n",
       "      <td>2200</td>\n",
       "      <td>Chicago, IL</td>\n",
       "      <td>2327</td>\n",
       "      <td>113</td>\n",
       "      <td>302</td>\n",
       "    </tr>\n",
       "    <tr>\n",
       "      <th>4</th>\n",
       "      <td>2018-10-24</td>\n",
       "      <td>Detroit, MI</td>\n",
       "      <td>841</td>\n",
       "      <td>Santa Ana, CA</td>\n",
       "      <td>1039</td>\n",
       "      <td>113</td>\n",
       "      <td>116</td>\n",
       "    </tr>\n",
       "  </tbody>\n",
       "</table>\n",
       "</div>"
      ],
      "text/plain": [
       "      fl_date      origin_city_name  crs_dep_time         dest_city_name  \\\n",
       "0  2018-07-10       San Antonio, TX           705          Nashville, TN   \n",
       "1  2019-10-10           Chicago, IL           800            Orlando, FL   \n",
       "2  2019-07-18  Lawton/Fort Sill, OK          1034  Dallas/Fort Worth, TX   \n",
       "3  2018-11-25          Savannah, GA          2200            Chicago, IL   \n",
       "4  2018-10-24           Detroit, MI           841          Santa Ana, CA   \n",
       "\n",
       "   crs_arr_time  weatherCode_arrival  weatherCode_dept  \n",
       "0           915                  356               356  \n",
       "1          1148                  113               176  \n",
       "2          1130                  113               113  \n",
       "3          2327                  113               302  \n",
       "4          1039                  113               116  "
      ]
     },
     "execution_count": 46,
     "metadata": {},
     "output_type": "execute_result"
    }
   ],
   "source": [
    "weather_df.head()"
   ]
  },
  {
   "cell_type": "code",
   "execution_count": null,
   "metadata": {},
   "outputs": [],
   "source": [
    "#redo function that will replace the weather code with the condition\n",
    "def weather_cols(df, cond_dict, tp = 12):\n",
    "    \"\"\"\n",
    "    Params: \n",
    "    df = weather_df\n",
    "    tp = hour intervals, 12 hrs means 2 sets of weather results, must match the tp from get_weather func\n",
    "    \"\"\"\n",
    "    for index in df.index:\n",
    "        arrival_json = get_weather(df['origin_city_name'][index], df['fl_date'][index])\n",
    "        dept_json = get_weather(df['dest_city_name'][index], df['fl_date'][index])\n",
    "        #check the frequency of repeat city/date combos\n",
    "        \n",
    "        arrival_code = int(arrival_json['data']['weather'][0]['hourly'][1]['weatherCode'])\n",
    "        dept_code = int(dept_json['data']['weather'][0]['hourly'][1]['weatherCode'])\n",
    "        \n",
    "        df[f'weather_arrival'][index] = \n",
    "        df[f'weather_dept'][index] = \n",
    "    \n",
    "    # if code in condition dict return the key:\n",
    "    #first_key = [k for k, v in d.items() if v == 'aaa'][0]"
   ]
  },
  {
   "cell_type": "code",
   "execution_count": null,
   "metadata": {},
   "outputs": [],
   "source": [
    "test loop :\n",
    "first_key = [k for k, v in d.items() if v == 'aaa'][0]"
   ]
  },
  {
   "cell_type": "markdown",
   "metadata": {
    "jp-MarkdownHeadingCollapsed": true,
    "tags": []
   },
   "source": [
    "#### **Task 5**: What is the average percentage of delays that is already created before departure? (aka are arrival delays caused by departure delays?) Are airlines able to lower the delay during the flights?"
   ]
  },
  {
   "cell_type": "code",
   "execution_count": 101,
   "metadata": {},
   "outputs": [],
   "source": [
    "delays = flights[['cancelled','diverted','air_time','actual_elapsed_time', 'distance',\n",
    "       'carrier_delay', 'weather_delay', 'nas_delay', 'security_delay',\n",
    "       'late_aircraft_delay', 'arr_delay']]"
   ]
  },
  {
   "cell_type": "code",
   "execution_count": 102,
   "metadata": {},
   "outputs": [
    {
     "data": {
      "text/html": [
       "<div>\n",
       "<style scoped>\n",
       "    .dataframe tbody tr th:only-of-type {\n",
       "        vertical-align: middle;\n",
       "    }\n",
       "\n",
       "    .dataframe tbody tr th {\n",
       "        vertical-align: top;\n",
       "    }\n",
       "\n",
       "    .dataframe thead th {\n",
       "        text-align: right;\n",
       "    }\n",
       "</style>\n",
       "<table border=\"1\" class=\"dataframe\">\n",
       "  <thead>\n",
       "    <tr style=\"text-align: right;\">\n",
       "      <th></th>\n",
       "      <th>cancelled</th>\n",
       "      <th>diverted</th>\n",
       "      <th>air_time</th>\n",
       "      <th>actual_elapsed_time</th>\n",
       "      <th>distance</th>\n",
       "      <th>carrier_delay</th>\n",
       "      <th>weather_delay</th>\n",
       "      <th>nas_delay</th>\n",
       "      <th>security_delay</th>\n",
       "      <th>late_aircraft_delay</th>\n",
       "      <th>arr_delay</th>\n",
       "    </tr>\n",
       "  </thead>\n",
       "  <tbody>\n",
       "    <tr>\n",
       "      <th>0</th>\n",
       "      <td>0.0</td>\n",
       "      <td>0.0</td>\n",
       "      <td>112.0</td>\n",
       "      <td>131.0</td>\n",
       "      <td>822.0</td>\n",
       "      <td>NaN</td>\n",
       "      <td>NaN</td>\n",
       "      <td>NaN</td>\n",
       "      <td>NaN</td>\n",
       "      <td>NaN</td>\n",
       "      <td>-2.0</td>\n",
       "    </tr>\n",
       "    <tr>\n",
       "      <th>1</th>\n",
       "      <td>0.0</td>\n",
       "      <td>0.0</td>\n",
       "      <td>134.0</td>\n",
       "      <td>162.0</td>\n",
       "      <td>1005.0</td>\n",
       "      <td>NaN</td>\n",
       "      <td>NaN</td>\n",
       "      <td>NaN</td>\n",
       "      <td>NaN</td>\n",
       "      <td>NaN</td>\n",
       "      <td>-9.0</td>\n",
       "    </tr>\n",
       "    <tr>\n",
       "      <th>2</th>\n",
       "      <td>0.0</td>\n",
       "      <td>0.0</td>\n",
       "      <td>28.0</td>\n",
       "      <td>58.0</td>\n",
       "      <td>140.0</td>\n",
       "      <td>NaN</td>\n",
       "      <td>NaN</td>\n",
       "      <td>NaN</td>\n",
       "      <td>NaN</td>\n",
       "      <td>NaN</td>\n",
       "      <td>8.0</td>\n",
       "    </tr>\n",
       "    <tr>\n",
       "      <th>3</th>\n",
       "      <td>1.0</td>\n",
       "      <td>0.0</td>\n",
       "      <td>NaN</td>\n",
       "      <td>NaN</td>\n",
       "      <td>773.0</td>\n",
       "      <td>NaN</td>\n",
       "      <td>NaN</td>\n",
       "      <td>NaN</td>\n",
       "      <td>NaN</td>\n",
       "      <td>NaN</td>\n",
       "      <td>NaN</td>\n",
       "    </tr>\n",
       "    <tr>\n",
       "      <th>4</th>\n",
       "      <td>0.0</td>\n",
       "      <td>0.0</td>\n",
       "      <td>271.0</td>\n",
       "      <td>327.0</td>\n",
       "      <td>1960.0</td>\n",
       "      <td>0.0</td>\n",
       "      <td>0.0</td>\n",
       "      <td>28.0</td>\n",
       "      <td>0.0</td>\n",
       "      <td>0.0</td>\n",
       "      <td>28.0</td>\n",
       "    </tr>\n",
       "  </tbody>\n",
       "</table>\n",
       "</div>"
      ],
      "text/plain": [
       "   cancelled  diverted  air_time  actual_elapsed_time  distance  \\\n",
       "0        0.0       0.0     112.0                131.0     822.0   \n",
       "1        0.0       0.0     134.0                162.0    1005.0   \n",
       "2        0.0       0.0      28.0                 58.0     140.0   \n",
       "3        1.0       0.0       NaN                  NaN     773.0   \n",
       "4        0.0       0.0     271.0                327.0    1960.0   \n",
       "\n",
       "   carrier_delay  weather_delay  nas_delay  security_delay  \\\n",
       "0            NaN            NaN        NaN             NaN   \n",
       "1            NaN            NaN        NaN             NaN   \n",
       "2            NaN            NaN        NaN             NaN   \n",
       "3            NaN            NaN        NaN             NaN   \n",
       "4            0.0            0.0       28.0             0.0   \n",
       "\n",
       "   late_aircraft_delay  arr_delay  \n",
       "0                  NaN       -2.0  \n",
       "1                  NaN       -9.0  \n",
       "2                  NaN        8.0  \n",
       "3                  NaN        NaN  \n",
       "4                  0.0       28.0  "
      ]
     },
     "execution_count": 102,
     "metadata": {},
     "output_type": "execute_result"
    }
   ],
   "source": [
    "delays.head()"
   ]
  },
  {
   "cell_type": "code",
   "execution_count": 103,
   "metadata": {
    "collapsed": true,
    "jupyter": {
     "outputs_hidden": true
    },
    "tags": []
   },
   "outputs": [
    {
     "name": "stderr",
     "output_type": "stream",
     "text": [
      "C:\\Users\\3_hal\\AppData\\Local\\Temp\\ipykernel_15016\\2675166426.py:1: SettingWithCopyWarning: \n",
      "A value is trying to be set on a copy of a slice from a DataFrame\n",
      "\n",
      "See the caveats in the documentation: https://pandas.pydata.org/pandas-docs/stable/user_guide/indexing.html#returning-a-view-versus-a-copy\n",
      "  delays.fillna(0, inplace = True)\n"
     ]
    }
   ],
   "source": [
    "delays.fillna(0, inplace = True)"
   ]
  },
  {
   "cell_type": "code",
   "execution_count": 104,
   "metadata": {},
   "outputs": [
    {
     "data": {
      "text/html": [
       "<div>\n",
       "<style scoped>\n",
       "    .dataframe tbody tr th:only-of-type {\n",
       "        vertical-align: middle;\n",
       "    }\n",
       "\n",
       "    .dataframe tbody tr th {\n",
       "        vertical-align: top;\n",
       "    }\n",
       "\n",
       "    .dataframe thead th {\n",
       "        text-align: right;\n",
       "    }\n",
       "</style>\n",
       "<table border=\"1\" class=\"dataframe\">\n",
       "  <thead>\n",
       "    <tr style=\"text-align: right;\">\n",
       "      <th></th>\n",
       "      <th>cancelled</th>\n",
       "      <th>diverted</th>\n",
       "      <th>air_time</th>\n",
       "      <th>actual_elapsed_time</th>\n",
       "      <th>distance</th>\n",
       "      <th>carrier_delay</th>\n",
       "      <th>weather_delay</th>\n",
       "      <th>nas_delay</th>\n",
       "      <th>security_delay</th>\n",
       "      <th>late_aircraft_delay</th>\n",
       "      <th>arr_delay</th>\n",
       "    </tr>\n",
       "  </thead>\n",
       "  <tbody>\n",
       "    <tr>\n",
       "      <th>0</th>\n",
       "      <td>0.0</td>\n",
       "      <td>0.0</td>\n",
       "      <td>112.0</td>\n",
       "      <td>131.0</td>\n",
       "      <td>822.0</td>\n",
       "      <td>0.0</td>\n",
       "      <td>0.0</td>\n",
       "      <td>0.0</td>\n",
       "      <td>0.0</td>\n",
       "      <td>0.0</td>\n",
       "      <td>-2.0</td>\n",
       "    </tr>\n",
       "    <tr>\n",
       "      <th>1</th>\n",
       "      <td>0.0</td>\n",
       "      <td>0.0</td>\n",
       "      <td>134.0</td>\n",
       "      <td>162.0</td>\n",
       "      <td>1005.0</td>\n",
       "      <td>0.0</td>\n",
       "      <td>0.0</td>\n",
       "      <td>0.0</td>\n",
       "      <td>0.0</td>\n",
       "      <td>0.0</td>\n",
       "      <td>-9.0</td>\n",
       "    </tr>\n",
       "    <tr>\n",
       "      <th>2</th>\n",
       "      <td>0.0</td>\n",
       "      <td>0.0</td>\n",
       "      <td>28.0</td>\n",
       "      <td>58.0</td>\n",
       "      <td>140.0</td>\n",
       "      <td>0.0</td>\n",
       "      <td>0.0</td>\n",
       "      <td>0.0</td>\n",
       "      <td>0.0</td>\n",
       "      <td>0.0</td>\n",
       "      <td>8.0</td>\n",
       "    </tr>\n",
       "    <tr>\n",
       "      <th>3</th>\n",
       "      <td>1.0</td>\n",
       "      <td>0.0</td>\n",
       "      <td>0.0</td>\n",
       "      <td>0.0</td>\n",
       "      <td>773.0</td>\n",
       "      <td>0.0</td>\n",
       "      <td>0.0</td>\n",
       "      <td>0.0</td>\n",
       "      <td>0.0</td>\n",
       "      <td>0.0</td>\n",
       "      <td>0.0</td>\n",
       "    </tr>\n",
       "    <tr>\n",
       "      <th>4</th>\n",
       "      <td>0.0</td>\n",
       "      <td>0.0</td>\n",
       "      <td>271.0</td>\n",
       "      <td>327.0</td>\n",
       "      <td>1960.0</td>\n",
       "      <td>0.0</td>\n",
       "      <td>0.0</td>\n",
       "      <td>28.0</td>\n",
       "      <td>0.0</td>\n",
       "      <td>0.0</td>\n",
       "      <td>28.0</td>\n",
       "    </tr>\n",
       "  </tbody>\n",
       "</table>\n",
       "</div>"
      ],
      "text/plain": [
       "   cancelled  diverted  air_time  actual_elapsed_time  distance  \\\n",
       "0        0.0       0.0     112.0                131.0     822.0   \n",
       "1        0.0       0.0     134.0                162.0    1005.0   \n",
       "2        0.0       0.0      28.0                 58.0     140.0   \n",
       "3        1.0       0.0       0.0                  0.0     773.0   \n",
       "4        0.0       0.0     271.0                327.0    1960.0   \n",
       "\n",
       "   carrier_delay  weather_delay  nas_delay  security_delay  \\\n",
       "0            0.0            0.0        0.0             0.0   \n",
       "1            0.0            0.0        0.0             0.0   \n",
       "2            0.0            0.0        0.0             0.0   \n",
       "3            0.0            0.0        0.0             0.0   \n",
       "4            0.0            0.0       28.0             0.0   \n",
       "\n",
       "   late_aircraft_delay  arr_delay  \n",
       "0                  0.0       -2.0  \n",
       "1                  0.0       -9.0  \n",
       "2                  0.0        8.0  \n",
       "3                  0.0        0.0  \n",
       "4                  0.0       28.0  "
      ]
     },
     "execution_count": 104,
     "metadata": {},
     "output_type": "execute_result"
    }
   ],
   "source": [
    "delays.head()"
   ]
  },
  {
   "cell_type": "markdown",
   "metadata": {},
   "source": [
    "Carrier Delay: For example, problems with maintenance and crew, cleaning within the cabin, fueling, and baggage loading could all be contributing factors of a delayed flight."
   ]
  },
  {
   "cell_type": "code",
   "execution_count": 105,
   "metadata": {
    "collapsed": true,
    "jupyter": {
     "outputs_hidden": true
    },
    "tags": []
   },
   "outputs": [
    {
     "name": "stderr",
     "output_type": "stream",
     "text": [
      "C:\\Users\\3_hal\\AppData\\Local\\Temp\\ipykernel_15016\\2531754160.py:2: SettingWithCopyWarning: \n",
      "A value is trying to be set on a copy of a slice from a DataFrame.\n",
      "Try using .loc[row_indexer,col_indexer] = value instead\n",
      "\n",
      "See the caveats in the documentation: https://pandas.pydata.org/pandas-docs/stable/user_guide/indexing.html#returning-a-view-versus-a-copy\n",
      "  delays['departure_delay'] = delays[['carrier_delay','nas_delay','security_delay','late_aircraft_delay']].sum(axis=1)\n"
     ]
    }
   ],
   "source": [
    "# not including weather delays\n",
    "delays['departure_delay'] = delays[['carrier_delay','nas_delay','security_delay','late_aircraft_delay']].sum(axis=1)"
   ]
  },
  {
   "cell_type": "code",
   "execution_count": 120,
   "metadata": {
    "tags": []
   },
   "outputs": [
    {
     "name": "stderr",
     "output_type": "stream",
     "text": [
      "C:\\Users\\3_hal\\AppData\\Local\\Temp\\ipykernel_15016\\4282341079.py:1: SettingWithCopyWarning: \n",
      "A value is trying to be set on a copy of a slice from a DataFrame.\n",
      "Try using .loc[row_indexer,col_indexer] = value instead\n",
      "\n",
      "See the caveats in the documentation: https://pandas.pydata.org/pandas-docs/stable/user_guide/indexing.html#returning-a-view-versus-a-copy\n",
      "  delays['% dept delay'] = round(delays['departure_delay']/delays['arr_delay']*100)\n"
     ]
    }
   ],
   "source": [
    "delays['% dept delay'] = round(delays['departure_delay']/delays['arr_delay']*100)"
   ]
  },
  {
   "cell_type": "code",
   "execution_count": 121,
   "metadata": {
    "tags": []
   },
   "outputs": [
    {
     "name": "stderr",
     "output_type": "stream",
     "text": [
      "C:\\Users\\3_hal\\AppData\\Local\\Temp\\ipykernel_15016\\2675166426.py:1: SettingWithCopyWarning: \n",
      "A value is trying to be set on a copy of a slice from a DataFrame\n",
      "\n",
      "See the caveats in the documentation: https://pandas.pydata.org/pandas-docs/stable/user_guide/indexing.html#returning-a-view-versus-a-copy\n",
      "  delays.fillna(0, inplace = True)\n"
     ]
    }
   ],
   "source": [
    "delays.fillna(0, inplace = True)"
   ]
  },
  {
   "cell_type": "code",
   "execution_count": 122,
   "metadata": {},
   "outputs": [
    {
     "name": "stderr",
     "output_type": "stream",
     "text": [
      "C:\\Users\\3_hal\\AppData\\Local\\Temp\\ipykernel_15016\\3427142467.py:1: SettingWithCopyWarning: \n",
      "A value is trying to be set on a copy of a slice from a DataFrame.\n",
      "Try using .loc[row_indexer,col_indexer] = value instead\n",
      "\n",
      "See the caveats in the documentation: https://pandas.pydata.org/pandas-docs/stable/user_guide/indexing.html#returning-a-view-versus-a-copy\n",
      "  delays['air_time_delta'] = delays['air_time']-delays['actual_elapsed_time']      #will show if they were slower or faster than expected\n"
     ]
    }
   ],
   "source": [
    "delays['air_time_delta'] = delays['air_time']-delays['actual_elapsed_time']      #will show if they were slower or faster than expected"
   ]
  },
  {
   "cell_type": "code",
   "execution_count": 123,
   "metadata": {},
   "outputs": [],
   "source": [
    "delay_result = delays[['arr_delay','departure_delay','% dept delay', 'air_time_delta']].sort_values('% dept delay', ascending = False)"
   ]
  },
  {
   "cell_type": "code",
   "execution_count": 124,
   "metadata": {},
   "outputs": [
    {
     "data": {
      "text/html": [
       "<div>\n",
       "<style scoped>\n",
       "    .dataframe tbody tr th:only-of-type {\n",
       "        vertical-align: middle;\n",
       "    }\n",
       "\n",
       "    .dataframe tbody tr th {\n",
       "        vertical-align: top;\n",
       "    }\n",
       "\n",
       "    .dataframe thead th {\n",
       "        text-align: right;\n",
       "    }\n",
       "</style>\n",
       "<table border=\"1\" class=\"dataframe\">\n",
       "  <thead>\n",
       "    <tr style=\"text-align: right;\">\n",
       "      <th></th>\n",
       "      <th>arr_delay</th>\n",
       "      <th>departure_delay</th>\n",
       "      <th>% dept delay</th>\n",
       "      <th>air_time_delta</th>\n",
       "    </tr>\n",
       "  </thead>\n",
       "  <tbody>\n",
       "    <tr>\n",
       "      <th>2752</th>\n",
       "      <td>79.0</td>\n",
       "      <td>79.0</td>\n",
       "      <td>100.0</td>\n",
       "      <td>-19.0</td>\n",
       "    </tr>\n",
       "    <tr>\n",
       "      <th>8446</th>\n",
       "      <td>18.0</td>\n",
       "      <td>18.0</td>\n",
       "      <td>100.0</td>\n",
       "      <td>-22.0</td>\n",
       "    </tr>\n",
       "    <tr>\n",
       "      <th>6557</th>\n",
       "      <td>223.0</td>\n",
       "      <td>223.0</td>\n",
       "      <td>100.0</td>\n",
       "      <td>-18.0</td>\n",
       "    </tr>\n",
       "    <tr>\n",
       "      <th>1896</th>\n",
       "      <td>35.0</td>\n",
       "      <td>35.0</td>\n",
       "      <td>100.0</td>\n",
       "      <td>-27.0</td>\n",
       "    </tr>\n",
       "    <tr>\n",
       "      <th>4240</th>\n",
       "      <td>17.0</td>\n",
       "      <td>17.0</td>\n",
       "      <td>100.0</td>\n",
       "      <td>-50.0</td>\n",
       "    </tr>\n",
       "  </tbody>\n",
       "</table>\n",
       "</div>"
      ],
      "text/plain": [
       "      arr_delay  departure_delay  % dept delay  air_time_delta\n",
       "2752       79.0             79.0         100.0           -19.0\n",
       "8446       18.0             18.0         100.0           -22.0\n",
       "6557      223.0            223.0         100.0           -18.0\n",
       "1896       35.0             35.0         100.0           -27.0\n",
       "4240       17.0             17.0         100.0           -50.0"
      ]
     },
     "execution_count": 124,
     "metadata": {},
     "output_type": "execute_result"
    }
   ],
   "source": [
    "delay_result.head()"
   ]
  },
  {
   "cell_type": "code",
   "execution_count": 125,
   "metadata": {},
   "outputs": [
    {
     "data": {
      "text/plain": [
       "<AxesSubplot:xlabel='arr_delay', ylabel='% dept delay'>"
      ]
     },
     "execution_count": 125,
     "metadata": {},
     "output_type": "execute_result"
    },
    {
     "data": {
      "image/png": "[encoded data removed]",
      "text/plain": [
       "<Figure size 1008x648 with 1 Axes>"
      ]
     },
     "metadata": {},
     "output_type": "display_data"
    }
   ],
   "source": [
    "sns.scatterplot(data=delay_result, x=\"arr_delay\", y=\"% dept delay\", hue = 'air_time_delta')"
   ]
  },
  {
   "cell_type": "code",
   "execution_count": 116,
   "metadata": {},
   "outputs": [],
   "source": [
    "#pink means they were way slower than expected, looks like they never made up time in the air.\n",
    "#the only delay not incl in dept delay is weather delay"
   ]
  },
  {
   "cell_type": "code",
   "execution_count": 126,
   "metadata": {},
   "outputs": [
    {
     "data": {
      "text/html": [
       "<div>\n",
       "<style scoped>\n",
       "    .dataframe tbody tr th:only-of-type {\n",
       "        vertical-align: middle;\n",
       "    }\n",
       "\n",
       "    .dataframe tbody tr th {\n",
       "        vertical-align: top;\n",
       "    }\n",
       "\n",
       "    .dataframe thead th {\n",
       "        text-align: right;\n",
       "    }\n",
       "</style>\n",
       "<table border=\"1\" class=\"dataframe\">\n",
       "  <thead>\n",
       "    <tr style=\"text-align: right;\">\n",
       "      <th></th>\n",
       "      <th>arr_delay</th>\n",
       "      <th>departure_delay</th>\n",
       "      <th>% dept delay</th>\n",
       "      <th>air_time_delta</th>\n",
       "    </tr>\n",
       "  </thead>\n",
       "  <tbody>\n",
       "    <tr>\n",
       "      <th>count</th>\n",
       "      <td>10000.000000</td>\n",
       "      <td>10000.000000</td>\n",
       "      <td>10000.000000</td>\n",
       "      <td>10000.000000</td>\n",
       "    </tr>\n",
       "    <tr>\n",
       "      <th>mean</th>\n",
       "      <td>5.466500</td>\n",
       "      <td>12.105500</td>\n",
       "      <td>17.958900</td>\n",
       "      <td>-24.731800</td>\n",
       "    </tr>\n",
       "    <tr>\n",
       "      <th>std</th>\n",
       "      <td>49.373696</td>\n",
       "      <td>42.895086</td>\n",
       "      <td>38.226694</td>\n",
       "      <td>12.265493</td>\n",
       "    </tr>\n",
       "    <tr>\n",
       "      <th>min</th>\n",
       "      <td>-70.000000</td>\n",
       "      <td>0.000000</td>\n",
       "      <td>0.000000</td>\n",
       "      <td>-198.000000</td>\n",
       "    </tr>\n",
       "    <tr>\n",
       "      <th>25%</th>\n",
       "      <td>-15.000000</td>\n",
       "      <td>0.000000</td>\n",
       "      <td>-0.000000</td>\n",
       "      <td>-29.000000</td>\n",
       "    </tr>\n",
       "    <tr>\n",
       "      <th>50%</th>\n",
       "      <td>-6.000000</td>\n",
       "      <td>0.000000</td>\n",
       "      <td>0.000000</td>\n",
       "      <td>-22.000000</td>\n",
       "    </tr>\n",
       "    <tr>\n",
       "      <th>75%</th>\n",
       "      <td>7.000000</td>\n",
       "      <td>0.000000</td>\n",
       "      <td>0.000000</td>\n",
       "      <td>-17.000000</td>\n",
       "    </tr>\n",
       "    <tr>\n",
       "      <th>max</th>\n",
       "      <td>948.000000</td>\n",
       "      <td>948.000000</td>\n",
       "      <td>100.000000</td>\n",
       "      <td>0.000000</td>\n",
       "    </tr>\n",
       "  </tbody>\n",
       "</table>\n",
       "</div>"
      ],
      "text/plain": [
       "          arr_delay  departure_delay  % dept delay  air_time_delta\n",
       "count  10000.000000     10000.000000  10000.000000    10000.000000\n",
       "mean       5.466500        12.105500     17.958900      -24.731800\n",
       "std       49.373696        42.895086     38.226694       12.265493\n",
       "min      -70.000000         0.000000      0.000000     -198.000000\n",
       "25%      -15.000000         0.000000     -0.000000      -29.000000\n",
       "50%       -6.000000         0.000000      0.000000      -22.000000\n",
       "75%        7.000000         0.000000      0.000000      -17.000000\n",
       "max      948.000000       948.000000    100.000000        0.000000"
      ]
     },
     "execution_count": 126,
     "metadata": {},
     "output_type": "execute_result"
    }
   ],
   "source": [
    "delay_result.describe()"
   ]
  },
  {
   "cell_type": "code",
   "execution_count": 132,
   "metadata": {
    "tags": []
   },
   "outputs": [
    {
     "data": {
      "text/html": [
       "<div>\n",
       "<style scoped>\n",
       "    .dataframe tbody tr th:only-of-type {\n",
       "        vertical-align: middle;\n",
       "    }\n",
       "\n",
       "    .dataframe tbody tr th {\n",
       "        vertical-align: top;\n",
       "    }\n",
       "\n",
       "    .dataframe thead th {\n",
       "        text-align: right;\n",
       "    }\n",
       "</style>\n",
       "<table border=\"1\" class=\"dataframe\">\n",
       "  <thead>\n",
       "    <tr style=\"text-align: right;\">\n",
       "      <th></th>\n",
       "      <th>departure_delay</th>\n",
       "    </tr>\n",
       "    <tr>\n",
       "      <th>% dept delay</th>\n",
       "      <th></th>\n",
       "    </tr>\n",
       "  </thead>\n",
       "  <tbody>\n",
       "    <tr>\n",
       "      <th>0.0</th>\n",
       "      <td>8169</td>\n",
       "    </tr>\n",
       "    <tr>\n",
       "      <th>100.0</th>\n",
       "      <td>1746</td>\n",
       "    </tr>\n",
       "    <tr>\n",
       "      <th>88.0</th>\n",
       "      <td>4</td>\n",
       "    </tr>\n",
       "  </tbody>\n",
       "</table>\n",
       "</div>"
      ],
      "text/plain": [
       "              departure_delay\n",
       "% dept delay                 \n",
       "0.0                      8169\n",
       "100.0                    1746\n",
       "88.0                        4"
      ]
     },
     "execution_count": 132,
     "metadata": {},
     "output_type": "execute_result"
    }
   ],
   "source": [
    "#now count the number of 100% dept delays\n",
    "delay_result[['% dept delay', 'departure_delay']].groupby(by = ['% dept delay']).count().sort_values(by = ['departure_delay'], ascending = False).head(3)"
   ]
  },
  {
   "cell_type": "code",
   "execution_count": 135,
   "metadata": {},
   "outputs": [
    {
     "data": {
      "text/html": [
       "<div>\n",
       "<style scoped>\n",
       "    .dataframe tbody tr th:only-of-type {\n",
       "        vertical-align: middle;\n",
       "    }\n",
       "\n",
       "    .dataframe tbody tr th {\n",
       "        vertical-align: top;\n",
       "    }\n",
       "\n",
       "    .dataframe thead th {\n",
       "        text-align: right;\n",
       "    }\n",
       "</style>\n",
       "<table border=\"1\" class=\"dataframe\">\n",
       "  <thead>\n",
       "    <tr style=\"text-align: right;\">\n",
       "      <th></th>\n",
       "      <th>arr_delay</th>\n",
       "      <th>departure_delay</th>\n",
       "      <th>% dept delay</th>\n",
       "      <th>air_time_delta</th>\n",
       "    </tr>\n",
       "  </thead>\n",
       "  <tbody>\n",
       "    <tr>\n",
       "      <th>count</th>\n",
       "      <td>1746.000000</td>\n",
       "      <td>1746.000000</td>\n",
       "      <td>1746.0</td>\n",
       "      <td>1746.000000</td>\n",
       "    </tr>\n",
       "    <tr>\n",
       "      <th>mean</th>\n",
       "      <td>66.309278</td>\n",
       "      <td>66.309278</td>\n",
       "      <td>100.0</td>\n",
       "      <td>-31.879725</td>\n",
       "    </tr>\n",
       "    <tr>\n",
       "      <th>std</th>\n",
       "      <td>80.063796</td>\n",
       "      <td>80.063796</td>\n",
       "      <td>0.0</td>\n",
       "      <td>18.872650</td>\n",
       "    </tr>\n",
       "    <tr>\n",
       "      <th>min</th>\n",
       "      <td>15.000000</td>\n",
       "      <td>15.000000</td>\n",
       "      <td>100.0</td>\n",
       "      <td>-198.000000</td>\n",
       "    </tr>\n",
       "    <tr>\n",
       "      <th>25%</th>\n",
       "      <td>24.000000</td>\n",
       "      <td>24.000000</td>\n",
       "      <td>100.0</td>\n",
       "      <td>-39.000000</td>\n",
       "    </tr>\n",
       "    <tr>\n",
       "      <th>50%</th>\n",
       "      <td>40.000000</td>\n",
       "      <td>40.000000</td>\n",
       "      <td>100.0</td>\n",
       "      <td>-26.000000</td>\n",
       "    </tr>\n",
       "    <tr>\n",
       "      <th>75%</th>\n",
       "      <td>80.000000</td>\n",
       "      <td>80.000000</td>\n",
       "      <td>100.0</td>\n",
       "      <td>-20.000000</td>\n",
       "    </tr>\n",
       "    <tr>\n",
       "      <th>max</th>\n",
       "      <td>948.000000</td>\n",
       "      <td>948.000000</td>\n",
       "      <td>100.0</td>\n",
       "      <td>-5.000000</td>\n",
       "    </tr>\n",
       "  </tbody>\n",
       "</table>\n",
       "</div>"
      ],
      "text/plain": [
       "         arr_delay  departure_delay  % dept delay  air_time_delta\n",
       "count  1746.000000      1746.000000        1746.0     1746.000000\n",
       "mean     66.309278        66.309278         100.0      -31.879725\n",
       "std      80.063796        80.063796           0.0       18.872650\n",
       "min      15.000000        15.000000         100.0     -198.000000\n",
       "25%      24.000000        24.000000         100.0      -39.000000\n",
       "50%      40.000000        40.000000         100.0      -26.000000\n",
       "75%      80.000000        80.000000         100.0      -20.000000\n",
       "max     948.000000       948.000000         100.0       -5.000000"
      ]
     },
     "execution_count": 135,
     "metadata": {},
     "output_type": "execute_result"
    }
   ],
   "source": [
    "#Are airlines able to lower the delay during the flights? looks like no. \n",
    "#The mean air_time_delta for flights that are exclusively caused by departure delays is -32 mins\n",
    "delay_result[delay_result['% dept delay'] == 100].describe()"
   ]
  },
  {
   "cell_type": "markdown",
   "metadata": {
    "jp-MarkdownHeadingCollapsed": true,
    "tags": []
   },
   "source": [
    "#### **Task 6**: How many states cover 50% of US air traffic? "
   ]
  },
  {
   "cell_type": "code",
   "execution_count": null,
   "metadata": {},
   "outputs": [],
   "source": [
    "#sort by last two characters of the location to sort by state\n",
    "#sort arrivals and dest then add them up?"
   ]
  },
  {
   "cell_type": "code",
   "execution_count": 138,
   "metadata": {},
   "outputs": [],
   "source": [
    "flights_tsk6 = flights[['fl_date','origin_city_name','dest_city_name', 'cancelled', 'diverted','flights']]"
   ]
  },
  {
   "cell_type": "code",
   "execution_count": 139,
   "metadata": {},
   "outputs": [
    {
     "data": {
      "text/html": [
       "<div>\n",
       "<style scoped>\n",
       "    .dataframe tbody tr th:only-of-type {\n",
       "        vertical-align: middle;\n",
       "    }\n",
       "\n",
       "    .dataframe tbody tr th {\n",
       "        vertical-align: top;\n",
       "    }\n",
       "\n",
       "    .dataframe thead th {\n",
       "        text-align: right;\n",
       "    }\n",
       "</style>\n",
       "<table border=\"1\" class=\"dataframe\">\n",
       "  <thead>\n",
       "    <tr style=\"text-align: right;\">\n",
       "      <th></th>\n",
       "      <th>fl_date</th>\n",
       "      <th>origin_city_name</th>\n",
       "      <th>dest_city_name</th>\n",
       "      <th>cancelled</th>\n",
       "      <th>diverted</th>\n",
       "      <th>flights</th>\n",
       "    </tr>\n",
       "  </thead>\n",
       "  <tbody>\n",
       "    <tr>\n",
       "      <th>0</th>\n",
       "      <td>2018-07-10</td>\n",
       "      <td>San Antonio, TX</td>\n",
       "      <td>Nashville, TN</td>\n",
       "      <td>0.0</td>\n",
       "      <td>0.0</td>\n",
       "      <td>1.0</td>\n",
       "    </tr>\n",
       "    <tr>\n",
       "      <th>1</th>\n",
       "      <td>2019-10-10</td>\n",
       "      <td>Chicago, IL</td>\n",
       "      <td>Orlando, FL</td>\n",
       "      <td>0.0</td>\n",
       "      <td>0.0</td>\n",
       "      <td>1.0</td>\n",
       "    </tr>\n",
       "    <tr>\n",
       "      <th>2</th>\n",
       "      <td>2019-07-18</td>\n",
       "      <td>Lawton/Fort Sill, OK</td>\n",
       "      <td>Dallas/Fort Worth, TX</td>\n",
       "      <td>0.0</td>\n",
       "      <td>0.0</td>\n",
       "      <td>1.0</td>\n",
       "    </tr>\n",
       "    <tr>\n",
       "      <th>3</th>\n",
       "      <td>2018-11-25</td>\n",
       "      <td>Savannah, GA</td>\n",
       "      <td>Chicago, IL</td>\n",
       "      <td>1.0</td>\n",
       "      <td>0.0</td>\n",
       "      <td>1.0</td>\n",
       "    </tr>\n",
       "    <tr>\n",
       "      <th>4</th>\n",
       "      <td>2018-10-24</td>\n",
       "      <td>Detroit, MI</td>\n",
       "      <td>Santa Ana, CA</td>\n",
       "      <td>0.0</td>\n",
       "      <td>0.0</td>\n",
       "      <td>1.0</td>\n",
       "    </tr>\n",
       "  </tbody>\n",
       "</table>\n",
       "</div>"
      ],
      "text/plain": [
       "      fl_date      origin_city_name         dest_city_name  cancelled  \\\n",
       "0  2018-07-10       San Antonio, TX          Nashville, TN        0.0   \n",
       "1  2019-10-10           Chicago, IL            Orlando, FL        0.0   \n",
       "2  2019-07-18  Lawton/Fort Sill, OK  Dallas/Fort Worth, TX        0.0   \n",
       "3  2018-11-25          Savannah, GA            Chicago, IL        1.0   \n",
       "4  2018-10-24           Detroit, MI          Santa Ana, CA        0.0   \n",
       "\n",
       "   diverted  flights  \n",
       "0       0.0      1.0  \n",
       "1       0.0      1.0  \n",
       "2       0.0      1.0  \n",
       "3       0.0      1.0  \n",
       "4       0.0      1.0  "
      ]
     },
     "execution_count": 139,
     "metadata": {},
     "output_type": "execute_result"
    }
   ],
   "source": [
    "flights_tsk6.head()"
   ]
  },
  {
   "cell_type": "code",
   "execution_count": 140,
   "metadata": {},
   "outputs": [
    {
     "name": "stderr",
     "output_type": "stream",
     "text": [
      "C:\\Users\\3_hal\\AppData\\Local\\Temp\\ipykernel_15016\\4246054966.py:1: SettingWithCopyWarning: \n",
      "A value is trying to be set on a copy of a slice from a DataFrame.\n",
      "Try using .loc[row_indexer,col_indexer] = value instead\n",
      "\n",
      "See the caveats in the documentation: https://pandas.pydata.org/pandas-docs/stable/user_guide/indexing.html#returning-a-view-versus-a-copy\n",
      "  flights_tsk6['States_orig'] = flights_tsk6['origin_city_name'].str.slice(-2)\n",
      "C:\\Users\\3_hal\\AppData\\Local\\Temp\\ipykernel_15016\\4246054966.py:2: SettingWithCopyWarning: \n",
      "A value is trying to be set on a copy of a slice from a DataFrame.\n",
      "Try using .loc[row_indexer,col_indexer] = value instead\n",
      "\n",
      "See the caveats in the documentation: https://pandas.pydata.org/pandas-docs/stable/user_guide/indexing.html#returning-a-view-versus-a-copy\n",
      "  flights_tsk6['States_dest'] = flights_tsk6['dest_city_name'].str.slice(-2)\n"
     ]
    }
   ],
   "source": [
    "flights_tsk6['States_orig'] = flights_tsk6['origin_city_name'].str.slice(-2)\n",
    "flights_tsk6['States_dest'] = flights_tsk6['dest_city_name'].str.slice(-2)           "
   ]
  },
  {
   "cell_type": "code",
   "execution_count": 143,
   "metadata": {},
   "outputs": [
    {
     "data": {
      "text/plain": [
       "(10000, 8)"
      ]
     },
     "execution_count": 143,
     "metadata": {},
     "output_type": "execute_result"
    }
   ],
   "source": [
    "flights_tsk6.shape"
   ]
  },
  {
   "cell_type": "code",
   "execution_count": 144,
   "metadata": {},
   "outputs": [],
   "source": [
    "#drop all cancelled flights\n",
    "flights_tsk6 = flights_tsk6[flights_tsk6.cancelled != 1]"
   ]
  },
  {
   "cell_type": "code",
   "execution_count": 145,
   "metadata": {},
   "outputs": [
    {
     "data": {
      "text/plain": [
       "(9842, 8)"
      ]
     },
     "execution_count": 145,
     "metadata": {},
     "output_type": "execute_result"
    }
   ],
   "source": [
    "flights_tsk6.shape"
   ]
  },
  {
   "cell_type": "code",
   "execution_count": 146,
   "metadata": {},
   "outputs": [
    {
     "data": {
      "text/html": [
       "<div>\n",
       "<style scoped>\n",
       "    .dataframe tbody tr th:only-of-type {\n",
       "        vertical-align: middle;\n",
       "    }\n",
       "\n",
       "    .dataframe tbody tr th {\n",
       "        vertical-align: top;\n",
       "    }\n",
       "\n",
       "    .dataframe thead th {\n",
       "        text-align: right;\n",
       "    }\n",
       "</style>\n",
       "<table border=\"1\" class=\"dataframe\">\n",
       "  <thead>\n",
       "    <tr style=\"text-align: right;\">\n",
       "      <th></th>\n",
       "      <th>fl_date</th>\n",
       "      <th>origin_city_name</th>\n",
       "      <th>dest_city_name</th>\n",
       "      <th>cancelled</th>\n",
       "      <th>diverted</th>\n",
       "      <th>flights</th>\n",
       "      <th>States_orig</th>\n",
       "      <th>States_dest</th>\n",
       "    </tr>\n",
       "  </thead>\n",
       "  <tbody>\n",
       "    <tr>\n",
       "      <th>0</th>\n",
       "      <td>2018-07-10</td>\n",
       "      <td>San Antonio, TX</td>\n",
       "      <td>Nashville, TN</td>\n",
       "      <td>0.0</td>\n",
       "      <td>0.0</td>\n",
       "      <td>1.0</td>\n",
       "      <td>TX</td>\n",
       "      <td>TN</td>\n",
       "    </tr>\n",
       "    <tr>\n",
       "      <th>1</th>\n",
       "      <td>2019-10-10</td>\n",
       "      <td>Chicago, IL</td>\n",
       "      <td>Orlando, FL</td>\n",
       "      <td>0.0</td>\n",
       "      <td>0.0</td>\n",
       "      <td>1.0</td>\n",
       "      <td>IL</td>\n",
       "      <td>FL</td>\n",
       "    </tr>\n",
       "    <tr>\n",
       "      <th>2</th>\n",
       "      <td>2019-07-18</td>\n",
       "      <td>Lawton/Fort Sill, OK</td>\n",
       "      <td>Dallas/Fort Worth, TX</td>\n",
       "      <td>0.0</td>\n",
       "      <td>0.0</td>\n",
       "      <td>1.0</td>\n",
       "      <td>OK</td>\n",
       "      <td>TX</td>\n",
       "    </tr>\n",
       "    <tr>\n",
       "      <th>4</th>\n",
       "      <td>2018-10-24</td>\n",
       "      <td>Detroit, MI</td>\n",
       "      <td>Santa Ana, CA</td>\n",
       "      <td>0.0</td>\n",
       "      <td>0.0</td>\n",
       "      <td>1.0</td>\n",
       "      <td>MI</td>\n",
       "      <td>CA</td>\n",
       "    </tr>\n",
       "    <tr>\n",
       "      <th>5</th>\n",
       "      <td>2019-06-08</td>\n",
       "      <td>Richmond, VA</td>\n",
       "      <td>Dallas/Fort Worth, TX</td>\n",
       "      <td>0.0</td>\n",
       "      <td>0.0</td>\n",
       "      <td>1.0</td>\n",
       "      <td>VA</td>\n",
       "      <td>TX</td>\n",
       "    </tr>\n",
       "  </tbody>\n",
       "</table>\n",
       "</div>"
      ],
      "text/plain": [
       "      fl_date      origin_city_name         dest_city_name  cancelled  \\\n",
       "0  2018-07-10       San Antonio, TX          Nashville, TN        0.0   \n",
       "1  2019-10-10           Chicago, IL            Orlando, FL        0.0   \n",
       "2  2019-07-18  Lawton/Fort Sill, OK  Dallas/Fort Worth, TX        0.0   \n",
       "4  2018-10-24           Detroit, MI          Santa Ana, CA        0.0   \n",
       "5  2019-06-08          Richmond, VA  Dallas/Fort Worth, TX        0.0   \n",
       "\n",
       "   diverted  flights States_orig States_dest  \n",
       "0       0.0      1.0          TX          TN  \n",
       "1       0.0      1.0          IL          FL  \n",
       "2       0.0      1.0          OK          TX  \n",
       "4       0.0      1.0          MI          CA  \n",
       "5       0.0      1.0          VA          TX  "
      ]
     },
     "execution_count": 146,
     "metadata": {},
     "output_type": "execute_result"
    }
   ],
   "source": [
    "flights_tsk6.head()"
   ]
  },
  {
   "cell_type": "code",
   "execution_count": 152,
   "metadata": {},
   "outputs": [],
   "source": [
    "#count all orig states\n",
    "orig_count = flights_tsk6.groupby(by = ['States_orig']).agg(orig_count = ('States_orig', 'count'))\n",
    "dest_count = flights_tsk6.groupby(by = ['States_dest']).agg(dest_count = ('States_dest', 'count'))"
   ]
  },
  {
   "cell_type": "code",
   "execution_count": 183,
   "metadata": {},
   "outputs": [],
   "source": [
    "#merge them\n",
    "state_count = pd.concat([orig_count, dest_count], axis=1, join='outer')"
   ]
  },
  {
   "cell_type": "code",
   "execution_count": 184,
   "metadata": {},
   "outputs": [
    {
     "data": {
      "text/plain": [
       "(53, 2)"
      ]
     },
     "execution_count": 184,
     "metadata": {},
     "output_type": "execute_result"
    }
   ],
   "source": [
    "state_count.shape"
   ]
  },
  {
   "cell_type": "code",
   "execution_count": 185,
   "metadata": {},
   "outputs": [
    {
     "data": {
      "text/plain": [
       "((53, 1), (53, 1))"
      ]
     },
     "execution_count": 185,
     "metadata": {},
     "output_type": "execute_result"
    }
   ],
   "source": [
    "orig_count.shape, dest_count.shape"
   ]
  },
  {
   "cell_type": "code",
   "execution_count": 186,
   "metadata": {},
   "outputs": [],
   "source": [
    "state_count['sum'] = state_count['orig_count'] +state_count['dest_count']"
   ]
  },
  {
   "cell_type": "code",
   "execution_count": 187,
   "metadata": {},
   "outputs": [
    {
     "data": {
      "text/html": [
       "<div>\n",
       "<style scoped>\n",
       "    .dataframe tbody tr th:only-of-type {\n",
       "        vertical-align: middle;\n",
       "    }\n",
       "\n",
       "    .dataframe tbody tr th {\n",
       "        vertical-align: top;\n",
       "    }\n",
       "\n",
       "    .dataframe thead th {\n",
       "        text-align: right;\n",
       "    }\n",
       "</style>\n",
       "<table border=\"1\" class=\"dataframe\">\n",
       "  <thead>\n",
       "    <tr style=\"text-align: right;\">\n",
       "      <th></th>\n",
       "      <th>orig_count</th>\n",
       "      <th>dest_count</th>\n",
       "      <th>sum</th>\n",
       "    </tr>\n",
       "  </thead>\n",
       "  <tbody>\n",
       "    <tr>\n",
       "      <th>AK</th>\n",
       "      <td>51</td>\n",
       "      <td>46</td>\n",
       "      <td>97</td>\n",
       "    </tr>\n",
       "    <tr>\n",
       "      <th>AL</th>\n",
       "      <td>50</td>\n",
       "      <td>59</td>\n",
       "      <td>109</td>\n",
       "    </tr>\n",
       "    <tr>\n",
       "      <th>AR</th>\n",
       "      <td>43</td>\n",
       "      <td>32</td>\n",
       "      <td>75</td>\n",
       "    </tr>\n",
       "    <tr>\n",
       "      <th>AZ</th>\n",
       "      <td>224</td>\n",
       "      <td>268</td>\n",
       "      <td>492</td>\n",
       "    </tr>\n",
       "    <tr>\n",
       "      <th>CA</th>\n",
       "      <td>1098</td>\n",
       "      <td>1036</td>\n",
       "      <td>2134</td>\n",
       "    </tr>\n",
       "  </tbody>\n",
       "</table>\n",
       "</div>"
      ],
      "text/plain": [
       "    orig_count  dest_count   sum\n",
       "AK          51          46    97\n",
       "AL          50          59   109\n",
       "AR          43          32    75\n",
       "AZ         224         268   492\n",
       "CA        1098        1036  2134"
      ]
     },
     "execution_count": 187,
     "metadata": {},
     "output_type": "execute_result"
    }
   ],
   "source": [
    "state_count.head()"
   ]
  },
  {
   "cell_type": "code",
   "execution_count": 188,
   "metadata": {},
   "outputs": [
    {
     "data": {
      "text/plain": [
       "19684"
      ]
     },
     "execution_count": 188,
     "metadata": {},
     "output_type": "execute_result"
    }
   ],
   "source": [
    "state_count['sum'].sum()"
   ]
  },
  {
   "cell_type": "code",
   "execution_count": 189,
   "metadata": {},
   "outputs": [],
   "source": [
    "state_count['% total flights'] = round(state_count['sum']/state_count['sum'].sum()*100, 2)"
   ]
  },
  {
   "cell_type": "code",
   "execution_count": 190,
   "metadata": {},
   "outputs": [],
   "source": [
    "state_count = state_count.sort_values(by = ['sum'], ascending = False).reset_index()"
   ]
  },
  {
   "cell_type": "code",
   "execution_count": 195,
   "metadata": {},
   "outputs": [],
   "source": [
    "state_count.rename(columns={\"index\": \"state\"}, inplace = True)"
   ]
  },
  {
   "cell_type": "code",
   "execution_count": 196,
   "metadata": {},
   "outputs": [],
   "source": [
    "state_count['% cumsum'] = state_count['% total flights'].cumsum()"
   ]
  },
  {
   "cell_type": "code",
   "execution_count": 197,
   "metadata": {},
   "outputs": [
    {
     "data": {
      "text/html": [
       "<div>\n",
       "<style scoped>\n",
       "    .dataframe tbody tr th:only-of-type {\n",
       "        vertical-align: middle;\n",
       "    }\n",
       "\n",
       "    .dataframe tbody tr th {\n",
       "        vertical-align: top;\n",
       "    }\n",
       "\n",
       "    .dataframe thead th {\n",
       "        text-align: right;\n",
       "    }\n",
       "</style>\n",
       "<table border=\"1\" class=\"dataframe\">\n",
       "  <thead>\n",
       "    <tr style=\"text-align: right;\">\n",
       "      <th></th>\n",
       "      <th>state</th>\n",
       "      <th>orig_count</th>\n",
       "      <th>dest_count</th>\n",
       "      <th>sum</th>\n",
       "      <th>% total flights</th>\n",
       "      <th>% cumsum</th>\n",
       "    </tr>\n",
       "  </thead>\n",
       "  <tbody>\n",
       "    <tr>\n",
       "      <th>0</th>\n",
       "      <td>CA</td>\n",
       "      <td>1098</td>\n",
       "      <td>1036</td>\n",
       "      <td>2134</td>\n",
       "      <td>10.84</td>\n",
       "      <td>10.84</td>\n",
       "    </tr>\n",
       "    <tr>\n",
       "      <th>1</th>\n",
       "      <td>TX</td>\n",
       "      <td>948</td>\n",
       "      <td>934</td>\n",
       "      <td>1882</td>\n",
       "      <td>9.56</td>\n",
       "      <td>20.40</td>\n",
       "    </tr>\n",
       "    <tr>\n",
       "      <th>2</th>\n",
       "      <td>FL</td>\n",
       "      <td>702</td>\n",
       "      <td>700</td>\n",
       "      <td>1402</td>\n",
       "      <td>7.12</td>\n",
       "      <td>27.52</td>\n",
       "    </tr>\n",
       "    <tr>\n",
       "      <th>3</th>\n",
       "      <td>IL</td>\n",
       "      <td>622</td>\n",
       "      <td>636</td>\n",
       "      <td>1258</td>\n",
       "      <td>6.39</td>\n",
       "      <td>33.91</td>\n",
       "    </tr>\n",
       "    <tr>\n",
       "      <th>4</th>\n",
       "      <td>GA</td>\n",
       "      <td>539</td>\n",
       "      <td>496</td>\n",
       "      <td>1035</td>\n",
       "      <td>5.26</td>\n",
       "      <td>39.17</td>\n",
       "    </tr>\n",
       "    <tr>\n",
       "      <th>5</th>\n",
       "      <td>NY</td>\n",
       "      <td>458</td>\n",
       "      <td>526</td>\n",
       "      <td>984</td>\n",
       "      <td>5.00</td>\n",
       "      <td>44.17</td>\n",
       "    </tr>\n",
       "    <tr>\n",
       "      <th>6</th>\n",
       "      <td>NC</td>\n",
       "      <td>431</td>\n",
       "      <td>435</td>\n",
       "      <td>866</td>\n",
       "      <td>4.40</td>\n",
       "      <td>48.57</td>\n",
       "    </tr>\n",
       "    <tr>\n",
       "      <th>7</th>\n",
       "      <td>CO</td>\n",
       "      <td>446</td>\n",
       "      <td>403</td>\n",
       "      <td>849</td>\n",
       "      <td>4.31</td>\n",
       "      <td>52.88</td>\n",
       "    </tr>\n",
       "  </tbody>\n",
       "</table>\n",
       "</div>"
      ],
      "text/plain": [
       "  state  orig_count  dest_count   sum  % total flights  % cumsum\n",
       "0    CA        1098        1036  2134            10.84     10.84\n",
       "1    TX         948         934  1882             9.56     20.40\n",
       "2    FL         702         700  1402             7.12     27.52\n",
       "3    IL         622         636  1258             6.39     33.91\n",
       "4    GA         539         496  1035             5.26     39.17\n",
       "5    NY         458         526   984             5.00     44.17\n",
       "6    NC         431         435   866             4.40     48.57\n",
       "7    CO         446         403   849             4.31     52.88"
      ]
     },
     "execution_count": 197,
     "metadata": {},
     "output_type": "execute_result"
    }
   ],
   "source": [
    "state_count.head(8)"
   ]
  },
  {
   "cell_type": "code",
   "execution_count": null,
   "metadata": {},
   "outputs": [],
   "source": [
    "#for our 10 000 dataset, 8 states cover 50% of air traffic."
   ]
  },
  {
   "cell_type": "code",
   "execution_count": 204,
   "metadata": {},
   "outputs": [
    {
     "data": {
      "text/plain": [
       "<AxesSubplot:xlabel='state', ylabel='% total flights'>"
      ]
     },
     "execution_count": 204,
     "metadata": {},
     "output_type": "execute_result"
    },
    {
     "data": {
      "image/png": "[encoded data removed]",
      "text/plain": [
       "<Figure size 1008x648 with 1 Axes>"
      ]
     },
     "metadata": {},
     "output_type": "display_data"
    }
   ],
   "source": [
    "sns.histplot(data=state_count.head(8), x=\"state\", y = \"% total flights\")"
   ]
  },
  {
   "cell_type": "code",
   "execution_count": 209,
   "metadata": {},
   "outputs": [
    {
     "data": {
      "image/png": "[encoded data removed]",
      "text/plain": [
       "<Figure size 1440x1440 with 1 Axes>"
      ]
     },
     "metadata": {},
     "output_type": "display_data"
    }
   ],
   "source": [
    "import matplotlib.pyplot as plt\n",
    "labels = state_count['state']\n",
    "sizes = state_count[\"% total flights\"]\n",
    "\n",
    "fig1, ax1 = plt.subplots(figsize=(20, 20))\n",
    "wedges, texts, autotexts = ax1.pie(sizes, autopct='%1.1f%%', startangle=90)\n",
    "\n",
    "centre_circle = plt.Circle((0,0),0.60,fc='white')\n",
    "fig = plt.gcf()\n",
    "fig.gca().add_artist(centre_circle)\n",
    "\n",
    "ax1.legend(wedges, labels,\n",
    "          title=\"States\",\n",
    "          loc=\"center left\",\n",
    "          bbox_to_anchor=(1, 0, 0.5, 1))\n",
    "\n",
    "ax1.axis('equal')         # Equal aspect ratio ensures that pie is drawn as a circle\n",
    "plt.tight_layout()\n",
    "plt.show()"
   ]
  },
  {
   "cell_type": "markdown",
   "metadata": {},
   "source": [
    "#### **Task 7**: Test the hypothesis whether planes fly faster when there is the departure delay? "
   ]
  },
  {
   "cell_type": "code",
   "execution_count": null,
   "metadata": {},
   "outputs": [],
   "source": [
    "#create speed feature (dist/air time, miles/hr) then compare speed vs departure delay"
   ]
  },
  {
   "cell_type": "code",
   "execution_count": null,
   "metadata": {},
   "outputs": [],
   "source": [
    "#from task 5 I think the answer is already proven to be no."
   ]
  },
  {
   "cell_type": "code",
   "execution_count": null,
   "metadata": {},
   "outputs": [],
   "source": []
  },
  {
   "cell_type": "code",
   "execution_count": null,
   "metadata": {},
   "outputs": [],
   "source": []
  },
  {
   "cell_type": "markdown",
   "metadata": {
    "jp-MarkdownHeadingCollapsed": true,
    "tags": []
   },
   "source": [
    "#### **Task 8**: When (which hour) do most 'LONG', 'SHORT', 'MEDIUM' haul flights take off?"
   ]
  },
  {
   "cell_type": "markdown",
   "metadata": {},
   "source": [
    "American Airlines defines:\n",
    "* short-/medium-haul flights as being less than 3,000 mi (2,600 nmi; 4,800 km) and \n",
    "* long-haul as either being more than 3,000 mi (2,600 nmi; 4,800 km) or being the New York–Los Angeles and New York–San Francisco routes.[8]\n",
    "    \n",
    "United Airlines defines:\n",
    "* short-haul flights as being less than 700 mi (610 nmi; 1,100 km)[9]\n",
    "* long-haul flights as being greater than 3,000 mi (2,600 nmi; 4,800 km).[10]\n",
    "    \n",
    "https://en.wikipedia.org/wiki/Flight_length"
   ]
  },
  {
   "cell_type": "code",
   "execution_count": 46,
   "metadata": {},
   "outputs": [
    {
     "data": {
      "text/html": [
       "<div>\n",
       "<style scoped>\n",
       "    .dataframe tbody tr th:only-of-type {\n",
       "        vertical-align: middle;\n",
       "    }\n",
       "\n",
       "    .dataframe tbody tr th {\n",
       "        vertical-align: top;\n",
       "    }\n",
       "\n",
       "    .dataframe thead th {\n",
       "        text-align: right;\n",
       "    }\n",
       "</style>\n",
       "<table border=\"1\" class=\"dataframe\">\n",
       "  <thead>\n",
       "    <tr style=\"text-align: right;\">\n",
       "      <th></th>\n",
       "      <th>distance</th>\n",
       "      <th>crs_dep_time</th>\n",
       "    </tr>\n",
       "  </thead>\n",
       "  <tbody>\n",
       "    <tr>\n",
       "      <th>0</th>\n",
       "      <td>822.0</td>\n",
       "      <td>705</td>\n",
       "    </tr>\n",
       "    <tr>\n",
       "      <th>1</th>\n",
       "      <td>1005.0</td>\n",
       "      <td>800</td>\n",
       "    </tr>\n",
       "    <tr>\n",
       "      <th>2</th>\n",
       "      <td>140.0</td>\n",
       "      <td>1034</td>\n",
       "    </tr>\n",
       "    <tr>\n",
       "      <th>3</th>\n",
       "      <td>773.0</td>\n",
       "      <td>2200</td>\n",
       "    </tr>\n",
       "    <tr>\n",
       "      <th>4</th>\n",
       "      <td>1960.0</td>\n",
       "      <td>841</td>\n",
       "    </tr>\n",
       "  </tbody>\n",
       "</table>\n",
       "</div>"
      ],
      "text/plain": [
       "   distance  crs_dep_time\n",
       "0     822.0           705\n",
       "1    1005.0           800\n",
       "2     140.0          1034\n",
       "3     773.0          2200\n",
       "4    1960.0           841"
      ]
     },
     "execution_count": 46,
     "metadata": {},
     "output_type": "execute_result"
    }
   ],
   "source": [
    "tsk8_flts = flights[['distance','crs_dep_time']]\n",
    "tsk8_flts.head()"
   ]
  },
  {
   "cell_type": "code",
   "execution_count": 47,
   "metadata": {
    "tags": []
   },
   "outputs": [
    {
     "name": "stderr",
     "output_type": "stream",
     "text": [
      "C:\\Users\\3_hal\\AppData\\Local\\Temp\\ipykernel_15016\\2503008951.py:2: SettingWithCopyWarning: \n",
      "A value is trying to be set on a copy of a slice from a DataFrame.\n",
      "Try using .loc[row_indexer,col_indexer] = value instead\n",
      "\n",
      "See the caveats in the documentation: https://pandas.pydata.org/pandas-docs/stable/user_guide/indexing.html#returning-a-view-versus-a-copy\n",
      "  tsk8_flts['time_length_categ'] = 'long'    #start with setting all to long\n"
     ]
    }
   ],
   "source": [
    "#define lengths: short = 700, med = 3000, long is else\n",
    "tsk8_flts['time_length_categ'] = 'long'    #start with setting all to long\n",
    "tsk8_flts.loc[(tsk8_flts['distance'] < 701), 'time_length_categ'] = 'short'\n",
    "tsk8_flts.loc[(tsk8_flts['distance'] > 700) & (tsk8_flts['distance'] < 3001), 'time_length_categ'] = 'medium'"
   ]
  },
  {
   "cell_type": "code",
   "execution_count": 48,
   "metadata": {},
   "outputs": [
    {
     "data": {
      "text/html": [
       "<div>\n",
       "<style scoped>\n",
       "    .dataframe tbody tr th:only-of-type {\n",
       "        vertical-align: middle;\n",
       "    }\n",
       "\n",
       "    .dataframe tbody tr th {\n",
       "        vertical-align: top;\n",
       "    }\n",
       "\n",
       "    .dataframe thead th {\n",
       "        text-align: right;\n",
       "    }\n",
       "</style>\n",
       "<table border=\"1\" class=\"dataframe\">\n",
       "  <thead>\n",
       "    <tr style=\"text-align: right;\">\n",
       "      <th></th>\n",
       "      <th>distance</th>\n",
       "      <th>time_length_categ</th>\n",
       "    </tr>\n",
       "  </thead>\n",
       "  <tbody>\n",
       "    <tr>\n",
       "      <th>0</th>\n",
       "      <td>822.0</td>\n",
       "      <td>medium</td>\n",
       "    </tr>\n",
       "    <tr>\n",
       "      <th>1</th>\n",
       "      <td>1005.0</td>\n",
       "      <td>medium</td>\n",
       "    </tr>\n",
       "    <tr>\n",
       "      <th>2</th>\n",
       "      <td>140.0</td>\n",
       "      <td>short</td>\n",
       "    </tr>\n",
       "    <tr>\n",
       "      <th>3</th>\n",
       "      <td>773.0</td>\n",
       "      <td>medium</td>\n",
       "    </tr>\n",
       "    <tr>\n",
       "      <th>4</th>\n",
       "      <td>1960.0</td>\n",
       "      <td>medium</td>\n",
       "    </tr>\n",
       "  </tbody>\n",
       "</table>\n",
       "</div>"
      ],
      "text/plain": [
       "   distance time_length_categ\n",
       "0     822.0            medium\n",
       "1    1005.0            medium\n",
       "2     140.0             short\n",
       "3     773.0            medium\n",
       "4    1960.0            medium"
      ]
     },
     "execution_count": 48,
     "metadata": {},
     "output_type": "execute_result"
    }
   ],
   "source": [
    "#check\n",
    "tsk8_flts[['distance','time_length_categ']].head()"
   ]
  },
  {
   "cell_type": "code",
   "execution_count": 49,
   "metadata": {},
   "outputs": [
    {
     "data": {
      "text/html": [
       "<div>\n",
       "<style scoped>\n",
       "    .dataframe tbody tr th:only-of-type {\n",
       "        vertical-align: middle;\n",
       "    }\n",
       "\n",
       "    .dataframe tbody tr th {\n",
       "        vertical-align: top;\n",
       "    }\n",
       "\n",
       "    .dataframe thead th {\n",
       "        text-align: right;\n",
       "    }\n",
       "</style>\n",
       "<table border=\"1\" class=\"dataframe\">\n",
       "  <thead>\n",
       "    <tr style=\"text-align: right;\">\n",
       "      <th></th>\n",
       "      <th>crs_dep_time</th>\n",
       "    </tr>\n",
       "    <tr>\n",
       "      <th>time_length_categ</th>\n",
       "      <th></th>\n",
       "    </tr>\n",
       "  </thead>\n",
       "  <tbody>\n",
       "    <tr>\n",
       "      <th>long</th>\n",
       "      <td>8</td>\n",
       "    </tr>\n",
       "    <tr>\n",
       "      <th>medium</th>\n",
       "      <td>4259</td>\n",
       "    </tr>\n",
       "    <tr>\n",
       "      <th>short</th>\n",
       "      <td>5733</td>\n",
       "    </tr>\n",
       "  </tbody>\n",
       "</table>\n",
       "</div>"
      ],
      "text/plain": [
       "                   crs_dep_time\n",
       "time_length_categ              \n",
       "long                          8\n",
       "medium                     4259\n",
       "short                      5733"
      ]
     },
     "execution_count": 49,
     "metadata": {},
     "output_type": "execute_result"
    }
   ],
   "source": [
    "tsk8_flts[['crs_dep_time','time_length_categ']].groupby(by = 'time_length_categ').count()"
   ]
  },
  {
   "cell_type": "code",
   "execution_count": 50,
   "metadata": {},
   "outputs": [
    {
     "data": {
      "text/plain": [
       "833     1000\n",
       "2202    2050\n",
       "2874    1000\n",
       "3821    2009\n",
       "4820    1644\n",
       "7101     935\n",
       "9345    1625\n",
       "9620     845\n",
       "Name: crs_dep_time, dtype: int64"
      ]
     },
     "execution_count": 50,
     "metadata": {},
     "output_type": "execute_result"
    }
   ],
   "source": [
    "#let's investigate the 8 long flights\n",
    "tsk8_flts[tsk8_flts['time_length_categ'] == 'long']['crs_dep_time']"
   ]
  },
  {
   "cell_type": "code",
   "execution_count": 51,
   "metadata": {
    "tags": []
   },
   "outputs": [
    {
     "name": "stderr",
     "output_type": "stream",
     "text": [
      "C:\\Users\\3_hal\\AppData\\Local\\Temp\\ipykernel_15016\\2066133117.py:2: SettingWithCopyWarning: \n",
      "A value is trying to be set on a copy of a slice from a DataFrame.\n",
      "Try using .loc[row_indexer,col_indexer] = value instead\n",
      "\n",
      "See the caveats in the documentation: https://pandas.pydata.org/pandas-docs/stable/user_guide/indexing.html#returning-a-view-versus-a-copy\n",
      "  tsk8_flts['hr'] = [dt.time(hour=x//100).strftime(\"%H:%M\") for x in tsk8_flts['crs_dep_time']]\n"
     ]
    }
   ],
   "source": [
    "#create new hr col to group\n",
    "tsk8_flts['hr'] = [dt.time(hour=x//100).strftime(\"%H:%M\") for x in tsk8_flts['crs_dep_time']]"
   ]
  },
  {
   "cell_type": "code",
   "execution_count": 52,
   "metadata": {
    "tags": []
   },
   "outputs": [
    {
     "data": {
      "text/html": [
       "<div>\n",
       "<style scoped>\n",
       "    .dataframe tbody tr th:only-of-type {\n",
       "        vertical-align: middle;\n",
       "    }\n",
       "\n",
       "    .dataframe tbody tr th {\n",
       "        vertical-align: top;\n",
       "    }\n",
       "\n",
       "    .dataframe thead th {\n",
       "        text-align: right;\n",
       "    }\n",
       "</style>\n",
       "<table border=\"1\" class=\"dataframe\">\n",
       "  <thead>\n",
       "    <tr style=\"text-align: right;\">\n",
       "      <th></th>\n",
       "      <th>distance</th>\n",
       "      <th>crs_dep_time</th>\n",
       "      <th>time_length_categ</th>\n",
       "      <th>hr</th>\n",
       "    </tr>\n",
       "  </thead>\n",
       "  <tbody>\n",
       "    <tr>\n",
       "      <th>0</th>\n",
       "      <td>822.0</td>\n",
       "      <td>705</td>\n",
       "      <td>medium</td>\n",
       "      <td>07:00</td>\n",
       "    </tr>\n",
       "    <tr>\n",
       "      <th>1</th>\n",
       "      <td>1005.0</td>\n",
       "      <td>800</td>\n",
       "      <td>medium</td>\n",
       "      <td>08:00</td>\n",
       "    </tr>\n",
       "    <tr>\n",
       "      <th>2</th>\n",
       "      <td>140.0</td>\n",
       "      <td>1034</td>\n",
       "      <td>short</td>\n",
       "      <td>10:00</td>\n",
       "    </tr>\n",
       "    <tr>\n",
       "      <th>3</th>\n",
       "      <td>773.0</td>\n",
       "      <td>2200</td>\n",
       "      <td>medium</td>\n",
       "      <td>22:00</td>\n",
       "    </tr>\n",
       "    <tr>\n",
       "      <th>4</th>\n",
       "      <td>1960.0</td>\n",
       "      <td>841</td>\n",
       "      <td>medium</td>\n",
       "      <td>08:00</td>\n",
       "    </tr>\n",
       "  </tbody>\n",
       "</table>\n",
       "</div>"
      ],
      "text/plain": [
       "   distance  crs_dep_time time_length_categ     hr\n",
       "0     822.0           705            medium  07:00\n",
       "1    1005.0           800            medium  08:00\n",
       "2     140.0          1034             short  10:00\n",
       "3     773.0          2200            medium  22:00\n",
       "4    1960.0           841            medium  08:00"
      ]
     },
     "execution_count": 52,
     "metadata": {},
     "output_type": "execute_result"
    }
   ],
   "source": [
    "tsk8_flts.head()"
   ]
  },
  {
   "cell_type": "code",
   "execution_count": 56,
   "metadata": {
    "tags": []
   },
   "outputs": [],
   "source": [
    "#let's group by category and hr and count the frequency\n",
    "tsk8_flts_plt = tsk8_flts[['hr','time_length_categ']].groupby(by = ['time_length_categ', 'hr']).size()    \n",
    "\n",
    "#tried count(), but didn't give me what I wanted. size() and .value_counts() same same"
   ]
  },
  {
   "cell_type": "code",
   "execution_count": 58,
   "metadata": {
    "collapsed": true,
    "jupyter": {
     "outputs_hidden": true
    },
    "tags": []
   },
   "outputs": [
    {
     "data": {
      "text/plain": [
       "time_length_categ  hr   \n",
       "long               08:00      1\n",
       "                   09:00      1\n",
       "                   10:00      2\n",
       "                   16:00      2\n",
       "                   20:00      2\n",
       "medium             00:00     29\n",
       "                   01:00      5\n",
       "                   02:00      3\n",
       "                   03:00      1\n",
       "                   05:00     90\n",
       "                   06:00    306\n",
       "                   07:00    335\n",
       "                   08:00    327\n",
       "                   09:00    247\n",
       "                   10:00    259\n",
       "                   11:00    303\n",
       "                   12:00    264\n",
       "                   13:00    219\n",
       "                   14:00    233\n",
       "                   15:00    221\n",
       "                   16:00    230\n",
       "                   17:00    256\n",
       "                   18:00    243\n",
       "                   19:00    241\n",
       "                   20:00    188\n",
       "                   21:00    131\n",
       "                   22:00     71\n",
       "                   23:00     57\n",
       "short              01:00      1\n",
       "                   05:00    139\n",
       "                   06:00    419\n",
       "                   07:00    339\n",
       "                   08:00    352\n",
       "                   09:00    336\n",
       "                   10:00    367\n",
       "                   11:00    324\n",
       "                   12:00    347\n",
       "                   13:00    327\n",
       "                   14:00    373\n",
       "                   15:00    348\n",
       "                   16:00    352\n",
       "                   17:00    424\n",
       "                   18:00    339\n",
       "                   19:00    286\n",
       "                   20:00    276\n",
       "                   21:00    178\n",
       "                   22:00    190\n",
       "                   23:00     16\n",
       "dtype: int64"
      ]
     },
     "execution_count": 58,
     "metadata": {},
     "output_type": "execute_result"
    }
   ],
   "source": [
    "tsk8_flts_plt"
   ]
  },
  {
   "cell_type": "code",
   "execution_count": 59,
   "metadata": {
    "tags": []
   },
   "outputs": [],
   "source": [
    "#take category and hr out of the index and name the count column. sort by hr so we can plot nicely\n",
    "tsk8_flts_plt = tsk8_flts_plt.reset_index().rename({0: 'hr_count'}, axis = 1).sort_values('hr')"
   ]
  },
  {
   "cell_type": "code",
   "execution_count": 60,
   "metadata": {},
   "outputs": [
    {
     "data": {
      "text/plain": [
       "<AxesSubplot:xlabel='hr', ylabel='hr_count'>"
      ]
     },
     "execution_count": 60,
     "metadata": {},
     "output_type": "execute_result"
    },
    {
     "data": {
      "image/png": "[encoded data removed]",
      "text/plain": [
       "<Figure size 1008x648 with 1 Axes>"
      ]
     },
     "metadata": {},
     "output_type": "display_data"
    }
   ],
   "source": [
    "import seaborn as sns\n",
    "sns.set(rc={'figure.figsize':(14,9)})\n",
    "sns.barplot(data=tsk8_flts_plt, x='hr', y='hr_count', hue='time_length_categ')"
   ]
  },
  {
   "cell_type": "code",
   "execution_count": 75,
   "metadata": {
    "tags": []
   },
   "outputs": [
    {
     "data": {
      "text/plain": [
       "time_length_categ    \n",
       "long               2       2\n",
       "                   3       2\n",
       "                   4       2\n",
       "medium             11    335\n",
       "short              41    424\n",
       "Name: hr_count, dtype: int64"
      ]
     },
     "execution_count": 75,
     "metadata": {},
     "output_type": "execute_result"
    }
   ],
   "source": [
    "#returns the index of the largest hour for each category (2, 11, 41) - how to print those hrs??\n",
    "tsk8_flts_plt.groupby(by = ['time_length_categ'])['hr_count'].nlargest(1, keep = 'all')"
   ]
  },
  {
   "cell_type": "code",
   "execution_count": 99,
   "metadata": {},
   "outputs": [
    {
     "data": {
      "text/html": [
       "<div>\n",
       "<style scoped>\n",
       "    .dataframe tbody tr th:only-of-type {\n",
       "        vertical-align: middle;\n",
       "    }\n",
       "\n",
       "    .dataframe tbody tr th {\n",
       "        vertical-align: top;\n",
       "    }\n",
       "\n",
       "    .dataframe thead th {\n",
       "        text-align: right;\n",
       "    }\n",
       "</style>\n",
       "<table border=\"1\" class=\"dataframe\">\n",
       "  <thead>\n",
       "    <tr style=\"text-align: right;\">\n",
       "      <th></th>\n",
       "      <th>time_length_categ</th>\n",
       "      <th>hr</th>\n",
       "      <th>hr_count</th>\n",
       "    </tr>\n",
       "  </thead>\n",
       "  <tbody>\n",
       "    <tr>\n",
       "      <th>41</th>\n",
       "      <td>short</td>\n",
       "      <td>17:00</td>\n",
       "      <td>424</td>\n",
       "    </tr>\n",
       "    <tr>\n",
       "      <th>11</th>\n",
       "      <td>medium</td>\n",
       "      <td>07:00</td>\n",
       "      <td>335</td>\n",
       "    </tr>\n",
       "    <tr>\n",
       "      <th>4</th>\n",
       "      <td>long</td>\n",
       "      <td>20:00</td>\n",
       "      <td>2</td>\n",
       "    </tr>\n",
       "  </tbody>\n",
       "</table>\n",
       "</div>"
      ],
      "text/plain": [
       "   time_length_categ     hr  hr_count\n",
       "41             short  17:00       424\n",
       "11            medium  07:00       335\n",
       "4               long  20:00         2"
      ]
     },
     "execution_count": 99,
     "metadata": {},
     "output_type": "execute_result"
    }
   ],
   "source": [
    "df1 = tsk8_flts_plt.groupby(by = ['time_length_categ', 'hr'], as_index = False).value_counts()\n",
    "df1.sort_values(by = ['hr_count'], ascending = False).groupby(by = 'time_length_categ').head(1).drop('count', axis = 1)"
   ]
  },
  {
   "cell_type": "markdown",
   "metadata": {},
   "source": [
    "#### **Task 10**: Do bigger delays lead to bigger fuel comsumption per passenger? \n",
    "We need to do four things to answer this as accurate as possible:\n",
    "- Find out average monthly delay per air carrier (monthly delay is sum of all delays in 1 month)\n",
    "- Find out distance covered monthly by different air carriers\n",
    "- Find out number of passengers that were carried by different air carriers\n",
    "- Find out total fuel comsumption per air carrier.\n",
    "\n",
    "Use this information to get the average fuel comsumption per passenger per km. Is this higher for the airlines with bigger average delays?"
   ]
  },
  {
   "cell_type": "code",
   "execution_count": null,
   "metadata": {},
   "outputs": [],
   "source": []
  },
  {
   "cell_type": "code",
   "execution_count": null,
   "metadata": {},
   "outputs": [],
   "source": []
  }
 ],
 "metadata": {
  "kernelspec": {
   "display_name": "lighthouse_env",
   "language": "python",
   "name": "lighthouse_env"
  },
  "language_info": {
   "codemirror_mode": {
    "name": "ipython",
    "version": 3
   },
   "file_extension": ".py",
   "mimetype": "text/x-python",
   "name": "python",
   "nbconvert_exporter": "python",
   "pygments_lexer": "ipython3",
   "version": "3.9.13"
  },
  "toc": {
   "base_numbering": 1,
   "nav_menu": {},
   "number_sections": true,
   "sideBar": true,
   "skip_h1_title": false,
   "title_cell": "Table of Contents",
   "title_sidebar": "Contents",
   "toc_cell": false,
   "toc_position": {},
   "toc_section_display": true,
   "toc_window_display": false
  },
  "varInspector": {
   "cols": {
    "lenName": 16,
    "lenType": 16,
    "lenVar": 40
   },
   "kernels_config": {
    "python": {
     "delete_cmd_postfix": "",
     "delete_cmd_prefix": "del ",
     "library": "var_list.py",
     "varRefreshCmd": "print(var_dic_list())"
    },
    "r": {
     "delete_cmd_postfix": ") ",
     "delete_cmd_prefix": "rm(",
     "library": "var_list.r",
     "varRefreshCmd": "cat(var_dic_list()) "
    }
   },
   "types_to_exclude": [
    "module",
    "function",
    "builtin_function_or_method",
    "instance",
    "_Feature"
   ],
   "window_display": false
  }
 },
 "nbformat": 4,
 "nbformat_minor": 4
}
