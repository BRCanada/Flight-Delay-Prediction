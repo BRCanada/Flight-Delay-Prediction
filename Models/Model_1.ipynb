{
 "cells": [
  {
   "cell_type": "markdown",
   "id": "3c3180d0-1f08-4fa7-8a4f-030eebb48c7a",
   "metadata": {},
   "source": [
    "# Data Prep for Model 1\n",
    "In this notebook we will clean the flights_10000 dataset\n",
    "\n",
    "We will incoporate these additional features: weather, categorical variables to numeric variables"
   ]
  },
  {
   "cell_type": "code",
   "execution_count": 20,
   "id": "3ced9d20-07ba-4fda-8bc0-fc7543f6ecfd",
   "metadata": {},
   "outputs": [],
   "source": [
    "# Import sys so we can import custom packages without error\n",
    "import sys\n",
    "sys.path.append('../')"
   ]
  },
  {
   "cell_type": "code",
   "execution_count": 1,
   "id": "4253b7e8-734d-4cfe-8a24-eece5ed269b7",
   "metadata": {},
   "outputs": [],
   "source": [
    "import pandas as pd\n",
    "from sklearn.model_selection import train_test_split\n",
    "from src.modules.data_preprocessing import time_of_day, feature_categorizer, make_regions\n",
    "\n",
    "import warnings\n",
    "warnings.filterwarnings('ignore')"
   ]
  },
  {
   "cell_type": "code",
   "execution_count": 4,
   "id": "fdad10fb-e27d-493e-803d-e8f2beae955f",
   "metadata": {},
   "outputs": [],
   "source": [
    "flights = pd.read_csv('../data/flights_10000.csv')"
   ]
  },
  {
   "cell_type": "code",
   "execution_count": 5,
   "id": "04119c72-950f-4c3d-8d7b-b032987d3dde",
   "metadata": {},
   "outputs": [
    {
     "data": {
      "text/html": [
       "<div>\n",
       "<style scoped>\n",
       "    .dataframe tbody tr th:only-of-type {\n",
       "        vertical-align: middle;\n",
       "    }\n",
       "\n",
       "    .dataframe tbody tr th {\n",
       "        vertical-align: top;\n",
       "    }\n",
       "\n",
       "    .dataframe thead th {\n",
       "        text-align: right;\n",
       "    }\n",
       "</style>\n",
       "<table border=\"1\" class=\"dataframe\">\n",
       "  <thead>\n",
       "    <tr style=\"text-align: right;\">\n",
       "      <th></th>\n",
       "      <th>fl_date</th>\n",
       "      <th>mkt_unique_carrier</th>\n",
       "      <th>branded_code_share</th>\n",
       "      <th>mkt_carrier</th>\n",
       "      <th>mkt_carrier_fl_num</th>\n",
       "      <th>op_unique_carrier</th>\n",
       "      <th>tail_num</th>\n",
       "      <th>op_carrier_fl_num</th>\n",
       "      <th>origin_airport_id</th>\n",
       "      <th>origin</th>\n",
       "      <th>...</th>\n",
       "      <th>weather_delay</th>\n",
       "      <th>nas_delay</th>\n",
       "      <th>security_delay</th>\n",
       "      <th>late_aircraft_delay</th>\n",
       "      <th>first_dep_time</th>\n",
       "      <th>total_add_gtime</th>\n",
       "      <th>longest_add_gtime</th>\n",
       "      <th>no_name</th>\n",
       "      <th>orig_weather_categ</th>\n",
       "      <th>dest_weather_categ</th>\n",
       "    </tr>\n",
       "  </thead>\n",
       "  <tbody>\n",
       "    <tr>\n",
       "      <th>0</th>\n",
       "      <td>2018-07-10</td>\n",
       "      <td>WN</td>\n",
       "      <td>WN</td>\n",
       "      <td>WN</td>\n",
       "      <td>2212</td>\n",
       "      <td>WN</td>\n",
       "      <td>N958WN</td>\n",
       "      <td>2212</td>\n",
       "      <td>14683</td>\n",
       "      <td>SAT</td>\n",
       "      <td>...</td>\n",
       "      <td>NaN</td>\n",
       "      <td>NaN</td>\n",
       "      <td>NaN</td>\n",
       "      <td>NaN</td>\n",
       "      <td>NaN</td>\n",
       "      <td>NaN</td>\n",
       "      <td>NaN</td>\n",
       "      <td>NaN</td>\n",
       "      <td>cloudy</td>\n",
       "      <td>cloudy</td>\n",
       "    </tr>\n",
       "    <tr>\n",
       "      <th>1</th>\n",
       "      <td>2019-10-10</td>\n",
       "      <td>UA</td>\n",
       "      <td>UA</td>\n",
       "      <td>UA</td>\n",
       "      <td>206</td>\n",
       "      <td>UA</td>\n",
       "      <td>N68811</td>\n",
       "      <td>206</td>\n",
       "      <td>13930</td>\n",
       "      <td>ORD</td>\n",
       "      <td>...</td>\n",
       "      <td>NaN</td>\n",
       "      <td>NaN</td>\n",
       "      <td>NaN</td>\n",
       "      <td>NaN</td>\n",
       "      <td>NaN</td>\n",
       "      <td>NaN</td>\n",
       "      <td>NaN</td>\n",
       "      <td>NaN</td>\n",
       "      <td>rain</td>\n",
       "      <td>rain</td>\n",
       "    </tr>\n",
       "  </tbody>\n",
       "</table>\n",
       "<p>2 rows × 44 columns</p>\n",
       "</div>"
      ],
      "text/plain": [
       "      fl_date mkt_unique_carrier branded_code_share mkt_carrier  \\\n",
       "0  2018-07-10                 WN                 WN          WN   \n",
       "1  2019-10-10                 UA                 UA          UA   \n",
       "\n",
       "   mkt_carrier_fl_num op_unique_carrier tail_num  op_carrier_fl_num  \\\n",
       "0                2212                WN   N958WN               2212   \n",
       "1                 206                UA   N68811                206   \n",
       "\n",
       "   origin_airport_id origin  ... weather_delay  nas_delay security_delay  \\\n",
       "0              14683    SAT  ...           NaN        NaN            NaN   \n",
       "1              13930    ORD  ...           NaN        NaN            NaN   \n",
       "\n",
       "  late_aircraft_delay  first_dep_time  total_add_gtime  longest_add_gtime  \\\n",
       "0                 NaN             NaN              NaN                NaN   \n",
       "1                 NaN             NaN              NaN                NaN   \n",
       "\n",
       "   no_name  orig_weather_categ  dest_weather_categ  \n",
       "0      NaN              cloudy              cloudy  \n",
       "1      NaN                rain                rain  \n",
       "\n",
       "[2 rows x 44 columns]"
      ]
     },
     "execution_count": 5,
     "metadata": {},
     "output_type": "execute_result"
    }
   ],
   "source": [
    "flights.head(2)"
   ]
  },
  {
   "cell_type": "markdown",
   "id": "e9fe6f12-bd7a-40f5-9682-61c9733964d1",
   "metadata": {
    "tags": []
   },
   "source": [
    "## Replace null with 0"
   ]
  },
  {
   "cell_type": "code",
   "execution_count": 6,
   "id": "81f214fd-4d13-4f63-a131-79338f4ea2f8",
   "metadata": {
    "tags": []
   },
   "outputs": [
    {
     "data": {
      "text/plain": [
       "fl_date                    0\n",
       "mkt_unique_carrier         0\n",
       "branded_code_share         0\n",
       "mkt_carrier                0\n",
       "mkt_carrier_fl_num         0\n",
       "op_unique_carrier          0\n",
       "tail_num                  31\n",
       "op_carrier_fl_num          0\n",
       "origin_airport_id          0\n",
       "origin                     0\n",
       "origin_city_name           0\n",
       "dest_airport_id            0\n",
       "dest                       0\n",
       "dest_city_name             0\n",
       "crs_dep_time               0\n",
       "dep_time                 151\n",
       "dep_delay                156\n",
       "taxi_out                 159\n",
       "wheels_off               159\n",
       "wheels_on                167\n",
       "taxi_in                  167\n",
       "crs_arr_time               0\n",
       "arr_time                 163\n",
       "arr_delay                193\n",
       "cancelled                  0\n",
       "cancellation_code       9842\n",
       "diverted                   0\n",
       "dup                        0\n",
       "crs_elapsed_time           0\n",
       "actual_elapsed_time      191\n",
       "air_time                 195\n",
       "flights                    0\n",
       "distance                   0\n",
       "carrier_delay           8148\n",
       "weather_delay           8148\n",
       "nas_delay               8148\n",
       "security_delay          8148\n",
       "late_aircraft_delay     8148\n",
       "first_dep_time          9927\n",
       "total_add_gtime         9927\n",
       "longest_add_gtime       9927\n",
       "no_name                10000\n",
       "orig_weather_categ         0\n",
       "dest_weather_categ         0\n",
       "dtype: int64"
      ]
     },
     "execution_count": 6,
     "metadata": {},
     "output_type": "execute_result"
    }
   ],
   "source": [
    "pd.isnull(flights).sum()"
   ]
  },
  {
   "cell_type": "code",
   "execution_count": 7,
   "id": "9153815e-1761-4e8e-92d8-7350f5964374",
   "metadata": {},
   "outputs": [],
   "source": [
    "flights.fillna(0, inplace = True)"
   ]
  },
  {
   "cell_type": "markdown",
   "id": "9c94d3c3-2a22-4839-8bf2-1ad788fd8af8",
   "metadata": {},
   "source": [
    "## Remove features"
   ]
  },
  {
   "cell_type": "code",
   "execution_count": 8,
   "id": "1e027457-c46c-46e5-b10d-512f42479249",
   "metadata": {},
   "outputs": [],
   "source": [
    "#remove categorical int features\n",
    "flights.drop(['mkt_carrier_fl_num', 'op_carrier_fl_num', 'origin_airport_id', 'dest_airport_id', 'dep_delay', \n",
    "                 'first_dep_time', 'total_add_gtime', 'longest_add_gtime', 'no_name', 'taxi_out', 'wheels_off', \n",
    "                 'wheels_on', 'taxi_in', 'arr_time', 'cancelled', 'diverted', 'actual_elapsed_time', 'dep_time','air_time',], axis = 1, inplace = True)"
   ]
  },
  {
   "cell_type": "code",
   "execution_count": 9,
   "id": "6034ca0d-16b8-43d8-84be-50b0461d55de",
   "metadata": {},
   "outputs": [],
   "source": [
    "#remove unwanted object features\n",
    "flights.drop(['branded_code_share', 'mkt_carrier', 'op_unique_carrier', 'tail_num', 'dup', 'cancellation_code'], axis = 1, inplace = True)"
   ]
  },
  {
   "cell_type": "code",
   "execution_count": 10,
   "id": "d5e27641-d13b-4a11-9711-1334fbf5bf53",
   "metadata": {},
   "outputs": [],
   "source": [
    "#drop delay features (these will not be known and should not be used for training)\n",
    "flights.drop(['carrier_delay', 'weather_delay', 'nas_delay', 'security_delay', 'late_aircraft_delay'], axis = 1, inplace = True)"
   ]
  },
  {
   "cell_type": "code",
   "execution_count": 11,
   "id": "0b25a070-8dba-488f-a6ba-9b91d300de97",
   "metadata": {},
   "outputs": [
    {
     "data": {
      "text/plain": [
       "fl_date                object\n",
       "mkt_unique_carrier     object\n",
       "origin                 object\n",
       "origin_city_name       object\n",
       "dest                   object\n",
       "dest_city_name         object\n",
       "crs_dep_time            int64\n",
       "crs_arr_time            int64\n",
       "arr_delay             float64\n",
       "crs_elapsed_time      float64\n",
       "flights               float64\n",
       "distance              float64\n",
       "orig_weather_categ     object\n",
       "dest_weather_categ     object\n",
       "dtype: object"
      ]
     },
     "execution_count": 11,
     "metadata": {},
     "output_type": "execute_result"
    }
   ],
   "source": [
    "flights.dtypes"
   ]
  },
  {
   "cell_type": "code",
   "execution_count": 12,
   "id": "09a3bdda-cdfd-4930-8e25-83c0444d3687",
   "metadata": {},
   "outputs": [
    {
     "data": {
      "text/html": [
       "<div>\n",
       "<style scoped>\n",
       "    .dataframe tbody tr th:only-of-type {\n",
       "        vertical-align: middle;\n",
       "    }\n",
       "\n",
       "    .dataframe tbody tr th {\n",
       "        vertical-align: top;\n",
       "    }\n",
       "\n",
       "    .dataframe thead th {\n",
       "        text-align: right;\n",
       "    }\n",
       "</style>\n",
       "<table border=\"1\" class=\"dataframe\">\n",
       "  <thead>\n",
       "    <tr style=\"text-align: right;\">\n",
       "      <th></th>\n",
       "      <th>fl_date</th>\n",
       "      <th>mkt_unique_carrier</th>\n",
       "      <th>origin</th>\n",
       "      <th>origin_city_name</th>\n",
       "      <th>dest</th>\n",
       "      <th>dest_city_name</th>\n",
       "      <th>crs_dep_time</th>\n",
       "      <th>crs_arr_time</th>\n",
       "      <th>arr_delay</th>\n",
       "      <th>crs_elapsed_time</th>\n",
       "      <th>flights</th>\n",
       "      <th>distance</th>\n",
       "      <th>orig_weather_categ</th>\n",
       "      <th>dest_weather_categ</th>\n",
       "    </tr>\n",
       "  </thead>\n",
       "  <tbody>\n",
       "    <tr>\n",
       "      <th>0</th>\n",
       "      <td>2018-07-10</td>\n",
       "      <td>WN</td>\n",
       "      <td>SAT</td>\n",
       "      <td>San Antonio, TX</td>\n",
       "      <td>BNA</td>\n",
       "      <td>Nashville, TN</td>\n",
       "      <td>705</td>\n",
       "      <td>915</td>\n",
       "      <td>-2.0</td>\n",
       "      <td>130.0</td>\n",
       "      <td>1.0</td>\n",
       "      <td>822.0</td>\n",
       "      <td>cloudy</td>\n",
       "      <td>cloudy</td>\n",
       "    </tr>\n",
       "    <tr>\n",
       "      <th>1</th>\n",
       "      <td>2019-10-10</td>\n",
       "      <td>UA</td>\n",
       "      <td>ORD</td>\n",
       "      <td>Chicago, IL</td>\n",
       "      <td>MCO</td>\n",
       "      <td>Orlando, FL</td>\n",
       "      <td>800</td>\n",
       "      <td>1148</td>\n",
       "      <td>-9.0</td>\n",
       "      <td>168.0</td>\n",
       "      <td>1.0</td>\n",
       "      <td>1005.0</td>\n",
       "      <td>rain</td>\n",
       "      <td>rain</td>\n",
       "    </tr>\n",
       "  </tbody>\n",
       "</table>\n",
       "</div>"
      ],
      "text/plain": [
       "      fl_date mkt_unique_carrier origin origin_city_name dest dest_city_name  \\\n",
       "0  2018-07-10                 WN    SAT  San Antonio, TX  BNA  Nashville, TN   \n",
       "1  2019-10-10                 UA    ORD      Chicago, IL  MCO    Orlando, FL   \n",
       "\n",
       "   crs_dep_time  crs_arr_time  arr_delay  crs_elapsed_time  flights  distance  \\\n",
       "0           705           915       -2.0             130.0      1.0     822.0   \n",
       "1           800          1148       -9.0             168.0      1.0    1005.0   \n",
       "\n",
       "  orig_weather_categ dest_weather_categ  \n",
       "0             cloudy             cloudy  \n",
       "1               rain               rain  "
      ]
     },
     "execution_count": 12,
     "metadata": {},
     "output_type": "execute_result"
    }
   ],
   "source": [
    "flights.head(2)"
   ]
  },
  {
   "cell_type": "markdown",
   "id": "e21e0289-0813-45b3-87bb-1046344e27a4",
   "metadata": {
    "tags": []
   },
   "source": [
    "### Turn date time to year, month, day"
   ]
  },
  {
   "cell_type": "code",
   "execution_count": 13,
   "id": "3c4d17d7-428c-44f6-802c-da24170b8b7d",
   "metadata": {},
   "outputs": [],
   "source": [
    "flights['fl_date'] = pd.to_datetime(flights['fl_date'])"
   ]
  },
  {
   "cell_type": "code",
   "execution_count": 14,
   "id": "6d341213-b178-4515-af87-cea9d3a02d96",
   "metadata": {},
   "outputs": [],
   "source": [
    "#split date into three cols\n",
    "import datetime as dt\n",
    "flights['year'] = flights['fl_date'].dt.year\n",
    "flights['month'] = flights['fl_date'].dt.month\n",
    "flights['day'] = flights['fl_date'].dt.day"
   ]
  },
  {
   "cell_type": "code",
   "execution_count": 15,
   "id": "62997c65-2475-4454-bb95-0f636ec10282",
   "metadata": {},
   "outputs": [],
   "source": [
    "flights.drop(['fl_date'],axis = 1, inplace = True)"
   ]
  },
  {
   "cell_type": "code",
   "execution_count": 16,
   "id": "8f632d2a-5660-4711-83de-41f2a31ff4ec",
   "metadata": {},
   "outputs": [
    {
     "data": {
      "text/html": [
       "<div>\n",
       "<style scoped>\n",
       "    .dataframe tbody tr th:only-of-type {\n",
       "        vertical-align: middle;\n",
       "    }\n",
       "\n",
       "    .dataframe tbody tr th {\n",
       "        vertical-align: top;\n",
       "    }\n",
       "\n",
       "    .dataframe thead th {\n",
       "        text-align: right;\n",
       "    }\n",
       "</style>\n",
       "<table border=\"1\" class=\"dataframe\">\n",
       "  <thead>\n",
       "    <tr style=\"text-align: right;\">\n",
       "      <th></th>\n",
       "      <th>mkt_unique_carrier</th>\n",
       "      <th>origin</th>\n",
       "      <th>origin_city_name</th>\n",
       "      <th>dest</th>\n",
       "      <th>dest_city_name</th>\n",
       "      <th>crs_dep_time</th>\n",
       "      <th>crs_arr_time</th>\n",
       "      <th>arr_delay</th>\n",
       "      <th>crs_elapsed_time</th>\n",
       "      <th>flights</th>\n",
       "      <th>distance</th>\n",
       "      <th>orig_weather_categ</th>\n",
       "      <th>dest_weather_categ</th>\n",
       "      <th>year</th>\n",
       "      <th>month</th>\n",
       "      <th>day</th>\n",
       "    </tr>\n",
       "  </thead>\n",
       "  <tbody>\n",
       "    <tr>\n",
       "      <th>0</th>\n",
       "      <td>WN</td>\n",
       "      <td>SAT</td>\n",
       "      <td>San Antonio, TX</td>\n",
       "      <td>BNA</td>\n",
       "      <td>Nashville, TN</td>\n",
       "      <td>705</td>\n",
       "      <td>915</td>\n",
       "      <td>-2.0</td>\n",
       "      <td>130.0</td>\n",
       "      <td>1.0</td>\n",
       "      <td>822.0</td>\n",
       "      <td>cloudy</td>\n",
       "      <td>cloudy</td>\n",
       "      <td>2018</td>\n",
       "      <td>7</td>\n",
       "      <td>10</td>\n",
       "    </tr>\n",
       "  </tbody>\n",
       "</table>\n",
       "</div>"
      ],
      "text/plain": [
       "  mkt_unique_carrier origin origin_city_name dest dest_city_name  \\\n",
       "0                 WN    SAT  San Antonio, TX  BNA  Nashville, TN   \n",
       "\n",
       "   crs_dep_time  crs_arr_time  arr_delay  crs_elapsed_time  flights  distance  \\\n",
       "0           705           915       -2.0             130.0      1.0     822.0   \n",
       "\n",
       "  orig_weather_categ dest_weather_categ  year  month  day  \n",
       "0             cloudy             cloudy  2018      7   10  "
      ]
     },
     "execution_count": 16,
     "metadata": {},
     "output_type": "execute_result"
    }
   ],
   "source": [
    "flights.head(1)"
   ]
  },
  {
   "cell_type": "markdown",
   "id": "d4e05dd8-c795-4c61-b7d6-f9e8de10d9c2",
   "metadata": {
    "tags": []
   },
   "source": [
    "## Add Features\n",
    "### Add time of day feature"
   ]
  },
  {
   "cell_type": "code",
   "execution_count": 17,
   "id": "5ecb12e9-5857-41cc-b36b-ab01e5093c57",
   "metadata": {},
   "outputs": [],
   "source": [
    "flights['dep_time_of_day'] = flights.apply(lambda df: time_of_day(df, method='dep'), axis=1)\n",
    "flights['arr_time_of_day'] = flights.apply(lambda df: time_of_day(df, method='arr'), axis=1)"
   ]
  },
  {
   "cell_type": "code",
   "execution_count": 18,
   "id": "8fab7cff-3302-4d57-a22e-8a332227647e",
   "metadata": {},
   "outputs": [],
   "source": [
    "feature_categorizer(flights[['dep_time_of_day','arr_time_of_day']], flights)"
   ]
  },
  {
   "cell_type": "code",
   "execution_count": 19,
   "id": "b2b2032f-74ff-4e35-8189-209f81a8bdc1",
   "metadata": {},
   "outputs": [
    {
     "data": {
      "text/html": [
       "<div>\n",
       "<style scoped>\n",
       "    .dataframe tbody tr th:only-of-type {\n",
       "        vertical-align: middle;\n",
       "    }\n",
       "\n",
       "    .dataframe tbody tr th {\n",
       "        vertical-align: top;\n",
       "    }\n",
       "\n",
       "    .dataframe thead th {\n",
       "        text-align: right;\n",
       "    }\n",
       "</style>\n",
       "<table border=\"1\" class=\"dataframe\">\n",
       "  <thead>\n",
       "    <tr style=\"text-align: right;\">\n",
       "      <th></th>\n",
       "      <th>mkt_unique_carrier</th>\n",
       "      <th>origin</th>\n",
       "      <th>origin_city_name</th>\n",
       "      <th>dest</th>\n",
       "      <th>dest_city_name</th>\n",
       "      <th>crs_dep_time</th>\n",
       "      <th>crs_arr_time</th>\n",
       "      <th>arr_delay</th>\n",
       "      <th>crs_elapsed_time</th>\n",
       "      <th>flights</th>\n",
       "      <th>distance</th>\n",
       "      <th>orig_weather_categ</th>\n",
       "      <th>dest_weather_categ</th>\n",
       "      <th>year</th>\n",
       "      <th>month</th>\n",
       "      <th>day</th>\n",
       "      <th>dep_time_of_day</th>\n",
       "      <th>arr_time_of_day</th>\n",
       "    </tr>\n",
       "  </thead>\n",
       "  <tbody>\n",
       "    <tr>\n",
       "      <th>0</th>\n",
       "      <td>WN</td>\n",
       "      <td>SAT</td>\n",
       "      <td>San Antonio, TX</td>\n",
       "      <td>BNA</td>\n",
       "      <td>Nashville, TN</td>\n",
       "      <td>705</td>\n",
       "      <td>915</td>\n",
       "      <td>-2.0</td>\n",
       "      <td>130.0</td>\n",
       "      <td>1.0</td>\n",
       "      <td>822.0</td>\n",
       "      <td>cloudy</td>\n",
       "      <td>cloudy</td>\n",
       "      <td>2018</td>\n",
       "      <td>7</td>\n",
       "      <td>10</td>\n",
       "      <td>0</td>\n",
       "      <td>0</td>\n",
       "    </tr>\n",
       "    <tr>\n",
       "      <th>1</th>\n",
       "      <td>UA</td>\n",
       "      <td>ORD</td>\n",
       "      <td>Chicago, IL</td>\n",
       "      <td>MCO</td>\n",
       "      <td>Orlando, FL</td>\n",
       "      <td>800</td>\n",
       "      <td>1148</td>\n",
       "      <td>-9.0</td>\n",
       "      <td>168.0</td>\n",
       "      <td>1.0</td>\n",
       "      <td>1005.0</td>\n",
       "      <td>rain</td>\n",
       "      <td>rain</td>\n",
       "      <td>2019</td>\n",
       "      <td>10</td>\n",
       "      <td>10</td>\n",
       "      <td>0</td>\n",
       "      <td>0</td>\n",
       "    </tr>\n",
       "  </tbody>\n",
       "</table>\n",
       "</div>"
      ],
      "text/plain": [
       "  mkt_unique_carrier origin origin_city_name dest dest_city_name  \\\n",
       "0                 WN    SAT  San Antonio, TX  BNA  Nashville, TN   \n",
       "1                 UA    ORD      Chicago, IL  MCO    Orlando, FL   \n",
       "\n",
       "   crs_dep_time  crs_arr_time  arr_delay  crs_elapsed_time  flights  distance  \\\n",
       "0           705           915       -2.0             130.0      1.0     822.0   \n",
       "1           800          1148       -9.0             168.0      1.0    1005.0   \n",
       "\n",
       "  orig_weather_categ dest_weather_categ  year  month  day  dep_time_of_day  \\\n",
       "0             cloudy             cloudy  2018      7   10                0   \n",
       "1               rain               rain  2019     10   10                0   \n",
       "\n",
       "   arr_time_of_day  \n",
       "0                0  \n",
       "1                0  "
      ]
     },
     "execution_count": 19,
     "metadata": {},
     "output_type": "execute_result"
    }
   ],
   "source": [
    "flights.head(2)"
   ]
  },
  {
   "cell_type": "code",
   "execution_count": 20,
   "id": "7954ee90-fd0b-4c5c-be2b-fdd49b0780b1",
   "metadata": {
    "tags": []
   },
   "outputs": [
    {
     "data": {
      "text/plain": [
       "mkt_unique_carrier     object\n",
       "origin                 object\n",
       "origin_city_name       object\n",
       "dest                   object\n",
       "dest_city_name         object\n",
       "crs_dep_time            int64\n",
       "crs_arr_time            int64\n",
       "arr_delay             float64\n",
       "crs_elapsed_time      float64\n",
       "flights               float64\n",
       "distance              float64\n",
       "orig_weather_categ     object\n",
       "dest_weather_categ     object\n",
       "year                    int64\n",
       "month                   int64\n",
       "day                     int64\n",
       "dep_time_of_day         int64\n",
       "arr_time_of_day         int64\n",
       "dtype: object"
      ]
     },
     "execution_count": 20,
     "metadata": {},
     "output_type": "execute_result"
    }
   ],
   "source": [
    "flights.dtypes"
   ]
  },
  {
   "cell_type": "markdown",
   "id": "b8e756f7-24e1-4603-b772-ea7d37e1fce6",
   "metadata": {},
   "source": [
    "## Add Regions"
   ]
  },
  {
   "cell_type": "code",
   "execution_count": 21,
   "id": "fb99983a-8032-4b5d-81a1-5f94af801e27",
   "metadata": {},
   "outputs": [],
   "source": [
    "def o_state_creator(row):\n",
    "    return str(row[\"origin_city_name\"].split(', ')[1]) \n",
    "def d_state_creator(row):\n",
    "    return str(row[\"dest_city_name\"].split(', ')[1]) "
   ]
  },
  {
   "cell_type": "code",
   "execution_count": 22,
   "id": "1b020984-5720-4fc9-9283-f6122702671e",
   "metadata": {
    "tags": []
   },
   "outputs": [],
   "source": [
    "#adding state to the whole data frame\n",
    "flights[\"orig_state_id\"] = flights.apply(o_state_creator, axis = 1)    "
   ]
  },
  {
   "cell_type": "code",
   "execution_count": 23,
   "id": "64e7c30e-89c7-4a99-8e5a-fcd17f1706cf",
   "metadata": {},
   "outputs": [],
   "source": [
    "flights[\"dest_state_id\"] = flights.apply(d_state_creator, axis = 1)"
   ]
  },
  {
   "cell_type": "code",
   "execution_count": 24,
   "id": "7e2d0dc1-b685-486e-898a-d649e421a92f",
   "metadata": {},
   "outputs": [
    {
     "data": {
      "text/html": [
       "<div>\n",
       "<style scoped>\n",
       "    .dataframe tbody tr th:only-of-type {\n",
       "        vertical-align: middle;\n",
       "    }\n",
       "\n",
       "    .dataframe tbody tr th {\n",
       "        vertical-align: top;\n",
       "    }\n",
       "\n",
       "    .dataframe thead th {\n",
       "        text-align: right;\n",
       "    }\n",
       "</style>\n",
       "<table border=\"1\" class=\"dataframe\">\n",
       "  <thead>\n",
       "    <tr style=\"text-align: right;\">\n",
       "      <th></th>\n",
       "      <th>mkt_unique_carrier</th>\n",
       "      <th>origin</th>\n",
       "      <th>origin_city_name</th>\n",
       "      <th>dest</th>\n",
       "      <th>dest_city_name</th>\n",
       "      <th>crs_dep_time</th>\n",
       "      <th>crs_arr_time</th>\n",
       "      <th>arr_delay</th>\n",
       "      <th>crs_elapsed_time</th>\n",
       "      <th>flights</th>\n",
       "      <th>distance</th>\n",
       "      <th>orig_weather_categ</th>\n",
       "      <th>dest_weather_categ</th>\n",
       "      <th>year</th>\n",
       "      <th>month</th>\n",
       "      <th>day</th>\n",
       "      <th>dep_time_of_day</th>\n",
       "      <th>arr_time_of_day</th>\n",
       "      <th>orig_state_id</th>\n",
       "      <th>dest_state_id</th>\n",
       "    </tr>\n",
       "  </thead>\n",
       "  <tbody>\n",
       "    <tr>\n",
       "      <th>0</th>\n",
       "      <td>WN</td>\n",
       "      <td>SAT</td>\n",
       "      <td>San Antonio, TX</td>\n",
       "      <td>BNA</td>\n",
       "      <td>Nashville, TN</td>\n",
       "      <td>705</td>\n",
       "      <td>915</td>\n",
       "      <td>-2.0</td>\n",
       "      <td>130.0</td>\n",
       "      <td>1.0</td>\n",
       "      <td>822.0</td>\n",
       "      <td>cloudy</td>\n",
       "      <td>cloudy</td>\n",
       "      <td>2018</td>\n",
       "      <td>7</td>\n",
       "      <td>10</td>\n",
       "      <td>0</td>\n",
       "      <td>0</td>\n",
       "      <td>TX</td>\n",
       "      <td>TN</td>\n",
       "    </tr>\n",
       "  </tbody>\n",
       "</table>\n",
       "</div>"
      ],
      "text/plain": [
       "  mkt_unique_carrier origin origin_city_name dest dest_city_name  \\\n",
       "0                 WN    SAT  San Antonio, TX  BNA  Nashville, TN   \n",
       "\n",
       "   crs_dep_time  crs_arr_time  arr_delay  crs_elapsed_time  flights  distance  \\\n",
       "0           705           915       -2.0             130.0      1.0     822.0   \n",
       "\n",
       "  orig_weather_categ dest_weather_categ  year  month  day  dep_time_of_day  \\\n",
       "0             cloudy             cloudy  2018      7   10                0   \n",
       "\n",
       "   arr_time_of_day orig_state_id dest_state_id  \n",
       "0                0            TX            TN  "
      ]
     },
     "execution_count": 24,
     "metadata": {},
     "output_type": "execute_result"
    }
   ],
   "source": [
    "flights.head(1)"
   ]
  },
  {
   "cell_type": "code",
   "execution_count": 25,
   "id": "209fd306-fbb4-413e-8710-7e33779f9b84",
   "metadata": {
    "tags": []
   },
   "outputs": [],
   "source": [
    "make_regions(flights, 'orig_state_id')\n",
    "make_regions(flights, 'dest_state_id')"
   ]
  },
  {
   "cell_type": "code",
   "execution_count": 26,
   "id": "7ab73cbb-6d3e-40fe-800e-adce8318b0e9",
   "metadata": {},
   "outputs": [
    {
     "data": {
      "text/html": [
       "<div>\n",
       "<style scoped>\n",
       "    .dataframe tbody tr th:only-of-type {\n",
       "        vertical-align: middle;\n",
       "    }\n",
       "\n",
       "    .dataframe tbody tr th {\n",
       "        vertical-align: top;\n",
       "    }\n",
       "\n",
       "    .dataframe thead th {\n",
       "        text-align: right;\n",
       "    }\n",
       "</style>\n",
       "<table border=\"1\" class=\"dataframe\">\n",
       "  <thead>\n",
       "    <tr style=\"text-align: right;\">\n",
       "      <th></th>\n",
       "      <th>mkt_unique_carrier</th>\n",
       "      <th>origin</th>\n",
       "      <th>origin_city_name</th>\n",
       "      <th>dest</th>\n",
       "      <th>dest_city_name</th>\n",
       "      <th>crs_dep_time</th>\n",
       "      <th>crs_arr_time</th>\n",
       "      <th>arr_delay</th>\n",
       "      <th>crs_elapsed_time</th>\n",
       "      <th>flights</th>\n",
       "      <th>...</th>\n",
       "      <th>dest_weather_categ</th>\n",
       "      <th>year</th>\n",
       "      <th>month</th>\n",
       "      <th>day</th>\n",
       "      <th>dep_time_of_day</th>\n",
       "      <th>arr_time_of_day</th>\n",
       "      <th>orig_state_id</th>\n",
       "      <th>dest_state_id</th>\n",
       "      <th>orig_region</th>\n",
       "      <th>dest_region</th>\n",
       "    </tr>\n",
       "  </thead>\n",
       "  <tbody>\n",
       "    <tr>\n",
       "      <th>0</th>\n",
       "      <td>WN</td>\n",
       "      <td>SAT</td>\n",
       "      <td>San Antonio, TX</td>\n",
       "      <td>BNA</td>\n",
       "      <td>Nashville, TN</td>\n",
       "      <td>705</td>\n",
       "      <td>915</td>\n",
       "      <td>-2.0</td>\n",
       "      <td>130.0</td>\n",
       "      <td>1.0</td>\n",
       "      <td>...</td>\n",
       "      <td>cloudy</td>\n",
       "      <td>2018</td>\n",
       "      <td>7</td>\n",
       "      <td>10</td>\n",
       "      <td>0</td>\n",
       "      <td>0</td>\n",
       "      <td>TX</td>\n",
       "      <td>TN</td>\n",
       "      <td>West-South Central</td>\n",
       "      <td>East-South Central</td>\n",
       "    </tr>\n",
       "    <tr>\n",
       "      <th>1</th>\n",
       "      <td>UA</td>\n",
       "      <td>ORD</td>\n",
       "      <td>Chicago, IL</td>\n",
       "      <td>MCO</td>\n",
       "      <td>Orlando, FL</td>\n",
       "      <td>800</td>\n",
       "      <td>1148</td>\n",
       "      <td>-9.0</td>\n",
       "      <td>168.0</td>\n",
       "      <td>1.0</td>\n",
       "      <td>...</td>\n",
       "      <td>rain</td>\n",
       "      <td>2019</td>\n",
       "      <td>10</td>\n",
       "      <td>10</td>\n",
       "      <td>0</td>\n",
       "      <td>0</td>\n",
       "      <td>IL</td>\n",
       "      <td>FL</td>\n",
       "      <td>East-North Central</td>\n",
       "      <td>South-Atlantic</td>\n",
       "    </tr>\n",
       "  </tbody>\n",
       "</table>\n",
       "<p>2 rows × 22 columns</p>\n",
       "</div>"
      ],
      "text/plain": [
       "  mkt_unique_carrier origin origin_city_name dest dest_city_name  \\\n",
       "0                 WN    SAT  San Antonio, TX  BNA  Nashville, TN   \n",
       "1                 UA    ORD      Chicago, IL  MCO    Orlando, FL   \n",
       "\n",
       "   crs_dep_time  crs_arr_time  arr_delay  crs_elapsed_time  flights  ...  \\\n",
       "0           705           915       -2.0             130.0      1.0  ...   \n",
       "1           800          1148       -9.0             168.0      1.0  ...   \n",
       "\n",
       "   dest_weather_categ  year month  day  dep_time_of_day  arr_time_of_day  \\\n",
       "0              cloudy  2018     7   10                0                0   \n",
       "1                rain  2019    10   10                0                0   \n",
       "\n",
       "   orig_state_id  dest_state_id         orig_region         dest_region  \n",
       "0             TX             TN  West-South Central  East-South Central  \n",
       "1             IL             FL  East-North Central      South-Atlantic  \n",
       "\n",
       "[2 rows x 22 columns]"
      ]
     },
     "execution_count": 26,
     "metadata": {},
     "output_type": "execute_result"
    }
   ],
   "source": [
    "flights.head(2)"
   ]
  },
  {
   "cell_type": "code",
   "execution_count": 29,
   "id": "8941686c-4d21-49ba-9dec-64a663487008",
   "metadata": {},
   "outputs": [],
   "source": [
    "flights.drop(['origin_city_name', 'dest_city_name', 'orig_state_id', 'dest_state_id'], axis = 1, inplace = True)"
   ]
  },
  {
   "cell_type": "code",
   "execution_count": 74,
   "id": "adf1c408-8b33-4caa-a590-5aa123b53045",
   "metadata": {},
   "outputs": [],
   "source": [
    "#export this file as flights_M1\n",
    "flights.to_csv('data/flights_M1.csv', header=True, index=False)"
   ]
  },
  {
   "cell_type": "markdown",
   "id": "97e8ca2d-5372-49cc-b833-c92e51bfe591",
   "metadata": {},
   "source": [
    "# Split the data into Train and Test\n",
    "there are a few features we want to create that should only be created from the test data"
   ]
  },
  {
   "cell_type": "code",
   "execution_count": 30,
   "id": "e7fd73bf-8dd4-41f1-ab82-ba96baf91469",
   "metadata": {},
   "outputs": [],
   "source": [
    "X = flights.drop(['arr_delay'], axis = 1)\n",
    "y = flights['arr_delay']"
   ]
  },
  {
   "cell_type": "code",
   "execution_count": 31,
   "id": "ec046048-b194-414b-8e7a-6f97c72daa7d",
   "metadata": {},
   "outputs": [],
   "source": [
    "#split\n",
    "X_train, X_test, y_train, y_test = train_test_split(X, y, test_size=0.20, random_state=42)"
   ]
  },
  {
   "cell_type": "code",
   "execution_count": 32,
   "id": "3fb64e02-2505-42c5-b30e-c671edf52c44",
   "metadata": {},
   "outputs": [],
   "source": [
    "flights_M1 = X_train"
   ]
  },
  {
   "cell_type": "markdown",
   "id": "2396af42-eed4-4f2a-a863-e87d6209199e",
   "metadata": {},
   "source": [
    "## Create Features based on only train data"
   ]
  },
  {
   "cell_type": "markdown",
   "id": "80de3c7d-3c74-4939-9e76-c9eea0077b9e",
   "metadata": {},
   "source": [
    "### Create mean delay by airport feature to use in place of origin airport"
   ]
  },
  {
   "cell_type": "code",
   "execution_count": 33,
   "id": "5ec25179-677f-4f4e-ab0e-715e3e93ded0",
   "metadata": {},
   "outputs": [
    {
     "data": {
      "text/html": [
       "<div>\n",
       "<style scoped>\n",
       "    .dataframe tbody tr th:only-of-type {\n",
       "        vertical-align: middle;\n",
       "    }\n",
       "\n",
       "    .dataframe tbody tr th {\n",
       "        vertical-align: top;\n",
       "    }\n",
       "\n",
       "    .dataframe thead th {\n",
       "        text-align: right;\n",
       "    }\n",
       "</style>\n",
       "<table border=\"1\" class=\"dataframe\">\n",
       "  <thead>\n",
       "    <tr style=\"text-align: right;\">\n",
       "      <th></th>\n",
       "      <th>origin</th>\n",
       "      <th>arr_delay</th>\n",
       "    </tr>\n",
       "  </thead>\n",
       "  <tbody>\n",
       "    <tr>\n",
       "      <th>0</th>\n",
       "      <td>ABE</td>\n",
       "      <td>0.461538</td>\n",
       "    </tr>\n",
       "    <tr>\n",
       "      <th>1</th>\n",
       "      <td>ABI</td>\n",
       "      <td>18.000000</td>\n",
       "    </tr>\n",
       "    <tr>\n",
       "      <th>2</th>\n",
       "      <td>ABQ</td>\n",
       "      <td>3.342857</td>\n",
       "    </tr>\n",
       "    <tr>\n",
       "      <th>3</th>\n",
       "      <td>ABY</td>\n",
       "      <td>-15.000000</td>\n",
       "    </tr>\n",
       "    <tr>\n",
       "      <th>4</th>\n",
       "      <td>ACK</td>\n",
       "      <td>-19.000000</td>\n",
       "    </tr>\n",
       "    <tr>\n",
       "      <th>...</th>\n",
       "      <td>...</td>\n",
       "      <td>...</td>\n",
       "    </tr>\n",
       "    <tr>\n",
       "      <th>307</th>\n",
       "      <td>WRG</td>\n",
       "      <td>2.666667</td>\n",
       "    </tr>\n",
       "    <tr>\n",
       "      <th>308</th>\n",
       "      <td>XNA</td>\n",
       "      <td>2.727273</td>\n",
       "    </tr>\n",
       "    <tr>\n",
       "      <th>309</th>\n",
       "      <td>XWA</td>\n",
       "      <td>-14.000000</td>\n",
       "    </tr>\n",
       "    <tr>\n",
       "      <th>310</th>\n",
       "      <td>YAK</td>\n",
       "      <td>81.000000</td>\n",
       "    </tr>\n",
       "    <tr>\n",
       "      <th>311</th>\n",
       "      <td>YUM</td>\n",
       "      <td>-2.000000</td>\n",
       "    </tr>\n",
       "  </tbody>\n",
       "</table>\n",
       "<p>312 rows × 2 columns</p>\n",
       "</div>"
      ],
      "text/plain": [
       "    origin  arr_delay\n",
       "0      ABE   0.461538\n",
       "1      ABI  18.000000\n",
       "2      ABQ   3.342857\n",
       "3      ABY -15.000000\n",
       "4      ACK -19.000000\n",
       "..     ...        ...\n",
       "307    WRG   2.666667\n",
       "308    XNA   2.727273\n",
       "309    XWA -14.000000\n",
       "310    YAK  81.000000\n",
       "311    YUM  -2.000000\n",
       "\n",
       "[312 rows x 2 columns]"
      ]
     },
     "execution_count": 33,
     "metadata": {},
     "output_type": "execute_result"
    }
   ],
   "source": [
    "mean_delay_orig_airport = flights[['origin', 'arr_delay']].groupby(by = 'origin').mean().reset_index()\n",
    "mean_delay_orig_airport"
   ]
  },
  {
   "cell_type": "code",
   "execution_count": 34,
   "id": "17d598c6-5339-475a-be75-03bf91b53ee4",
   "metadata": {},
   "outputs": [],
   "source": [
    "#rename aggregate column\n",
    "mean_delay_orig_airport.rename({'arr_delay':'mean_arr_delay_orig_airport'},axis = 1, inplace= True)"
   ]
  },
  {
   "cell_type": "code",
   "execution_count": 35,
   "id": "3f35da82-22dd-46bd-9e16-dc9ede933936",
   "metadata": {},
   "outputs": [],
   "source": [
    "#merge this mean value to flights_M1 with origin as key\n",
    "flights_M1 = pd.merge(flights_M1, mean_delay_orig_airport, how = 'left', on = ['origin'])"
   ]
  },
  {
   "cell_type": "code",
   "execution_count": 36,
   "id": "44536f6b-5db5-4134-9ac1-cd0502da5676",
   "metadata": {},
   "outputs": [],
   "source": [
    "#mean delay for dest airport\n",
    "mean_delay_dest_airport = flights[['dest', 'arr_delay']].groupby(by = 'dest').mean().reset_index()\n",
    "mean_delay_dest_airport.rename({'arr_delay':'mean_arr_delay_dest_airport'},axis = 1, inplace= True)"
   ]
  },
  {
   "cell_type": "code",
   "execution_count": 37,
   "id": "fd1340a8-1e69-47a1-a736-3262881d1581",
   "metadata": {},
   "outputs": [
    {
     "data": {
      "text/html": [
       "<div>\n",
       "<style scoped>\n",
       "    .dataframe tbody tr th:only-of-type {\n",
       "        vertical-align: middle;\n",
       "    }\n",
       "\n",
       "    .dataframe tbody tr th {\n",
       "        vertical-align: top;\n",
       "    }\n",
       "\n",
       "    .dataframe thead th {\n",
       "        text-align: right;\n",
       "    }\n",
       "</style>\n",
       "<table border=\"1\" class=\"dataframe\">\n",
       "  <thead>\n",
       "    <tr style=\"text-align: right;\">\n",
       "      <th></th>\n",
       "      <th>dest</th>\n",
       "      <th>mean_arr_delay_dest_airport</th>\n",
       "    </tr>\n",
       "  </thead>\n",
       "  <tbody>\n",
       "    <tr>\n",
       "      <th>0</th>\n",
       "      <td>ABE</td>\n",
       "      <td>20.5</td>\n",
       "    </tr>\n",
       "  </tbody>\n",
       "</table>\n",
       "</div>"
      ],
      "text/plain": [
       "  dest  mean_arr_delay_dest_airport\n",
       "0  ABE                         20.5"
      ]
     },
     "execution_count": 37,
     "metadata": {},
     "output_type": "execute_result"
    }
   ],
   "source": [
    "mean_delay_dest_airport.head(1)"
   ]
  },
  {
   "cell_type": "code",
   "execution_count": 38,
   "id": "e0e28e3a-6ade-489e-8f89-2b95bf742a01",
   "metadata": {},
   "outputs": [],
   "source": [
    "#merge this mean value to flights_M1 with dest as key\n",
    "flights_M1 = pd.merge(flights_M1, mean_delay_dest_airport, how = 'left', on = ['dest'])"
   ]
  },
  {
   "cell_type": "markdown",
   "id": "5009f4c8-ed6c-408a-b88f-e3ed399c9697",
   "metadata": {},
   "source": [
    "### Create mean delay by carrier feature"
   ]
  },
  {
   "cell_type": "code",
   "execution_count": 39,
   "id": "2f3e7ca0-bb6a-490c-8a28-03a1d9064136",
   "metadata": {},
   "outputs": [
    {
     "data": {
      "text/plain": [
       "<AxesSubplot:xlabel='mkt_unique_carrier', ylabel='arr_delay'>"
      ]
     },
     "execution_count": 39,
     "metadata": {},
     "output_type": "execute_result"
    },
    {
     "data": {
      "image/png": "[encoded data removed]",
      "text/plain": [
       "<Figure size 432x288 with 1 Axes>"
      ]
     },
     "metadata": {
      "needs_background": "light"
     },
     "output_type": "display_data"
    }
   ],
   "source": [
    "import seaborn as sns\n",
    "sns.scatterplot(data=flights, x=\"mkt_unique_carrier\", y=\"arr_delay\")"
   ]
  },
  {
   "cell_type": "code",
   "execution_count": 40,
   "id": "6b59974e-bfd1-4f24-b046-39f6b21f64fb",
   "metadata": {},
   "outputs": [],
   "source": [
    "#mean delay for carrier\n",
    "mean_delay_carrier = flights[['mkt_unique_carrier', 'arr_delay']].groupby(by = 'mkt_unique_carrier').mean().reset_index()"
   ]
  },
  {
   "cell_type": "code",
   "execution_count": 41,
   "id": "6e652910-587f-43cb-a1f4-e75a499ff2c5",
   "metadata": {},
   "outputs": [
    {
     "data": {
      "text/html": [
       "<div>\n",
       "<style scoped>\n",
       "    .dataframe tbody tr th:only-of-type {\n",
       "        vertical-align: middle;\n",
       "    }\n",
       "\n",
       "    .dataframe tbody tr th {\n",
       "        vertical-align: top;\n",
       "    }\n",
       "\n",
       "    .dataframe thead th {\n",
       "        text-align: right;\n",
       "    }\n",
       "</style>\n",
       "<table border=\"1\" class=\"dataframe\">\n",
       "  <thead>\n",
       "    <tr style=\"text-align: right;\">\n",
       "      <th></th>\n",
       "      <th>mkt_unique_carrier</th>\n",
       "      <th>arr_delay</th>\n",
       "    </tr>\n",
       "  </thead>\n",
       "  <tbody>\n",
       "    <tr>\n",
       "      <th>0</th>\n",
       "      <td>AA</td>\n",
       "      <td>5.078223</td>\n",
       "    </tr>\n",
       "    <tr>\n",
       "      <th>1</th>\n",
       "      <td>AS</td>\n",
       "      <td>0.248687</td>\n",
       "    </tr>\n",
       "    <tr>\n",
       "      <th>2</th>\n",
       "      <td>B6</td>\n",
       "      <td>12.312329</td>\n",
       "    </tr>\n",
       "    <tr>\n",
       "      <th>3</th>\n",
       "      <td>DL</td>\n",
       "      <td>3.853175</td>\n",
       "    </tr>\n",
       "    <tr>\n",
       "      <th>4</th>\n",
       "      <td>F9</td>\n",
       "      <td>16.312883</td>\n",
       "    </tr>\n",
       "    <tr>\n",
       "      <th>5</th>\n",
       "      <td>G4</td>\n",
       "      <td>6.519685</td>\n",
       "    </tr>\n",
       "    <tr>\n",
       "      <th>6</th>\n",
       "      <td>HA</td>\n",
       "      <td>1.037736</td>\n",
       "    </tr>\n",
       "    <tr>\n",
       "      <th>7</th>\n",
       "      <td>NK</td>\n",
       "      <td>9.975709</td>\n",
       "    </tr>\n",
       "    <tr>\n",
       "      <th>8</th>\n",
       "      <td>UA</td>\n",
       "      <td>8.249349</td>\n",
       "    </tr>\n",
       "    <tr>\n",
       "      <th>9</th>\n",
       "      <td>VX</td>\n",
       "      <td>-8.600000</td>\n",
       "    </tr>\n",
       "    <tr>\n",
       "      <th>10</th>\n",
       "      <td>WN</td>\n",
       "      <td>3.940227</td>\n",
       "    </tr>\n",
       "  </tbody>\n",
       "</table>\n",
       "</div>"
      ],
      "text/plain": [
       "   mkt_unique_carrier  arr_delay\n",
       "0                  AA   5.078223\n",
       "1                  AS   0.248687\n",
       "2                  B6  12.312329\n",
       "3                  DL   3.853175\n",
       "4                  F9  16.312883\n",
       "5                  G4   6.519685\n",
       "6                  HA   1.037736\n",
       "7                  NK   9.975709\n",
       "8                  UA   8.249349\n",
       "9                  VX  -8.600000\n",
       "10                 WN   3.940227"
      ]
     },
     "execution_count": 41,
     "metadata": {},
     "output_type": "execute_result"
    }
   ],
   "source": [
    "mean_delay_carrier"
   ]
  },
  {
   "cell_type": "code",
   "execution_count": 42,
   "id": "9740d5e2-e092-43b9-8792-aef0cd3d0533",
   "metadata": {},
   "outputs": [],
   "source": [
    "mean_delay_carrier.rename({'arr_delay':'mean_arr_delay_carrier'},axis = 1, inplace= True)"
   ]
  },
  {
   "cell_type": "code",
   "execution_count": 43,
   "id": "db60d721-9621-4b7b-a3ea-56dbea892afd",
   "metadata": {},
   "outputs": [],
   "source": [
    "#merge this mean value to flights_M1 with mkt unique carrier as key\n",
    "flights_M1 = pd.merge(flights_M1, mean_delay_carrier, how = 'left', on = ['mkt_unique_carrier'])"
   ]
  },
  {
   "cell_type": "code",
   "execution_count": 44,
   "id": "e14a4245-383e-4641-9274-0d2b04107de5",
   "metadata": {},
   "outputs": [
    {
     "data": {
      "text/html": [
       "<div>\n",
       "<style scoped>\n",
       "    .dataframe tbody tr th:only-of-type {\n",
       "        vertical-align: middle;\n",
       "    }\n",
       "\n",
       "    .dataframe tbody tr th {\n",
       "        vertical-align: top;\n",
       "    }\n",
       "\n",
       "    .dataframe thead th {\n",
       "        text-align: right;\n",
       "    }\n",
       "</style>\n",
       "<table border=\"1\" class=\"dataframe\">\n",
       "  <thead>\n",
       "    <tr style=\"text-align: right;\">\n",
       "      <th></th>\n",
       "      <th>mkt_unique_carrier</th>\n",
       "      <th>origin</th>\n",
       "      <th>dest</th>\n",
       "      <th>crs_dep_time</th>\n",
       "      <th>crs_arr_time</th>\n",
       "      <th>crs_elapsed_time</th>\n",
       "      <th>flights</th>\n",
       "      <th>distance</th>\n",
       "      <th>orig_weather_categ</th>\n",
       "      <th>dest_weather_categ</th>\n",
       "      <th>year</th>\n",
       "      <th>month</th>\n",
       "      <th>day</th>\n",
       "      <th>dep_time_of_day</th>\n",
       "      <th>arr_time_of_day</th>\n",
       "      <th>orig_region</th>\n",
       "      <th>dest_region</th>\n",
       "      <th>mean_arr_delay_orig_airport</th>\n",
       "      <th>mean_arr_delay_dest_airport</th>\n",
       "      <th>mean_arr_delay_carrier</th>\n",
       "    </tr>\n",
       "  </thead>\n",
       "  <tbody>\n",
       "    <tr>\n",
       "      <th>0</th>\n",
       "      <td>UA</td>\n",
       "      <td>MCI</td>\n",
       "      <td>DEN</td>\n",
       "      <td>801</td>\n",
       "      <td>850</td>\n",
       "      <td>109.0</td>\n",
       "      <td>1.0</td>\n",
       "      <td>533.0</td>\n",
       "      <td>sunny</td>\n",
       "      <td>sunny</td>\n",
       "      <td>2018</td>\n",
       "      <td>12</td>\n",
       "      <td>16</td>\n",
       "      <td>0</td>\n",
       "      <td>0</td>\n",
       "      <td>West-North Central</td>\n",
       "      <td>South-West</td>\n",
       "      <td>-1.652778</td>\n",
       "      <td>7.98615</td>\n",
       "      <td>8.249349</td>\n",
       "    </tr>\n",
       "  </tbody>\n",
       "</table>\n",
       "</div>"
      ],
      "text/plain": [
       "  mkt_unique_carrier origin dest  crs_dep_time  crs_arr_time  \\\n",
       "0                 UA    MCI  DEN           801           850   \n",
       "\n",
       "   crs_elapsed_time  flights  distance orig_weather_categ dest_weather_categ  \\\n",
       "0             109.0      1.0     533.0              sunny              sunny   \n",
       "\n",
       "   year  month  day  dep_time_of_day  arr_time_of_day         orig_region  \\\n",
       "0  2018     12   16                0                0  West-North Central   \n",
       "\n",
       "  dest_region  mean_arr_delay_orig_airport  mean_arr_delay_dest_airport  \\\n",
       "0  South-West                    -1.652778                      7.98615   \n",
       "\n",
       "   mean_arr_delay_carrier  \n",
       "0                8.249349  "
      ]
     },
     "execution_count": 44,
     "metadata": {},
     "output_type": "execute_result"
    }
   ],
   "source": [
    "flights_M1.head(1)"
   ]
  },
  {
   "cell_type": "code",
   "execution_count": 45,
   "id": "094a1088-fd14-4609-86a0-7e79d9613882",
   "metadata": {},
   "outputs": [],
   "source": [
    "#now we can drop these categorical feature\n",
    "flights_M1.drop(['mkt_unique_carrier', 'origin', 'dest'], axis = 1, inplace = True)"
   ]
  },
  {
   "cell_type": "markdown",
   "id": "81a5075f-45da-4493-bb9c-440491e8f66a",
   "metadata": {},
   "source": [
    "### Turn the weather categorical features to dummy variables"
   ]
  },
  {
   "cell_type": "code",
   "execution_count": 46,
   "id": "e590c24e-02d5-44a5-8be0-cb566830969c",
   "metadata": {},
   "outputs": [
    {
     "data": {
      "text/plain": [
       "crs_dep_time                     int64\n",
       "crs_arr_time                     int64\n",
       "crs_elapsed_time               float64\n",
       "flights                        float64\n",
       "distance                       float64\n",
       "orig_weather_categ              object\n",
       "dest_weather_categ              object\n",
       "year                             int64\n",
       "month                            int64\n",
       "day                              int64\n",
       "dep_time_of_day                  int64\n",
       "arr_time_of_day                  int64\n",
       "orig_region                     object\n",
       "dest_region                     object\n",
       "mean_arr_delay_orig_airport    float64\n",
       "mean_arr_delay_dest_airport    float64\n",
       "mean_arr_delay_carrier         float64\n",
       "dtype: object"
      ]
     },
     "execution_count": 46,
     "metadata": {},
     "output_type": "execute_result"
    }
   ],
   "source": [
    "flights_M1.dtypes    #make sure the weather features are the only object types left"
   ]
  },
  {
   "cell_type": "code",
   "execution_count": 47,
   "id": "c3dc2f4b-d073-4035-9a7a-e4b826e2dab3",
   "metadata": {},
   "outputs": [],
   "source": [
    "flights_M1 = pd.get_dummies(flights_M1, drop_first=True)"
   ]
  },
  {
   "cell_type": "code",
   "execution_count": 48,
   "id": "4e5bf646-0f48-43c9-b572-c1d0f62f1b37",
   "metadata": {},
   "outputs": [
    {
     "data": {
      "text/html": [
       "<div>\n",
       "<style scoped>\n",
       "    .dataframe tbody tr th:only-of-type {\n",
       "        vertical-align: middle;\n",
       "    }\n",
       "\n",
       "    .dataframe tbody tr th {\n",
       "        vertical-align: top;\n",
       "    }\n",
       "\n",
       "    .dataframe thead th {\n",
       "        text-align: right;\n",
       "    }\n",
       "</style>\n",
       "<table border=\"1\" class=\"dataframe\">\n",
       "  <thead>\n",
       "    <tr style=\"text-align: right;\">\n",
       "      <th></th>\n",
       "      <th>crs_dep_time</th>\n",
       "      <th>crs_arr_time</th>\n",
       "      <th>crs_elapsed_time</th>\n",
       "      <th>flights</th>\n",
       "      <th>distance</th>\n",
       "      <th>year</th>\n",
       "      <th>month</th>\n",
       "      <th>day</th>\n",
       "      <th>dep_time_of_day</th>\n",
       "      <th>arr_time_of_day</th>\n",
       "      <th>...</th>\n",
       "      <th>dest_region_East-South Central</th>\n",
       "      <th>dest_region_Mid-Atlantic</th>\n",
       "      <th>dest_region_New England</th>\n",
       "      <th>dest_region_North-West</th>\n",
       "      <th>dest_region_Offshore Territory</th>\n",
       "      <th>dest_region_Pacific</th>\n",
       "      <th>dest_region_South-Atlantic</th>\n",
       "      <th>dest_region_South-West</th>\n",
       "      <th>dest_region_West-North Central</th>\n",
       "      <th>dest_region_West-South Central</th>\n",
       "    </tr>\n",
       "  </thead>\n",
       "  <tbody>\n",
       "    <tr>\n",
       "      <th>0</th>\n",
       "      <td>801</td>\n",
       "      <td>850</td>\n",
       "      <td>109.0</td>\n",
       "      <td>1.0</td>\n",
       "      <td>533.0</td>\n",
       "      <td>2018</td>\n",
       "      <td>12</td>\n",
       "      <td>16</td>\n",
       "      <td>0</td>\n",
       "      <td>0</td>\n",
       "      <td>...</td>\n",
       "      <td>0</td>\n",
       "      <td>0</td>\n",
       "      <td>0</td>\n",
       "      <td>0</td>\n",
       "      <td>0</td>\n",
       "      <td>0</td>\n",
       "      <td>0</td>\n",
       "      <td>1</td>\n",
       "      <td>0</td>\n",
       "      <td>0</td>\n",
       "    </tr>\n",
       "  </tbody>\n",
       "</table>\n",
       "<p>1 rows × 43 columns</p>\n",
       "</div>"
      ],
      "text/plain": [
       "   crs_dep_time  crs_arr_time  crs_elapsed_time  flights  distance  year  \\\n",
       "0           801           850             109.0      1.0     533.0  2018   \n",
       "\n",
       "   month  day  dep_time_of_day  arr_time_of_day  ...  \\\n",
       "0     12   16                0                0  ...   \n",
       "\n",
       "   dest_region_East-South Central  dest_region_Mid-Atlantic  \\\n",
       "0                               0                         0   \n",
       "\n",
       "   dest_region_New England  dest_region_North-West  \\\n",
       "0                        0                       0   \n",
       "\n",
       "   dest_region_Offshore Territory  dest_region_Pacific  \\\n",
       "0                               0                    0   \n",
       "\n",
       "   dest_region_South-Atlantic  dest_region_South-West  \\\n",
       "0                           0                       1   \n",
       "\n",
       "   dest_region_West-North Central  dest_region_West-South Central  \n",
       "0                               0                               0  \n",
       "\n",
       "[1 rows x 43 columns]"
      ]
     },
     "execution_count": 48,
     "metadata": {},
     "output_type": "execute_result"
    }
   ],
   "source": [
    "flights_M1.head(1)"
   ]
  },
  {
   "cell_type": "markdown",
   "id": "c36bbd2f-3259-4db4-9c85-9f9378d40f2a",
   "metadata": {},
   "source": [
    "# Apply same process to test set"
   ]
  },
  {
   "cell_type": "markdown",
   "id": "9a906db3-0a64-453d-ad81-35c24c0082f2",
   "metadata": {},
   "source": [
    "keep only the features we would have 1 week before the flight:\n",
    "\n",
    "Index(['fl_date', 'mkt_unique_carrier', 'branded_code_share', 'mkt_carrier',\n",
    "       'mkt_carrier_fl_num', 'op_unique_carrier', 'tail_num',\n",
    "       'op_carrier_fl_num', 'origin_airport_id', 'origin', 'origin_city_name',\n",
    "       'dest_airport_id', 'dest', 'dest_city_name', 'crs_dep_time',\n",
    "       'crs_arr_time', 'dup', 'crs_elapsed_time', 'flights', 'distance'],\n",
    "      dtype='object')"
   ]
  },
  {
   "cell_type": "code",
   "execution_count": 49,
   "id": "499ce887-35e0-4a4c-b21e-2298d73536e5",
   "metadata": {},
   "outputs": [],
   "source": [
    "test_M1 = X_test"
   ]
  },
  {
   "cell_type": "code",
   "execution_count": 50,
   "id": "1ef0fd78-d769-4238-a616-50f82a88f611",
   "metadata": {},
   "outputs": [
    {
     "data": {
      "text/html": [
       "<div>\n",
       "<style scoped>\n",
       "    .dataframe tbody tr th:only-of-type {\n",
       "        vertical-align: middle;\n",
       "    }\n",
       "\n",
       "    .dataframe tbody tr th {\n",
       "        vertical-align: top;\n",
       "    }\n",
       "\n",
       "    .dataframe thead th {\n",
       "        text-align: right;\n",
       "    }\n",
       "</style>\n",
       "<table border=\"1\" class=\"dataframe\">\n",
       "  <thead>\n",
       "    <tr style=\"text-align: right;\">\n",
       "      <th></th>\n",
       "      <th>mkt_unique_carrier</th>\n",
       "      <th>origin</th>\n",
       "      <th>dest</th>\n",
       "      <th>crs_dep_time</th>\n",
       "      <th>crs_arr_time</th>\n",
       "      <th>crs_elapsed_time</th>\n",
       "      <th>flights</th>\n",
       "      <th>distance</th>\n",
       "      <th>orig_weather_categ</th>\n",
       "      <th>dest_weather_categ</th>\n",
       "      <th>year</th>\n",
       "      <th>month</th>\n",
       "      <th>day</th>\n",
       "      <th>dep_time_of_day</th>\n",
       "      <th>arr_time_of_day</th>\n",
       "      <th>orig_region</th>\n",
       "      <th>dest_region</th>\n",
       "    </tr>\n",
       "  </thead>\n",
       "  <tbody>\n",
       "    <tr>\n",
       "      <th>6252</th>\n",
       "      <td>UA</td>\n",
       "      <td>COS</td>\n",
       "      <td>DEN</td>\n",
       "      <td>738</td>\n",
       "      <td>840</td>\n",
       "      <td>62.0</td>\n",
       "      <td>1.0</td>\n",
       "      <td>73.0</td>\n",
       "      <td>sunny</td>\n",
       "      <td>sunny</td>\n",
       "      <td>2019</td>\n",
       "      <td>12</td>\n",
       "      <td>25</td>\n",
       "      <td>0</td>\n",
       "      <td>0</td>\n",
       "      <td>South-West</td>\n",
       "      <td>South-West</td>\n",
       "    </tr>\n",
       "    <tr>\n",
       "      <th>4684</th>\n",
       "      <td>F9</td>\n",
       "      <td>HSV</td>\n",
       "      <td>MCO</td>\n",
       "      <td>1917</td>\n",
       "      <td>2207</td>\n",
       "      <td>110.0</td>\n",
       "      <td>1.0</td>\n",
       "      <td>535.0</td>\n",
       "      <td>rain</td>\n",
       "      <td>sunny</td>\n",
       "      <td>2019</td>\n",
       "      <td>10</td>\n",
       "      <td>22</td>\n",
       "      <td>3</td>\n",
       "      <td>1</td>\n",
       "      <td>East-South Central</td>\n",
       "      <td>South-Atlantic</td>\n",
       "    </tr>\n",
       "  </tbody>\n",
       "</table>\n",
       "</div>"
      ],
      "text/plain": [
       "     mkt_unique_carrier origin dest  crs_dep_time  crs_arr_time  \\\n",
       "6252                 UA    COS  DEN           738           840   \n",
       "4684                 F9    HSV  MCO          1917          2207   \n",
       "\n",
       "      crs_elapsed_time  flights  distance orig_weather_categ  \\\n",
       "6252              62.0      1.0      73.0              sunny   \n",
       "4684             110.0      1.0     535.0               rain   \n",
       "\n",
       "     dest_weather_categ  year  month  day  dep_time_of_day  arr_time_of_day  \\\n",
       "6252              sunny  2019     12   25                0                0   \n",
       "4684              sunny  2019     10   22                3                1   \n",
       "\n",
       "             orig_region     dest_region  \n",
       "6252          South-West      South-West  \n",
       "4684  East-South Central  South-Atlantic  "
      ]
     },
     "execution_count": 50,
     "metadata": {},
     "output_type": "execute_result"
    }
   ],
   "source": [
    "test_M1.head(2)"
   ]
  },
  {
   "cell_type": "markdown",
   "id": "2ed44e46-cd44-4654-894c-62965de0e8ec",
   "metadata": {},
   "source": [
    "### Assign mean delay by airport feature from train data set"
   ]
  },
  {
   "cell_type": "code",
   "execution_count": 51,
   "id": "a521a1b4-25bf-41a8-a6ab-2fcb369b529c",
   "metadata": {},
   "outputs": [
    {
     "data": {
      "text/html": [
       "<div>\n",
       "<style scoped>\n",
       "    .dataframe tbody tr th:only-of-type {\n",
       "        vertical-align: middle;\n",
       "    }\n",
       "\n",
       "    .dataframe tbody tr th {\n",
       "        vertical-align: top;\n",
       "    }\n",
       "\n",
       "    .dataframe thead th {\n",
       "        text-align: right;\n",
       "    }\n",
       "</style>\n",
       "<table border=\"1\" class=\"dataframe\">\n",
       "  <thead>\n",
       "    <tr style=\"text-align: right;\">\n",
       "      <th></th>\n",
       "      <th>origin</th>\n",
       "      <th>mean_arr_delay_orig_airport</th>\n",
       "    </tr>\n",
       "  </thead>\n",
       "  <tbody>\n",
       "    <tr>\n",
       "      <th>0</th>\n",
       "      <td>ABE</td>\n",
       "      <td>0.461538</td>\n",
       "    </tr>\n",
       "    <tr>\n",
       "      <th>1</th>\n",
       "      <td>ABI</td>\n",
       "      <td>18.000000</td>\n",
       "    </tr>\n",
       "    <tr>\n",
       "      <th>2</th>\n",
       "      <td>ABQ</td>\n",
       "      <td>3.342857</td>\n",
       "    </tr>\n",
       "    <tr>\n",
       "      <th>3</th>\n",
       "      <td>ABY</td>\n",
       "      <td>-15.000000</td>\n",
       "    </tr>\n",
       "    <tr>\n",
       "      <th>4</th>\n",
       "      <td>ACK</td>\n",
       "      <td>-19.000000</td>\n",
       "    </tr>\n",
       "    <tr>\n",
       "      <th>...</th>\n",
       "      <td>...</td>\n",
       "      <td>...</td>\n",
       "    </tr>\n",
       "    <tr>\n",
       "      <th>307</th>\n",
       "      <td>WRG</td>\n",
       "      <td>2.666667</td>\n",
       "    </tr>\n",
       "    <tr>\n",
       "      <th>308</th>\n",
       "      <td>XNA</td>\n",
       "      <td>2.727273</td>\n",
       "    </tr>\n",
       "    <tr>\n",
       "      <th>309</th>\n",
       "      <td>XWA</td>\n",
       "      <td>-14.000000</td>\n",
       "    </tr>\n",
       "    <tr>\n",
       "      <th>310</th>\n",
       "      <td>YAK</td>\n",
       "      <td>81.000000</td>\n",
       "    </tr>\n",
       "    <tr>\n",
       "      <th>311</th>\n",
       "      <td>YUM</td>\n",
       "      <td>-2.000000</td>\n",
       "    </tr>\n",
       "  </tbody>\n",
       "</table>\n",
       "<p>312 rows × 2 columns</p>\n",
       "</div>"
      ],
      "text/plain": [
       "    origin  mean_arr_delay_orig_airport\n",
       "0      ABE                     0.461538\n",
       "1      ABI                    18.000000\n",
       "2      ABQ                     3.342857\n",
       "3      ABY                   -15.000000\n",
       "4      ACK                   -19.000000\n",
       "..     ...                          ...\n",
       "307    WRG                     2.666667\n",
       "308    XNA                     2.727273\n",
       "309    XWA                   -14.000000\n",
       "310    YAK                    81.000000\n",
       "311    YUM                    -2.000000\n",
       "\n",
       "[312 rows x 2 columns]"
      ]
     },
     "execution_count": 51,
     "metadata": {},
     "output_type": "execute_result"
    }
   ],
   "source": [
    "mean_delay_orig_airport"
   ]
  },
  {
   "cell_type": "code",
   "execution_count": 52,
   "id": "c6e37999-0d7e-4783-8031-dcfbac5e6cd8",
   "metadata": {},
   "outputs": [],
   "source": [
    "#merge this mean value to test set with origin as key\n",
    "test_M1 = pd.merge(test_M1, mean_delay_orig_airport, how = 'left', on = ['origin'])"
   ]
  },
  {
   "cell_type": "code",
   "execution_count": 53,
   "id": "52055472-373c-48fb-a4e8-4647921b8a67",
   "metadata": {},
   "outputs": [
    {
     "data": {
      "text/html": [
       "<div>\n",
       "<style scoped>\n",
       "    .dataframe tbody tr th:only-of-type {\n",
       "        vertical-align: middle;\n",
       "    }\n",
       "\n",
       "    .dataframe tbody tr th {\n",
       "        vertical-align: top;\n",
       "    }\n",
       "\n",
       "    .dataframe thead th {\n",
       "        text-align: right;\n",
       "    }\n",
       "</style>\n",
       "<table border=\"1\" class=\"dataframe\">\n",
       "  <thead>\n",
       "    <tr style=\"text-align: right;\">\n",
       "      <th></th>\n",
       "      <th>dest</th>\n",
       "      <th>mean_arr_delay_dest_airport</th>\n",
       "    </tr>\n",
       "  </thead>\n",
       "  <tbody>\n",
       "    <tr>\n",
       "      <th>0</th>\n",
       "      <td>ABE</td>\n",
       "      <td>20.5</td>\n",
       "    </tr>\n",
       "    <tr>\n",
       "      <th>1</th>\n",
       "      <td>ABI</td>\n",
       "      <td>9.6</td>\n",
       "    </tr>\n",
       "  </tbody>\n",
       "</table>\n",
       "</div>"
      ],
      "text/plain": [
       "  dest  mean_arr_delay_dest_airport\n",
       "0  ABE                         20.5\n",
       "1  ABI                          9.6"
      ]
     },
     "execution_count": 53,
     "metadata": {},
     "output_type": "execute_result"
    }
   ],
   "source": [
    "mean_delay_dest_airport.head(2)"
   ]
  },
  {
   "cell_type": "code",
   "execution_count": 54,
   "id": "0c7c5066-cc6d-49e4-be3b-39969cf2b8f2",
   "metadata": {},
   "outputs": [],
   "source": [
    "#merge this mean value to test set with dest as key\n",
    "test_M1 = pd.merge(test_M1, mean_delay_dest_airport, how = 'left', on = ['dest'])"
   ]
  },
  {
   "cell_type": "code",
   "execution_count": 55,
   "id": "70d9b3de-4b1b-4dc9-9d4d-d933ad59c3da",
   "metadata": {},
   "outputs": [
    {
     "data": {
      "text/html": [
       "<div>\n",
       "<style scoped>\n",
       "    .dataframe tbody tr th:only-of-type {\n",
       "        vertical-align: middle;\n",
       "    }\n",
       "\n",
       "    .dataframe tbody tr th {\n",
       "        vertical-align: top;\n",
       "    }\n",
       "\n",
       "    .dataframe thead th {\n",
       "        text-align: right;\n",
       "    }\n",
       "</style>\n",
       "<table border=\"1\" class=\"dataframe\">\n",
       "  <thead>\n",
       "    <tr style=\"text-align: right;\">\n",
       "      <th></th>\n",
       "      <th>mkt_unique_carrier</th>\n",
       "      <th>origin</th>\n",
       "      <th>dest</th>\n",
       "      <th>crs_dep_time</th>\n",
       "      <th>crs_arr_time</th>\n",
       "      <th>crs_elapsed_time</th>\n",
       "      <th>flights</th>\n",
       "      <th>distance</th>\n",
       "      <th>orig_weather_categ</th>\n",
       "      <th>dest_weather_categ</th>\n",
       "      <th>year</th>\n",
       "      <th>month</th>\n",
       "      <th>day</th>\n",
       "      <th>dep_time_of_day</th>\n",
       "      <th>arr_time_of_day</th>\n",
       "      <th>orig_region</th>\n",
       "      <th>dest_region</th>\n",
       "      <th>mean_arr_delay_orig_airport</th>\n",
       "      <th>mean_arr_delay_dest_airport</th>\n",
       "    </tr>\n",
       "  </thead>\n",
       "  <tbody>\n",
       "    <tr>\n",
       "      <th>0</th>\n",
       "      <td>UA</td>\n",
       "      <td>COS</td>\n",
       "      <td>DEN</td>\n",
       "      <td>738</td>\n",
       "      <td>840</td>\n",
       "      <td>62.0</td>\n",
       "      <td>1.0</td>\n",
       "      <td>73.0</td>\n",
       "      <td>sunny</td>\n",
       "      <td>sunny</td>\n",
       "      <td>2019</td>\n",
       "      <td>12</td>\n",
       "      <td>25</td>\n",
       "      <td>0</td>\n",
       "      <td>0</td>\n",
       "      <td>South-West</td>\n",
       "      <td>South-West</td>\n",
       "      <td>1.562500</td>\n",
       "      <td>7.986150</td>\n",
       "    </tr>\n",
       "    <tr>\n",
       "      <th>1</th>\n",
       "      <td>F9</td>\n",
       "      <td>HSV</td>\n",
       "      <td>MCO</td>\n",
       "      <td>1917</td>\n",
       "      <td>2207</td>\n",
       "      <td>110.0</td>\n",
       "      <td>1.0</td>\n",
       "      <td>535.0</td>\n",
       "      <td>rain</td>\n",
       "      <td>sunny</td>\n",
       "      <td>2019</td>\n",
       "      <td>10</td>\n",
       "      <td>22</td>\n",
       "      <td>3</td>\n",
       "      <td>1</td>\n",
       "      <td>East-South Central</td>\n",
       "      <td>South-Atlantic</td>\n",
       "      <td>8.142857</td>\n",
       "      <td>6.542373</td>\n",
       "    </tr>\n",
       "  </tbody>\n",
       "</table>\n",
       "</div>"
      ],
      "text/plain": [
       "  mkt_unique_carrier origin dest  crs_dep_time  crs_arr_time  \\\n",
       "0                 UA    COS  DEN           738           840   \n",
       "1                 F9    HSV  MCO          1917          2207   \n",
       "\n",
       "   crs_elapsed_time  flights  distance orig_weather_categ dest_weather_categ  \\\n",
       "0              62.0      1.0      73.0              sunny              sunny   \n",
       "1             110.0      1.0     535.0               rain              sunny   \n",
       "\n",
       "   year  month  day  dep_time_of_day  arr_time_of_day         orig_region  \\\n",
       "0  2019     12   25                0                0          South-West   \n",
       "1  2019     10   22                3                1  East-South Central   \n",
       "\n",
       "      dest_region  mean_arr_delay_orig_airport  mean_arr_delay_dest_airport  \n",
       "0      South-West                     1.562500                     7.986150  \n",
       "1  South-Atlantic                     8.142857                     6.542373  "
      ]
     },
     "execution_count": 55,
     "metadata": {},
     "output_type": "execute_result"
    }
   ],
   "source": [
    "test_M1.head(2)"
   ]
  },
  {
   "cell_type": "markdown",
   "id": "cf52a293-f6d6-4887-8a04-bd8d3e040ed1",
   "metadata": {},
   "source": [
    "### Assign mean delay by carrier feature (created from train set)"
   ]
  },
  {
   "cell_type": "code",
   "execution_count": 56,
   "id": "be5f7490-7776-45bc-b173-be42105269bb",
   "metadata": {},
   "outputs": [
    {
     "data": {
      "text/html": [
       "<div>\n",
       "<style scoped>\n",
       "    .dataframe tbody tr th:only-of-type {\n",
       "        vertical-align: middle;\n",
       "    }\n",
       "\n",
       "    .dataframe tbody tr th {\n",
       "        vertical-align: top;\n",
       "    }\n",
       "\n",
       "    .dataframe thead th {\n",
       "        text-align: right;\n",
       "    }\n",
       "</style>\n",
       "<table border=\"1\" class=\"dataframe\">\n",
       "  <thead>\n",
       "    <tr style=\"text-align: right;\">\n",
       "      <th></th>\n",
       "      <th>mkt_unique_carrier</th>\n",
       "      <th>mean_arr_delay_carrier</th>\n",
       "    </tr>\n",
       "  </thead>\n",
       "  <tbody>\n",
       "    <tr>\n",
       "      <th>0</th>\n",
       "      <td>AA</td>\n",
       "      <td>5.078223</td>\n",
       "    </tr>\n",
       "    <tr>\n",
       "      <th>1</th>\n",
       "      <td>AS</td>\n",
       "      <td>0.248687</td>\n",
       "    </tr>\n",
       "    <tr>\n",
       "      <th>2</th>\n",
       "      <td>B6</td>\n",
       "      <td>12.312329</td>\n",
       "    </tr>\n",
       "    <tr>\n",
       "      <th>3</th>\n",
       "      <td>DL</td>\n",
       "      <td>3.853175</td>\n",
       "    </tr>\n",
       "    <tr>\n",
       "      <th>4</th>\n",
       "      <td>F9</td>\n",
       "      <td>16.312883</td>\n",
       "    </tr>\n",
       "    <tr>\n",
       "      <th>5</th>\n",
       "      <td>G4</td>\n",
       "      <td>6.519685</td>\n",
       "    </tr>\n",
       "    <tr>\n",
       "      <th>6</th>\n",
       "      <td>HA</td>\n",
       "      <td>1.037736</td>\n",
       "    </tr>\n",
       "    <tr>\n",
       "      <th>7</th>\n",
       "      <td>NK</td>\n",
       "      <td>9.975709</td>\n",
       "    </tr>\n",
       "    <tr>\n",
       "      <th>8</th>\n",
       "      <td>UA</td>\n",
       "      <td>8.249349</td>\n",
       "    </tr>\n",
       "    <tr>\n",
       "      <th>9</th>\n",
       "      <td>VX</td>\n",
       "      <td>-8.600000</td>\n",
       "    </tr>\n",
       "    <tr>\n",
       "      <th>10</th>\n",
       "      <td>WN</td>\n",
       "      <td>3.940227</td>\n",
       "    </tr>\n",
       "  </tbody>\n",
       "</table>\n",
       "</div>"
      ],
      "text/plain": [
       "   mkt_unique_carrier  mean_arr_delay_carrier\n",
       "0                  AA                5.078223\n",
       "1                  AS                0.248687\n",
       "2                  B6               12.312329\n",
       "3                  DL                3.853175\n",
       "4                  F9               16.312883\n",
       "5                  G4                6.519685\n",
       "6                  HA                1.037736\n",
       "7                  NK                9.975709\n",
       "8                  UA                8.249349\n",
       "9                  VX               -8.600000\n",
       "10                 WN                3.940227"
      ]
     },
     "execution_count": 56,
     "metadata": {},
     "output_type": "execute_result"
    }
   ],
   "source": [
    "mean_delay_carrier"
   ]
  },
  {
   "cell_type": "code",
   "execution_count": 57,
   "id": "143611eb-6bf4-4d89-9fc7-b360d8703edd",
   "metadata": {},
   "outputs": [],
   "source": [
    "#merge this mean value to test set with mkt unique carrier as key\n",
    "test_M1 = pd.merge(test_M1, mean_delay_carrier, how = 'left', on = ['mkt_unique_carrier'])"
   ]
  },
  {
   "cell_type": "code",
   "execution_count": 58,
   "id": "e4dcccbb-b63e-4795-8ba7-68c58f963ef7",
   "metadata": {},
   "outputs": [
    {
     "data": {
      "text/html": [
       "<div>\n",
       "<style scoped>\n",
       "    .dataframe tbody tr th:only-of-type {\n",
       "        vertical-align: middle;\n",
       "    }\n",
       "\n",
       "    .dataframe tbody tr th {\n",
       "        vertical-align: top;\n",
       "    }\n",
       "\n",
       "    .dataframe thead th {\n",
       "        text-align: right;\n",
       "    }\n",
       "</style>\n",
       "<table border=\"1\" class=\"dataframe\">\n",
       "  <thead>\n",
       "    <tr style=\"text-align: right;\">\n",
       "      <th></th>\n",
       "      <th>mkt_unique_carrier</th>\n",
       "      <th>origin</th>\n",
       "      <th>dest</th>\n",
       "      <th>crs_dep_time</th>\n",
       "      <th>crs_arr_time</th>\n",
       "      <th>crs_elapsed_time</th>\n",
       "      <th>flights</th>\n",
       "      <th>distance</th>\n",
       "      <th>orig_weather_categ</th>\n",
       "      <th>dest_weather_categ</th>\n",
       "      <th>year</th>\n",
       "      <th>month</th>\n",
       "      <th>day</th>\n",
       "      <th>dep_time_of_day</th>\n",
       "      <th>arr_time_of_day</th>\n",
       "      <th>orig_region</th>\n",
       "      <th>dest_region</th>\n",
       "      <th>mean_arr_delay_orig_airport</th>\n",
       "      <th>mean_arr_delay_dest_airport</th>\n",
       "      <th>mean_arr_delay_carrier</th>\n",
       "    </tr>\n",
       "  </thead>\n",
       "  <tbody>\n",
       "    <tr>\n",
       "      <th>0</th>\n",
       "      <td>UA</td>\n",
       "      <td>COS</td>\n",
       "      <td>DEN</td>\n",
       "      <td>738</td>\n",
       "      <td>840</td>\n",
       "      <td>62.0</td>\n",
       "      <td>1.0</td>\n",
       "      <td>73.0</td>\n",
       "      <td>sunny</td>\n",
       "      <td>sunny</td>\n",
       "      <td>2019</td>\n",
       "      <td>12</td>\n",
       "      <td>25</td>\n",
       "      <td>0</td>\n",
       "      <td>0</td>\n",
       "      <td>South-West</td>\n",
       "      <td>South-West</td>\n",
       "      <td>1.5625</td>\n",
       "      <td>7.98615</td>\n",
       "      <td>8.249349</td>\n",
       "    </tr>\n",
       "  </tbody>\n",
       "</table>\n",
       "</div>"
      ],
      "text/plain": [
       "  mkt_unique_carrier origin dest  crs_dep_time  crs_arr_time  \\\n",
       "0                 UA    COS  DEN           738           840   \n",
       "\n",
       "   crs_elapsed_time  flights  distance orig_weather_categ dest_weather_categ  \\\n",
       "0              62.0      1.0      73.0              sunny              sunny   \n",
       "\n",
       "   year  month  day  dep_time_of_day  arr_time_of_day orig_region dest_region  \\\n",
       "0  2019     12   25                0                0  South-West  South-West   \n",
       "\n",
       "   mean_arr_delay_orig_airport  mean_arr_delay_dest_airport  \\\n",
       "0                       1.5625                      7.98615   \n",
       "\n",
       "   mean_arr_delay_carrier  \n",
       "0                8.249349  "
      ]
     },
     "execution_count": 58,
     "metadata": {},
     "output_type": "execute_result"
    }
   ],
   "source": [
    "test_M1.head(1)"
   ]
  },
  {
   "cell_type": "code",
   "execution_count": 59,
   "id": "0d5f0106-38a6-494c-9129-d069d1d28ad6",
   "metadata": {},
   "outputs": [],
   "source": [
    "#now we can drop the 'mkt_unique_carrier' categorical feature\n",
    "test_M1.drop(['mkt_unique_carrier', 'origin', 'dest'], axis = 1, inplace = True)"
   ]
  },
  {
   "cell_type": "code",
   "execution_count": 60,
   "id": "d179b2f5-232a-4b7f-abeb-dfa421c5ccdb",
   "metadata": {},
   "outputs": [
    {
     "data": {
      "text/html": [
       "<div>\n",
       "<style scoped>\n",
       "    .dataframe tbody tr th:only-of-type {\n",
       "        vertical-align: middle;\n",
       "    }\n",
       "\n",
       "    .dataframe tbody tr th {\n",
       "        vertical-align: top;\n",
       "    }\n",
       "\n",
       "    .dataframe thead th {\n",
       "        text-align: right;\n",
       "    }\n",
       "</style>\n",
       "<table border=\"1\" class=\"dataframe\">\n",
       "  <thead>\n",
       "    <tr style=\"text-align: right;\">\n",
       "      <th></th>\n",
       "      <th>crs_dep_time</th>\n",
       "      <th>crs_arr_time</th>\n",
       "      <th>crs_elapsed_time</th>\n",
       "      <th>flights</th>\n",
       "      <th>distance</th>\n",
       "      <th>orig_weather_categ</th>\n",
       "      <th>dest_weather_categ</th>\n",
       "      <th>year</th>\n",
       "      <th>month</th>\n",
       "      <th>day</th>\n",
       "      <th>dep_time_of_day</th>\n",
       "      <th>arr_time_of_day</th>\n",
       "      <th>orig_region</th>\n",
       "      <th>dest_region</th>\n",
       "      <th>mean_arr_delay_orig_airport</th>\n",
       "      <th>mean_arr_delay_dest_airport</th>\n",
       "      <th>mean_arr_delay_carrier</th>\n",
       "    </tr>\n",
       "  </thead>\n",
       "  <tbody>\n",
       "    <tr>\n",
       "      <th>0</th>\n",
       "      <td>738</td>\n",
       "      <td>840</td>\n",
       "      <td>62.0</td>\n",
       "      <td>1.0</td>\n",
       "      <td>73.0</td>\n",
       "      <td>sunny</td>\n",
       "      <td>sunny</td>\n",
       "      <td>2019</td>\n",
       "      <td>12</td>\n",
       "      <td>25</td>\n",
       "      <td>0</td>\n",
       "      <td>0</td>\n",
       "      <td>South-West</td>\n",
       "      <td>South-West</td>\n",
       "      <td>1.5625</td>\n",
       "      <td>7.98615</td>\n",
       "      <td>8.249349</td>\n",
       "    </tr>\n",
       "  </tbody>\n",
       "</table>\n",
       "</div>"
      ],
      "text/plain": [
       "   crs_dep_time  crs_arr_time  crs_elapsed_time  flights  distance  \\\n",
       "0           738           840              62.0      1.0      73.0   \n",
       "\n",
       "  orig_weather_categ dest_weather_categ  year  month  day  dep_time_of_day  \\\n",
       "0              sunny              sunny  2019     12   25                0   \n",
       "\n",
       "   arr_time_of_day orig_region dest_region  mean_arr_delay_orig_airport  \\\n",
       "0                0  South-West  South-West                       1.5625   \n",
       "\n",
       "   mean_arr_delay_dest_airport  mean_arr_delay_carrier  \n",
       "0                      7.98615                8.249349  "
      ]
     },
     "execution_count": 60,
     "metadata": {},
     "output_type": "execute_result"
    }
   ],
   "source": [
    "test_M1.head(1)"
   ]
  },
  {
   "cell_type": "markdown",
   "id": "5d7995e7-634d-4f9f-b600-8ee1324427e0",
   "metadata": {},
   "source": [
    "## Check features"
   ]
  },
  {
   "cell_type": "code",
   "execution_count": 61,
   "id": "4b65bec9-272f-476f-8245-77688d51a051",
   "metadata": {},
   "outputs": [
    {
     "data": {
      "text/plain": [
       "crs_dep_time                     int64\n",
       "crs_arr_time                     int64\n",
       "crs_elapsed_time               float64\n",
       "flights                        float64\n",
       "distance                       float64\n",
       "orig_weather_categ              object\n",
       "dest_weather_categ              object\n",
       "year                             int64\n",
       "month                            int64\n",
       "day                              int64\n",
       "dep_time_of_day                  int64\n",
       "arr_time_of_day                  int64\n",
       "orig_region                     object\n",
       "dest_region                     object\n",
       "mean_arr_delay_orig_airport    float64\n",
       "mean_arr_delay_dest_airport    float64\n",
       "mean_arr_delay_carrier         float64\n",
       "dtype: object"
      ]
     },
     "execution_count": 61,
     "metadata": {},
     "output_type": "execute_result"
    }
   ],
   "source": [
    "test_M1.dtypes"
   ]
  },
  {
   "cell_type": "code",
   "execution_count": 62,
   "id": "c44f6974-0a08-48e2-9662-83e076903a27",
   "metadata": {},
   "outputs": [
    {
     "data": {
      "text/html": [
       "<div>\n",
       "<style scoped>\n",
       "    .dataframe tbody tr th:only-of-type {\n",
       "        vertical-align: middle;\n",
       "    }\n",
       "\n",
       "    .dataframe tbody tr th {\n",
       "        vertical-align: top;\n",
       "    }\n",
       "\n",
       "    .dataframe thead th {\n",
       "        text-align: right;\n",
       "    }\n",
       "</style>\n",
       "<table border=\"1\" class=\"dataframe\">\n",
       "  <thead>\n",
       "    <tr style=\"text-align: right;\">\n",
       "      <th></th>\n",
       "      <th>crs_dep_time</th>\n",
       "      <th>crs_arr_time</th>\n",
       "      <th>crs_elapsed_time</th>\n",
       "      <th>flights</th>\n",
       "      <th>distance</th>\n",
       "      <th>orig_weather_categ</th>\n",
       "      <th>dest_weather_categ</th>\n",
       "      <th>year</th>\n",
       "      <th>month</th>\n",
       "      <th>day</th>\n",
       "      <th>dep_time_of_day</th>\n",
       "      <th>arr_time_of_day</th>\n",
       "      <th>orig_region</th>\n",
       "      <th>dest_region</th>\n",
       "      <th>mean_arr_delay_orig_airport</th>\n",
       "      <th>mean_arr_delay_dest_airport</th>\n",
       "      <th>mean_arr_delay_carrier</th>\n",
       "    </tr>\n",
       "  </thead>\n",
       "  <tbody>\n",
       "    <tr>\n",
       "      <th>0</th>\n",
       "      <td>738</td>\n",
       "      <td>840</td>\n",
       "      <td>62.0</td>\n",
       "      <td>1.0</td>\n",
       "      <td>73.0</td>\n",
       "      <td>sunny</td>\n",
       "      <td>sunny</td>\n",
       "      <td>2019</td>\n",
       "      <td>12</td>\n",
       "      <td>25</td>\n",
       "      <td>0</td>\n",
       "      <td>0</td>\n",
       "      <td>South-West</td>\n",
       "      <td>South-West</td>\n",
       "      <td>1.562500</td>\n",
       "      <td>7.986150</td>\n",
       "      <td>8.249349</td>\n",
       "    </tr>\n",
       "    <tr>\n",
       "      <th>1</th>\n",
       "      <td>1917</td>\n",
       "      <td>2207</td>\n",
       "      <td>110.0</td>\n",
       "      <td>1.0</td>\n",
       "      <td>535.0</td>\n",
       "      <td>rain</td>\n",
       "      <td>sunny</td>\n",
       "      <td>2019</td>\n",
       "      <td>10</td>\n",
       "      <td>22</td>\n",
       "      <td>3</td>\n",
       "      <td>1</td>\n",
       "      <td>East-South Central</td>\n",
       "      <td>South-Atlantic</td>\n",
       "      <td>8.142857</td>\n",
       "      <td>6.542373</td>\n",
       "      <td>16.312883</td>\n",
       "    </tr>\n",
       "  </tbody>\n",
       "</table>\n",
       "</div>"
      ],
      "text/plain": [
       "   crs_dep_time  crs_arr_time  crs_elapsed_time  flights  distance  \\\n",
       "0           738           840              62.0      1.0      73.0   \n",
       "1          1917          2207             110.0      1.0     535.0   \n",
       "\n",
       "  orig_weather_categ dest_weather_categ  year  month  day  dep_time_of_day  \\\n",
       "0              sunny              sunny  2019     12   25                0   \n",
       "1               rain              sunny  2019     10   22                3   \n",
       "\n",
       "   arr_time_of_day         orig_region     dest_region  \\\n",
       "0                0          South-West      South-West   \n",
       "1                1  East-South Central  South-Atlantic   \n",
       "\n",
       "   mean_arr_delay_orig_airport  mean_arr_delay_dest_airport  \\\n",
       "0                     1.562500                     7.986150   \n",
       "1                     8.142857                     6.542373   \n",
       "\n",
       "   mean_arr_delay_carrier  \n",
       "0                8.249349  \n",
       "1               16.312883  "
      ]
     },
     "execution_count": 62,
     "metadata": {},
     "output_type": "execute_result"
    }
   ],
   "source": [
    "test_M1.head(2)"
   ]
  },
  {
   "cell_type": "markdown",
   "id": "374d6180-3745-4edb-a072-e78a0901d416",
   "metadata": {},
   "source": [
    "### Convert weather categories to dummy variables"
   ]
  },
  {
   "cell_type": "code",
   "execution_count": 63,
   "id": "459517f6-cacb-4bf4-b673-3098c8f4cb12",
   "metadata": {},
   "outputs": [],
   "source": [
    "test_M1 = pd.get_dummies(test_M1, drop_first=True)"
   ]
  },
  {
   "cell_type": "code",
   "execution_count": 64,
   "id": "130dddda-21a5-4642-8b18-c42c0c77eec3",
   "metadata": {
    "tags": []
   },
   "outputs": [
    {
     "data": {
      "text/html": [
       "<div>\n",
       "<style scoped>\n",
       "    .dataframe tbody tr th:only-of-type {\n",
       "        vertical-align: middle;\n",
       "    }\n",
       "\n",
       "    .dataframe tbody tr th {\n",
       "        vertical-align: top;\n",
       "    }\n",
       "\n",
       "    .dataframe thead th {\n",
       "        text-align: right;\n",
       "    }\n",
       "</style>\n",
       "<table border=\"1\" class=\"dataframe\">\n",
       "  <thead>\n",
       "    <tr style=\"text-align: right;\">\n",
       "      <th></th>\n",
       "      <th>crs_dep_time</th>\n",
       "      <th>crs_arr_time</th>\n",
       "      <th>crs_elapsed_time</th>\n",
       "      <th>flights</th>\n",
       "      <th>distance</th>\n",
       "      <th>year</th>\n",
       "      <th>month</th>\n",
       "      <th>day</th>\n",
       "      <th>dep_time_of_day</th>\n",
       "      <th>arr_time_of_day</th>\n",
       "      <th>...</th>\n",
       "      <th>dest_region_East-South Central</th>\n",
       "      <th>dest_region_Mid-Atlantic</th>\n",
       "      <th>dest_region_New England</th>\n",
       "      <th>dest_region_North-West</th>\n",
       "      <th>dest_region_Offshore Territory</th>\n",
       "      <th>dest_region_Pacific</th>\n",
       "      <th>dest_region_South-Atlantic</th>\n",
       "      <th>dest_region_South-West</th>\n",
       "      <th>dest_region_West-North Central</th>\n",
       "      <th>dest_region_West-South Central</th>\n",
       "    </tr>\n",
       "  </thead>\n",
       "  <tbody>\n",
       "    <tr>\n",
       "      <th>0</th>\n",
       "      <td>738</td>\n",
       "      <td>840</td>\n",
       "      <td>62.0</td>\n",
       "      <td>1.0</td>\n",
       "      <td>73.0</td>\n",
       "      <td>2019</td>\n",
       "      <td>12</td>\n",
       "      <td>25</td>\n",
       "      <td>0</td>\n",
       "      <td>0</td>\n",
       "      <td>...</td>\n",
       "      <td>0</td>\n",
       "      <td>0</td>\n",
       "      <td>0</td>\n",
       "      <td>0</td>\n",
       "      <td>0</td>\n",
       "      <td>0</td>\n",
       "      <td>0</td>\n",
       "      <td>1</td>\n",
       "      <td>0</td>\n",
       "      <td>0</td>\n",
       "    </tr>\n",
       "  </tbody>\n",
       "</table>\n",
       "<p>1 rows × 43 columns</p>\n",
       "</div>"
      ],
      "text/plain": [
       "   crs_dep_time  crs_arr_time  crs_elapsed_time  flights  distance  year  \\\n",
       "0           738           840              62.0      1.0      73.0  2019   \n",
       "\n",
       "   month  day  dep_time_of_day  arr_time_of_day  ...  \\\n",
       "0     12   25                0                0  ...   \n",
       "\n",
       "   dest_region_East-South Central  dest_region_Mid-Atlantic  \\\n",
       "0                               0                         0   \n",
       "\n",
       "   dest_region_New England  dest_region_North-West  \\\n",
       "0                        0                       0   \n",
       "\n",
       "   dest_region_Offshore Territory  dest_region_Pacific  \\\n",
       "0                               0                    0   \n",
       "\n",
       "   dest_region_South-Atlantic  dest_region_South-West  \\\n",
       "0                           0                       1   \n",
       "\n",
       "   dest_region_West-North Central  dest_region_West-South Central  \n",
       "0                               0                               0  \n",
       "\n",
       "[1 rows x 43 columns]"
      ]
     },
     "execution_count": 64,
     "metadata": {},
     "output_type": "execute_result"
    }
   ],
   "source": [
    "test_M1.head(1)"
   ]
  },
  {
   "cell_type": "markdown",
   "id": "a166b9d5-0555-4a0d-bc19-2abae760b4ea",
   "metadata": {},
   "source": [
    "## final check to make sure the shapes match"
   ]
  },
  {
   "cell_type": "code",
   "execution_count": 65,
   "id": "439dd863-a33a-4567-9e8f-4471cead749e",
   "metadata": {},
   "outputs": [
    {
     "data": {
      "text/plain": [
       "(8000, 43)"
      ]
     },
     "execution_count": 65,
     "metadata": {},
     "output_type": "execute_result"
    }
   ],
   "source": [
    "flights_M1.shape"
   ]
  },
  {
   "cell_type": "code",
   "execution_count": 66,
   "id": "f6e6a0c0-92bf-4982-b8f0-139bc91de4fc",
   "metadata": {},
   "outputs": [
    {
     "data": {
      "text/plain": [
       "(2000, 43)"
      ]
     },
     "execution_count": 66,
     "metadata": {},
     "output_type": "execute_result"
    }
   ],
   "source": [
    "test_M1.shape"
   ]
  },
  {
   "cell_type": "code",
   "execution_count": 67,
   "id": "a32f58e5-3e92-45a3-a8cb-f8624ba440a9",
   "metadata": {},
   "outputs": [
    {
     "data": {
      "text/plain": [
       "Index(['crs_dep_time', 'crs_arr_time', 'crs_elapsed_time', 'flights',\n",
       "       'distance', 'year', 'month', 'day', 'dep_time_of_day',\n",
       "       'arr_time_of_day', 'mean_arr_delay_orig_airport',\n",
       "       'mean_arr_delay_dest_airport', 'mean_arr_delay_carrier',\n",
       "       'orig_weather_categ_no weather data', 'orig_weather_categ_rain',\n",
       "       'orig_weather_categ_snow', 'orig_weather_categ_snow & rain',\n",
       "       'orig_weather_categ_sunny', 'dest_weather_categ_no weather data',\n",
       "       'dest_weather_categ_rain', 'dest_weather_categ_snow',\n",
       "       'dest_weather_categ_snow & rain', 'dest_weather_categ_sunny',\n",
       "       'orig_region_East-South Central', 'orig_region_Mid-Atlantic',\n",
       "       'orig_region_New England', 'orig_region_North-West',\n",
       "       'orig_region_Offshore Territory', 'orig_region_Pacific',\n",
       "       'orig_region_South-Atlantic', 'orig_region_South-West',\n",
       "       'orig_region_West-North Central', 'orig_region_West-South Central',\n",
       "       'dest_region_East-South Central', 'dest_region_Mid-Atlantic',\n",
       "       'dest_region_New England', 'dest_region_North-West',\n",
       "       'dest_region_Offshore Territory', 'dest_region_Pacific',\n",
       "       'dest_region_South-Atlantic', 'dest_region_South-West',\n",
       "       'dest_region_West-North Central', 'dest_region_West-South Central'],\n",
       "      dtype='object')"
      ]
     },
     "execution_count": 67,
     "metadata": {},
     "output_type": "execute_result"
    }
   ],
   "source": [
    "flights_M1.columns"
   ]
  },
  {
   "cell_type": "code",
   "execution_count": 68,
   "id": "0ccb5888-9e5f-4223-8045-e8f6b64c3855",
   "metadata": {},
   "outputs": [
    {
     "data": {
      "text/plain": [
       "Index(['crs_dep_time', 'crs_arr_time', 'crs_elapsed_time', 'flights',\n",
       "       'distance', 'year', 'month', 'day', 'dep_time_of_day',\n",
       "       'arr_time_of_day', 'mean_arr_delay_orig_airport',\n",
       "       'mean_arr_delay_dest_airport', 'mean_arr_delay_carrier',\n",
       "       'orig_weather_categ_no weather data', 'orig_weather_categ_rain',\n",
       "       'orig_weather_categ_snow', 'orig_weather_categ_snow & rain',\n",
       "       'orig_weather_categ_sunny', 'dest_weather_categ_no weather data',\n",
       "       'dest_weather_categ_rain', 'dest_weather_categ_snow',\n",
       "       'dest_weather_categ_snow & rain', 'dest_weather_categ_sunny',\n",
       "       'orig_region_East-South Central', 'orig_region_Mid-Atlantic',\n",
       "       'orig_region_New England', 'orig_region_North-West',\n",
       "       'orig_region_Offshore Territory', 'orig_region_Pacific',\n",
       "       'orig_region_South-Atlantic', 'orig_region_South-West',\n",
       "       'orig_region_West-North Central', 'orig_region_West-South Central',\n",
       "       'dest_region_East-South Central', 'dest_region_Mid-Atlantic',\n",
       "       'dest_region_New England', 'dest_region_North-West',\n",
       "       'dest_region_Offshore Territory', 'dest_region_Pacific',\n",
       "       'dest_region_South-Atlantic', 'dest_region_South-West',\n",
       "       'dest_region_West-North Central', 'dest_region_West-South Central'],\n",
       "      dtype='object')"
      ]
     },
     "execution_count": 68,
     "metadata": {},
     "output_type": "execute_result"
    }
   ],
   "source": [
    "test_M1.columns"
   ]
  },
  {
   "cell_type": "markdown",
   "id": "346a3da8-6bf4-462a-bb42-4dc48dce16c7",
   "metadata": {},
   "source": [
    "### Run Model 1"
   ]
  },
  {
   "cell_type": "code",
   "execution_count": 69,
   "id": "193a7fcb-1242-47e0-9cb3-82b9f7bea29e",
   "metadata": {},
   "outputs": [],
   "source": [
    "from src.modules.data_preprocessing import regression"
   ]
  },
  {
   "cell_type": "code",
   "execution_count": 70,
   "id": "d81c1cf2-93d2-4a76-a6ef-19bb5f3fcd9c",
   "metadata": {},
   "outputs": [],
   "source": [
    "from sklearn.ensemble import RandomForestRegressor\n",
    "from sklearn.linear_model import LinearRegression\n",
    "from sklearn.svm import SVR"
   ]
  },
  {
   "cell_type": "code",
   "execution_count": 71,
   "id": "f0acb69a-361e-4e37-938d-fec9f7974b13",
   "metadata": {},
   "outputs": [],
   "source": [
    "regressor_list = [LinearRegression, SVR, RandomForestRegressor]"
   ]
  },
  {
   "cell_type": "code",
   "execution_count": 72,
   "id": "12bb0df7-24e1-4461-afc5-b8fa0ecfea2f",
   "metadata": {
    "tags": []
   },
   "outputs": [
    {
     "name": "stdout",
     "output_type": "stream",
     "text": [
      "Regressor: <class 'sklearn.linear_model._base.LinearRegression'> \n",
      " MSE = 2391.379394421998 \n",
      " R2 = -0.017984951129142335 \n",
      " ----------------------------\n",
      "Regressor: <class 'sklearn.svm._classes.SVR'> \n",
      " MSE = 2380.537567902853 \n",
      " R2 = -0.013369700088263325 \n",
      " ----------------------------\n",
      "Regressor: <class 'sklearn.ensemble._forest.RandomForestRegressor'> \n",
      " MSE = 2549.2874101499997 \n",
      " R2 = -0.0852047256445212 \n",
      " ----------------------------\n"
     ]
    }
   ],
   "source": [
    "regression(flights_M1, test_M1, y_train, y_test, regressor_list)"
   ]
  },
  {
   "cell_type": "code",
   "execution_count": null,
   "id": "bcdce98f-338a-48e4-abe8-31e45b8ca08e",
   "metadata": {},
   "outputs": [],
   "source": []
  }
 ],
 "metadata": {
  "kernelspec": {
   "display_name": "Python 3 (ipykernel)",
   "language": "python",
   "name": "python3"
  },
  "language_info": {
   "codemirror_mode": {
    "name": "ipython",
    "version": 3
   },
   "file_extension": ".py",
   "mimetype": "text/x-python",
   "name": "python",
   "nbconvert_exporter": "python",
   "pygments_lexer": "ipython3",
   "version": "3.8.13"
  }
 },
 "nbformat": 4,
 "nbformat_minor": 5
}
