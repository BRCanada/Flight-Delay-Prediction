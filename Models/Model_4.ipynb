{
 "cells": [
  {
   "cell_type": "markdown",
   "id": "df084947-b3d6-4f86-b913-37a49a7e4765",
   "metadata": {},
   "source": [
    "# Model 3: Random Search Cross Validation (One-Hot Encoding)\n",
    "In this notebook, we will be using the refined data from Model 1 and our insights gained from our regression function to fine-tune our hyperparameters."
   ]
  },
  {
   "cell_type": "code",
   "execution_count": 1,
   "id": "a8b5b932-0a71-401c-8483-c895774d0d86",
   "metadata": {},
   "outputs": [],
   "source": [
    "# Import sys so we can import custom packages without error\n",
    "import sys\n",
    "sys.path.append('../')"
   ]
  },
  {
   "cell_type": "code",
   "execution_count": 2,
   "id": "3da7222a-4743-4cd3-9985-6cd0f38b1f2f",
   "metadata": {},
   "outputs": [],
   "source": [
    "# Import pandas/numpy\n",
    "import pandas as pd\n",
    "import numpy as np\n",
    "\n",
    "# Import our modeling.py module\n",
    "from src.modules.modeling import *\n",
    "\n",
    "# Import warnings\n",
    "import warnings\n"
   ]
  },
  {
   "cell_type": "code",
   "execution_count": 3,
   "id": "3a024c5a-a5ef-45d2-a522-64dfe0439c93",
   "metadata": {},
   "outputs": [],
   "source": [
    "# Set ignore for warnings\n",
    "warnings.filterwarnings('ignore')"
   ]
  },
  {
   "cell_type": "code",
   "execution_count": 4,
   "id": "187036e3-d78b-44a1-8cc1-20fb50bc5472",
   "metadata": {},
   "outputs": [],
   "source": [
    "# Import our saved X and y data exported from Model 1\n",
    "X_train_M4 = pd.read_csv('../data/X_train_M4.csv', index_col=0)\n",
    "X_test_M4 = pd.read_csv('../data/X_test_M4.csv', index_col=0)\n",
    "y_train_M4 = pd.read_csv('../data/y_train_M4.csv', index_col=0)\n",
    "y_test_M4 = pd.read_csv('../data/y_test_M4.csv', index_col=0)"
   ]
  },
  {
   "cell_type": "code",
   "execution_count": 5,
   "id": "84912e27-bb19-4591-8d2c-ba1d99ad4363",
   "metadata": {},
   "outputs": [
    {
     "data": {
      "text/plain": [
       "Index(['crs_dep_time', 'crs_arr_time', 'crs_elapsed_time', 'flights',\n",
       "       'distance', 'year', 'month', 'day', 'dep_time_of_day',\n",
       "       'arr_time_of_day', 'mean_arr_delay_orig_airport',\n",
       "       'mean_arr_delay_dest_airport', 'mean_arr_delay_carrier',\n",
       "       'orig_weather_categ_no weather data', 'orig_weather_categ_rain',\n",
       "       'orig_weather_categ_snow', 'orig_weather_categ_snow & rain',\n",
       "       'orig_weather_categ_sunny', 'dest_weather_categ_no weather data',\n",
       "       'dest_weather_categ_rain', 'dest_weather_categ_snow',\n",
       "       'dest_weather_categ_snow & rain', 'dest_weather_categ_sunny',\n",
       "       'orig_region_East-South Central', 'orig_region_Mid-Atlantic',\n",
       "       'orig_region_New England', 'orig_region_North-West',\n",
       "       'orig_region_Offshore Territory', 'orig_region_Pacific',\n",
       "       'orig_region_South-Atlantic', 'orig_region_South-West',\n",
       "       'orig_region_West-North Central', 'orig_region_West-South Central',\n",
       "       'dest_region_East-South Central', 'dest_region_Mid-Atlantic',\n",
       "       'dest_region_New England', 'dest_region_North-West',\n",
       "       'dest_region_Offshore Territory', 'dest_region_Pacific',\n",
       "       'dest_region_South-Atlantic', 'dest_region_South-West',\n",
       "       'dest_region_West-North Central', 'dest_region_West-South Central'],\n",
       "      dtype='object')"
      ]
     },
     "execution_count": 5,
     "metadata": {},
     "output_type": "execute_result"
    }
   ],
   "source": [
    "X_train_M4.columns"
   ]
  },
  {
   "cell_type": "code",
   "execution_count": 6,
   "id": "5c650662-c0ef-4001-9034-0799ac2eeb0d",
   "metadata": {},
   "outputs": [
    {
     "data": {
      "text/plain": [
       "Index(['crs_dep_time', 'crs_arr_time', 'crs_elapsed_time', 'flights',\n",
       "       'distance', 'year', 'month', 'day', 'dep_time_of_day',\n",
       "       'arr_time_of_day', 'mean_arr_delay_orig_airport',\n",
       "       'mean_arr_delay_dest_airport', 'mean_arr_delay_carrier',\n",
       "       'orig_weather_categ_no weather data', 'orig_weather_categ_rain',\n",
       "       'orig_weather_categ_snow', 'orig_weather_categ_snow & rain',\n",
       "       'orig_weather_categ_sunny', 'dest_weather_categ_no weather data',\n",
       "       'dest_weather_categ_rain', 'dest_weather_categ_snow',\n",
       "       'dest_weather_categ_snow & rain', 'dest_weather_categ_sunny',\n",
       "       'orig_region_East-South Central', 'orig_region_Mid-Atlantic',\n",
       "       'orig_region_New England', 'orig_region_North-West',\n",
       "       'orig_region_Offshore Territory', 'orig_region_Pacific',\n",
       "       'orig_region_South-Atlantic', 'orig_region_South-West',\n",
       "       'orig_region_West-North Central', 'orig_region_West-South Central',\n",
       "       'dest_region_East-South Central', 'dest_region_Mid-Atlantic',\n",
       "       'dest_region_New England', 'dest_region_North-West',\n",
       "       'dest_region_Offshore Territory', 'dest_region_Pacific',\n",
       "       'dest_region_South-Atlantic', 'dest_region_South-West',\n",
       "       'dest_region_West-North Central', 'dest_region_West-South Central'],\n",
       "      dtype='object')"
      ]
     },
     "execution_count": 6,
     "metadata": {},
     "output_type": "execute_result"
    }
   ],
   "source": [
    "X_test_M4.columns"
   ]
  },
  {
   "cell_type": "markdown",
   "id": "168b5bf7-cb19-44f6-8f50-df1660fe8786",
   "metadata": {},
   "source": [
    "Before running our Random Search, we are going to define some models and parameter ranges for the function\n"
   ]
  },
  {
   "cell_type": "code",
   "execution_count": 7,
   "id": "521d4a64-cc5b-4850-b5fa-657f43a77e0d",
   "metadata": {},
   "outputs": [],
   "source": [
    "X = pd.concat([X_train_M4, X_test_M4], axis=0)"
   ]
  },
  {
   "cell_type": "code",
   "execution_count": 8,
   "id": "11df1644-3056-4774-8639-318e3aa2eb06",
   "metadata": {},
   "outputs": [
    {
     "data": {
      "text/html": [
       "<div>\n",
       "<style scoped>\n",
       "    .dataframe tbody tr th:only-of-type {\n",
       "        vertical-align: middle;\n",
       "    }\n",
       "\n",
       "    .dataframe tbody tr th {\n",
       "        vertical-align: top;\n",
       "    }\n",
       "\n",
       "    .dataframe thead th {\n",
       "        text-align: right;\n",
       "    }\n",
       "</style>\n",
       "<table border=\"1\" class=\"dataframe\">\n",
       "  <thead>\n",
       "    <tr style=\"text-align: right;\">\n",
       "      <th></th>\n",
       "      <th>crs_dep_time</th>\n",
       "      <th>crs_arr_time</th>\n",
       "      <th>crs_elapsed_time</th>\n",
       "      <th>flights</th>\n",
       "      <th>distance</th>\n",
       "      <th>year</th>\n",
       "      <th>month</th>\n",
       "      <th>day</th>\n",
       "      <th>dep_time_of_day</th>\n",
       "      <th>arr_time_of_day</th>\n",
       "      <th>...</th>\n",
       "      <th>dest_region_East-South Central</th>\n",
       "      <th>dest_region_Mid-Atlantic</th>\n",
       "      <th>dest_region_New England</th>\n",
       "      <th>dest_region_North-West</th>\n",
       "      <th>dest_region_Offshore Territory</th>\n",
       "      <th>dest_region_Pacific</th>\n",
       "      <th>dest_region_South-Atlantic</th>\n",
       "      <th>dest_region_South-West</th>\n",
       "      <th>dest_region_West-North Central</th>\n",
       "      <th>dest_region_West-South Central</th>\n",
       "    </tr>\n",
       "  </thead>\n",
       "  <tbody>\n",
       "    <tr>\n",
       "      <th>0</th>\n",
       "      <td>801</td>\n",
       "      <td>850</td>\n",
       "      <td>109.0</td>\n",
       "      <td>1.0</td>\n",
       "      <td>533.0</td>\n",
       "      <td>2018</td>\n",
       "      <td>12</td>\n",
       "      <td>16</td>\n",
       "      <td>0</td>\n",
       "      <td>0</td>\n",
       "      <td>...</td>\n",
       "      <td>0</td>\n",
       "      <td>0</td>\n",
       "      <td>0</td>\n",
       "      <td>0</td>\n",
       "      <td>0</td>\n",
       "      <td>0</td>\n",
       "      <td>0</td>\n",
       "      <td>1</td>\n",
       "      <td>0</td>\n",
       "      <td>0</td>\n",
       "    </tr>\n",
       "    <tr>\n",
       "      <th>1</th>\n",
       "      <td>610</td>\n",
       "      <td>847</td>\n",
       "      <td>97.0</td>\n",
       "      <td>1.0</td>\n",
       "      <td>350.0</td>\n",
       "      <td>2019</td>\n",
       "      <td>7</td>\n",
       "      <td>9</td>\n",
       "      <td>0</td>\n",
       "      <td>0</td>\n",
       "      <td>...</td>\n",
       "      <td>0</td>\n",
       "      <td>0</td>\n",
       "      <td>0</td>\n",
       "      <td>0</td>\n",
       "      <td>0</td>\n",
       "      <td>0</td>\n",
       "      <td>1</td>\n",
       "      <td>0</td>\n",
       "      <td>0</td>\n",
       "      <td>0</td>\n",
       "    </tr>\n",
       "    <tr>\n",
       "      <th>2</th>\n",
       "      <td>855</td>\n",
       "      <td>1049</td>\n",
       "      <td>114.0</td>\n",
       "      <td>1.0</td>\n",
       "      <td>489.0</td>\n",
       "      <td>2019</td>\n",
       "      <td>5</td>\n",
       "      <td>5</td>\n",
       "      <td>0</td>\n",
       "      <td>0</td>\n",
       "      <td>...</td>\n",
       "      <td>0</td>\n",
       "      <td>0</td>\n",
       "      <td>0</td>\n",
       "      <td>0</td>\n",
       "      <td>0</td>\n",
       "      <td>0</td>\n",
       "      <td>0</td>\n",
       "      <td>0</td>\n",
       "      <td>0</td>\n",
       "      <td>0</td>\n",
       "    </tr>\n",
       "    <tr>\n",
       "      <th>3</th>\n",
       "      <td>1300</td>\n",
       "      <td>1650</td>\n",
       "      <td>170.0</td>\n",
       "      <td>1.0</td>\n",
       "      <td>1120.0</td>\n",
       "      <td>2019</td>\n",
       "      <td>1</td>\n",
       "      <td>31</td>\n",
       "      <td>2</td>\n",
       "      <td>2</td>\n",
       "      <td>...</td>\n",
       "      <td>0</td>\n",
       "      <td>0</td>\n",
       "      <td>0</td>\n",
       "      <td>0</td>\n",
       "      <td>0</td>\n",
       "      <td>0</td>\n",
       "      <td>1</td>\n",
       "      <td>0</td>\n",
       "      <td>0</td>\n",
       "      <td>0</td>\n",
       "    </tr>\n",
       "    <tr>\n",
       "      <th>4</th>\n",
       "      <td>1210</td>\n",
       "      <td>1320</td>\n",
       "      <td>70.0</td>\n",
       "      <td>1.0</td>\n",
       "      <td>207.0</td>\n",
       "      <td>2019</td>\n",
       "      <td>11</td>\n",
       "      <td>26</td>\n",
       "      <td>2</td>\n",
       "      <td>2</td>\n",
       "      <td>...</td>\n",
       "      <td>0</td>\n",
       "      <td>0</td>\n",
       "      <td>0</td>\n",
       "      <td>0</td>\n",
       "      <td>0</td>\n",
       "      <td>0</td>\n",
       "      <td>0</td>\n",
       "      <td>0</td>\n",
       "      <td>0</td>\n",
       "      <td>0</td>\n",
       "    </tr>\n",
       "  </tbody>\n",
       "</table>\n",
       "<p>5 rows × 43 columns</p>\n",
       "</div>"
      ],
      "text/plain": [
       "   crs_dep_time  crs_arr_time  crs_elapsed_time  flights  distance  year  \\\n",
       "0           801           850             109.0      1.0     533.0  2018   \n",
       "1           610           847              97.0      1.0     350.0  2019   \n",
       "2           855          1049             114.0      1.0     489.0  2019   \n",
       "3          1300          1650             170.0      1.0    1120.0  2019   \n",
       "4          1210          1320              70.0      1.0     207.0  2019   \n",
       "\n",
       "   month  day  dep_time_of_day  arr_time_of_day  ...  \\\n",
       "0     12   16                0                0  ...   \n",
       "1      7    9                0                0  ...   \n",
       "2      5    5                0                0  ...   \n",
       "3      1   31                2                2  ...   \n",
       "4     11   26                2                2  ...   \n",
       "\n",
       "   dest_region_East-South Central  dest_region_Mid-Atlantic  \\\n",
       "0                               0                         0   \n",
       "1                               0                         0   \n",
       "2                               0                         0   \n",
       "3                               0                         0   \n",
       "4                               0                         0   \n",
       "\n",
       "   dest_region_New England  dest_region_North-West  \\\n",
       "0                        0                       0   \n",
       "1                        0                       0   \n",
       "2                        0                       0   \n",
       "3                        0                       0   \n",
       "4                        0                       0   \n",
       "\n",
       "   dest_region_Offshore Territory  dest_region_Pacific  \\\n",
       "0                               0                    0   \n",
       "1                               0                    0   \n",
       "2                               0                    0   \n",
       "3                               0                    0   \n",
       "4                               0                    0   \n",
       "\n",
       "   dest_region_South-Atlantic  dest_region_South-West  \\\n",
       "0                           0                       1   \n",
       "1                           1                       0   \n",
       "2                           0                       0   \n",
       "3                           1                       0   \n",
       "4                           0                       0   \n",
       "\n",
       "   dest_region_West-North Central  dest_region_West-South Central  \n",
       "0                               0                               0  \n",
       "1                               0                               0  \n",
       "2                               0                               0  \n",
       "3                               0                               0  \n",
       "4                               0                               0  \n",
       "\n",
       "[5 rows x 43 columns]"
      ]
     },
     "execution_count": 8,
     "metadata": {},
     "output_type": "execute_result"
    }
   ],
   "source": [
    "X.head()"
   ]
  },
  {
   "cell_type": "code",
   "execution_count": 9,
   "id": "9ab88be3-5c74-46aa-9797-540ff34a5ac0",
   "metadata": {},
   "outputs": [],
   "source": [
    "y = pd.concat([y_train_M4, y_test_M4], axis=0)"
   ]
  },
  {
   "cell_type": "code",
   "execution_count": 10,
   "id": "f1c187dd-bd6e-4a38-9b6c-7d02375dabc4",
   "metadata": {},
   "outputs": [
    {
     "data": {
      "text/html": [
       "<div>\n",
       "<style scoped>\n",
       "    .dataframe tbody tr th:only-of-type {\n",
       "        vertical-align: middle;\n",
       "    }\n",
       "\n",
       "    .dataframe tbody tr th {\n",
       "        vertical-align: top;\n",
       "    }\n",
       "\n",
       "    .dataframe thead th {\n",
       "        text-align: right;\n",
       "    }\n",
       "</style>\n",
       "<table border=\"1\" class=\"dataframe\">\n",
       "  <thead>\n",
       "    <tr style=\"text-align: right;\">\n",
       "      <th></th>\n",
       "      <th>arr_delay</th>\n",
       "    </tr>\n",
       "  </thead>\n",
       "  <tbody>\n",
       "    <tr>\n",
       "      <th>9254</th>\n",
       "      <td>-17.0</td>\n",
       "    </tr>\n",
       "    <tr>\n",
       "      <th>1561</th>\n",
       "      <td>-12.0</td>\n",
       "    </tr>\n",
       "    <tr>\n",
       "      <th>1670</th>\n",
       "      <td>-16.0</td>\n",
       "    </tr>\n",
       "    <tr>\n",
       "      <th>6087</th>\n",
       "      <td>0.0</td>\n",
       "    </tr>\n",
       "    <tr>\n",
       "      <th>6669</th>\n",
       "      <td>-11.0</td>\n",
       "    </tr>\n",
       "  </tbody>\n",
       "</table>\n",
       "</div>"
      ],
      "text/plain": [
       "      arr_delay\n",
       "9254      -17.0\n",
       "1561      -12.0\n",
       "1670      -16.0\n",
       "6087        0.0\n",
       "6669      -11.0"
      ]
     },
     "execution_count": 10,
     "metadata": {},
     "output_type": "execute_result"
    }
   ],
   "source": [
    "y.head()"
   ]
  },
  {
   "cell_type": "markdown",
   "id": "92eeb156-9348-48bb-b6ca-5a6edfc168f1",
   "metadata": {
    "tags": []
   },
   "source": [
    "### Linear Regression"
   ]
  },
  {
   "cell_type": "code",
   "execution_count": 11,
   "id": "19d709e3-7744-4f6c-a1ef-59ed8b74b5d2",
   "metadata": {},
   "outputs": [],
   "source": [
    "scoring = {'R2 Score': 'r2', 'Accuracy' : 'accuracy', 'MSE' : 'neg_mean_squared_error'}"
   ]
  },
  {
   "cell_type": "code",
   "execution_count": 12,
   "id": "63e39dc8-7380-4664-ae46-d63424d05f08",
   "metadata": {},
   "outputs": [],
   "source": [
    "lr_model = LinearRegression()"
   ]
  },
  {
   "cell_type": "code",
   "execution_count": 13,
   "id": "9c959d1f-fbe7-4a2c-9239-8be2ac0b1634",
   "metadata": {},
   "outputs": [],
   "source": [
    "lr_parameters = {'fit_intercept' : [True, False],\n",
    "                 'normalize' : [True, False]\n",
    "                 }"
   ]
  },
  {
   "cell_type": "code",
   "execution_count": 17,
   "id": "f24c47ed-2d16-45ee-9970-0ea7a6751119",
   "metadata": {
    "collapsed": true,
    "jupyter": {
     "outputs_hidden": true
    },
    "tags": []
   },
   "outputs": [
    {
     "name": "stdout",
     "output_type": "stream",
     "text": [
      " Results from Random Search \n",
      "\n",
      " The best estimator across ALL searched params:\n",
      " LinearRegression(fit_intercept=False, normalize=True)\n",
      "\n",
      " R2 score:\n",
      " 0.050829318192529005\n",
      "\n",
      " MSE scroe:\n",
      " 2190.0346721711494\n",
      "\n",
      " The best score across ALL searched params:\n",
      " 0.06736842774962093\n",
      "\n",
      " The best parameters across ALL searched params:\n",
      " {'normalize': True, 'fit_intercept': False}\n"
     ]
    }
   ],
   "source": [
    "random_search(X, y, lr_model, lr_parameters, scoring, 0.3, scale=False)"
   ]
  },
  {
   "cell_type": "markdown",
   "id": "69522bd0-e725-479b-a521-c320e00843d2",
   "metadata": {},
   "source": [
    "Results from Random Search \n",
    "<Br>\n",
    " The best estimator across ALL searched params:\n",
    " LinearRegression(fit_intercept=False, normalize=True)\n",
    "<Br>\n",
    "<Br>\n",
    " R2 score:\n",
    " 0.050829318192529005\n",
    "<Br>\n",
    " MSE scroe:\n",
    " 2190.0346721711494\n",
    "<br>\n",
    " The best score across ALL searched params:\n",
    " 0.06736842774962093\n",
    "<br>\n",
    " The best parameters across ALL searched params:\n",
    " {'normalize': True, 'fit_intercept': False}"
   ]
  },
  {
   "cell_type": "markdown",
   "id": "42eb5485-fcfb-48c7-a049-a9cfdb810bb4",
   "metadata": {},
   "source": [
    "### Random Forest"
   ]
  },
  {
   "cell_type": "code",
   "execution_count": 18,
   "id": "2c3a1e17-7df8-4e64-8e54-d9a3c750c835",
   "metadata": {
    "tags": []
   },
   "outputs": [],
   "source": [
    "rf_model = RandomForestRegressor()"
   ]
  },
  {
   "cell_type": "code",
   "execution_count": 32,
   "id": "ecaaf443-3f13-4765-9efc-649a50c117d1",
   "metadata": {},
   "outputs": [],
   "source": [
    "rf_parameters = {'n_estimators' : np.arange(825, 835),\n",
    "                 'max_depth' : np.arange(9,11),\n",
    "                 'max_features' : ['auto', 'sqrt', 'log2', '0.2'],\n",
    "                 'min_samples_leaf' : np.arange(1,3),\n",
    "                 'min_samples_split' : np.arange(12,16),\n",
    "                 'bootstrap' : [True, False]\n",
    "               }"
   ]
  },
  {
   "cell_type": "code",
   "execution_count": 33,
   "id": "939b8e94-571f-4771-8e6e-2570c8d67e47",
   "metadata": {
    "collapsed": true,
    "jupyter": {
     "outputs_hidden": true
    },
    "tags": []
   },
   "outputs": [
    {
     "name": "stdout",
     "output_type": "stream",
     "text": [
      " Results from Random Search \n",
      "\n",
      " The best estimator across ALL searched params:\n",
      " RandomForestRegressor(max_depth=10, max_features='sqrt', min_samples_leaf=2,\n",
      "                      min_samples_split=14, n_estimators=831)\n",
      "\n",
      " R2 score:\n",
      " 0.059739861739544375\n",
      "\n",
      " MSE scroe:\n",
      " 1755.3683921320721\n",
      "\n",
      " The best score across ALL searched params:\n",
      " 0.06923562656461398\n",
      "\n",
      " The best parameters across ALL searched params:\n",
      " {'n_estimators': 831, 'min_samples_split': 14, 'min_samples_leaf': 2, 'max_features': 'sqrt', 'max_depth': 10, 'bootstrap': True}\n"
     ]
    }
   ],
   "source": [
    "random_search(X, y, rf_model, rf_parameters, scoring, 0.3, scale=False)"
   ]
  },
  {
   "cell_type": "markdown",
   "id": "05b002d5-2f39-49d0-a320-e5bd13706555",
   "metadata": {},
   "source": [
    "#### BEST Results from Random Search \n",
    "\n",
    " The best estimator across ALL searched params:\n",
    " RandomForestRegressor(max_depth=10, max_features='sqrt', min_samples_split=12,\n",
    "                      n_estimators=830)\n",
    "\n",
    " R2 score:\n",
    " 0.07929279251478571\n",
    "\n",
    " MSE scroe:\n",
    " 2841.410481765926\n",
    "\n",
    " The best score across ALL searched params:\n",
    " 0.051522136410740285\n",
    "\n",
    " The best parameters across ALL searched params:\n",
    " {'n_estimators': 830, 'min_samples_split': 12, 'min_samples_leaf': 1, 'max_features': 'sqrt', 'max_depth': 10, 'bootstrap': True}"
   ]
  },
  {
   "cell_type": "markdown",
   "id": "855ef972-ec81-499e-ba44-e91b2fe7fcfb",
   "metadata": {},
   "source": [
    "### Epsilon-Support Vector Regression (SVR)"
   ]
  },
  {
   "cell_type": "code",
   "execution_count": 34,
   "id": "99bf47df-7533-4985-9d50-3d4e79ca59ab",
   "metadata": {},
   "outputs": [],
   "source": [
    "svr_model = SVR()"
   ]
  },
  {
   "cell_type": "code",
   "execution_count": 44,
   "id": "e308173d-084e-4bcc-85a5-922b5f387fac",
   "metadata": {},
   "outputs": [],
   "source": [
    "svr_parameters = {'C' : np.arange(79, 80, 0.1),\n",
    "                  'gamma' : np.arange(0.001, 0.009, 0.0005),\n",
    "                  'epsilon' : np.arange(24.0,25.6,0.2)\n",
    "                 }"
   ]
  },
  {
   "cell_type": "code",
   "execution_count": 45,
   "id": "dc0bde68-6ff7-4397-af65-0ceba3337797",
   "metadata": {
    "tags": []
   },
   "outputs": [
    {
     "name": "stdout",
     "output_type": "stream",
     "text": [
      " Results from Random Search \n",
      "\n",
      " The best estimator across ALL searched params:\n",
      " SVR(C=79.69999999999996, epsilon=24.4, gamma=0.003)\n",
      "\n",
      " R2 score:\n",
      " 0.05586629832210033\n",
      "\n",
      " MSE scroe:\n",
      " 2357.684320040533\n",
      "\n",
      " The best score across ALL searched params:\n",
      " 0.04306305804277859\n",
      "\n",
      " The best parameters across ALL searched params:\n",
      " {'gamma': 0.003, 'epsilon': 24.4, 'C': 79.69999999999996}\n"
     ]
    }
   ],
   "source": [
    "random_search(X, y, svr_model, svr_parameters, scoring, 0.3, scale=True)"
   ]
  },
  {
   "cell_type": "markdown",
   "id": "299ccab4-ac62-4c0d-9e82-37c7f777caaf",
   "metadata": {},
   "source": [
    "### BEST Results from Random Search\n",
    " The best estimator across ALL searched params:\n",
    " SVR(C=79.69999999999996, epsilon=24.4, gamma=0.003)\n",
    "\n",
    " R2 score:\n",
    " 0.05586629832210033\n",
    "\n",
    " MSE scroe:\n",
    " 2357.684320040533\n",
    "\n",
    " The best score across ALL searched params:\n",
    " 0.04306305804277859\n",
    "\n",
    " The best parameters across ALL searched params:\n",
    " {'gamma': 0.003, 'epsilon': 24.4, 'C': 79.69999999999996}"
   ]
  },
  {
   "cell_type": "markdown",
   "id": "1757470f-cd8c-4605-a42b-571ecbd501cd",
   "metadata": {
    "jupyter": {
     "source_hidden": true
    },
    "tags": []
   },
   "source": [
    "### Trying Other Regressors (SGD)"
   ]
  },
  {
   "cell_type": "code",
   "execution_count": 46,
   "id": "ba81e10d-dbb7-4671-b830-b8f747be2aef",
   "metadata": {
    "jupyter": {
     "source_hidden": true
    },
    "tags": []
   },
   "outputs": [],
   "source": [
    "from sklearn.linear_model import SGDRegressor\n",
    "SGD_model = SGDRegressor()\n",
    "SGD_parameters = {'alpha' : np.arange(1e-9, 1e-7, 1e-9),\n",
    "                  'l1_ratio': np.arange(1, 5, 0.5),\n",
    "                  'max_iter': np.arange(50000,70000,50),\n",
    "                  'shuffle' : [True,False]\n",
    "}"
   ]
  },
  {
   "cell_type": "code",
   "execution_count": 47,
   "id": "c6280854-ef0f-44a1-981d-c12d55dc8832",
   "metadata": {
    "collapsed": true,
    "jupyter": {
     "outputs_hidden": true,
     "source_hidden": true
    },
    "tags": []
   },
   "outputs": [
    {
     "name": "stdout",
     "output_type": "stream",
     "text": [
      " Results from Random Search \n",
      "\n",
      " The best estimator across ALL searched params:\n",
      " SGDRegressor(alpha=2e-08, l1_ratio=1.0, max_iter=58950)\n",
      "\n",
      " R2 score:\n",
      " 0.032031748556896944\n",
      "\n",
      " MSE scroe:\n",
      " 2567.2509461620402\n",
      "\n",
      " The best score across ALL searched params:\n",
      " 0.07331140058065536\n",
      "\n",
      " The best parameters across ALL searched params:\n",
      " {'shuffle': True, 'max_iter': 58950, 'l1_ratio': 1.0, 'alpha': 2e-08}\n"
     ]
    }
   ],
   "source": [
    "random_search(X, y, SGD_model, SGD_parameters, scoring, 0.3, scale=True)"
   ]
  },
  {
   "cell_type": "markdown",
   "id": "52a5a38e-8418-4744-bb78-4356b3b5dd1c",
   "metadata": {
    "jupyter": {
     "source_hidden": true
    },
    "tags": []
   },
   "source": [
    "### BEST Results from Random Search \n",
    "\n",
    " The best estimator across ALL searched params:\n",
    " SGDRegressor(alpha=2e-08, l1_ratio=1.0, max_iter=58950)\n",
    "\n",
    " R2 score:\n",
    " 0.09803396678167775\n",
    "\n",
    " MSE scroe:\n",
    " 2675.5888971863315\n",
    "\n",
    " The best score across ALL searched params:\n",
    " 0.04372727845458226\n",
    "\n",
    " The best parameters across ALL searched params:\n",
    " {'shuffle': True, 'max_iter': 58950, 'l1_ratio': 1.0, 'alpha': 2e-08}"
   ]
  },
  {
   "cell_type": "markdown",
   "id": "321cfe72-8548-4f64-8a84-c5ca762d17bc",
   "metadata": {},
   "source": [
    "## Final Model Prediction"
   ]
  },
  {
   "cell_type": "code",
   "execution_count": 14,
   "id": "b81f98a7-dde9-41f8-858f-aad99ae56f5d",
   "metadata": {},
   "outputs": [],
   "source": [
    "# Import Test Data\n",
    "final_test = pd.read_csv('../data/flights_test_M4.csv')"
   ]
  },
  {
   "cell_type": "code",
   "execution_count": 15,
   "id": "a387ab9a-5317-4e4b-9c62-b3b16cab884c",
   "metadata": {},
   "outputs": [],
   "source": [
    "final_test.fillna(final_test.mean(), inplace=True)"
   ]
  },
  {
   "cell_type": "markdown",
   "id": "e6102724-25c4-4661-bf29-b1c26af41ec5",
   "metadata": {},
   "source": [
    "### RUN THESE WHEN CONVERTED"
   ]
  },
  {
   "cell_type": "code",
   "execution_count": 16,
   "id": "4583b6c5-2bae-4a85-a354-99fdfdf517c3",
   "metadata": {},
   "outputs": [],
   "source": [
    "final_model = RandomForestRegressor(n_estimators=830, min_samples_split=12, min_samples_leaf=1, max_features='sqrt', max_depth=10, bootstrap=True)"
   ]
  },
  {
   "cell_type": "code",
   "execution_count": 17,
   "id": "f74f8af2-b78c-4c80-944b-9fffd9f52039",
   "metadata": {},
   "outputs": [
    {
     "data": {
      "text/html": [
       "<style>#sk-container-id-1 {color: black;background-color: white;}#sk-container-id-1 pre{padding: 0;}#sk-container-id-1 div.sk-toggleable {background-color: white;}#sk-container-id-1 label.sk-toggleable__label {cursor: pointer;display: block;width: 100%;margin-bottom: 0;padding: 0.3em;box-sizing: border-box;text-align: center;}#sk-container-id-1 label.sk-toggleable__label-arrow:before {content: \"▸\";float: left;margin-right: 0.25em;color: #696969;}#sk-container-id-1 label.sk-toggleable__label-arrow:hover:before {color: black;}#sk-container-id-1 div.sk-estimator:hover label.sk-toggleable__label-arrow:before {color: black;}#sk-container-id-1 div.sk-toggleable__content {max-height: 0;max-width: 0;overflow: hidden;text-align: left;background-color: #f0f8ff;}#sk-container-id-1 div.sk-toggleable__content pre {margin: 0.2em;color: black;border-radius: 0.25em;background-color: #f0f8ff;}#sk-container-id-1 input.sk-toggleable__control:checked~div.sk-toggleable__content {max-height: 200px;max-width: 100%;overflow: auto;}#sk-container-id-1 input.sk-toggleable__control:checked~label.sk-toggleable__label-arrow:before {content: \"▾\";}#sk-container-id-1 div.sk-estimator input.sk-toggleable__control:checked~label.sk-toggleable__label {background-color: #d4ebff;}#sk-container-id-1 div.sk-label input.sk-toggleable__control:checked~label.sk-toggleable__label {background-color: #d4ebff;}#sk-container-id-1 input.sk-hidden--visually {border: 0;clip: rect(1px 1px 1px 1px);clip: rect(1px, 1px, 1px, 1px);height: 1px;margin: -1px;overflow: hidden;padding: 0;position: absolute;width: 1px;}#sk-container-id-1 div.sk-estimator {font-family: monospace;background-color: #f0f8ff;border: 1px dotted black;border-radius: 0.25em;box-sizing: border-box;margin-bottom: 0.5em;}#sk-container-id-1 div.sk-estimator:hover {background-color: #d4ebff;}#sk-container-id-1 div.sk-parallel-item::after {content: \"\";width: 100%;border-bottom: 1px solid gray;flex-grow: 1;}#sk-container-id-1 div.sk-label:hover label.sk-toggleable__label {background-color: #d4ebff;}#sk-container-id-1 div.sk-serial::before {content: \"\";position: absolute;border-left: 1px solid gray;box-sizing: border-box;top: 0;bottom: 0;left: 50%;z-index: 0;}#sk-container-id-1 div.sk-serial {display: flex;flex-direction: column;align-items: center;background-color: white;padding-right: 0.2em;padding-left: 0.2em;position: relative;}#sk-container-id-1 div.sk-item {position: relative;z-index: 1;}#sk-container-id-1 div.sk-parallel {display: flex;align-items: stretch;justify-content: center;background-color: white;position: relative;}#sk-container-id-1 div.sk-item::before, #sk-container-id-1 div.sk-parallel-item::before {content: \"\";position: absolute;border-left: 1px solid gray;box-sizing: border-box;top: 0;bottom: 0;left: 50%;z-index: -1;}#sk-container-id-1 div.sk-parallel-item {display: flex;flex-direction: column;z-index: 1;position: relative;background-color: white;}#sk-container-id-1 div.sk-parallel-item:first-child::after {align-self: flex-end;width: 50%;}#sk-container-id-1 div.sk-parallel-item:last-child::after {align-self: flex-start;width: 50%;}#sk-container-id-1 div.sk-parallel-item:only-child::after {width: 0;}#sk-container-id-1 div.sk-dashed-wrapped {border: 1px dashed gray;margin: 0 0.4em 0.5em 0.4em;box-sizing: border-box;padding-bottom: 0.4em;background-color: white;}#sk-container-id-1 div.sk-label label {font-family: monospace;font-weight: bold;display: inline-block;line-height: 1.2em;}#sk-container-id-1 div.sk-label-container {text-align: center;}#sk-container-id-1 div.sk-container {/* jupyter's `normalize.less` sets `[hidden] { display: none; }` but bootstrap.min.css set `[hidden] { display: none !important; }` so we also need the `!important` here to be able to override the default hidden behavior on the sphinx rendered scikit-learn.org. See: https://github.com/scikit-learn/scikit-learn/issues/21755 */display: inline-block !important;position: relative;}#sk-container-id-1 div.sk-text-repr-fallback {display: none;}</style><div id=\"sk-container-id-1\" class=\"sk-top-container\"><div class=\"sk-text-repr-fallback\"><pre>RandomForestRegressor(max_depth=10, max_features=&#x27;sqrt&#x27;, min_samples_split=12,\n",
       "                      n_estimators=830)</pre><b>In a Jupyter environment, please rerun this cell to show the HTML representation or trust the notebook. <br />On GitHub, the HTML representation is unable to render, please try loading this page with nbviewer.org.</b></div><div class=\"sk-container\" hidden><div class=\"sk-item\"><div class=\"sk-estimator sk-toggleable\"><input class=\"sk-toggleable__control sk-hidden--visually\" id=\"sk-estimator-id-1\" type=\"checkbox\" checked><label for=\"sk-estimator-id-1\" class=\"sk-toggleable__label sk-toggleable__label-arrow\">RandomForestRegressor</label><div class=\"sk-toggleable__content\"><pre>RandomForestRegressor(max_depth=10, max_features=&#x27;sqrt&#x27;, min_samples_split=12,\n",
       "                      n_estimators=830)</pre></div></div></div></div></div>"
      ],
      "text/plain": [
       "RandomForestRegressor(max_depth=10, max_features='sqrt', min_samples_split=12,\n",
       "                      n_estimators=830)"
      ]
     },
     "execution_count": 17,
     "metadata": {},
     "output_type": "execute_result"
    }
   ],
   "source": [
    "final_model.fit(X_train_M4, y_train_M4)"
   ]
  },
  {
   "cell_type": "code",
   "execution_count": 18,
   "id": "b01ae676-e90d-4788-9d34-8eb8d8f9a44c",
   "metadata": {},
   "outputs": [],
   "source": [
    "y_pred = final_model.predict(final_test)"
   ]
  },
  {
   "cell_type": "code",
   "execution_count": 19,
   "id": "d43e2523-c61b-4b0e-89e6-689619a12ce0",
   "metadata": {},
   "outputs": [],
   "source": [
    "y_pred_df = pd.DataFrame(y_pred)"
   ]
  },
  {
   "cell_type": "code",
   "execution_count": 20,
   "id": "ff7809a1-0daf-400c-a50d-6a1f9366b3fb",
   "metadata": {},
   "outputs": [
    {
     "data": {
      "text/html": [
       "<div>\n",
       "<style scoped>\n",
       "    .dataframe tbody tr th:only-of-type {\n",
       "        vertical-align: middle;\n",
       "    }\n",
       "\n",
       "    .dataframe tbody tr th {\n",
       "        vertical-align: top;\n",
       "    }\n",
       "\n",
       "    .dataframe thead th {\n",
       "        text-align: right;\n",
       "    }\n",
       "</style>\n",
       "<table border=\"1\" class=\"dataframe\">\n",
       "  <thead>\n",
       "    <tr style=\"text-align: right;\">\n",
       "      <th></th>\n",
       "      <th>0</th>\n",
       "    </tr>\n",
       "  </thead>\n",
       "  <tbody>\n",
       "    <tr>\n",
       "      <th>0</th>\n",
       "      <td>5.081568</td>\n",
       "    </tr>\n",
       "    <tr>\n",
       "      <th>1</th>\n",
       "      <td>2.558889</td>\n",
       "    </tr>\n",
       "    <tr>\n",
       "      <th>2</th>\n",
       "      <td>3.380235</td>\n",
       "    </tr>\n",
       "    <tr>\n",
       "      <th>3</th>\n",
       "      <td>2.422692</td>\n",
       "    </tr>\n",
       "    <tr>\n",
       "      <th>4</th>\n",
       "      <td>-0.349177</td>\n",
       "    </tr>\n",
       "    <tr>\n",
       "      <th>...</th>\n",
       "      <td>...</td>\n",
       "    </tr>\n",
       "    <tr>\n",
       "      <th>150618</th>\n",
       "      <td>16.246659</td>\n",
       "    </tr>\n",
       "    <tr>\n",
       "      <th>150619</th>\n",
       "      <td>2.634746</td>\n",
       "    </tr>\n",
       "    <tr>\n",
       "      <th>150620</th>\n",
       "      <td>70.881730</td>\n",
       "    </tr>\n",
       "    <tr>\n",
       "      <th>150621</th>\n",
       "      <td>7.335472</td>\n",
       "    </tr>\n",
       "    <tr>\n",
       "      <th>150622</th>\n",
       "      <td>6.484574</td>\n",
       "    </tr>\n",
       "  </tbody>\n",
       "</table>\n",
       "<p>150623 rows × 1 columns</p>\n",
       "</div>"
      ],
      "text/plain": [
       "                0\n",
       "0        5.081568\n",
       "1        2.558889\n",
       "2        3.380235\n",
       "3        2.422692\n",
       "4       -0.349177\n",
       "...           ...\n",
       "150618  16.246659\n",
       "150619   2.634746\n",
       "150620  70.881730\n",
       "150621   7.335472\n",
       "150622   6.484574\n",
       "\n",
       "[150623 rows x 1 columns]"
      ]
     },
     "execution_count": 20,
     "metadata": {},
     "output_type": "execute_result"
    }
   ],
   "source": [
    "y_pred_df"
   ]
  },
  {
   "cell_type": "code",
   "execution_count": 21,
   "id": "0dcece58-f1e9-4de6-8031-24c424226304",
   "metadata": {
    "tags": []
   },
   "outputs": [],
   "source": [
    "final_test['delay_prediction_onehot'] = y_pred_df"
   ]
  },
  {
   "cell_type": "code",
   "execution_count": 22,
   "id": "6914e268-fba4-482e-b38d-f3a748321fd9",
   "metadata": {},
   "outputs": [],
   "source": [
    "from src.modules.figure_generation import *"
   ]
  },
  {
   "cell_type": "code",
   "execution_count": 23,
   "id": "d293b2a0-87ee-46ef-9c24-b4f91e00b408",
   "metadata": {},
   "outputs": [
    {
     "data": {
      "text/plain": [
       "Index(['crs_dep_time', 'crs_arr_time', 'crs_elapsed_time', 'flights',\n",
       "       'distance', 'dep_time_of_day', 'arr_time_of_day', 'year', 'month',\n",
       "       'day', 'mean_arr_delay_orig_airport', 'mean_arr_delay_dest_airport',\n",
       "       'mean_arr_delay_carrier', 'orig_weather_categ_no weather data',\n",
       "       'orig_weather_categ_rain', 'orig_weather_categ_snow',\n",
       "       'orig_weather_categ_snow & rain', 'orig_weather_categ_sunny',\n",
       "       'dest_weather_categ_no weather data', 'dest_weather_categ_rain',\n",
       "       'dest_weather_categ_snow', 'dest_weather_categ_snow & rain',\n",
       "       'dest_weather_categ_sunny', 'orig_region_East-South Central',\n",
       "       'orig_region_Mid-Atlantic', 'orig_region_New England',\n",
       "       'orig_region_North-West', 'orig_region_Offshore Territory',\n",
       "       'orig_region_Pacific', 'orig_region_South-Atlantic',\n",
       "       'orig_region_South-West', 'orig_region_West-North Central',\n",
       "       'orig_region_West-South Central', 'dest_region_East-South Central',\n",
       "       'dest_region_Mid-Atlantic', 'dest_region_New England',\n",
       "       'dest_region_North-West', 'dest_region_Offshore Territory',\n",
       "       'dest_region_Pacific', 'dest_region_South-Atlantic',\n",
       "       'dest_region_South-West', 'dest_region_West-North Central',\n",
       "       'dest_region_West-South Central', 'delay_prediction_onehot'],\n",
       "      dtype='object')"
      ]
     },
     "execution_count": 23,
     "metadata": {},
     "output_type": "execute_result"
    }
   ],
   "source": [
    "final_test.columns"
   ]
  },
  {
   "cell_type": "code",
   "execution_count": 25,
   "id": "de39d1fd-8ac1-4c28-bbf8-74e5615e5b7f",
   "metadata": {},
   "outputs": [
    {
     "data": {
      "image/png": "[encoded data removed]",
      "text/plain": [
       "<Figure size 640x480 with 1 Axes>"
      ]
     },
     "metadata": {},
     "output_type": "display_data"
    }
   ],
   "source": [
    "scatter_plot(final_test, xinput='crs_dep_time', yinput='delay_prediction_onehot', hinput='arr_time_of_day')"
   ]
  },
  {
   "cell_type": "code",
   "execution_count": 26,
   "id": "c32ddbf8-2c8d-4991-9a5e-df3292ccea40",
   "metadata": {},
   "outputs": [],
   "source": [
    "final_test.to_csv('../data/delay_predictions_M4_HChopra_BRose.csv')"
   ]
  },
  {
   "cell_type": "code",
   "execution_count": 27,
   "id": "8c573c5b-7833-493a-bc8d-32d5a9acfe55",
   "metadata": {},
   "outputs": [],
   "source": [
    "final_df_import = pd.read_csv('../data/flights_test.csv')"
   ]
  },
  {
   "cell_type": "code",
   "execution_count": 28,
   "id": "7329a03d-3ace-4816-89fe-5642020e9a11",
   "metadata": {},
   "outputs": [
    {
     "data": {
      "text/html": [
       "<div>\n",
       "<style scoped>\n",
       "    .dataframe tbody tr th:only-of-type {\n",
       "        vertical-align: middle;\n",
       "    }\n",
       "\n",
       "    .dataframe tbody tr th {\n",
       "        vertical-align: top;\n",
       "    }\n",
       "\n",
       "    .dataframe thead th {\n",
       "        text-align: right;\n",
       "    }\n",
       "</style>\n",
       "<table border=\"1\" class=\"dataframe\">\n",
       "  <thead>\n",
       "    <tr style=\"text-align: right;\">\n",
       "      <th></th>\n",
       "      <th>fl_date</th>\n",
       "      <th>mkt_unique_carrier</th>\n",
       "      <th>branded_code_share</th>\n",
       "      <th>mkt_carrier</th>\n",
       "      <th>mkt_carrier_fl_num</th>\n",
       "      <th>op_unique_carrier</th>\n",
       "      <th>tail_num</th>\n",
       "      <th>op_carrier_fl_num</th>\n",
       "      <th>origin_airport_id</th>\n",
       "      <th>origin</th>\n",
       "      <th>...</th>\n",
       "      <th>dest</th>\n",
       "      <th>dest_city_name</th>\n",
       "      <th>crs_dep_time</th>\n",
       "      <th>crs_arr_time</th>\n",
       "      <th>dup</th>\n",
       "      <th>crs_elapsed_time</th>\n",
       "      <th>flights</th>\n",
       "      <th>distance</th>\n",
       "      <th>orig_weather_categ</th>\n",
       "      <th>dest_weather_categ</th>\n",
       "    </tr>\n",
       "  </thead>\n",
       "  <tbody>\n",
       "    <tr>\n",
       "      <th>0</th>\n",
       "      <td>2020-01-01</td>\n",
       "      <td>WN</td>\n",
       "      <td>WN</td>\n",
       "      <td>WN</td>\n",
       "      <td>5888</td>\n",
       "      <td>WN</td>\n",
       "      <td>N951WN</td>\n",
       "      <td>5888</td>\n",
       "      <td>13891</td>\n",
       "      <td>ONT</td>\n",
       "      <td>...</td>\n",
       "      <td>SFO</td>\n",
       "      <td>San Francisco, CA</td>\n",
       "      <td>1810</td>\n",
       "      <td>1945</td>\n",
       "      <td>N</td>\n",
       "      <td>95</td>\n",
       "      <td>1</td>\n",
       "      <td>363</td>\n",
       "      <td>sunny</td>\n",
       "      <td>cloudy</td>\n",
       "    </tr>\n",
       "    <tr>\n",
       "      <th>1</th>\n",
       "      <td>2020-01-01</td>\n",
       "      <td>WN</td>\n",
       "      <td>WN</td>\n",
       "      <td>WN</td>\n",
       "      <td>6276</td>\n",
       "      <td>WN</td>\n",
       "      <td>N467WN</td>\n",
       "      <td>6276</td>\n",
       "      <td>13891</td>\n",
       "      <td>ONT</td>\n",
       "      <td>...</td>\n",
       "      <td>SFO</td>\n",
       "      <td>San Francisco, CA</td>\n",
       "      <td>1150</td>\n",
       "      <td>1320</td>\n",
       "      <td>N</td>\n",
       "      <td>90</td>\n",
       "      <td>1</td>\n",
       "      <td>363</td>\n",
       "      <td>sunny</td>\n",
       "      <td>cloudy</td>\n",
       "    </tr>\n",
       "    <tr>\n",
       "      <th>2</th>\n",
       "      <td>2020-01-01</td>\n",
       "      <td>WN</td>\n",
       "      <td>WN</td>\n",
       "      <td>WN</td>\n",
       "      <td>4598</td>\n",
       "      <td>WN</td>\n",
       "      <td>N7885A</td>\n",
       "      <td>4598</td>\n",
       "      <td>13891</td>\n",
       "      <td>ONT</td>\n",
       "      <td>...</td>\n",
       "      <td>SJC</td>\n",
       "      <td>San Jose, CA</td>\n",
       "      <td>2020</td>\n",
       "      <td>2130</td>\n",
       "      <td>N</td>\n",
       "      <td>70</td>\n",
       "      <td>1</td>\n",
       "      <td>333</td>\n",
       "      <td>sunny</td>\n",
       "      <td>cloudy</td>\n",
       "    </tr>\n",
       "    <tr>\n",
       "      <th>3</th>\n",
       "      <td>2020-01-01</td>\n",
       "      <td>WN</td>\n",
       "      <td>WN</td>\n",
       "      <td>WN</td>\n",
       "      <td>4761</td>\n",
       "      <td>WN</td>\n",
       "      <td>N551WN</td>\n",
       "      <td>4761</td>\n",
       "      <td>13891</td>\n",
       "      <td>ONT</td>\n",
       "      <td>...</td>\n",
       "      <td>SJC</td>\n",
       "      <td>San Jose, CA</td>\n",
       "      <td>1340</td>\n",
       "      <td>1455</td>\n",
       "      <td>N</td>\n",
       "      <td>75</td>\n",
       "      <td>1</td>\n",
       "      <td>333</td>\n",
       "      <td>sunny</td>\n",
       "      <td>cloudy</td>\n",
       "    </tr>\n",
       "    <tr>\n",
       "      <th>4</th>\n",
       "      <td>2020-01-01</td>\n",
       "      <td>WN</td>\n",
       "      <td>WN</td>\n",
       "      <td>WN</td>\n",
       "      <td>5162</td>\n",
       "      <td>WN</td>\n",
       "      <td>N968WN</td>\n",
       "      <td>5162</td>\n",
       "      <td>13891</td>\n",
       "      <td>ONT</td>\n",
       "      <td>...</td>\n",
       "      <td>SJC</td>\n",
       "      <td>San Jose, CA</td>\n",
       "      <td>915</td>\n",
       "      <td>1035</td>\n",
       "      <td>N</td>\n",
       "      <td>80</td>\n",
       "      <td>1</td>\n",
       "      <td>333</td>\n",
       "      <td>sunny</td>\n",
       "      <td>cloudy</td>\n",
       "    </tr>\n",
       "  </tbody>\n",
       "</table>\n",
       "<p>5 rows × 22 columns</p>\n",
       "</div>"
      ],
      "text/plain": [
       "      fl_date mkt_unique_carrier branded_code_share mkt_carrier  \\\n",
       "0  2020-01-01                 WN                 WN          WN   \n",
       "1  2020-01-01                 WN                 WN          WN   \n",
       "2  2020-01-01                 WN                 WN          WN   \n",
       "3  2020-01-01                 WN                 WN          WN   \n",
       "4  2020-01-01                 WN                 WN          WN   \n",
       "\n",
       "   mkt_carrier_fl_num op_unique_carrier tail_num  op_carrier_fl_num  \\\n",
       "0                5888                WN   N951WN               5888   \n",
       "1                6276                WN   N467WN               6276   \n",
       "2                4598                WN   N7885A               4598   \n",
       "3                4761                WN   N551WN               4761   \n",
       "4                5162                WN   N968WN               5162   \n",
       "\n",
       "   origin_airport_id origin  ... dest     dest_city_name crs_dep_time  \\\n",
       "0              13891    ONT  ...  SFO  San Francisco, CA         1810   \n",
       "1              13891    ONT  ...  SFO  San Francisco, CA         1150   \n",
       "2              13891    ONT  ...  SJC       San Jose, CA         2020   \n",
       "3              13891    ONT  ...  SJC       San Jose, CA         1340   \n",
       "4              13891    ONT  ...  SJC       San Jose, CA          915   \n",
       "\n",
       "  crs_arr_time  dup  crs_elapsed_time flights  distance  orig_weather_categ  \\\n",
       "0         1945    N                95       1       363               sunny   \n",
       "1         1320    N                90       1       363               sunny   \n",
       "2         2130    N                70       1       333               sunny   \n",
       "3         1455    N                75       1       333               sunny   \n",
       "4         1035    N                80       1       333               sunny   \n",
       "\n",
       "   dest_weather_categ  \n",
       "0              cloudy  \n",
       "1              cloudy  \n",
       "2              cloudy  \n",
       "3              cloudy  \n",
       "4              cloudy  \n",
       "\n",
       "[5 rows x 22 columns]"
      ]
     },
     "execution_count": 28,
     "metadata": {},
     "output_type": "execute_result"
    }
   ],
   "source": [
    "final_df_import.head()"
   ]
  },
  {
   "cell_type": "code",
   "execution_count": 32,
   "id": "9dd015db-5446-4b9d-a2b7-bce13f74b9d1",
   "metadata": {},
   "outputs": [],
   "source": [
    "final_df_export = final_df_import.loc[:, ['fl_date', 'mkt_carrier', 'mkt_carrier_fl_num', 'origin', 'dest']]"
   ]
  },
  {
   "cell_type": "code",
   "execution_count": 33,
   "id": "f5265ab4-8255-4278-bf0f-d8e9e15d7a2c",
   "metadata": {},
   "outputs": [
    {
     "data": {
      "text/html": [
       "<div>\n",
       "<style scoped>\n",
       "    .dataframe tbody tr th:only-of-type {\n",
       "        vertical-align: middle;\n",
       "    }\n",
       "\n",
       "    .dataframe tbody tr th {\n",
       "        vertical-align: top;\n",
       "    }\n",
       "\n",
       "    .dataframe thead th {\n",
       "        text-align: right;\n",
       "    }\n",
       "</style>\n",
       "<table border=\"1\" class=\"dataframe\">\n",
       "  <thead>\n",
       "    <tr style=\"text-align: right;\">\n",
       "      <th></th>\n",
       "      <th>fl_date</th>\n",
       "      <th>mkt_carrier</th>\n",
       "      <th>mkt_carrier_fl_num</th>\n",
       "      <th>origin</th>\n",
       "      <th>dest</th>\n",
       "    </tr>\n",
       "  </thead>\n",
       "  <tbody>\n",
       "    <tr>\n",
       "      <th>0</th>\n",
       "      <td>2020-01-01</td>\n",
       "      <td>WN</td>\n",
       "      <td>5888</td>\n",
       "      <td>ONT</td>\n",
       "      <td>SFO</td>\n",
       "    </tr>\n",
       "    <tr>\n",
       "      <th>1</th>\n",
       "      <td>2020-01-01</td>\n",
       "      <td>WN</td>\n",
       "      <td>6276</td>\n",
       "      <td>ONT</td>\n",
       "      <td>SFO</td>\n",
       "    </tr>\n",
       "    <tr>\n",
       "      <th>2</th>\n",
       "      <td>2020-01-01</td>\n",
       "      <td>WN</td>\n",
       "      <td>4598</td>\n",
       "      <td>ONT</td>\n",
       "      <td>SJC</td>\n",
       "    </tr>\n",
       "    <tr>\n",
       "      <th>3</th>\n",
       "      <td>2020-01-01</td>\n",
       "      <td>WN</td>\n",
       "      <td>4761</td>\n",
       "      <td>ONT</td>\n",
       "      <td>SJC</td>\n",
       "    </tr>\n",
       "    <tr>\n",
       "      <th>4</th>\n",
       "      <td>2020-01-01</td>\n",
       "      <td>WN</td>\n",
       "      <td>5162</td>\n",
       "      <td>ONT</td>\n",
       "      <td>SJC</td>\n",
       "    </tr>\n",
       "  </tbody>\n",
       "</table>\n",
       "</div>"
      ],
      "text/plain": [
       "      fl_date mkt_carrier  mkt_carrier_fl_num origin dest\n",
       "0  2020-01-01          WN                5888    ONT  SFO\n",
       "1  2020-01-01          WN                6276    ONT  SFO\n",
       "2  2020-01-01          WN                4598    ONT  SJC\n",
       "3  2020-01-01          WN                4761    ONT  SJC\n",
       "4  2020-01-01          WN                5162    ONT  SJC"
      ]
     },
     "execution_count": 33,
     "metadata": {},
     "output_type": "execute_result"
    }
   ],
   "source": [
    "final_df_export.head()"
   ]
  },
  {
   "cell_type": "code",
   "execution_count": 34,
   "id": "6213ac41-f63c-435a-a526-284b3d67c483",
   "metadata": {},
   "outputs": [],
   "source": [
    "final_df_export['predicted_delay'] = y_pred_df\n"
   ]
  },
  {
   "cell_type": "code",
   "execution_count": 35,
   "id": "e158d1c7-5253-44b3-a305-9b9f6a37d263",
   "metadata": {},
   "outputs": [
    {
     "data": {
      "text/html": [
       "<div>\n",
       "<style scoped>\n",
       "    .dataframe tbody tr th:only-of-type {\n",
       "        vertical-align: middle;\n",
       "    }\n",
       "\n",
       "    .dataframe tbody tr th {\n",
       "        vertical-align: top;\n",
       "    }\n",
       "\n",
       "    .dataframe thead th {\n",
       "        text-align: right;\n",
       "    }\n",
       "</style>\n",
       "<table border=\"1\" class=\"dataframe\">\n",
       "  <thead>\n",
       "    <tr style=\"text-align: right;\">\n",
       "      <th></th>\n",
       "      <th>fl_date</th>\n",
       "      <th>mkt_carrier</th>\n",
       "      <th>mkt_carrier_fl_num</th>\n",
       "      <th>origin</th>\n",
       "      <th>dest</th>\n",
       "      <th>predicted_delay</th>\n",
       "    </tr>\n",
       "  </thead>\n",
       "  <tbody>\n",
       "    <tr>\n",
       "      <th>0</th>\n",
       "      <td>2020-01-01</td>\n",
       "      <td>WN</td>\n",
       "      <td>5888</td>\n",
       "      <td>ONT</td>\n",
       "      <td>SFO</td>\n",
       "      <td>5.081568</td>\n",
       "    </tr>\n",
       "    <tr>\n",
       "      <th>1</th>\n",
       "      <td>2020-01-01</td>\n",
       "      <td>WN</td>\n",
       "      <td>6276</td>\n",
       "      <td>ONT</td>\n",
       "      <td>SFO</td>\n",
       "      <td>2.558889</td>\n",
       "    </tr>\n",
       "    <tr>\n",
       "      <th>2</th>\n",
       "      <td>2020-01-01</td>\n",
       "      <td>WN</td>\n",
       "      <td>4598</td>\n",
       "      <td>ONT</td>\n",
       "      <td>SJC</td>\n",
       "      <td>3.380235</td>\n",
       "    </tr>\n",
       "    <tr>\n",
       "      <th>3</th>\n",
       "      <td>2020-01-01</td>\n",
       "      <td>WN</td>\n",
       "      <td>4761</td>\n",
       "      <td>ONT</td>\n",
       "      <td>SJC</td>\n",
       "      <td>2.422692</td>\n",
       "    </tr>\n",
       "    <tr>\n",
       "      <th>4</th>\n",
       "      <td>2020-01-01</td>\n",
       "      <td>WN</td>\n",
       "      <td>5162</td>\n",
       "      <td>ONT</td>\n",
       "      <td>SJC</td>\n",
       "      <td>-0.349177</td>\n",
       "    </tr>\n",
       "  </tbody>\n",
       "</table>\n",
       "</div>"
      ],
      "text/plain": [
       "      fl_date mkt_carrier  mkt_carrier_fl_num origin dest  predicted_delay\n",
       "0  2020-01-01          WN                5888    ONT  SFO         5.081568\n",
       "1  2020-01-01          WN                6276    ONT  SFO         2.558889\n",
       "2  2020-01-01          WN                4598    ONT  SJC         3.380235\n",
       "3  2020-01-01          WN                4761    ONT  SJC         2.422692\n",
       "4  2020-01-01          WN                5162    ONT  SJC        -0.349177"
      ]
     },
     "execution_count": 35,
     "metadata": {},
     "output_type": "execute_result"
    }
   ],
   "source": [
    "final_df_export.head()"
   ]
  },
  {
   "cell_type": "code",
   "execution_count": 37,
   "id": "7bd71743-63c6-4a29-827a-612d1811160b",
   "metadata": {},
   "outputs": [],
   "source": [
    "final_df_export.to_csv('../data/HC_BR_Submission.csv')"
   ]
  },
  {
   "cell_type": "code",
   "execution_count": null,
   "id": "29615089-3656-4696-9ffc-5e603c021ae1",
   "metadata": {},
   "outputs": [],
   "source": []
  }
 ],
 "metadata": {
  "kernelspec": {
   "display_name": "Python 3 (ipykernel)",
   "language": "python",
   "name": "python3"
  },
  "language_info": {
   "codemirror_mode": {
    "name": "ipython",
    "version": 3
   },
   "file_extension": ".py",
   "mimetype": "text/x-python",
   "name": "python",
   "nbconvert_exporter": "python",
   "pygments_lexer": "ipython3",
   "version": "3.8.13"
  }
 },
 "nbformat": 4,
 "nbformat_minor": 5
}
