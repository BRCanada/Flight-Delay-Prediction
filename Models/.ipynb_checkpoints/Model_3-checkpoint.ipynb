{
 "cells": [
  {
   "cell_type": "markdown",
   "id": "df084947-b3d6-4f86-b913-37a49a7e4765",
   "metadata": {},
   "source": [
    "# Model 3: Random Search Cross Validation\n",
    "In this notebook, we will be using the refined data from Model 2 and our insights gained from our regression function to fine-tune our hyperparameters."
   ]
  },
  {
   "cell_type": "code",
   "execution_count": 1,
   "id": "a8b5b932-0a71-401c-8483-c895774d0d86",
   "metadata": {},
   "outputs": [],
   "source": [
    "# Import sys so we can import custom packages without error\n",
    "import sys\n",
    "sys.path.append('../')"
   ]
  },
  {
   "cell_type": "code",
   "execution_count": 2,
   "id": "3da7222a-4743-4cd3-9985-6cd0f38b1f2f",
   "metadata": {},
   "outputs": [],
   "source": [
    "# Import pandas/numpy\n",
    "import pandas as pd\n",
    "import numpy as np\n",
    "\n",
    "# Import our modeling.py module\n",
    "from src.modules.modeling import *\n",
    "\n",
    "# Import warnings\n",
    "import warnings\n"
   ]
  },
  {
   "cell_type": "code",
   "execution_count": 3,
   "id": "3a024c5a-a5ef-45d2-a522-64dfe0439c93",
   "metadata": {},
   "outputs": [],
   "source": [
    "# Set ignore for warnings\n",
    "warnings.filterwarnings('ignore')"
   ]
  },
  {
   "cell_type": "code",
   "execution_count": 4,
   "id": "187036e3-d78b-44a1-8cc1-20fb50bc5472",
   "metadata": {},
   "outputs": [],
   "source": [
    "# Import our saved X and y data from Model 2\n",
    "X_train_M3 = pd.read_csv('../data/X_train_M2.csv')\n",
    "X_test_M3 = pd.read_csv('../data/X_test_M2.csv')\n",
    "y_train_M3 = pd.read_csv('../data/y_train_M2.csv')\n",
    "y_test_M3 = pd.read_csv('../data/y_test_M2.csv')"
   ]
  },
  {
   "cell_type": "code",
   "execution_count": 5,
   "id": "84912e27-bb19-4591-8d2c-ba1d99ad4363",
   "metadata": {},
   "outputs": [
    {
     "data": {
      "text/plain": [
       "Index(['crs_dep_time', 'crs_arr_time', 'crs_elapsed_time', 'flights',\n",
       "       'distance', 'orig_weather_categ', 'dest_weather_categ', 'year', 'month',\n",
       "       'day', 'dep_time_of_day', 'arr_time_of_day', 'orig_region',\n",
       "       'dest_region', 'mean_arr_delay_orig_airport',\n",
       "       'mean_arr_delay_dest_airport', 'mean_arr_delay_carrier'],\n",
       "      dtype='object')"
      ]
     },
     "execution_count": 5,
     "metadata": {},
     "output_type": "execute_result"
    }
   ],
   "source": [
    "X_train_M3.columns"
   ]
  },
  {
   "cell_type": "code",
   "execution_count": 6,
   "id": "5c650662-c0ef-4001-9034-0799ac2eeb0d",
   "metadata": {},
   "outputs": [
    {
     "data": {
      "text/plain": [
       "Index(['crs_dep_time', 'crs_arr_time', 'crs_elapsed_time', 'flights',\n",
       "       'distance', 'orig_weather_categ', 'dest_weather_categ', 'year', 'month',\n",
       "       'day', 'dep_time_of_day', 'arr_time_of_day', 'orig_region',\n",
       "       'dest_region', 'mean_arr_delay_orig_airport',\n",
       "       'mean_arr_delay_dest_airport', 'mean_arr_delay_carrier'],\n",
       "      dtype='object')"
      ]
     },
     "execution_count": 6,
     "metadata": {},
     "output_type": "execute_result"
    }
   ],
   "source": [
    "X_test_M3.columns"
   ]
  },
  {
   "cell_type": "markdown",
   "id": "168b5bf7-cb19-44f6-8f50-df1660fe8786",
   "metadata": {},
   "source": [
    "Before running our Random Search, we are going to define some models and parameter ranges for the function\n"
   ]
  },
  {
   "cell_type": "code",
   "execution_count": 7,
   "id": "521d4a64-cc5b-4850-b5fa-657f43a77e0d",
   "metadata": {},
   "outputs": [],
   "source": [
    "X = pd.concat([X_train_M3, X_test_M3], axis=0)"
   ]
  },
  {
   "cell_type": "code",
   "execution_count": 8,
   "id": "11df1644-3056-4774-8639-318e3aa2eb06",
   "metadata": {},
   "outputs": [
    {
     "data": {
      "text/html": [
       "<div>\n",
       "<style scoped>\n",
       "    .dataframe tbody tr th:only-of-type {\n",
       "        vertical-align: middle;\n",
       "    }\n",
       "\n",
       "    .dataframe tbody tr th {\n",
       "        vertical-align: top;\n",
       "    }\n",
       "\n",
       "    .dataframe thead th {\n",
       "        text-align: right;\n",
       "    }\n",
       "</style>\n",
       "<table border=\"1\" class=\"dataframe\">\n",
       "  <thead>\n",
       "    <tr style=\"text-align: right;\">\n",
       "      <th></th>\n",
       "      <th>crs_dep_time</th>\n",
       "      <th>crs_arr_time</th>\n",
       "      <th>crs_elapsed_time</th>\n",
       "      <th>flights</th>\n",
       "      <th>distance</th>\n",
       "      <th>orig_weather_categ</th>\n",
       "      <th>dest_weather_categ</th>\n",
       "      <th>year</th>\n",
       "      <th>month</th>\n",
       "      <th>day</th>\n",
       "      <th>dep_time_of_day</th>\n",
       "      <th>arr_time_of_day</th>\n",
       "      <th>orig_region</th>\n",
       "      <th>dest_region</th>\n",
       "      <th>mean_arr_delay_orig_airport</th>\n",
       "      <th>mean_arr_delay_dest_airport</th>\n",
       "      <th>mean_arr_delay_carrier</th>\n",
       "    </tr>\n",
       "  </thead>\n",
       "  <tbody>\n",
       "    <tr>\n",
       "      <th>0</th>\n",
       "      <td>801</td>\n",
       "      <td>850</td>\n",
       "      <td>109.0</td>\n",
       "      <td>1.0</td>\n",
       "      <td>533.0</td>\n",
       "      <td>0</td>\n",
       "      <td>0</td>\n",
       "      <td>2018</td>\n",
       "      <td>12</td>\n",
       "      <td>16</td>\n",
       "      <td>0</td>\n",
       "      <td>0</td>\n",
       "      <td>0</td>\n",
       "      <td>0</td>\n",
       "      <td>-1.652778</td>\n",
       "      <td>7.986150</td>\n",
       "      <td>8.249349</td>\n",
       "    </tr>\n",
       "    <tr>\n",
       "      <th>1</th>\n",
       "      <td>610</td>\n",
       "      <td>847</td>\n",
       "      <td>97.0</td>\n",
       "      <td>1.0</td>\n",
       "      <td>350.0</td>\n",
       "      <td>0</td>\n",
       "      <td>1</td>\n",
       "      <td>2019</td>\n",
       "      <td>7</td>\n",
       "      <td>9</td>\n",
       "      <td>0</td>\n",
       "      <td>0</td>\n",
       "      <td>1</td>\n",
       "      <td>1</td>\n",
       "      <td>-3.320000</td>\n",
       "      <td>0.844595</td>\n",
       "      <td>5.078223</td>\n",
       "    </tr>\n",
       "    <tr>\n",
       "      <th>2</th>\n",
       "      <td>855</td>\n",
       "      <td>1049</td>\n",
       "      <td>114.0</td>\n",
       "      <td>1.0</td>\n",
       "      <td>489.0</td>\n",
       "      <td>1</td>\n",
       "      <td>0</td>\n",
       "      <td>2019</td>\n",
       "      <td>5</td>\n",
       "      <td>5</td>\n",
       "      <td>0</td>\n",
       "      <td>0</td>\n",
       "      <td>2</td>\n",
       "      <td>2</td>\n",
       "      <td>7.851852</td>\n",
       "      <td>5.985507</td>\n",
       "      <td>3.853175</td>\n",
       "    </tr>\n",
       "    <tr>\n",
       "      <th>3</th>\n",
       "      <td>1300</td>\n",
       "      <td>1650</td>\n",
       "      <td>170.0</td>\n",
       "      <td>1.0</td>\n",
       "      <td>1120.0</td>\n",
       "      <td>2</td>\n",
       "      <td>2</td>\n",
       "      <td>2019</td>\n",
       "      <td>1</td>\n",
       "      <td>31</td>\n",
       "      <td>2</td>\n",
       "      <td>2</td>\n",
       "      <td>3</td>\n",
       "      <td>1</td>\n",
       "      <td>8.521739</td>\n",
       "      <td>3.136364</td>\n",
       "      <td>5.078223</td>\n",
       "    </tr>\n",
       "    <tr>\n",
       "      <th>4</th>\n",
       "      <td>1210</td>\n",
       "      <td>1320</td>\n",
       "      <td>70.0</td>\n",
       "      <td>1.0</td>\n",
       "      <td>207.0</td>\n",
       "      <td>3</td>\n",
       "      <td>1</td>\n",
       "      <td>2019</td>\n",
       "      <td>11</td>\n",
       "      <td>26</td>\n",
       "      <td>2</td>\n",
       "      <td>2</td>\n",
       "      <td>3</td>\n",
       "      <td>2</td>\n",
       "      <td>11.366071</td>\n",
       "      <td>4.200000</td>\n",
       "      <td>3.853175</td>\n",
       "    </tr>\n",
       "    <tr>\n",
       "      <th>...</th>\n",
       "      <td>...</td>\n",
       "      <td>...</td>\n",
       "      <td>...</td>\n",
       "      <td>...</td>\n",
       "      <td>...</td>\n",
       "      <td>...</td>\n",
       "      <td>...</td>\n",
       "      <td>...</td>\n",
       "      <td>...</td>\n",
       "      <td>...</td>\n",
       "      <td>...</td>\n",
       "      <td>...</td>\n",
       "      <td>...</td>\n",
       "      <td>...</td>\n",
       "      <td>...</td>\n",
       "      <td>...</td>\n",
       "      <td>...</td>\n",
       "    </tr>\n",
       "    <tr>\n",
       "      <th>1995</th>\n",
       "      <td>1833</td>\n",
       "      <td>2049</td>\n",
       "      <td>196.0</td>\n",
       "      <td>1.0</td>\n",
       "      <td>1107.0</td>\n",
       "      <td>2</td>\n",
       "      <td>1</td>\n",
       "      <td>2019</td>\n",
       "      <td>12</td>\n",
       "      <td>31</td>\n",
       "      <td>3</td>\n",
       "      <td>3</td>\n",
       "      <td>0</td>\n",
       "      <td>2</td>\n",
       "      <td>3.374359</td>\n",
       "      <td>4.643725</td>\n",
       "      <td>5.078223</td>\n",
       "    </tr>\n",
       "    <tr>\n",
       "      <th>1996</th>\n",
       "      <td>1640</td>\n",
       "      <td>1807</td>\n",
       "      <td>87.0</td>\n",
       "      <td>1.0</td>\n",
       "      <td>370.0</td>\n",
       "      <td>2</td>\n",
       "      <td>0</td>\n",
       "      <td>2018</td>\n",
       "      <td>6</td>\n",
       "      <td>24</td>\n",
       "      <td>2</td>\n",
       "      <td>3</td>\n",
       "      <td>3</td>\n",
       "      <td>0</td>\n",
       "      <td>-0.763158</td>\n",
       "      <td>9.221277</td>\n",
       "      <td>5.078223</td>\n",
       "    </tr>\n",
       "    <tr>\n",
       "      <th>1997</th>\n",
       "      <td>1559</td>\n",
       "      <td>2110</td>\n",
       "      <td>191.0</td>\n",
       "      <td>1.0</td>\n",
       "      <td>1371.0</td>\n",
       "      <td>0</td>\n",
       "      <td>1</td>\n",
       "      <td>2018</td>\n",
       "      <td>6</td>\n",
       "      <td>23</td>\n",
       "      <td>2</td>\n",
       "      <td>1</td>\n",
       "      <td>3</td>\n",
       "      <td>6</td>\n",
       "      <td>-0.763158</td>\n",
       "      <td>64.533333</td>\n",
       "      <td>6.519685</td>\n",
       "    </tr>\n",
       "    <tr>\n",
       "      <th>1998</th>\n",
       "      <td>1030</td>\n",
       "      <td>1320</td>\n",
       "      <td>170.0</td>\n",
       "      <td>1.0</td>\n",
       "      <td>1068.0</td>\n",
       "      <td>0</td>\n",
       "      <td>1</td>\n",
       "      <td>2018</td>\n",
       "      <td>3</td>\n",
       "      <td>27</td>\n",
       "      <td>0</td>\n",
       "      <td>2</td>\n",
       "      <td>2</td>\n",
       "      <td>5</td>\n",
       "      <td>4.410256</td>\n",
       "      <td>11.220096</td>\n",
       "      <td>8.249349</td>\n",
       "    </tr>\n",
       "    <tr>\n",
       "      <th>1999</th>\n",
       "      <td>1905</td>\n",
       "      <td>2015</td>\n",
       "      <td>70.0</td>\n",
       "      <td>1.0</td>\n",
       "      <td>327.0</td>\n",
       "      <td>1</td>\n",
       "      <td>1</td>\n",
       "      <td>2019</td>\n",
       "      <td>4</td>\n",
       "      <td>19</td>\n",
       "      <td>3</td>\n",
       "      <td>3</td>\n",
       "      <td>4</td>\n",
       "      <td>9</td>\n",
       "      <td>0.298701</td>\n",
       "      <td>0.571429</td>\n",
       "      <td>3.940227</td>\n",
       "    </tr>\n",
       "  </tbody>\n",
       "</table>\n",
       "<p>10000 rows × 17 columns</p>\n",
       "</div>"
      ],
      "text/plain": [
       "      crs_dep_time  crs_arr_time  crs_elapsed_time  flights  distance  \\\n",
       "0              801           850             109.0      1.0     533.0   \n",
       "1              610           847              97.0      1.0     350.0   \n",
       "2              855          1049             114.0      1.0     489.0   \n",
       "3             1300          1650             170.0      1.0    1120.0   \n",
       "4             1210          1320              70.0      1.0     207.0   \n",
       "...            ...           ...               ...      ...       ...   \n",
       "1995          1833          2049             196.0      1.0    1107.0   \n",
       "1996          1640          1807              87.0      1.0     370.0   \n",
       "1997          1559          2110             191.0      1.0    1371.0   \n",
       "1998          1030          1320             170.0      1.0    1068.0   \n",
       "1999          1905          2015              70.0      1.0     327.0   \n",
       "\n",
       "      orig_weather_categ  dest_weather_categ  year  month  day  \\\n",
       "0                      0                   0  2018     12   16   \n",
       "1                      0                   1  2019      7    9   \n",
       "2                      1                   0  2019      5    5   \n",
       "3                      2                   2  2019      1   31   \n",
       "4                      3                   1  2019     11   26   \n",
       "...                  ...                 ...   ...    ...  ...   \n",
       "1995                   2                   1  2019     12   31   \n",
       "1996                   2                   0  2018      6   24   \n",
       "1997                   0                   1  2018      6   23   \n",
       "1998                   0                   1  2018      3   27   \n",
       "1999                   1                   1  2019      4   19   \n",
       "\n",
       "      dep_time_of_day  arr_time_of_day  orig_region  dest_region  \\\n",
       "0                   0                0            0            0   \n",
       "1                   0                0            1            1   \n",
       "2                   0                0            2            2   \n",
       "3                   2                2            3            1   \n",
       "4                   2                2            3            2   \n",
       "...               ...              ...          ...          ...   \n",
       "1995                3                3            0            2   \n",
       "1996                2                3            3            0   \n",
       "1997                2                1            3            6   \n",
       "1998                0                2            2            5   \n",
       "1999                3                3            4            9   \n",
       "\n",
       "      mean_arr_delay_orig_airport  mean_arr_delay_dest_airport  \\\n",
       "0                       -1.652778                     7.986150   \n",
       "1                       -3.320000                     0.844595   \n",
       "2                        7.851852                     5.985507   \n",
       "3                        8.521739                     3.136364   \n",
       "4                       11.366071                     4.200000   \n",
       "...                           ...                          ...   \n",
       "1995                     3.374359                     4.643725   \n",
       "1996                    -0.763158                     9.221277   \n",
       "1997                    -0.763158                    64.533333   \n",
       "1998                     4.410256                    11.220096   \n",
       "1999                     0.298701                     0.571429   \n",
       "\n",
       "      mean_arr_delay_carrier  \n",
       "0                   8.249349  \n",
       "1                   5.078223  \n",
       "2                   3.853175  \n",
       "3                   5.078223  \n",
       "4                   3.853175  \n",
       "...                      ...  \n",
       "1995                5.078223  \n",
       "1996                5.078223  \n",
       "1997                6.519685  \n",
       "1998                8.249349  \n",
       "1999                3.940227  \n",
       "\n",
       "[10000 rows x 17 columns]"
      ]
     },
     "execution_count": 8,
     "metadata": {},
     "output_type": "execute_result"
    }
   ],
   "source": [
    "X"
   ]
  },
  {
   "cell_type": "code",
   "execution_count": 9,
   "id": "9ab88be3-5c74-46aa-9797-540ff34a5ac0",
   "metadata": {},
   "outputs": [],
   "source": [
    "y = pd.concat([y_train_M3, y_test_M3], axis=0)"
   ]
  },
  {
   "cell_type": "code",
   "execution_count": 10,
   "id": "f1c187dd-bd6e-4a38-9b6c-7d02375dabc4",
   "metadata": {},
   "outputs": [
    {
     "data": {
      "text/html": [
       "<div>\n",
       "<style scoped>\n",
       "    .dataframe tbody tr th:only-of-type {\n",
       "        vertical-align: middle;\n",
       "    }\n",
       "\n",
       "    .dataframe tbody tr th {\n",
       "        vertical-align: top;\n",
       "    }\n",
       "\n",
       "    .dataframe thead th {\n",
       "        text-align: right;\n",
       "    }\n",
       "</style>\n",
       "<table border=\"1\" class=\"dataframe\">\n",
       "  <thead>\n",
       "    <tr style=\"text-align: right;\">\n",
       "      <th></th>\n",
       "      <th>arr_delay</th>\n",
       "    </tr>\n",
       "  </thead>\n",
       "  <tbody>\n",
       "    <tr>\n",
       "      <th>0</th>\n",
       "      <td>-17.0</td>\n",
       "    </tr>\n",
       "    <tr>\n",
       "      <th>1</th>\n",
       "      <td>-12.0</td>\n",
       "    </tr>\n",
       "    <tr>\n",
       "      <th>2</th>\n",
       "      <td>-16.0</td>\n",
       "    </tr>\n",
       "    <tr>\n",
       "      <th>3</th>\n",
       "      <td>0.0</td>\n",
       "    </tr>\n",
       "    <tr>\n",
       "      <th>4</th>\n",
       "      <td>-11.0</td>\n",
       "    </tr>\n",
       "    <tr>\n",
       "      <th>...</th>\n",
       "      <td>...</td>\n",
       "    </tr>\n",
       "    <tr>\n",
       "      <th>1995</th>\n",
       "      <td>10.0</td>\n",
       "    </tr>\n",
       "    <tr>\n",
       "      <th>1996</th>\n",
       "      <td>-9.0</td>\n",
       "    </tr>\n",
       "    <tr>\n",
       "      <th>1997</th>\n",
       "      <td>40.0</td>\n",
       "    </tr>\n",
       "    <tr>\n",
       "      <th>1998</th>\n",
       "      <td>-1.0</td>\n",
       "    </tr>\n",
       "    <tr>\n",
       "      <th>1999</th>\n",
       "      <td>2.0</td>\n",
       "    </tr>\n",
       "  </tbody>\n",
       "</table>\n",
       "<p>10000 rows × 1 columns</p>\n",
       "</div>"
      ],
      "text/plain": [
       "      arr_delay\n",
       "0         -17.0\n",
       "1         -12.0\n",
       "2         -16.0\n",
       "3           0.0\n",
       "4         -11.0\n",
       "...         ...\n",
       "1995       10.0\n",
       "1996       -9.0\n",
       "1997       40.0\n",
       "1998       -1.0\n",
       "1999        2.0\n",
       "\n",
       "[10000 rows x 1 columns]"
      ]
     },
     "execution_count": 10,
     "metadata": {},
     "output_type": "execute_result"
    }
   ],
   "source": [
    "y"
   ]
  },
  {
   "cell_type": "code",
   "execution_count": 11,
   "id": "67a03b18-1308-413b-a4f0-ea5952f0ef88",
   "metadata": {},
   "outputs": [
    {
     "data": {
      "text/plain": [
       "['accuracy',\n",
       " 'adjusted_mutual_info_score',\n",
       " 'adjusted_rand_score',\n",
       " 'average_precision',\n",
       " 'balanced_accuracy',\n",
       " 'completeness_score',\n",
       " 'explained_variance',\n",
       " 'f1',\n",
       " 'f1_macro',\n",
       " 'f1_micro',\n",
       " 'f1_samples',\n",
       " 'f1_weighted',\n",
       " 'fowlkes_mallows_score',\n",
       " 'homogeneity_score',\n",
       " 'jaccard',\n",
       " 'jaccard_macro',\n",
       " 'jaccard_micro',\n",
       " 'jaccard_samples',\n",
       " 'jaccard_weighted',\n",
       " 'matthews_corrcoef',\n",
       " 'max_error',\n",
       " 'mutual_info_score',\n",
       " 'neg_brier_score',\n",
       " 'neg_log_loss',\n",
       " 'neg_mean_absolute_error',\n",
       " 'neg_mean_absolute_percentage_error',\n",
       " 'neg_mean_gamma_deviance',\n",
       " 'neg_mean_poisson_deviance',\n",
       " 'neg_mean_squared_error',\n",
       " 'neg_mean_squared_log_error',\n",
       " 'neg_median_absolute_error',\n",
       " 'neg_root_mean_squared_error',\n",
       " 'normalized_mutual_info_score',\n",
       " 'precision',\n",
       " 'precision_macro',\n",
       " 'precision_micro',\n",
       " 'precision_samples',\n",
       " 'precision_weighted',\n",
       " 'r2',\n",
       " 'rand_score',\n",
       " 'recall',\n",
       " 'recall_macro',\n",
       " 'recall_micro',\n",
       " 'recall_samples',\n",
       " 'recall_weighted',\n",
       " 'roc_auc',\n",
       " 'roc_auc_ovo',\n",
       " 'roc_auc_ovo_weighted',\n",
       " 'roc_auc_ovr',\n",
       " 'roc_auc_ovr_weighted',\n",
       " 'top_k_accuracy',\n",
       " 'v_measure_score']"
      ]
     },
     "execution_count": 11,
     "metadata": {},
     "output_type": "execute_result"
    }
   ],
   "source": [
    "import sklearn\n",
    "sklearn.metrics.get_scorer_names()"
   ]
  },
  {
   "cell_type": "markdown",
   "id": "92eeb156-9348-48bb-b6ca-5a6edfc168f1",
   "metadata": {
    "tags": []
   },
   "source": [
    "### Linear Regression"
   ]
  },
  {
   "cell_type": "code",
   "execution_count": 16,
   "id": "19d709e3-7744-4f6c-a1ef-59ed8b74b5d2",
   "metadata": {},
   "outputs": [],
   "source": [
    "scoring = {'R2 Score': 'r2', 'Accuracy' : 'accuracy', 'MSE' : 'neg_mean_squared_error'}"
   ]
  },
  {
   "cell_type": "code",
   "execution_count": 17,
   "id": "63e39dc8-7380-4664-ae46-d63424d05f08",
   "metadata": {},
   "outputs": [],
   "source": [
    "lr_model = LinearRegression()"
   ]
  },
  {
   "cell_type": "code",
   "execution_count": 18,
   "id": "9c959d1f-fbe7-4a2c-9239-8be2ac0b1634",
   "metadata": {},
   "outputs": [],
   "source": [
    "lr_parameters = {'fit_intercept' : [True, False],\n",
    "                 'normalize' : [True, False]\n",
    "                 }"
   ]
  },
  {
   "cell_type": "code",
   "execution_count": 19,
   "id": "f24c47ed-2d16-45ee-9970-0ea7a6751119",
   "metadata": {
    "tags": []
   },
   "outputs": [
    {
     "name": "stdout",
     "output_type": "stream",
     "text": [
      " Results from Random Search \n",
      "\n",
      " The best estimator across ALL searched params:\n",
      " LinearRegression(fit_intercept=False, normalize=True)\n",
      "\n",
      " R2 score:\n",
      " 0.07654439701490101\n",
      "\n",
      " MSE scroe:\n",
      " 2348.293111945376\n",
      "\n",
      " The best score across ALL searched params:\n",
      " 0.06846094063762856\n",
      "\n",
      " The best parameters across ALL searched params:\n",
      " {'normalize': True, 'fit_intercept': False}\n"
     ]
    }
   ],
   "source": [
    "random_search(X, y, lr_model, lr_parameters, lr_scoring, 0.3, scale=False)"
   ]
  },
  {
   "cell_type": "markdown",
   "id": "096eaaab-f18f-4a8f-b744-454ebcda0c5c",
   "metadata": {},
   "source": [
    "#### BEST Results from Random Search\n",
    " The best estimator across ALL searched params:\n",
    " LinearRegression(fit_intercept=False, normalize=True)\n",
    "<br>\n",
    "<br>\n",
    " The best score across ALL searched params:\n",
    " 0.057461315283664605\n",
    "<br>\n",
    "<br>\n",
    " The best parameters across ALL searched params:\n",
    " {'normalize': True, 'fit_intercept': False}"
   ]
  },
  {
   "cell_type": "markdown",
   "id": "42eb5485-fcfb-48c7-a049-a9cfdb810bb4",
   "metadata": {},
   "source": [
    "### Random Forest"
   ]
  },
  {
   "cell_type": "code",
   "execution_count": 20,
   "id": "2c3a1e17-7df8-4e64-8e54-d9a3c750c835",
   "metadata": {
    "tags": []
   },
   "outputs": [],
   "source": [
    "rf_model = RandomForestRegressor()"
   ]
  },
  {
   "cell_type": "code",
   "execution_count": 21,
   "id": "ecaaf443-3f13-4765-9efc-649a50c117d1",
   "metadata": {},
   "outputs": [],
   "source": [
    "rf_parameters = {'n_estimators' : np.arange(700, 800, 25),\n",
    "                 'max_depth' : np.arange(5,9),\n",
    "                 'max_features' : ['auto', 'sqrt', 'log2', '0.2'],\n",
    "                 'min_samples_leaf' : np.arange(1,5),\n",
    "                 'min_samples_split' : np.arange(2,10),\n",
    "                 'bootstrap' : [True, False]\n",
    "               }"
   ]
  },
  {
   "cell_type": "code",
   "execution_count": 22,
   "id": "939b8e94-571f-4771-8e6e-2570c8d67e47",
   "metadata": {
    "tags": []
   },
   "outputs": [
    {
     "name": "stdout",
     "output_type": "stream",
     "text": [
      " Results from Random Search \n",
      "\n",
      " The best estimator across ALL searched params:\n",
      " RandomForestRegressor(max_depth=6, max_features='log2', min_samples_leaf=3,\n",
      "                      min_samples_split=9, n_estimators=700)\n",
      "\n",
      " R2 score:\n",
      " 0.08008398397804528\n",
      "\n",
      " MSE scroe:\n",
      " 2650.889661099115\n",
      "\n",
      " The best score across ALL searched params:\n",
      " 0.04880429640822428\n",
      "\n",
      " The best parameters across ALL searched params:\n",
      " {'n_estimators': 700, 'min_samples_split': 9, 'min_samples_leaf': 3, 'max_features': 'log2', 'max_depth': 6, 'bootstrap': True}\n"
     ]
    }
   ],
   "source": [
    "random_search(X, y, rf_model, rf_parameters, scoring, 0.3, scale=False)"
   ]
  },
  {
   "cell_type": "markdown",
   "id": "05b002d5-2f39-49d0-a320-e5bd13706555",
   "metadata": {},
   "source": [
    "#### BEST Results from Random Search \n",
    "\n",
    "The best estimator across ALL searched params:\n",
    " RandomForestRegressor(max_depth=6, max_features='sqrt', min_samples_leaf=4,\n",
    "                      min_samples_split=9, n_estimators=750)\n",
    "<br>\n",
    "<br>\n",
    " The best score across ALL searched params:\n",
    " 0.04408263923508082\n",
    "<br>\n",
    "<br>\n",
    " The best parameters across ALL searched params:\n",
    " {'n_estimators': 750, 'min_samples_split': 9, 'min_samples_leaf': 4, 'max_features': 'sqrt', 'max_depth': 6, 'bootstrap': True}"
   ]
  },
  {
   "cell_type": "markdown",
   "id": "855ef972-ec81-499e-ba44-e91b2fe7fcfb",
   "metadata": {},
   "source": [
    "### Epsilon-Support Vector Regression (SVR)"
   ]
  },
  {
   "cell_type": "code",
   "execution_count": 24,
   "id": "99bf47df-7533-4985-9d50-3d4e79ca59ab",
   "metadata": {},
   "outputs": [],
   "source": [
    "svr_model = SVR()"
   ]
  },
  {
   "cell_type": "code",
   "execution_count": 25,
   "id": "e308173d-084e-4bcc-85a5-922b5f387fac",
   "metadata": {},
   "outputs": [],
   "source": [
    "svr_parameters = {\n",
    "              'C' : np.arange(70, 72, 0.1),\n",
    "              'gamma' : np.arange(0.005, 0.01, 0.0005),\n",
    "              'epsilon' : np.arange(25.0,26.0,0.2)\n",
    "             }"
   ]
  },
  {
   "cell_type": "code",
   "execution_count": 27,
   "id": "dc0bde68-6ff7-4397-af65-0ceba3337797",
   "metadata": {
    "tags": []
   },
   "outputs": [
    {
     "name": "stdout",
     "output_type": "stream",
     "text": [
      " Results from Random Search \n",
      "\n",
      " The best estimator across ALL searched params:\n",
      " SVR(C=70.79999999999995, epsilon=25.599999999999998, gamma=0.007499999999999998)\n",
      "\n",
      " R2 score:\n",
      " 0.031003367343941712\n",
      "\n",
      " MSE scroe:\n",
      " 1707.8927857197664\n",
      "\n",
      " The best score across ALL searched params:\n",
      " 0.03909787647322407\n",
      "\n",
      " The best parameters across ALL searched params:\n",
      " {'gamma': 0.007499999999999998, 'epsilon': 25.599999999999998, 'C': 70.79999999999995}\n"
     ]
    }
   ],
   "source": [
    "random_search(X, y, svr_model, svr_parameters, scoring, 0.3, scale=True)"
   ]
  },
  {
   "cell_type": "markdown",
   "id": "1757470f-cd8c-4605-a42b-571ecbd501cd",
   "metadata": {
    "tags": []
   },
   "source": [
    "### Trying Other Regressors (SGD)"
   ]
  },
  {
   "cell_type": "code",
   "execution_count": 31,
   "id": "ba81e10d-dbb7-4671-b830-b8f747be2aef",
   "metadata": {
    "tags": []
   },
   "outputs": [],
   "source": [
    "from sklearn.linear_model import SGDRegressor\n",
    "SGD_model = SGDRegressor()\n",
    "SGD_parameters = {'alpha' : np.arange(1e-9, 1e-7, 1e-9),\n",
    "                  'l1_ratio': np.arange(1, 5, 0.5),\n",
    "                  'max_iter': np.arange(50000,70000,50),\n",
    "                  'shuffle' : [True,False]\n",
    "}"
   ]
  },
  {
   "cell_type": "code",
   "execution_count": 32,
   "id": "c6280854-ef0f-44a1-981d-c12d55dc8832",
   "metadata": {
    "tags": []
   },
   "outputs": [
    {
     "name": "stdout",
     "output_type": "stream",
     "text": [
      " Results from Random Search \n",
      "\n",
      " The best estimator across ALL searched params:\n",
      " SGDRegressor(alpha=2e-08, l1_ratio=1.0, max_iter=58950)\n",
      "\n",
      " R2 score:\n",
      " 0.09803396678167775\n",
      "\n",
      " MSE scroe:\n",
      " 2675.5888971863315\n",
      "\n",
      " The best score across ALL searched params:\n",
      " 0.04372727845458226\n",
      "\n",
      " The best parameters across ALL searched params:\n",
      " {'shuffle': True, 'max_iter': 58950, 'l1_ratio': 1.0, 'alpha': 2e-08}\n"
     ]
    }
   ],
   "source": [
    "random_search(X, y, SGD_model, SGD_parameters, scoring, 0.3, scale=True)"
   ]
  },
  {
   "cell_type": "code",
   "execution_count": null,
   "id": "0b02d3f9-94d3-441b-9ef2-d5853aa63edd",
   "metadata": {},
   "outputs": [],
   "source": []
  }
 ],
 "metadata": {
  "kernelspec": {
   "display_name": "Python 3 (ipykernel)",
   "language": "python",
   "name": "python3"
  },
  "language_info": {
   "codemirror_mode": {
    "name": "ipython",
    "version": 3
   },
   "file_extension": ".py",
   "mimetype": "text/x-python",
   "name": "python",
   "nbconvert_exporter": "python",
   "pygments_lexer": "ipython3",
   "version": "3.8.13"
  }
 },
 "nbformat": 4,
 "nbformat_minor": 5
}
