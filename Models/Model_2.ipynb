{
 "cells": [
  {
   "cell_type": "markdown",
   "id": "3c3180d0-1f08-4fa7-8a4f-030eebb48c7a",
   "metadata": {},
   "source": [
    "# Data Prep & Model 2\n",
    "In this notebook we will build on the data from Model 1\n",
    "\n",
    "In this model we will not use any one hot encoded variables, but ordinal variables instead"
   ]
  },
  {
   "cell_type": "code",
   "execution_count": 20,
   "id": "ecfb12be-4a65-4e11-8db6-c1247778d8c2",
   "metadata": {},
   "outputs": [],
   "source": [
    "# Import sys so we can import custom packages without error\n",
    "import sys\n",
    "sys.path.append('../')"
   ]
  },
  {
   "cell_type": "code",
   "execution_count": 13,
   "id": "4253b7e8-734d-4cfe-8a24-eece5ed269b7",
   "metadata": {},
   "outputs": [],
   "source": [
    "import pandas as pd\n",
    "from sklearn.model_selection import train_test_split\n",
    "from src.modules.data_preprocessing import time_of_day, feature_categorizer, make_regions\n",
    "\n",
    "import warnings\n",
    "warnings.filterwarnings('ignore')"
   ]
  },
  {
   "cell_type": "code",
   "execution_count": 2,
   "id": "fdad10fb-e27d-493e-803d-e8f2beae955f",
   "metadata": {},
   "outputs": [],
   "source": [
    "flights = pd.read_csv('../data/flights_M1.csv')"
   ]
  },
  {
   "cell_type": "code",
   "execution_count": 3,
   "id": "04119c72-950f-4c3d-8d7b-b032987d3dde",
   "metadata": {},
   "outputs": [
    {
     "data": {
      "text/html": [
       "<div>\n",
       "<style scoped>\n",
       "    .dataframe tbody tr th:only-of-type {\n",
       "        vertical-align: middle;\n",
       "    }\n",
       "\n",
       "    .dataframe tbody tr th {\n",
       "        vertical-align: top;\n",
       "    }\n",
       "\n",
       "    .dataframe thead th {\n",
       "        text-align: right;\n",
       "    }\n",
       "</style>\n",
       "<table border=\"1\" class=\"dataframe\">\n",
       "  <thead>\n",
       "    <tr style=\"text-align: right;\">\n",
       "      <th></th>\n",
       "      <th>mkt_unique_carrier</th>\n",
       "      <th>origin</th>\n",
       "      <th>dest</th>\n",
       "      <th>crs_dep_time</th>\n",
       "      <th>crs_arr_time</th>\n",
       "      <th>arr_delay</th>\n",
       "      <th>crs_elapsed_time</th>\n",
       "      <th>flights</th>\n",
       "      <th>distance</th>\n",
       "      <th>orig_weather_categ</th>\n",
       "      <th>dest_weather_categ</th>\n",
       "      <th>year</th>\n",
       "      <th>month</th>\n",
       "      <th>day</th>\n",
       "      <th>dep_time_of_day</th>\n",
       "      <th>arr_time_of_day</th>\n",
       "      <th>orig_region</th>\n",
       "      <th>dest_region</th>\n",
       "    </tr>\n",
       "  </thead>\n",
       "  <tbody>\n",
       "    <tr>\n",
       "      <th>0</th>\n",
       "      <td>WN</td>\n",
       "      <td>SAT</td>\n",
       "      <td>BNA</td>\n",
       "      <td>705</td>\n",
       "      <td>915</td>\n",
       "      <td>-2.0</td>\n",
       "      <td>130.0</td>\n",
       "      <td>1.0</td>\n",
       "      <td>822.0</td>\n",
       "      <td>cloudy</td>\n",
       "      <td>cloudy</td>\n",
       "      <td>2018</td>\n",
       "      <td>7</td>\n",
       "      <td>10</td>\n",
       "      <td>0</td>\n",
       "      <td>0</td>\n",
       "      <td>West-South Central</td>\n",
       "      <td>East-South Central</td>\n",
       "    </tr>\n",
       "    <tr>\n",
       "      <th>1</th>\n",
       "      <td>UA</td>\n",
       "      <td>ORD</td>\n",
       "      <td>MCO</td>\n",
       "      <td>800</td>\n",
       "      <td>1148</td>\n",
       "      <td>-9.0</td>\n",
       "      <td>168.0</td>\n",
       "      <td>1.0</td>\n",
       "      <td>1005.0</td>\n",
       "      <td>rain</td>\n",
       "      <td>rain</td>\n",
       "      <td>2019</td>\n",
       "      <td>10</td>\n",
       "      <td>10</td>\n",
       "      <td>0</td>\n",
       "      <td>0</td>\n",
       "      <td>East-North Central</td>\n",
       "      <td>South-Atlantic</td>\n",
       "    </tr>\n",
       "  </tbody>\n",
       "</table>\n",
       "</div>"
      ],
      "text/plain": [
       "  mkt_unique_carrier origin dest  crs_dep_time  crs_arr_time  arr_delay  \\\n",
       "0                 WN    SAT  BNA           705           915       -2.0   \n",
       "1                 UA    ORD  MCO           800          1148       -9.0   \n",
       "\n",
       "   crs_elapsed_time  flights  distance orig_weather_categ dest_weather_categ  \\\n",
       "0             130.0      1.0     822.0             cloudy             cloudy   \n",
       "1             168.0      1.0    1005.0               rain               rain   \n",
       "\n",
       "   year  month  day  dep_time_of_day  arr_time_of_day         orig_region  \\\n",
       "0  2018      7   10                0                0  West-South Central   \n",
       "1  2019     10   10                0                0  East-North Central   \n",
       "\n",
       "          dest_region  \n",
       "0  East-South Central  \n",
       "1      South-Atlantic  "
      ]
     },
     "execution_count": 3,
     "metadata": {},
     "output_type": "execute_result"
    }
   ],
   "source": [
    "flights.head(2)"
   ]
  },
  {
   "cell_type": "markdown",
   "id": "97e8ca2d-5372-49cc-b833-c92e51bfe591",
   "metadata": {},
   "source": [
    "# Split the data into Train and Test\n",
    "there are a few features we want to create that should only be created from the test data"
   ]
  },
  {
   "cell_type": "code",
   "execution_count": 50,
   "id": "e7fd73bf-8dd4-41f1-ab82-ba96baf91469",
   "metadata": {},
   "outputs": [],
   "source": [
    "X = flights.drop(['arr_delay'], axis = 1)\n",
    "y = flights['arr_delay']"
   ]
  },
  {
   "cell_type": "code",
   "execution_count": 51,
   "id": "ec046048-b194-414b-8e7a-6f97c72daa7d",
   "metadata": {},
   "outputs": [],
   "source": [
    "#split\n",
    "X_train, X_test, y_train, y_test = train_test_split(X, y, test_size=0.20, random_state=42)"
   ]
  },
  {
   "cell_type": "code",
   "execution_count": 52,
   "id": "3fb64e02-2505-42c5-b30e-c671edf52c44",
   "metadata": {},
   "outputs": [],
   "source": [
    "X_train_M2 = X_train"
   ]
  },
  {
   "cell_type": "markdown",
   "id": "2396af42-eed4-4f2a-a863-e87d6209199e",
   "metadata": {},
   "source": [
    "## Create Features based on only train data"
   ]
  },
  {
   "cell_type": "markdown",
   "id": "80de3c7d-3c74-4939-9e76-c9eea0077b9e",
   "metadata": {},
   "source": [
    "### Create mean delay by airport feature to use in place of origin airport"
   ]
  },
  {
   "cell_type": "code",
   "execution_count": 4,
   "id": "5ec25179-677f-4f4e-ab0e-715e3e93ded0",
   "metadata": {},
   "outputs": [],
   "source": [
    "mean_delay_orig_airport = flights[['origin', 'arr_delay']].groupby(by = 'origin').mean().reset_index()"
   ]
  },
  {
   "cell_type": "code",
   "execution_count": 5,
   "id": "17d598c6-5339-475a-be75-03bf91b53ee4",
   "metadata": {},
   "outputs": [],
   "source": [
    "#rename aggregate column\n",
    "mean_delay_orig_airport.rename({'arr_delay':'mean_arr_delay_orig_airport'},axis = 1, inplace= True)"
   ]
  },
  {
   "cell_type": "code",
   "execution_count": 55,
   "id": "3f35da82-22dd-46bd-9e16-dc9ede933936",
   "metadata": {},
   "outputs": [],
   "source": [
    "#merge this mean value to flights_M1 with origin as key\n",
    "X_train_M2 = pd.merge(X_train_M2, mean_delay_orig_airport, how = 'left', on = ['origin'])"
   ]
  },
  {
   "cell_type": "code",
   "execution_count": 6,
   "id": "44536f6b-5db5-4134-9ac1-cd0502da5676",
   "metadata": {},
   "outputs": [],
   "source": [
    "#mean delay for dest airport\n",
    "mean_delay_dest_airport = flights[['dest', 'arr_delay']].groupby(by = 'dest').mean().reset_index()\n",
    "mean_delay_dest_airport.rename({'arr_delay':'mean_arr_delay_dest_airport'},axis = 1, inplace= True)"
   ]
  },
  {
   "cell_type": "code",
   "execution_count": 57,
   "id": "e0e28e3a-6ade-489e-8f89-2b95bf742a01",
   "metadata": {},
   "outputs": [],
   "source": [
    "#merge this mean value to flights_M1 with dest as key\n",
    "X_train_M2 = pd.merge(X_train_M2, mean_delay_dest_airport, how = 'left', on = ['dest'])"
   ]
  },
  {
   "cell_type": "code",
   "execution_count": 7,
   "id": "02ca5a33-8a95-48ce-a9fb-01d59ce9e538",
   "metadata": {},
   "outputs": [],
   "source": [
    "#export these features to use on test data\n",
    "mean_delay_orig_airport.to_csv('data/Features/mean_delay_orig_airport.csv', header=True, index=False)"
   ]
  },
  {
   "cell_type": "code",
   "execution_count": 8,
   "id": "2f5e3b3d-8756-4519-8eae-a61fb7b9a708",
   "metadata": {},
   "outputs": [],
   "source": [
    "mean_delay_dest_airport.to_csv('data/Features/mean_delay_dest_airport.csv', header=True, index=False)"
   ]
  },
  {
   "cell_type": "markdown",
   "id": "5009f4c8-ed6c-408a-b88f-e3ed399c9697",
   "metadata": {},
   "source": [
    "### Create mean delay by carrier feature"
   ]
  },
  {
   "cell_type": "code",
   "execution_count": 9,
   "id": "6b59974e-bfd1-4f24-b046-39f6b21f64fb",
   "metadata": {},
   "outputs": [],
   "source": [
    "#mean delay for carrier\n",
    "mean_delay_carrier = flights[['mkt_unique_carrier', 'arr_delay']].groupby(by = 'mkt_unique_carrier').mean().reset_index()"
   ]
  },
  {
   "cell_type": "code",
   "execution_count": 10,
   "id": "9740d5e2-e092-43b9-8792-aef0cd3d0533",
   "metadata": {},
   "outputs": [],
   "source": [
    "mean_delay_carrier.rename({'arr_delay':'mean_arr_delay_carrier'},axis = 1, inplace= True)"
   ]
  },
  {
   "cell_type": "code",
   "execution_count": 11,
   "id": "db60d721-9621-4b7b-a3ea-56dbea892afd",
   "metadata": {
    "collapsed": true,
    "jupyter": {
     "outputs_hidden": true
    },
    "tags": []
   },
   "outputs": [
    {
     "ename": "NameError",
     "evalue": "name 'X_train_M2' is not defined",
     "output_type": "error",
     "traceback": [
      "\u001b[1;31m---------------------------------------------------------------------------\u001b[0m",
      "\u001b[1;31mNameError\u001b[0m                                 Traceback (most recent call last)",
      "Input \u001b[1;32mIn [11]\u001b[0m, in \u001b[0;36m<cell line: 2>\u001b[1;34m()\u001b[0m\n\u001b[0;32m      1\u001b[0m \u001b[38;5;66;03m#merge this mean value to flights_M1 with mkt unique carrier as key\u001b[39;00m\n\u001b[1;32m----> 2\u001b[0m X_train_M2 \u001b[38;5;241m=\u001b[39m pd\u001b[38;5;241m.\u001b[39mmerge(\u001b[43mX_train_M2\u001b[49m, mean_delay_carrier, how \u001b[38;5;241m=\u001b[39m \u001b[38;5;124m'\u001b[39m\u001b[38;5;124mleft\u001b[39m\u001b[38;5;124m'\u001b[39m, on \u001b[38;5;241m=\u001b[39m [\u001b[38;5;124m'\u001b[39m\u001b[38;5;124mmkt_unique_carrier\u001b[39m\u001b[38;5;124m'\u001b[39m])\n",
      "\u001b[1;31mNameError\u001b[0m: name 'X_train_M2' is not defined"
     ]
    }
   ],
   "source": [
    "#merge this mean value to flights_M1 with mkt unique carrier as key\n",
    "X_train_M2 = pd.merge(X_train_M2, mean_delay_carrier, how = 'left', on = ['mkt_unique_carrier'])"
   ]
  },
  {
   "cell_type": "code",
   "execution_count": null,
   "id": "e14a4245-383e-4641-9274-0d2b04107de5",
   "metadata": {},
   "outputs": [],
   "source": [
    "X_train_M2.head(1)"
   ]
  },
  {
   "cell_type": "code",
   "execution_count": 62,
   "id": "094a1088-fd14-4609-86a0-7e79d9613882",
   "metadata": {},
   "outputs": [],
   "source": [
    "#now we can drop these categorical feature\n",
    "X_train_M2.drop(['mkt_unique_carrier', 'origin', 'dest'], axis = 1, inplace = True)"
   ]
  },
  {
   "cell_type": "code",
   "execution_count": 12,
   "id": "82544163-d8b3-4402-b7cd-059efcb2eaeb",
   "metadata": {},
   "outputs": [],
   "source": [
    "mean_delay_carrier.to_csv('data/Features/mean_delay_carrier.csv', header=True, index=False)"
   ]
  },
  {
   "cell_type": "markdown",
   "id": "81a5075f-45da-4493-bb9c-440491e8f66a",
   "metadata": {},
   "source": [
    "### Weather & Region categorical features to ordinal int\n",
    "In model 1, this feature was one-hot encoded"
   ]
  },
  {
   "cell_type": "code",
   "execution_count": 63,
   "id": "e590c24e-02d5-44a5-8be0-cb566830969c",
   "metadata": {},
   "outputs": [
    {
     "data": {
      "text/plain": [
       "crs_dep_time                     int64\n",
       "crs_arr_time                     int64\n",
       "crs_elapsed_time               float64\n",
       "flights                        float64\n",
       "distance                       float64\n",
       "orig_weather_categ              object\n",
       "dest_weather_categ              object\n",
       "year                             int64\n",
       "month                            int64\n",
       "day                              int64\n",
       "dep_time_of_day                  int64\n",
       "arr_time_of_day                  int64\n",
       "orig_region                     object\n",
       "dest_region                     object\n",
       "mean_arr_delay_orig_airport    float64\n",
       "mean_arr_delay_dest_airport    float64\n",
       "mean_arr_delay_carrier         float64\n",
       "dtype: object"
      ]
     },
     "execution_count": 63,
     "metadata": {},
     "output_type": "execute_result"
    }
   ],
   "source": [
    "X_train_M2.dtypes    "
   ]
  },
  {
   "cell_type": "code",
   "execution_count": 64,
   "id": "c3dc2f4b-d073-4035-9a7a-e4b826e2dab3",
   "metadata": {},
   "outputs": [],
   "source": [
    "# turn weather into ordinal\n",
    "feature_categorizer(X_train_M2[['orig_weather_categ', 'dest_weather_categ']], X_train_M2)"
   ]
  },
  {
   "cell_type": "code",
   "execution_count": 65,
   "id": "21dd6e54-0166-426b-ba9d-a147673d6eb5",
   "metadata": {},
   "outputs": [],
   "source": [
    "feature_categorizer(X_train_M2[['orig_region', 'dest_region']], X_train_M2)"
   ]
  },
  {
   "cell_type": "code",
   "execution_count": 66,
   "id": "4e5bf646-0f48-43c9-b572-c1d0f62f1b37",
   "metadata": {},
   "outputs": [
    {
     "data": {
      "text/html": [
       "<div>\n",
       "<style scoped>\n",
       "    .dataframe tbody tr th:only-of-type {\n",
       "        vertical-align: middle;\n",
       "    }\n",
       "\n",
       "    .dataframe tbody tr th {\n",
       "        vertical-align: top;\n",
       "    }\n",
       "\n",
       "    .dataframe thead th {\n",
       "        text-align: right;\n",
       "    }\n",
       "</style>\n",
       "<table border=\"1\" class=\"dataframe\">\n",
       "  <thead>\n",
       "    <tr style=\"text-align: right;\">\n",
       "      <th></th>\n",
       "      <th>crs_dep_time</th>\n",
       "      <th>crs_arr_time</th>\n",
       "      <th>crs_elapsed_time</th>\n",
       "      <th>flights</th>\n",
       "      <th>distance</th>\n",
       "      <th>orig_weather_categ</th>\n",
       "      <th>dest_weather_categ</th>\n",
       "      <th>year</th>\n",
       "      <th>month</th>\n",
       "      <th>day</th>\n",
       "      <th>dep_time_of_day</th>\n",
       "      <th>arr_time_of_day</th>\n",
       "      <th>orig_region</th>\n",
       "      <th>dest_region</th>\n",
       "      <th>mean_arr_delay_orig_airport</th>\n",
       "      <th>mean_arr_delay_dest_airport</th>\n",
       "      <th>mean_arr_delay_carrier</th>\n",
       "    </tr>\n",
       "  </thead>\n",
       "  <tbody>\n",
       "    <tr>\n",
       "      <th>0</th>\n",
       "      <td>801</td>\n",
       "      <td>850</td>\n",
       "      <td>109.0</td>\n",
       "      <td>1.0</td>\n",
       "      <td>533.0</td>\n",
       "      <td>0</td>\n",
       "      <td>0</td>\n",
       "      <td>2018</td>\n",
       "      <td>12</td>\n",
       "      <td>16</td>\n",
       "      <td>0</td>\n",
       "      <td>0</td>\n",
       "      <td>0</td>\n",
       "      <td>0</td>\n",
       "      <td>-1.652778</td>\n",
       "      <td>7.98615</td>\n",
       "      <td>8.249349</td>\n",
       "    </tr>\n",
       "  </tbody>\n",
       "</table>\n",
       "</div>"
      ],
      "text/plain": [
       "   crs_dep_time  crs_arr_time  crs_elapsed_time  flights  distance  \\\n",
       "0           801           850             109.0      1.0     533.0   \n",
       "\n",
       "   orig_weather_categ  dest_weather_categ  year  month  day  dep_time_of_day  \\\n",
       "0                   0                   0  2018     12   16                0   \n",
       "\n",
       "   arr_time_of_day  orig_region  dest_region  mean_arr_delay_orig_airport  \\\n",
       "0                0            0            0                    -1.652778   \n",
       "\n",
       "   mean_arr_delay_dest_airport  mean_arr_delay_carrier  \n",
       "0                      7.98615                8.249349  "
      ]
     },
     "execution_count": 66,
     "metadata": {},
     "output_type": "execute_result"
    }
   ],
   "source": [
    "X_train_M2.head(1)"
   ]
  },
  {
   "cell_type": "markdown",
   "id": "c36bbd2f-3259-4db4-9c85-9f9378d40f2a",
   "metadata": {},
   "source": [
    "# Apply same process to test set"
   ]
  },
  {
   "cell_type": "markdown",
   "id": "9a906db3-0a64-453d-ad81-35c24c0082f2",
   "metadata": {},
   "source": [
    "keep only the features we would have 1 week before the flight:\n",
    "\n",
    "Index(['fl_date', 'mkt_unique_carrier', 'branded_code_share', 'mkt_carrier',\n",
    "       'mkt_carrier_fl_num', 'op_unique_carrier', 'tail_num',\n",
    "       'op_carrier_fl_num', 'origin_airport_id', 'origin', 'origin_city_name',\n",
    "       'dest_airport_id', 'dest', 'dest_city_name', 'crs_dep_time',\n",
    "       'crs_arr_time', 'dup', 'crs_elapsed_time', 'flights', 'distance'],\n",
    "      dtype='object')"
   ]
  },
  {
   "cell_type": "code",
   "execution_count": 67,
   "id": "499ce887-35e0-4a4c-b21e-2298d73536e5",
   "metadata": {},
   "outputs": [],
   "source": [
    "X_test_M2 = X_test"
   ]
  },
  {
   "cell_type": "code",
   "execution_count": 68,
   "id": "1ef0fd78-d769-4238-a616-50f82a88f611",
   "metadata": {},
   "outputs": [
    {
     "data": {
      "text/html": [
       "<div>\n",
       "<style scoped>\n",
       "    .dataframe tbody tr th:only-of-type {\n",
       "        vertical-align: middle;\n",
       "    }\n",
       "\n",
       "    .dataframe tbody tr th {\n",
       "        vertical-align: top;\n",
       "    }\n",
       "\n",
       "    .dataframe thead th {\n",
       "        text-align: right;\n",
       "    }\n",
       "</style>\n",
       "<table border=\"1\" class=\"dataframe\">\n",
       "  <thead>\n",
       "    <tr style=\"text-align: right;\">\n",
       "      <th></th>\n",
       "      <th>mkt_unique_carrier</th>\n",
       "      <th>origin</th>\n",
       "      <th>dest</th>\n",
       "      <th>crs_dep_time</th>\n",
       "      <th>crs_arr_time</th>\n",
       "      <th>crs_elapsed_time</th>\n",
       "      <th>flights</th>\n",
       "      <th>distance</th>\n",
       "      <th>orig_weather_categ</th>\n",
       "      <th>dest_weather_categ</th>\n",
       "      <th>year</th>\n",
       "      <th>month</th>\n",
       "      <th>day</th>\n",
       "      <th>dep_time_of_day</th>\n",
       "      <th>arr_time_of_day</th>\n",
       "      <th>orig_region</th>\n",
       "      <th>dest_region</th>\n",
       "    </tr>\n",
       "  </thead>\n",
       "  <tbody>\n",
       "    <tr>\n",
       "      <th>6252</th>\n",
       "      <td>UA</td>\n",
       "      <td>COS</td>\n",
       "      <td>DEN</td>\n",
       "      <td>738</td>\n",
       "      <td>840</td>\n",
       "      <td>62.0</td>\n",
       "      <td>1.0</td>\n",
       "      <td>73.0</td>\n",
       "      <td>sunny</td>\n",
       "      <td>sunny</td>\n",
       "      <td>2019</td>\n",
       "      <td>12</td>\n",
       "      <td>25</td>\n",
       "      <td>0</td>\n",
       "      <td>0</td>\n",
       "      <td>South-West</td>\n",
       "      <td>South-West</td>\n",
       "    </tr>\n",
       "    <tr>\n",
       "      <th>4684</th>\n",
       "      <td>F9</td>\n",
       "      <td>HSV</td>\n",
       "      <td>MCO</td>\n",
       "      <td>1917</td>\n",
       "      <td>2207</td>\n",
       "      <td>110.0</td>\n",
       "      <td>1.0</td>\n",
       "      <td>535.0</td>\n",
       "      <td>rain</td>\n",
       "      <td>sunny</td>\n",
       "      <td>2019</td>\n",
       "      <td>10</td>\n",
       "      <td>22</td>\n",
       "      <td>3</td>\n",
       "      <td>1</td>\n",
       "      <td>East-South Central</td>\n",
       "      <td>South-Atlantic</td>\n",
       "    </tr>\n",
       "  </tbody>\n",
       "</table>\n",
       "</div>"
      ],
      "text/plain": [
       "     mkt_unique_carrier origin dest  crs_dep_time  crs_arr_time  \\\n",
       "6252                 UA    COS  DEN           738           840   \n",
       "4684                 F9    HSV  MCO          1917          2207   \n",
       "\n",
       "      crs_elapsed_time  flights  distance orig_weather_categ  \\\n",
       "6252              62.0      1.0      73.0              sunny   \n",
       "4684             110.0      1.0     535.0               rain   \n",
       "\n",
       "     dest_weather_categ  year  month  day  dep_time_of_day  arr_time_of_day  \\\n",
       "6252              sunny  2019     12   25                0                0   \n",
       "4684              sunny  2019     10   22                3                1   \n",
       "\n",
       "             orig_region     dest_region  \n",
       "6252          South-West      South-West  \n",
       "4684  East-South Central  South-Atlantic  "
      ]
     },
     "execution_count": 68,
     "metadata": {},
     "output_type": "execute_result"
    }
   ],
   "source": [
    "X_test_M2.head(2)"
   ]
  },
  {
   "cell_type": "markdown",
   "id": "2ed44e46-cd44-4654-894c-62965de0e8ec",
   "metadata": {},
   "source": [
    "### Assign mean delay by airport feature from train data set"
   ]
  },
  {
   "cell_type": "code",
   "execution_count": 69,
   "id": "c6e37999-0d7e-4783-8031-dcfbac5e6cd8",
   "metadata": {},
   "outputs": [],
   "source": [
    "#merge this mean value to test set with origin as key\n",
    "X_test_M2 = pd.merge(X_test_M2, mean_delay_orig_airport, how = 'left', on = ['origin'])"
   ]
  },
  {
   "cell_type": "code",
   "execution_count": 70,
   "id": "52055472-373c-48fb-a4e8-4647921b8a67",
   "metadata": {},
   "outputs": [
    {
     "data": {
      "text/html": [
       "<div>\n",
       "<style scoped>\n",
       "    .dataframe tbody tr th:only-of-type {\n",
       "        vertical-align: middle;\n",
       "    }\n",
       "\n",
       "    .dataframe tbody tr th {\n",
       "        vertical-align: top;\n",
       "    }\n",
       "\n",
       "    .dataframe thead th {\n",
       "        text-align: right;\n",
       "    }\n",
       "</style>\n",
       "<table border=\"1\" class=\"dataframe\">\n",
       "  <thead>\n",
       "    <tr style=\"text-align: right;\">\n",
       "      <th></th>\n",
       "      <th>dest</th>\n",
       "      <th>mean_arr_delay_dest_airport</th>\n",
       "    </tr>\n",
       "  </thead>\n",
       "  <tbody>\n",
       "    <tr>\n",
       "      <th>0</th>\n",
       "      <td>ABE</td>\n",
       "      <td>20.5</td>\n",
       "    </tr>\n",
       "    <tr>\n",
       "      <th>1</th>\n",
       "      <td>ABI</td>\n",
       "      <td>9.6</td>\n",
       "    </tr>\n",
       "  </tbody>\n",
       "</table>\n",
       "</div>"
      ],
      "text/plain": [
       "  dest  mean_arr_delay_dest_airport\n",
       "0  ABE                         20.5\n",
       "1  ABI                          9.6"
      ]
     },
     "execution_count": 70,
     "metadata": {},
     "output_type": "execute_result"
    }
   ],
   "source": [
    "mean_delay_dest_airport.head(2)"
   ]
  },
  {
   "cell_type": "code",
   "execution_count": 71,
   "id": "0c7c5066-cc6d-49e4-be3b-39969cf2b8f2",
   "metadata": {},
   "outputs": [],
   "source": [
    "#merge this mean value to test set with dest as key\n",
    "X_test_M2 = pd.merge(X_test_M2, mean_delay_dest_airport, how = 'left', on = ['dest'])"
   ]
  },
  {
   "cell_type": "code",
   "execution_count": 72,
   "id": "70d9b3de-4b1b-4dc9-9d4d-d933ad59c3da",
   "metadata": {},
   "outputs": [
    {
     "data": {
      "text/html": [
       "<div>\n",
       "<style scoped>\n",
       "    .dataframe tbody tr th:only-of-type {\n",
       "        vertical-align: middle;\n",
       "    }\n",
       "\n",
       "    .dataframe tbody tr th {\n",
       "        vertical-align: top;\n",
       "    }\n",
       "\n",
       "    .dataframe thead th {\n",
       "        text-align: right;\n",
       "    }\n",
       "</style>\n",
       "<table border=\"1\" class=\"dataframe\">\n",
       "  <thead>\n",
       "    <tr style=\"text-align: right;\">\n",
       "      <th></th>\n",
       "      <th>mkt_unique_carrier</th>\n",
       "      <th>origin</th>\n",
       "      <th>dest</th>\n",
       "      <th>crs_dep_time</th>\n",
       "      <th>crs_arr_time</th>\n",
       "      <th>crs_elapsed_time</th>\n",
       "      <th>flights</th>\n",
       "      <th>distance</th>\n",
       "      <th>orig_weather_categ</th>\n",
       "      <th>dest_weather_categ</th>\n",
       "      <th>year</th>\n",
       "      <th>month</th>\n",
       "      <th>day</th>\n",
       "      <th>dep_time_of_day</th>\n",
       "      <th>arr_time_of_day</th>\n",
       "      <th>orig_region</th>\n",
       "      <th>dest_region</th>\n",
       "      <th>mean_arr_delay_orig_airport</th>\n",
       "      <th>mean_arr_delay_dest_airport</th>\n",
       "    </tr>\n",
       "  </thead>\n",
       "  <tbody>\n",
       "    <tr>\n",
       "      <th>0</th>\n",
       "      <td>UA</td>\n",
       "      <td>COS</td>\n",
       "      <td>DEN</td>\n",
       "      <td>738</td>\n",
       "      <td>840</td>\n",
       "      <td>62.0</td>\n",
       "      <td>1.0</td>\n",
       "      <td>73.0</td>\n",
       "      <td>sunny</td>\n",
       "      <td>sunny</td>\n",
       "      <td>2019</td>\n",
       "      <td>12</td>\n",
       "      <td>25</td>\n",
       "      <td>0</td>\n",
       "      <td>0</td>\n",
       "      <td>South-West</td>\n",
       "      <td>South-West</td>\n",
       "      <td>1.562500</td>\n",
       "      <td>7.986150</td>\n",
       "    </tr>\n",
       "    <tr>\n",
       "      <th>1</th>\n",
       "      <td>F9</td>\n",
       "      <td>HSV</td>\n",
       "      <td>MCO</td>\n",
       "      <td>1917</td>\n",
       "      <td>2207</td>\n",
       "      <td>110.0</td>\n",
       "      <td>1.0</td>\n",
       "      <td>535.0</td>\n",
       "      <td>rain</td>\n",
       "      <td>sunny</td>\n",
       "      <td>2019</td>\n",
       "      <td>10</td>\n",
       "      <td>22</td>\n",
       "      <td>3</td>\n",
       "      <td>1</td>\n",
       "      <td>East-South Central</td>\n",
       "      <td>South-Atlantic</td>\n",
       "      <td>8.142857</td>\n",
       "      <td>6.542373</td>\n",
       "    </tr>\n",
       "  </tbody>\n",
       "</table>\n",
       "</div>"
      ],
      "text/plain": [
       "  mkt_unique_carrier origin dest  crs_dep_time  crs_arr_time  \\\n",
       "0                 UA    COS  DEN           738           840   \n",
       "1                 F9    HSV  MCO          1917          2207   \n",
       "\n",
       "   crs_elapsed_time  flights  distance orig_weather_categ dest_weather_categ  \\\n",
       "0              62.0      1.0      73.0              sunny              sunny   \n",
       "1             110.0      1.0     535.0               rain              sunny   \n",
       "\n",
       "   year  month  day  dep_time_of_day  arr_time_of_day         orig_region  \\\n",
       "0  2019     12   25                0                0          South-West   \n",
       "1  2019     10   22                3                1  East-South Central   \n",
       "\n",
       "      dest_region  mean_arr_delay_orig_airport  mean_arr_delay_dest_airport  \n",
       "0      South-West                     1.562500                     7.986150  \n",
       "1  South-Atlantic                     8.142857                     6.542373  "
      ]
     },
     "execution_count": 72,
     "metadata": {},
     "output_type": "execute_result"
    }
   ],
   "source": [
    "X_test_M2.head(2)"
   ]
  },
  {
   "cell_type": "markdown",
   "id": "cf52a293-f6d6-4887-8a04-bd8d3e040ed1",
   "metadata": {},
   "source": [
    "### Assign mean delay by carrier feature (created from train set)"
   ]
  },
  {
   "cell_type": "code",
   "execution_count": 73,
   "id": "143611eb-6bf4-4d89-9fc7-b360d8703edd",
   "metadata": {},
   "outputs": [],
   "source": [
    "#merge this mean value to test set with mkt unique carrier as key\n",
    "X_test_M2 = pd.merge(X_test_M2, mean_delay_carrier, how = 'left', on = ['mkt_unique_carrier'])"
   ]
  },
  {
   "cell_type": "code",
   "execution_count": 74,
   "id": "e4dcccbb-b63e-4795-8ba7-68c58f963ef7",
   "metadata": {},
   "outputs": [
    {
     "data": {
      "text/html": [
       "<div>\n",
       "<style scoped>\n",
       "    .dataframe tbody tr th:only-of-type {\n",
       "        vertical-align: middle;\n",
       "    }\n",
       "\n",
       "    .dataframe tbody tr th {\n",
       "        vertical-align: top;\n",
       "    }\n",
       "\n",
       "    .dataframe thead th {\n",
       "        text-align: right;\n",
       "    }\n",
       "</style>\n",
       "<table border=\"1\" class=\"dataframe\">\n",
       "  <thead>\n",
       "    <tr style=\"text-align: right;\">\n",
       "      <th></th>\n",
       "      <th>mkt_unique_carrier</th>\n",
       "      <th>origin</th>\n",
       "      <th>dest</th>\n",
       "      <th>crs_dep_time</th>\n",
       "      <th>crs_arr_time</th>\n",
       "      <th>crs_elapsed_time</th>\n",
       "      <th>flights</th>\n",
       "      <th>distance</th>\n",
       "      <th>orig_weather_categ</th>\n",
       "      <th>dest_weather_categ</th>\n",
       "      <th>year</th>\n",
       "      <th>month</th>\n",
       "      <th>day</th>\n",
       "      <th>dep_time_of_day</th>\n",
       "      <th>arr_time_of_day</th>\n",
       "      <th>orig_region</th>\n",
       "      <th>dest_region</th>\n",
       "      <th>mean_arr_delay_orig_airport</th>\n",
       "      <th>mean_arr_delay_dest_airport</th>\n",
       "      <th>mean_arr_delay_carrier</th>\n",
       "    </tr>\n",
       "  </thead>\n",
       "  <tbody>\n",
       "    <tr>\n",
       "      <th>0</th>\n",
       "      <td>UA</td>\n",
       "      <td>COS</td>\n",
       "      <td>DEN</td>\n",
       "      <td>738</td>\n",
       "      <td>840</td>\n",
       "      <td>62.0</td>\n",
       "      <td>1.0</td>\n",
       "      <td>73.0</td>\n",
       "      <td>sunny</td>\n",
       "      <td>sunny</td>\n",
       "      <td>2019</td>\n",
       "      <td>12</td>\n",
       "      <td>25</td>\n",
       "      <td>0</td>\n",
       "      <td>0</td>\n",
       "      <td>South-West</td>\n",
       "      <td>South-West</td>\n",
       "      <td>1.5625</td>\n",
       "      <td>7.98615</td>\n",
       "      <td>8.249349</td>\n",
       "    </tr>\n",
       "  </tbody>\n",
       "</table>\n",
       "</div>"
      ],
      "text/plain": [
       "  mkt_unique_carrier origin dest  crs_dep_time  crs_arr_time  \\\n",
       "0                 UA    COS  DEN           738           840   \n",
       "\n",
       "   crs_elapsed_time  flights  distance orig_weather_categ dest_weather_categ  \\\n",
       "0              62.0      1.0      73.0              sunny              sunny   \n",
       "\n",
       "   year  month  day  dep_time_of_day  arr_time_of_day orig_region dest_region  \\\n",
       "0  2019     12   25                0                0  South-West  South-West   \n",
       "\n",
       "   mean_arr_delay_orig_airport  mean_arr_delay_dest_airport  \\\n",
       "0                       1.5625                      7.98615   \n",
       "\n",
       "   mean_arr_delay_carrier  \n",
       "0                8.249349  "
      ]
     },
     "execution_count": 74,
     "metadata": {},
     "output_type": "execute_result"
    }
   ],
   "source": [
    "X_test_M2.head(1)"
   ]
  },
  {
   "cell_type": "code",
   "execution_count": 75,
   "id": "0d5f0106-38a6-494c-9129-d069d1d28ad6",
   "metadata": {},
   "outputs": [],
   "source": [
    "#now we can drop the 'mkt_unique_carrier' categorical feature\n",
    "X_test_M2.drop(['mkt_unique_carrier', 'origin', 'dest'], axis = 1, inplace = True)"
   ]
  },
  {
   "cell_type": "code",
   "execution_count": 76,
   "id": "d179b2f5-232a-4b7f-abeb-dfa421c5ccdb",
   "metadata": {},
   "outputs": [
    {
     "data": {
      "text/html": [
       "<div>\n",
       "<style scoped>\n",
       "    .dataframe tbody tr th:only-of-type {\n",
       "        vertical-align: middle;\n",
       "    }\n",
       "\n",
       "    .dataframe tbody tr th {\n",
       "        vertical-align: top;\n",
       "    }\n",
       "\n",
       "    .dataframe thead th {\n",
       "        text-align: right;\n",
       "    }\n",
       "</style>\n",
       "<table border=\"1\" class=\"dataframe\">\n",
       "  <thead>\n",
       "    <tr style=\"text-align: right;\">\n",
       "      <th></th>\n",
       "      <th>crs_dep_time</th>\n",
       "      <th>crs_arr_time</th>\n",
       "      <th>crs_elapsed_time</th>\n",
       "      <th>flights</th>\n",
       "      <th>distance</th>\n",
       "      <th>orig_weather_categ</th>\n",
       "      <th>dest_weather_categ</th>\n",
       "      <th>year</th>\n",
       "      <th>month</th>\n",
       "      <th>day</th>\n",
       "      <th>dep_time_of_day</th>\n",
       "      <th>arr_time_of_day</th>\n",
       "      <th>orig_region</th>\n",
       "      <th>dest_region</th>\n",
       "      <th>mean_arr_delay_orig_airport</th>\n",
       "      <th>mean_arr_delay_dest_airport</th>\n",
       "      <th>mean_arr_delay_carrier</th>\n",
       "    </tr>\n",
       "  </thead>\n",
       "  <tbody>\n",
       "    <tr>\n",
       "      <th>0</th>\n",
       "      <td>738</td>\n",
       "      <td>840</td>\n",
       "      <td>62.0</td>\n",
       "      <td>1.0</td>\n",
       "      <td>73.0</td>\n",
       "      <td>sunny</td>\n",
       "      <td>sunny</td>\n",
       "      <td>2019</td>\n",
       "      <td>12</td>\n",
       "      <td>25</td>\n",
       "      <td>0</td>\n",
       "      <td>0</td>\n",
       "      <td>South-West</td>\n",
       "      <td>South-West</td>\n",
       "      <td>1.5625</td>\n",
       "      <td>7.98615</td>\n",
       "      <td>8.249349</td>\n",
       "    </tr>\n",
       "  </tbody>\n",
       "</table>\n",
       "</div>"
      ],
      "text/plain": [
       "   crs_dep_time  crs_arr_time  crs_elapsed_time  flights  distance  \\\n",
       "0           738           840              62.0      1.0      73.0   \n",
       "\n",
       "  orig_weather_categ dest_weather_categ  year  month  day  dep_time_of_day  \\\n",
       "0              sunny              sunny  2019     12   25                0   \n",
       "\n",
       "   arr_time_of_day orig_region dest_region  mean_arr_delay_orig_airport  \\\n",
       "0                0  South-West  South-West                       1.5625   \n",
       "\n",
       "   mean_arr_delay_dest_airport  mean_arr_delay_carrier  \n",
       "0                      7.98615                8.249349  "
      ]
     },
     "execution_count": 76,
     "metadata": {},
     "output_type": "execute_result"
    }
   ],
   "source": [
    "X_test_M2.head(1)"
   ]
  },
  {
   "cell_type": "code",
   "execution_count": 77,
   "id": "4b65bec9-272f-476f-8245-77688d51a051",
   "metadata": {},
   "outputs": [
    {
     "data": {
      "text/plain": [
       "crs_dep_time                     int64\n",
       "crs_arr_time                     int64\n",
       "crs_elapsed_time               float64\n",
       "flights                        float64\n",
       "distance                       float64\n",
       "orig_weather_categ              object\n",
       "dest_weather_categ              object\n",
       "year                             int64\n",
       "month                            int64\n",
       "day                              int64\n",
       "dep_time_of_day                  int64\n",
       "arr_time_of_day                  int64\n",
       "orig_region                     object\n",
       "dest_region                     object\n",
       "mean_arr_delay_orig_airport    float64\n",
       "mean_arr_delay_dest_airport    float64\n",
       "mean_arr_delay_carrier         float64\n",
       "dtype: object"
      ]
     },
     "execution_count": 77,
     "metadata": {},
     "output_type": "execute_result"
    }
   ],
   "source": [
    "X_test_M2.dtypes"
   ]
  },
  {
   "cell_type": "code",
   "execution_count": 78,
   "id": "c44f6974-0a08-48e2-9662-83e076903a27",
   "metadata": {},
   "outputs": [
    {
     "data": {
      "text/html": [
       "<div>\n",
       "<style scoped>\n",
       "    .dataframe tbody tr th:only-of-type {\n",
       "        vertical-align: middle;\n",
       "    }\n",
       "\n",
       "    .dataframe tbody tr th {\n",
       "        vertical-align: top;\n",
       "    }\n",
       "\n",
       "    .dataframe thead th {\n",
       "        text-align: right;\n",
       "    }\n",
       "</style>\n",
       "<table border=\"1\" class=\"dataframe\">\n",
       "  <thead>\n",
       "    <tr style=\"text-align: right;\">\n",
       "      <th></th>\n",
       "      <th>crs_dep_time</th>\n",
       "      <th>crs_arr_time</th>\n",
       "      <th>crs_elapsed_time</th>\n",
       "      <th>flights</th>\n",
       "      <th>distance</th>\n",
       "      <th>orig_weather_categ</th>\n",
       "      <th>dest_weather_categ</th>\n",
       "      <th>year</th>\n",
       "      <th>month</th>\n",
       "      <th>day</th>\n",
       "      <th>dep_time_of_day</th>\n",
       "      <th>arr_time_of_day</th>\n",
       "      <th>orig_region</th>\n",
       "      <th>dest_region</th>\n",
       "      <th>mean_arr_delay_orig_airport</th>\n",
       "      <th>mean_arr_delay_dest_airport</th>\n",
       "      <th>mean_arr_delay_carrier</th>\n",
       "    </tr>\n",
       "  </thead>\n",
       "  <tbody>\n",
       "    <tr>\n",
       "      <th>0</th>\n",
       "      <td>738</td>\n",
       "      <td>840</td>\n",
       "      <td>62.0</td>\n",
       "      <td>1.0</td>\n",
       "      <td>73.0</td>\n",
       "      <td>sunny</td>\n",
       "      <td>sunny</td>\n",
       "      <td>2019</td>\n",
       "      <td>12</td>\n",
       "      <td>25</td>\n",
       "      <td>0</td>\n",
       "      <td>0</td>\n",
       "      <td>South-West</td>\n",
       "      <td>South-West</td>\n",
       "      <td>1.562500</td>\n",
       "      <td>7.986150</td>\n",
       "      <td>8.249349</td>\n",
       "    </tr>\n",
       "    <tr>\n",
       "      <th>1</th>\n",
       "      <td>1917</td>\n",
       "      <td>2207</td>\n",
       "      <td>110.0</td>\n",
       "      <td>1.0</td>\n",
       "      <td>535.0</td>\n",
       "      <td>rain</td>\n",
       "      <td>sunny</td>\n",
       "      <td>2019</td>\n",
       "      <td>10</td>\n",
       "      <td>22</td>\n",
       "      <td>3</td>\n",
       "      <td>1</td>\n",
       "      <td>East-South Central</td>\n",
       "      <td>South-Atlantic</td>\n",
       "      <td>8.142857</td>\n",
       "      <td>6.542373</td>\n",
       "      <td>16.312883</td>\n",
       "    </tr>\n",
       "  </tbody>\n",
       "</table>\n",
       "</div>"
      ],
      "text/plain": [
       "   crs_dep_time  crs_arr_time  crs_elapsed_time  flights  distance  \\\n",
       "0           738           840              62.0      1.0      73.0   \n",
       "1          1917          2207             110.0      1.0     535.0   \n",
       "\n",
       "  orig_weather_categ dest_weather_categ  year  month  day  dep_time_of_day  \\\n",
       "0              sunny              sunny  2019     12   25                0   \n",
       "1               rain              sunny  2019     10   22                3   \n",
       "\n",
       "   arr_time_of_day         orig_region     dest_region  \\\n",
       "0                0          South-West      South-West   \n",
       "1                1  East-South Central  South-Atlantic   \n",
       "\n",
       "   mean_arr_delay_orig_airport  mean_arr_delay_dest_airport  \\\n",
       "0                     1.562500                     7.986150   \n",
       "1                     8.142857                     6.542373   \n",
       "\n",
       "   mean_arr_delay_carrier  \n",
       "0                8.249349  \n",
       "1               16.312883  "
      ]
     },
     "execution_count": 78,
     "metadata": {},
     "output_type": "execute_result"
    }
   ],
   "source": [
    "X_test_M2.head(2)"
   ]
  },
  {
   "cell_type": "markdown",
   "id": "374d6180-3745-4edb-a072-e78a0901d416",
   "metadata": {},
   "source": [
    "### Convert weather & region categories to ordinal variables"
   ]
  },
  {
   "cell_type": "code",
   "execution_count": 79,
   "id": "8e6632a6-efdd-4afd-82a9-295eb5598226",
   "metadata": {},
   "outputs": [],
   "source": [
    "# turn weather into ordinal\n",
    "feature_categorizer(X_test_M2[['orig_weather_categ', 'dest_weather_categ']],X_test_M2)"
   ]
  },
  {
   "cell_type": "code",
   "execution_count": 80,
   "id": "187927ea-9c67-435b-8351-bdeab32d5ba9",
   "metadata": {},
   "outputs": [],
   "source": [
    "feature_categorizer(X_test_M2[['orig_region', 'dest_region']], X_test_M2)"
   ]
  },
  {
   "cell_type": "code",
   "execution_count": 81,
   "id": "130dddda-21a5-4642-8b18-c42c0c77eec3",
   "metadata": {
    "tags": []
   },
   "outputs": [
    {
     "data": {
      "text/html": [
       "<div>\n",
       "<style scoped>\n",
       "    .dataframe tbody tr th:only-of-type {\n",
       "        vertical-align: middle;\n",
       "    }\n",
       "\n",
       "    .dataframe tbody tr th {\n",
       "        vertical-align: top;\n",
       "    }\n",
       "\n",
       "    .dataframe thead th {\n",
       "        text-align: right;\n",
       "    }\n",
       "</style>\n",
       "<table border=\"1\" class=\"dataframe\">\n",
       "  <thead>\n",
       "    <tr style=\"text-align: right;\">\n",
       "      <th></th>\n",
       "      <th>crs_dep_time</th>\n",
       "      <th>crs_arr_time</th>\n",
       "      <th>crs_elapsed_time</th>\n",
       "      <th>flights</th>\n",
       "      <th>distance</th>\n",
       "      <th>orig_weather_categ</th>\n",
       "      <th>dest_weather_categ</th>\n",
       "      <th>year</th>\n",
       "      <th>month</th>\n",
       "      <th>day</th>\n",
       "      <th>dep_time_of_day</th>\n",
       "      <th>arr_time_of_day</th>\n",
       "      <th>orig_region</th>\n",
       "      <th>dest_region</th>\n",
       "      <th>mean_arr_delay_orig_airport</th>\n",
       "      <th>mean_arr_delay_dest_airport</th>\n",
       "      <th>mean_arr_delay_carrier</th>\n",
       "    </tr>\n",
       "  </thead>\n",
       "  <tbody>\n",
       "    <tr>\n",
       "      <th>0</th>\n",
       "      <td>738</td>\n",
       "      <td>840</td>\n",
       "      <td>62.0</td>\n",
       "      <td>1.0</td>\n",
       "      <td>73.0</td>\n",
       "      <td>0</td>\n",
       "      <td>0</td>\n",
       "      <td>2019</td>\n",
       "      <td>12</td>\n",
       "      <td>25</td>\n",
       "      <td>0</td>\n",
       "      <td>0</td>\n",
       "      <td>0</td>\n",
       "      <td>0</td>\n",
       "      <td>1.5625</td>\n",
       "      <td>7.98615</td>\n",
       "      <td>8.249349</td>\n",
       "    </tr>\n",
       "  </tbody>\n",
       "</table>\n",
       "</div>"
      ],
      "text/plain": [
       "   crs_dep_time  crs_arr_time  crs_elapsed_time  flights  distance  \\\n",
       "0           738           840              62.0      1.0      73.0   \n",
       "\n",
       "   orig_weather_categ  dest_weather_categ  year  month  day  dep_time_of_day  \\\n",
       "0                   0                   0  2019     12   25                0   \n",
       "\n",
       "   arr_time_of_day  orig_region  dest_region  mean_arr_delay_orig_airport  \\\n",
       "0                0            0            0                       1.5625   \n",
       "\n",
       "   mean_arr_delay_dest_airport  mean_arr_delay_carrier  \n",
       "0                      7.98615                8.249349  "
      ]
     },
     "execution_count": 81,
     "metadata": {},
     "output_type": "execute_result"
    }
   ],
   "source": [
    "X_test_M2.head(1)"
   ]
  },
  {
   "cell_type": "markdown",
   "id": "a166b9d5-0555-4a0d-bc19-2abae760b4ea",
   "metadata": {},
   "source": [
    "## Export Model 2 as csv"
   ]
  },
  {
   "cell_type": "code",
   "execution_count": null,
   "id": "35bb07dd-4aea-4032-8240-e685770540fa",
   "metadata": {},
   "outputs": [],
   "source": [
    "#BRANDON RUN THESE PLZZZ"
   ]
  },
  {
   "cell_type": "code",
   "execution_count": 84,
   "id": "e7eaac50-a1fb-4947-bbde-43efea59ae60",
   "metadata": {},
   "outputs": [],
   "source": [
    "X_train_M2.to_csv('../data/X_train_M2.csv', header=True, index=False)"
   ]
  },
  {
   "cell_type": "code",
   "execution_count": 85,
   "id": "df1af13a-a3a5-458f-ad5e-03c94a370823",
   "metadata": {},
   "outputs": [],
   "source": [
    "X_test_M2.to_csv('../data/X_test_M2.csv', header=True, index=False)"
   ]
  },
  {
   "cell_type": "code",
   "execution_count": 86,
   "id": "8f77f798-56ab-4b6d-bc8f-cd02ff8c00f1",
   "metadata": {},
   "outputs": [],
   "source": [
    "y_train.to_csv('../data/y_train_M2.csv', header=True, index=False)"
   ]
  },
  {
   "cell_type": "code",
   "execution_count": 87,
   "id": "faf7f988-539e-423e-b0f3-32c57655db60",
   "metadata": {},
   "outputs": [],
   "source": [
    "y_test.to_csv('../data/y_test_M2.csv', header=True, index=False)"
   ]
  },
  {
   "cell_type": "code",
   "execution_count": 40,
   "id": "439dd863-a33a-4567-9e8f-4471cead749e",
   "metadata": {},
   "outputs": [
    {
     "data": {
      "text/plain": [
       "(8000, 17)"
      ]
     },
     "execution_count": 40,
     "metadata": {},
     "output_type": "execute_result"
    }
   ],
   "source": [
    "X_train_M2.shape"
   ]
  },
  {
   "cell_type": "code",
   "execution_count": 88,
   "id": "f6e6a0c0-92bf-4982-b8f0-139bc91de4fc",
   "metadata": {},
   "outputs": [
    {
     "data": {
      "text/plain": [
       "(2000, 17)"
      ]
     },
     "execution_count": 88,
     "metadata": {},
     "output_type": "execute_result"
    }
   ],
   "source": [
    "X_test_M2.shape"
   ]
  },
  {
   "cell_type": "code",
   "execution_count": 89,
   "id": "a32f58e5-3e92-45a3-a8cb-f8624ba440a9",
   "metadata": {},
   "outputs": [
    {
     "data": {
      "text/plain": [
       "Index(['crs_dep_time', 'crs_arr_time', 'crs_elapsed_time', 'flights',\n",
       "       'distance', 'orig_weather_categ', 'dest_weather_categ', 'year', 'month',\n",
       "       'day', 'dep_time_of_day', 'arr_time_of_day', 'orig_region',\n",
       "       'dest_region', 'mean_arr_delay_orig_airport',\n",
       "       'mean_arr_delay_dest_airport', 'mean_arr_delay_carrier'],\n",
       "      dtype='object')"
      ]
     },
     "execution_count": 89,
     "metadata": {},
     "output_type": "execute_result"
    }
   ],
   "source": [
    "X_train_M2.columns"
   ]
  },
  {
   "cell_type": "code",
   "execution_count": 90,
   "id": "0ccb5888-9e5f-4223-8045-e8f6b64c3855",
   "metadata": {},
   "outputs": [
    {
     "data": {
      "text/plain": [
       "Index(['crs_dep_time', 'crs_arr_time', 'crs_elapsed_time', 'flights',\n",
       "       'distance', 'orig_weather_categ', 'dest_weather_categ', 'year', 'month',\n",
       "       'day', 'dep_time_of_day', 'arr_time_of_day', 'orig_region',\n",
       "       'dest_region', 'mean_arr_delay_orig_airport',\n",
       "       'mean_arr_delay_dest_airport', 'mean_arr_delay_carrier'],\n",
       "      dtype='object')"
      ]
     },
     "execution_count": 90,
     "metadata": {},
     "output_type": "execute_result"
    }
   ],
   "source": [
    "X_test_M2.columns"
   ]
  },
  {
   "cell_type": "markdown",
   "id": "346a3da8-6bf4-462a-bb42-4dc48dce16c7",
   "metadata": {},
   "source": [
    "### Run Model 2"
   ]
  },
  {
   "cell_type": "code",
   "execution_count": 91,
   "id": "193a7fcb-1242-47e0-9cb3-82b9f7bea29e",
   "metadata": {},
   "outputs": [],
   "source": [
    "from src.modules.data_preprocessing import regression"
   ]
  },
  {
   "cell_type": "code",
   "execution_count": 92,
   "id": "d81c1cf2-93d2-4a76-a6ef-19bb5f3fcd9c",
   "metadata": {},
   "outputs": [],
   "source": [
    "from sklearn.ensemble import RandomForestRegressor\n",
    "from sklearn.linear_model import LinearRegression\n",
    "from sklearn.svm import SVR"
   ]
  },
  {
   "cell_type": "code",
   "execution_count": 93,
   "id": "f0acb69a-361e-4e37-938d-fec9f7974b13",
   "metadata": {},
   "outputs": [],
   "source": [
    "regressor_list = [LinearRegression, SVR, RandomForestRegressor]"
   ]
  },
  {
   "cell_type": "code",
   "execution_count": 94,
   "id": "12bb0df7-24e1-4461-afc5-b8fa0ecfea2f",
   "metadata": {
    "tags": []
   },
   "outputs": [
    {
     "name": "stdout",
     "output_type": "stream",
     "text": [
      "Regressor: <class 'sklearn.linear_model._base.LinearRegression'> \n",
      " MSE = 2423.013414368402 \n",
      " R2 = -0.03145121931070882 \n",
      " ----------------------------\n",
      "Regressor: <class 'sklearn.svm._classes.SVR'> \n",
      " MSE = 2396.197858828824 \n",
      " R2 = -0.02003612053586301 \n",
      " ----------------------------\n",
      "Regressor: <class 'sklearn.ensemble._forest.RandomForestRegressor'> \n",
      " MSE = 2603.2027809500005 \n",
      " R2 = -0.10815592955510533 \n",
      " ----------------------------\n"
     ]
    }
   ],
   "source": [
    "regression(X_train_M2, X_test_M2, y_train, y_test, regressor_list)"
   ]
  },
  {
   "cell_type": "code",
   "execution_count": null,
   "id": "bcdce98f-338a-48e4-abe8-31e45b8ca08e",
   "metadata": {},
   "outputs": [],
   "source": []
  }
 ],
 "metadata": {
  "kernelspec": {
   "display_name": "Python 3 (ipykernel)",
   "language": "python",
   "name": "python3"
  },
  "language_info": {
   "codemirror_mode": {
    "name": "ipython",
    "version": 3
   },
   "file_extension": ".py",
   "mimetype": "text/x-python",
   "name": "python",
   "nbconvert_exporter": "python",
   "pygments_lexer": "ipython3",
   "version": "3.8.13"
  }
 },
 "nbformat": 4,
 "nbformat_minor": 5
}
