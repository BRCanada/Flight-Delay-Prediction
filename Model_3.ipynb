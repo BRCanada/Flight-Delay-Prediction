{
 "cells": [
  {
   "cell_type": "markdown",
   "id": "df084947-b3d6-4f86-b913-37a49a7e4765",
   "metadata": {},
   "source": [
    "# Model 3: Random Search Cross Validation\n",
    "In this notebook, we will be using the refined data from Model 2 and our insights gained from our regression function to fine-tune our hyperparameters."
   ]
  },
  {
   "cell_type": "code",
   "execution_count": 1,
   "id": "3da7222a-4743-4cd3-9985-6cd0f38b1f2f",
   "metadata": {},
   "outputs": [],
   "source": [
    "# Import pandas/numpy\n",
    "import pandas as pd\n",
    "import numpy as np\n",
    "\n",
    "# Import our modeling.py module\n",
    "from src.modules.modeling import *\n",
    "\n",
    "# Import warnings\n",
    "import warnings\n"
   ]
  },
  {
   "cell_type": "code",
   "execution_count": 2,
   "id": "3a024c5a-a5ef-45d2-a522-64dfe0439c93",
   "metadata": {},
   "outputs": [],
   "source": [
    "# Set ignore for warnings\n",
    "warnings.filterwarnings('ignore')"
   ]
  },
  {
   "cell_type": "code",
   "execution_count": 3,
   "id": "187036e3-d78b-44a1-8cc1-20fb50bc5472",
   "metadata": {},
   "outputs": [],
   "source": [
    "# Import our saved X and y data from Model 2\n",
    "X_train_M3 = pd.read_csv('data/X_train_M2.csv')\n",
    "X_test_M3 = pd.read_csv('data/X_test_M2.csv')\n",
    "y_train_M3 = pd.read_csv('data/y_train_M2.csv')\n",
    "y_test_M3 = pd.read_csv('data/y_test_M2.csv')"
   ]
  },
  {
   "cell_type": "code",
   "execution_count": 4,
   "id": "84912e27-bb19-4591-8d2c-ba1d99ad4363",
   "metadata": {},
   "outputs": [
    {
     "data": {
      "text/plain": [
       "Index(['crs_dep_time', 'crs_arr_time', 'crs_elapsed_time', 'flights',\n",
       "       'distance', 'orig_weather_categ', 'dest_weather_categ', 'year', 'month',\n",
       "       'day', 'dep_time_of_day', 'arr_time_of_day', 'orig_region',\n",
       "       'dest_region', 'mean_arr_delay_orig_airport',\n",
       "       'mean_arr_delay_dest_airport', 'mean_arr_delay_carrier'],\n",
       "      dtype='object')"
      ]
     },
     "execution_count": 4,
     "metadata": {},
     "output_type": "execute_result"
    }
   ],
   "source": [
    "X_train_M3.columns"
   ]
  },
  {
   "cell_type": "code",
   "execution_count": 5,
   "id": "5c650662-c0ef-4001-9034-0799ac2eeb0d",
   "metadata": {},
   "outputs": [
    {
     "data": {
      "text/plain": [
       "Index(['crs_dep_time', 'crs_arr_time', 'crs_elapsed_time', 'flights',\n",
       "       'distance', 'orig_weather_categ', 'dest_weather_categ', 'year', 'month',\n",
       "       'day', 'dep_time_of_day', 'arr_time_of_day', 'orig_region',\n",
       "       'dest_region', 'mean_arr_delay_orig_airport',\n",
       "       'mean_arr_delay_dest_airport', 'mean_arr_delay_carrier'],\n",
       "      dtype='object')"
      ]
     },
     "execution_count": 5,
     "metadata": {},
     "output_type": "execute_result"
    }
   ],
   "source": [
    "X_test_M3.columns"
   ]
  },
  {
   "cell_type": "markdown",
   "id": "168b5bf7-cb19-44f6-8f50-df1660fe8786",
   "metadata": {},
   "source": [
    "Before running our Random Search, we are going to define some models and parameter ranges for the function\n"
   ]
  },
  {
   "cell_type": "markdown",
   "id": "92eeb156-9348-48bb-b6ca-5a6edfc168f1",
   "metadata": {
    "tags": []
   },
   "source": [
    "### Linear Regression"
   ]
  },
  {
   "cell_type": "code",
   "execution_count": 6,
   "id": "63e39dc8-7380-4664-ae46-d63424d05f08",
   "metadata": {},
   "outputs": [],
   "source": [
    "lr_model = LinearRegression()"
   ]
  },
  {
   "cell_type": "code",
   "execution_count": 115,
   "id": "9c959d1f-fbe7-4a2c-9239-8be2ac0b1634",
   "metadata": {},
   "outputs": [],
   "source": [
    "lr_parameters = {'fit_intercept' : [True, False],\n",
    "                 'normalize' : [True, False]\n",
    "                 }"
   ]
  },
  {
   "cell_type": "code",
   "execution_count": 119,
   "id": "f24c47ed-2d16-45ee-9970-0ea7a6751119",
   "metadata": {
    "collapsed": true,
    "jupyter": {
     "outputs_hidden": true
    },
    "tags": []
   },
   "outputs": [
    {
     "name": "stdout",
     "output_type": "stream",
     "text": [
      " Results from Random Search \n",
      "\n",
      " The best estimator across ALL searched params:\n",
      " LinearRegression(fit_intercept=False, normalize=True)\n",
      "\n",
      " The best score across ALL searched params:\n",
      " 0.057461315283664605\n",
      "\n",
      " The best parameters across ALL searched params:\n",
      " {'normalize': True, 'fit_intercept': False}\n"
     ]
    }
   ],
   "source": [
    "random_search(X_train_M3, X_test_M3, y_train_M3, y_test_M3, lr_model, lr_parameters, scale=False)"
   ]
  },
  {
   "cell_type": "markdown",
   "id": "096eaaab-f18f-4a8f-b744-454ebcda0c5c",
   "metadata": {},
   "source": [
    "#### BEST Results from Random Search\n",
    " The best estimator across ALL searched params:\n",
    " LinearRegression(fit_intercept=False, normalize=True)\n",
    "<br>\n",
    "<br>\n",
    " The best score across ALL searched params:\n",
    " 0.057461315283664605\n",
    "<br>\n",
    "<br>\n",
    " The best parameters across ALL searched params:\n",
    " {'normalize': True, 'fit_intercept': False}"
   ]
  },
  {
   "cell_type": "markdown",
   "id": "42eb5485-fcfb-48c7-a049-a9cfdb810bb4",
   "metadata": {},
   "source": [
    "### Random Forest"
   ]
  },
  {
   "cell_type": "code",
   "execution_count": 8,
   "id": "2c3a1e17-7df8-4e64-8e54-d9a3c750c835",
   "metadata": {},
   "outputs": [],
   "source": [
    "rf_model = RandomForestRegressor()"
   ]
  },
  {
   "cell_type": "code",
   "execution_count": 113,
   "id": "ecaaf443-3f13-4765-9efc-649a50c117d1",
   "metadata": {},
   "outputs": [],
   "source": [
    "rf_parameters = {'n_estimators' : np.arange(700, 800, 25),\n",
    "                 'max_depth' : np.arange(5,9),\n",
    "                 'max_features' : ['auto', 'sqrt', 'log2', '0.2'],\n",
    "                 'min_samples_leaf' : np.arange(1,5),\n",
    "                 'min_samples_split' : np.arange(2,10),\n",
    "                 'bootstrap' : [True, False]\n",
    "               }"
   ]
  },
  {
   "cell_type": "code",
   "execution_count": 114,
   "id": "939b8e94-571f-4771-8e6e-2570c8d67e47",
   "metadata": {
    "collapsed": true,
    "jupyter": {
     "outputs_hidden": true
    },
    "tags": []
   },
   "outputs": [
    {
     "name": "stdout",
     "output_type": "stream",
     "text": [
      " Results from Random Search \n",
      "\n",
      " The best estimator across ALL searched params:\n",
      " RandomForestRegressor(max_depth=6, max_features='sqrt', min_samples_leaf=4,\n",
      "                      min_samples_split=9, n_estimators=750)\n",
      "\n",
      " The best score across ALL searched params:\n",
      " 0.04408263923508082\n",
      "\n",
      " The best parameters across ALL searched params:\n",
      " {'n_estimators': 750, 'min_samples_split': 9, 'min_samples_leaf': 4, 'max_features': 'sqrt', 'max_depth': 6, 'bootstrap': True}\n"
     ]
    }
   ],
   "source": [
    "random_search(X_train_M3, X_test_M3, y_train_M3, y_test_M3, rf_model, rf_parameters)"
   ]
  },
  {
   "cell_type": "markdown",
   "id": "05b002d5-2f39-49d0-a320-e5bd13706555",
   "metadata": {},
   "source": [
    "#### BEST Results from Random Search \n",
    "\n",
    "The best estimator across ALL searched params:\n",
    " RandomForestRegressor(max_depth=6, max_features='sqrt', min_samples_leaf=4,\n",
    "                      min_samples_split=9, n_estimators=750)\n",
    "<br>\n",
    "<br>\n",
    " The best score across ALL searched params:\n",
    " 0.04408263923508082\n",
    "<br>\n",
    "<br>\n",
    " The best parameters across ALL searched params:\n",
    " {'n_estimators': 750, 'min_samples_split': 9, 'min_samples_leaf': 4, 'max_features': 'sqrt', 'max_depth': 6, 'bootstrap': True}"
   ]
  },
  {
   "cell_type": "markdown",
   "id": "855ef972-ec81-499e-ba44-e91b2fe7fcfb",
   "metadata": {},
   "source": [
    "### Epsilon-Support Vector Regression (SVR)"
   ]
  },
  {
   "cell_type": "code",
   "execution_count": 10,
   "id": "99bf47df-7533-4985-9d50-3d4e79ca59ab",
   "metadata": {},
   "outputs": [],
   "source": [
    "svr_model = SVR()"
   ]
  },
  {
   "cell_type": "code",
   "execution_count": 140,
   "id": "e308173d-084e-4bcc-85a5-922b5f387fac",
   "metadata": {},
   "outputs": [],
   "source": [
    "svr_parameters = {\n",
    "              'C' : np.arange(70, 72, 0.1),\n",
    "              'gamma' : np.arange(0.005, 0.01, 0.0005),\n",
    "              'epsilon' : np.arange(25.0,26.0,0.2)\n",
    "             }"
   ]
  },
  {
   "cell_type": "code",
   "execution_count": 141,
   "id": "d4712d3f-1a4f-471b-999d-79bf10294d01",
   "metadata": {
    "collapsed": true,
    "jupyter": {
     "outputs_hidden": true
    },
    "tags": []
   },
   "outputs": [
    {
     "name": "stdout",
     "output_type": "stream",
     "text": [
      " Results from Random Search \n",
      "\n",
      " The best estimator across ALL searched params:\n",
      " SVR(C=70.0, epsilon=25.799999999999997, gamma=0.006999999999999998)\n",
      "\n",
      " The best score across ALL searched params:\n",
      " 0.03628544134123792\n",
      "\n",
      " The best parameters across ALL searched params:\n",
      " {'gamma': 0.006999999999999998, 'epsilon': 25.799999999999997, 'C': 70.0}\n"
     ]
    }
   ],
   "source": [
    "random_search(X_train_M3, X_test_M3, y_train_M3, y_test_M3, svr_model, svr_parameters, scale=True)"
   ]
  },
  {
   "cell_type": "markdown",
   "id": "eeb816ac-986f-4a87-9a9c-d00fdd53712c",
   "metadata": {},
   "source": [
    "#### BEST Results from Random Search \n",
    "<br>\n",
    " The best estimator across ALL searched params:\n",
    " SVR(C=70.0, epsilon=25.799999999999997, gamma=0.006999999999999998)\n",
    "<br>\n",
    "<br>\n",
    " The best score across ALL searched params:\n",
    " 0.03628544134123792\n",
    "<br>\n",
    "<br>\n",
    " The best parameters across ALL searched params:\n",
    " {'gamma': 0.006999999999999998, 'epsilon': 25.799999999999997, 'C': 70.0}"
   ]
  },
  {
   "cell_type": "markdown",
   "id": "1757470f-cd8c-4605-a42b-571ecbd501cd",
   "metadata": {},
   "source": [
    "### Trying Other Regressors (SGD)"
   ]
  },
  {
   "cell_type": "code",
   "execution_count": 142,
   "id": "ba81e10d-dbb7-4671-b830-b8f747be2aef",
   "metadata": {},
   "outputs": [],
   "source": [
    "from sklearn.linear_model import SGDRegressor\n",
    "SGD_model = SGDRegressor()\n",
    "SGD_parameters = {'alpha' : np.arange(1e-10, 1e-7, 1e-9),\n",
    "                  'l1_ratio': np.arange(0.8, 1, 0.01),\n",
    "                  'max_iter': np.arange(50000,70000,50),\n",
    "                  'shuffle' : [True,False]\n",
    "}"
   ]
  },
  {
   "cell_type": "code",
   "execution_count": 143,
   "id": "c6280854-ef0f-44a1-981d-c12d55dc8832",
   "metadata": {
    "collapsed": true,
    "jupyter": {
     "outputs_hidden": true
    },
    "tags": []
   },
   "outputs": [
    {
     "name": "stdout",
     "output_type": "stream",
     "text": [
      " Results from Random Search \n",
      "\n",
      " The best estimator across ALL searched params:\n",
      " SGDRegressor(alpha=3.11e-08, l1_ratio=0.8900000000000001, max_iter=54100)\n",
      "\n",
      " The best score across ALL searched params:\n",
      " 0.06564722160166406\n",
      "\n",
      " The best parameters across ALL searched params:\n",
      " {'shuffle': True, 'max_iter': 54100, 'l1_ratio': 0.8900000000000001, 'alpha': 3.11e-08}\n"
     ]
    }
   ],
   "source": [
    "random_search(X_train_M3, X_test_M3, y_train_M3, y_test_M3, SGD_model, SGD_parameters, scale=True)"
   ]
  },
  {
   "cell_type": "markdown",
   "id": "f3cade0f-47fa-4952-8430-8f6719edfebf",
   "metadata": {},
   "source": [
    "#### BEST Results from Random Search \n",
    "<br>\n",
    " The best estimator across ALL searched params:\n",
    " SGDRegressor(alpha=3.11e-08, l1_ratio=0.8900000000000001, max_iter=54100)\n",
    "<br>\n",
    "<br>\n",
    " The best score across ALL searched params:\n",
    " 0.06564722160166406\n",
    "<br>\n",
    "<br>\n",
    " The best parameters across ALL searched params:\n",
    " {'shuffle': True, 'max_iter': 54100, 'l1_ratio': 0.8900000000000001, 'alpha': 3.11e-08}"
   ]
  },
  {
   "cell_type": "code",
   "execution_count": null,
   "id": "0b02d3f9-94d3-441b-9ef2-d5853aa63edd",
   "metadata": {},
   "outputs": [],
   "source": []
  }
 ],
 "metadata": {
  "kernelspec": {
   "display_name": "Python 3 (ipykernel)",
   "language": "python",
   "name": "python3"
  },
  "language_info": {
   "codemirror_mode": {
    "name": "ipython",
    "version": 3
   },
   "file_extension": ".py",
   "mimetype": "text/x-python",
   "name": "python",
   "nbconvert_exporter": "python",
   "pygments_lexer": "ipython3",
   "version": "3.8.13"
  }
 },
 "nbformat": 4,
 "nbformat_minor": 5
}
