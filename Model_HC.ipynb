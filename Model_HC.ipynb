{
 "cells": [
  {
   "cell_type": "markdown",
   "id": "6e7df2a7-0a37-4549-a309-d0e66f831066",
   "metadata": {},
   "source": [
    "# Models\n",
    "\n",
    "Regression Problem: The goal is to predict delay of flights."
   ]
  },
  {
   "cell_type": "code",
   "execution_count": 3,
   "id": "794b66de-1029-4a42-a47b-e5760e4c7478",
   "metadata": {},
   "outputs": [],
   "source": [
    "import pandas as pd"
   ]
  },
  {
   "cell_type": "code",
   "execution_count": 66,
   "id": "76773319-5ed1-4376-ae4e-1ce1077734b4",
   "metadata": {},
   "outputs": [
    {
     "data": {
      "text/html": [
       "<div>\n",
       "<style scoped>\n",
       "    .dataframe tbody tr th:only-of-type {\n",
       "        vertical-align: middle;\n",
       "    }\n",
       "\n",
       "    .dataframe tbody tr th {\n",
       "        vertical-align: top;\n",
       "    }\n",
       "\n",
       "    .dataframe thead th {\n",
       "        text-align: right;\n",
       "    }\n",
       "</style>\n",
       "<table border=\"1\" class=\"dataframe\">\n",
       "  <thead>\n",
       "    <tr style=\"text-align: right;\">\n",
       "      <th></th>\n",
       "      <th>fl_date</th>\n",
       "      <th>mkt_unique_carrier</th>\n",
       "      <th>branded_code_share</th>\n",
       "      <th>mkt_carrier</th>\n",
       "      <th>mkt_carrier_fl_num</th>\n",
       "      <th>op_unique_carrier</th>\n",
       "      <th>tail_num</th>\n",
       "      <th>op_carrier_fl_num</th>\n",
       "      <th>origin_airport_id</th>\n",
       "      <th>origin</th>\n",
       "      <th>...</th>\n",
       "      <th>distance</th>\n",
       "      <th>carrier_delay</th>\n",
       "      <th>weather_delay</th>\n",
       "      <th>nas_delay</th>\n",
       "      <th>security_delay</th>\n",
       "      <th>late_aircraft_delay</th>\n",
       "      <th>first_dep_time</th>\n",
       "      <th>total_add_gtime</th>\n",
       "      <th>longest_add_gtime</th>\n",
       "      <th>no_name</th>\n",
       "    </tr>\n",
       "  </thead>\n",
       "  <tbody>\n",
       "    <tr>\n",
       "      <th>0</th>\n",
       "      <td>2018-07-10</td>\n",
       "      <td>WN</td>\n",
       "      <td>WN</td>\n",
       "      <td>WN</td>\n",
       "      <td>2212</td>\n",
       "      <td>WN</td>\n",
       "      <td>N958WN</td>\n",
       "      <td>2212</td>\n",
       "      <td>14683</td>\n",
       "      <td>SAT</td>\n",
       "      <td>...</td>\n",
       "      <td>822.0</td>\n",
       "      <td>NaN</td>\n",
       "      <td>NaN</td>\n",
       "      <td>NaN</td>\n",
       "      <td>NaN</td>\n",
       "      <td>NaN</td>\n",
       "      <td>NaN</td>\n",
       "      <td>NaN</td>\n",
       "      <td>NaN</td>\n",
       "      <td>NaN</td>\n",
       "    </tr>\n",
       "    <tr>\n",
       "      <th>1</th>\n",
       "      <td>2019-10-10</td>\n",
       "      <td>UA</td>\n",
       "      <td>UA</td>\n",
       "      <td>UA</td>\n",
       "      <td>206</td>\n",
       "      <td>UA</td>\n",
       "      <td>N68811</td>\n",
       "      <td>206</td>\n",
       "      <td>13930</td>\n",
       "      <td>ORD</td>\n",
       "      <td>...</td>\n",
       "      <td>1005.0</td>\n",
       "      <td>NaN</td>\n",
       "      <td>NaN</td>\n",
       "      <td>NaN</td>\n",
       "      <td>NaN</td>\n",
       "      <td>NaN</td>\n",
       "      <td>NaN</td>\n",
       "      <td>NaN</td>\n",
       "      <td>NaN</td>\n",
       "      <td>NaN</td>\n",
       "    </tr>\n",
       "    <tr>\n",
       "      <th>2</th>\n",
       "      <td>2019-07-18</td>\n",
       "      <td>AA</td>\n",
       "      <td>AA_CODESHARE</td>\n",
       "      <td>AA</td>\n",
       "      <td>4221</td>\n",
       "      <td>MQ</td>\n",
       "      <td>N694AE</td>\n",
       "      <td>4221</td>\n",
       "      <td>12891</td>\n",
       "      <td>LAW</td>\n",
       "      <td>...</td>\n",
       "      <td>140.0</td>\n",
       "      <td>NaN</td>\n",
       "      <td>NaN</td>\n",
       "      <td>NaN</td>\n",
       "      <td>NaN</td>\n",
       "      <td>NaN</td>\n",
       "      <td>NaN</td>\n",
       "      <td>NaN</td>\n",
       "      <td>NaN</td>\n",
       "      <td>NaN</td>\n",
       "    </tr>\n",
       "    <tr>\n",
       "      <th>3</th>\n",
       "      <td>2018-11-25</td>\n",
       "      <td>UA</td>\n",
       "      <td>UA_CODESHARE</td>\n",
       "      <td>UA</td>\n",
       "      <td>4822</td>\n",
       "      <td>ZW</td>\n",
       "      <td>NaN</td>\n",
       "      <td>4822</td>\n",
       "      <td>14685</td>\n",
       "      <td>SAV</td>\n",
       "      <td>...</td>\n",
       "      <td>773.0</td>\n",
       "      <td>NaN</td>\n",
       "      <td>NaN</td>\n",
       "      <td>NaN</td>\n",
       "      <td>NaN</td>\n",
       "      <td>NaN</td>\n",
       "      <td>NaN</td>\n",
       "      <td>NaN</td>\n",
       "      <td>NaN</td>\n",
       "      <td>NaN</td>\n",
       "    </tr>\n",
       "    <tr>\n",
       "      <th>4</th>\n",
       "      <td>2018-10-24</td>\n",
       "      <td>DL</td>\n",
       "      <td>DL</td>\n",
       "      <td>DL</td>\n",
       "      <td>957</td>\n",
       "      <td>DL</td>\n",
       "      <td>N693DL</td>\n",
       "      <td>957</td>\n",
       "      <td>11433</td>\n",
       "      <td>DTW</td>\n",
       "      <td>...</td>\n",
       "      <td>1960.0</td>\n",
       "      <td>0.0</td>\n",
       "      <td>0.0</td>\n",
       "      <td>28.0</td>\n",
       "      <td>0.0</td>\n",
       "      <td>0.0</td>\n",
       "      <td>NaN</td>\n",
       "      <td>NaN</td>\n",
       "      <td>NaN</td>\n",
       "      <td>NaN</td>\n",
       "    </tr>\n",
       "  </tbody>\n",
       "</table>\n",
       "<p>5 rows × 42 columns</p>\n",
       "</div>"
      ],
      "text/plain": [
       "      fl_date mkt_unique_carrier branded_code_share mkt_carrier  \\\n",
       "0  2018-07-10                 WN                 WN          WN   \n",
       "1  2019-10-10                 UA                 UA          UA   \n",
       "2  2019-07-18                 AA       AA_CODESHARE          AA   \n",
       "3  2018-11-25                 UA       UA_CODESHARE          UA   \n",
       "4  2018-10-24                 DL                 DL          DL   \n",
       "\n",
       "   mkt_carrier_fl_num op_unique_carrier tail_num  op_carrier_fl_num  \\\n",
       "0                2212                WN   N958WN               2212   \n",
       "1                 206                UA   N68811                206   \n",
       "2                4221                MQ   N694AE               4221   \n",
       "3                4822                ZW      NaN               4822   \n",
       "4                 957                DL   N693DL                957   \n",
       "\n",
       "   origin_airport_id origin  ... distance  carrier_delay weather_delay  \\\n",
       "0              14683    SAT  ...    822.0            NaN           NaN   \n",
       "1              13930    ORD  ...   1005.0            NaN           NaN   \n",
       "2              12891    LAW  ...    140.0            NaN           NaN   \n",
       "3              14685    SAV  ...    773.0            NaN           NaN   \n",
       "4              11433    DTW  ...   1960.0            0.0           0.0   \n",
       "\n",
       "  nas_delay  security_delay  late_aircraft_delay  first_dep_time  \\\n",
       "0       NaN             NaN                  NaN             NaN   \n",
       "1       NaN             NaN                  NaN             NaN   \n",
       "2       NaN             NaN                  NaN             NaN   \n",
       "3       NaN             NaN                  NaN             NaN   \n",
       "4      28.0             0.0                  0.0             NaN   \n",
       "\n",
       "   total_add_gtime  longest_add_gtime  no_name  \n",
       "0              NaN                NaN      NaN  \n",
       "1              NaN                NaN      NaN  \n",
       "2              NaN                NaN      NaN  \n",
       "3              NaN                NaN      NaN  \n",
       "4              NaN                NaN      NaN  \n",
       "\n",
       "[5 rows x 42 columns]"
      ]
     },
     "execution_count": 66,
     "metadata": {},
     "output_type": "execute_result"
    }
   ],
   "source": [
    "flights = pd.read_csv('data/flights_10000.csv', index_col=0)\n",
    "flights.head()"
   ]
  },
  {
   "cell_type": "code",
   "execution_count": 67,
   "id": "5c37cadb-be5a-4da4-9e27-1208b49822b6",
   "metadata": {},
   "outputs": [
    {
     "data": {
      "text/plain": [
       "Index(['fl_date', 'mkt_unique_carrier', 'branded_code_share', 'mkt_carrier',\n",
       "       'mkt_carrier_fl_num', 'op_unique_carrier', 'tail_num',\n",
       "       'op_carrier_fl_num', 'origin_airport_id', 'origin', 'origin_city_name',\n",
       "       'dest_airport_id', 'dest', 'dest_city_name', 'crs_dep_time', 'dep_time',\n",
       "       'dep_delay', 'taxi_out', 'wheels_off', 'wheels_on', 'taxi_in',\n",
       "       'crs_arr_time', 'arr_time', 'arr_delay', 'cancelled',\n",
       "       'cancellation_code', 'diverted', 'dup', 'crs_elapsed_time',\n",
       "       'actual_elapsed_time', 'air_time', 'flights', 'distance',\n",
       "       'carrier_delay', 'weather_delay', 'nas_delay', 'security_delay',\n",
       "       'late_aircraft_delay', 'first_dep_time', 'total_add_gtime',\n",
       "       'longest_add_gtime', 'no_name'],\n",
       "      dtype='object')"
      ]
     },
     "execution_count": 67,
     "metadata": {},
     "output_type": "execute_result"
    }
   ],
   "source": [
    "flights.columns"
   ]
  },
  {
   "cell_type": "code",
   "execution_count": 68,
   "id": "f1e116c0-19d1-4886-b48f-bc84d95126c8",
   "metadata": {},
   "outputs": [],
   "source": [
    "#convert date to datetime\n",
    "import datetime as dt"
   ]
  },
  {
   "cell_type": "code",
   "execution_count": 69,
   "id": "ba42dd04-160d-41f8-a922-29d14cf9743b",
   "metadata": {},
   "outputs": [],
   "source": [
    "flights['fl_date'] = pd.to_datetime(flights['fl_date'])"
   ]
  },
  {
   "cell_type": "code",
   "execution_count": 70,
   "id": "624431c6-4571-4972-afc9-0889b25356ed",
   "metadata": {
    "tags": []
   },
   "outputs": [
    {
     "data": {
      "text/plain": [
       "fl_date                datetime64[ns]\n",
       "mkt_unique_carrier             object\n",
       "branded_code_share             object\n",
       "mkt_carrier                    object\n",
       "mkt_carrier_fl_num              int64\n",
       "op_unique_carrier              object\n",
       "tail_num                       object\n",
       "op_carrier_fl_num               int64\n",
       "origin_airport_id               int64\n",
       "origin                         object\n",
       "origin_city_name               object\n",
       "dest_airport_id                 int64\n",
       "dest                           object\n",
       "dest_city_name                 object\n",
       "crs_dep_time                    int64\n",
       "dep_time                      float64\n",
       "dep_delay                     float64\n",
       "taxi_out                      float64\n",
       "wheels_off                    float64\n",
       "wheels_on                     float64\n",
       "taxi_in                       float64\n",
       "crs_arr_time                    int64\n",
       "arr_time                      float64\n",
       "arr_delay                     float64\n",
       "cancelled                     float64\n",
       "cancellation_code              object\n",
       "diverted                      float64\n",
       "dup                            object\n",
       "crs_elapsed_time              float64\n",
       "actual_elapsed_time           float64\n",
       "air_time                      float64\n",
       "flights                       float64\n",
       "distance                      float64\n",
       "carrier_delay                 float64\n",
       "weather_delay                 float64\n",
       "nas_delay                     float64\n",
       "security_delay                float64\n",
       "late_aircraft_delay           float64\n",
       "first_dep_time                float64\n",
       "total_add_gtime               float64\n",
       "longest_add_gtime             float64\n",
       "no_name                       float64\n",
       "dtype: object"
      ]
     },
     "execution_count": 70,
     "metadata": {},
     "output_type": "execute_result"
    }
   ],
   "source": [
    "flights.dtypes"
   ]
  },
  {
   "cell_type": "code",
   "execution_count": 71,
   "id": "5bbfd335-eb02-4113-8014-3f83597dd16e",
   "metadata": {},
   "outputs": [],
   "source": [
    "flights_M0 = flights.select_dtypes(exclude=['object'])"
   ]
  },
  {
   "cell_type": "code",
   "execution_count": 74,
   "id": "9f28f802-fbdf-4d61-a393-0db55cefcb71",
   "metadata": {},
   "outputs": [],
   "source": [
    "#remove categorical int cols\n",
    "flights_M0.drop(['mkt_carrier_fl_num', 'op_carrier_fl_num', 'origin_airport_id', 'dest_airport_id', 'dep_time', 'dep_delay', 'taxi_out', \n",
    "    'wheels_off', 'wheels_on', 'taxi_in', 'arr_time', 'cancelled',\n",
    "    'diverted', 'actual_elapsed_time', 'air_time',\n",
    "    'first_dep_time', 'total_add_gtime',\n",
    "    'longest_add_gtime', 'no_name'], axis = 1, inplace = True)"
   ]
  },
  {
   "cell_type": "code",
   "execution_count": 75,
   "id": "b4f3045f-5afa-4451-8c70-d114f6f0339a",
   "metadata": {},
   "outputs": [
    {
     "data": {
      "text/html": [
       "<div>\n",
       "<style scoped>\n",
       "    .dataframe tbody tr th:only-of-type {\n",
       "        vertical-align: middle;\n",
       "    }\n",
       "\n",
       "    .dataframe tbody tr th {\n",
       "        vertical-align: top;\n",
       "    }\n",
       "\n",
       "    .dataframe thead th {\n",
       "        text-align: right;\n",
       "    }\n",
       "</style>\n",
       "<table border=\"1\" class=\"dataframe\">\n",
       "  <thead>\n",
       "    <tr style=\"text-align: right;\">\n",
       "      <th></th>\n",
       "      <th>fl_date</th>\n",
       "      <th>crs_dep_time</th>\n",
       "      <th>crs_arr_time</th>\n",
       "      <th>arr_delay</th>\n",
       "      <th>crs_elapsed_time</th>\n",
       "      <th>flights</th>\n",
       "      <th>distance</th>\n",
       "      <th>carrier_delay</th>\n",
       "      <th>weather_delay</th>\n",
       "      <th>nas_delay</th>\n",
       "      <th>security_delay</th>\n",
       "      <th>late_aircraft_delay</th>\n",
       "    </tr>\n",
       "  </thead>\n",
       "  <tbody>\n",
       "    <tr>\n",
       "      <th>0</th>\n",
       "      <td>2018-07-10</td>\n",
       "      <td>705</td>\n",
       "      <td>915</td>\n",
       "      <td>-2.0</td>\n",
       "      <td>130.0</td>\n",
       "      <td>1.0</td>\n",
       "      <td>822.0</td>\n",
       "      <td>NaN</td>\n",
       "      <td>NaN</td>\n",
       "      <td>NaN</td>\n",
       "      <td>NaN</td>\n",
       "      <td>NaN</td>\n",
       "    </tr>\n",
       "    <tr>\n",
       "      <th>1</th>\n",
       "      <td>2019-10-10</td>\n",
       "      <td>800</td>\n",
       "      <td>1148</td>\n",
       "      <td>-9.0</td>\n",
       "      <td>168.0</td>\n",
       "      <td>1.0</td>\n",
       "      <td>1005.0</td>\n",
       "      <td>NaN</td>\n",
       "      <td>NaN</td>\n",
       "      <td>NaN</td>\n",
       "      <td>NaN</td>\n",
       "      <td>NaN</td>\n",
       "    </tr>\n",
       "    <tr>\n",
       "      <th>2</th>\n",
       "      <td>2019-07-18</td>\n",
       "      <td>1034</td>\n",
       "      <td>1130</td>\n",
       "      <td>8.0</td>\n",
       "      <td>56.0</td>\n",
       "      <td>1.0</td>\n",
       "      <td>140.0</td>\n",
       "      <td>NaN</td>\n",
       "      <td>NaN</td>\n",
       "      <td>NaN</td>\n",
       "      <td>NaN</td>\n",
       "      <td>NaN</td>\n",
       "    </tr>\n",
       "    <tr>\n",
       "      <th>3</th>\n",
       "      <td>2018-11-25</td>\n",
       "      <td>2200</td>\n",
       "      <td>2327</td>\n",
       "      <td>NaN</td>\n",
       "      <td>147.0</td>\n",
       "      <td>1.0</td>\n",
       "      <td>773.0</td>\n",
       "      <td>NaN</td>\n",
       "      <td>NaN</td>\n",
       "      <td>NaN</td>\n",
       "      <td>NaN</td>\n",
       "      <td>NaN</td>\n",
       "    </tr>\n",
       "    <tr>\n",
       "      <th>4</th>\n",
       "      <td>2018-10-24</td>\n",
       "      <td>841</td>\n",
       "      <td>1039</td>\n",
       "      <td>28.0</td>\n",
       "      <td>298.0</td>\n",
       "      <td>1.0</td>\n",
       "      <td>1960.0</td>\n",
       "      <td>0.0</td>\n",
       "      <td>0.0</td>\n",
       "      <td>28.0</td>\n",
       "      <td>0.0</td>\n",
       "      <td>0.0</td>\n",
       "    </tr>\n",
       "  </tbody>\n",
       "</table>\n",
       "</div>"
      ],
      "text/plain": [
       "     fl_date  crs_dep_time  crs_arr_time  arr_delay  crs_elapsed_time  \\\n",
       "0 2018-07-10           705           915       -2.0             130.0   \n",
       "1 2019-10-10           800          1148       -9.0             168.0   \n",
       "2 2019-07-18          1034          1130        8.0              56.0   \n",
       "3 2018-11-25          2200          2327        NaN             147.0   \n",
       "4 2018-10-24           841          1039       28.0             298.0   \n",
       "\n",
       "   flights  distance  carrier_delay  weather_delay  nas_delay  security_delay  \\\n",
       "0      1.0     822.0            NaN            NaN        NaN             NaN   \n",
       "1      1.0    1005.0            NaN            NaN        NaN             NaN   \n",
       "2      1.0     140.0            NaN            NaN        NaN             NaN   \n",
       "3      1.0     773.0            NaN            NaN        NaN             NaN   \n",
       "4      1.0    1960.0            0.0            0.0       28.0             0.0   \n",
       "\n",
       "   late_aircraft_delay  \n",
       "0                  NaN  \n",
       "1                  NaN  \n",
       "2                  NaN  \n",
       "3                  NaN  \n",
       "4                  0.0  "
      ]
     },
     "execution_count": 75,
     "metadata": {},
     "output_type": "execute_result"
    }
   ],
   "source": [
    "flights_M0.head()"
   ]
  },
  {
   "cell_type": "code",
   "execution_count": 76,
   "id": "6bb298e6-4bdc-44db-a87c-aedb7ec9c87f",
   "metadata": {},
   "outputs": [],
   "source": [
    "flights_M0.fillna(0, inplace = True)"
   ]
  },
  {
   "cell_type": "code",
   "execution_count": 77,
   "id": "b988b1ed-1d93-469f-a041-1f525d8e1cdc",
   "metadata": {},
   "outputs": [],
   "source": [
    "#split date into three cols\n",
    "import datetime as dt\n",
    "flights_M0['year'] = flights_M0['fl_date'].dt.year"
   ]
  },
  {
   "cell_type": "code",
   "execution_count": 78,
   "id": "7a4f50c9-f247-4d79-adfc-e77c4bc28118",
   "metadata": {},
   "outputs": [],
   "source": [
    "flights_M0['month'] = flights_M0['fl_date'].dt.month\n",
    "flights_M0['day'] = flights_M0['fl_date'].dt.day"
   ]
  },
  {
   "cell_type": "code",
   "execution_count": 79,
   "id": "38ebcd2d-7a8f-42bd-b6e1-e95c6231a24c",
   "metadata": {},
   "outputs": [],
   "source": [
    "flights_M0.drop(['fl_date'],axis = 1, inplace = True)"
   ]
  },
  {
   "cell_type": "code",
   "execution_count": 81,
   "id": "6add1d08-ecef-4d63-9854-555cc6623859",
   "metadata": {},
   "outputs": [
    {
     "data": {
      "text/html": [
       "<div>\n",
       "<style scoped>\n",
       "    .dataframe tbody tr th:only-of-type {\n",
       "        vertical-align: middle;\n",
       "    }\n",
       "\n",
       "    .dataframe tbody tr th {\n",
       "        vertical-align: top;\n",
       "    }\n",
       "\n",
       "    .dataframe thead th {\n",
       "        text-align: right;\n",
       "    }\n",
       "</style>\n",
       "<table border=\"1\" class=\"dataframe\">\n",
       "  <thead>\n",
       "    <tr style=\"text-align: right;\">\n",
       "      <th></th>\n",
       "      <th>crs_dep_time</th>\n",
       "      <th>crs_arr_time</th>\n",
       "      <th>arr_delay</th>\n",
       "      <th>crs_elapsed_time</th>\n",
       "      <th>flights</th>\n",
       "      <th>distance</th>\n",
       "      <th>carrier_delay</th>\n",
       "      <th>weather_delay</th>\n",
       "      <th>nas_delay</th>\n",
       "      <th>security_delay</th>\n",
       "      <th>late_aircraft_delay</th>\n",
       "      <th>year</th>\n",
       "      <th>month</th>\n",
       "      <th>day</th>\n",
       "    </tr>\n",
       "  </thead>\n",
       "  <tbody>\n",
       "    <tr>\n",
       "      <th>0</th>\n",
       "      <td>705</td>\n",
       "      <td>915</td>\n",
       "      <td>-2.0</td>\n",
       "      <td>130.0</td>\n",
       "      <td>1.0</td>\n",
       "      <td>822.0</td>\n",
       "      <td>0.0</td>\n",
       "      <td>0.0</td>\n",
       "      <td>0.0</td>\n",
       "      <td>0.0</td>\n",
       "      <td>0.0</td>\n",
       "      <td>2018</td>\n",
       "      <td>7</td>\n",
       "      <td>10</td>\n",
       "    </tr>\n",
       "    <tr>\n",
       "      <th>1</th>\n",
       "      <td>800</td>\n",
       "      <td>1148</td>\n",
       "      <td>-9.0</td>\n",
       "      <td>168.0</td>\n",
       "      <td>1.0</td>\n",
       "      <td>1005.0</td>\n",
       "      <td>0.0</td>\n",
       "      <td>0.0</td>\n",
       "      <td>0.0</td>\n",
       "      <td>0.0</td>\n",
       "      <td>0.0</td>\n",
       "      <td>2019</td>\n",
       "      <td>10</td>\n",
       "      <td>10</td>\n",
       "    </tr>\n",
       "    <tr>\n",
       "      <th>2</th>\n",
       "      <td>1034</td>\n",
       "      <td>1130</td>\n",
       "      <td>8.0</td>\n",
       "      <td>56.0</td>\n",
       "      <td>1.0</td>\n",
       "      <td>140.0</td>\n",
       "      <td>0.0</td>\n",
       "      <td>0.0</td>\n",
       "      <td>0.0</td>\n",
       "      <td>0.0</td>\n",
       "      <td>0.0</td>\n",
       "      <td>2019</td>\n",
       "      <td>7</td>\n",
       "      <td>18</td>\n",
       "    </tr>\n",
       "    <tr>\n",
       "      <th>3</th>\n",
       "      <td>2200</td>\n",
       "      <td>2327</td>\n",
       "      <td>0.0</td>\n",
       "      <td>147.0</td>\n",
       "      <td>1.0</td>\n",
       "      <td>773.0</td>\n",
       "      <td>0.0</td>\n",
       "      <td>0.0</td>\n",
       "      <td>0.0</td>\n",
       "      <td>0.0</td>\n",
       "      <td>0.0</td>\n",
       "      <td>2018</td>\n",
       "      <td>11</td>\n",
       "      <td>25</td>\n",
       "    </tr>\n",
       "    <tr>\n",
       "      <th>4</th>\n",
       "      <td>841</td>\n",
       "      <td>1039</td>\n",
       "      <td>28.0</td>\n",
       "      <td>298.0</td>\n",
       "      <td>1.0</td>\n",
       "      <td>1960.0</td>\n",
       "      <td>0.0</td>\n",
       "      <td>0.0</td>\n",
       "      <td>28.0</td>\n",
       "      <td>0.0</td>\n",
       "      <td>0.0</td>\n",
       "      <td>2018</td>\n",
       "      <td>10</td>\n",
       "      <td>24</td>\n",
       "    </tr>\n",
       "  </tbody>\n",
       "</table>\n",
       "</div>"
      ],
      "text/plain": [
       "   crs_dep_time  crs_arr_time  arr_delay  crs_elapsed_time  flights  distance  \\\n",
       "0           705           915       -2.0             130.0      1.0     822.0   \n",
       "1           800          1148       -9.0             168.0      1.0    1005.0   \n",
       "2          1034          1130        8.0              56.0      1.0     140.0   \n",
       "3          2200          2327        0.0             147.0      1.0     773.0   \n",
       "4           841          1039       28.0             298.0      1.0    1960.0   \n",
       "\n",
       "   carrier_delay  weather_delay  nas_delay  security_delay  \\\n",
       "0            0.0            0.0        0.0             0.0   \n",
       "1            0.0            0.0        0.0             0.0   \n",
       "2            0.0            0.0        0.0             0.0   \n",
       "3            0.0            0.0        0.0             0.0   \n",
       "4            0.0            0.0       28.0             0.0   \n",
       "\n",
       "   late_aircraft_delay  year  month  day  \n",
       "0                  0.0  2018      7   10  \n",
       "1                  0.0  2019     10   10  \n",
       "2                  0.0  2019      7   18  \n",
       "3                  0.0  2018     11   25  \n",
       "4                  0.0  2018     10   24  "
      ]
     },
     "execution_count": 81,
     "metadata": {},
     "output_type": "execute_result"
    }
   ],
   "source": [
    "flights_M0.head()"
   ]
  },
  {
   "cell_type": "code",
   "execution_count": 52,
   "id": "5dd3ba6a-7a71-459c-88df-f5d1badc8c32",
   "metadata": {},
   "outputs": [
    {
     "data": {
      "text/plain": [
       "<AxesSubplot:>"
      ]
     },
     "execution_count": 52,
     "metadata": {},
     "output_type": "execute_result"
    },
    {
     "data": {
      "image/png": "[encoded data removed]",
      "text/plain": [
       "<Figure size 432x288 with 2 Axes>"
      ]
     },
     "metadata": {
      "needs_background": "light"
     },
     "output_type": "display_data"
    }
   ],
   "source": [
    "import seaborn as sns\n",
    "sns.heatmap(flights.corr())"
   ]
  },
  {
   "cell_type": "code",
   "execution_count": 82,
   "id": "7c14e672-c01d-4a73-bcf4-c912f97fff54",
   "metadata": {},
   "outputs": [
    {
     "data": {
      "text/plain": [
       "<AxesSubplot:>"
      ]
     },
     "execution_count": 82,
     "metadata": {},
     "output_type": "execute_result"
    },
    {
     "data": {
      "image/png": "[encoded data removed]",
      "text/plain": [
       "<Figure size 432x288 with 2 Axes>"
      ]
     },
     "metadata": {
      "needs_background": "light"
     },
     "output_type": "display_data"
    }
   ],
   "source": [
    "sns.heatmap(flights_M0.corr())"
   ]
  },
  {
   "cell_type": "markdown",
   "id": "cd836a63-b2a7-4366-8e4e-b6dba0e38bff",
   "metadata": {},
   "source": [
    "## Main Task: Regression Problem\n",
    "The target variable is ARR_DELAY. We need to be careful which columns to use and which don't. For example, DEP_DELAY is going to be the perfect predictor, but we can't use it because in real-life scenario, we want to predict the delay before the flight takes of --> We can use average delay from earlier days but not the one from the actual flight we predict.\n",
    "\n",
    "For example, variables CARRIER_DELAY, WEATHER_DELAY, NAS_DELAY, SECURITY_DELAY, LATE_AIRCRAFT_DELAY shouldn't be used directly as predictors as well. However, we can create various transformations from earlier values.\n",
    "\n",
    "We will be evaluating your models by predicting the ARR_DELAY for all flights 1 week in advance."
   ]
  },
  {
   "cell_type": "code",
   "execution_count": 17,
   "id": "34d5dda7-ec6a-4e47-8785-8cd6d80a7a0d",
   "metadata": {},
   "outputs": [],
   "source": [
    "from sklearn.preprocessing import StandardScaler\n",
    "from sklearn.model_selection import train_test_split\n",
    "from sklearn.ensemble import RandomForestRegressor\n",
    "from sklearn.metrics import accuracy_score\n",
    "from sklearn.metrics import mean_squared_error\n",
    "from sklearn.metrics import r2_score"
   ]
  },
  {
   "cell_type": "code",
   "execution_count": 18,
   "id": "cb69f1dd-8d09-466c-8909-cff62f221e05",
   "metadata": {},
   "outputs": [],
   "source": [
    "import warnings\n",
    "warnings.filterwarnings('ignore')"
   ]
  },
  {
   "cell_type": "markdown",
   "id": "97e5f092-c114-4a9c-a1bd-7c1ca448c1b1",
   "metadata": {},
   "source": [
    "## Model 0\n",
    "Random Forest, SVR, Linear Regression"
   ]
  },
  {
   "cell_type": "code",
   "execution_count": 83,
   "id": "472c6109-bac2-4775-b4f5-356acb81270d",
   "metadata": {},
   "outputs": [
    {
     "data": {
      "text/plain": [
       "Index(['crs_dep_time', 'crs_arr_time', 'arr_delay', 'crs_elapsed_time',\n",
       "       'flights', 'distance', 'carrier_delay', 'weather_delay', 'nas_delay',\n",
       "       'security_delay', 'late_aircraft_delay', 'year', 'month', 'day'],\n",
       "      dtype='object')"
      ]
     },
     "execution_count": 83,
     "metadata": {},
     "output_type": "execute_result"
    }
   ],
   "source": [
    "flights_M0.columns"
   ]
  },
  {
   "cell_type": "code",
   "execution_count": 85,
   "id": "d05b3f49-ebbc-431f-9c31-6e4cf4484cf3",
   "metadata": {},
   "outputs": [],
   "source": [
    "#Declare feature vector and target variable\n",
    "X = flights_M0.drop(['arr_delay','carrier_delay', 'weather_delay', 'nas_delay', 'security_delay',\n",
    "       'late_aircraft_delay'], axis = 1)\n",
    "y = flights_M0['arr_delay']"
   ]
  },
  {
   "cell_type": "code",
   "execution_count": 86,
   "id": "c2340353-bc53-4e29-a648-08df25f0e188",
   "metadata": {},
   "outputs": [
    {
     "data": {
      "text/plain": [
       "Index(['crs_dep_time', 'crs_arr_time', 'crs_elapsed_time', 'flights',\n",
       "       'distance', 'year', 'month', 'day'],\n",
       "      dtype='object')"
      ]
     },
     "execution_count": 86,
     "metadata": {},
     "output_type": "execute_result"
    }
   ],
   "source": [
    "X.columns"
   ]
  },
  {
   "cell_type": "code",
   "execution_count": 33,
   "id": "55c3ae8a-dc29-485c-ab42-d29c8a647d2e",
   "metadata": {
    "collapsed": true,
    "jupyter": {
     "outputs_hidden": true
    },
    "tags": []
   },
   "outputs": [
    {
     "ename": "SyntaxError",
     "evalue": "invalid syntax (3168682620.py, line 3)",
     "output_type": "error",
     "traceback": [
      "\u001b[1;36m  Input \u001b[1;32mIn [33]\u001b[1;36m\u001b[0m\n\u001b[1;33m    stacked = ??\u001b[0m\n\u001b[1;37m              ^\u001b[0m\n\u001b[1;31mSyntaxError\u001b[0m\u001b[1;31m:\u001b[0m invalid syntax\n"
     ]
    }
   ],
   "source": [
    "#maybe add stacked of these three?\n",
    "\n",
    "# from sklearn.ensemble import StackingRegressor\n",
    "# stacked = ??\n",
    "# stacked.fit(X_train, y_train)    \n",
    "# stacked_prediction = stacked.predict(X_test)"
   ]
  },
  {
   "cell_type": "code",
   "execution_count": 87,
   "id": "29d1ea0d-b3d0-499b-b8b6-ceb70b21ea40",
   "metadata": {},
   "outputs": [],
   "source": [
    "def regression(X, y, regressor_list):\n",
    "    \"\"\"\n",
    "    produce regression and result for a list of regressors\n",
    "    X = data\n",
    "    y = target series\n",
    "    regressor_list = list by regressor module    \n",
    "    \"\"\"\n",
    "    #split\n",
    "    X_train, X_test, y_train, y_test = train_test_split(X, y, test_size=0.20, random_state=42)\n",
    "    \n",
    "    #scale\n",
    "    scalar = StandardScaler()\n",
    "    X_scaled = scalar.fit_transform(X_train)       #fit has a memory, don't use on test\n",
    "    X_scaled_test = scalar.transform(X_test)           #scalar is an instance that has the memory\n",
    "    \n",
    "    #model\n",
    "    for reg in regressor_list:\n",
    "        model = reg()                                        # instantiate the regressor\n",
    "        model.fit(X_scaled, y_train)                            # fit the model\n",
    "        y_pred = model.predict(X_scaled_test)                   # Predict the Test set results\n",
    "        MSE = mean_squared_error(y_test, y_pred)\n",
    "        R2 = r2_score(y_test, y_pred)\n",
    "        print(f'Regressor: {reg} \\n MSE = {MSE} \\n R2 = {R2} \\n ----------------------------')"
   ]
  },
  {
   "cell_type": "code",
   "execution_count": 88,
   "id": "36ded853-2092-495c-83c0-536944dea00c",
   "metadata": {},
   "outputs": [],
   "source": [
    "regressor_list = [LinearRegression, SVR, RandomForestRegressor]"
   ]
  },
  {
   "cell_type": "code",
   "execution_count": 89,
   "id": "906f0210-667b-458e-bf55-8f0b4158ef2c",
   "metadata": {},
   "outputs": [
    {
     "name": "stdout",
     "output_type": "stream",
     "text": [
      "Regressor: <class 'sklearn.linear_model._base.LinearRegression'> \n",
      " MSE = 2316.8916080171725 \n",
      " R2 = 0.013723712824350365 \n",
      " ----------------------------\n",
      "Regressor: <class 'sklearn.svm._classes.SVR'> \n",
      " MSE = 2427.318875708148 \n",
      " R2 = -0.033284008729967285 \n",
      " ----------------------------\n",
      "Regressor: <class 'sklearn.ensemble._forest.RandomForestRegressor'> \n",
      " MSE = 2586.02937495 \n",
      " R2 = -0.10084539200158726 \n",
      " ----------------------------\n"
     ]
    }
   ],
   "source": [
    "regression(X, y, regressor_list)"
   ]
  },
  {
   "cell_type": "markdown",
   "id": "024998b7-d2e5-4eac-9159-1b7f5c611267",
   "metadata": {},
   "source": [
    "## Model 1\n",
    "Incoporate these additional features: weather, date into datetime modules, categorical variables to numeric variables"
   ]
  },
  {
   "cell_type": "code",
   "execution_count": null,
   "id": "043ded1e-6d89-420b-a935-21c14d6ee8af",
   "metadata": {},
   "outputs": [],
   "source": [
    "#split into test train, then use k-fold cross-validation on train set, test"
   ]
  },
  {
   "cell_type": "code",
   "execution_count": null,
   "id": "2df8e8db-5131-419e-abaa-d31d9d2f3cf1",
   "metadata": {},
   "outputs": [],
   "source": []
  },
  {
   "cell_type": "raw",
   "id": "5d418573-870e-4616-b369-1c391cc91547",
   "metadata": {},
   "source": [
    "this is what you will have for the final test:\n",
    "flights_test.columns\n",
    "\n",
    "'fl_date', 'mkt_unique_carrier', 'branded_code_share', 'mkt_carrier',\n",
    "       'mkt_carrier_fl_num', 'op_unique_carrier', 'tail_num',\n",
    "       'op_carrier_fl_num', 'origin_airport_id', 'origin', 'origin_city_name',\n",
    "       'dest_airport_id', 'dest', 'dest_city_name', 'crs_dep_time',\n",
    "       'crs_arr_time', 'dup', 'crs_elapsed_time', 'flights', 'distance'"
   ]
  },
  {
   "cell_type": "markdown",
   "id": "9e072167-ad35-4548-a29c-073f84b33b0f",
   "metadata": {},
   "source": [
    "## Model 2\n",
    "use variable selection on data from model 1"
   ]
  },
  {
   "cell_type": "code",
   "execution_count": null,
   "id": "d51d37db-b105-4231-aa38-2db207a5ecfa",
   "metadata": {},
   "outputs": [],
   "source": []
  },
  {
   "cell_type": "code",
   "execution_count": null,
   "id": "7e7d94b0-f67e-4790-aa04-4263ab5a76fa",
   "metadata": {},
   "outputs": [],
   "source": []
  },
  {
   "cell_type": "code",
   "execution_count": null,
   "id": "f48dc4af-c2d4-499d-9fd7-e94b9fce04c4",
   "metadata": {},
   "outputs": [],
   "source": []
  },
  {
   "cell_type": "markdown",
   "id": "43ab6b05-d9f0-4a46-9e8b-6c844028ca98",
   "metadata": {},
   "source": [
    "## Model 3\n",
    "Grid Search (maybe randomized search, doesn't actually search all combos)"
   ]
  },
  {
   "cell_type": "code",
   "execution_count": null,
   "id": "7149d60c-95a4-4a62-b7ae-3f7ad65c67e9",
   "metadata": {},
   "outputs": [],
   "source": []
  }
 ],
 "metadata": {
  "kernelspec": {
   "display_name": "lighthouse_env",
   "language": "python",
   "name": "lighthouse_env"
  },
  "language_info": {
   "codemirror_mode": {
    "name": "ipython",
    "version": 3
   },
   "file_extension": ".py",
   "mimetype": "text/x-python",
   "name": "python",
   "nbconvert_exporter": "python",
   "pygments_lexer": "ipython3",
   "version": "3.9.13"
  }
 },
 "nbformat": 4,
 "nbformat_minor": 5
}
