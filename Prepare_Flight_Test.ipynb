{
 "cells": [
  {
   "cell_type": "markdown",
   "id": "3c3180d0-1f08-4fa7-8a4f-030eebb48c7a",
   "metadata": {},
   "source": [
    "# Data Prep & Flight Prediction\n",
    "In this notebook apply the pre-processing and Model 3 to the Test Data"
   ]
  },
  {
   "cell_type": "code",
   "execution_count": 8,
   "id": "4253b7e8-734d-4cfe-8a24-eece5ed269b7",
   "metadata": {},
   "outputs": [],
   "source": [
    "import pandas as pd\n",
    "import datetime as dt\n",
    "from sklearn.model_selection import train_test_split\n",
    "from src.modules.data_preprocessing import time_of_day, feature_categorizer, make_regions\n",
    "\n",
    "import warnings\n",
    "warnings.filterwarnings('ignore')"
   ]
  },
  {
   "cell_type": "code",
   "execution_count": 39,
   "id": "fdad10fb-e27d-493e-803d-e8f2beae955f",
   "metadata": {},
   "outputs": [],
   "source": [
    "flights_test = pd.read_csv('data/flights_test.csv')"
   ]
  },
  {
   "cell_type": "code",
   "execution_count": 40,
   "id": "04119c72-950f-4c3d-8d7b-b032987d3dde",
   "metadata": {},
   "outputs": [
    {
     "data": {
      "text/html": [
       "<div>\n",
       "<style scoped>\n",
       "    .dataframe tbody tr th:only-of-type {\n",
       "        vertical-align: middle;\n",
       "    }\n",
       "\n",
       "    .dataframe tbody tr th {\n",
       "        vertical-align: top;\n",
       "    }\n",
       "\n",
       "    .dataframe thead th {\n",
       "        text-align: right;\n",
       "    }\n",
       "</style>\n",
       "<table border=\"1\" class=\"dataframe\">\n",
       "  <thead>\n",
       "    <tr style=\"text-align: right;\">\n",
       "      <th></th>\n",
       "      <th>fl_date</th>\n",
       "      <th>mkt_unique_carrier</th>\n",
       "      <th>branded_code_share</th>\n",
       "      <th>mkt_carrier</th>\n",
       "      <th>mkt_carrier_fl_num</th>\n",
       "      <th>op_unique_carrier</th>\n",
       "      <th>tail_num</th>\n",
       "      <th>op_carrier_fl_num</th>\n",
       "      <th>origin_airport_id</th>\n",
       "      <th>origin</th>\n",
       "      <th>...</th>\n",
       "      <th>dest</th>\n",
       "      <th>dest_city_name</th>\n",
       "      <th>crs_dep_time</th>\n",
       "      <th>crs_arr_time</th>\n",
       "      <th>dup</th>\n",
       "      <th>crs_elapsed_time</th>\n",
       "      <th>flights</th>\n",
       "      <th>distance</th>\n",
       "      <th>orig_weather_categ</th>\n",
       "      <th>dest_weather_categ</th>\n",
       "    </tr>\n",
       "  </thead>\n",
       "  <tbody>\n",
       "    <tr>\n",
       "      <th>0</th>\n",
       "      <td>2020-01-01</td>\n",
       "      <td>WN</td>\n",
       "      <td>WN</td>\n",
       "      <td>WN</td>\n",
       "      <td>5888</td>\n",
       "      <td>WN</td>\n",
       "      <td>N951WN</td>\n",
       "      <td>5888</td>\n",
       "      <td>13891</td>\n",
       "      <td>ONT</td>\n",
       "      <td>...</td>\n",
       "      <td>SFO</td>\n",
       "      <td>San Francisco, CA</td>\n",
       "      <td>1810</td>\n",
       "      <td>1945</td>\n",
       "      <td>N</td>\n",
       "      <td>95</td>\n",
       "      <td>1</td>\n",
       "      <td>363</td>\n",
       "      <td>sunny</td>\n",
       "      <td>cloudy</td>\n",
       "    </tr>\n",
       "    <tr>\n",
       "      <th>1</th>\n",
       "      <td>2020-01-01</td>\n",
       "      <td>WN</td>\n",
       "      <td>WN</td>\n",
       "      <td>WN</td>\n",
       "      <td>6276</td>\n",
       "      <td>WN</td>\n",
       "      <td>N467WN</td>\n",
       "      <td>6276</td>\n",
       "      <td>13891</td>\n",
       "      <td>ONT</td>\n",
       "      <td>...</td>\n",
       "      <td>SFO</td>\n",
       "      <td>San Francisco, CA</td>\n",
       "      <td>1150</td>\n",
       "      <td>1320</td>\n",
       "      <td>N</td>\n",
       "      <td>90</td>\n",
       "      <td>1</td>\n",
       "      <td>363</td>\n",
       "      <td>sunny</td>\n",
       "      <td>cloudy</td>\n",
       "    </tr>\n",
       "  </tbody>\n",
       "</table>\n",
       "<p>2 rows × 22 columns</p>\n",
       "</div>"
      ],
      "text/plain": [
       "      fl_date mkt_unique_carrier branded_code_share mkt_carrier  \\\n",
       "0  2020-01-01                 WN                 WN          WN   \n",
       "1  2020-01-01                 WN                 WN          WN   \n",
       "\n",
       "   mkt_carrier_fl_num op_unique_carrier tail_num  op_carrier_fl_num  \\\n",
       "0                5888                WN   N951WN               5888   \n",
       "1                6276                WN   N467WN               6276   \n",
       "\n",
       "   origin_airport_id origin  ... dest     dest_city_name crs_dep_time  \\\n",
       "0              13891    ONT  ...  SFO  San Francisco, CA         1810   \n",
       "1              13891    ONT  ...  SFO  San Francisco, CA         1150   \n",
       "\n",
       "  crs_arr_time  dup  crs_elapsed_time flights  distance  orig_weather_categ  \\\n",
       "0         1945    N                95       1       363               sunny   \n",
       "1         1320    N                90       1       363               sunny   \n",
       "\n",
       "   dest_weather_categ  \n",
       "0              cloudy  \n",
       "1              cloudy  \n",
       "\n",
       "[2 rows x 22 columns]"
      ]
     },
     "execution_count": 40,
     "metadata": {},
     "output_type": "execute_result"
    }
   ],
   "source": [
    "flights_test.head(2)"
   ]
  },
  {
   "cell_type": "markdown",
   "id": "6415cacc-aab6-4124-8d2f-700e502a8401",
   "metadata": {},
   "source": [
    "## Clean Features\n",
    "Note: The weather \"forecast\" has already been added to the df. This was done in the Flights_test_weather notebook"
   ]
  },
  {
   "cell_type": "code",
   "execution_count": 41,
   "id": "76bb2b1e-d1af-451a-beac-fa4b10632808",
   "metadata": {},
   "outputs": [
    {
     "data": {
      "text/plain": [
       "fl_date                 0\n",
       "mkt_unique_carrier      0\n",
       "branded_code_share      0\n",
       "mkt_carrier             0\n",
       "mkt_carrier_fl_num      0\n",
       "op_unique_carrier       0\n",
       "tail_num              124\n",
       "op_carrier_fl_num       0\n",
       "origin_airport_id       0\n",
       "origin                  0\n",
       "origin_city_name        0\n",
       "dest_airport_id         0\n",
       "dest                    0\n",
       "dest_city_name          0\n",
       "crs_dep_time            0\n",
       "crs_arr_time            0\n",
       "dup                     0\n",
       "crs_elapsed_time        0\n",
       "flights                 0\n",
       "distance                0\n",
       "orig_weather_categ    851\n",
       "dest_weather_categ    852\n",
       "dtype: int64"
      ]
     },
     "execution_count": 41,
     "metadata": {},
     "output_type": "execute_result"
    }
   ],
   "source": [
    "pd.isnull(flights_test).sum()"
   ]
  },
  {
   "cell_type": "code",
   "execution_count": 42,
   "id": "fe89eecc-b469-4b85-a193-0ca52599d934",
   "metadata": {},
   "outputs": [],
   "source": [
    "flights_test.fillna(0, inplace = True)"
   ]
  },
  {
   "cell_type": "code",
   "execution_count": 43,
   "id": "4dfa4b31-4815-4548-aff1-ed4a91d5867e",
   "metadata": {},
   "outputs": [],
   "source": [
    "flights_test.drop(['branded_code_share', 'mkt_carrier_fl_num', 'mkt_carrier', 'op_unique_carrier', \n",
    "                   'tail_num', 'op_carrier_fl_num', 'origin_airport_id', 'dest_airport_id', 'dup'], axis = 1, inplace = True)"
   ]
  },
  {
   "cell_type": "code",
   "execution_count": 44,
   "id": "d74d98cb-97a4-4808-a3f5-db2d9db680d3",
   "metadata": {},
   "outputs": [
    {
     "data": {
      "text/html": [
       "<div>\n",
       "<style scoped>\n",
       "    .dataframe tbody tr th:only-of-type {\n",
       "        vertical-align: middle;\n",
       "    }\n",
       "\n",
       "    .dataframe tbody tr th {\n",
       "        vertical-align: top;\n",
       "    }\n",
       "\n",
       "    .dataframe thead th {\n",
       "        text-align: right;\n",
       "    }\n",
       "</style>\n",
       "<table border=\"1\" class=\"dataframe\">\n",
       "  <thead>\n",
       "    <tr style=\"text-align: right;\">\n",
       "      <th></th>\n",
       "      <th>fl_date</th>\n",
       "      <th>mkt_unique_carrier</th>\n",
       "      <th>origin</th>\n",
       "      <th>origin_city_name</th>\n",
       "      <th>dest</th>\n",
       "      <th>dest_city_name</th>\n",
       "      <th>crs_dep_time</th>\n",
       "      <th>crs_arr_time</th>\n",
       "      <th>crs_elapsed_time</th>\n",
       "      <th>flights</th>\n",
       "      <th>distance</th>\n",
       "      <th>orig_weather_categ</th>\n",
       "      <th>dest_weather_categ</th>\n",
       "    </tr>\n",
       "  </thead>\n",
       "  <tbody>\n",
       "    <tr>\n",
       "      <th>0</th>\n",
       "      <td>2020-01-01</td>\n",
       "      <td>WN</td>\n",
       "      <td>ONT</td>\n",
       "      <td>Ontario, CA</td>\n",
       "      <td>SFO</td>\n",
       "      <td>San Francisco, CA</td>\n",
       "      <td>1810</td>\n",
       "      <td>1945</td>\n",
       "      <td>95</td>\n",
       "      <td>1</td>\n",
       "      <td>363</td>\n",
       "      <td>sunny</td>\n",
       "      <td>cloudy</td>\n",
       "    </tr>\n",
       "    <tr>\n",
       "      <th>1</th>\n",
       "      <td>2020-01-01</td>\n",
       "      <td>WN</td>\n",
       "      <td>ONT</td>\n",
       "      <td>Ontario, CA</td>\n",
       "      <td>SFO</td>\n",
       "      <td>San Francisco, CA</td>\n",
       "      <td>1150</td>\n",
       "      <td>1320</td>\n",
       "      <td>90</td>\n",
       "      <td>1</td>\n",
       "      <td>363</td>\n",
       "      <td>sunny</td>\n",
       "      <td>cloudy</td>\n",
       "    </tr>\n",
       "  </tbody>\n",
       "</table>\n",
       "</div>"
      ],
      "text/plain": [
       "      fl_date mkt_unique_carrier origin origin_city_name dest  \\\n",
       "0  2020-01-01                 WN    ONT      Ontario, CA  SFO   \n",
       "1  2020-01-01                 WN    ONT      Ontario, CA  SFO   \n",
       "\n",
       "      dest_city_name  crs_dep_time  crs_arr_time  crs_elapsed_time  flights  \\\n",
       "0  San Francisco, CA          1810          1945                95        1   \n",
       "1  San Francisco, CA          1150          1320                90        1   \n",
       "\n",
       "   distance orig_weather_categ dest_weather_categ  \n",
       "0       363              sunny             cloudy  \n",
       "1       363              sunny             cloudy  "
      ]
     },
     "execution_count": 44,
     "metadata": {},
     "output_type": "execute_result"
    }
   ],
   "source": [
    "flights_test.head(2)"
   ]
  },
  {
   "cell_type": "markdown",
   "id": "2a662374-fa38-4155-9ac5-5ae02d5794bd",
   "metadata": {},
   "source": [
    "### Add time of day features"
   ]
  },
  {
   "cell_type": "code",
   "execution_count": 45,
   "id": "5ee63f4b-2ddc-4683-8561-95b11906d9e9",
   "metadata": {},
   "outputs": [],
   "source": [
    "flights_test['dep_time_of_day'] = flights_test.apply(lambda df: time_of_day(df, method='dep'), axis=1)\n",
    "flights_test['arr_time_of_day'] = flights_test.apply(lambda df: time_of_day(df, method='arr'), axis=1)"
   ]
  },
  {
   "cell_type": "code",
   "execution_count": 46,
   "id": "b8d0feff-508d-4b00-a4fb-7e93b044c352",
   "metadata": {},
   "outputs": [],
   "source": [
    "feature_categorizer(flights_test[['dep_time_of_day','arr_time_of_day']], flights_test)"
   ]
  },
  {
   "cell_type": "code",
   "execution_count": 48,
   "id": "396630e4-1477-4335-b1a4-75642aa63ccd",
   "metadata": {},
   "outputs": [
    {
     "data": {
      "text/html": [
       "<div>\n",
       "<style scoped>\n",
       "    .dataframe tbody tr th:only-of-type {\n",
       "        vertical-align: middle;\n",
       "    }\n",
       "\n",
       "    .dataframe tbody tr th {\n",
       "        vertical-align: top;\n",
       "    }\n",
       "\n",
       "    .dataframe thead th {\n",
       "        text-align: right;\n",
       "    }\n",
       "</style>\n",
       "<table border=\"1\" class=\"dataframe\">\n",
       "  <thead>\n",
       "    <tr style=\"text-align: right;\">\n",
       "      <th></th>\n",
       "      <th>fl_date</th>\n",
       "      <th>mkt_unique_carrier</th>\n",
       "      <th>origin</th>\n",
       "      <th>origin_city_name</th>\n",
       "      <th>dest</th>\n",
       "      <th>dest_city_name</th>\n",
       "      <th>crs_dep_time</th>\n",
       "      <th>crs_arr_time</th>\n",
       "      <th>crs_elapsed_time</th>\n",
       "      <th>flights</th>\n",
       "      <th>distance</th>\n",
       "      <th>orig_weather_categ</th>\n",
       "      <th>dest_weather_categ</th>\n",
       "      <th>dep_time_of_day</th>\n",
       "      <th>arr_time_of_day</th>\n",
       "    </tr>\n",
       "  </thead>\n",
       "  <tbody>\n",
       "    <tr>\n",
       "      <th>0</th>\n",
       "      <td>2020-01-01</td>\n",
       "      <td>WN</td>\n",
       "      <td>ONT</td>\n",
       "      <td>Ontario, CA</td>\n",
       "      <td>SFO</td>\n",
       "      <td>San Francisco, CA</td>\n",
       "      <td>1810</td>\n",
       "      <td>1945</td>\n",
       "      <td>95</td>\n",
       "      <td>1</td>\n",
       "      <td>363</td>\n",
       "      <td>sunny</td>\n",
       "      <td>cloudy</td>\n",
       "      <td>0</td>\n",
       "      <td>0</td>\n",
       "    </tr>\n",
       "    <tr>\n",
       "      <th>1</th>\n",
       "      <td>2020-01-01</td>\n",
       "      <td>WN</td>\n",
       "      <td>ONT</td>\n",
       "      <td>Ontario, CA</td>\n",
       "      <td>SFO</td>\n",
       "      <td>San Francisco, CA</td>\n",
       "      <td>1150</td>\n",
       "      <td>1320</td>\n",
       "      <td>90</td>\n",
       "      <td>1</td>\n",
       "      <td>363</td>\n",
       "      <td>sunny</td>\n",
       "      <td>cloudy</td>\n",
       "      <td>1</td>\n",
       "      <td>1</td>\n",
       "    </tr>\n",
       "  </tbody>\n",
       "</table>\n",
       "</div>"
      ],
      "text/plain": [
       "      fl_date mkt_unique_carrier origin origin_city_name dest  \\\n",
       "0  2020-01-01                 WN    ONT      Ontario, CA  SFO   \n",
       "1  2020-01-01                 WN    ONT      Ontario, CA  SFO   \n",
       "\n",
       "      dest_city_name  crs_dep_time  crs_arr_time  crs_elapsed_time  flights  \\\n",
       "0  San Francisco, CA          1810          1945                95        1   \n",
       "1  San Francisco, CA          1150          1320                90        1   \n",
       "\n",
       "   distance orig_weather_categ dest_weather_categ  dep_time_of_day  \\\n",
       "0       363              sunny             cloudy                0   \n",
       "1       363              sunny             cloudy                1   \n",
       "\n",
       "   arr_time_of_day  \n",
       "0                0  \n",
       "1                1  "
      ]
     },
     "execution_count": 48,
     "metadata": {},
     "output_type": "execute_result"
    }
   ],
   "source": [
    "flights_test.head(2)"
   ]
  },
  {
   "cell_type": "markdown",
   "id": "32636481-5aed-4c44-97e1-e6cd44c09811",
   "metadata": {
    "tags": []
   },
   "source": [
    "### Turn date time to year, month, day"
   ]
  },
  {
   "cell_type": "code",
   "execution_count": 49,
   "id": "8d49603d-e69d-486c-b4c1-d8845029d4a9",
   "metadata": {},
   "outputs": [
    {
     "data": {
      "text/plain": [
       "fl_date               object\n",
       "mkt_unique_carrier    object\n",
       "origin                object\n",
       "origin_city_name      object\n",
       "dest                  object\n",
       "dest_city_name        object\n",
       "crs_dep_time           int64\n",
       "crs_arr_time           int64\n",
       "crs_elapsed_time       int64\n",
       "flights                int64\n",
       "distance               int64\n",
       "orig_weather_categ    object\n",
       "dest_weather_categ    object\n",
       "dep_time_of_day        int64\n",
       "arr_time_of_day        int64\n",
       "dtype: object"
      ]
     },
     "execution_count": 49,
     "metadata": {},
     "output_type": "execute_result"
    }
   ],
   "source": [
    "flights_test.dtypes"
   ]
  },
  {
   "cell_type": "code",
   "execution_count": 50,
   "id": "e4e55ca3-6c77-4a2b-a612-fa69fa1df49f",
   "metadata": {},
   "outputs": [],
   "source": [
    "flights_test['fl_date'] = pd.to_datetime(flights_test['fl_date'])"
   ]
  },
  {
   "cell_type": "code",
   "execution_count": 51,
   "id": "2b108bd6-6147-4e81-bce2-12bd8c4545c3",
   "metadata": {},
   "outputs": [],
   "source": [
    "#split date into three cols\n",
    "flights_test['year'] = flights_test['fl_date'].dt.year\n",
    "flights_test['month'] = flights_test['fl_date'].dt.month\n",
    "flights_test['day'] = flights_test['fl_date'].dt.day"
   ]
  },
  {
   "cell_type": "code",
   "execution_count": 52,
   "id": "e226e4ae-1a27-4cf8-a97a-656ce6e28dde",
   "metadata": {},
   "outputs": [],
   "source": [
    "flights_test.drop(['fl_date'],axis = 1, inplace = True)"
   ]
  },
  {
   "cell_type": "code",
   "execution_count": 53,
   "id": "32593e95-840c-4596-991f-eeb94797d432",
   "metadata": {},
   "outputs": [
    {
     "data": {
      "text/html": [
       "<div>\n",
       "<style scoped>\n",
       "    .dataframe tbody tr th:only-of-type {\n",
       "        vertical-align: middle;\n",
       "    }\n",
       "\n",
       "    .dataframe tbody tr th {\n",
       "        vertical-align: top;\n",
       "    }\n",
       "\n",
       "    .dataframe thead th {\n",
       "        text-align: right;\n",
       "    }\n",
       "</style>\n",
       "<table border=\"1\" class=\"dataframe\">\n",
       "  <thead>\n",
       "    <tr style=\"text-align: right;\">\n",
       "      <th></th>\n",
       "      <th>mkt_unique_carrier</th>\n",
       "      <th>origin</th>\n",
       "      <th>origin_city_name</th>\n",
       "      <th>dest</th>\n",
       "      <th>dest_city_name</th>\n",
       "      <th>crs_dep_time</th>\n",
       "      <th>crs_arr_time</th>\n",
       "      <th>crs_elapsed_time</th>\n",
       "      <th>flights</th>\n",
       "      <th>distance</th>\n",
       "      <th>orig_weather_categ</th>\n",
       "      <th>dest_weather_categ</th>\n",
       "      <th>dep_time_of_day</th>\n",
       "      <th>arr_time_of_day</th>\n",
       "      <th>year</th>\n",
       "      <th>month</th>\n",
       "      <th>day</th>\n",
       "    </tr>\n",
       "  </thead>\n",
       "  <tbody>\n",
       "    <tr>\n",
       "      <th>0</th>\n",
       "      <td>WN</td>\n",
       "      <td>ONT</td>\n",
       "      <td>Ontario, CA</td>\n",
       "      <td>SFO</td>\n",
       "      <td>San Francisco, CA</td>\n",
       "      <td>1810</td>\n",
       "      <td>1945</td>\n",
       "      <td>95</td>\n",
       "      <td>1</td>\n",
       "      <td>363</td>\n",
       "      <td>sunny</td>\n",
       "      <td>cloudy</td>\n",
       "      <td>0</td>\n",
       "      <td>0</td>\n",
       "      <td>2020</td>\n",
       "      <td>1</td>\n",
       "      <td>1</td>\n",
       "    </tr>\n",
       "  </tbody>\n",
       "</table>\n",
       "</div>"
      ],
      "text/plain": [
       "  mkt_unique_carrier origin origin_city_name dest     dest_city_name  \\\n",
       "0                 WN    ONT      Ontario, CA  SFO  San Francisco, CA   \n",
       "\n",
       "   crs_dep_time  crs_arr_time  crs_elapsed_time  flights  distance  \\\n",
       "0          1810          1945                95        1       363   \n",
       "\n",
       "  orig_weather_categ dest_weather_categ  dep_time_of_day  arr_time_of_day  \\\n",
       "0              sunny             cloudy                0                0   \n",
       "\n",
       "   year  month  day  \n",
       "0  2020      1    1  "
      ]
     },
     "execution_count": 53,
     "metadata": {},
     "output_type": "execute_result"
    }
   ],
   "source": [
    "flights_test.head(1)"
   ]
  },
  {
   "cell_type": "markdown",
   "id": "888ba65a-c104-4439-b802-70818506f2f7",
   "metadata": {},
   "source": [
    "## Add Regions"
   ]
  },
  {
   "cell_type": "code",
   "execution_count": 54,
   "id": "038b4c7a-0098-4520-95bb-e29420278559",
   "metadata": {},
   "outputs": [],
   "source": [
    "def o_state_creator(row):\n",
    "    return str(row[\"origin_city_name\"].split(', ')[1]) \n",
    "def d_state_creator(row):\n",
    "    return str(row[\"dest_city_name\"].split(', ')[1]) "
   ]
  },
  {
   "cell_type": "code",
   "execution_count": 55,
   "id": "a7bf9452-f854-4181-aeb7-baa67d3365fe",
   "metadata": {
    "tags": []
   },
   "outputs": [],
   "source": [
    "#adding state to the whole data frame\n",
    "flights_test[\"orig_state_id\"] = flights_test.apply(o_state_creator, axis = 1)    "
   ]
  },
  {
   "cell_type": "code",
   "execution_count": 56,
   "id": "c5297abf-a0f6-4283-a6ef-815455e79ab4",
   "metadata": {},
   "outputs": [],
   "source": [
    "flights_test[\"dest_state_id\"] = flights_test.apply(d_state_creator, axis = 1)"
   ]
  },
  {
   "cell_type": "code",
   "execution_count": 57,
   "id": "849daf65-3c89-45e9-bc33-46ed8b2b1f5c",
   "metadata": {},
   "outputs": [
    {
     "data": {
      "text/html": [
       "<div>\n",
       "<style scoped>\n",
       "    .dataframe tbody tr th:only-of-type {\n",
       "        vertical-align: middle;\n",
       "    }\n",
       "\n",
       "    .dataframe tbody tr th {\n",
       "        vertical-align: top;\n",
       "    }\n",
       "\n",
       "    .dataframe thead th {\n",
       "        text-align: right;\n",
       "    }\n",
       "</style>\n",
       "<table border=\"1\" class=\"dataframe\">\n",
       "  <thead>\n",
       "    <tr style=\"text-align: right;\">\n",
       "      <th></th>\n",
       "      <th>mkt_unique_carrier</th>\n",
       "      <th>origin</th>\n",
       "      <th>origin_city_name</th>\n",
       "      <th>dest</th>\n",
       "      <th>dest_city_name</th>\n",
       "      <th>crs_dep_time</th>\n",
       "      <th>crs_arr_time</th>\n",
       "      <th>crs_elapsed_time</th>\n",
       "      <th>flights</th>\n",
       "      <th>distance</th>\n",
       "      <th>orig_weather_categ</th>\n",
       "      <th>dest_weather_categ</th>\n",
       "      <th>dep_time_of_day</th>\n",
       "      <th>arr_time_of_day</th>\n",
       "      <th>year</th>\n",
       "      <th>month</th>\n",
       "      <th>day</th>\n",
       "      <th>orig_state_id</th>\n",
       "      <th>dest_state_id</th>\n",
       "    </tr>\n",
       "  </thead>\n",
       "  <tbody>\n",
       "    <tr>\n",
       "      <th>0</th>\n",
       "      <td>WN</td>\n",
       "      <td>ONT</td>\n",
       "      <td>Ontario, CA</td>\n",
       "      <td>SFO</td>\n",
       "      <td>San Francisco, CA</td>\n",
       "      <td>1810</td>\n",
       "      <td>1945</td>\n",
       "      <td>95</td>\n",
       "      <td>1</td>\n",
       "      <td>363</td>\n",
       "      <td>sunny</td>\n",
       "      <td>cloudy</td>\n",
       "      <td>0</td>\n",
       "      <td>0</td>\n",
       "      <td>2020</td>\n",
       "      <td>1</td>\n",
       "      <td>1</td>\n",
       "      <td>CA</td>\n",
       "      <td>CA</td>\n",
       "    </tr>\n",
       "  </tbody>\n",
       "</table>\n",
       "</div>"
      ],
      "text/plain": [
       "  mkt_unique_carrier origin origin_city_name dest     dest_city_name  \\\n",
       "0                 WN    ONT      Ontario, CA  SFO  San Francisco, CA   \n",
       "\n",
       "   crs_dep_time  crs_arr_time  crs_elapsed_time  flights  distance  \\\n",
       "0          1810          1945                95        1       363   \n",
       "\n",
       "  orig_weather_categ dest_weather_categ  dep_time_of_day  arr_time_of_day  \\\n",
       "0              sunny             cloudy                0                0   \n",
       "\n",
       "   year  month  day orig_state_id dest_state_id  \n",
       "0  2020      1    1            CA            CA  "
      ]
     },
     "execution_count": 57,
     "metadata": {},
     "output_type": "execute_result"
    }
   ],
   "source": [
    "flights_test.head(1)"
   ]
  },
  {
   "cell_type": "code",
   "execution_count": 58,
   "id": "4538f878-3352-4f98-a0c2-73dbe4cdef3b",
   "metadata": {},
   "outputs": [],
   "source": [
    "make_regions(flights_test, 'orig_state_id')\n",
    "make_regions(flights_test, 'dest_state_id')"
   ]
  },
  {
   "cell_type": "code",
   "execution_count": 59,
   "id": "1fa4f501-760b-4642-a17a-a774ee974529",
   "metadata": {},
   "outputs": [],
   "source": [
    "flights_test.drop(['origin_city_name', 'dest_city_name', 'orig_state_id', 'dest_state_id'], axis = 1, inplace = True)"
   ]
  },
  {
   "cell_type": "code",
   "execution_count": 60,
   "id": "338f9963-6bbf-4203-aed8-f6173aec439f",
   "metadata": {},
   "outputs": [
    {
     "data": {
      "text/html": [
       "<div>\n",
       "<style scoped>\n",
       "    .dataframe tbody tr th:only-of-type {\n",
       "        vertical-align: middle;\n",
       "    }\n",
       "\n",
       "    .dataframe tbody tr th {\n",
       "        vertical-align: top;\n",
       "    }\n",
       "\n",
       "    .dataframe thead th {\n",
       "        text-align: right;\n",
       "    }\n",
       "</style>\n",
       "<table border=\"1\" class=\"dataframe\">\n",
       "  <thead>\n",
       "    <tr style=\"text-align: right;\">\n",
       "      <th></th>\n",
       "      <th>mkt_unique_carrier</th>\n",
       "      <th>origin</th>\n",
       "      <th>dest</th>\n",
       "      <th>crs_dep_time</th>\n",
       "      <th>crs_arr_time</th>\n",
       "      <th>crs_elapsed_time</th>\n",
       "      <th>flights</th>\n",
       "      <th>distance</th>\n",
       "      <th>orig_weather_categ</th>\n",
       "      <th>dest_weather_categ</th>\n",
       "      <th>dep_time_of_day</th>\n",
       "      <th>arr_time_of_day</th>\n",
       "      <th>year</th>\n",
       "      <th>month</th>\n",
       "      <th>day</th>\n",
       "      <th>orig_region</th>\n",
       "      <th>dest_region</th>\n",
       "    </tr>\n",
       "  </thead>\n",
       "  <tbody>\n",
       "    <tr>\n",
       "      <th>0</th>\n",
       "      <td>WN</td>\n",
       "      <td>ONT</td>\n",
       "      <td>SFO</td>\n",
       "      <td>1810</td>\n",
       "      <td>1945</td>\n",
       "      <td>95</td>\n",
       "      <td>1</td>\n",
       "      <td>363</td>\n",
       "      <td>sunny</td>\n",
       "      <td>cloudy</td>\n",
       "      <td>0</td>\n",
       "      <td>0</td>\n",
       "      <td>2020</td>\n",
       "      <td>1</td>\n",
       "      <td>1</td>\n",
       "      <td>Pacific</td>\n",
       "      <td>Pacific</td>\n",
       "    </tr>\n",
       "  </tbody>\n",
       "</table>\n",
       "</div>"
      ],
      "text/plain": [
       "  mkt_unique_carrier origin dest  crs_dep_time  crs_arr_time  \\\n",
       "0                 WN    ONT  SFO          1810          1945   \n",
       "\n",
       "   crs_elapsed_time  flights  distance orig_weather_categ dest_weather_categ  \\\n",
       "0                95        1       363              sunny             cloudy   \n",
       "\n",
       "   dep_time_of_day  arr_time_of_day  year  month  day orig_region dest_region  \n",
       "0                0                0  2020      1    1     Pacific     Pacific  "
      ]
     },
     "execution_count": 60,
     "metadata": {},
     "output_type": "execute_result"
    }
   ],
   "source": [
    "flights_test.head(1)"
   ]
  },
  {
   "cell_type": "markdown",
   "id": "2396af42-eed4-4f2a-a863-e87d6209199e",
   "metadata": {},
   "source": [
    "## Apply \"Historical Data\" Features\n",
    "These features are based on the 2018-2019 training data"
   ]
  },
  {
   "cell_type": "markdown",
   "id": "80de3c7d-3c74-4939-9e76-c9eea0077b9e",
   "metadata": {},
   "source": [
    "### Apply mean delay by airport feature to use in place of origin airport"
   ]
  },
  {
   "cell_type": "code",
   "execution_count": 61,
   "id": "c318fd32-7e1a-429c-85f0-fc836be30a2f",
   "metadata": {},
   "outputs": [],
   "source": [
    "#import mean delay by airport features\n",
    "mean_delay_orig_airport = pd.read_csv('data/Features/mean_delay_orig_airport.csv')\n",
    "mean_delay_dest_airport = pd.read_csv('data/Features/mean_delay_dest_airport.csv')"
   ]
  },
  {
   "cell_type": "code",
   "execution_count": 62,
   "id": "3f35da82-22dd-46bd-9e16-dc9ede933936",
   "metadata": {},
   "outputs": [],
   "source": [
    "#merge this mean value to df with origin as key\n",
    "flights_test = pd.merge(flights_test, mean_delay_orig_airport, how = 'left', on = ['origin'])"
   ]
  },
  {
   "cell_type": "code",
   "execution_count": 63,
   "id": "5760d18a-ae9e-4747-b77d-1c05163ac3d4",
   "metadata": {},
   "outputs": [],
   "source": [
    "flights_test = pd.merge(flights_test, mean_delay_dest_airport, how = 'left', on = ['dest'])"
   ]
  },
  {
   "cell_type": "code",
   "execution_count": 64,
   "id": "d448a4b9-80d8-4dec-9aa0-b5cf87eca043",
   "metadata": {},
   "outputs": [
    {
     "data": {
      "text/html": [
       "<div>\n",
       "<style scoped>\n",
       "    .dataframe tbody tr th:only-of-type {\n",
       "        vertical-align: middle;\n",
       "    }\n",
       "\n",
       "    .dataframe tbody tr th {\n",
       "        vertical-align: top;\n",
       "    }\n",
       "\n",
       "    .dataframe thead th {\n",
       "        text-align: right;\n",
       "    }\n",
       "</style>\n",
       "<table border=\"1\" class=\"dataframe\">\n",
       "  <thead>\n",
       "    <tr style=\"text-align: right;\">\n",
       "      <th></th>\n",
       "      <th>mkt_unique_carrier</th>\n",
       "      <th>origin</th>\n",
       "      <th>dest</th>\n",
       "      <th>crs_dep_time</th>\n",
       "      <th>crs_arr_time</th>\n",
       "      <th>crs_elapsed_time</th>\n",
       "      <th>flights</th>\n",
       "      <th>distance</th>\n",
       "      <th>orig_weather_categ</th>\n",
       "      <th>dest_weather_categ</th>\n",
       "      <th>dep_time_of_day</th>\n",
       "      <th>arr_time_of_day</th>\n",
       "      <th>year</th>\n",
       "      <th>month</th>\n",
       "      <th>day</th>\n",
       "      <th>orig_region</th>\n",
       "      <th>dest_region</th>\n",
       "      <th>mean_arr_delay_orig_airport</th>\n",
       "      <th>mean_arr_delay_dest_airport</th>\n",
       "    </tr>\n",
       "  </thead>\n",
       "  <tbody>\n",
       "    <tr>\n",
       "      <th>0</th>\n",
       "      <td>WN</td>\n",
       "      <td>ONT</td>\n",
       "      <td>SFO</td>\n",
       "      <td>1810</td>\n",
       "      <td>1945</td>\n",
       "      <td>95</td>\n",
       "      <td>1</td>\n",
       "      <td>363</td>\n",
       "      <td>sunny</td>\n",
       "      <td>cloudy</td>\n",
       "      <td>0</td>\n",
       "      <td>0</td>\n",
       "      <td>2020</td>\n",
       "      <td>1</td>\n",
       "      <td>1</td>\n",
       "      <td>Pacific</td>\n",
       "      <td>Pacific</td>\n",
       "      <td>-3.666667</td>\n",
       "      <td>5.147465</td>\n",
       "    </tr>\n",
       "  </tbody>\n",
       "</table>\n",
       "</div>"
      ],
      "text/plain": [
       "  mkt_unique_carrier origin dest  crs_dep_time  crs_arr_time  \\\n",
       "0                 WN    ONT  SFO          1810          1945   \n",
       "\n",
       "   crs_elapsed_time  flights  distance orig_weather_categ dest_weather_categ  \\\n",
       "0                95        1       363              sunny             cloudy   \n",
       "\n",
       "   dep_time_of_day  arr_time_of_day  year  month  day orig_region dest_region  \\\n",
       "0                0                0  2020      1    1     Pacific     Pacific   \n",
       "\n",
       "   mean_arr_delay_orig_airport  mean_arr_delay_dest_airport  \n",
       "0                    -3.666667                     5.147465  "
      ]
     },
     "execution_count": 64,
     "metadata": {},
     "output_type": "execute_result"
    }
   ],
   "source": [
    "flights_test.head(1)"
   ]
  },
  {
   "cell_type": "markdown",
   "id": "5009f4c8-ed6c-408a-b88f-e3ed399c9697",
   "metadata": {},
   "source": [
    "### Apply mean delay by carrier feature"
   ]
  },
  {
   "cell_type": "code",
   "execution_count": 65,
   "id": "b6800a41-4ddb-4e10-a10b-fb83534f7d55",
   "metadata": {},
   "outputs": [],
   "source": [
    "mean_delay_carrier = pd.read_csv('data/Features/mean_delay_carrier.csv')"
   ]
  },
  {
   "cell_type": "code",
   "execution_count": 66,
   "id": "db60d721-9621-4b7b-a3ea-56dbea892afd",
   "metadata": {},
   "outputs": [],
   "source": [
    "#merge this mean value to flights_M1 with mkt unique carrier as key\n",
    "flights_test = pd.merge(flights_test, mean_delay_carrier, how = 'left', on = ['mkt_unique_carrier'])"
   ]
  },
  {
   "cell_type": "code",
   "execution_count": 67,
   "id": "e14a4245-383e-4641-9274-0d2b04107de5",
   "metadata": {},
   "outputs": [
    {
     "data": {
      "text/html": [
       "<div>\n",
       "<style scoped>\n",
       "    .dataframe tbody tr th:only-of-type {\n",
       "        vertical-align: middle;\n",
       "    }\n",
       "\n",
       "    .dataframe tbody tr th {\n",
       "        vertical-align: top;\n",
       "    }\n",
       "\n",
       "    .dataframe thead th {\n",
       "        text-align: right;\n",
       "    }\n",
       "</style>\n",
       "<table border=\"1\" class=\"dataframe\">\n",
       "  <thead>\n",
       "    <tr style=\"text-align: right;\">\n",
       "      <th></th>\n",
       "      <th>mkt_unique_carrier</th>\n",
       "      <th>origin</th>\n",
       "      <th>dest</th>\n",
       "      <th>crs_dep_time</th>\n",
       "      <th>crs_arr_time</th>\n",
       "      <th>crs_elapsed_time</th>\n",
       "      <th>flights</th>\n",
       "      <th>distance</th>\n",
       "      <th>orig_weather_categ</th>\n",
       "      <th>dest_weather_categ</th>\n",
       "      <th>dep_time_of_day</th>\n",
       "      <th>arr_time_of_day</th>\n",
       "      <th>year</th>\n",
       "      <th>month</th>\n",
       "      <th>day</th>\n",
       "      <th>orig_region</th>\n",
       "      <th>dest_region</th>\n",
       "      <th>mean_arr_delay_orig_airport</th>\n",
       "      <th>mean_arr_delay_dest_airport</th>\n",
       "      <th>mean_arr_delay_carrier</th>\n",
       "    </tr>\n",
       "  </thead>\n",
       "  <tbody>\n",
       "    <tr>\n",
       "      <th>0</th>\n",
       "      <td>WN</td>\n",
       "      <td>ONT</td>\n",
       "      <td>SFO</td>\n",
       "      <td>1810</td>\n",
       "      <td>1945</td>\n",
       "      <td>95</td>\n",
       "      <td>1</td>\n",
       "      <td>363</td>\n",
       "      <td>sunny</td>\n",
       "      <td>cloudy</td>\n",
       "      <td>0</td>\n",
       "      <td>0</td>\n",
       "      <td>2020</td>\n",
       "      <td>1</td>\n",
       "      <td>1</td>\n",
       "      <td>Pacific</td>\n",
       "      <td>Pacific</td>\n",
       "      <td>-3.666667</td>\n",
       "      <td>5.147465</td>\n",
       "      <td>3.940227</td>\n",
       "    </tr>\n",
       "  </tbody>\n",
       "</table>\n",
       "</div>"
      ],
      "text/plain": [
       "  mkt_unique_carrier origin dest  crs_dep_time  crs_arr_time  \\\n",
       "0                 WN    ONT  SFO          1810          1945   \n",
       "\n",
       "   crs_elapsed_time  flights  distance orig_weather_categ dest_weather_categ  \\\n",
       "0                95        1       363              sunny             cloudy   \n",
       "\n",
       "   dep_time_of_day  arr_time_of_day  year  month  day orig_region dest_region  \\\n",
       "0                0                0  2020      1    1     Pacific     Pacific   \n",
       "\n",
       "   mean_arr_delay_orig_airport  mean_arr_delay_dest_airport  \\\n",
       "0                    -3.666667                     5.147465   \n",
       "\n",
       "   mean_arr_delay_carrier  \n",
       "0                3.940227  "
      ]
     },
     "execution_count": 67,
     "metadata": {},
     "output_type": "execute_result"
    }
   ],
   "source": [
    "flights_test.head(1)"
   ]
  },
  {
   "cell_type": "code",
   "execution_count": 68,
   "id": "094a1088-fd14-4609-86a0-7e79d9613882",
   "metadata": {},
   "outputs": [],
   "source": [
    "#now we can drop these categorical feature\n",
    "flights_test.drop(['mkt_unique_carrier', 'origin', 'dest'], axis = 1, inplace = True)"
   ]
  },
  {
   "cell_type": "markdown",
   "id": "81a5075f-45da-4493-bb9c-440491e8f66a",
   "metadata": {},
   "source": [
    "### Weather & Region categorical features to ordinal int"
   ]
  },
  {
   "cell_type": "code",
   "execution_count": 69,
   "id": "e590c24e-02d5-44a5-8be0-cb566830969c",
   "metadata": {},
   "outputs": [
    {
     "data": {
      "text/plain": [
       "crs_dep_time                     int64\n",
       "crs_arr_time                     int64\n",
       "crs_elapsed_time                 int64\n",
       "flights                          int64\n",
       "distance                         int64\n",
       "orig_weather_categ              object\n",
       "dest_weather_categ              object\n",
       "dep_time_of_day                  int64\n",
       "arr_time_of_day                  int64\n",
       "year                             int64\n",
       "month                            int64\n",
       "day                              int64\n",
       "orig_region                     object\n",
       "dest_region                     object\n",
       "mean_arr_delay_orig_airport    float64\n",
       "mean_arr_delay_dest_airport    float64\n",
       "mean_arr_delay_carrier         float64\n",
       "dtype: object"
      ]
     },
     "execution_count": 69,
     "metadata": {},
     "output_type": "execute_result"
    }
   ],
   "source": [
    "flights_test.dtypes"
   ]
  },
  {
   "cell_type": "code",
   "execution_count": 70,
   "id": "c3dc2f4b-d073-4035-9a7a-e4b826e2dab3",
   "metadata": {},
   "outputs": [],
   "source": [
    "# turn weather into ordinal\n",
    "feature_categorizer(flights_test[['orig_weather_categ', 'dest_weather_categ']], flights_test)\n",
    "feature_categorizer(flights_test[['orig_region', 'dest_region']], flights_test)"
   ]
  },
  {
   "cell_type": "code",
   "execution_count": 71,
   "id": "4e5bf646-0f48-43c9-b572-c1d0f62f1b37",
   "metadata": {},
   "outputs": [
    {
     "data": {
      "text/html": [
       "<div>\n",
       "<style scoped>\n",
       "    .dataframe tbody tr th:only-of-type {\n",
       "        vertical-align: middle;\n",
       "    }\n",
       "\n",
       "    .dataframe tbody tr th {\n",
       "        vertical-align: top;\n",
       "    }\n",
       "\n",
       "    .dataframe thead th {\n",
       "        text-align: right;\n",
       "    }\n",
       "</style>\n",
       "<table border=\"1\" class=\"dataframe\">\n",
       "  <thead>\n",
       "    <tr style=\"text-align: right;\">\n",
       "      <th></th>\n",
       "      <th>crs_dep_time</th>\n",
       "      <th>crs_arr_time</th>\n",
       "      <th>crs_elapsed_time</th>\n",
       "      <th>flights</th>\n",
       "      <th>distance</th>\n",
       "      <th>orig_weather_categ</th>\n",
       "      <th>dest_weather_categ</th>\n",
       "      <th>dep_time_of_day</th>\n",
       "      <th>arr_time_of_day</th>\n",
       "      <th>year</th>\n",
       "      <th>month</th>\n",
       "      <th>day</th>\n",
       "      <th>orig_region</th>\n",
       "      <th>dest_region</th>\n",
       "      <th>mean_arr_delay_orig_airport</th>\n",
       "      <th>mean_arr_delay_dest_airport</th>\n",
       "      <th>mean_arr_delay_carrier</th>\n",
       "    </tr>\n",
       "  </thead>\n",
       "  <tbody>\n",
       "    <tr>\n",
       "      <th>0</th>\n",
       "      <td>1810</td>\n",
       "      <td>1945</td>\n",
       "      <td>95</td>\n",
       "      <td>1</td>\n",
       "      <td>363</td>\n",
       "      <td>0</td>\n",
       "      <td>0</td>\n",
       "      <td>0</td>\n",
       "      <td>0</td>\n",
       "      <td>2020</td>\n",
       "      <td>1</td>\n",
       "      <td>1</td>\n",
       "      <td>0</td>\n",
       "      <td>0</td>\n",
       "      <td>-3.666667</td>\n",
       "      <td>5.147465</td>\n",
       "      <td>3.940227</td>\n",
       "    </tr>\n",
       "  </tbody>\n",
       "</table>\n",
       "</div>"
      ],
      "text/plain": [
       "   crs_dep_time  crs_arr_time  crs_elapsed_time  flights  distance  \\\n",
       "0          1810          1945                95        1       363   \n",
       "\n",
       "   orig_weather_categ  dest_weather_categ  dep_time_of_day  arr_time_of_day  \\\n",
       "0                   0                   0                0                0   \n",
       "\n",
       "   year  month  day  orig_region  dest_region  mean_arr_delay_orig_airport  \\\n",
       "0  2020      1    1            0            0                    -3.666667   \n",
       "\n",
       "   mean_arr_delay_dest_airport  mean_arr_delay_carrier  \n",
       "0                     5.147465                3.940227  "
      ]
     },
     "execution_count": 71,
     "metadata": {},
     "output_type": "execute_result"
    }
   ],
   "source": [
    "flights_test.head(1)"
   ]
  },
  {
   "cell_type": "markdown",
   "id": "a166b9d5-0555-4a0d-bc19-2abae760b4ea",
   "metadata": {},
   "source": [
    "## Export df as csv to use in prediction model"
   ]
  },
  {
   "cell_type": "code",
   "execution_count": 72,
   "id": "faf7f988-539e-423e-b0f3-32c57655db60",
   "metadata": {},
   "outputs": [],
   "source": [
    "flights_test.to_csv('data/flights_test_M3.csv', header=True, index=False)"
   ]
  },
  {
   "cell_type": "code",
   "execution_count": 73,
   "id": "7dc9eaf4-38fe-4fd2-8d90-c8de5c95a667",
   "metadata": {},
   "outputs": [
    {
     "data": {
      "text/plain": [
       "Index(['crs_dep_time', 'crs_arr_time', 'crs_elapsed_time', 'flights',\n",
       "       'distance', 'orig_weather_categ', 'dest_weather_categ',\n",
       "       'dep_time_of_day', 'arr_time_of_day', 'year', 'month', 'day',\n",
       "       'orig_region', 'dest_region', 'mean_arr_delay_orig_airport',\n",
       "       'mean_arr_delay_dest_airport', 'mean_arr_delay_carrier'],\n",
       "      dtype='object')"
      ]
     },
     "execution_count": 73,
     "metadata": {},
     "output_type": "execute_result"
    }
   ],
   "source": [
    "flights_test.columns"
   ]
  },
  {
   "cell_type": "code",
   "execution_count": 75,
   "id": "b1fa9f38-1e53-425f-a49e-34f2f6e06fa0",
   "metadata": {},
   "outputs": [
    {
     "data": {
      "text/plain": [
       "(150623, 17)"
      ]
     },
     "execution_count": 75,
     "metadata": {},
     "output_type": "execute_result"
    }
   ],
   "source": [
    "flights_test.shape"
   ]
  },
  {
   "cell_type": "code",
   "execution_count": null,
   "id": "bcdce98f-338a-48e4-abe8-31e45b8ca08e",
   "metadata": {},
   "outputs": [],
   "source": []
  }
 ],
 "metadata": {
  "kernelspec": {
   "display_name": "lighthouse_env",
   "language": "python",
   "name": "lighthouse_env"
  },
  "language_info": {
   "codemirror_mode": {
    "name": "ipython",
    "version": 3
   },
   "file_extension": ".py",
   "mimetype": "text/x-python",
   "name": "python",
   "nbconvert_exporter": "python",
   "pygments_lexer": "ipython3",
   "version": "3.9.13"
  }
 },
 "nbformat": 4,
 "nbformat_minor": 5
}
