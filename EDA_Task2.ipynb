{
 "cells": [
  {
   "cell_type": "markdown",
   "id": "ed5c90df-23ed-4415-8b37-312982bb2209",
   "metadata": {},
   "source": [
    "#### **Task 2**: Is average/median monthly delay different during the year? If yes, which are months with the biggest delays and what could be the reason?"
   ]
  },
  {
   "cell_type": "code",
   "execution_count": 1,
   "id": "c97486a0-9b50-4118-aed7-fc9e395d741b",
   "metadata": {},
   "outputs": [],
   "source": [
    "# Import Pandas and Numpy to deal with DataFrames and NaN\n",
    "import pandas as pd\n",
    "import numpy as np\n",
    "\n",
    "# Import MatPlotLib and Seaborn to help visualize the data\n",
    "import matplotlib.pyplot as plt\n",
    "import seaborn as sns\n",
    "\n",
    "# Import os for file reader\n",
    "import os"
   ]
  },
  {
   "cell_type": "code",
   "execution_count": 2,
   "id": "25b6e2a8-6045-406c-8663-a5bdc7c4d5e6",
   "metadata": {},
   "outputs": [
    {
     "name": "stdout",
     "output_type": "stream",
     "text": [
      "/Users/brandonrose/Midterm_Project\n"
     ]
    }
   ],
   "source": [
    "# Get current working directory\n",
    "current_directory = os.getcwd()\n",
    "print(current_directory)"
   ]
  },
  {
   "cell_type": "code",
   "execution_count": 6,
   "id": "0f3c70a9-d3d5-478b-b221-7bec8bde835f",
   "metadata": {},
   "outputs": [],
   "source": [
    "# Pull the data from csv by concatenating current working directory with\n",
    "# '/data/flights_10000.csv'\n",
    "data = pd.read_csv(current_directory +'/data/flights_10000.csv')\n",
    "data.drop(['Unnamed: 0', 'no_name'], axis=1, inplace=True)"
   ]
  },
  {
   "cell_type": "code",
   "execution_count": 7,
   "id": "f2eefff1-13d7-46d4-9510-dbe0bb9f9102",
   "metadata": {},
   "outputs": [],
   "source": [
    "# First, we can convert the column dtype for the date from Object to datetime64\n",
    "data['fl_date'] = pd.to_datetime(data['fl_date'])"
   ]
  },
  {
   "cell_type": "code",
   "execution_count": 8,
   "id": "0e42b0ea-d45e-4860-a324-95238508d493",
   "metadata": {},
   "outputs": [],
   "source": [
    "# Create DF with year column, delay columns, diverted and cancellation\n",
    "df_delays = data.loc[:, ['fl_date', 'dep_delay', 'arr_delay', 'carrier_delay', 'weather_delay', 'nas_delay', 'security_delay',\n",
    "       'late_aircraft_delay', 'diverted', 'cancelled']]"
   ]
  },
  {
   "cell_type": "code",
   "execution_count": 9,
   "id": "d451cadf-1792-4681-b4bd-c65e259a2343",
   "metadata": {},
   "outputs": [],
   "source": [
    "# We know everything is numeric, so we can fill NaN with 0s\n",
    "df_delays = df_delays.fillna(0)"
   ]
  },
  {
   "cell_type": "code",
   "execution_count": 10,
   "id": "c5ab67c8-45f6-4f30-9897-d09c38be304f",
   "metadata": {},
   "outputs": [],
   "source": [
    "# Group by year, month. Calculate sum for the departure and arrival delay columns. Include delay type columns for more insight.\n",
    "delays_grouped = df_delays.groupby([df_delays['fl_date'].dt.year.rename('Year'),\n",
    "                                    df_delays['fl_date'].dt.month.rename('Month')])[['dep_delay', 'arr_delay', 'carrier_delay', 'weather_delay', 'nas_delay', 'security_delay', 'late_aircraft_delay', ]].sum().reset_index()"
   ]
  },
  {
   "cell_type": "code",
   "execution_count": 12,
   "id": "62b629cd-bd7b-443a-a86c-05755fb45eee",
   "metadata": {},
   "outputs": [],
   "source": [
    "#store the mean of our delay totals in a new column for each month\n",
    "delays_grouped['month_delay_avg'] = delays_grouped[['dep_delay', 'arr_delay']].mean(axis=1)"
   ]
  },
  {
   "cell_type": "code",
   "execution_count": 17,
   "id": "d45b0bbc-5ec1-4310-aeb2-1f0bc1d6eb56",
   "metadata": {},
   "outputs": [
    {
     "name": "stdout",
     "output_type": "stream",
     "text": [
      "Delay Times in Minutes:\n"
     ]
    },
    {
     "data": {
      "text/html": [
       "<div>\n",
       "<style scoped>\n",
       "    .dataframe tbody tr th:only-of-type {\n",
       "        vertical-align: middle;\n",
       "    }\n",
       "\n",
       "    .dataframe tbody tr th {\n",
       "        vertical-align: top;\n",
       "    }\n",
       "\n",
       "    .dataframe thead th {\n",
       "        text-align: right;\n",
       "    }\n",
       "</style>\n",
       "<table border=\"1\" class=\"dataframe\">\n",
       "  <thead>\n",
       "    <tr style=\"text-align: right;\">\n",
       "      <th></th>\n",
       "      <th>Year</th>\n",
       "      <th>Month</th>\n",
       "      <th>month_delay_avg</th>\n",
       "    </tr>\n",
       "  </thead>\n",
       "  <tbody>\n",
       "    <tr>\n",
       "      <th>18</th>\n",
       "      <td>2019</td>\n",
       "      <td>7</td>\n",
       "      <td>6254.0</td>\n",
       "    </tr>\n",
       "    <tr>\n",
       "      <th>13</th>\n",
       "      <td>2019</td>\n",
       "      <td>2</td>\n",
       "      <td>5310.0</td>\n",
       "    </tr>\n",
       "    <tr>\n",
       "      <th>17</th>\n",
       "      <td>2019</td>\n",
       "      <td>6</td>\n",
       "      <td>4974.0</td>\n",
       "    </tr>\n",
       "    <tr>\n",
       "      <th>4</th>\n",
       "      <td>2018</td>\n",
       "      <td>5</td>\n",
       "      <td>4667.5</td>\n",
       "    </tr>\n",
       "    <tr>\n",
       "      <th>16</th>\n",
       "      <td>2019</td>\n",
       "      <td>5</td>\n",
       "      <td>4132.0</td>\n",
       "    </tr>\n",
       "    <tr>\n",
       "      <th>3</th>\n",
       "      <td>2018</td>\n",
       "      <td>4</td>\n",
       "      <td>4051.0</td>\n",
       "    </tr>\n",
       "    <tr>\n",
       "      <th>12</th>\n",
       "      <td>2019</td>\n",
       "      <td>1</td>\n",
       "      <td>3936.0</td>\n",
       "    </tr>\n",
       "    <tr>\n",
       "      <th>6</th>\n",
       "      <td>2018</td>\n",
       "      <td>7</td>\n",
       "      <td>3934.5</td>\n",
       "    </tr>\n",
       "    <tr>\n",
       "      <th>7</th>\n",
       "      <td>2018</td>\n",
       "      <td>8</td>\n",
       "      <td>3819.0</td>\n",
       "    </tr>\n",
       "    <tr>\n",
       "      <th>10</th>\n",
       "      <td>2018</td>\n",
       "      <td>11</td>\n",
       "      <td>3785.0</td>\n",
       "    </tr>\n",
       "    <tr>\n",
       "      <th>23</th>\n",
       "      <td>2019</td>\n",
       "      <td>12</td>\n",
       "      <td>3662.5</td>\n",
       "    </tr>\n",
       "    <tr>\n",
       "      <th>14</th>\n",
       "      <td>2019</td>\n",
       "      <td>3</td>\n",
       "      <td>3538.5</td>\n",
       "    </tr>\n",
       "    <tr>\n",
       "      <th>5</th>\n",
       "      <td>2018</td>\n",
       "      <td>6</td>\n",
       "      <td>3494.5</td>\n",
       "    </tr>\n",
       "    <tr>\n",
       "      <th>19</th>\n",
       "      <td>2019</td>\n",
       "      <td>8</td>\n",
       "      <td>3159.5</td>\n",
       "    </tr>\n",
       "    <tr>\n",
       "      <th>8</th>\n",
       "      <td>2018</td>\n",
       "      <td>9</td>\n",
       "      <td>2966.5</td>\n",
       "    </tr>\n",
       "    <tr>\n",
       "      <th>15</th>\n",
       "      <td>2019</td>\n",
       "      <td>4</td>\n",
       "      <td>2709.5</td>\n",
       "    </tr>\n",
       "    <tr>\n",
       "      <th>21</th>\n",
       "      <td>2019</td>\n",
       "      <td>10</td>\n",
       "      <td>2519.5</td>\n",
       "    </tr>\n",
       "    <tr>\n",
       "      <th>2</th>\n",
       "      <td>2018</td>\n",
       "      <td>3</td>\n",
       "      <td>2207.0</td>\n",
       "    </tr>\n",
       "    <tr>\n",
       "      <th>1</th>\n",
       "      <td>2018</td>\n",
       "      <td>2</td>\n",
       "      <td>2124.5</td>\n",
       "    </tr>\n",
       "    <tr>\n",
       "      <th>9</th>\n",
       "      <td>2018</td>\n",
       "      <td>10</td>\n",
       "      <td>2109.0</td>\n",
       "    </tr>\n",
       "    <tr>\n",
       "      <th>0</th>\n",
       "      <td>2018</td>\n",
       "      <td>1</td>\n",
       "      <td>1989.5</td>\n",
       "    </tr>\n",
       "    <tr>\n",
       "      <th>11</th>\n",
       "      <td>2018</td>\n",
       "      <td>12</td>\n",
       "      <td>1663.0</td>\n",
       "    </tr>\n",
       "    <tr>\n",
       "      <th>20</th>\n",
       "      <td>2019</td>\n",
       "      <td>9</td>\n",
       "      <td>1574.5</td>\n",
       "    </tr>\n",
       "    <tr>\n",
       "      <th>22</th>\n",
       "      <td>2019</td>\n",
       "      <td>11</td>\n",
       "      <td>1154.0</td>\n",
       "    </tr>\n",
       "  </tbody>\n",
       "</table>\n",
       "</div>"
      ],
      "text/plain": [
       "    Year  Month  month_delay_avg\n",
       "18  2019      7           6254.0\n",
       "13  2019      2           5310.0\n",
       "17  2019      6           4974.0\n",
       "4   2018      5           4667.5\n",
       "16  2019      5           4132.0\n",
       "3   2018      4           4051.0\n",
       "12  2019      1           3936.0\n",
       "6   2018      7           3934.5\n",
       "7   2018      8           3819.0\n",
       "10  2018     11           3785.0\n",
       "23  2019     12           3662.5\n",
       "14  2019      3           3538.5\n",
       "5   2018      6           3494.5\n",
       "19  2019      8           3159.5\n",
       "8   2018      9           2966.5\n",
       "15  2019      4           2709.5\n",
       "21  2019     10           2519.5\n",
       "2   2018      3           2207.0\n",
       "1   2018      2           2124.5\n",
       "9   2018     10           2109.0\n",
       "0   2018      1           1989.5\n",
       "11  2018     12           1663.0\n",
       "20  2019      9           1574.5\n",
       "22  2019     11           1154.0"
      ]
     },
     "execution_count": 17,
     "metadata": {},
     "output_type": "execute_result"
    }
   ],
   "source": [
    "#Sort DataFrame based on new month_delay_avg column in descending order\n",
    "print(\"Delay Times in Minutes:\")\n",
    "delays_grouped[['Year', 'Month', 'month_delay_avg']].sort_values(['month_delay_avg'], ascending=False)"
   ]
  },
  {
   "cell_type": "markdown",
   "id": "48cef78c-d4de-4589-b370-a9d45060cd8b",
   "metadata": {},
   "source": [
    "The average monthy delay is quite different throughout the year, with the top five averages consisting in large part of the summer months. This could be due to a multitude of factors, a prime example being summer vacation traffic."
   ]
  },
  {
   "cell_type": "code",
   "execution_count": null,
   "id": "51f5eeb9-9f9d-4064-a55a-4ccf42a18b84",
   "metadata": {},
   "outputs": [],
   "source": []
  }
 ],
 "metadata": {
  "kernelspec": {
   "display_name": "Python 3 (ipykernel)",
   "language": "python",
   "name": "python3"
  },
  "language_info": {
   "codemirror_mode": {
    "name": "ipython",
    "version": 3
   },
   "file_extension": ".py",
   "mimetype": "text/x-python",
   "name": "python",
   "nbconvert_exporter": "python",
   "pygments_lexer": "ipython3",
   "version": "3.8.13"
  }
 },
 "nbformat": 4,
 "nbformat_minor": 5
}
