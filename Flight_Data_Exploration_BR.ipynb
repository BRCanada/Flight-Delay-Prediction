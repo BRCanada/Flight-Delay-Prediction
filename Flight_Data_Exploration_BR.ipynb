{
 "cells": [
  {
   "cell_type": "markdown",
   "metadata": {
    "tags": []
   },
   "source": [
    "## Exploratory Data Analysis\n",
    "\n",
    "Use this notebook to get familiar with the datasets we have. There is 10 questions we need to answer during the EDA.\n",
    "\n",
    "\n",
    "We shouldn't limit our EDA to these 10 questions. Let's be creative :)."
   ]
  },
  {
   "cell_type": "code",
   "execution_count": 1,
   "metadata": {},
   "outputs": [],
   "source": [
    "# Import Pandas and Numpy to deal with DataFrames and NaN\n",
    "import pandas as pd\n",
    "import numpy as np\n",
    "\n",
    "# Import MatPlotLib and Seaborn to help visualize the data\n",
    "import matplotlib.pyplot as plt\n",
    "import seaborn as sns\n",
    "\n",
    "# Import os for file reader\n",
    "import os"
   ]
  },
  {
   "cell_type": "code",
   "execution_count": 2,
   "metadata": {},
   "outputs": [
    {
     "name": "stdout",
     "output_type": "stream",
     "text": [
      "/Users/brandonrose/Midterm_Project\n"
     ]
    }
   ],
   "source": [
    "# Get current working directory\n",
    "current_directory = os.getcwd()\n",
    "print(current_directory)"
   ]
  },
  {
   "cell_type": "code",
   "execution_count": 3,
   "metadata": {},
   "outputs": [],
   "source": [
    "# Pull the data from csv by concatenating current working directory with\n",
    "# '/data/flights_10000.csv'\n",
    "data = pd.read_csv(current_directory +'/data/flights_10000.csv')\n",
    "passengers = pd.read_csv(current_directory +'/data/passengers_10000.csv')"
   ]
  },
  {
   "cell_type": "code",
   "execution_count": 4,
   "metadata": {},
   "outputs": [
    {
     "data": {
      "text/html": [
       "<div>\n",
       "<style scoped>\n",
       "    .dataframe tbody tr th:only-of-type {\n",
       "        vertical-align: middle;\n",
       "    }\n",
       "\n",
       "    .dataframe tbody tr th {\n",
       "        vertical-align: top;\n",
       "    }\n",
       "\n",
       "    .dataframe thead th {\n",
       "        text-align: right;\n",
       "    }\n",
       "</style>\n",
       "<table border=\"1\" class=\"dataframe\">\n",
       "  <thead>\n",
       "    <tr style=\"text-align: right;\">\n",
       "      <th></th>\n",
       "      <th>Unnamed: 0</th>\n",
       "      <th>fl_date</th>\n",
       "      <th>mkt_unique_carrier</th>\n",
       "      <th>branded_code_share</th>\n",
       "      <th>mkt_carrier</th>\n",
       "      <th>mkt_carrier_fl_num</th>\n",
       "      <th>op_unique_carrier</th>\n",
       "      <th>tail_num</th>\n",
       "      <th>op_carrier_fl_num</th>\n",
       "      <th>origin_airport_id</th>\n",
       "      <th>...</th>\n",
       "      <th>distance</th>\n",
       "      <th>carrier_delay</th>\n",
       "      <th>weather_delay</th>\n",
       "      <th>nas_delay</th>\n",
       "      <th>security_delay</th>\n",
       "      <th>late_aircraft_delay</th>\n",
       "      <th>first_dep_time</th>\n",
       "      <th>total_add_gtime</th>\n",
       "      <th>longest_add_gtime</th>\n",
       "      <th>no_name</th>\n",
       "    </tr>\n",
       "  </thead>\n",
       "  <tbody>\n",
       "    <tr>\n",
       "      <th>0</th>\n",
       "      <td>0</td>\n",
       "      <td>2018-07-10</td>\n",
       "      <td>WN</td>\n",
       "      <td>WN</td>\n",
       "      <td>WN</td>\n",
       "      <td>2212</td>\n",
       "      <td>WN</td>\n",
       "      <td>N958WN</td>\n",
       "      <td>2212</td>\n",
       "      <td>14683</td>\n",
       "      <td>...</td>\n",
       "      <td>822.0</td>\n",
       "      <td>NaN</td>\n",
       "      <td>NaN</td>\n",
       "      <td>NaN</td>\n",
       "      <td>NaN</td>\n",
       "      <td>NaN</td>\n",
       "      <td>NaN</td>\n",
       "      <td>NaN</td>\n",
       "      <td>NaN</td>\n",
       "      <td>NaN</td>\n",
       "    </tr>\n",
       "    <tr>\n",
       "      <th>1</th>\n",
       "      <td>1</td>\n",
       "      <td>2019-10-10</td>\n",
       "      <td>UA</td>\n",
       "      <td>UA</td>\n",
       "      <td>UA</td>\n",
       "      <td>206</td>\n",
       "      <td>UA</td>\n",
       "      <td>N68811</td>\n",
       "      <td>206</td>\n",
       "      <td>13930</td>\n",
       "      <td>...</td>\n",
       "      <td>1005.0</td>\n",
       "      <td>NaN</td>\n",
       "      <td>NaN</td>\n",
       "      <td>NaN</td>\n",
       "      <td>NaN</td>\n",
       "      <td>NaN</td>\n",
       "      <td>NaN</td>\n",
       "      <td>NaN</td>\n",
       "      <td>NaN</td>\n",
       "      <td>NaN</td>\n",
       "    </tr>\n",
       "    <tr>\n",
       "      <th>2</th>\n",
       "      <td>2</td>\n",
       "      <td>2019-07-18</td>\n",
       "      <td>AA</td>\n",
       "      <td>AA_CODESHARE</td>\n",
       "      <td>AA</td>\n",
       "      <td>4221</td>\n",
       "      <td>MQ</td>\n",
       "      <td>N694AE</td>\n",
       "      <td>4221</td>\n",
       "      <td>12891</td>\n",
       "      <td>...</td>\n",
       "      <td>140.0</td>\n",
       "      <td>NaN</td>\n",
       "      <td>NaN</td>\n",
       "      <td>NaN</td>\n",
       "      <td>NaN</td>\n",
       "      <td>NaN</td>\n",
       "      <td>NaN</td>\n",
       "      <td>NaN</td>\n",
       "      <td>NaN</td>\n",
       "      <td>NaN</td>\n",
       "    </tr>\n",
       "    <tr>\n",
       "      <th>3</th>\n",
       "      <td>3</td>\n",
       "      <td>2018-11-25</td>\n",
       "      <td>UA</td>\n",
       "      <td>UA_CODESHARE</td>\n",
       "      <td>UA</td>\n",
       "      <td>4822</td>\n",
       "      <td>ZW</td>\n",
       "      <td>NaN</td>\n",
       "      <td>4822</td>\n",
       "      <td>14685</td>\n",
       "      <td>...</td>\n",
       "      <td>773.0</td>\n",
       "      <td>NaN</td>\n",
       "      <td>NaN</td>\n",
       "      <td>NaN</td>\n",
       "      <td>NaN</td>\n",
       "      <td>NaN</td>\n",
       "      <td>NaN</td>\n",
       "      <td>NaN</td>\n",
       "      <td>NaN</td>\n",
       "      <td>NaN</td>\n",
       "    </tr>\n",
       "    <tr>\n",
       "      <th>4</th>\n",
       "      <td>4</td>\n",
       "      <td>2018-10-24</td>\n",
       "      <td>DL</td>\n",
       "      <td>DL</td>\n",
       "      <td>DL</td>\n",
       "      <td>957</td>\n",
       "      <td>DL</td>\n",
       "      <td>N693DL</td>\n",
       "      <td>957</td>\n",
       "      <td>11433</td>\n",
       "      <td>...</td>\n",
       "      <td>1960.0</td>\n",
       "      <td>0.0</td>\n",
       "      <td>0.0</td>\n",
       "      <td>28.0</td>\n",
       "      <td>0.0</td>\n",
       "      <td>0.0</td>\n",
       "      <td>NaN</td>\n",
       "      <td>NaN</td>\n",
       "      <td>NaN</td>\n",
       "      <td>NaN</td>\n",
       "    </tr>\n",
       "  </tbody>\n",
       "</table>\n",
       "<p>5 rows × 43 columns</p>\n",
       "</div>"
      ],
      "text/plain": [
       "   Unnamed: 0     fl_date mkt_unique_carrier branded_code_share mkt_carrier  \\\n",
       "0           0  2018-07-10                 WN                 WN          WN   \n",
       "1           1  2019-10-10                 UA                 UA          UA   \n",
       "2           2  2019-07-18                 AA       AA_CODESHARE          AA   \n",
       "3           3  2018-11-25                 UA       UA_CODESHARE          UA   \n",
       "4           4  2018-10-24                 DL                 DL          DL   \n",
       "\n",
       "   mkt_carrier_fl_num op_unique_carrier tail_num  op_carrier_fl_num  \\\n",
       "0                2212                WN   N958WN               2212   \n",
       "1                 206                UA   N68811                206   \n",
       "2                4221                MQ   N694AE               4221   \n",
       "3                4822                ZW      NaN               4822   \n",
       "4                 957                DL   N693DL                957   \n",
       "\n",
       "   origin_airport_id  ... distance carrier_delay  weather_delay nas_delay  \\\n",
       "0              14683  ...    822.0           NaN            NaN       NaN   \n",
       "1              13930  ...   1005.0           NaN            NaN       NaN   \n",
       "2              12891  ...    140.0           NaN            NaN       NaN   \n",
       "3              14685  ...    773.0           NaN            NaN       NaN   \n",
       "4              11433  ...   1960.0           0.0            0.0      28.0   \n",
       "\n",
       "  security_delay  late_aircraft_delay  first_dep_time  total_add_gtime  \\\n",
       "0            NaN                  NaN             NaN              NaN   \n",
       "1            NaN                  NaN             NaN              NaN   \n",
       "2            NaN                  NaN             NaN              NaN   \n",
       "3            NaN                  NaN             NaN              NaN   \n",
       "4            0.0                  0.0             NaN              NaN   \n",
       "\n",
       "   longest_add_gtime  no_name  \n",
       "0                NaN      NaN  \n",
       "1                NaN      NaN  \n",
       "2                NaN      NaN  \n",
       "3                NaN      NaN  \n",
       "4                NaN      NaN  \n",
       "\n",
       "[5 rows x 43 columns]"
      ]
     },
     "execution_count": 4,
     "metadata": {},
     "output_type": "execute_result"
    }
   ],
   "source": [
    "data.head()"
   ]
  },
  {
   "cell_type": "code",
   "execution_count": 5,
   "metadata": {},
   "outputs": [
    {
     "data": {
      "text/plain": [
       "Series([], Name: no_name, dtype: int64)"
      ]
     },
     "execution_count": 5,
     "metadata": {},
     "output_type": "execute_result"
    }
   ],
   "source": [
    "data['no_name'].value_counts()"
   ]
  },
  {
   "cell_type": "code",
   "execution_count": 6,
   "metadata": {},
   "outputs": [
    {
     "data": {
      "text/plain": [
       "Index(['Unnamed: 0', 'fl_date', 'mkt_unique_carrier', 'branded_code_share',\n",
       "       'mkt_carrier', 'mkt_carrier_fl_num', 'op_unique_carrier', 'tail_num',\n",
       "       'op_carrier_fl_num', 'origin_airport_id', 'origin', 'origin_city_name',\n",
       "       'dest_airport_id', 'dest', 'dest_city_name', 'crs_dep_time', 'dep_time',\n",
       "       'dep_delay', 'taxi_out', 'wheels_off', 'wheels_on', 'taxi_in',\n",
       "       'crs_arr_time', 'arr_time', 'arr_delay', 'cancelled',\n",
       "       'cancellation_code', 'diverted', 'dup', 'crs_elapsed_time',\n",
       "       'actual_elapsed_time', 'air_time', 'flights', 'distance',\n",
       "       'carrier_delay', 'weather_delay', 'nas_delay', 'security_delay',\n",
       "       'late_aircraft_delay', 'first_dep_time', 'total_add_gtime',\n",
       "       'longest_add_gtime', 'no_name'],\n",
       "      dtype='object')"
      ]
     },
     "execution_count": 6,
     "metadata": {},
     "output_type": "execute_result"
    }
   ],
   "source": [
    "data.columns"
   ]
  },
  {
   "cell_type": "code",
   "execution_count": 7,
   "metadata": {},
   "outputs": [],
   "source": [
    "data.drop(['Unnamed: 0', 'no_name'], axis=1, inplace=True)"
   ]
  },
  {
   "cell_type": "code",
   "execution_count": 8,
   "metadata": {},
   "outputs": [
    {
     "data": {
      "text/html": [
       "<div>\n",
       "<style scoped>\n",
       "    .dataframe tbody tr th:only-of-type {\n",
       "        vertical-align: middle;\n",
       "    }\n",
       "\n",
       "    .dataframe tbody tr th {\n",
       "        vertical-align: top;\n",
       "    }\n",
       "\n",
       "    .dataframe thead th {\n",
       "        text-align: right;\n",
       "    }\n",
       "</style>\n",
       "<table border=\"1\" class=\"dataframe\">\n",
       "  <thead>\n",
       "    <tr style=\"text-align: right;\">\n",
       "      <th></th>\n",
       "      <th>fl_date</th>\n",
       "      <th>mkt_unique_carrier</th>\n",
       "      <th>branded_code_share</th>\n",
       "      <th>mkt_carrier</th>\n",
       "      <th>mkt_carrier_fl_num</th>\n",
       "      <th>op_unique_carrier</th>\n",
       "      <th>tail_num</th>\n",
       "      <th>op_carrier_fl_num</th>\n",
       "      <th>origin_airport_id</th>\n",
       "      <th>origin</th>\n",
       "      <th>...</th>\n",
       "      <th>flights</th>\n",
       "      <th>distance</th>\n",
       "      <th>carrier_delay</th>\n",
       "      <th>weather_delay</th>\n",
       "      <th>nas_delay</th>\n",
       "      <th>security_delay</th>\n",
       "      <th>late_aircraft_delay</th>\n",
       "      <th>first_dep_time</th>\n",
       "      <th>total_add_gtime</th>\n",
       "      <th>longest_add_gtime</th>\n",
       "    </tr>\n",
       "  </thead>\n",
       "  <tbody>\n",
       "    <tr>\n",
       "      <th>0</th>\n",
       "      <td>2018-07-10</td>\n",
       "      <td>WN</td>\n",
       "      <td>WN</td>\n",
       "      <td>WN</td>\n",
       "      <td>2212</td>\n",
       "      <td>WN</td>\n",
       "      <td>N958WN</td>\n",
       "      <td>2212</td>\n",
       "      <td>14683</td>\n",
       "      <td>SAT</td>\n",
       "      <td>...</td>\n",
       "      <td>1.0</td>\n",
       "      <td>822.0</td>\n",
       "      <td>NaN</td>\n",
       "      <td>NaN</td>\n",
       "      <td>NaN</td>\n",
       "      <td>NaN</td>\n",
       "      <td>NaN</td>\n",
       "      <td>NaN</td>\n",
       "      <td>NaN</td>\n",
       "      <td>NaN</td>\n",
       "    </tr>\n",
       "    <tr>\n",
       "      <th>1</th>\n",
       "      <td>2019-10-10</td>\n",
       "      <td>UA</td>\n",
       "      <td>UA</td>\n",
       "      <td>UA</td>\n",
       "      <td>206</td>\n",
       "      <td>UA</td>\n",
       "      <td>N68811</td>\n",
       "      <td>206</td>\n",
       "      <td>13930</td>\n",
       "      <td>ORD</td>\n",
       "      <td>...</td>\n",
       "      <td>1.0</td>\n",
       "      <td>1005.0</td>\n",
       "      <td>NaN</td>\n",
       "      <td>NaN</td>\n",
       "      <td>NaN</td>\n",
       "      <td>NaN</td>\n",
       "      <td>NaN</td>\n",
       "      <td>NaN</td>\n",
       "      <td>NaN</td>\n",
       "      <td>NaN</td>\n",
       "    </tr>\n",
       "    <tr>\n",
       "      <th>2</th>\n",
       "      <td>2019-07-18</td>\n",
       "      <td>AA</td>\n",
       "      <td>AA_CODESHARE</td>\n",
       "      <td>AA</td>\n",
       "      <td>4221</td>\n",
       "      <td>MQ</td>\n",
       "      <td>N694AE</td>\n",
       "      <td>4221</td>\n",
       "      <td>12891</td>\n",
       "      <td>LAW</td>\n",
       "      <td>...</td>\n",
       "      <td>1.0</td>\n",
       "      <td>140.0</td>\n",
       "      <td>NaN</td>\n",
       "      <td>NaN</td>\n",
       "      <td>NaN</td>\n",
       "      <td>NaN</td>\n",
       "      <td>NaN</td>\n",
       "      <td>NaN</td>\n",
       "      <td>NaN</td>\n",
       "      <td>NaN</td>\n",
       "    </tr>\n",
       "    <tr>\n",
       "      <th>3</th>\n",
       "      <td>2018-11-25</td>\n",
       "      <td>UA</td>\n",
       "      <td>UA_CODESHARE</td>\n",
       "      <td>UA</td>\n",
       "      <td>4822</td>\n",
       "      <td>ZW</td>\n",
       "      <td>NaN</td>\n",
       "      <td>4822</td>\n",
       "      <td>14685</td>\n",
       "      <td>SAV</td>\n",
       "      <td>...</td>\n",
       "      <td>1.0</td>\n",
       "      <td>773.0</td>\n",
       "      <td>NaN</td>\n",
       "      <td>NaN</td>\n",
       "      <td>NaN</td>\n",
       "      <td>NaN</td>\n",
       "      <td>NaN</td>\n",
       "      <td>NaN</td>\n",
       "      <td>NaN</td>\n",
       "      <td>NaN</td>\n",
       "    </tr>\n",
       "    <tr>\n",
       "      <th>4</th>\n",
       "      <td>2018-10-24</td>\n",
       "      <td>DL</td>\n",
       "      <td>DL</td>\n",
       "      <td>DL</td>\n",
       "      <td>957</td>\n",
       "      <td>DL</td>\n",
       "      <td>N693DL</td>\n",
       "      <td>957</td>\n",
       "      <td>11433</td>\n",
       "      <td>DTW</td>\n",
       "      <td>...</td>\n",
       "      <td>1.0</td>\n",
       "      <td>1960.0</td>\n",
       "      <td>0.0</td>\n",
       "      <td>0.0</td>\n",
       "      <td>28.0</td>\n",
       "      <td>0.0</td>\n",
       "      <td>0.0</td>\n",
       "      <td>NaN</td>\n",
       "      <td>NaN</td>\n",
       "      <td>NaN</td>\n",
       "    </tr>\n",
       "  </tbody>\n",
       "</table>\n",
       "<p>5 rows × 41 columns</p>\n",
       "</div>"
      ],
      "text/plain": [
       "      fl_date mkt_unique_carrier branded_code_share mkt_carrier  \\\n",
       "0  2018-07-10                 WN                 WN          WN   \n",
       "1  2019-10-10                 UA                 UA          UA   \n",
       "2  2019-07-18                 AA       AA_CODESHARE          AA   \n",
       "3  2018-11-25                 UA       UA_CODESHARE          UA   \n",
       "4  2018-10-24                 DL                 DL          DL   \n",
       "\n",
       "   mkt_carrier_fl_num op_unique_carrier tail_num  op_carrier_fl_num  \\\n",
       "0                2212                WN   N958WN               2212   \n",
       "1                 206                UA   N68811                206   \n",
       "2                4221                MQ   N694AE               4221   \n",
       "3                4822                ZW      NaN               4822   \n",
       "4                 957                DL   N693DL                957   \n",
       "\n",
       "   origin_airport_id origin  ... flights  distance carrier_delay  \\\n",
       "0              14683    SAT  ...     1.0     822.0           NaN   \n",
       "1              13930    ORD  ...     1.0    1005.0           NaN   \n",
       "2              12891    LAW  ...     1.0     140.0           NaN   \n",
       "3              14685    SAV  ...     1.0     773.0           NaN   \n",
       "4              11433    DTW  ...     1.0    1960.0           0.0   \n",
       "\n",
       "  weather_delay  nas_delay  security_delay  late_aircraft_delay  \\\n",
       "0           NaN        NaN             NaN                  NaN   \n",
       "1           NaN        NaN             NaN                  NaN   \n",
       "2           NaN        NaN             NaN                  NaN   \n",
       "3           NaN        NaN             NaN                  NaN   \n",
       "4           0.0       28.0             0.0                  0.0   \n",
       "\n",
       "   first_dep_time  total_add_gtime  longest_add_gtime  \n",
       "0             NaN              NaN                NaN  \n",
       "1             NaN              NaN                NaN  \n",
       "2             NaN              NaN                NaN  \n",
       "3             NaN              NaN                NaN  \n",
       "4             NaN              NaN                NaN  \n",
       "\n",
       "[5 rows x 41 columns]"
      ]
     },
     "execution_count": 8,
     "metadata": {},
     "output_type": "execute_result"
    }
   ],
   "source": [
    "data.head()"
   ]
  },
  {
   "cell_type": "markdown",
   "metadata": {
    "tags": []
   },
   "source": [
    "## COLUMN CLEANER FOR API"
   ]
  },
  {
   "cell_type": "code",
   "execution_count": 9,
   "metadata": {},
   "outputs": [],
   "source": [
    "city_data = data[['origin_city_name', 'dest_city_name']]"
   ]
  },
  {
   "cell_type": "code",
   "execution_count": 10,
   "metadata": {},
   "outputs": [
    {
     "data": {
      "text/html": [
       "<div>\n",
       "<style scoped>\n",
       "    .dataframe tbody tr th:only-of-type {\n",
       "        vertical-align: middle;\n",
       "    }\n",
       "\n",
       "    .dataframe tbody tr th {\n",
       "        vertical-align: top;\n",
       "    }\n",
       "\n",
       "    .dataframe thead th {\n",
       "        text-align: right;\n",
       "    }\n",
       "</style>\n",
       "<table border=\"1\" class=\"dataframe\">\n",
       "  <thead>\n",
       "    <tr style=\"text-align: right;\">\n",
       "      <th></th>\n",
       "      <th>origin_city_name</th>\n",
       "      <th>dest_city_name</th>\n",
       "    </tr>\n",
       "  </thead>\n",
       "  <tbody>\n",
       "    <tr>\n",
       "      <th>0</th>\n",
       "      <td>San Antonio, TX</td>\n",
       "      <td>Nashville, TN</td>\n",
       "    </tr>\n",
       "    <tr>\n",
       "      <th>1</th>\n",
       "      <td>Chicago, IL</td>\n",
       "      <td>Orlando, FL</td>\n",
       "    </tr>\n",
       "    <tr>\n",
       "      <th>2</th>\n",
       "      <td>Lawton/Fort Sill, OK</td>\n",
       "      <td>Dallas/Fort Worth, TX</td>\n",
       "    </tr>\n",
       "    <tr>\n",
       "      <th>3</th>\n",
       "      <td>Savannah, GA</td>\n",
       "      <td>Chicago, IL</td>\n",
       "    </tr>\n",
       "    <tr>\n",
       "      <th>4</th>\n",
       "      <td>Detroit, MI</td>\n",
       "      <td>Santa Ana, CA</td>\n",
       "    </tr>\n",
       "  </tbody>\n",
       "</table>\n",
       "</div>"
      ],
      "text/plain": [
       "       origin_city_name         dest_city_name\n",
       "0       San Antonio, TX          Nashville, TN\n",
       "1           Chicago, IL            Orlando, FL\n",
       "2  Lawton/Fort Sill, OK  Dallas/Fort Worth, TX\n",
       "3          Savannah, GA            Chicago, IL\n",
       "4           Detroit, MI          Santa Ana, CA"
      ]
     },
     "execution_count": 10,
     "metadata": {},
     "output_type": "execute_result"
    }
   ],
   "source": [
    "city_data.head()"
   ]
  },
  {
   "cell_type": "code",
   "execution_count": 11,
   "metadata": {},
   "outputs": [],
   "source": [
    "city_scrubber = city_data.loc[city_data['origin_city_name'].str.contains(\"/\", case=False)]"
   ]
  },
  {
   "cell_type": "code",
   "execution_count": 12,
   "metadata": {
    "tags": []
   },
   "outputs": [],
   "source": [
    "for column in city_scrubber:\n",
    "    for index, item in enumerate(city_scrubber[column]):\n",
    "        new_item = item.split('/')[0]\n",
    "        city_scrubber.loc[city_scrubber.index[index], column].replace(item, new_item)"
   ]
  },
  {
   "cell_type": "code",
   "execution_count": 13,
   "metadata": {},
   "outputs": [
    {
     "data": {
      "text/html": [
       "<div>\n",
       "<style scoped>\n",
       "    .dataframe tbody tr th:only-of-type {\n",
       "        vertical-align: middle;\n",
       "    }\n",
       "\n",
       "    .dataframe tbody tr th {\n",
       "        vertical-align: top;\n",
       "    }\n",
       "\n",
       "    .dataframe thead th {\n",
       "        text-align: right;\n",
       "    }\n",
       "</style>\n",
       "<table border=\"1\" class=\"dataframe\">\n",
       "  <thead>\n",
       "    <tr style=\"text-align: right;\">\n",
       "      <th></th>\n",
       "      <th>origin_city_name</th>\n",
       "      <th>dest_city_name</th>\n",
       "    </tr>\n",
       "  </thead>\n",
       "  <tbody>\n",
       "    <tr>\n",
       "      <th>2</th>\n",
       "      <td>Lawton/Fort Sill, OK</td>\n",
       "      <td>Dallas/Fort Worth, TX</td>\n",
       "    </tr>\n",
       "    <tr>\n",
       "      <th>7</th>\n",
       "      <td>Allentown/Bethlehem/Easton, PA</td>\n",
       "      <td>Sanford, FL</td>\n",
       "    </tr>\n",
       "    <tr>\n",
       "      <th>11</th>\n",
       "      <td>Jackson/Vicksburg, MS</td>\n",
       "      <td>Atlanta, GA</td>\n",
       "    </tr>\n",
       "    <tr>\n",
       "      <th>18</th>\n",
       "      <td>Raleigh/Durham, NC</td>\n",
       "      <td>Newark, NJ</td>\n",
       "    </tr>\n",
       "    <tr>\n",
       "      <th>61</th>\n",
       "      <td>Raleigh/Durham, NC</td>\n",
       "      <td>Los Angeles, CA</td>\n",
       "    </tr>\n",
       "    <tr>\n",
       "      <th>...</th>\n",
       "      <td>...</td>\n",
       "      <td>...</td>\n",
       "    </tr>\n",
       "    <tr>\n",
       "      <th>9928</th>\n",
       "      <td>Sun Valley/Hailey/Ketchum, ID</td>\n",
       "      <td>Los Angeles, CA</td>\n",
       "    </tr>\n",
       "    <tr>\n",
       "      <th>9937</th>\n",
       "      <td>Dallas/Fort Worth, TX</td>\n",
       "      <td>New York, NY</td>\n",
       "    </tr>\n",
       "    <tr>\n",
       "      <th>9947</th>\n",
       "      <td>Raleigh/Durham, NC</td>\n",
       "      <td>Boston, MA</td>\n",
       "    </tr>\n",
       "    <tr>\n",
       "      <th>9986</th>\n",
       "      <td>Dallas/Fort Worth, TX</td>\n",
       "      <td>Baltimore, MD</td>\n",
       "    </tr>\n",
       "    <tr>\n",
       "      <th>9992</th>\n",
       "      <td>Greensboro/High Point, NC</td>\n",
       "      <td>New York, NY</td>\n",
       "    </tr>\n",
       "  </tbody>\n",
       "</table>\n",
       "<p>702 rows × 2 columns</p>\n",
       "</div>"
      ],
      "text/plain": [
       "                    origin_city_name         dest_city_name\n",
       "2               Lawton/Fort Sill, OK  Dallas/Fort Worth, TX\n",
       "7     Allentown/Bethlehem/Easton, PA            Sanford, FL\n",
       "11             Jackson/Vicksburg, MS            Atlanta, GA\n",
       "18                Raleigh/Durham, NC             Newark, NJ\n",
       "61                Raleigh/Durham, NC        Los Angeles, CA\n",
       "...                              ...                    ...\n",
       "9928   Sun Valley/Hailey/Ketchum, ID        Los Angeles, CA\n",
       "9937           Dallas/Fort Worth, TX           New York, NY\n",
       "9947              Raleigh/Durham, NC             Boston, MA\n",
       "9986           Dallas/Fort Worth, TX          Baltimore, MD\n",
       "9992       Greensboro/High Point, NC           New York, NY\n",
       "\n",
       "[702 rows x 2 columns]"
      ]
     },
     "execution_count": 13,
     "metadata": {},
     "output_type": "execute_result"
    }
   ],
   "source": [
    "city_scrubber"
   ]
  },
  {
   "cell_type": "markdown",
   "metadata": {
    "tags": []
   },
   "source": [
    "### **Task 1**: Test the hypothesis that the delay is from Normal distribution. and that **mean** of the delay is 0. Be careful about the outliers."
   ]
  },
  {
   "cell_type": "code",
   "execution_count": 14,
   "metadata": {},
   "outputs": [
    {
     "data": {
      "text/plain": [
       "<seaborn.axisgrid.FacetGrid at 0x146f27520>"
      ]
     },
     "execution_count": 14,
     "metadata": {},
     "output_type": "execute_result"
    },
    {
     "data": {
      "image/png": "[encoded data removed]",
      "text/plain": [
       "<Figure size 621.375x500 with 1 Axes>"
      ]
     },
     "metadata": {},
     "output_type": "display_data"
    }
   ],
   "source": [
    "sns.displot(data[['arr_delay', 'dep_delay']])"
   ]
  },
  {
   "cell_type": "code",
   "execution_count": 15,
   "metadata": {},
   "outputs": [
    {
     "data": {
      "text/plain": [
       "<AxesSubplot:xlabel='arr_delay', ylabel='dep_delay'>"
      ]
     },
     "execution_count": 15,
     "metadata": {},
     "output_type": "execute_result"
    },
    {
     "data": {
      "image/png": "[encoded data removed]",
      "text/plain": [
       "<Figure size 640x480 with 1 Axes>"
      ]
     },
     "metadata": {},
     "output_type": "display_data"
    }
   ],
   "source": [
    "sns.scatterplot(data, x='arr_delay', y='dep_delay')"
   ]
  },
  {
   "cell_type": "code",
   "execution_count": 16,
   "metadata": {},
   "outputs": [],
   "source": [
    "# Isolate the rows that ONLY have an arrival or departure delay\n",
    "delay_times = data[((data['arr_delay'] > 0) & (data['arr_delay'] < 400)) | ((data['dep_delay'] > 0) & (data['dep_delay'] < 400))].reset_index()"
   ]
  },
  {
   "cell_type": "code",
   "execution_count": 17,
   "metadata": {},
   "outputs": [
    {
     "data": {
      "text/plain": [
       "<AxesSubplot:xlabel='arr_delay', ylabel='dep_delay'>"
      ]
     },
     "execution_count": 17,
     "metadata": {},
     "output_type": "execute_result"
    },
    {
     "data": {
      "image/png": "[encoded data removed]",
      "text/plain": [
       "<Figure size 640x480 with 1 Axes>"
      ]
     },
     "metadata": {},
     "output_type": "display_data"
    }
   ],
   "source": [
    "sns.scatterplot(delay_times, x='arr_delay', y='dep_delay')"
   ]
  },
  {
   "cell_type": "code",
   "execution_count": 18,
   "metadata": {},
   "outputs": [],
   "source": [
    "# Isolate the delay times\n",
    "delays_only_df = delay_times.loc[:, ['arr_delay', 'dep_delay']]"
   ]
  },
  {
   "cell_type": "code",
   "execution_count": 19,
   "metadata": {},
   "outputs": [
    {
     "data": {
      "text/html": [
       "<div>\n",
       "<style scoped>\n",
       "    .dataframe tbody tr th:only-of-type {\n",
       "        vertical-align: middle;\n",
       "    }\n",
       "\n",
       "    .dataframe tbody tr th {\n",
       "        vertical-align: top;\n",
       "    }\n",
       "\n",
       "    .dataframe thead th {\n",
       "        text-align: right;\n",
       "    }\n",
       "</style>\n",
       "<table border=\"1\" class=\"dataframe\">\n",
       "  <thead>\n",
       "    <tr style=\"text-align: right;\">\n",
       "      <th></th>\n",
       "      <th>arr_delay</th>\n",
       "      <th>dep_delay</th>\n",
       "    </tr>\n",
       "  </thead>\n",
       "  <tbody>\n",
       "    <tr>\n",
       "      <th>0</th>\n",
       "      <td>8.0</td>\n",
       "      <td>6.0</td>\n",
       "    </tr>\n",
       "    <tr>\n",
       "      <th>1</th>\n",
       "      <td>28.0</td>\n",
       "      <td>-1.0</td>\n",
       "    </tr>\n",
       "    <tr>\n",
       "      <th>2</th>\n",
       "      <td>29.0</td>\n",
       "      <td>39.0</td>\n",
       "    </tr>\n",
       "    <tr>\n",
       "      <th>3</th>\n",
       "      <td>10.0</td>\n",
       "      <td>-2.0</td>\n",
       "    </tr>\n",
       "    <tr>\n",
       "      <th>4</th>\n",
       "      <td>1.0</td>\n",
       "      <td>13.0</td>\n",
       "    </tr>\n",
       "  </tbody>\n",
       "</table>\n",
       "</div>"
      ],
      "text/plain": [
       "   arr_delay  dep_delay\n",
       "0        8.0        6.0\n",
       "1       28.0       -1.0\n",
       "2       29.0       39.0\n",
       "3       10.0       -2.0\n",
       "4        1.0       13.0"
      ]
     },
     "execution_count": 19,
     "metadata": {},
     "output_type": "execute_result"
    }
   ],
   "source": [
    "delays_only_df.head()"
   ]
  },
  {
   "cell_type": "code",
   "execution_count": 20,
   "metadata": {},
   "outputs": [
    {
     "data": {
      "text/plain": [
       "(4298, 2)"
      ]
     },
     "execution_count": 20,
     "metadata": {},
     "output_type": "execute_result"
    }
   ],
   "source": [
    "delays_only_df.shape"
   ]
  },
  {
   "cell_type": "code",
   "execution_count": 21,
   "metadata": {},
   "outputs": [
    {
     "data": {
      "text/plain": [
       "<seaborn.axisgrid.FacetGrid at 0x147f79790>"
      ]
     },
     "execution_count": 21,
     "metadata": {},
     "output_type": "execute_result"
    },
    {
     "data": {
      "image/png": "[encoded data removed]",
      "text/plain": [
       "<Figure size 621.375x500 with 1 Axes>"
      ]
     },
     "metadata": {},
     "output_type": "display_data"
    }
   ],
   "source": [
    "sns.displot(delays_only_df)"
   ]
  },
  {
   "cell_type": "code",
   "execution_count": 22,
   "metadata": {},
   "outputs": [],
   "source": [
    "# We will run a statistical test on this large dataset\n",
    "# First, we need to remove rows with 0s\n",
    "delays_only_df = delays_only_df.loc[(delays_only_df != 0).any(axis=1)]"
   ]
  },
  {
   "cell_type": "code",
   "execution_count": 23,
   "metadata": {},
   "outputs": [],
   "source": [
    "# import Kolmogorov–Smirnov test from scipy as data is heavily skewed\n",
    "from scipy.stats import kstest"
   ]
  },
  {
   "cell_type": "code",
   "execution_count": 24,
   "metadata": {},
   "outputs": [],
   "source": [
    "# calculate kstest using arr_delay and dep_delay\n",
    "res = kstest(delays_only_df['arr_delay'],delays_only_df['dep_delay'])"
   ]
  },
  {
   "cell_type": "code",
   "execution_count": 25,
   "metadata": {},
   "outputs": [
    {
     "data": {
      "text/plain": [
       "KstestResult(statistic=0.05909725453699395, pvalue=6.010690716756964e-07)"
      ]
     },
     "execution_count": 25,
     "metadata": {},
     "output_type": "execute_result"
    }
   ],
   "source": [
    "res"
   ]
  },
  {
   "cell_type": "markdown",
   "metadata": {},
   "source": [
    "Based on these results, we feel that the null hypothesis stands that delays are from normal distribution."
   ]
  },
  {
   "cell_type": "markdown",
   "metadata": {
    "tags": []
   },
   "source": [
    "#### **Task 2**: Is average/median monthly delay different during the year? If yes, which are months with the biggest delays and what could be the reason?"
   ]
  },
  {
   "cell_type": "code",
   "execution_count": 26,
   "metadata": {
    "tags": []
   },
   "outputs": [
    {
     "data": {
      "text/plain": [
       "Index(['fl_date', 'mkt_unique_carrier', 'branded_code_share', 'mkt_carrier',\n",
       "       'mkt_carrier_fl_num', 'op_unique_carrier', 'tail_num',\n",
       "       'op_carrier_fl_num', 'origin_airport_id', 'origin', 'origin_city_name',\n",
       "       'dest_airport_id', 'dest', 'dest_city_name', 'crs_dep_time', 'dep_time',\n",
       "       'dep_delay', 'taxi_out', 'wheels_off', 'wheels_on', 'taxi_in',\n",
       "       'crs_arr_time', 'arr_time', 'arr_delay', 'cancelled',\n",
       "       'cancellation_code', 'diverted', 'dup', 'crs_elapsed_time',\n",
       "       'actual_elapsed_time', 'air_time', 'flights', 'distance',\n",
       "       'carrier_delay', 'weather_delay', 'nas_delay', 'security_delay',\n",
       "       'late_aircraft_delay', 'first_dep_time', 'total_add_gtime',\n",
       "       'longest_add_gtime'],\n",
       "      dtype='object')"
      ]
     },
     "execution_count": 26,
     "metadata": {},
     "output_type": "execute_result"
    }
   ],
   "source": [
    "# List data columns for reference\n",
    "data.columns"
   ]
  },
  {
   "cell_type": "code",
   "execution_count": 27,
   "metadata": {},
   "outputs": [],
   "source": [
    "# First, we can convert the column dtype for the date from Object to datetime64\n",
    "data['fl_date'] = pd.to_datetime(data['fl_date'])"
   ]
  },
  {
   "cell_type": "code",
   "execution_count": 28,
   "metadata": {},
   "outputs": [
    {
     "data": {
      "text/html": [
       "<div>\n",
       "<style scoped>\n",
       "    .dataframe tbody tr th:only-of-type {\n",
       "        vertical-align: middle;\n",
       "    }\n",
       "\n",
       "    .dataframe tbody tr th {\n",
       "        vertical-align: top;\n",
       "    }\n",
       "\n",
       "    .dataframe thead th {\n",
       "        text-align: right;\n",
       "    }\n",
       "</style>\n",
       "<table border=\"1\" class=\"dataframe\">\n",
       "  <thead>\n",
       "    <tr style=\"text-align: right;\">\n",
       "      <th></th>\n",
       "      <th>fl_date</th>\n",
       "      <th>dep_delay</th>\n",
       "      <th>arr_delay</th>\n",
       "      <th>carrier_delay</th>\n",
       "      <th>weather_delay</th>\n",
       "      <th>nas_delay</th>\n",
       "      <th>security_delay</th>\n",
       "      <th>late_aircraft_delay</th>\n",
       "      <th>diverted</th>\n",
       "      <th>cancelled</th>\n",
       "    </tr>\n",
       "  </thead>\n",
       "  <tbody>\n",
       "    <tr>\n",
       "      <th>0</th>\n",
       "      <td>2018-07-10</td>\n",
       "      <td>-3.0</td>\n",
       "      <td>-2.0</td>\n",
       "      <td>NaN</td>\n",
       "      <td>NaN</td>\n",
       "      <td>NaN</td>\n",
       "      <td>NaN</td>\n",
       "      <td>NaN</td>\n",
       "      <td>0.0</td>\n",
       "      <td>0.0</td>\n",
       "    </tr>\n",
       "    <tr>\n",
       "      <th>1</th>\n",
       "      <td>2019-10-10</td>\n",
       "      <td>-3.0</td>\n",
       "      <td>-9.0</td>\n",
       "      <td>NaN</td>\n",
       "      <td>NaN</td>\n",
       "      <td>NaN</td>\n",
       "      <td>NaN</td>\n",
       "      <td>NaN</td>\n",
       "      <td>0.0</td>\n",
       "      <td>0.0</td>\n",
       "    </tr>\n",
       "    <tr>\n",
       "      <th>2</th>\n",
       "      <td>2019-07-18</td>\n",
       "      <td>6.0</td>\n",
       "      <td>8.0</td>\n",
       "      <td>NaN</td>\n",
       "      <td>NaN</td>\n",
       "      <td>NaN</td>\n",
       "      <td>NaN</td>\n",
       "      <td>NaN</td>\n",
       "      <td>0.0</td>\n",
       "      <td>0.0</td>\n",
       "    </tr>\n",
       "    <tr>\n",
       "      <th>3</th>\n",
       "      <td>2018-11-25</td>\n",
       "      <td>NaN</td>\n",
       "      <td>NaN</td>\n",
       "      <td>NaN</td>\n",
       "      <td>NaN</td>\n",
       "      <td>NaN</td>\n",
       "      <td>NaN</td>\n",
       "      <td>NaN</td>\n",
       "      <td>0.0</td>\n",
       "      <td>1.0</td>\n",
       "    </tr>\n",
       "    <tr>\n",
       "      <th>4</th>\n",
       "      <td>2018-10-24</td>\n",
       "      <td>-1.0</td>\n",
       "      <td>28.0</td>\n",
       "      <td>0.0</td>\n",
       "      <td>0.0</td>\n",
       "      <td>28.0</td>\n",
       "      <td>0.0</td>\n",
       "      <td>0.0</td>\n",
       "      <td>0.0</td>\n",
       "      <td>0.0</td>\n",
       "    </tr>\n",
       "    <tr>\n",
       "      <th>5</th>\n",
       "      <td>2019-06-08</td>\n",
       "      <td>-2.0</td>\n",
       "      <td>-7.0</td>\n",
       "      <td>NaN</td>\n",
       "      <td>NaN</td>\n",
       "      <td>NaN</td>\n",
       "      <td>NaN</td>\n",
       "      <td>NaN</td>\n",
       "      <td>0.0</td>\n",
       "      <td>0.0</td>\n",
       "    </tr>\n",
       "    <tr>\n",
       "      <th>6</th>\n",
       "      <td>2018-01-29</td>\n",
       "      <td>-1.0</td>\n",
       "      <td>-1.0</td>\n",
       "      <td>NaN</td>\n",
       "      <td>NaN</td>\n",
       "      <td>NaN</td>\n",
       "      <td>NaN</td>\n",
       "      <td>NaN</td>\n",
       "      <td>0.0</td>\n",
       "      <td>0.0</td>\n",
       "    </tr>\n",
       "    <tr>\n",
       "      <th>7</th>\n",
       "      <td>2019-08-14</td>\n",
       "      <td>39.0</td>\n",
       "      <td>29.0</td>\n",
       "      <td>0.0</td>\n",
       "      <td>0.0</td>\n",
       "      <td>0.0</td>\n",
       "      <td>0.0</td>\n",
       "      <td>29.0</td>\n",
       "      <td>0.0</td>\n",
       "      <td>0.0</td>\n",
       "    </tr>\n",
       "    <tr>\n",
       "      <th>8</th>\n",
       "      <td>2019-01-28</td>\n",
       "      <td>-11.0</td>\n",
       "      <td>-9.0</td>\n",
       "      <td>NaN</td>\n",
       "      <td>NaN</td>\n",
       "      <td>NaN</td>\n",
       "      <td>NaN</td>\n",
       "      <td>NaN</td>\n",
       "      <td>0.0</td>\n",
       "      <td>0.0</td>\n",
       "    </tr>\n",
       "    <tr>\n",
       "      <th>9</th>\n",
       "      <td>2018-03-05</td>\n",
       "      <td>-5.0</td>\n",
       "      <td>-12.0</td>\n",
       "      <td>NaN</td>\n",
       "      <td>NaN</td>\n",
       "      <td>NaN</td>\n",
       "      <td>NaN</td>\n",
       "      <td>NaN</td>\n",
       "      <td>0.0</td>\n",
       "      <td>0.0</td>\n",
       "    </tr>\n",
       "  </tbody>\n",
       "</table>\n",
       "</div>"
      ],
      "text/plain": [
       "     fl_date  dep_delay  arr_delay  carrier_delay  weather_delay  nas_delay  \\\n",
       "0 2018-07-10       -3.0       -2.0            NaN            NaN        NaN   \n",
       "1 2019-10-10       -3.0       -9.0            NaN            NaN        NaN   \n",
       "2 2019-07-18        6.0        8.0            NaN            NaN        NaN   \n",
       "3 2018-11-25        NaN        NaN            NaN            NaN        NaN   \n",
       "4 2018-10-24       -1.0       28.0            0.0            0.0       28.0   \n",
       "5 2019-06-08       -2.0       -7.0            NaN            NaN        NaN   \n",
       "6 2018-01-29       -1.0       -1.0            NaN            NaN        NaN   \n",
       "7 2019-08-14       39.0       29.0            0.0            0.0        0.0   \n",
       "8 2019-01-28      -11.0       -9.0            NaN            NaN        NaN   \n",
       "9 2018-03-05       -5.0      -12.0            NaN            NaN        NaN   \n",
       "\n",
       "   security_delay  late_aircraft_delay  diverted  cancelled  \n",
       "0             NaN                  NaN       0.0        0.0  \n",
       "1             NaN                  NaN       0.0        0.0  \n",
       "2             NaN                  NaN       0.0        0.0  \n",
       "3             NaN                  NaN       0.0        1.0  \n",
       "4             0.0                  0.0       0.0        0.0  \n",
       "5             NaN                  NaN       0.0        0.0  \n",
       "6             NaN                  NaN       0.0        0.0  \n",
       "7             0.0                 29.0       0.0        0.0  \n",
       "8             NaN                  NaN       0.0        0.0  \n",
       "9             NaN                  NaN       0.0        0.0  "
      ]
     },
     "execution_count": 28,
     "metadata": {},
     "output_type": "execute_result"
    }
   ],
   "source": [
    "# Create DF with year column, delay columns, diverted and cancellation\n",
    "df_delays = data.loc[:, ['fl_date', 'dep_delay', 'arr_delay', 'carrier_delay', 'weather_delay', 'nas_delay', 'security_delay',\n",
    "       'late_aircraft_delay', 'diverted', 'cancelled']]\n",
    "df_delays.head(10)"
   ]
  },
  {
   "cell_type": "code",
   "execution_count": 29,
   "metadata": {},
   "outputs": [
    {
     "data": {
      "text/plain": [
       "2019    5123\n",
       "2018    4877\n",
       "Name: fl_date, dtype: int64"
      ]
     },
     "execution_count": 29,
     "metadata": {},
     "output_type": "execute_result"
    }
   ],
   "source": [
    "df_delays['fl_date'].dt.year.value_counts()"
   ]
  },
  {
   "cell_type": "code",
   "execution_count": 30,
   "metadata": {
    "tags": []
   },
   "outputs": [
    {
     "data": {
      "text/plain": [
       "fl_date                datetime64[ns]\n",
       "dep_delay                     float64\n",
       "arr_delay                     float64\n",
       "carrier_delay                 float64\n",
       "weather_delay                 float64\n",
       "nas_delay                     float64\n",
       "security_delay                float64\n",
       "late_aircraft_delay           float64\n",
       "diverted                      float64\n",
       "cancelled                     float64\n",
       "dtype: object"
      ]
     },
     "execution_count": 30,
     "metadata": {},
     "output_type": "execute_result"
    }
   ],
   "source": [
    "# Check dtypes\n",
    "df_delays.dtypes"
   ]
  },
  {
   "cell_type": "code",
   "execution_count": 31,
   "metadata": {},
   "outputs": [],
   "source": [
    "# We know everything is numeric, so we can fill NaN with 0s\n",
    "df_delays = df_delays.fillna(0)"
   ]
  },
  {
   "cell_type": "code",
   "execution_count": 32,
   "metadata": {},
   "outputs": [],
   "source": [
    "# Group by year, month. Calculate sum for the departure and arrival delay columns. Include delay type columns for more insight.\n",
    "delays_grouped = df_delays.groupby([df_delays['fl_date'].dt.year.rename('Year'),\n",
    "                                    df_delays['fl_date'].dt.month.rename('Month')])[['dep_delay', 'arr_delay', 'carrier_delay', 'weather_delay', 'nas_delay', 'security_delay', 'late_aircraft_delay', ]].sum().reset_index()"
   ]
  },
  {
   "cell_type": "code",
   "execution_count": 33,
   "metadata": {},
   "outputs": [],
   "source": [
    "#store the mean of our delay totals in a new column for each month\n",
    "delays_grouped['month_delay_avg'] = delays_grouped[['dep_delay', 'arr_delay']].mean(axis=1)"
   ]
  },
  {
   "cell_type": "code",
   "execution_count": 34,
   "metadata": {
    "tags": []
   },
   "outputs": [
    {
     "name": "stdout",
     "output_type": "stream",
     "text": [
      "Delay Times in Minutes:\n"
     ]
    },
    {
     "data": {
      "text/html": [
       "<div>\n",
       "<style scoped>\n",
       "    .dataframe tbody tr th:only-of-type {\n",
       "        vertical-align: middle;\n",
       "    }\n",
       "\n",
       "    .dataframe tbody tr th {\n",
       "        vertical-align: top;\n",
       "    }\n",
       "\n",
       "    .dataframe thead th {\n",
       "        text-align: right;\n",
       "    }\n",
       "</style>\n",
       "<table border=\"1\" class=\"dataframe\">\n",
       "  <thead>\n",
       "    <tr style=\"text-align: right;\">\n",
       "      <th></th>\n",
       "      <th>Year</th>\n",
       "      <th>Month</th>\n",
       "      <th>month_delay_avg</th>\n",
       "    </tr>\n",
       "  </thead>\n",
       "  <tbody>\n",
       "    <tr>\n",
       "      <th>18</th>\n",
       "      <td>2019</td>\n",
       "      <td>7</td>\n",
       "      <td>6254.0</td>\n",
       "    </tr>\n",
       "    <tr>\n",
       "      <th>13</th>\n",
       "      <td>2019</td>\n",
       "      <td>2</td>\n",
       "      <td>5310.0</td>\n",
       "    </tr>\n",
       "    <tr>\n",
       "      <th>17</th>\n",
       "      <td>2019</td>\n",
       "      <td>6</td>\n",
       "      <td>4974.0</td>\n",
       "    </tr>\n",
       "    <tr>\n",
       "      <th>16</th>\n",
       "      <td>2019</td>\n",
       "      <td>5</td>\n",
       "      <td>4132.0</td>\n",
       "    </tr>\n",
       "    <tr>\n",
       "      <th>12</th>\n",
       "      <td>2019</td>\n",
       "      <td>1</td>\n",
       "      <td>3936.0</td>\n",
       "    </tr>\n",
       "    <tr>\n",
       "      <th>23</th>\n",
       "      <td>2019</td>\n",
       "      <td>12</td>\n",
       "      <td>3662.5</td>\n",
       "    </tr>\n",
       "    <tr>\n",
       "      <th>14</th>\n",
       "      <td>2019</td>\n",
       "      <td>3</td>\n",
       "      <td>3538.5</td>\n",
       "    </tr>\n",
       "    <tr>\n",
       "      <th>19</th>\n",
       "      <td>2019</td>\n",
       "      <td>8</td>\n",
       "      <td>3159.5</td>\n",
       "    </tr>\n",
       "    <tr>\n",
       "      <th>15</th>\n",
       "      <td>2019</td>\n",
       "      <td>4</td>\n",
       "      <td>2709.5</td>\n",
       "    </tr>\n",
       "    <tr>\n",
       "      <th>21</th>\n",
       "      <td>2019</td>\n",
       "      <td>10</td>\n",
       "      <td>2519.5</td>\n",
       "    </tr>\n",
       "    <tr>\n",
       "      <th>20</th>\n",
       "      <td>2019</td>\n",
       "      <td>9</td>\n",
       "      <td>1574.5</td>\n",
       "    </tr>\n",
       "    <tr>\n",
       "      <th>22</th>\n",
       "      <td>2019</td>\n",
       "      <td>11</td>\n",
       "      <td>1154.0</td>\n",
       "    </tr>\n",
       "    <tr>\n",
       "      <th>4</th>\n",
       "      <td>2018</td>\n",
       "      <td>5</td>\n",
       "      <td>4667.5</td>\n",
       "    </tr>\n",
       "    <tr>\n",
       "      <th>3</th>\n",
       "      <td>2018</td>\n",
       "      <td>4</td>\n",
       "      <td>4051.0</td>\n",
       "    </tr>\n",
       "    <tr>\n",
       "      <th>6</th>\n",
       "      <td>2018</td>\n",
       "      <td>7</td>\n",
       "      <td>3934.5</td>\n",
       "    </tr>\n",
       "    <tr>\n",
       "      <th>7</th>\n",
       "      <td>2018</td>\n",
       "      <td>8</td>\n",
       "      <td>3819.0</td>\n",
       "    </tr>\n",
       "    <tr>\n",
       "      <th>10</th>\n",
       "      <td>2018</td>\n",
       "      <td>11</td>\n",
       "      <td>3785.0</td>\n",
       "    </tr>\n",
       "    <tr>\n",
       "      <th>5</th>\n",
       "      <td>2018</td>\n",
       "      <td>6</td>\n",
       "      <td>3494.5</td>\n",
       "    </tr>\n",
       "    <tr>\n",
       "      <th>8</th>\n",
       "      <td>2018</td>\n",
       "      <td>9</td>\n",
       "      <td>2966.5</td>\n",
       "    </tr>\n",
       "    <tr>\n",
       "      <th>2</th>\n",
       "      <td>2018</td>\n",
       "      <td>3</td>\n",
       "      <td>2207.0</td>\n",
       "    </tr>\n",
       "    <tr>\n",
       "      <th>1</th>\n",
       "      <td>2018</td>\n",
       "      <td>2</td>\n",
       "      <td>2124.5</td>\n",
       "    </tr>\n",
       "    <tr>\n",
       "      <th>9</th>\n",
       "      <td>2018</td>\n",
       "      <td>10</td>\n",
       "      <td>2109.0</td>\n",
       "    </tr>\n",
       "    <tr>\n",
       "      <th>0</th>\n",
       "      <td>2018</td>\n",
       "      <td>1</td>\n",
       "      <td>1989.5</td>\n",
       "    </tr>\n",
       "    <tr>\n",
       "      <th>11</th>\n",
       "      <td>2018</td>\n",
       "      <td>12</td>\n",
       "      <td>1663.0</td>\n",
       "    </tr>\n",
       "  </tbody>\n",
       "</table>\n",
       "</div>"
      ],
      "text/plain": [
       "    Year  Month  month_delay_avg\n",
       "18  2019      7           6254.0\n",
       "13  2019      2           5310.0\n",
       "17  2019      6           4974.0\n",
       "16  2019      5           4132.0\n",
       "12  2019      1           3936.0\n",
       "23  2019     12           3662.5\n",
       "14  2019      3           3538.5\n",
       "19  2019      8           3159.5\n",
       "15  2019      4           2709.5\n",
       "21  2019     10           2519.5\n",
       "20  2019      9           1574.5\n",
       "22  2019     11           1154.0\n",
       "4   2018      5           4667.5\n",
       "3   2018      4           4051.0\n",
       "6   2018      7           3934.5\n",
       "7   2018      8           3819.0\n",
       "10  2018     11           3785.0\n",
       "5   2018      6           3494.5\n",
       "8   2018      9           2966.5\n",
       "2   2018      3           2207.0\n",
       "1   2018      2           2124.5\n",
       "9   2018     10           2109.0\n",
       "0   2018      1           1989.5\n",
       "11  2018     12           1663.0"
      ]
     },
     "execution_count": 34,
     "metadata": {},
     "output_type": "execute_result"
    }
   ],
   "source": [
    "#Sort DataFrame based on new month_delay_avg column in descending order\n",
    "print(\"Delay Times in Minutes:\")\n",
    "delays_grouped[['Year', 'Month', 'month_delay_avg']].sort_values(['Year', 'month_delay_avg'], ascending=False)"
   ]
  },
  {
   "cell_type": "code",
   "execution_count": null,
   "metadata": {},
   "outputs": [],
   "source": []
  },
  {
   "cell_type": "code",
   "execution_count": null,
   "metadata": {},
   "outputs": [],
   "source": []
  },
  {
   "cell_type": "markdown",
   "metadata": {
    "tags": []
   },
   "source": [
    "#### **Task 4**: How taxi times changing during the day? Does higher traffic lead to bigger taxi times?"
   ]
  },
  {
   "cell_type": "code",
   "execution_count": 35,
   "metadata": {},
   "outputs": [],
   "source": [
    "#Define a taxi dataframe that only has relevant information\n",
    "#Drop NaN to remove cancellation flights\n",
    "df_taxi = data.loc[:,['tail_num', 'dep_time', 'taxi_out', 'wheels_off', 'wheels_on', 'taxi_in', 'arr_time']].dropna().reset_index()"
   ]
  },
  {
   "cell_type": "code",
   "execution_count": 36,
   "metadata": {},
   "outputs": [
    {
     "data": {
      "text/html": [
       "<div>\n",
       "<style scoped>\n",
       "    .dataframe tbody tr th:only-of-type {\n",
       "        vertical-align: middle;\n",
       "    }\n",
       "\n",
       "    .dataframe tbody tr th {\n",
       "        vertical-align: top;\n",
       "    }\n",
       "\n",
       "    .dataframe thead th {\n",
       "        text-align: right;\n",
       "    }\n",
       "</style>\n",
       "<table border=\"1\" class=\"dataframe\">\n",
       "  <thead>\n",
       "    <tr style=\"text-align: right;\">\n",
       "      <th></th>\n",
       "      <th>index</th>\n",
       "      <th>tail_num</th>\n",
       "      <th>dep_time</th>\n",
       "      <th>taxi_out</th>\n",
       "      <th>wheels_off</th>\n",
       "      <th>wheels_on</th>\n",
       "      <th>taxi_in</th>\n",
       "      <th>arr_time</th>\n",
       "    </tr>\n",
       "  </thead>\n",
       "  <tbody>\n",
       "    <tr>\n",
       "      <th>0</th>\n",
       "      <td>0</td>\n",
       "      <td>N958WN</td>\n",
       "      <td>702.0</td>\n",
       "      <td>13.0</td>\n",
       "      <td>715.0</td>\n",
       "      <td>907.0</td>\n",
       "      <td>6.0</td>\n",
       "      <td>913.0</td>\n",
       "    </tr>\n",
       "    <tr>\n",
       "      <th>1</th>\n",
       "      <td>1</td>\n",
       "      <td>N68811</td>\n",
       "      <td>757.0</td>\n",
       "      <td>20.0</td>\n",
       "      <td>817.0</td>\n",
       "      <td>1131.0</td>\n",
       "      <td>8.0</td>\n",
       "      <td>1139.0</td>\n",
       "    </tr>\n",
       "    <tr>\n",
       "      <th>2</th>\n",
       "      <td>2</td>\n",
       "      <td>N694AE</td>\n",
       "      <td>1040.0</td>\n",
       "      <td>17.0</td>\n",
       "      <td>1057.0</td>\n",
       "      <td>1125.0</td>\n",
       "      <td>13.0</td>\n",
       "      <td>1138.0</td>\n",
       "    </tr>\n",
       "    <tr>\n",
       "      <th>3</th>\n",
       "      <td>4</td>\n",
       "      <td>N693DL</td>\n",
       "      <td>840.0</td>\n",
       "      <td>45.0</td>\n",
       "      <td>925.0</td>\n",
       "      <td>1056.0</td>\n",
       "      <td>11.0</td>\n",
       "      <td>1107.0</td>\n",
       "    </tr>\n",
       "    <tr>\n",
       "      <th>4</th>\n",
       "      <td>5</td>\n",
       "      <td>N250NN</td>\n",
       "      <td>1147.0</td>\n",
       "      <td>19.0</td>\n",
       "      <td>1206.0</td>\n",
       "      <td>1342.0</td>\n",
       "      <td>11.0</td>\n",
       "      <td>1353.0</td>\n",
       "    </tr>\n",
       "  </tbody>\n",
       "</table>\n",
       "</div>"
      ],
      "text/plain": [
       "   index tail_num  dep_time  taxi_out  wheels_off  wheels_on  taxi_in  \\\n",
       "0      0   N958WN     702.0      13.0       715.0      907.0      6.0   \n",
       "1      1   N68811     757.0      20.0       817.0     1131.0      8.0   \n",
       "2      2   N694AE    1040.0      17.0      1057.0     1125.0     13.0   \n",
       "3      4   N693DL     840.0      45.0       925.0     1056.0     11.0   \n",
       "4      5   N250NN    1147.0      19.0      1206.0     1342.0     11.0   \n",
       "\n",
       "   arr_time  \n",
       "0     913.0  \n",
       "1    1139.0  \n",
       "2    1138.0  \n",
       "3    1107.0  \n",
       "4    1353.0  "
      ]
     },
     "execution_count": 36,
     "metadata": {},
     "output_type": "execute_result"
    }
   ],
   "source": [
    "#Check head\n",
    "df_taxi.head()"
   ]
  },
  {
   "cell_type": "code",
   "execution_count": 37,
   "metadata": {},
   "outputs": [],
   "source": [
    "# Import function that determines time of day based on arr_time and dep_time columns\n",
    "from src.modules.data_preprocessing import time_of_day"
   ]
  },
  {
   "cell_type": "code",
   "execution_count": 38,
   "metadata": {
    "tags": []
   },
   "outputs": [],
   "source": [
    "#New column to categorize Morning, Afternoon, Evening, Nite\n",
    "df_taxi['dep_time_of_day'] = df_taxi.apply(lambda df: time_of_day(df, method='dep'), axis=1)\n",
    "df_taxi['arr_time_of_day'] = df_taxi.apply(lambda df: time_of_day(df, method='arr'), axis=1)"
   ]
  },
  {
   "cell_type": "code",
   "execution_count": 39,
   "metadata": {},
   "outputs": [
    {
     "data": {
      "text/html": [
       "<div>\n",
       "<style scoped>\n",
       "    .dataframe tbody tr th:only-of-type {\n",
       "        vertical-align: middle;\n",
       "    }\n",
       "\n",
       "    .dataframe tbody tr th {\n",
       "        vertical-align: top;\n",
       "    }\n",
       "\n",
       "    .dataframe thead th {\n",
       "        text-align: right;\n",
       "    }\n",
       "</style>\n",
       "<table border=\"1\" class=\"dataframe\">\n",
       "  <thead>\n",
       "    <tr style=\"text-align: right;\">\n",
       "      <th></th>\n",
       "      <th>index</th>\n",
       "      <th>tail_num</th>\n",
       "      <th>dep_time</th>\n",
       "      <th>taxi_out</th>\n",
       "      <th>wheels_off</th>\n",
       "      <th>wheels_on</th>\n",
       "      <th>taxi_in</th>\n",
       "      <th>arr_time</th>\n",
       "      <th>dep_time_of_day</th>\n",
       "      <th>arr_time_of_day</th>\n",
       "    </tr>\n",
       "  </thead>\n",
       "  <tbody>\n",
       "    <tr>\n",
       "      <th>0</th>\n",
       "      <td>0</td>\n",
       "      <td>N958WN</td>\n",
       "      <td>702.0</td>\n",
       "      <td>13.0</td>\n",
       "      <td>715.0</td>\n",
       "      <td>907.0</td>\n",
       "      <td>6.0</td>\n",
       "      <td>913.0</td>\n",
       "      <td>Morning</td>\n",
       "      <td>Morning</td>\n",
       "    </tr>\n",
       "    <tr>\n",
       "      <th>1</th>\n",
       "      <td>1</td>\n",
       "      <td>N68811</td>\n",
       "      <td>757.0</td>\n",
       "      <td>20.0</td>\n",
       "      <td>817.0</td>\n",
       "      <td>1131.0</td>\n",
       "      <td>8.0</td>\n",
       "      <td>1139.0</td>\n",
       "      <td>Morning</td>\n",
       "      <td>Morning</td>\n",
       "    </tr>\n",
       "    <tr>\n",
       "      <th>2</th>\n",
       "      <td>2</td>\n",
       "      <td>N694AE</td>\n",
       "      <td>1040.0</td>\n",
       "      <td>17.0</td>\n",
       "      <td>1057.0</td>\n",
       "      <td>1125.0</td>\n",
       "      <td>13.0</td>\n",
       "      <td>1138.0</td>\n",
       "      <td>Morning</td>\n",
       "      <td>Morning</td>\n",
       "    </tr>\n",
       "    <tr>\n",
       "      <th>3</th>\n",
       "      <td>4</td>\n",
       "      <td>N693DL</td>\n",
       "      <td>840.0</td>\n",
       "      <td>45.0</td>\n",
       "      <td>925.0</td>\n",
       "      <td>1056.0</td>\n",
       "      <td>11.0</td>\n",
       "      <td>1107.0</td>\n",
       "      <td>Morning</td>\n",
       "      <td>Morning</td>\n",
       "    </tr>\n",
       "    <tr>\n",
       "      <th>4</th>\n",
       "      <td>5</td>\n",
       "      <td>N250NN</td>\n",
       "      <td>1147.0</td>\n",
       "      <td>19.0</td>\n",
       "      <td>1206.0</td>\n",
       "      <td>1342.0</td>\n",
       "      <td>11.0</td>\n",
       "      <td>1353.0</td>\n",
       "      <td>Morning</td>\n",
       "      <td>Afternoon</td>\n",
       "    </tr>\n",
       "  </tbody>\n",
       "</table>\n",
       "</div>"
      ],
      "text/plain": [
       "   index tail_num  dep_time  taxi_out  wheels_off  wheels_on  taxi_in  \\\n",
       "0      0   N958WN     702.0      13.0       715.0      907.0      6.0   \n",
       "1      1   N68811     757.0      20.0       817.0     1131.0      8.0   \n",
       "2      2   N694AE    1040.0      17.0      1057.0     1125.0     13.0   \n",
       "3      4   N693DL     840.0      45.0       925.0     1056.0     11.0   \n",
       "4      5   N250NN    1147.0      19.0      1206.0     1342.0     11.0   \n",
       "\n",
       "   arr_time dep_time_of_day arr_time_of_day  \n",
       "0     913.0         Morning         Morning  \n",
       "1    1139.0         Morning         Morning  \n",
       "2    1138.0         Morning         Morning  \n",
       "3    1107.0         Morning         Morning  \n",
       "4    1353.0         Morning       Afternoon  "
      ]
     },
     "execution_count": 39,
     "metadata": {},
     "output_type": "execute_result"
    }
   ],
   "source": [
    "df_taxi.head()"
   ]
  },
  {
   "cell_type": "code",
   "execution_count": 40,
   "metadata": {},
   "outputs": [
    {
     "data": {
      "text/plain": [
       "Morning      4026\n",
       "Afternoon    2806\n",
       "Evening      2188\n",
       "Night         813\n",
       "Name: dep_time_of_day, dtype: int64"
      ]
     },
     "execution_count": 40,
     "metadata": {},
     "output_type": "execute_result"
    }
   ],
   "source": [
    "df_taxi['dep_time_of_day'].value_counts()"
   ]
  },
  {
   "cell_type": "code",
   "execution_count": 41,
   "metadata": {},
   "outputs": [],
   "source": [
    "#Add a counter column to return a count of flights in our groupby \n",
    "df_taxi['counter'] = 1"
   ]
  },
  {
   "cell_type": "code",
   "execution_count": 42,
   "metadata": {},
   "outputs": [
    {
     "data": {
      "text/html": [
       "<div>\n",
       "<style scoped>\n",
       "    .dataframe tbody tr th:only-of-type {\n",
       "        vertical-align: middle;\n",
       "    }\n",
       "\n",
       "    .dataframe tbody tr th {\n",
       "        vertical-align: top;\n",
       "    }\n",
       "\n",
       "    .dataframe thead th {\n",
       "        text-align: right;\n",
       "    }\n",
       "</style>\n",
       "<table border=\"1\" class=\"dataframe\">\n",
       "  <thead>\n",
       "    <tr style=\"text-align: right;\">\n",
       "      <th></th>\n",
       "      <th>index</th>\n",
       "      <th>tail_num</th>\n",
       "      <th>dep_time</th>\n",
       "      <th>taxi_out</th>\n",
       "      <th>wheels_off</th>\n",
       "      <th>wheels_on</th>\n",
       "      <th>taxi_in</th>\n",
       "      <th>arr_time</th>\n",
       "      <th>dep_time_of_day</th>\n",
       "      <th>arr_time_of_day</th>\n",
       "      <th>counter</th>\n",
       "    </tr>\n",
       "  </thead>\n",
       "  <tbody>\n",
       "    <tr>\n",
       "      <th>0</th>\n",
       "      <td>0</td>\n",
       "      <td>N958WN</td>\n",
       "      <td>702.0</td>\n",
       "      <td>13.0</td>\n",
       "      <td>715.0</td>\n",
       "      <td>907.0</td>\n",
       "      <td>6.0</td>\n",
       "      <td>913.0</td>\n",
       "      <td>Morning</td>\n",
       "      <td>Morning</td>\n",
       "      <td>1</td>\n",
       "    </tr>\n",
       "    <tr>\n",
       "      <th>1</th>\n",
       "      <td>1</td>\n",
       "      <td>N68811</td>\n",
       "      <td>757.0</td>\n",
       "      <td>20.0</td>\n",
       "      <td>817.0</td>\n",
       "      <td>1131.0</td>\n",
       "      <td>8.0</td>\n",
       "      <td>1139.0</td>\n",
       "      <td>Morning</td>\n",
       "      <td>Morning</td>\n",
       "      <td>1</td>\n",
       "    </tr>\n",
       "    <tr>\n",
       "      <th>2</th>\n",
       "      <td>2</td>\n",
       "      <td>N694AE</td>\n",
       "      <td>1040.0</td>\n",
       "      <td>17.0</td>\n",
       "      <td>1057.0</td>\n",
       "      <td>1125.0</td>\n",
       "      <td>13.0</td>\n",
       "      <td>1138.0</td>\n",
       "      <td>Morning</td>\n",
       "      <td>Morning</td>\n",
       "      <td>1</td>\n",
       "    </tr>\n",
       "    <tr>\n",
       "      <th>3</th>\n",
       "      <td>4</td>\n",
       "      <td>N693DL</td>\n",
       "      <td>840.0</td>\n",
       "      <td>45.0</td>\n",
       "      <td>925.0</td>\n",
       "      <td>1056.0</td>\n",
       "      <td>11.0</td>\n",
       "      <td>1107.0</td>\n",
       "      <td>Morning</td>\n",
       "      <td>Morning</td>\n",
       "      <td>1</td>\n",
       "    </tr>\n",
       "    <tr>\n",
       "      <th>4</th>\n",
       "      <td>5</td>\n",
       "      <td>N250NN</td>\n",
       "      <td>1147.0</td>\n",
       "      <td>19.0</td>\n",
       "      <td>1206.0</td>\n",
       "      <td>1342.0</td>\n",
       "      <td>11.0</td>\n",
       "      <td>1353.0</td>\n",
       "      <td>Morning</td>\n",
       "      <td>Afternoon</td>\n",
       "      <td>1</td>\n",
       "    </tr>\n",
       "  </tbody>\n",
       "</table>\n",
       "</div>"
      ],
      "text/plain": [
       "   index tail_num  dep_time  taxi_out  wheels_off  wheels_on  taxi_in  \\\n",
       "0      0   N958WN     702.0      13.0       715.0      907.0      6.0   \n",
       "1      1   N68811     757.0      20.0       817.0     1131.0      8.0   \n",
       "2      2   N694AE    1040.0      17.0      1057.0     1125.0     13.0   \n",
       "3      4   N693DL     840.0      45.0       925.0     1056.0     11.0   \n",
       "4      5   N250NN    1147.0      19.0      1206.0     1342.0     11.0   \n",
       "\n",
       "   arr_time dep_time_of_day arr_time_of_day  counter  \n",
       "0     913.0         Morning         Morning        1  \n",
       "1    1139.0         Morning         Morning        1  \n",
       "2    1138.0         Morning         Morning        1  \n",
       "3    1107.0         Morning         Morning        1  \n",
       "4    1353.0         Morning       Afternoon        1  "
      ]
     },
     "execution_count": 42,
     "metadata": {},
     "output_type": "execute_result"
    }
   ],
   "source": [
    "df_taxi.head()"
   ]
  },
  {
   "cell_type": "code",
   "execution_count": 43,
   "metadata": {},
   "outputs": [],
   "source": [
    "departure_group = df_taxi.groupby('dep_time_of_day')[['taxi_out', 'counter']].sum().reset_index()"
   ]
  },
  {
   "cell_type": "code",
   "execution_count": 44,
   "metadata": {},
   "outputs": [
    {
     "data": {
      "text/html": [
       "<div>\n",
       "<style scoped>\n",
       "    .dataframe tbody tr th:only-of-type {\n",
       "        vertical-align: middle;\n",
       "    }\n",
       "\n",
       "    .dataframe tbody tr th {\n",
       "        vertical-align: top;\n",
       "    }\n",
       "\n",
       "    .dataframe thead th {\n",
       "        text-align: right;\n",
       "    }\n",
       "</style>\n",
       "<table border=\"1\" class=\"dataframe\">\n",
       "  <thead>\n",
       "    <tr style=\"text-align: right;\">\n",
       "      <th></th>\n",
       "      <th>dep_time_of_day</th>\n",
       "      <th>taxi_out</th>\n",
       "      <th>counter</th>\n",
       "    </tr>\n",
       "  </thead>\n",
       "  <tbody>\n",
       "    <tr>\n",
       "      <th>2</th>\n",
       "      <td>Morning</td>\n",
       "      <td>70834.0</td>\n",
       "      <td>4026</td>\n",
       "    </tr>\n",
       "    <tr>\n",
       "      <th>0</th>\n",
       "      <td>Afternoon</td>\n",
       "      <td>47708.0</td>\n",
       "      <td>2806</td>\n",
       "    </tr>\n",
       "    <tr>\n",
       "      <th>1</th>\n",
       "      <td>Evening</td>\n",
       "      <td>39977.0</td>\n",
       "      <td>2188</td>\n",
       "    </tr>\n",
       "    <tr>\n",
       "      <th>3</th>\n",
       "      <td>Night</td>\n",
       "      <td>13536.0</td>\n",
       "      <td>813</td>\n",
       "    </tr>\n",
       "  </tbody>\n",
       "</table>\n",
       "</div>"
      ],
      "text/plain": [
       "  dep_time_of_day  taxi_out  counter\n",
       "2         Morning   70834.0     4026\n",
       "0       Afternoon   47708.0     2806\n",
       "1         Evening   39977.0     2188\n",
       "3           Night   13536.0      813"
      ]
     },
     "execution_count": 44,
     "metadata": {},
     "output_type": "execute_result"
    }
   ],
   "source": [
    "departure_group.sort_values('taxi_out', ascending=False)"
   ]
  },
  {
   "cell_type": "code",
   "execution_count": 45,
   "metadata": {},
   "outputs": [],
   "source": [
    "arrival_group = df_taxi.groupby('arr_time_of_day')[['taxi_in', 'counter']].sum().reset_index()"
   ]
  },
  {
   "cell_type": "code",
   "execution_count": 46,
   "metadata": {
    "tags": []
   },
   "outputs": [
    {
     "data": {
      "text/html": [
       "<div>\n",
       "<style scoped>\n",
       "    .dataframe tbody tr th:only-of-type {\n",
       "        vertical-align: middle;\n",
       "    }\n",
       "\n",
       "    .dataframe tbody tr th {\n",
       "        vertical-align: top;\n",
       "    }\n",
       "\n",
       "    .dataframe thead th {\n",
       "        text-align: right;\n",
       "    }\n",
       "</style>\n",
       "<table border=\"1\" class=\"dataframe\">\n",
       "  <thead>\n",
       "    <tr style=\"text-align: right;\">\n",
       "      <th></th>\n",
       "      <th>arr_time_of_day</th>\n",
       "      <th>taxi_in</th>\n",
       "      <th>counter</th>\n",
       "    </tr>\n",
       "  </thead>\n",
       "  <tbody>\n",
       "    <tr>\n",
       "      <th>2</th>\n",
       "      <td>Morning</td>\n",
       "      <td>23260.0</td>\n",
       "      <td>2892</td>\n",
       "    </tr>\n",
       "    <tr>\n",
       "      <th>0</th>\n",
       "      <td>Afternoon</td>\n",
       "      <td>20960.0</td>\n",
       "      <td>2867</td>\n",
       "    </tr>\n",
       "    <tr>\n",
       "      <th>1</th>\n",
       "      <td>Evening</td>\n",
       "      <td>17708.0</td>\n",
       "      <td>2239</td>\n",
       "    </tr>\n",
       "  </tbody>\n",
       "</table>\n",
       "</div>"
      ],
      "text/plain": [
       "  arr_time_of_day  taxi_in  counter\n",
       "2         Morning  23260.0     2892\n",
       "0       Afternoon  20960.0     2867\n",
       "1         Evening  17708.0     2239"
      ]
     },
     "execution_count": 46,
     "metadata": {},
     "output_type": "execute_result"
    }
   ],
   "source": [
    "arrival_group.sort_values('taxi_in', ascending=False)"
   ]
  },
  {
   "cell_type": "code",
   "execution_count": 47,
   "metadata": {},
   "outputs": [],
   "source": [
    "data1 = arrival_group['taxi_in']\n",
    "labels1 = arrival_group['arr_time_of_day'].unique()"
   ]
  },
  {
   "cell_type": "code",
   "execution_count": 48,
   "metadata": {},
   "outputs": [
    {
     "data": {
      "image/png": "[encoded data removed]",
      "text/plain": [
       "<Figure size 640x480 with 1 Axes>"
      ]
     },
     "metadata": {},
     "output_type": "display_data"
    }
   ],
   "source": [
    "#define Seaborn color palette to use\n",
    "colors = sns.color_palette('pastel')[0:4]\n",
    "\n",
    "#create pie chart\n",
    "plt.title(\"Taxi Times: Arrivals\")\n",
    "plt.pie(data1, labels = labels1, colors = colors, autopct='%.0f%%')\n",
    "plt.show()"
   ]
  },
  {
   "cell_type": "code",
   "execution_count": 49,
   "metadata": {},
   "outputs": [],
   "source": [
    "data2 = departure_group['taxi_out']\n",
    "labels2 = departure_group['dep_time_of_day'].unique()"
   ]
  },
  {
   "cell_type": "code",
   "execution_count": 50,
   "metadata": {},
   "outputs": [
    {
     "data": {
      "image/png": "[encoded data removed]",
      "text/plain": [
       "<Figure size 640x480 with 1 Axes>"
      ]
     },
     "metadata": {},
     "output_type": "display_data"
    }
   ],
   "source": [
    "#define Seaborn color palette to use\n",
    "colors = sns.color_palette('pastel')[0:4]\n",
    "\n",
    "#create pie chart\n",
    "plt.title(\"Taxi Times: Departures\")\n",
    "plt.pie(data2, labels = labels2, colors = colors, autopct='%.0f%%')\n",
    "plt.show()"
   ]
  },
  {
   "cell_type": "code",
   "execution_count": 51,
   "metadata": {},
   "outputs": [],
   "source": [
    "taxi_merge_df = pd.concat([arrival_group, departure_group])"
   ]
  },
  {
   "cell_type": "code",
   "execution_count": 52,
   "metadata": {},
   "outputs": [
    {
     "data": {
      "text/html": [
       "<div>\n",
       "<style scoped>\n",
       "    .dataframe tbody tr th:only-of-type {\n",
       "        vertical-align: middle;\n",
       "    }\n",
       "\n",
       "    .dataframe tbody tr th {\n",
       "        vertical-align: top;\n",
       "    }\n",
       "\n",
       "    .dataframe thead th {\n",
       "        text-align: right;\n",
       "    }\n",
       "</style>\n",
       "<table border=\"1\" class=\"dataframe\">\n",
       "  <thead>\n",
       "    <tr style=\"text-align: right;\">\n",
       "      <th></th>\n",
       "      <th>arr_time_of_day</th>\n",
       "      <th>taxi_in</th>\n",
       "      <th>counter</th>\n",
       "      <th>dep_time_of_day</th>\n",
       "      <th>taxi_out</th>\n",
       "    </tr>\n",
       "  </thead>\n",
       "  <tbody>\n",
       "    <tr>\n",
       "      <th>0</th>\n",
       "      <td>Afternoon</td>\n",
       "      <td>20960.0</td>\n",
       "      <td>2867</td>\n",
       "      <td>NaN</td>\n",
       "      <td>NaN</td>\n",
       "    </tr>\n",
       "    <tr>\n",
       "      <th>1</th>\n",
       "      <td>Evening</td>\n",
       "      <td>17708.0</td>\n",
       "      <td>2239</td>\n",
       "      <td>NaN</td>\n",
       "      <td>NaN</td>\n",
       "    </tr>\n",
       "    <tr>\n",
       "      <th>2</th>\n",
       "      <td>Morning</td>\n",
       "      <td>23260.0</td>\n",
       "      <td>2892</td>\n",
       "      <td>NaN</td>\n",
       "      <td>NaN</td>\n",
       "    </tr>\n",
       "    <tr>\n",
       "      <th>0</th>\n",
       "      <td>NaN</td>\n",
       "      <td>NaN</td>\n",
       "      <td>2806</td>\n",
       "      <td>Afternoon</td>\n",
       "      <td>47708.0</td>\n",
       "    </tr>\n",
       "    <tr>\n",
       "      <th>1</th>\n",
       "      <td>NaN</td>\n",
       "      <td>NaN</td>\n",
       "      <td>2188</td>\n",
       "      <td>Evening</td>\n",
       "      <td>39977.0</td>\n",
       "    </tr>\n",
       "    <tr>\n",
       "      <th>2</th>\n",
       "      <td>NaN</td>\n",
       "      <td>NaN</td>\n",
       "      <td>4026</td>\n",
       "      <td>Morning</td>\n",
       "      <td>70834.0</td>\n",
       "    </tr>\n",
       "    <tr>\n",
       "      <th>3</th>\n",
       "      <td>NaN</td>\n",
       "      <td>NaN</td>\n",
       "      <td>813</td>\n",
       "      <td>Night</td>\n",
       "      <td>13536.0</td>\n",
       "    </tr>\n",
       "  </tbody>\n",
       "</table>\n",
       "</div>"
      ],
      "text/plain": [
       "  arr_time_of_day  taxi_in  counter dep_time_of_day  taxi_out\n",
       "0       Afternoon  20960.0     2867             NaN       NaN\n",
       "1         Evening  17708.0     2239             NaN       NaN\n",
       "2         Morning  23260.0     2892             NaN       NaN\n",
       "0             NaN      NaN     2806       Afternoon   47708.0\n",
       "1             NaN      NaN     2188         Evening   39977.0\n",
       "2             NaN      NaN     4026         Morning   70834.0\n",
       "3             NaN      NaN      813           Night   13536.0"
      ]
     },
     "execution_count": 52,
     "metadata": {},
     "output_type": "execute_result"
    }
   ],
   "source": [
    "taxi_merge_df"
   ]
  },
  {
   "cell_type": "code",
   "execution_count": null,
   "metadata": {},
   "outputs": [],
   "source": []
  },
  {
   "cell_type": "markdown",
   "metadata": {
    "tags": []
   },
   "source": [
    "### Our Findings\n",
    "We found through this exploration that taxi times are longest in the mornings for both arrivals and departures. However, the data suggests that departure taxi times are higher overall, with the morning being considerable longer than the rest of our time of day data for both arrivals *and* departures. \n",
    "<br>\n",
    "<br>\n",
    "There does seem to be a considerable correlation with morning taxi times, as the highest count of flights based on time of day was over 4000 flights for morning departures, a good 1100 more than any other time of day for both arrivals and departures."
   ]
  },
  {
   "cell_type": "markdown",
   "metadata": {
    "tags": []
   },
   "source": [
    "#### **Task 7**: Test the hypothesis whether planes fly faster when there is the departure delay? "
   ]
  },
  {
   "cell_type": "code",
   "execution_count": 53,
   "metadata": {},
   "outputs": [],
   "source": [
    "#create speed feature (dist/air time, miles/hr) then compare speed vs departure delay\n",
    "flights_tsk7 = data"
   ]
  },
  {
   "cell_type": "code",
   "execution_count": 54,
   "metadata": {},
   "outputs": [],
   "source": [
    "#we have to first convert air_time to hours before getting the average\n",
    "flights_tsk7['air_time'] = flights_tsk7['air_time']/60"
   ]
  },
  {
   "cell_type": "code",
   "execution_count": 55,
   "metadata": {},
   "outputs": [],
   "source": [
    "#divide distance (miles) by air_time (hours)\n",
    "flights_tsk7['flight_speed'] = flights_tsk7['distance']/flights_tsk7['air_time']"
   ]
  },
  {
   "cell_type": "code",
   "execution_count": 56,
   "metadata": {},
   "outputs": [],
   "source": [
    "# Drop NaNs\n",
    "flights_tsk7['flight_speed'].dropna(inplace=True)"
   ]
  },
  {
   "cell_type": "code",
   "execution_count": 57,
   "metadata": {},
   "outputs": [],
   "source": [
    "# grab ttest_ind from scipy\n",
    "from scipy.stats import ttest_ind"
   ]
  },
  {
   "cell_type": "code",
   "execution_count": 58,
   "metadata": {},
   "outputs": [],
   "source": [
    "res = ttest_ind(flights_tsk7['flight_speed'], flights_tsk7['dep_delay'], nan_policy='omit')"
   ]
  },
  {
   "cell_type": "code",
   "execution_count": 59,
   "metadata": {
    "tags": []
   },
   "outputs": [
    {
     "data": {
      "text/plain": [
       "Ttest_indResult(statistic=435.30284881151874, pvalue=0.0)"
      ]
     },
     "execution_count": 59,
     "metadata": {},
     "output_type": "execute_result"
    }
   ],
   "source": [
    "res"
   ]
  },
  {
   "cell_type": "code",
   "execution_count": 60,
   "metadata": {},
   "outputs": [
    {
     "data": {
      "text/plain": [
       "0.0"
      ]
     },
     "execution_count": 60,
     "metadata": {},
     "output_type": "execute_result"
    }
   ],
   "source": [
    "res.pvalue"
   ]
  },
  {
   "cell_type": "markdown",
   "metadata": {},
   "source": []
  },
  {
   "cell_type": "markdown",
   "metadata": {
    "tags": []
   },
   "source": [
    "#### **Task 9**: Find the top 10 the bussiest airports. Does the biggest number of flights mean that the biggest number of passengers went through the particular airport? How much traffic do these 10 airports cover?"
   ]
  },
  {
   "cell_type": "code",
   "execution_count": 61,
   "metadata": {},
   "outputs": [
    {
     "data": {
      "text/plain": [
       "(10000, 43)"
      ]
     },
     "execution_count": 61,
     "metadata": {},
     "output_type": "execute_result"
    }
   ],
   "source": [
    "# New DF from data\n",
    "flight_df = pd.read_csv('data/flights_10000.csv')\n",
    "flight_df.shape"
   ]
  },
  {
   "cell_type": "code",
   "execution_count": 62,
   "metadata": {},
   "outputs": [
    {
     "name": "stderr",
     "output_type": "stream",
     "text": [
      "/var/folders/x9/6n919l0d4kz2zjx2vkr6n41w0000gn/T/ipykernel_18403/2443660879.py:1: FutureWarning: Treating datetime data as categorical rather than numeric in `.describe` is deprecated and will be removed in a future version of pandas. Specify `datetime_is_numeric=True` to silence this warning and adopt the future behavior now.\n",
      "  data['fl_date'].describe()\n"
     ]
    },
    {
     "data": {
      "text/plain": [
       "count                   10000\n",
       "unique                    730\n",
       "top       2018-03-09 00:00:00\n",
       "freq                       29\n",
       "first     2018-01-01 00:00:00\n",
       "last      2019-12-31 00:00:00\n",
       "Name: fl_date, dtype: object"
      ]
     },
     "execution_count": 62,
     "metadata": {},
     "output_type": "execute_result"
    }
   ],
   "source": [
    "data['fl_date'].describe()"
   ]
  },
  {
   "cell_type": "code",
   "execution_count": 63,
   "metadata": {},
   "outputs": [
    {
     "data": {
      "text/html": [
       "<div>\n",
       "<style scoped>\n",
       "    .dataframe tbody tr th:only-of-type {\n",
       "        vertical-align: middle;\n",
       "    }\n",
       "\n",
       "    .dataframe tbody tr th {\n",
       "        vertical-align: top;\n",
       "    }\n",
       "\n",
       "    .dataframe thead th {\n",
       "        text-align: right;\n",
       "    }\n",
       "</style>\n",
       "<table border=\"1\" class=\"dataframe\">\n",
       "  <thead>\n",
       "    <tr style=\"text-align: right;\">\n",
       "      <th></th>\n",
       "      <th>Unnamed: 0</th>\n",
       "      <th>fl_date</th>\n",
       "      <th>mkt_unique_carrier</th>\n",
       "      <th>branded_code_share</th>\n",
       "      <th>mkt_carrier</th>\n",
       "      <th>mkt_carrier_fl_num</th>\n",
       "      <th>op_unique_carrier</th>\n",
       "      <th>tail_num</th>\n",
       "      <th>op_carrier_fl_num</th>\n",
       "      <th>origin_airport_id</th>\n",
       "      <th>...</th>\n",
       "      <th>distance</th>\n",
       "      <th>carrier_delay</th>\n",
       "      <th>weather_delay</th>\n",
       "      <th>nas_delay</th>\n",
       "      <th>security_delay</th>\n",
       "      <th>late_aircraft_delay</th>\n",
       "      <th>first_dep_time</th>\n",
       "      <th>total_add_gtime</th>\n",
       "      <th>longest_add_gtime</th>\n",
       "      <th>no_name</th>\n",
       "    </tr>\n",
       "  </thead>\n",
       "  <tbody>\n",
       "    <tr>\n",
       "      <th>0</th>\n",
       "      <td>0</td>\n",
       "      <td>2018-07-10</td>\n",
       "      <td>WN</td>\n",
       "      <td>WN</td>\n",
       "      <td>WN</td>\n",
       "      <td>2212</td>\n",
       "      <td>WN</td>\n",
       "      <td>N958WN</td>\n",
       "      <td>2212</td>\n",
       "      <td>14683</td>\n",
       "      <td>...</td>\n",
       "      <td>822.0</td>\n",
       "      <td>NaN</td>\n",
       "      <td>NaN</td>\n",
       "      <td>NaN</td>\n",
       "      <td>NaN</td>\n",
       "      <td>NaN</td>\n",
       "      <td>NaN</td>\n",
       "      <td>NaN</td>\n",
       "      <td>NaN</td>\n",
       "      <td>NaN</td>\n",
       "    </tr>\n",
       "    <tr>\n",
       "      <th>1</th>\n",
       "      <td>1</td>\n",
       "      <td>2019-10-10</td>\n",
       "      <td>UA</td>\n",
       "      <td>UA</td>\n",
       "      <td>UA</td>\n",
       "      <td>206</td>\n",
       "      <td>UA</td>\n",
       "      <td>N68811</td>\n",
       "      <td>206</td>\n",
       "      <td>13930</td>\n",
       "      <td>...</td>\n",
       "      <td>1005.0</td>\n",
       "      <td>NaN</td>\n",
       "      <td>NaN</td>\n",
       "      <td>NaN</td>\n",
       "      <td>NaN</td>\n",
       "      <td>NaN</td>\n",
       "      <td>NaN</td>\n",
       "      <td>NaN</td>\n",
       "      <td>NaN</td>\n",
       "      <td>NaN</td>\n",
       "    </tr>\n",
       "    <tr>\n",
       "      <th>2</th>\n",
       "      <td>2</td>\n",
       "      <td>2019-07-18</td>\n",
       "      <td>AA</td>\n",
       "      <td>AA_CODESHARE</td>\n",
       "      <td>AA</td>\n",
       "      <td>4221</td>\n",
       "      <td>MQ</td>\n",
       "      <td>N694AE</td>\n",
       "      <td>4221</td>\n",
       "      <td>12891</td>\n",
       "      <td>...</td>\n",
       "      <td>140.0</td>\n",
       "      <td>NaN</td>\n",
       "      <td>NaN</td>\n",
       "      <td>NaN</td>\n",
       "      <td>NaN</td>\n",
       "      <td>NaN</td>\n",
       "      <td>NaN</td>\n",
       "      <td>NaN</td>\n",
       "      <td>NaN</td>\n",
       "      <td>NaN</td>\n",
       "    </tr>\n",
       "    <tr>\n",
       "      <th>3</th>\n",
       "      <td>3</td>\n",
       "      <td>2018-11-25</td>\n",
       "      <td>UA</td>\n",
       "      <td>UA_CODESHARE</td>\n",
       "      <td>UA</td>\n",
       "      <td>4822</td>\n",
       "      <td>ZW</td>\n",
       "      <td>NaN</td>\n",
       "      <td>4822</td>\n",
       "      <td>14685</td>\n",
       "      <td>...</td>\n",
       "      <td>773.0</td>\n",
       "      <td>NaN</td>\n",
       "      <td>NaN</td>\n",
       "      <td>NaN</td>\n",
       "      <td>NaN</td>\n",
       "      <td>NaN</td>\n",
       "      <td>NaN</td>\n",
       "      <td>NaN</td>\n",
       "      <td>NaN</td>\n",
       "      <td>NaN</td>\n",
       "    </tr>\n",
       "    <tr>\n",
       "      <th>4</th>\n",
       "      <td>4</td>\n",
       "      <td>2018-10-24</td>\n",
       "      <td>DL</td>\n",
       "      <td>DL</td>\n",
       "      <td>DL</td>\n",
       "      <td>957</td>\n",
       "      <td>DL</td>\n",
       "      <td>N693DL</td>\n",
       "      <td>957</td>\n",
       "      <td>11433</td>\n",
       "      <td>...</td>\n",
       "      <td>1960.0</td>\n",
       "      <td>0.0</td>\n",
       "      <td>0.0</td>\n",
       "      <td>28.0</td>\n",
       "      <td>0.0</td>\n",
       "      <td>0.0</td>\n",
       "      <td>NaN</td>\n",
       "      <td>NaN</td>\n",
       "      <td>NaN</td>\n",
       "      <td>NaN</td>\n",
       "    </tr>\n",
       "  </tbody>\n",
       "</table>\n",
       "<p>5 rows × 43 columns</p>\n",
       "</div>"
      ],
      "text/plain": [
       "   Unnamed: 0     fl_date mkt_unique_carrier branded_code_share mkt_carrier  \\\n",
       "0           0  2018-07-10                 WN                 WN          WN   \n",
       "1           1  2019-10-10                 UA                 UA          UA   \n",
       "2           2  2019-07-18                 AA       AA_CODESHARE          AA   \n",
       "3           3  2018-11-25                 UA       UA_CODESHARE          UA   \n",
       "4           4  2018-10-24                 DL                 DL          DL   \n",
       "\n",
       "   mkt_carrier_fl_num op_unique_carrier tail_num  op_carrier_fl_num  \\\n",
       "0                2212                WN   N958WN               2212   \n",
       "1                 206                UA   N68811                206   \n",
       "2                4221                MQ   N694AE               4221   \n",
       "3                4822                ZW      NaN               4822   \n",
       "4                 957                DL   N693DL                957   \n",
       "\n",
       "   origin_airport_id  ... distance carrier_delay  weather_delay nas_delay  \\\n",
       "0              14683  ...    822.0           NaN            NaN       NaN   \n",
       "1              13930  ...   1005.0           NaN            NaN       NaN   \n",
       "2              12891  ...    140.0           NaN            NaN       NaN   \n",
       "3              14685  ...    773.0           NaN            NaN       NaN   \n",
       "4              11433  ...   1960.0           0.0            0.0      28.0   \n",
       "\n",
       "  security_delay  late_aircraft_delay  first_dep_time  total_add_gtime  \\\n",
       "0            NaN                  NaN             NaN              NaN   \n",
       "1            NaN                  NaN             NaN              NaN   \n",
       "2            NaN                  NaN             NaN              NaN   \n",
       "3            NaN                  NaN             NaN              NaN   \n",
       "4            0.0                  0.0             NaN              NaN   \n",
       "\n",
       "   longest_add_gtime  no_name  \n",
       "0                NaN      NaN  \n",
       "1                NaN      NaN  \n",
       "2                NaN      NaN  \n",
       "3                NaN      NaN  \n",
       "4                NaN      NaN  \n",
       "\n",
       "[5 rows x 43 columns]"
      ]
     },
     "execution_count": 63,
     "metadata": {},
     "output_type": "execute_result"
    }
   ],
   "source": [
    "flight_df.head()"
   ]
  },
  {
   "cell_type": "code",
   "execution_count": 64,
   "metadata": {},
   "outputs": [],
   "source": [
    "#columns for \n",
    "flight_df['year'] = data['fl_date'].dt.year\n",
    "flight_df['month'] = data['fl_date'].dt.month"
   ]
  },
  {
   "cell_type": "code",
   "execution_count": 65,
   "metadata": {},
   "outputs": [
    {
     "data": {
      "text/plain": [
       "(630458, 38)"
      ]
     },
     "execution_count": 65,
     "metadata": {},
     "output_type": "execute_result"
    }
   ],
   "source": [
    "# define passenger data\n",
    "pass_df = pd.read_csv('data/passenger_master.csv', index_col=0)\n",
    "pass_df.shape"
   ]
  },
  {
   "cell_type": "code",
   "execution_count": 66,
   "metadata": {
    "tags": []
   },
   "outputs": [
    {
     "data": {
      "text/plain": [
       "(57889, 74)"
      ]
     },
     "execution_count": 66,
     "metadata": {},
     "output_type": "execute_result"
    }
   ],
   "source": [
    "# data merge on common columns\n",
    "busy_df = flight_df.merge(pass_df, how='inner', on=['origin', 'origin_city_name', 'origin_airport_id', 'dest', \n",
    "                                                    'dest_city_name', 'dest_airport_id', 'distance', \n",
    "                                                    'year', 'month'])\n",
    "busy_df.shape"
   ]
  },
  {
   "cell_type": "code",
   "execution_count": 67,
   "metadata": {},
   "outputs": [],
   "source": [
    "origin_group = busy_df.groupby(['origin', 'year', 'month'])[['flights', 'passengers']].sum()"
   ]
  },
  {
   "cell_type": "code",
   "execution_count": 68,
   "metadata": {},
   "outputs": [],
   "source": [
    "origin_group.index.names = ['airport', 'year', 'month']"
   ]
  },
  {
   "cell_type": "code",
   "execution_count": 69,
   "metadata": {},
   "outputs": [],
   "source": [
    "origin_df = pd.DataFrame(origin_group).sort_values(['flights','passengers'], ascending=False)"
   ]
  },
  {
   "cell_type": "code",
   "execution_count": 70,
   "metadata": {},
   "outputs": [
    {
     "data": {
      "text/html": [
       "<div>\n",
       "<style scoped>\n",
       "    .dataframe tbody tr th:only-of-type {\n",
       "        vertical-align: middle;\n",
       "    }\n",
       "\n",
       "    .dataframe tbody tr th {\n",
       "        vertical-align: top;\n",
       "    }\n",
       "\n",
       "    .dataframe thead th {\n",
       "        text-align: right;\n",
       "    }\n",
       "</style>\n",
       "<table border=\"1\" class=\"dataframe\">\n",
       "  <thead>\n",
       "    <tr style=\"text-align: right;\">\n",
       "      <th></th>\n",
       "      <th></th>\n",
       "      <th></th>\n",
       "      <th>flights</th>\n",
       "      <th>passengers</th>\n",
       "    </tr>\n",
       "    <tr>\n",
       "      <th>airport</th>\n",
       "      <th>year</th>\n",
       "      <th>month</th>\n",
       "      <th></th>\n",
       "      <th></th>\n",
       "    </tr>\n",
       "  </thead>\n",
       "  <tbody>\n",
       "    <tr>\n",
       "      <th rowspan=\"2\" valign=\"top\">ORD</th>\n",
       "      <th>2018</th>\n",
       "      <th>6</th>\n",
       "      <td>318.0</td>\n",
       "      <td>1379841.0</td>\n",
       "    </tr>\n",
       "    <tr>\n",
       "      <th>2019</th>\n",
       "      <th>11</th>\n",
       "      <td>301.0</td>\n",
       "      <td>1022869.0</td>\n",
       "    </tr>\n",
       "    <tr>\n",
       "      <th rowspan=\"2\" valign=\"top\">LAX</th>\n",
       "      <th rowspan=\"2\" valign=\"top\">2019</th>\n",
       "      <th>12</th>\n",
       "      <td>261.0</td>\n",
       "      <td>1319686.0</td>\n",
       "    </tr>\n",
       "    <tr>\n",
       "      <th>11</th>\n",
       "      <td>245.0</td>\n",
       "      <td>1123927.0</td>\n",
       "    </tr>\n",
       "    <tr>\n",
       "      <th>ORD</th>\n",
       "      <th>2018</th>\n",
       "      <th>9</th>\n",
       "      <td>245.0</td>\n",
       "      <td>568368.0</td>\n",
       "    </tr>\n",
       "    <tr>\n",
       "      <th>...</th>\n",
       "      <th>...</th>\n",
       "      <th>...</th>\n",
       "      <td>...</td>\n",
       "      <td>...</td>\n",
       "    </tr>\n",
       "    <tr>\n",
       "      <th rowspan=\"3\" valign=\"top\">JHM</th>\n",
       "      <th rowspan=\"3\" valign=\"top\">2018</th>\n",
       "      <th>3</th>\n",
       "      <td>1.0</td>\n",
       "      <td>0.0</td>\n",
       "    </tr>\n",
       "    <tr>\n",
       "      <th>5</th>\n",
       "      <td>1.0</td>\n",
       "      <td>0.0</td>\n",
       "    </tr>\n",
       "    <tr>\n",
       "      <th>10</th>\n",
       "      <td>1.0</td>\n",
       "      <td>0.0</td>\n",
       "    </tr>\n",
       "    <tr>\n",
       "      <th>LAN</th>\n",
       "      <th>2018</th>\n",
       "      <th>5</th>\n",
       "      <td>1.0</td>\n",
       "      <td>0.0</td>\n",
       "    </tr>\n",
       "    <tr>\n",
       "      <th>LNY</th>\n",
       "      <th>2018</th>\n",
       "      <th>5</th>\n",
       "      <td>1.0</td>\n",
       "      <td>0.0</td>\n",
       "    </tr>\n",
       "  </tbody>\n",
       "</table>\n",
       "<p>2726 rows × 2 columns</p>\n",
       "</div>"
      ],
      "text/plain": [
       "                    flights  passengers\n",
       "airport year month                     \n",
       "ORD     2018 6        318.0   1379841.0\n",
       "        2019 11       301.0   1022869.0\n",
       "LAX     2019 12       261.0   1319686.0\n",
       "             11       245.0   1123927.0\n",
       "ORD     2018 9        245.0    568368.0\n",
       "...                     ...         ...\n",
       "JHM     2018 3          1.0         0.0\n",
       "             5          1.0         0.0\n",
       "             10         1.0         0.0\n",
       "LAN     2018 5          1.0         0.0\n",
       "LNY     2018 5          1.0         0.0\n",
       "\n",
       "[2726 rows x 2 columns]"
      ]
     },
     "execution_count": 70,
     "metadata": {},
     "output_type": "execute_result"
    }
   ],
   "source": [
    "origin_df"
   ]
  },
  {
   "cell_type": "code",
   "execution_count": 71,
   "metadata": {},
   "outputs": [],
   "source": [
    "dest_group = busy_df.groupby(['dest', 'year', 'month'])[['flights', 'passengers']].sum()"
   ]
  },
  {
   "cell_type": "code",
   "execution_count": 72,
   "metadata": {},
   "outputs": [],
   "source": [
    "dest_group.index.names = ['airport', 'year', 'month']"
   ]
  },
  {
   "cell_type": "code",
   "execution_count": 73,
   "metadata": {},
   "outputs": [],
   "source": [
    "dest_df = pd.DataFrame(dest_group).sort_values(['flights','passengers'], ascending=False)"
   ]
  },
  {
   "cell_type": "code",
   "execution_count": 74,
   "metadata": {},
   "outputs": [
    {
     "data": {
      "text/html": [
       "<div>\n",
       "<style scoped>\n",
       "    .dataframe tbody tr th:only-of-type {\n",
       "        vertical-align: middle;\n",
       "    }\n",
       "\n",
       "    .dataframe tbody tr th {\n",
       "        vertical-align: top;\n",
       "    }\n",
       "\n",
       "    .dataframe thead th {\n",
       "        text-align: right;\n",
       "    }\n",
       "</style>\n",
       "<table border=\"1\" class=\"dataframe\">\n",
       "  <thead>\n",
       "    <tr style=\"text-align: right;\">\n",
       "      <th></th>\n",
       "      <th></th>\n",
       "      <th></th>\n",
       "      <th>flights</th>\n",
       "      <th>passengers</th>\n",
       "    </tr>\n",
       "    <tr>\n",
       "      <th>airport</th>\n",
       "      <th>year</th>\n",
       "      <th>month</th>\n",
       "      <th></th>\n",
       "      <th></th>\n",
       "    </tr>\n",
       "  </thead>\n",
       "  <tbody>\n",
       "    <tr>\n",
       "      <th rowspan=\"5\" valign=\"top\">ORD</th>\n",
       "      <th rowspan=\"4\" valign=\"top\">2019</th>\n",
       "      <th>10</th>\n",
       "      <td>288.0</td>\n",
       "      <td>1153848.0</td>\n",
       "    </tr>\n",
       "    <tr>\n",
       "      <th>12</th>\n",
       "      <td>288.0</td>\n",
       "      <td>895925.0</td>\n",
       "    </tr>\n",
       "    <tr>\n",
       "      <th>6</th>\n",
       "      <td>267.0</td>\n",
       "      <td>1051047.0</td>\n",
       "    </tr>\n",
       "    <tr>\n",
       "      <th>8</th>\n",
       "      <td>259.0</td>\n",
       "      <td>934305.0</td>\n",
       "    </tr>\n",
       "    <tr>\n",
       "      <th>2018</th>\n",
       "      <th>10</th>\n",
       "      <td>240.0</td>\n",
       "      <td>664720.0</td>\n",
       "    </tr>\n",
       "    <tr>\n",
       "      <th>...</th>\n",
       "      <th>...</th>\n",
       "      <th>...</th>\n",
       "      <td>...</td>\n",
       "      <td>...</td>\n",
       "    </tr>\n",
       "    <tr>\n",
       "      <th>PNS</th>\n",
       "      <th>2019</th>\n",
       "      <th>5</th>\n",
       "      <td>1.0</td>\n",
       "      <td>122.0</td>\n",
       "    </tr>\n",
       "    <tr>\n",
       "      <th>PGV</th>\n",
       "      <th>2018</th>\n",
       "      <th>6</th>\n",
       "      <td>1.0</td>\n",
       "      <td>32.0</td>\n",
       "    </tr>\n",
       "    <tr>\n",
       "      <th>GUM</th>\n",
       "      <th>2018</th>\n",
       "      <th>4</th>\n",
       "      <td>1.0</td>\n",
       "      <td>16.0</td>\n",
       "    </tr>\n",
       "    <tr>\n",
       "      <th>MVY</th>\n",
       "      <th>2019</th>\n",
       "      <th>6</th>\n",
       "      <td>1.0</td>\n",
       "      <td>4.0</td>\n",
       "    </tr>\n",
       "    <tr>\n",
       "      <th>BQK</th>\n",
       "      <th>2019</th>\n",
       "      <th>4</th>\n",
       "      <td>1.0</td>\n",
       "      <td>0.0</td>\n",
       "    </tr>\n",
       "  </tbody>\n",
       "</table>\n",
       "<p>2770 rows × 2 columns</p>\n",
       "</div>"
      ],
      "text/plain": [
       "                    flights  passengers\n",
       "airport year month                     \n",
       "ORD     2019 10       288.0   1153848.0\n",
       "             12       288.0    895925.0\n",
       "             6        267.0   1051047.0\n",
       "             8        259.0    934305.0\n",
       "        2018 10       240.0    664720.0\n",
       "...                     ...         ...\n",
       "PNS     2019 5          1.0       122.0\n",
       "PGV     2018 6          1.0        32.0\n",
       "GUM     2018 4          1.0        16.0\n",
       "MVY     2019 6          1.0         4.0\n",
       "BQK     2019 4          1.0         0.0\n",
       "\n",
       "[2770 rows x 2 columns]"
      ]
     },
     "execution_count": 74,
     "metadata": {},
     "output_type": "execute_result"
    }
   ],
   "source": [
    "dest_df"
   ]
  },
  {
   "cell_type": "code",
   "execution_count": 75,
   "metadata": {},
   "outputs": [],
   "source": [
    "#Concatenate into one df\n",
    "airport_df = pd.concat([origin_df, dest_df]).groupby(['airport']).sum()"
   ]
  },
  {
   "cell_type": "code",
   "execution_count": 76,
   "metadata": {},
   "outputs": [
    {
     "data": {
      "text/html": [
       "<div>\n",
       "<style scoped>\n",
       "    .dataframe tbody tr th:only-of-type {\n",
       "        vertical-align: middle;\n",
       "    }\n",
       "\n",
       "    .dataframe tbody tr th {\n",
       "        vertical-align: top;\n",
       "    }\n",
       "\n",
       "    .dataframe thead th {\n",
       "        text-align: right;\n",
       "    }\n",
       "</style>\n",
       "<table border=\"1\" class=\"dataframe\">\n",
       "  <thead>\n",
       "    <tr style=\"text-align: right;\">\n",
       "      <th></th>\n",
       "      <th>flights</th>\n",
       "      <th>passengers</th>\n",
       "    </tr>\n",
       "    <tr>\n",
       "      <th>airport</th>\n",
       "      <th></th>\n",
       "      <th></th>\n",
       "    </tr>\n",
       "  </thead>\n",
       "  <tbody>\n",
       "    <tr>\n",
       "      <th>ATL</th>\n",
       "      <td>6696.0</td>\n",
       "      <td>35628746.0</td>\n",
       "    </tr>\n",
       "    <tr>\n",
       "      <th>LAX</th>\n",
       "      <td>6677.0</td>\n",
       "      <td>34476018.0</td>\n",
       "    </tr>\n",
       "    <tr>\n",
       "      <th>ORD</th>\n",
       "      <td>9385.0</td>\n",
       "      <td>30280979.0</td>\n",
       "    </tr>\n",
       "    <tr>\n",
       "      <th>DEN</th>\n",
       "      <td>6706.0</td>\n",
       "      <td>24516842.0</td>\n",
       "    </tr>\n",
       "    <tr>\n",
       "      <th>SFO</th>\n",
       "      <td>3998.0</td>\n",
       "      <td>20258202.0</td>\n",
       "    </tr>\n",
       "    <tr>\n",
       "      <th>SEA</th>\n",
       "      <td>3730.0</td>\n",
       "      <td>17998091.0</td>\n",
       "    </tr>\n",
       "    <tr>\n",
       "      <th>DFW</th>\n",
       "      <td>3800.0</td>\n",
       "      <td>16959539.0</td>\n",
       "    </tr>\n",
       "    <tr>\n",
       "      <th>LAS</th>\n",
       "      <td>3205.0</td>\n",
       "      <td>16758350.0</td>\n",
       "    </tr>\n",
       "    <tr>\n",
       "      <th>LGA</th>\n",
       "      <td>2554.0</td>\n",
       "      <td>13725121.0</td>\n",
       "    </tr>\n",
       "    <tr>\n",
       "      <th>MCO</th>\n",
       "      <td>2340.0</td>\n",
       "      <td>12686891.0</td>\n",
       "    </tr>\n",
       "  </tbody>\n",
       "</table>\n",
       "</div>"
      ],
      "text/plain": [
       "         flights  passengers\n",
       "airport                     \n",
       "ATL       6696.0  35628746.0\n",
       "LAX       6677.0  34476018.0\n",
       "ORD       9385.0  30280979.0\n",
       "DEN       6706.0  24516842.0\n",
       "SFO       3998.0  20258202.0\n",
       "SEA       3730.0  17998091.0\n",
       "DFW       3800.0  16959539.0\n",
       "LAS       3205.0  16758350.0\n",
       "LGA       2554.0  13725121.0\n",
       "MCO       2340.0  12686891.0"
      ]
     },
     "execution_count": 76,
     "metadata": {},
     "output_type": "execute_result"
    }
   ],
   "source": [
    "top_ten_pass = airport_df.sort_values(['passengers'], ascending=False).head(10)\n",
    "top_ten_pass"
   ]
  },
  {
   "cell_type": "code",
   "execution_count": 77,
   "metadata": {},
   "outputs": [
    {
     "data": {
      "text/html": [
       "<div>\n",
       "<style scoped>\n",
       "    .dataframe tbody tr th:only-of-type {\n",
       "        vertical-align: middle;\n",
       "    }\n",
       "\n",
       "    .dataframe tbody tr th {\n",
       "        vertical-align: top;\n",
       "    }\n",
       "\n",
       "    .dataframe thead th {\n",
       "        text-align: right;\n",
       "    }\n",
       "</style>\n",
       "<table border=\"1\" class=\"dataframe\">\n",
       "  <thead>\n",
       "    <tr style=\"text-align: right;\">\n",
       "      <th></th>\n",
       "      <th>flights</th>\n",
       "      <th>passengers</th>\n",
       "    </tr>\n",
       "    <tr>\n",
       "      <th>airport</th>\n",
       "      <th></th>\n",
       "      <th></th>\n",
       "    </tr>\n",
       "  </thead>\n",
       "  <tbody>\n",
       "    <tr>\n",
       "      <th>ORD</th>\n",
       "      <td>9385.0</td>\n",
       "      <td>30280979.0</td>\n",
       "    </tr>\n",
       "    <tr>\n",
       "      <th>DEN</th>\n",
       "      <td>6706.0</td>\n",
       "      <td>24516842.0</td>\n",
       "    </tr>\n",
       "    <tr>\n",
       "      <th>ATL</th>\n",
       "      <td>6696.0</td>\n",
       "      <td>35628746.0</td>\n",
       "    </tr>\n",
       "    <tr>\n",
       "      <th>LAX</th>\n",
       "      <td>6677.0</td>\n",
       "      <td>34476018.0</td>\n",
       "    </tr>\n",
       "    <tr>\n",
       "      <th>SFO</th>\n",
       "      <td>3998.0</td>\n",
       "      <td>20258202.0</td>\n",
       "    </tr>\n",
       "    <tr>\n",
       "      <th>DFW</th>\n",
       "      <td>3800.0</td>\n",
       "      <td>16959539.0</td>\n",
       "    </tr>\n",
       "    <tr>\n",
       "      <th>SEA</th>\n",
       "      <td>3730.0</td>\n",
       "      <td>17998091.0</td>\n",
       "    </tr>\n",
       "    <tr>\n",
       "      <th>LAS</th>\n",
       "      <td>3205.0</td>\n",
       "      <td>16758350.0</td>\n",
       "    </tr>\n",
       "    <tr>\n",
       "      <th>EWR</th>\n",
       "      <td>3086.0</td>\n",
       "      <td>10802100.0</td>\n",
       "    </tr>\n",
       "    <tr>\n",
       "      <th>IAH</th>\n",
       "      <td>3014.0</td>\n",
       "      <td>8366994.0</td>\n",
       "    </tr>\n",
       "  </tbody>\n",
       "</table>\n",
       "</div>"
      ],
      "text/plain": [
       "         flights  passengers\n",
       "airport                     \n",
       "ORD       9385.0  30280979.0\n",
       "DEN       6706.0  24516842.0\n",
       "ATL       6696.0  35628746.0\n",
       "LAX       6677.0  34476018.0\n",
       "SFO       3998.0  20258202.0\n",
       "DFW       3800.0  16959539.0\n",
       "SEA       3730.0  17998091.0\n",
       "LAS       3205.0  16758350.0\n",
       "EWR       3086.0  10802100.0\n",
       "IAH       3014.0   8366994.0"
      ]
     },
     "execution_count": 77,
     "metadata": {},
     "output_type": "execute_result"
    }
   ],
   "source": [
    "top_ten_flights = airport_df.sort_values(['flights'], ascending=False).head(10)\n",
    "top_ten_flights"
   ]
  },
  {
   "cell_type": "markdown",
   "metadata": {
    "tags": []
   },
   "source": [
    "### Conclusions:\n",
    "This is a list of the top 10 busiest airports by both total flights and total passengers. As can be seen above, flights vs passengers is slightly ambiguous when it comes to defining the 'busiest' airport."
   ]
  },
  {
   "cell_type": "code",
   "execution_count": 78,
   "metadata": {},
   "outputs": [],
   "source": [
    "pass_avg_traffic = round((top_ten_pass.passengers.sum()/airport_df.passengers.sum())*100, 2)"
   ]
  },
  {
   "cell_type": "code",
   "execution_count": 79,
   "metadata": {},
   "outputs": [
    {
     "name": "stdout",
     "output_type": "stream",
     "text": [
      "The top ten airports (by passengers) make up 47.9% of total pedestrian traffic.\n"
     ]
    }
   ],
   "source": [
    "print (f'The top ten airports (by passengers) make up {pass_avg_traffic}% of total pedestrian traffic.')"
   ]
  },
  {
   "cell_type": "code",
   "execution_count": 80,
   "metadata": {},
   "outputs": [],
   "source": [
    "flight_avg_traffic = round((top_ten_flights.flights.sum()/airport_df.flights.sum())*100, 2)"
   ]
  },
  {
   "cell_type": "code",
   "execution_count": 81,
   "metadata": {},
   "outputs": [
    {
     "name": "stdout",
     "output_type": "stream",
     "text": [
      "The top ten airports (by flights) make up 43.44% of total domestic plane traffic.\n"
     ]
    }
   ],
   "source": [
    "print (f'The top ten airports (by flights) make up {flight_avg_traffic}% of total domestic plane traffic.')"
   ]
  },
  {
   "cell_type": "markdown",
   "metadata": {},
   "source": [
    "#### Some extra flavour\n",
    "because the question is ambiguous, here is some other data that can be visualized to compare different definitions of 'busy'."
   ]
  },
  {
   "cell_type": "code",
   "execution_count": 82,
   "metadata": {},
   "outputs": [],
   "source": [
    "# The Busiest Month\n",
    "# Group by Month\n",
    "airport_df2  = pd.concat([origin_df, dest_df]).groupby(['month']).sum()"
   ]
  },
  {
   "cell_type": "code",
   "execution_count": 83,
   "metadata": {},
   "outputs": [
    {
     "data": {
      "text/html": [
       "<div>\n",
       "<style scoped>\n",
       "    .dataframe tbody tr th:only-of-type {\n",
       "        vertical-align: middle;\n",
       "    }\n",
       "\n",
       "    .dataframe tbody tr th {\n",
       "        vertical-align: top;\n",
       "    }\n",
       "\n",
       "    .dataframe thead th {\n",
       "        text-align: right;\n",
       "    }\n",
       "</style>\n",
       "<table border=\"1\" class=\"dataframe\">\n",
       "  <thead>\n",
       "    <tr style=\"text-align: right;\">\n",
       "      <th></th>\n",
       "      <th>flights</th>\n",
       "      <th>passengers</th>\n",
       "    </tr>\n",
       "    <tr>\n",
       "      <th>month</th>\n",
       "      <th></th>\n",
       "      <th></th>\n",
       "    </tr>\n",
       "  </thead>\n",
       "  <tbody>\n",
       "    <tr>\n",
       "      <th>8</th>\n",
       "      <td>10612.0</td>\n",
       "      <td>47701902.0</td>\n",
       "    </tr>\n",
       "    <tr>\n",
       "      <th>7</th>\n",
       "      <td>9510.0</td>\n",
       "      <td>42618296.0</td>\n",
       "    </tr>\n",
       "    <tr>\n",
       "      <th>10</th>\n",
       "      <td>10180.0</td>\n",
       "      <td>42601050.0</td>\n",
       "    </tr>\n",
       "    <tr>\n",
       "      <th>6</th>\n",
       "      <td>10046.0</td>\n",
       "      <td>41920746.0</td>\n",
       "    </tr>\n",
       "    <tr>\n",
       "      <th>5</th>\n",
       "      <td>8986.0</td>\n",
       "      <td>41262804.0</td>\n",
       "    </tr>\n",
       "    <tr>\n",
       "      <th>4</th>\n",
       "      <td>9982.0</td>\n",
       "      <td>40496114.0</td>\n",
       "    </tr>\n",
       "    <tr>\n",
       "      <th>11</th>\n",
       "      <td>10404.0</td>\n",
       "      <td>38776106.0</td>\n",
       "    </tr>\n",
       "    <tr>\n",
       "      <th>12</th>\n",
       "      <td>10430.0</td>\n",
       "      <td>38081566.0</td>\n",
       "    </tr>\n",
       "    <tr>\n",
       "      <th>3</th>\n",
       "      <td>9332.0</td>\n",
       "      <td>38024642.0</td>\n",
       "    </tr>\n",
       "    <tr>\n",
       "      <th>9</th>\n",
       "      <td>8484.0</td>\n",
       "      <td>33211298.0</td>\n",
       "    </tr>\n",
       "  </tbody>\n",
       "</table>\n",
       "</div>"
      ],
      "text/plain": [
       "       flights  passengers\n",
       "month                     \n",
       "8      10612.0  47701902.0\n",
       "7       9510.0  42618296.0\n",
       "10     10180.0  42601050.0\n",
       "6      10046.0  41920746.0\n",
       "5       8986.0  41262804.0\n",
       "4       9982.0  40496114.0\n",
       "11     10404.0  38776106.0\n",
       "12     10430.0  38081566.0\n",
       "3       9332.0  38024642.0\n",
       "9       8484.0  33211298.0"
      ]
     },
     "execution_count": 83,
     "metadata": {},
     "output_type": "execute_result"
    }
   ],
   "source": [
    "# Sort by passengers\n",
    "airport_df2.sort_values(['passengers'], ascending=False).head(10)"
   ]
  },
  {
   "cell_type": "code",
   "execution_count": 84,
   "metadata": {},
   "outputs": [
    {
     "data": {
      "text/html": [
       "<div>\n",
       "<style scoped>\n",
       "    .dataframe tbody tr th:only-of-type {\n",
       "        vertical-align: middle;\n",
       "    }\n",
       "\n",
       "    .dataframe tbody tr th {\n",
       "        vertical-align: top;\n",
       "    }\n",
       "\n",
       "    .dataframe thead th {\n",
       "        text-align: right;\n",
       "    }\n",
       "</style>\n",
       "<table border=\"1\" class=\"dataframe\">\n",
       "  <thead>\n",
       "    <tr style=\"text-align: right;\">\n",
       "      <th></th>\n",
       "      <th>flights</th>\n",
       "      <th>passengers</th>\n",
       "    </tr>\n",
       "    <tr>\n",
       "      <th>month</th>\n",
       "      <th></th>\n",
       "      <th></th>\n",
       "    </tr>\n",
       "  </thead>\n",
       "  <tbody>\n",
       "    <tr>\n",
       "      <th>8</th>\n",
       "      <td>10612.0</td>\n",
       "      <td>47701902.0</td>\n",
       "    </tr>\n",
       "    <tr>\n",
       "      <th>12</th>\n",
       "      <td>10430.0</td>\n",
       "      <td>38081566.0</td>\n",
       "    </tr>\n",
       "    <tr>\n",
       "      <th>11</th>\n",
       "      <td>10404.0</td>\n",
       "      <td>38776106.0</td>\n",
       "    </tr>\n",
       "    <tr>\n",
       "      <th>10</th>\n",
       "      <td>10180.0</td>\n",
       "      <td>42601050.0</td>\n",
       "    </tr>\n",
       "    <tr>\n",
       "      <th>6</th>\n",
       "      <td>10046.0</td>\n",
       "      <td>41920746.0</td>\n",
       "    </tr>\n",
       "    <tr>\n",
       "      <th>4</th>\n",
       "      <td>9982.0</td>\n",
       "      <td>40496114.0</td>\n",
       "    </tr>\n",
       "    <tr>\n",
       "      <th>7</th>\n",
       "      <td>9510.0</td>\n",
       "      <td>42618296.0</td>\n",
       "    </tr>\n",
       "    <tr>\n",
       "      <th>3</th>\n",
       "      <td>9332.0</td>\n",
       "      <td>38024642.0</td>\n",
       "    </tr>\n",
       "    <tr>\n",
       "      <th>5</th>\n",
       "      <td>8986.0</td>\n",
       "      <td>41262804.0</td>\n",
       "    </tr>\n",
       "    <tr>\n",
       "      <th>1</th>\n",
       "      <td>8976.0</td>\n",
       "      <td>30729920.0</td>\n",
       "    </tr>\n",
       "  </tbody>\n",
       "</table>\n",
       "</div>"
      ],
      "text/plain": [
       "       flights  passengers\n",
       "month                     \n",
       "8      10612.0  47701902.0\n",
       "12     10430.0  38081566.0\n",
       "11     10404.0  38776106.0\n",
       "10     10180.0  42601050.0\n",
       "6      10046.0  41920746.0\n",
       "4       9982.0  40496114.0\n",
       "7       9510.0  42618296.0\n",
       "3       9332.0  38024642.0\n",
       "5       8986.0  41262804.0\n",
       "1       8976.0  30729920.0"
      ]
     },
     "execution_count": 84,
     "metadata": {},
     "output_type": "execute_result"
    }
   ],
   "source": [
    "# Sort by flights \n",
    "airport_df2.sort_values(['flights'], ascending=False).head(10)"
   ]
  },
  {
   "cell_type": "markdown",
   "metadata": {},
   "source": [
    "#### **Task 10**: Do bigger delays lead to bigger fuel comsumption per passenger? \n",
    "We need to do four things to answer this as accurate as possible:\n",
    "- Find out average monthly delay per air carrier (monthly delay is sum of all delays in 1 month)\n",
    "- Find out distance covered monthly by different air carriers\n",
    "- Find out number of passengers that were carried by different air carriers\n",
    "- Find out total fuel comsumption per air carrier.\n",
    "\n",
    "Use this information to get the average fuel comsumption per passenger per km. Is this higher for the airlines with bigger average delays?"
   ]
  },
  {
   "cell_type": "code",
   "execution_count": null,
   "metadata": {},
   "outputs": [],
   "source": []
  },
  {
   "cell_type": "markdown",
   "metadata": {},
   "source": [
    "# FEATURE SELECTION EXTRAS (CATEGORICAL)"
   ]
  },
  {
   "cell_type": "code",
   "execution_count": 85,
   "metadata": {},
   "outputs": [],
   "source": [
    "def time_of_day(df, method='dep'):  \n",
    "    \"\"\"\n",
    "    Creates time of day column based on dataframe values for actual departure time and actual arrival time using mapping.  \n",
    "   \n",
    "    500 - 1200: Morning\n",
    "    1200 - 1700: Afternoon\n",
    "    1700 - 2100: Evening\n",
    "    2100 - 2399 OR 0 - 499: Nite\n",
    "    \n",
    "    Input: df = Dataframe\n",
    "           method = 'dep' - departures\n",
    "                    'arr' - arrivals\n",
    "           \n",
    "    \"\"\"\n",
    "    if method == 'dep':\n",
    "        if (df['dep_time'] >=500 and df['dep_time'] < 1200):\n",
    "            return 'Morning'\n",
    "        elif (df['dep_time'] >=1200 and df['dep_time'] < 1700):\n",
    "            return 'Afternoon'        \n",
    "        elif (df['dep_time'] >= 1700 and df['dep_time'] < 2100): \n",
    "            return 'Evening'\n",
    "        return 'Night'\n",
    "    \n",
    "    elif method == 'arr':\n",
    "        if (df['arr_time'] >=500 and df['arr_time'] < 1200):\n",
    "            return 'Morning'\n",
    "        elif (df['arr_time'] >=1200 and df['arr_time'] < 1700):\n",
    "            return 'Afternoon'        \n",
    "        elif (df['arr_time'] >= 1700 and df['arr_time'] < 2100) :\n",
    "            return 'Evening'"
   ]
  },
  {
   "cell_type": "code",
   "execution_count": 121,
   "metadata": {},
   "outputs": [],
   "source": [
    "def feature_categorizer(df):\n",
    "    \"\"\"\n",
    "    This function will call other functions within data_preprocessing.py and write their outputs to a new csv file with the \n",
    "    additional features created by the other functions. \n",
    "    \n",
    "    df: DataFrame\n",
    "    \"\"\"\n",
    "    \n",
    "    # Create time of day features for dataframe\n",
    "    df['dep_time_of_day'] = df.apply(lambda df: time_of_day(df, method='dep'), axis=1)\n",
    "    df['arr_time_of_day'] = df.apply(lambda df: time_of_day(df, method='arr'), axis=1)\n",
    "    \n",
    "    # Create empty dictionary to build temporary map\n",
    "    tod_dict = {}\n",
    "    \n",
    "    # Loop through dep_time_of_day using enumerate to get all possible values for map\n",
    "    for key, value in enumerate(df['dep_time_of_day'].unique()):\n",
    "        tod_dict[value] = key                      #<------ assign values from enumerate as keys to dict, vice versa\n",
    "    \n",
    "    # Replace values in new df columns with mapping\n",
    "    df['dep_tod'] = df['dep_time_of_day'].map(tod_dict)\n",
    "    df['arr_tod'] = df['arr_time_of_day'].map(tod_dict)"
   ]
  },
  {
   "cell_type": "code",
   "execution_count": 123,
   "metadata": {},
   "outputs": [
    {
     "ename": "ValueError",
     "evalue": "Columns must be same length as key",
     "output_type": "error",
     "traceback": [
      "\u001b[0;31m---------------------------------------------------------------------------\u001b[0m",
      "\u001b[0;31mValueError\u001b[0m                                Traceback (most recent call last)",
      "Cell \u001b[0;32mIn [123], line 1\u001b[0m\n\u001b[0;32m----> 1\u001b[0m feature_categorizer(data)\n",
      "Cell \u001b[0;32mIn [121], line 10\u001b[0m, in \u001b[0;36mfeature_categorizer\u001b[0;34m(df)\u001b[0m\n\u001b[1;32m      2\u001b[0m \u001b[38;5;124;03m\"\"\"\u001b[39;00m\n\u001b[1;32m      3\u001b[0m \u001b[38;5;124;03mThis function will call other functions within data_preprocessing.py and write their outputs to a new csv file with the \u001b[39;00m\n\u001b[1;32m      4\u001b[0m \u001b[38;5;124;03madditional features created by the other functions. \u001b[39;00m\n\u001b[1;32m      5\u001b[0m \u001b[38;5;124;03m\u001b[39;00m\n\u001b[1;32m      6\u001b[0m \u001b[38;5;124;03mdf: DataFrame\u001b[39;00m\n\u001b[1;32m      7\u001b[0m \u001b[38;5;124;03m\"\"\"\u001b[39;00m\n\u001b[1;32m      9\u001b[0m \u001b[38;5;66;03m# Create time of day features for dataframe\u001b[39;00m\n\u001b[0;32m---> 10\u001b[0m \u001b[43mdf\u001b[49m\u001b[43m[\u001b[49m\u001b[38;5;124;43m'\u001b[39;49m\u001b[38;5;124;43mdep_time_of_day\u001b[39;49m\u001b[38;5;124;43m'\u001b[39;49m\u001b[43m]\u001b[49m \u001b[38;5;241m=\u001b[39m df\u001b[38;5;241m.\u001b[39mapply(\u001b[38;5;28;01mlambda\u001b[39;00m df: time_of_day(df, method\u001b[38;5;241m=\u001b[39m\u001b[38;5;124m'\u001b[39m\u001b[38;5;124mdep\u001b[39m\u001b[38;5;124m'\u001b[39m), axis\u001b[38;5;241m=\u001b[39m\u001b[38;5;241m1\u001b[39m)\n\u001b[1;32m     11\u001b[0m df[\u001b[38;5;124m'\u001b[39m\u001b[38;5;124marr_time_of_day\u001b[39m\u001b[38;5;124m'\u001b[39m] \u001b[38;5;241m=\u001b[39m df\u001b[38;5;241m.\u001b[39mapply(\u001b[38;5;28;01mlambda\u001b[39;00m df: time_of_day(df, method\u001b[38;5;241m=\u001b[39m\u001b[38;5;124m'\u001b[39m\u001b[38;5;124marr\u001b[39m\u001b[38;5;124m'\u001b[39m), axis\u001b[38;5;241m=\u001b[39m\u001b[38;5;241m1\u001b[39m)\n\u001b[1;32m     13\u001b[0m \u001b[38;5;66;03m# Create empty dictionary to build temporary map\u001b[39;00m\n",
      "File \u001b[0;32m/opt/homebrew/Caskroom/miniforge/base/envs/base_env/lib/python3.8/site-packages/pandas/core/frame.py:3645\u001b[0m, in \u001b[0;36mDataFrame.__setitem__\u001b[0;34m(self, key, value)\u001b[0m\n\u001b[1;32m   3643\u001b[0m     \u001b[38;5;28mself\u001b[39m\u001b[38;5;241m.\u001b[39m_setitem_array(key, value)\n\u001b[1;32m   3644\u001b[0m \u001b[38;5;28;01melif\u001b[39;00m \u001b[38;5;28misinstance\u001b[39m(value, DataFrame):\n\u001b[0;32m-> 3645\u001b[0m     \u001b[38;5;28;43mself\u001b[39;49m\u001b[38;5;241;43m.\u001b[39;49m\u001b[43m_set_item_frame_value\u001b[49m\u001b[43m(\u001b[49m\u001b[43mkey\u001b[49m\u001b[43m,\u001b[49m\u001b[43m \u001b[49m\u001b[43mvalue\u001b[49m\u001b[43m)\u001b[49m\n\u001b[1;32m   3646\u001b[0m \u001b[38;5;28;01melif\u001b[39;00m (\n\u001b[1;32m   3647\u001b[0m     is_list_like(value)\n\u001b[1;32m   3648\u001b[0m     \u001b[38;5;129;01mand\u001b[39;00m \u001b[38;5;129;01mnot\u001b[39;00m \u001b[38;5;28mself\u001b[39m\u001b[38;5;241m.\u001b[39mcolumns\u001b[38;5;241m.\u001b[39mis_unique\n\u001b[1;32m   3649\u001b[0m     \u001b[38;5;129;01mand\u001b[39;00m \u001b[38;5;241m1\u001b[39m \u001b[38;5;241m<\u001b[39m \u001b[38;5;28mlen\u001b[39m(\u001b[38;5;28mself\u001b[39m\u001b[38;5;241m.\u001b[39mcolumns\u001b[38;5;241m.\u001b[39mget_indexer_for([key])) \u001b[38;5;241m==\u001b[39m \u001b[38;5;28mlen\u001b[39m(value)\n\u001b[1;32m   3650\u001b[0m ):\n\u001b[1;32m   3651\u001b[0m     \u001b[38;5;66;03m# Column to set is duplicated\u001b[39;00m\n\u001b[1;32m   3652\u001b[0m     \u001b[38;5;28mself\u001b[39m\u001b[38;5;241m.\u001b[39m_setitem_array([key], value)\n",
      "File \u001b[0;32m/opt/homebrew/Caskroom/miniforge/base/envs/base_env/lib/python3.8/site-packages/pandas/core/frame.py:3775\u001b[0m, in \u001b[0;36mDataFrame._set_item_frame_value\u001b[0;34m(self, key, value)\u001b[0m\n\u001b[1;32m   3773\u001b[0m len_cols \u001b[38;5;241m=\u001b[39m \u001b[38;5;241m1\u001b[39m \u001b[38;5;28;01mif\u001b[39;00m is_scalar(cols) \u001b[38;5;28;01melse\u001b[39;00m \u001b[38;5;28mlen\u001b[39m(cols)\n\u001b[1;32m   3774\u001b[0m \u001b[38;5;28;01mif\u001b[39;00m len_cols \u001b[38;5;241m!=\u001b[39m \u001b[38;5;28mlen\u001b[39m(value\u001b[38;5;241m.\u001b[39mcolumns):\n\u001b[0;32m-> 3775\u001b[0m     \u001b[38;5;28;01mraise\u001b[39;00m \u001b[38;5;167;01mValueError\u001b[39;00m(\u001b[38;5;124m\"\u001b[39m\u001b[38;5;124mColumns must be same length as key\u001b[39m\u001b[38;5;124m\"\u001b[39m)\n\u001b[1;32m   3777\u001b[0m \u001b[38;5;66;03m# align right-hand-side columns if self.columns\u001b[39;00m\n\u001b[1;32m   3778\u001b[0m \u001b[38;5;66;03m# is multi-index and self[key] is a sub-frame\u001b[39;00m\n\u001b[1;32m   3779\u001b[0m \u001b[38;5;28;01mif\u001b[39;00m \u001b[38;5;28misinstance\u001b[39m(\u001b[38;5;28mself\u001b[39m\u001b[38;5;241m.\u001b[39mcolumns, MultiIndex) \u001b[38;5;129;01mand\u001b[39;00m \u001b[38;5;28misinstance\u001b[39m(\n\u001b[1;32m   3780\u001b[0m     loc, (\u001b[38;5;28mslice\u001b[39m, Series, np\u001b[38;5;241m.\u001b[39mndarray, Index)\n\u001b[1;32m   3781\u001b[0m ):\n",
      "\u001b[0;31mValueError\u001b[0m: Columns must be same length as key"
     ]
    }
   ],
   "source": [
    "feature_categorizer(data)"
   ]
  },
  {
   "cell_type": "code",
   "execution_count": 124,
   "metadata": {},
   "outputs": [
    {
     "data": {
      "text/html": [
       "<div>\n",
       "<style scoped>\n",
       "    .dataframe tbody tr th:only-of-type {\n",
       "        vertical-align: middle;\n",
       "    }\n",
       "\n",
       "    .dataframe tbody tr th {\n",
       "        vertical-align: top;\n",
       "    }\n",
       "\n",
       "    .dataframe thead th {\n",
       "        text-align: right;\n",
       "    }\n",
       "</style>\n",
       "<table border=\"1\" class=\"dataframe\">\n",
       "  <thead>\n",
       "    <tr style=\"text-align: right;\">\n",
       "      <th></th>\n",
       "      <th>fl_date</th>\n",
       "      <th>mkt_unique_carrier</th>\n",
       "      <th>branded_code_share</th>\n",
       "      <th>mkt_carrier</th>\n",
       "      <th>mkt_carrier_fl_num</th>\n",
       "      <th>op_unique_carrier</th>\n",
       "      <th>tail_num</th>\n",
       "      <th>op_carrier_fl_num</th>\n",
       "      <th>origin_airport_id</th>\n",
       "      <th>origin</th>\n",
       "      <th>...</th>\n",
       "      <th>security_delay</th>\n",
       "      <th>late_aircraft_delay</th>\n",
       "      <th>first_dep_time</th>\n",
       "      <th>total_add_gtime</th>\n",
       "      <th>longest_add_gtime</th>\n",
       "      <th>flight_speed</th>\n",
       "      <th>dep_time_of_day</th>\n",
       "      <th>arr_time_of_day</th>\n",
       "      <th>dep_tod</th>\n",
       "      <th>arr_tod</th>\n",
       "    </tr>\n",
       "  </thead>\n",
       "  <tbody>\n",
       "  </tbody>\n",
       "</table>\n",
       "<p>0 rows × 46 columns</p>\n",
       "</div>"
      ],
      "text/plain": [
       "Empty DataFrame\n",
       "Columns: [fl_date, mkt_unique_carrier, branded_code_share, mkt_carrier, mkt_carrier_fl_num, op_unique_carrier, tail_num, op_carrier_fl_num, origin_airport_id, origin, origin_city_name, dest_airport_id, dest, dest_city_name, crs_dep_time, dep_time, dep_delay, taxi_out, wheels_off, wheels_on, taxi_in, crs_arr_time, arr_time, arr_delay, cancelled, cancellation_code, diverted, dup, crs_elapsed_time, actual_elapsed_time, air_time, flights, distance, carrier_delay, weather_delay, nas_delay, security_delay, late_aircraft_delay, first_dep_time, total_add_gtime, longest_add_gtime, flight_speed, dep_time_of_day, arr_time_of_day, dep_tod, arr_tod]\n",
       "Index: []\n",
       "\n",
       "[0 rows x 46 columns]"
      ]
     },
     "execution_count": 124,
     "metadata": {},
     "output_type": "execute_result"
    }
   ],
   "source": [
    "data.head()"
   ]
  },
  {
   "cell_type": "code",
   "execution_count": null,
   "metadata": {},
   "outputs": [],
   "source": []
  }
 ],
 "metadata": {
  "kernelspec": {
   "display_name": "Python 3 (ipykernel)",
   "language": "python",
   "name": "python3"
  },
  "language_info": {
   "codemirror_mode": {
    "name": "ipython",
    "version": 3
   },
   "file_extension": ".py",
   "mimetype": "text/x-python",
   "name": "python",
   "nbconvert_exporter": "python",
   "pygments_lexer": "ipython3",
   "version": "3.8.13"
  },
  "toc": {
   "base_numbering": 1,
   "nav_menu": {},
   "number_sections": true,
   "sideBar": true,
   "skip_h1_title": false,
   "title_cell": "Table of Contents",
   "title_sidebar": "Contents",
   "toc_cell": false,
   "toc_position": {},
   "toc_section_display": true,
   "toc_window_display": false
  },
  "varInspector": {
   "cols": {
    "lenName": 16,
    "lenType": 16,
    "lenVar": 40
   },
   "kernels_config": {
    "python": {
     "delete_cmd_postfix": "",
     "delete_cmd_prefix": "del ",
     "library": "var_list.py",
     "varRefreshCmd": "print(var_dic_list())"
    },
    "r": {
     "delete_cmd_postfix": ") ",
     "delete_cmd_prefix": "rm(",
     "library": "var_list.r",
     "varRefreshCmd": "cat(var_dic_list()) "
    }
   },
   "types_to_exclude": [
    "module",
    "function",
    "builtin_function_or_method",
    "instance",
    "_Feature"
   ],
   "window_display": false
  }
 },
 "nbformat": 4,
 "nbformat_minor": 4
}
