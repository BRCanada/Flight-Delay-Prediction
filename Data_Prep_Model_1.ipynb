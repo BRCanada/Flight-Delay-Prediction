{
 "cells": [
  {
   "cell_type": "markdown",
   "id": "3c3180d0-1f08-4fa7-8a4f-030eebb48c7a",
   "metadata": {},
   "source": [
    "# Data Prep for Model 1\n",
    "In this notebook we will clean the flights_10000 dataset\n",
    "\n",
    "We will incoporate these additional features: weather, categorical variables to numeric variables"
   ]
  },
  {
   "cell_type": "code",
   "execution_count": 1,
   "id": "4253b7e8-734d-4cfe-8a24-eece5ed269b7",
   "metadata": {},
   "outputs": [],
   "source": [
    "import pandas as pd\n",
    "from sklearn.model_selection import train_test_split\n",
    "from src.modules.data_preprocessing import time_of_day, feature_categorizer\n",
    "\n",
    "import warnings\n",
    "warnings.filterwarnings('ignore')"
   ]
  },
  {
   "cell_type": "code",
   "execution_count": 2,
   "id": "fdad10fb-e27d-493e-803d-e8f2beae955f",
   "metadata": {},
   "outputs": [],
   "source": [
    "flights = pd.read_csv('data/flights_10000.csv')"
   ]
  },
  {
   "cell_type": "code",
   "execution_count": 3,
   "id": "04119c72-950f-4c3d-8d7b-b032987d3dde",
   "metadata": {},
   "outputs": [
    {
     "data": {
      "text/html": [
       "<div>\n",
       "<style scoped>\n",
       "    .dataframe tbody tr th:only-of-type {\n",
       "        vertical-align: middle;\n",
       "    }\n",
       "\n",
       "    .dataframe tbody tr th {\n",
       "        vertical-align: top;\n",
       "    }\n",
       "\n",
       "    .dataframe thead th {\n",
       "        text-align: right;\n",
       "    }\n",
       "</style>\n",
       "<table border=\"1\" class=\"dataframe\">\n",
       "  <thead>\n",
       "    <tr style=\"text-align: right;\">\n",
       "      <th></th>\n",
       "      <th>fl_date</th>\n",
       "      <th>mkt_unique_carrier</th>\n",
       "      <th>branded_code_share</th>\n",
       "      <th>mkt_carrier</th>\n",
       "      <th>mkt_carrier_fl_num</th>\n",
       "      <th>op_unique_carrier</th>\n",
       "      <th>tail_num</th>\n",
       "      <th>op_carrier_fl_num</th>\n",
       "      <th>origin_airport_id</th>\n",
       "      <th>origin</th>\n",
       "      <th>...</th>\n",
       "      <th>weather_delay</th>\n",
       "      <th>nas_delay</th>\n",
       "      <th>security_delay</th>\n",
       "      <th>late_aircraft_delay</th>\n",
       "      <th>first_dep_time</th>\n",
       "      <th>total_add_gtime</th>\n",
       "      <th>longest_add_gtime</th>\n",
       "      <th>no_name</th>\n",
       "      <th>orig_weather_categ</th>\n",
       "      <th>dest_weather_categ</th>\n",
       "    </tr>\n",
       "  </thead>\n",
       "  <tbody>\n",
       "    <tr>\n",
       "      <th>0</th>\n",
       "      <td>2018-07-10</td>\n",
       "      <td>WN</td>\n",
       "      <td>WN</td>\n",
       "      <td>WN</td>\n",
       "      <td>2212</td>\n",
       "      <td>WN</td>\n",
       "      <td>N958WN</td>\n",
       "      <td>2212</td>\n",
       "      <td>14683</td>\n",
       "      <td>SAT</td>\n",
       "      <td>...</td>\n",
       "      <td>NaN</td>\n",
       "      <td>NaN</td>\n",
       "      <td>NaN</td>\n",
       "      <td>NaN</td>\n",
       "      <td>NaN</td>\n",
       "      <td>NaN</td>\n",
       "      <td>NaN</td>\n",
       "      <td>NaN</td>\n",
       "      <td>cloudy</td>\n",
       "      <td>cloudy</td>\n",
       "    </tr>\n",
       "    <tr>\n",
       "      <th>1</th>\n",
       "      <td>2019-10-10</td>\n",
       "      <td>UA</td>\n",
       "      <td>UA</td>\n",
       "      <td>UA</td>\n",
       "      <td>206</td>\n",
       "      <td>UA</td>\n",
       "      <td>N68811</td>\n",
       "      <td>206</td>\n",
       "      <td>13930</td>\n",
       "      <td>ORD</td>\n",
       "      <td>...</td>\n",
       "      <td>NaN</td>\n",
       "      <td>NaN</td>\n",
       "      <td>NaN</td>\n",
       "      <td>NaN</td>\n",
       "      <td>NaN</td>\n",
       "      <td>NaN</td>\n",
       "      <td>NaN</td>\n",
       "      <td>NaN</td>\n",
       "      <td>rain</td>\n",
       "      <td>rain</td>\n",
       "    </tr>\n",
       "  </tbody>\n",
       "</table>\n",
       "<p>2 rows × 44 columns</p>\n",
       "</div>"
      ],
      "text/plain": [
       "      fl_date mkt_unique_carrier branded_code_share mkt_carrier  \\\n",
       "0  2018-07-10                 WN                 WN          WN   \n",
       "1  2019-10-10                 UA                 UA          UA   \n",
       "\n",
       "   mkt_carrier_fl_num op_unique_carrier tail_num  op_carrier_fl_num  \\\n",
       "0                2212                WN   N958WN               2212   \n",
       "1                 206                UA   N68811                206   \n",
       "\n",
       "   origin_airport_id origin  ... weather_delay  nas_delay security_delay  \\\n",
       "0              14683    SAT  ...           NaN        NaN            NaN   \n",
       "1              13930    ORD  ...           NaN        NaN            NaN   \n",
       "\n",
       "  late_aircraft_delay  first_dep_time  total_add_gtime  longest_add_gtime  \\\n",
       "0                 NaN             NaN              NaN                NaN   \n",
       "1                 NaN             NaN              NaN                NaN   \n",
       "\n",
       "   no_name  orig_weather_categ  dest_weather_categ  \n",
       "0      NaN              cloudy              cloudy  \n",
       "1      NaN                rain                rain  \n",
       "\n",
       "[2 rows x 44 columns]"
      ]
     },
     "execution_count": 3,
     "metadata": {},
     "output_type": "execute_result"
    }
   ],
   "source": [
    "flights.head(2)"
   ]
  },
  {
   "cell_type": "code",
   "execution_count": 4,
   "id": "e7fd73bf-8dd4-41f1-ab82-ba96baf91469",
   "metadata": {},
   "outputs": [],
   "source": [
    "X = flights.drop(['arr_delay'], axis = 1)\n",
    "y = flights['arr_delay']"
   ]
  },
  {
   "cell_type": "code",
   "execution_count": 5,
   "id": "ec046048-b194-414b-8e7a-6f97c72daa7d",
   "metadata": {},
   "outputs": [],
   "source": [
    "#split\n",
    "X_train, X_test, y_train, y_test = train_test_split(X, y, test_size=0.20, random_state=42)"
   ]
  },
  {
   "cell_type": "code",
   "execution_count": 6,
   "id": "3fb64e02-2505-42c5-b30e-c671edf52c44",
   "metadata": {},
   "outputs": [],
   "source": [
    "flights_M1 = X_train"
   ]
  },
  {
   "cell_type": "markdown",
   "id": "e9fe6f12-bd7a-40f5-9682-61c9733964d1",
   "metadata": {
    "tags": []
   },
   "source": [
    "## Replace null with 0"
   ]
  },
  {
   "cell_type": "code",
   "execution_count": 7,
   "id": "81f214fd-4d13-4f63-a131-79338f4ea2f8",
   "metadata": {
    "tags": []
   },
   "outputs": [
    {
     "data": {
      "text/plain": [
       "fl_date                   0\n",
       "mkt_unique_carrier        0\n",
       "branded_code_share        0\n",
       "mkt_carrier               0\n",
       "mkt_carrier_fl_num        0\n",
       "op_unique_carrier         0\n",
       "tail_num                 24\n",
       "op_carrier_fl_num         0\n",
       "origin_airport_id         0\n",
       "origin                    0\n",
       "origin_city_name          0\n",
       "dest_airport_id           0\n",
       "dest                      0\n",
       "dest_city_name            0\n",
       "crs_dep_time              0\n",
       "dep_time                119\n",
       "dep_delay               124\n",
       "taxi_out                127\n",
       "wheels_off              127\n",
       "wheels_on               132\n",
       "taxi_in                 132\n",
       "crs_arr_time              0\n",
       "arr_time                128\n",
       "cancelled                 0\n",
       "cancellation_code      7875\n",
       "diverted                  0\n",
       "dup                       0\n",
       "crs_elapsed_time          0\n",
       "actual_elapsed_time     147\n",
       "air_time                151\n",
       "flights                   0\n",
       "distance                  0\n",
       "carrier_delay          6488\n",
       "weather_delay          6488\n",
       "nas_delay              6488\n",
       "security_delay         6488\n",
       "late_aircraft_delay    6488\n",
       "first_dep_time         7940\n",
       "total_add_gtime        7940\n",
       "longest_add_gtime      7940\n",
       "no_name                8000\n",
       "orig_weather_categ        0\n",
       "dest_weather_categ        0\n",
       "dtype: int64"
      ]
     },
     "execution_count": 7,
     "metadata": {},
     "output_type": "execute_result"
    }
   ],
   "source": [
    "pd.isnull(flights_M1).sum()"
   ]
  },
  {
   "cell_type": "code",
   "execution_count": 8,
   "id": "9153815e-1761-4e8e-92d8-7350f5964374",
   "metadata": {},
   "outputs": [],
   "source": [
    "flights_M1.fillna(0, inplace = True)"
   ]
  },
  {
   "cell_type": "markdown",
   "id": "d4e05dd8-c795-4c61-b7d6-f9e8de10d9c2",
   "metadata": {},
   "source": [
    "## Add Features\n",
    "### Add time of day feature"
   ]
  },
  {
   "cell_type": "code",
   "execution_count": 9,
   "id": "5ecb12e9-5857-41cc-b36b-ab01e5093c57",
   "metadata": {},
   "outputs": [],
   "source": [
    "flights_M1['dep_time_of_day'] = flights_M1.apply(lambda df: time_of_day(df, method='dep'), axis=1)\n",
    "flights_M1['arr_time_of_day'] = flights_M1.apply(lambda df: time_of_day(df, method='arr'), axis=1)"
   ]
  },
  {
   "cell_type": "code",
   "execution_count": 10,
   "id": "8fab7cff-3302-4d57-a22e-8a332227647e",
   "metadata": {},
   "outputs": [],
   "source": [
    "feature_categorizer(flights_M1[['dep_time_of_day','arr_time_of_day']], flights_M1)"
   ]
  },
  {
   "cell_type": "code",
   "execution_count": 11,
   "id": "b2b2032f-74ff-4e35-8189-209f81a8bdc1",
   "metadata": {},
   "outputs": [
    {
     "data": {
      "text/html": [
       "<div>\n",
       "<style scoped>\n",
       "    .dataframe tbody tr th:only-of-type {\n",
       "        vertical-align: middle;\n",
       "    }\n",
       "\n",
       "    .dataframe tbody tr th {\n",
       "        vertical-align: top;\n",
       "    }\n",
       "\n",
       "    .dataframe thead th {\n",
       "        text-align: right;\n",
       "    }\n",
       "</style>\n",
       "<table border=\"1\" class=\"dataframe\">\n",
       "  <thead>\n",
       "    <tr style=\"text-align: right;\">\n",
       "      <th></th>\n",
       "      <th>fl_date</th>\n",
       "      <th>mkt_unique_carrier</th>\n",
       "      <th>branded_code_share</th>\n",
       "      <th>mkt_carrier</th>\n",
       "      <th>mkt_carrier_fl_num</th>\n",
       "      <th>op_unique_carrier</th>\n",
       "      <th>tail_num</th>\n",
       "      <th>op_carrier_fl_num</th>\n",
       "      <th>origin_airport_id</th>\n",
       "      <th>origin</th>\n",
       "      <th>...</th>\n",
       "      <th>security_delay</th>\n",
       "      <th>late_aircraft_delay</th>\n",
       "      <th>first_dep_time</th>\n",
       "      <th>total_add_gtime</th>\n",
       "      <th>longest_add_gtime</th>\n",
       "      <th>no_name</th>\n",
       "      <th>orig_weather_categ</th>\n",
       "      <th>dest_weather_categ</th>\n",
       "      <th>dep_time_of_day</th>\n",
       "      <th>arr_time_of_day</th>\n",
       "    </tr>\n",
       "  </thead>\n",
       "  <tbody>\n",
       "    <tr>\n",
       "      <th>9254</th>\n",
       "      <td>2018-12-16</td>\n",
       "      <td>UA</td>\n",
       "      <td>UA</td>\n",
       "      <td>UA</td>\n",
       "      <td>1716</td>\n",
       "      <td>UA</td>\n",
       "      <td>N76503</td>\n",
       "      <td>1716</td>\n",
       "      <td>13198</td>\n",
       "      <td>MCI</td>\n",
       "      <td>...</td>\n",
       "      <td>0.0</td>\n",
       "      <td>0.0</td>\n",
       "      <td>0.0</td>\n",
       "      <td>0.0</td>\n",
       "      <td>0.0</td>\n",
       "      <td>0.0</td>\n",
       "      <td>sunny</td>\n",
       "      <td>sunny</td>\n",
       "      <td>0</td>\n",
       "      <td>0</td>\n",
       "    </tr>\n",
       "    <tr>\n",
       "      <th>1561</th>\n",
       "      <td>2019-07-09</td>\n",
       "      <td>AA</td>\n",
       "      <td>AA_CODESHARE</td>\n",
       "      <td>AA</td>\n",
       "      <td>5591</td>\n",
       "      <td>OH</td>\n",
       "      <td>N556NN</td>\n",
       "      <td>5591</td>\n",
       "      <td>10599</td>\n",
       "      <td>BHM</td>\n",
       "      <td>...</td>\n",
       "      <td>0.0</td>\n",
       "      <td>0.0</td>\n",
       "      <td>0.0</td>\n",
       "      <td>0.0</td>\n",
       "      <td>0.0</td>\n",
       "      <td>0.0</td>\n",
       "      <td>sunny</td>\n",
       "      <td>rain</td>\n",
       "      <td>0</td>\n",
       "      <td>0</td>\n",
       "    </tr>\n",
       "  </tbody>\n",
       "</table>\n",
       "<p>2 rows × 45 columns</p>\n",
       "</div>"
      ],
      "text/plain": [
       "         fl_date mkt_unique_carrier branded_code_share mkt_carrier  \\\n",
       "9254  2018-12-16                 UA                 UA          UA   \n",
       "1561  2019-07-09                 AA       AA_CODESHARE          AA   \n",
       "\n",
       "      mkt_carrier_fl_num op_unique_carrier tail_num  op_carrier_fl_num  \\\n",
       "9254                1716                UA   N76503               1716   \n",
       "1561                5591                OH   N556NN               5591   \n",
       "\n",
       "      origin_airport_id origin  ... security_delay  late_aircraft_delay  \\\n",
       "9254              13198    MCI  ...            0.0                  0.0   \n",
       "1561              10599    BHM  ...            0.0                  0.0   \n",
       "\n",
       "     first_dep_time total_add_gtime  longest_add_gtime  no_name  \\\n",
       "9254            0.0             0.0                0.0      0.0   \n",
       "1561            0.0             0.0                0.0      0.0   \n",
       "\n",
       "      orig_weather_categ  dest_weather_categ  dep_time_of_day  arr_time_of_day  \n",
       "9254               sunny               sunny                0                0  \n",
       "1561               sunny                rain                0                0  \n",
       "\n",
       "[2 rows x 45 columns]"
      ]
     },
     "execution_count": 11,
     "metadata": {},
     "output_type": "execute_result"
    }
   ],
   "source": [
    "flights_M1.head(2)"
   ]
  },
  {
   "cell_type": "code",
   "execution_count": 12,
   "id": "7954ee90-fd0b-4c5c-be2b-fdd49b0780b1",
   "metadata": {
    "tags": []
   },
   "outputs": [
    {
     "data": {
      "text/plain": [
       "fl_date                 object\n",
       "mkt_unique_carrier      object\n",
       "branded_code_share      object\n",
       "mkt_carrier             object\n",
       "mkt_carrier_fl_num       int64\n",
       "op_unique_carrier       object\n",
       "tail_num                object\n",
       "op_carrier_fl_num        int64\n",
       "origin_airport_id        int64\n",
       "origin                  object\n",
       "origin_city_name        object\n",
       "dest_airport_id          int64\n",
       "dest                    object\n",
       "dest_city_name          object\n",
       "crs_dep_time             int64\n",
       "dep_time               float64\n",
       "dep_delay              float64\n",
       "taxi_out               float64\n",
       "wheels_off             float64\n",
       "wheels_on              float64\n",
       "taxi_in                float64\n",
       "crs_arr_time             int64\n",
       "arr_time               float64\n",
       "cancelled              float64\n",
       "cancellation_code       object\n",
       "diverted               float64\n",
       "dup                     object\n",
       "crs_elapsed_time       float64\n",
       "actual_elapsed_time    float64\n",
       "air_time               float64\n",
       "flights                float64\n",
       "distance               float64\n",
       "carrier_delay          float64\n",
       "weather_delay          float64\n",
       "nas_delay              float64\n",
       "security_delay         float64\n",
       "late_aircraft_delay    float64\n",
       "first_dep_time         float64\n",
       "total_add_gtime        float64\n",
       "longest_add_gtime      float64\n",
       "no_name                float64\n",
       "orig_weather_categ      object\n",
       "dest_weather_categ      object\n",
       "dep_time_of_day          int64\n",
       "arr_time_of_day          int64\n",
       "dtype: object"
      ]
     },
     "execution_count": 12,
     "metadata": {},
     "output_type": "execute_result"
    }
   ],
   "source": [
    "flights_M1.dtypes"
   ]
  },
  {
   "cell_type": "markdown",
   "id": "80de3c7d-3c74-4939-9e76-c9eea0077b9e",
   "metadata": {},
   "source": [
    "### Create mean delay by airport feature to use in place of origin airport"
   ]
  },
  {
   "cell_type": "code",
   "execution_count": 13,
   "id": "5ec25179-677f-4f4e-ab0e-715e3e93ded0",
   "metadata": {},
   "outputs": [
    {
     "data": {
      "text/html": [
       "<div>\n",
       "<style scoped>\n",
       "    .dataframe tbody tr th:only-of-type {\n",
       "        vertical-align: middle;\n",
       "    }\n",
       "\n",
       "    .dataframe tbody tr th {\n",
       "        vertical-align: top;\n",
       "    }\n",
       "\n",
       "    .dataframe thead th {\n",
       "        text-align: right;\n",
       "    }\n",
       "</style>\n",
       "<table border=\"1\" class=\"dataframe\">\n",
       "  <thead>\n",
       "    <tr style=\"text-align: right;\">\n",
       "      <th></th>\n",
       "      <th>origin</th>\n",
       "      <th>arr_delay</th>\n",
       "    </tr>\n",
       "  </thead>\n",
       "  <tbody>\n",
       "    <tr>\n",
       "      <th>0</th>\n",
       "      <td>ABE</td>\n",
       "      <td>0.461538</td>\n",
       "    </tr>\n",
       "    <tr>\n",
       "      <th>1</th>\n",
       "      <td>ABI</td>\n",
       "      <td>18.000000</td>\n",
       "    </tr>\n",
       "    <tr>\n",
       "      <th>2</th>\n",
       "      <td>ABQ</td>\n",
       "      <td>3.342857</td>\n",
       "    </tr>\n",
       "    <tr>\n",
       "      <th>3</th>\n",
       "      <td>ABY</td>\n",
       "      <td>-15.000000</td>\n",
       "    </tr>\n",
       "    <tr>\n",
       "      <th>4</th>\n",
       "      <td>ACK</td>\n",
       "      <td>-19.000000</td>\n",
       "    </tr>\n",
       "    <tr>\n",
       "      <th>...</th>\n",
       "      <td>...</td>\n",
       "      <td>...</td>\n",
       "    </tr>\n",
       "    <tr>\n",
       "      <th>307</th>\n",
       "      <td>WRG</td>\n",
       "      <td>2.666667</td>\n",
       "    </tr>\n",
       "    <tr>\n",
       "      <th>308</th>\n",
       "      <td>XNA</td>\n",
       "      <td>2.727273</td>\n",
       "    </tr>\n",
       "    <tr>\n",
       "      <th>309</th>\n",
       "      <td>XWA</td>\n",
       "      <td>-14.000000</td>\n",
       "    </tr>\n",
       "    <tr>\n",
       "      <th>310</th>\n",
       "      <td>YAK</td>\n",
       "      <td>81.000000</td>\n",
       "    </tr>\n",
       "    <tr>\n",
       "      <th>311</th>\n",
       "      <td>YUM</td>\n",
       "      <td>-2.000000</td>\n",
       "    </tr>\n",
       "  </tbody>\n",
       "</table>\n",
       "<p>312 rows × 2 columns</p>\n",
       "</div>"
      ],
      "text/plain": [
       "    origin  arr_delay\n",
       "0      ABE   0.461538\n",
       "1      ABI  18.000000\n",
       "2      ABQ   3.342857\n",
       "3      ABY -15.000000\n",
       "4      ACK -19.000000\n",
       "..     ...        ...\n",
       "307    WRG   2.666667\n",
       "308    XNA   2.727273\n",
       "309    XWA -14.000000\n",
       "310    YAK  81.000000\n",
       "311    YUM  -2.000000\n",
       "\n",
       "[312 rows x 2 columns]"
      ]
     },
     "execution_count": 13,
     "metadata": {},
     "output_type": "execute_result"
    }
   ],
   "source": [
    "mean_delay_orig_airport = flights[['origin', 'arr_delay']].groupby(by = 'origin').mean().reset_index()\n",
    "mean_delay_orig_airport"
   ]
  },
  {
   "cell_type": "code",
   "execution_count": 14,
   "id": "17d598c6-5339-475a-be75-03bf91b53ee4",
   "metadata": {},
   "outputs": [],
   "source": [
    "#rename aggregate column\n",
    "mean_delay_orig_airport.rename({'arr_delay':'mean_arr_delay_orig_airport'},axis = 1, inplace= True)"
   ]
  },
  {
   "cell_type": "code",
   "execution_count": 15,
   "id": "3f35da82-22dd-46bd-9e16-dc9ede933936",
   "metadata": {},
   "outputs": [],
   "source": [
    "#merge this mean value to flights_M1 with origin as key\n",
    "flights_M1 = pd.merge(flights_M1, mean_delay_orig_airport, how = 'left', on = ['origin'])"
   ]
  },
  {
   "cell_type": "code",
   "execution_count": 16,
   "id": "44536f6b-5db5-4134-9ac1-cd0502da5676",
   "metadata": {},
   "outputs": [],
   "source": [
    "#mean delay for dest airport\n",
    "mean_delay_dest_airport = flights[['dest', 'arr_delay']].groupby(by = 'dest').mean().reset_index()\n",
    "mean_delay_dest_airport.rename({'arr_delay':'mean_arr_delay_dest_airport'},axis = 1, inplace= True)"
   ]
  },
  {
   "cell_type": "code",
   "execution_count": 17,
   "id": "fd1340a8-1e69-47a1-a736-3262881d1581",
   "metadata": {},
   "outputs": [
    {
     "data": {
      "text/html": [
       "<div>\n",
       "<style scoped>\n",
       "    .dataframe tbody tr th:only-of-type {\n",
       "        vertical-align: middle;\n",
       "    }\n",
       "\n",
       "    .dataframe tbody tr th {\n",
       "        vertical-align: top;\n",
       "    }\n",
       "\n",
       "    .dataframe thead th {\n",
       "        text-align: right;\n",
       "    }\n",
       "</style>\n",
       "<table border=\"1\" class=\"dataframe\">\n",
       "  <thead>\n",
       "    <tr style=\"text-align: right;\">\n",
       "      <th></th>\n",
       "      <th>dest</th>\n",
       "      <th>mean_arr_delay_dest_airport</th>\n",
       "    </tr>\n",
       "  </thead>\n",
       "  <tbody>\n",
       "    <tr>\n",
       "      <th>0</th>\n",
       "      <td>ABE</td>\n",
       "      <td>20.5</td>\n",
       "    </tr>\n",
       "  </tbody>\n",
       "</table>\n",
       "</div>"
      ],
      "text/plain": [
       "  dest  mean_arr_delay_dest_airport\n",
       "0  ABE                         20.5"
      ]
     },
     "execution_count": 17,
     "metadata": {},
     "output_type": "execute_result"
    }
   ],
   "source": [
    "mean_delay_dest_airport.head(1)"
   ]
  },
  {
   "cell_type": "code",
   "execution_count": 18,
   "id": "e0e28e3a-6ade-489e-8f89-2b95bf742a01",
   "metadata": {},
   "outputs": [],
   "source": [
    "#merge this mean value to flights_M1 with dest as key\n",
    "flights_M1 = pd.merge(flights_M1, mean_delay_dest_airport, how = 'left', on = ['dest'])"
   ]
  },
  {
   "cell_type": "markdown",
   "id": "5009f4c8-ed6c-408a-b88f-e3ed399c9697",
   "metadata": {},
   "source": [
    "### Create mean delay by carrier feature"
   ]
  },
  {
   "cell_type": "code",
   "execution_count": 19,
   "id": "2f3e7ca0-bb6a-490c-8a28-03a1d9064136",
   "metadata": {},
   "outputs": [
    {
     "data": {
      "text/plain": [
       "<AxesSubplot:xlabel='mkt_unique_carrier', ylabel='arr_delay'>"
      ]
     },
     "execution_count": 19,
     "metadata": {},
     "output_type": "execute_result"
    },
    {
     "data": {
      "image/png": "[encoded data removed]",
      "text/plain": [
       "<Figure size 432x288 with 1 Axes>"
      ]
     },
     "metadata": {
      "needs_background": "light"
     },
     "output_type": "display_data"
    }
   ],
   "source": [
    "import seaborn as sns\n",
    "sns.scatterplot(data=flights, x=\"mkt_unique_carrier\", y=\"arr_delay\")"
   ]
  },
  {
   "cell_type": "code",
   "execution_count": 20,
   "id": "6b59974e-bfd1-4f24-b046-39f6b21f64fb",
   "metadata": {},
   "outputs": [],
   "source": [
    "#mean delay for carrier\n",
    "mean_delay_carrier = flights[['mkt_unique_carrier', 'arr_delay']].groupby(by = 'mkt_unique_carrier').mean().reset_index()"
   ]
  },
  {
   "cell_type": "code",
   "execution_count": 21,
   "id": "6e652910-587f-43cb-a1f4-e75a499ff2c5",
   "metadata": {},
   "outputs": [
    {
     "data": {
      "text/html": [
       "<div>\n",
       "<style scoped>\n",
       "    .dataframe tbody tr th:only-of-type {\n",
       "        vertical-align: middle;\n",
       "    }\n",
       "\n",
       "    .dataframe tbody tr th {\n",
       "        vertical-align: top;\n",
       "    }\n",
       "\n",
       "    .dataframe thead th {\n",
       "        text-align: right;\n",
       "    }\n",
       "</style>\n",
       "<table border=\"1\" class=\"dataframe\">\n",
       "  <thead>\n",
       "    <tr style=\"text-align: right;\">\n",
       "      <th></th>\n",
       "      <th>mkt_unique_carrier</th>\n",
       "      <th>arr_delay</th>\n",
       "    </tr>\n",
       "  </thead>\n",
       "  <tbody>\n",
       "    <tr>\n",
       "      <th>0</th>\n",
       "      <td>AA</td>\n",
       "      <td>5.238848</td>\n",
       "    </tr>\n",
       "    <tr>\n",
       "      <th>1</th>\n",
       "      <td>AS</td>\n",
       "      <td>0.251327</td>\n",
       "    </tr>\n",
       "    <tr>\n",
       "      <th>2</th>\n",
       "      <td>B6</td>\n",
       "      <td>12.448753</td>\n",
       "    </tr>\n",
       "    <tr>\n",
       "      <th>3</th>\n",
       "      <td>DL</td>\n",
       "      <td>3.892650</td>\n",
       "    </tr>\n",
       "    <tr>\n",
       "      <th>4</th>\n",
       "      <td>F9</td>\n",
       "      <td>16.618750</td>\n",
       "    </tr>\n",
       "    <tr>\n",
       "      <th>5</th>\n",
       "      <td>G4</td>\n",
       "      <td>6.624000</td>\n",
       "    </tr>\n",
       "    <tr>\n",
       "      <th>6</th>\n",
       "      <td>HA</td>\n",
       "      <td>1.037736</td>\n",
       "    </tr>\n",
       "    <tr>\n",
       "      <th>7</th>\n",
       "      <td>NK</td>\n",
       "      <td>10.057143</td>\n",
       "    </tr>\n",
       "    <tr>\n",
       "      <th>8</th>\n",
       "      <td>UA</td>\n",
       "      <td>8.433741</td>\n",
       "    </tr>\n",
       "    <tr>\n",
       "      <th>9</th>\n",
       "      <td>VX</td>\n",
       "      <td>-8.600000</td>\n",
       "    </tr>\n",
       "    <tr>\n",
       "      <th>10</th>\n",
       "      <td>WN</td>\n",
       "      <td>4.019512</td>\n",
       "    </tr>\n",
       "  </tbody>\n",
       "</table>\n",
       "</div>"
      ],
      "text/plain": [
       "   mkt_unique_carrier  arr_delay\n",
       "0                  AA   5.238848\n",
       "1                  AS   0.251327\n",
       "2                  B6  12.448753\n",
       "3                  DL   3.892650\n",
       "4                  F9  16.618750\n",
       "5                  G4   6.624000\n",
       "6                  HA   1.037736\n",
       "7                  NK  10.057143\n",
       "8                  UA   8.433741\n",
       "9                  VX  -8.600000\n",
       "10                 WN   4.019512"
      ]
     },
     "execution_count": 21,
     "metadata": {},
     "output_type": "execute_result"
    }
   ],
   "source": [
    "mean_delay_carrier"
   ]
  },
  {
   "cell_type": "code",
   "execution_count": 22,
   "id": "9740d5e2-e092-43b9-8792-aef0cd3d0533",
   "metadata": {},
   "outputs": [],
   "source": [
    "mean_delay_carrier.rename({'arr_delay':'mean_arr_delay_carrier'},axis = 1, inplace= True)"
   ]
  },
  {
   "cell_type": "code",
   "execution_count": 23,
   "id": "db60d721-9621-4b7b-a3ea-56dbea892afd",
   "metadata": {},
   "outputs": [],
   "source": [
    "#merge this mean value to flights_M1 with mkt unique carrier as key\n",
    "flights_M1 = pd.merge(flights_M1, mean_delay_carrier, how = 'left', on = ['mkt_unique_carrier'])"
   ]
  },
  {
   "cell_type": "code",
   "execution_count": 24,
   "id": "e14a4245-383e-4641-9274-0d2b04107de5",
   "metadata": {},
   "outputs": [
    {
     "data": {
      "text/html": [
       "<div>\n",
       "<style scoped>\n",
       "    .dataframe tbody tr th:only-of-type {\n",
       "        vertical-align: middle;\n",
       "    }\n",
       "\n",
       "    .dataframe tbody tr th {\n",
       "        vertical-align: top;\n",
       "    }\n",
       "\n",
       "    .dataframe thead th {\n",
       "        text-align: right;\n",
       "    }\n",
       "</style>\n",
       "<table border=\"1\" class=\"dataframe\">\n",
       "  <thead>\n",
       "    <tr style=\"text-align: right;\">\n",
       "      <th></th>\n",
       "      <th>fl_date</th>\n",
       "      <th>mkt_unique_carrier</th>\n",
       "      <th>branded_code_share</th>\n",
       "      <th>mkt_carrier</th>\n",
       "      <th>mkt_carrier_fl_num</th>\n",
       "      <th>op_unique_carrier</th>\n",
       "      <th>tail_num</th>\n",
       "      <th>op_carrier_fl_num</th>\n",
       "      <th>origin_airport_id</th>\n",
       "      <th>origin</th>\n",
       "      <th>...</th>\n",
       "      <th>total_add_gtime</th>\n",
       "      <th>longest_add_gtime</th>\n",
       "      <th>no_name</th>\n",
       "      <th>orig_weather_categ</th>\n",
       "      <th>dest_weather_categ</th>\n",
       "      <th>dep_time_of_day</th>\n",
       "      <th>arr_time_of_day</th>\n",
       "      <th>mean_arr_delay_orig_airport</th>\n",
       "      <th>mean_arr_delay_dest_airport</th>\n",
       "      <th>mean_arr_delay_carrier</th>\n",
       "    </tr>\n",
       "  </thead>\n",
       "  <tbody>\n",
       "    <tr>\n",
       "      <th>0</th>\n",
       "      <td>2018-12-16</td>\n",
       "      <td>UA</td>\n",
       "      <td>UA</td>\n",
       "      <td>UA</td>\n",
       "      <td>1716</td>\n",
       "      <td>UA</td>\n",
       "      <td>N76503</td>\n",
       "      <td>1716</td>\n",
       "      <td>13198</td>\n",
       "      <td>MCI</td>\n",
       "      <td>...</td>\n",
       "      <td>0.0</td>\n",
       "      <td>0.0</td>\n",
       "      <td>0.0</td>\n",
       "      <td>sunny</td>\n",
       "      <td>sunny</td>\n",
       "      <td>0</td>\n",
       "      <td>0</td>\n",
       "      <td>-1.652778</td>\n",
       "      <td>8.167139</td>\n",
       "      <td>8.433741</td>\n",
       "    </tr>\n",
       "  </tbody>\n",
       "</table>\n",
       "<p>1 rows × 48 columns</p>\n",
       "</div>"
      ],
      "text/plain": [
       "      fl_date mkt_unique_carrier branded_code_share mkt_carrier  \\\n",
       "0  2018-12-16                 UA                 UA          UA   \n",
       "\n",
       "   mkt_carrier_fl_num op_unique_carrier tail_num  op_carrier_fl_num  \\\n",
       "0                1716                UA   N76503               1716   \n",
       "\n",
       "   origin_airport_id origin  ... total_add_gtime  longest_add_gtime no_name  \\\n",
       "0              13198    MCI  ...             0.0                0.0     0.0   \n",
       "\n",
       "  orig_weather_categ  dest_weather_categ  dep_time_of_day  arr_time_of_day  \\\n",
       "0              sunny               sunny                0                0   \n",
       "\n",
       "   mean_arr_delay_orig_airport  mean_arr_delay_dest_airport  \\\n",
       "0                    -1.652778                     8.167139   \n",
       "\n",
       "   mean_arr_delay_carrier  \n",
       "0                8.433741  \n",
       "\n",
       "[1 rows x 48 columns]"
      ]
     },
     "execution_count": 24,
     "metadata": {},
     "output_type": "execute_result"
    }
   ],
   "source": [
    "flights_M1.head(1)"
   ]
  },
  {
   "cell_type": "code",
   "execution_count": 25,
   "id": "094a1088-fd14-4609-86a0-7e79d9613882",
   "metadata": {},
   "outputs": [],
   "source": [
    "#now we can drop the 'mkt_unique_carrier' categorical feature\n",
    "flights_M1.drop(['mkt_unique_carrier'], axis = 1, inplace = True)"
   ]
  },
  {
   "cell_type": "markdown",
   "id": "9c94d3c3-2a22-4839-8bf2-1ad788fd8af8",
   "metadata": {},
   "source": [
    "## Remove features"
   ]
  },
  {
   "cell_type": "code",
   "execution_count": 26,
   "id": "1e027457-c46c-46e5-b10d-512f42479249",
   "metadata": {},
   "outputs": [],
   "source": [
    "#remove categorical int features\n",
    "flights_M1.drop(['mkt_carrier_fl_num', 'op_carrier_fl_num', 'origin_airport_id', 'dest_airport_id', 'dep_delay', \n",
    "                 'first_dep_time', 'total_add_gtime', 'longest_add_gtime', 'no_name'], axis = 1, inplace = True)"
   ]
  },
  {
   "cell_type": "code",
   "execution_count": 27,
   "id": "6034ca0d-16b8-43d8-84be-50b0461d55de",
   "metadata": {},
   "outputs": [],
   "source": [
    "#remove unwanted object features\n",
    "flights_M1.drop(['branded_code_share', 'mkt_carrier', 'op_unique_carrier', 'tail_num', 'origin', 'origin_city_name', \n",
    "                 'dest', 'dest_city_name', 'dup', 'cancellation_code'], axis = 1, inplace = True)"
   ]
  },
  {
   "cell_type": "code",
   "execution_count": 28,
   "id": "d5e27641-d13b-4a11-9711-1334fbf5bf53",
   "metadata": {},
   "outputs": [],
   "source": [
    "#drop delay features (these will not be known and should not be used for training)\n",
    "flights_M1.drop(['carrier_delay', 'weather_delay', 'nas_delay', 'security_delay', 'late_aircraft_delay'], axis = 1, inplace = True)"
   ]
  },
  {
   "cell_type": "code",
   "execution_count": 29,
   "id": "0b25a070-8dba-488f-a6ba-9b91d300de97",
   "metadata": {},
   "outputs": [
    {
     "data": {
      "text/plain": [
       "fl_date                         object\n",
       "crs_dep_time                     int64\n",
       "dep_time                       float64\n",
       "taxi_out                       float64\n",
       "wheels_off                     float64\n",
       "wheels_on                      float64\n",
       "taxi_in                        float64\n",
       "crs_arr_time                     int64\n",
       "arr_time                       float64\n",
       "cancelled                      float64\n",
       "diverted                       float64\n",
       "crs_elapsed_time               float64\n",
       "actual_elapsed_time            float64\n",
       "air_time                       float64\n",
       "flights                        float64\n",
       "distance                       float64\n",
       "orig_weather_categ              object\n",
       "dest_weather_categ              object\n",
       "dep_time_of_day                  int64\n",
       "arr_time_of_day                  int64\n",
       "mean_arr_delay_orig_airport    float64\n",
       "mean_arr_delay_dest_airport    float64\n",
       "mean_arr_delay_carrier         float64\n",
       "dtype: object"
      ]
     },
     "execution_count": 29,
     "metadata": {},
     "output_type": "execute_result"
    }
   ],
   "source": [
    "flights_M1.dtypes"
   ]
  },
  {
   "cell_type": "code",
   "execution_count": 30,
   "id": "09a3bdda-cdfd-4930-8e25-83c0444d3687",
   "metadata": {},
   "outputs": [
    {
     "data": {
      "text/html": [
       "<div>\n",
       "<style scoped>\n",
       "    .dataframe tbody tr th:only-of-type {\n",
       "        vertical-align: middle;\n",
       "    }\n",
       "\n",
       "    .dataframe tbody tr th {\n",
       "        vertical-align: top;\n",
       "    }\n",
       "\n",
       "    .dataframe thead th {\n",
       "        text-align: right;\n",
       "    }\n",
       "</style>\n",
       "<table border=\"1\" class=\"dataframe\">\n",
       "  <thead>\n",
       "    <tr style=\"text-align: right;\">\n",
       "      <th></th>\n",
       "      <th>fl_date</th>\n",
       "      <th>crs_dep_time</th>\n",
       "      <th>dep_time</th>\n",
       "      <th>taxi_out</th>\n",
       "      <th>wheels_off</th>\n",
       "      <th>wheels_on</th>\n",
       "      <th>taxi_in</th>\n",
       "      <th>crs_arr_time</th>\n",
       "      <th>arr_time</th>\n",
       "      <th>cancelled</th>\n",
       "      <th>...</th>\n",
       "      <th>air_time</th>\n",
       "      <th>flights</th>\n",
       "      <th>distance</th>\n",
       "      <th>orig_weather_categ</th>\n",
       "      <th>dest_weather_categ</th>\n",
       "      <th>dep_time_of_day</th>\n",
       "      <th>arr_time_of_day</th>\n",
       "      <th>mean_arr_delay_orig_airport</th>\n",
       "      <th>mean_arr_delay_dest_airport</th>\n",
       "      <th>mean_arr_delay_carrier</th>\n",
       "    </tr>\n",
       "  </thead>\n",
       "  <tbody>\n",
       "    <tr>\n",
       "      <th>0</th>\n",
       "      <td>2018-12-16</td>\n",
       "      <td>801</td>\n",
       "      <td>755.0</td>\n",
       "      <td>12.0</td>\n",
       "      <td>807.0</td>\n",
       "      <td>827.0</td>\n",
       "      <td>6.0</td>\n",
       "      <td>850</td>\n",
       "      <td>833.0</td>\n",
       "      <td>0.0</td>\n",
       "      <td>...</td>\n",
       "      <td>80.0</td>\n",
       "      <td>1.0</td>\n",
       "      <td>533.0</td>\n",
       "      <td>sunny</td>\n",
       "      <td>sunny</td>\n",
       "      <td>0</td>\n",
       "      <td>0</td>\n",
       "      <td>-1.652778</td>\n",
       "      <td>8.167139</td>\n",
       "      <td>8.433741</td>\n",
       "    </tr>\n",
       "    <tr>\n",
       "      <th>1</th>\n",
       "      <td>2019-07-09</td>\n",
       "      <td>610</td>\n",
       "      <td>604.0</td>\n",
       "      <td>17.0</td>\n",
       "      <td>621.0</td>\n",
       "      <td>821.0</td>\n",
       "      <td>14.0</td>\n",
       "      <td>847</td>\n",
       "      <td>835.0</td>\n",
       "      <td>0.0</td>\n",
       "      <td>...</td>\n",
       "      <td>60.0</td>\n",
       "      <td>1.0</td>\n",
       "      <td>350.0</td>\n",
       "      <td>sunny</td>\n",
       "      <td>rain</td>\n",
       "      <td>0</td>\n",
       "      <td>0</td>\n",
       "      <td>-3.320000</td>\n",
       "      <td>0.868056</td>\n",
       "      <td>5.238848</td>\n",
       "    </tr>\n",
       "  </tbody>\n",
       "</table>\n",
       "<p>2 rows × 23 columns</p>\n",
       "</div>"
      ],
      "text/plain": [
       "      fl_date  crs_dep_time  dep_time  taxi_out  wheels_off  wheels_on  \\\n",
       "0  2018-12-16           801     755.0      12.0       807.0      827.0   \n",
       "1  2019-07-09           610     604.0      17.0       621.0      821.0   \n",
       "\n",
       "   taxi_in  crs_arr_time  arr_time  cancelled  ...  air_time  flights  \\\n",
       "0      6.0           850     833.0        0.0  ...      80.0      1.0   \n",
       "1     14.0           847     835.0        0.0  ...      60.0      1.0   \n",
       "\n",
       "   distance  orig_weather_categ  dest_weather_categ  dep_time_of_day  \\\n",
       "0     533.0               sunny               sunny                0   \n",
       "1     350.0               sunny                rain                0   \n",
       "\n",
       "  arr_time_of_day mean_arr_delay_orig_airport  mean_arr_delay_dest_airport  \\\n",
       "0               0                   -1.652778                     8.167139   \n",
       "1               0                   -3.320000                     0.868056   \n",
       "\n",
       "   mean_arr_delay_carrier  \n",
       "0                8.433741  \n",
       "1                5.238848  \n",
       "\n",
       "[2 rows x 23 columns]"
      ]
     },
     "execution_count": 30,
     "metadata": {},
     "output_type": "execute_result"
    }
   ],
   "source": [
    "flights_M1.head(2)"
   ]
  },
  {
   "cell_type": "markdown",
   "id": "e21e0289-0813-45b3-87bb-1046344e27a4",
   "metadata": {
    "tags": []
   },
   "source": [
    "### Turn date time to year, month, day"
   ]
  },
  {
   "cell_type": "code",
   "execution_count": 31,
   "id": "3c4d17d7-428c-44f6-802c-da24170b8b7d",
   "metadata": {},
   "outputs": [],
   "source": [
    "flights_M1['fl_date'] = pd.to_datetime(flights_M1['fl_date'])"
   ]
  },
  {
   "cell_type": "code",
   "execution_count": 32,
   "id": "6d341213-b178-4515-af87-cea9d3a02d96",
   "metadata": {},
   "outputs": [],
   "source": [
    "#split date into three cols\n",
    "import datetime as dt\n",
    "flights_M1['year'] = flights_M1['fl_date'].dt.year\n",
    "flights_M1['month'] = flights_M1['fl_date'].dt.month\n",
    "flights_M1['day'] = flights_M1['fl_date'].dt.day"
   ]
  },
  {
   "cell_type": "code",
   "execution_count": 33,
   "id": "62997c65-2475-4454-bb95-0f636ec10282",
   "metadata": {},
   "outputs": [],
   "source": [
    "flights_M1.drop(['fl_date'],axis = 1, inplace = True)"
   ]
  },
  {
   "cell_type": "code",
   "execution_count": 34,
   "id": "8f632d2a-5660-4711-83de-41f2a31ff4ec",
   "metadata": {},
   "outputs": [
    {
     "data": {
      "text/html": [
       "<div>\n",
       "<style scoped>\n",
       "    .dataframe tbody tr th:only-of-type {\n",
       "        vertical-align: middle;\n",
       "    }\n",
       "\n",
       "    .dataframe tbody tr th {\n",
       "        vertical-align: top;\n",
       "    }\n",
       "\n",
       "    .dataframe thead th {\n",
       "        text-align: right;\n",
       "    }\n",
       "</style>\n",
       "<table border=\"1\" class=\"dataframe\">\n",
       "  <thead>\n",
       "    <tr style=\"text-align: right;\">\n",
       "      <th></th>\n",
       "      <th>crs_dep_time</th>\n",
       "      <th>dep_time</th>\n",
       "      <th>taxi_out</th>\n",
       "      <th>wheels_off</th>\n",
       "      <th>wheels_on</th>\n",
       "      <th>taxi_in</th>\n",
       "      <th>crs_arr_time</th>\n",
       "      <th>arr_time</th>\n",
       "      <th>cancelled</th>\n",
       "      <th>diverted</th>\n",
       "      <th>...</th>\n",
       "      <th>orig_weather_categ</th>\n",
       "      <th>dest_weather_categ</th>\n",
       "      <th>dep_time_of_day</th>\n",
       "      <th>arr_time_of_day</th>\n",
       "      <th>mean_arr_delay_orig_airport</th>\n",
       "      <th>mean_arr_delay_dest_airport</th>\n",
       "      <th>mean_arr_delay_carrier</th>\n",
       "      <th>year</th>\n",
       "      <th>month</th>\n",
       "      <th>day</th>\n",
       "    </tr>\n",
       "  </thead>\n",
       "  <tbody>\n",
       "    <tr>\n",
       "      <th>0</th>\n",
       "      <td>801</td>\n",
       "      <td>755.0</td>\n",
       "      <td>12.0</td>\n",
       "      <td>807.0</td>\n",
       "      <td>827.0</td>\n",
       "      <td>6.0</td>\n",
       "      <td>850</td>\n",
       "      <td>833.0</td>\n",
       "      <td>0.0</td>\n",
       "      <td>0.0</td>\n",
       "      <td>...</td>\n",
       "      <td>sunny</td>\n",
       "      <td>sunny</td>\n",
       "      <td>0</td>\n",
       "      <td>0</td>\n",
       "      <td>-1.652778</td>\n",
       "      <td>8.167139</td>\n",
       "      <td>8.433741</td>\n",
       "      <td>2018</td>\n",
       "      <td>12</td>\n",
       "      <td>16</td>\n",
       "    </tr>\n",
       "  </tbody>\n",
       "</table>\n",
       "<p>1 rows × 25 columns</p>\n",
       "</div>"
      ],
      "text/plain": [
       "   crs_dep_time  dep_time  taxi_out  wheels_off  wheels_on  taxi_in  \\\n",
       "0           801     755.0      12.0       807.0      827.0      6.0   \n",
       "\n",
       "   crs_arr_time  arr_time  cancelled  diverted  ...  orig_weather_categ  \\\n",
       "0           850     833.0        0.0       0.0  ...               sunny   \n",
       "\n",
       "   dest_weather_categ  dep_time_of_day  arr_time_of_day  \\\n",
       "0               sunny                0                0   \n",
       "\n",
       "   mean_arr_delay_orig_airport mean_arr_delay_dest_airport  \\\n",
       "0                    -1.652778                    8.167139   \n",
       "\n",
       "  mean_arr_delay_carrier  year  month  day  \n",
       "0               8.433741  2018     12   16  \n",
       "\n",
       "[1 rows x 25 columns]"
      ]
     },
     "execution_count": 34,
     "metadata": {},
     "output_type": "execute_result"
    }
   ],
   "source": [
    "flights_M1.head(1)"
   ]
  },
  {
   "cell_type": "markdown",
   "id": "81a5075f-45da-4493-bb9c-440491e8f66a",
   "metadata": {},
   "source": [
    "### Turn the weather categorical features to dummy variables"
   ]
  },
  {
   "cell_type": "code",
   "execution_count": 35,
   "id": "c3dc2f4b-d073-4035-9a7a-e4b826e2dab3",
   "metadata": {},
   "outputs": [],
   "source": [
    "flights_M1 = pd.get_dummies(flights_M1, drop_first=True)"
   ]
  },
  {
   "cell_type": "code",
   "execution_count": 36,
   "id": "4e5bf646-0f48-43c9-b572-c1d0f62f1b37",
   "metadata": {},
   "outputs": [
    {
     "data": {
      "text/html": [
       "<div>\n",
       "<style scoped>\n",
       "    .dataframe tbody tr th:only-of-type {\n",
       "        vertical-align: middle;\n",
       "    }\n",
       "\n",
       "    .dataframe tbody tr th {\n",
       "        vertical-align: top;\n",
       "    }\n",
       "\n",
       "    .dataframe thead th {\n",
       "        text-align: right;\n",
       "    }\n",
       "</style>\n",
       "<table border=\"1\" class=\"dataframe\">\n",
       "  <thead>\n",
       "    <tr style=\"text-align: right;\">\n",
       "      <th></th>\n",
       "      <th>crs_dep_time</th>\n",
       "      <th>dep_time</th>\n",
       "      <th>taxi_out</th>\n",
       "      <th>wheels_off</th>\n",
       "      <th>wheels_on</th>\n",
       "      <th>taxi_in</th>\n",
       "      <th>crs_arr_time</th>\n",
       "      <th>arr_time</th>\n",
       "      <th>cancelled</th>\n",
       "      <th>diverted</th>\n",
       "      <th>...</th>\n",
       "      <th>orig_weather_categ_rain</th>\n",
       "      <th>orig_weather_categ_snow</th>\n",
       "      <th>orig_weather_categ_snow &amp; rain</th>\n",
       "      <th>orig_weather_categ_sunny</th>\n",
       "      <th>dest_weather_categ_empty</th>\n",
       "      <th>dest_weather_categ_no weather data</th>\n",
       "      <th>dest_weather_categ_rain</th>\n",
       "      <th>dest_weather_categ_snow</th>\n",
       "      <th>dest_weather_categ_snow &amp; rain</th>\n",
       "      <th>dest_weather_categ_sunny</th>\n",
       "    </tr>\n",
       "  </thead>\n",
       "  <tbody>\n",
       "    <tr>\n",
       "      <th>0</th>\n",
       "      <td>801</td>\n",
       "      <td>755.0</td>\n",
       "      <td>12.0</td>\n",
       "      <td>807.0</td>\n",
       "      <td>827.0</td>\n",
       "      <td>6.0</td>\n",
       "      <td>850</td>\n",
       "      <td>833.0</td>\n",
       "      <td>0.0</td>\n",
       "      <td>0.0</td>\n",
       "      <td>...</td>\n",
       "      <td>0</td>\n",
       "      <td>0</td>\n",
       "      <td>0</td>\n",
       "      <td>1</td>\n",
       "      <td>0</td>\n",
       "      <td>0</td>\n",
       "      <td>0</td>\n",
       "      <td>0</td>\n",
       "      <td>0</td>\n",
       "      <td>1</td>\n",
       "    </tr>\n",
       "  </tbody>\n",
       "</table>\n",
       "<p>1 rows × 35 columns</p>\n",
       "</div>"
      ],
      "text/plain": [
       "   crs_dep_time  dep_time  taxi_out  wheels_off  wheels_on  taxi_in  \\\n",
       "0           801     755.0      12.0       807.0      827.0      6.0   \n",
       "\n",
       "   crs_arr_time  arr_time  cancelled  diverted  ...  orig_weather_categ_rain  \\\n",
       "0           850     833.0        0.0       0.0  ...                        0   \n",
       "\n",
       "   orig_weather_categ_snow  orig_weather_categ_snow & rain  \\\n",
       "0                        0                               0   \n",
       "\n",
       "   orig_weather_categ_sunny  dest_weather_categ_empty  \\\n",
       "0                         1                         0   \n",
       "\n",
       "   dest_weather_categ_no weather data  dest_weather_categ_rain  \\\n",
       "0                                   0                        0   \n",
       "\n",
       "   dest_weather_categ_snow  dest_weather_categ_snow & rain  \\\n",
       "0                        0                               0   \n",
       "\n",
       "   dest_weather_categ_sunny  \n",
       "0                         1  \n",
       "\n",
       "[1 rows x 35 columns]"
      ]
     },
     "execution_count": 36,
     "metadata": {},
     "output_type": "execute_result"
    }
   ],
   "source": [
    "flights_M1.head(1)"
   ]
  },
  {
   "cell_type": "code",
   "execution_count": 37,
   "id": "fff0a863-8909-43ff-ae3e-e5b27f0146fa",
   "metadata": {},
   "outputs": [
    {
     "data": {
      "text/plain": [
       "crs_dep_time                          0\n",
       "dep_time                              0\n",
       "taxi_out                              0\n",
       "wheels_off                            0\n",
       "wheels_on                             0\n",
       "taxi_in                               0\n",
       "crs_arr_time                          0\n",
       "arr_time                              0\n",
       "cancelled                             0\n",
       "diverted                              0\n",
       "crs_elapsed_time                      0\n",
       "actual_elapsed_time                   0\n",
       "air_time                              0\n",
       "flights                               0\n",
       "distance                              0\n",
       "dep_time_of_day                       0\n",
       "arr_time_of_day                       0\n",
       "mean_arr_delay_orig_airport           0\n",
       "mean_arr_delay_dest_airport           3\n",
       "mean_arr_delay_carrier                0\n",
       "year                                  0\n",
       "month                                 0\n",
       "day                                   0\n",
       "orig_weather_categ_empty              0\n",
       "orig_weather_categ_no weather data    0\n",
       "orig_weather_categ_rain               0\n",
       "orig_weather_categ_snow               0\n",
       "orig_weather_categ_snow & rain        0\n",
       "orig_weather_categ_sunny              0\n",
       "dest_weather_categ_empty              0\n",
       "dest_weather_categ_no weather data    0\n",
       "dest_weather_categ_rain               0\n",
       "dest_weather_categ_snow               0\n",
       "dest_weather_categ_snow & rain        0\n",
       "dest_weather_categ_sunny              0\n",
       "dtype: int64"
      ]
     },
     "execution_count": 37,
     "metadata": {},
     "output_type": "execute_result"
    }
   ],
   "source": [
    "#final null and dtype check:\n",
    "pd.isnull(flights_M1).sum()"
   ]
  },
  {
   "cell_type": "code",
   "execution_count": 38,
   "id": "f9139306-f3f6-4762-9156-04bbcc6f3e16",
   "metadata": {},
   "outputs": [
    {
     "data": {
      "text/plain": [
       "crs_dep_time                            int64\n",
       "dep_time                              float64\n",
       "taxi_out                              float64\n",
       "wheels_off                            float64\n",
       "wheels_on                             float64\n",
       "taxi_in                               float64\n",
       "crs_arr_time                            int64\n",
       "arr_time                              float64\n",
       "cancelled                             float64\n",
       "diverted                              float64\n",
       "crs_elapsed_time                      float64\n",
       "actual_elapsed_time                   float64\n",
       "air_time                              float64\n",
       "flights                               float64\n",
       "distance                              float64\n",
       "dep_time_of_day                         int64\n",
       "arr_time_of_day                         int64\n",
       "mean_arr_delay_orig_airport           float64\n",
       "mean_arr_delay_dest_airport           float64\n",
       "mean_arr_delay_carrier                float64\n",
       "year                                    int64\n",
       "month                                   int64\n",
       "day                                     int64\n",
       "orig_weather_categ_empty                uint8\n",
       "orig_weather_categ_no weather data      uint8\n",
       "orig_weather_categ_rain                 uint8\n",
       "orig_weather_categ_snow                 uint8\n",
       "orig_weather_categ_snow & rain          uint8\n",
       "orig_weather_categ_sunny                uint8\n",
       "dest_weather_categ_empty                uint8\n",
       "dest_weather_categ_no weather data      uint8\n",
       "dest_weather_categ_rain                 uint8\n",
       "dest_weather_categ_snow                 uint8\n",
       "dest_weather_categ_snow & rain          uint8\n",
       "dest_weather_categ_sunny                uint8\n",
       "dtype: object"
      ]
     },
     "execution_count": 38,
     "metadata": {},
     "output_type": "execute_result"
    }
   ],
   "source": [
    "flights_M1.dtypes"
   ]
  },
  {
   "cell_type": "code",
   "execution_count": 39,
   "id": "2b8c276e-0858-4982-be08-b874dc60c413",
   "metadata": {
    "tags": []
   },
   "outputs": [
    {
     "data": {
      "text/plain": [
       "<AxesSubplot:>"
      ]
     },
     "execution_count": 39,
     "metadata": {},
     "output_type": "execute_result"
    },
    {
     "data": {
      "image/png": "[encoded data removed]",
      "text/plain": [
       "<Figure size 432x288 with 2 Axes>"
      ]
     },
     "metadata": {
      "needs_background": "light"
     },
     "output_type": "display_data"
    }
   ],
   "source": [
    "sns.heatmap(flights_M1.corr())"
   ]
  },
  {
   "cell_type": "markdown",
   "id": "c36bbd2f-3259-4db4-9c85-9f9378d40f2a",
   "metadata": {},
   "source": [
    "# Apply same process to test set"
   ]
  },
  {
   "cell_type": "markdown",
   "id": "9a906db3-0a64-453d-ad81-35c24c0082f2",
   "metadata": {},
   "source": [
    "keep only the features we would have 1 week before the flight:\n",
    "\n",
    "Index(['fl_date', 'mkt_unique_carrier', 'branded_code_share', 'mkt_carrier',\n",
    "       'mkt_carrier_fl_num', 'op_unique_carrier', 'tail_num',\n",
    "       'op_carrier_fl_num', 'origin_airport_id', 'origin', 'origin_city_name',\n",
    "       'dest_airport_id', 'dest', 'dest_city_name', 'crs_dep_time',\n",
    "       'crs_arr_time', 'dup', 'crs_elapsed_time', 'flights', 'distance'],\n",
    "      dtype='object')"
   ]
  },
  {
   "cell_type": "code",
   "execution_count": 98,
   "id": "499ce887-35e0-4a4c-b21e-2298d73536e5",
   "metadata": {},
   "outputs": [],
   "source": [
    "test_M1 = X_test[['fl_date', 'mkt_unique_carrier', 'branded_code_share', 'mkt_carrier', 'mkt_carrier_fl_num', \n",
    "                 'op_unique_carrier', 'tail_num', 'op_carrier_fl_num', 'origin_airport_id', 'origin', 'origin_city_name', \n",
    "                 'dest_airport_id', 'dest', 'dest_city_name', 'crs_dep_time', 'crs_arr_time', 'dup', 'crs_elapsed_time', 'flights', 'distance']]"
   ]
  },
  {
   "cell_type": "code",
   "execution_count": 99,
   "id": "1ef0fd78-d769-4238-a616-50f82a88f611",
   "metadata": {},
   "outputs": [
    {
     "data": {
      "text/html": [
       "<div>\n",
       "<style scoped>\n",
       "    .dataframe tbody tr th:only-of-type {\n",
       "        vertical-align: middle;\n",
       "    }\n",
       "\n",
       "    .dataframe tbody tr th {\n",
       "        vertical-align: top;\n",
       "    }\n",
       "\n",
       "    .dataframe thead th {\n",
       "        text-align: right;\n",
       "    }\n",
       "</style>\n",
       "<table border=\"1\" class=\"dataframe\">\n",
       "  <thead>\n",
       "    <tr style=\"text-align: right;\">\n",
       "      <th></th>\n",
       "      <th>fl_date</th>\n",
       "      <th>mkt_unique_carrier</th>\n",
       "      <th>branded_code_share</th>\n",
       "      <th>mkt_carrier</th>\n",
       "      <th>mkt_carrier_fl_num</th>\n",
       "      <th>op_unique_carrier</th>\n",
       "      <th>tail_num</th>\n",
       "      <th>op_carrier_fl_num</th>\n",
       "      <th>origin_airport_id</th>\n",
       "      <th>origin</th>\n",
       "      <th>origin_city_name</th>\n",
       "      <th>dest_airport_id</th>\n",
       "      <th>dest</th>\n",
       "      <th>dest_city_name</th>\n",
       "      <th>crs_dep_time</th>\n",
       "      <th>crs_arr_time</th>\n",
       "      <th>dup</th>\n",
       "      <th>crs_elapsed_time</th>\n",
       "      <th>flights</th>\n",
       "      <th>distance</th>\n",
       "    </tr>\n",
       "  </thead>\n",
       "  <tbody>\n",
       "    <tr>\n",
       "      <th>6252</th>\n",
       "      <td>2019-12-25</td>\n",
       "      <td>UA</td>\n",
       "      <td>UA_CODESHARE</td>\n",
       "      <td>UA</td>\n",
       "      <td>5517</td>\n",
       "      <td>OO</td>\n",
       "      <td>N471CA</td>\n",
       "      <td>5517</td>\n",
       "      <td>11109</td>\n",
       "      <td>COS</td>\n",
       "      <td>Colorado Springs, CO</td>\n",
       "      <td>11292</td>\n",
       "      <td>DEN</td>\n",
       "      <td>Denver, CO</td>\n",
       "      <td>738</td>\n",
       "      <td>840</td>\n",
       "      <td>N</td>\n",
       "      <td>62.0</td>\n",
       "      <td>1.0</td>\n",
       "      <td>73.0</td>\n",
       "    </tr>\n",
       "    <tr>\n",
       "      <th>4684</th>\n",
       "      <td>2019-10-22</td>\n",
       "      <td>F9</td>\n",
       "      <td>F9</td>\n",
       "      <td>F9</td>\n",
       "      <td>610</td>\n",
       "      <td>F9</td>\n",
       "      <td>N316FR</td>\n",
       "      <td>610</td>\n",
       "      <td>12217</td>\n",
       "      <td>HSV</td>\n",
       "      <td>Huntsville, AL</td>\n",
       "      <td>13204</td>\n",
       "      <td>MCO</td>\n",
       "      <td>Orlando, FL</td>\n",
       "      <td>1917</td>\n",
       "      <td>2207</td>\n",
       "      <td>N</td>\n",
       "      <td>110.0</td>\n",
       "      <td>1.0</td>\n",
       "      <td>535.0</td>\n",
       "    </tr>\n",
       "  </tbody>\n",
       "</table>\n",
       "</div>"
      ],
      "text/plain": [
       "         fl_date mkt_unique_carrier branded_code_share mkt_carrier  \\\n",
       "6252  2019-12-25                 UA       UA_CODESHARE          UA   \n",
       "4684  2019-10-22                 F9                 F9          F9   \n",
       "\n",
       "      mkt_carrier_fl_num op_unique_carrier tail_num  op_carrier_fl_num  \\\n",
       "6252                5517                OO   N471CA               5517   \n",
       "4684                 610                F9   N316FR                610   \n",
       "\n",
       "      origin_airport_id origin      origin_city_name  dest_airport_id dest  \\\n",
       "6252              11109    COS  Colorado Springs, CO            11292  DEN   \n",
       "4684              12217    HSV        Huntsville, AL            13204  MCO   \n",
       "\n",
       "     dest_city_name  crs_dep_time  crs_arr_time dup  crs_elapsed_time  \\\n",
       "6252     Denver, CO           738           840   N              62.0   \n",
       "4684    Orlando, FL          1917          2207   N             110.0   \n",
       "\n",
       "      flights  distance  \n",
       "6252      1.0      73.0  \n",
       "4684      1.0     535.0  "
      ]
     },
     "execution_count": 99,
     "metadata": {},
     "output_type": "execute_result"
    }
   ],
   "source": [
    "test_M1.head(2)"
   ]
  },
  {
   "cell_type": "markdown",
   "id": "820fbf80-10e3-432c-8b9c-8fd18c51fbde",
   "metadata": {
    "tags": []
   },
   "source": [
    "## Replace null with 0"
   ]
  },
  {
   "cell_type": "code",
   "execution_count": 100,
   "id": "4965b39a-9481-4ff8-9701-59d95e14be72",
   "metadata": {
    "tags": []
   },
   "outputs": [
    {
     "data": {
      "text/plain": [
       "fl_date               0\n",
       "mkt_unique_carrier    0\n",
       "branded_code_share    0\n",
       "mkt_carrier           0\n",
       "mkt_carrier_fl_num    0\n",
       "op_unique_carrier     0\n",
       "tail_num              7\n",
       "op_carrier_fl_num     0\n",
       "origin_airport_id     0\n",
       "origin                0\n",
       "origin_city_name      0\n",
       "dest_airport_id       0\n",
       "dest                  0\n",
       "dest_city_name        0\n",
       "crs_dep_time          0\n",
       "crs_arr_time          0\n",
       "dup                   0\n",
       "crs_elapsed_time      0\n",
       "flights               0\n",
       "distance              0\n",
       "dtype: int64"
      ]
     },
     "execution_count": 100,
     "metadata": {},
     "output_type": "execute_result"
    }
   ],
   "source": [
    "pd.isnull(test_M1).sum()"
   ]
  },
  {
   "cell_type": "code",
   "execution_count": 101,
   "id": "8adb13e0-456d-43d5-884b-3e188c30143c",
   "metadata": {},
   "outputs": [],
   "source": [
    "test_M1.fillna(0, inplace = True)"
   ]
  },
  {
   "cell_type": "markdown",
   "id": "e4953374-def8-4c8e-8387-c62658aca3c5",
   "metadata": {},
   "source": [
    "## Add Features\n",
    "### Add time of day feature"
   ]
  },
  {
   "cell_type": "code",
   "execution_count": 102,
   "id": "de527099-a524-4dc4-9cd9-40bc02cb017f",
   "metadata": {},
   "outputs": [],
   "source": [
    "test_M1['dep_time_of_day'] = flights_M1.apply(lambda df: time_of_day(df, method='dep'), axis=1)\n",
    "test_M1['arr_time_of_day'] = flights_M1.apply(lambda df: time_of_day(df, method='arr'), axis=1)"
   ]
  },
  {
   "cell_type": "code",
   "execution_count": 103,
   "id": "0f5be515-917c-42cf-a3ee-8af6cab3a1da",
   "metadata": {},
   "outputs": [],
   "source": [
    "feature_categorizer(test_M1[['dep_time_of_day','arr_time_of_day']], test_M1)"
   ]
  },
  {
   "cell_type": "code",
   "execution_count": 104,
   "id": "682450df-2ddf-4ade-b80f-0ec1432a52f3",
   "metadata": {},
   "outputs": [
    {
     "data": {
      "text/html": [
       "<div>\n",
       "<style scoped>\n",
       "    .dataframe tbody tr th:only-of-type {\n",
       "        vertical-align: middle;\n",
       "    }\n",
       "\n",
       "    .dataframe tbody tr th {\n",
       "        vertical-align: top;\n",
       "    }\n",
       "\n",
       "    .dataframe thead th {\n",
       "        text-align: right;\n",
       "    }\n",
       "</style>\n",
       "<table border=\"1\" class=\"dataframe\">\n",
       "  <thead>\n",
       "    <tr style=\"text-align: right;\">\n",
       "      <th></th>\n",
       "      <th>fl_date</th>\n",
       "      <th>mkt_unique_carrier</th>\n",
       "      <th>branded_code_share</th>\n",
       "      <th>mkt_carrier</th>\n",
       "      <th>mkt_carrier_fl_num</th>\n",
       "      <th>op_unique_carrier</th>\n",
       "      <th>tail_num</th>\n",
       "      <th>op_carrier_fl_num</th>\n",
       "      <th>origin_airport_id</th>\n",
       "      <th>origin</th>\n",
       "      <th>...</th>\n",
       "      <th>dest</th>\n",
       "      <th>dest_city_name</th>\n",
       "      <th>crs_dep_time</th>\n",
       "      <th>crs_arr_time</th>\n",
       "      <th>dup</th>\n",
       "      <th>crs_elapsed_time</th>\n",
       "      <th>flights</th>\n",
       "      <th>distance</th>\n",
       "      <th>dep_time_of_day</th>\n",
       "      <th>arr_time_of_day</th>\n",
       "    </tr>\n",
       "  </thead>\n",
       "  <tbody>\n",
       "    <tr>\n",
       "      <th>6252</th>\n",
       "      <td>2019-12-25</td>\n",
       "      <td>UA</td>\n",
       "      <td>UA_CODESHARE</td>\n",
       "      <td>UA</td>\n",
       "      <td>5517</td>\n",
       "      <td>OO</td>\n",
       "      <td>N471CA</td>\n",
       "      <td>5517</td>\n",
       "      <td>11109</td>\n",
       "      <td>COS</td>\n",
       "      <td>...</td>\n",
       "      <td>DEN</td>\n",
       "      <td>Denver, CO</td>\n",
       "      <td>738</td>\n",
       "      <td>840</td>\n",
       "      <td>N</td>\n",
       "      <td>62.0</td>\n",
       "      <td>1.0</td>\n",
       "      <td>73.0</td>\n",
       "      <td>0</td>\n",
       "      <td>0</td>\n",
       "    </tr>\n",
       "    <tr>\n",
       "      <th>4684</th>\n",
       "      <td>2019-10-22</td>\n",
       "      <td>F9</td>\n",
       "      <td>F9</td>\n",
       "      <td>F9</td>\n",
       "      <td>610</td>\n",
       "      <td>F9</td>\n",
       "      <td>N316FR</td>\n",
       "      <td>610</td>\n",
       "      <td>12217</td>\n",
       "      <td>HSV</td>\n",
       "      <td>...</td>\n",
       "      <td>MCO</td>\n",
       "      <td>Orlando, FL</td>\n",
       "      <td>1917</td>\n",
       "      <td>2207</td>\n",
       "      <td>N</td>\n",
       "      <td>110.0</td>\n",
       "      <td>1.0</td>\n",
       "      <td>535.0</td>\n",
       "      <td>1</td>\n",
       "      <td>1</td>\n",
       "    </tr>\n",
       "  </tbody>\n",
       "</table>\n",
       "<p>2 rows × 22 columns</p>\n",
       "</div>"
      ],
      "text/plain": [
       "         fl_date mkt_unique_carrier branded_code_share mkt_carrier  \\\n",
       "6252  2019-12-25                 UA       UA_CODESHARE          UA   \n",
       "4684  2019-10-22                 F9                 F9          F9   \n",
       "\n",
       "      mkt_carrier_fl_num op_unique_carrier tail_num  op_carrier_fl_num  \\\n",
       "6252                5517                OO   N471CA               5517   \n",
       "4684                 610                F9   N316FR                610   \n",
       "\n",
       "      origin_airport_id origin  ... dest  dest_city_name crs_dep_time  \\\n",
       "6252              11109    COS  ...  DEN      Denver, CO          738   \n",
       "4684              12217    HSV  ...  MCO     Orlando, FL         1917   \n",
       "\n",
       "     crs_arr_time  dup  crs_elapsed_time flights  distance  dep_time_of_day  \\\n",
       "6252          840    N              62.0     1.0      73.0                0   \n",
       "4684         2207    N             110.0     1.0     535.0                1   \n",
       "\n",
       "      arr_time_of_day  \n",
       "6252                0  \n",
       "4684                1  \n",
       "\n",
       "[2 rows x 22 columns]"
      ]
     },
     "execution_count": 104,
     "metadata": {},
     "output_type": "execute_result"
    }
   ],
   "source": [
    "test_M1.head(2)"
   ]
  },
  {
   "cell_type": "code",
   "execution_count": 105,
   "id": "7e2435ac-be66-4467-9acb-b1abd222676e",
   "metadata": {
    "tags": []
   },
   "outputs": [
    {
     "data": {
      "text/plain": [
       "fl_date                object\n",
       "mkt_unique_carrier     object\n",
       "branded_code_share     object\n",
       "mkt_carrier            object\n",
       "mkt_carrier_fl_num      int64\n",
       "op_unique_carrier      object\n",
       "tail_num               object\n",
       "op_carrier_fl_num       int64\n",
       "origin_airport_id       int64\n",
       "origin                 object\n",
       "origin_city_name       object\n",
       "dest_airport_id         int64\n",
       "dest                   object\n",
       "dest_city_name         object\n",
       "crs_dep_time            int64\n",
       "crs_arr_time            int64\n",
       "dup                    object\n",
       "crs_elapsed_time      float64\n",
       "flights               float64\n",
       "distance              float64\n",
       "dep_time_of_day         int64\n",
       "arr_time_of_day         int64\n",
       "dtype: object"
      ]
     },
     "execution_count": 105,
     "metadata": {},
     "output_type": "execute_result"
    }
   ],
   "source": [
    "test_M1.dtypes"
   ]
  },
  {
   "cell_type": "markdown",
   "id": "2ed44e46-cd44-4654-894c-62965de0e8ec",
   "metadata": {},
   "source": [
    "### Assign mean delay by airport feature from train data set"
   ]
  },
  {
   "cell_type": "code",
   "execution_count": 106,
   "id": "a521a1b4-25bf-41a8-a6ab-2fcb369b529c",
   "metadata": {},
   "outputs": [
    {
     "data": {
      "text/html": [
       "<div>\n",
       "<style scoped>\n",
       "    .dataframe tbody tr th:only-of-type {\n",
       "        vertical-align: middle;\n",
       "    }\n",
       "\n",
       "    .dataframe tbody tr th {\n",
       "        vertical-align: top;\n",
       "    }\n",
       "\n",
       "    .dataframe thead th {\n",
       "        text-align: right;\n",
       "    }\n",
       "</style>\n",
       "<table border=\"1\" class=\"dataframe\">\n",
       "  <thead>\n",
       "    <tr style=\"text-align: right;\">\n",
       "      <th></th>\n",
       "      <th>origin</th>\n",
       "      <th>mean_arr_delay_orig_airport</th>\n",
       "    </tr>\n",
       "  </thead>\n",
       "  <tbody>\n",
       "    <tr>\n",
       "      <th>0</th>\n",
       "      <td>ABE</td>\n",
       "      <td>0.461538</td>\n",
       "    </tr>\n",
       "    <tr>\n",
       "      <th>1</th>\n",
       "      <td>ABI</td>\n",
       "      <td>18.000000</td>\n",
       "    </tr>\n",
       "    <tr>\n",
       "      <th>2</th>\n",
       "      <td>ABQ</td>\n",
       "      <td>3.342857</td>\n",
       "    </tr>\n",
       "    <tr>\n",
       "      <th>3</th>\n",
       "      <td>ABY</td>\n",
       "      <td>-15.000000</td>\n",
       "    </tr>\n",
       "    <tr>\n",
       "      <th>4</th>\n",
       "      <td>ACK</td>\n",
       "      <td>-19.000000</td>\n",
       "    </tr>\n",
       "    <tr>\n",
       "      <th>...</th>\n",
       "      <td>...</td>\n",
       "      <td>...</td>\n",
       "    </tr>\n",
       "    <tr>\n",
       "      <th>307</th>\n",
       "      <td>WRG</td>\n",
       "      <td>2.666667</td>\n",
       "    </tr>\n",
       "    <tr>\n",
       "      <th>308</th>\n",
       "      <td>XNA</td>\n",
       "      <td>2.727273</td>\n",
       "    </tr>\n",
       "    <tr>\n",
       "      <th>309</th>\n",
       "      <td>XWA</td>\n",
       "      <td>-14.000000</td>\n",
       "    </tr>\n",
       "    <tr>\n",
       "      <th>310</th>\n",
       "      <td>YAK</td>\n",
       "      <td>81.000000</td>\n",
       "    </tr>\n",
       "    <tr>\n",
       "      <th>311</th>\n",
       "      <td>YUM</td>\n",
       "      <td>-2.000000</td>\n",
       "    </tr>\n",
       "  </tbody>\n",
       "</table>\n",
       "<p>312 rows × 2 columns</p>\n",
       "</div>"
      ],
      "text/plain": [
       "    origin  mean_arr_delay_orig_airport\n",
       "0      ABE                     0.461538\n",
       "1      ABI                    18.000000\n",
       "2      ABQ                     3.342857\n",
       "3      ABY                   -15.000000\n",
       "4      ACK                   -19.000000\n",
       "..     ...                          ...\n",
       "307    WRG                     2.666667\n",
       "308    XNA                     2.727273\n",
       "309    XWA                   -14.000000\n",
       "310    YAK                    81.000000\n",
       "311    YUM                    -2.000000\n",
       "\n",
       "[312 rows x 2 columns]"
      ]
     },
     "execution_count": 106,
     "metadata": {},
     "output_type": "execute_result"
    }
   ],
   "source": [
    "mean_delay_orig_airport"
   ]
  },
  {
   "cell_type": "code",
   "execution_count": 107,
   "id": "c6e37999-0d7e-4783-8031-dcfbac5e6cd8",
   "metadata": {},
   "outputs": [],
   "source": [
    "#merge this mean value to test set with origin as key\n",
    "test_M1 = pd.merge(test_M1, mean_delay_orig_airport, how = 'left', on = ['origin'])"
   ]
  },
  {
   "cell_type": "code",
   "execution_count": 108,
   "id": "52055472-373c-48fb-a4e8-4647921b8a67",
   "metadata": {},
   "outputs": [
    {
     "data": {
      "text/html": [
       "<div>\n",
       "<style scoped>\n",
       "    .dataframe tbody tr th:only-of-type {\n",
       "        vertical-align: middle;\n",
       "    }\n",
       "\n",
       "    .dataframe tbody tr th {\n",
       "        vertical-align: top;\n",
       "    }\n",
       "\n",
       "    .dataframe thead th {\n",
       "        text-align: right;\n",
       "    }\n",
       "</style>\n",
       "<table border=\"1\" class=\"dataframe\">\n",
       "  <thead>\n",
       "    <tr style=\"text-align: right;\">\n",
       "      <th></th>\n",
       "      <th>dest</th>\n",
       "      <th>mean_arr_delay_dest_airport</th>\n",
       "    </tr>\n",
       "  </thead>\n",
       "  <tbody>\n",
       "    <tr>\n",
       "      <th>0</th>\n",
       "      <td>ABE</td>\n",
       "      <td>20.5</td>\n",
       "    </tr>\n",
       "    <tr>\n",
       "      <th>1</th>\n",
       "      <td>ABI</td>\n",
       "      <td>9.6</td>\n",
       "    </tr>\n",
       "  </tbody>\n",
       "</table>\n",
       "</div>"
      ],
      "text/plain": [
       "  dest  mean_arr_delay_dest_airport\n",
       "0  ABE                         20.5\n",
       "1  ABI                          9.6"
      ]
     },
     "execution_count": 108,
     "metadata": {},
     "output_type": "execute_result"
    }
   ],
   "source": [
    "mean_delay_dest_airport.head(2)"
   ]
  },
  {
   "cell_type": "code",
   "execution_count": 109,
   "id": "0c7c5066-cc6d-49e4-be3b-39969cf2b8f2",
   "metadata": {},
   "outputs": [],
   "source": [
    "#merge this mean value to test set with dest as key\n",
    "test_M1 = pd.merge(test_M1, mean_delay_dest_airport, how = 'left', on = ['dest'])"
   ]
  },
  {
   "cell_type": "code",
   "execution_count": 110,
   "id": "70d9b3de-4b1b-4dc9-9d4d-d933ad59c3da",
   "metadata": {},
   "outputs": [
    {
     "data": {
      "text/html": [
       "<div>\n",
       "<style scoped>\n",
       "    .dataframe tbody tr th:only-of-type {\n",
       "        vertical-align: middle;\n",
       "    }\n",
       "\n",
       "    .dataframe tbody tr th {\n",
       "        vertical-align: top;\n",
       "    }\n",
       "\n",
       "    .dataframe thead th {\n",
       "        text-align: right;\n",
       "    }\n",
       "</style>\n",
       "<table border=\"1\" class=\"dataframe\">\n",
       "  <thead>\n",
       "    <tr style=\"text-align: right;\">\n",
       "      <th></th>\n",
       "      <th>fl_date</th>\n",
       "      <th>mkt_unique_carrier</th>\n",
       "      <th>branded_code_share</th>\n",
       "      <th>mkt_carrier</th>\n",
       "      <th>mkt_carrier_fl_num</th>\n",
       "      <th>op_unique_carrier</th>\n",
       "      <th>tail_num</th>\n",
       "      <th>op_carrier_fl_num</th>\n",
       "      <th>origin_airport_id</th>\n",
       "      <th>origin</th>\n",
       "      <th>...</th>\n",
       "      <th>crs_dep_time</th>\n",
       "      <th>crs_arr_time</th>\n",
       "      <th>dup</th>\n",
       "      <th>crs_elapsed_time</th>\n",
       "      <th>flights</th>\n",
       "      <th>distance</th>\n",
       "      <th>dep_time_of_day</th>\n",
       "      <th>arr_time_of_day</th>\n",
       "      <th>mean_arr_delay_orig_airport</th>\n",
       "      <th>mean_arr_delay_dest_airport</th>\n",
       "    </tr>\n",
       "  </thead>\n",
       "  <tbody>\n",
       "    <tr>\n",
       "      <th>0</th>\n",
       "      <td>2019-12-25</td>\n",
       "      <td>UA</td>\n",
       "      <td>UA_CODESHARE</td>\n",
       "      <td>UA</td>\n",
       "      <td>5517</td>\n",
       "      <td>OO</td>\n",
       "      <td>N471CA</td>\n",
       "      <td>5517</td>\n",
       "      <td>11109</td>\n",
       "      <td>COS</td>\n",
       "      <td>...</td>\n",
       "      <td>738</td>\n",
       "      <td>840</td>\n",
       "      <td>N</td>\n",
       "      <td>62.0</td>\n",
       "      <td>1.0</td>\n",
       "      <td>73.0</td>\n",
       "      <td>0</td>\n",
       "      <td>0</td>\n",
       "      <td>1.562500</td>\n",
       "      <td>8.167139</td>\n",
       "    </tr>\n",
       "    <tr>\n",
       "      <th>1</th>\n",
       "      <td>2019-10-22</td>\n",
       "      <td>F9</td>\n",
       "      <td>F9</td>\n",
       "      <td>F9</td>\n",
       "      <td>610</td>\n",
       "      <td>F9</td>\n",
       "      <td>N316FR</td>\n",
       "      <td>610</td>\n",
       "      <td>12217</td>\n",
       "      <td>HSV</td>\n",
       "      <td>...</td>\n",
       "      <td>1917</td>\n",
       "      <td>2207</td>\n",
       "      <td>N</td>\n",
       "      <td>110.0</td>\n",
       "      <td>1.0</td>\n",
       "      <td>535.0</td>\n",
       "      <td>1</td>\n",
       "      <td>1</td>\n",
       "      <td>8.142857</td>\n",
       "      <td>6.617143</td>\n",
       "    </tr>\n",
       "  </tbody>\n",
       "</table>\n",
       "<p>2 rows × 24 columns</p>\n",
       "</div>"
      ],
      "text/plain": [
       "      fl_date mkt_unique_carrier branded_code_share mkt_carrier  \\\n",
       "0  2019-12-25                 UA       UA_CODESHARE          UA   \n",
       "1  2019-10-22                 F9                 F9          F9   \n",
       "\n",
       "   mkt_carrier_fl_num op_unique_carrier tail_num  op_carrier_fl_num  \\\n",
       "0                5517                OO   N471CA               5517   \n",
       "1                 610                F9   N316FR                610   \n",
       "\n",
       "   origin_airport_id origin  ... crs_dep_time  crs_arr_time dup  \\\n",
       "0              11109    COS  ...          738           840   N   \n",
       "1              12217    HSV  ...         1917          2207   N   \n",
       "\n",
       "  crs_elapsed_time  flights  distance dep_time_of_day  arr_time_of_day  \\\n",
       "0             62.0      1.0      73.0               0                0   \n",
       "1            110.0      1.0     535.0               1                1   \n",
       "\n",
       "   mean_arr_delay_orig_airport  mean_arr_delay_dest_airport  \n",
       "0                     1.562500                     8.167139  \n",
       "1                     8.142857                     6.617143  \n",
       "\n",
       "[2 rows x 24 columns]"
      ]
     },
     "execution_count": 110,
     "metadata": {},
     "output_type": "execute_result"
    }
   ],
   "source": [
    "test_M1.head(2)"
   ]
  },
  {
   "cell_type": "markdown",
   "id": "cf52a293-f6d6-4887-8a04-bd8d3e040ed1",
   "metadata": {},
   "source": [
    "### Assign mean delay by carrier feature (created from train set)"
   ]
  },
  {
   "cell_type": "code",
   "execution_count": 111,
   "id": "be5f7490-7776-45bc-b173-be42105269bb",
   "metadata": {},
   "outputs": [
    {
     "data": {
      "text/html": [
       "<div>\n",
       "<style scoped>\n",
       "    .dataframe tbody tr th:only-of-type {\n",
       "        vertical-align: middle;\n",
       "    }\n",
       "\n",
       "    .dataframe tbody tr th {\n",
       "        vertical-align: top;\n",
       "    }\n",
       "\n",
       "    .dataframe thead th {\n",
       "        text-align: right;\n",
       "    }\n",
       "</style>\n",
       "<table border=\"1\" class=\"dataframe\">\n",
       "  <thead>\n",
       "    <tr style=\"text-align: right;\">\n",
       "      <th></th>\n",
       "      <th>mkt_unique_carrier</th>\n",
       "      <th>mean_arr_delay_carrier</th>\n",
       "    </tr>\n",
       "  </thead>\n",
       "  <tbody>\n",
       "    <tr>\n",
       "      <th>0</th>\n",
       "      <td>AA</td>\n",
       "      <td>5.238848</td>\n",
       "    </tr>\n",
       "    <tr>\n",
       "      <th>1</th>\n",
       "      <td>AS</td>\n",
       "      <td>0.251327</td>\n",
       "    </tr>\n",
       "    <tr>\n",
       "      <th>2</th>\n",
       "      <td>B6</td>\n",
       "      <td>12.448753</td>\n",
       "    </tr>\n",
       "    <tr>\n",
       "      <th>3</th>\n",
       "      <td>DL</td>\n",
       "      <td>3.892650</td>\n",
       "    </tr>\n",
       "    <tr>\n",
       "      <th>4</th>\n",
       "      <td>F9</td>\n",
       "      <td>16.618750</td>\n",
       "    </tr>\n",
       "    <tr>\n",
       "      <th>5</th>\n",
       "      <td>G4</td>\n",
       "      <td>6.624000</td>\n",
       "    </tr>\n",
       "    <tr>\n",
       "      <th>6</th>\n",
       "      <td>HA</td>\n",
       "      <td>1.037736</td>\n",
       "    </tr>\n",
       "    <tr>\n",
       "      <th>7</th>\n",
       "      <td>NK</td>\n",
       "      <td>10.057143</td>\n",
       "    </tr>\n",
       "    <tr>\n",
       "      <th>8</th>\n",
       "      <td>UA</td>\n",
       "      <td>8.433741</td>\n",
       "    </tr>\n",
       "    <tr>\n",
       "      <th>9</th>\n",
       "      <td>VX</td>\n",
       "      <td>-8.600000</td>\n",
       "    </tr>\n",
       "    <tr>\n",
       "      <th>10</th>\n",
       "      <td>WN</td>\n",
       "      <td>4.019512</td>\n",
       "    </tr>\n",
       "  </tbody>\n",
       "</table>\n",
       "</div>"
      ],
      "text/plain": [
       "   mkt_unique_carrier  mean_arr_delay_carrier\n",
       "0                  AA                5.238848\n",
       "1                  AS                0.251327\n",
       "2                  B6               12.448753\n",
       "3                  DL                3.892650\n",
       "4                  F9               16.618750\n",
       "5                  G4                6.624000\n",
       "6                  HA                1.037736\n",
       "7                  NK               10.057143\n",
       "8                  UA                8.433741\n",
       "9                  VX               -8.600000\n",
       "10                 WN                4.019512"
      ]
     },
     "execution_count": 111,
     "metadata": {},
     "output_type": "execute_result"
    }
   ],
   "source": [
    "mean_delay_carrier"
   ]
  },
  {
   "cell_type": "code",
   "execution_count": 112,
   "id": "143611eb-6bf4-4d89-9fc7-b360d8703edd",
   "metadata": {},
   "outputs": [],
   "source": [
    "#merge this mean value to test set with mkt unique carrier as key\n",
    "test_M1 = pd.merge(test_M1, mean_delay_carrier, how = 'left', on = ['mkt_unique_carrier'])"
   ]
  },
  {
   "cell_type": "code",
   "execution_count": 113,
   "id": "e4dcccbb-b63e-4795-8ba7-68c58f963ef7",
   "metadata": {},
   "outputs": [
    {
     "data": {
      "text/html": [
       "<div>\n",
       "<style scoped>\n",
       "    .dataframe tbody tr th:only-of-type {\n",
       "        vertical-align: middle;\n",
       "    }\n",
       "\n",
       "    .dataframe tbody tr th {\n",
       "        vertical-align: top;\n",
       "    }\n",
       "\n",
       "    .dataframe thead th {\n",
       "        text-align: right;\n",
       "    }\n",
       "</style>\n",
       "<table border=\"1\" class=\"dataframe\">\n",
       "  <thead>\n",
       "    <tr style=\"text-align: right;\">\n",
       "      <th></th>\n",
       "      <th>fl_date</th>\n",
       "      <th>mkt_unique_carrier</th>\n",
       "      <th>branded_code_share</th>\n",
       "      <th>mkt_carrier</th>\n",
       "      <th>mkt_carrier_fl_num</th>\n",
       "      <th>op_unique_carrier</th>\n",
       "      <th>tail_num</th>\n",
       "      <th>op_carrier_fl_num</th>\n",
       "      <th>origin_airport_id</th>\n",
       "      <th>origin</th>\n",
       "      <th>...</th>\n",
       "      <th>crs_arr_time</th>\n",
       "      <th>dup</th>\n",
       "      <th>crs_elapsed_time</th>\n",
       "      <th>flights</th>\n",
       "      <th>distance</th>\n",
       "      <th>dep_time_of_day</th>\n",
       "      <th>arr_time_of_day</th>\n",
       "      <th>mean_arr_delay_orig_airport</th>\n",
       "      <th>mean_arr_delay_dest_airport</th>\n",
       "      <th>mean_arr_delay_carrier</th>\n",
       "    </tr>\n",
       "  </thead>\n",
       "  <tbody>\n",
       "    <tr>\n",
       "      <th>0</th>\n",
       "      <td>2019-12-25</td>\n",
       "      <td>UA</td>\n",
       "      <td>UA_CODESHARE</td>\n",
       "      <td>UA</td>\n",
       "      <td>5517</td>\n",
       "      <td>OO</td>\n",
       "      <td>N471CA</td>\n",
       "      <td>5517</td>\n",
       "      <td>11109</td>\n",
       "      <td>COS</td>\n",
       "      <td>...</td>\n",
       "      <td>840</td>\n",
       "      <td>N</td>\n",
       "      <td>62.0</td>\n",
       "      <td>1.0</td>\n",
       "      <td>73.0</td>\n",
       "      <td>0</td>\n",
       "      <td>0</td>\n",
       "      <td>1.5625</td>\n",
       "      <td>8.167139</td>\n",
       "      <td>8.433741</td>\n",
       "    </tr>\n",
       "  </tbody>\n",
       "</table>\n",
       "<p>1 rows × 25 columns</p>\n",
       "</div>"
      ],
      "text/plain": [
       "      fl_date mkt_unique_carrier branded_code_share mkt_carrier  \\\n",
       "0  2019-12-25                 UA       UA_CODESHARE          UA   \n",
       "\n",
       "   mkt_carrier_fl_num op_unique_carrier tail_num  op_carrier_fl_num  \\\n",
       "0                5517                OO   N471CA               5517   \n",
       "\n",
       "   origin_airport_id origin  ... crs_arr_time  dup crs_elapsed_time flights  \\\n",
       "0              11109    COS  ...          840    N             62.0     1.0   \n",
       "\n",
       "   distance  dep_time_of_day arr_time_of_day  mean_arr_delay_orig_airport  \\\n",
       "0      73.0                0               0                       1.5625   \n",
       "\n",
       "   mean_arr_delay_dest_airport  mean_arr_delay_carrier  \n",
       "0                     8.167139                8.433741  \n",
       "\n",
       "[1 rows x 25 columns]"
      ]
     },
     "execution_count": 113,
     "metadata": {},
     "output_type": "execute_result"
    }
   ],
   "source": [
    "test_M1.head(1)"
   ]
  },
  {
   "cell_type": "code",
   "execution_count": 114,
   "id": "0d5f0106-38a6-494c-9129-d069d1d28ad6",
   "metadata": {},
   "outputs": [],
   "source": [
    "#now we can drop the 'mkt_unique_carrier' categorical feature\n",
    "test_M1.drop(['mkt_unique_carrier'], axis = 1, inplace = True)"
   ]
  },
  {
   "cell_type": "markdown",
   "id": "b8e756f7-24e1-4603-b772-ea7d37e1fce6",
   "metadata": {},
   "source": [
    "## Add Regions"
   ]
  },
  {
   "cell_type": "code",
   "execution_count": null,
   "id": "c6351e87-9921-4ef2-a971-16a0cabb9b06",
   "metadata": {},
   "outputs": [],
   "source": [
    "#create a state_id for each dest and orig\n",
    "# test_M1[\"orig_state_id\"] = test_M1[\"origin_city_name\"].str.split(', ')[1]\n",
    "# test_M1[\"dest_state_id\"] = test_M1[\"dest_city_name\"].str.split(', ')[1]"
   ]
  },
  {
   "cell_type": "code",
   "execution_count": null,
   "id": "209fd306-fbb4-413e-8710-7e33779f9b84",
   "metadata": {},
   "outputs": [],
   "source": [
    "# make_regions(test_M1, 'origin_city_name')\n",
    "# make_regions(test_M1, 'dest_city_name')"
   ]
  },
  {
   "cell_type": "markdown",
   "id": "5d7995e7-634d-4f9f-b600-8ee1324427e0",
   "metadata": {},
   "source": [
    "## Remove features"
   ]
  },
  {
   "cell_type": "code",
   "execution_count": 115,
   "id": "363dffa7-1bfc-468f-a9b7-698c054b9ebb",
   "metadata": {},
   "outputs": [],
   "source": [
    "#remove categorical int features\n",
    "test_M1.drop(['mkt_carrier_fl_num', 'op_carrier_fl_num', 'origin_airport_id', 'dest_airport_id'], axis = 1, inplace = True)"
   ]
  },
  {
   "cell_type": "code",
   "execution_count": 116,
   "id": "6209263b-9884-4938-aaec-13320ffcc983",
   "metadata": {},
   "outputs": [],
   "source": [
    "#remove unwanted object features\n",
    "test_M1.drop(['branded_code_share', 'mkt_carrier', 'op_unique_carrier', 'tail_num', 'origin', 'dest', 'dup'], axis = 1, inplace = True)"
   ]
  },
  {
   "cell_type": "code",
   "execution_count": 117,
   "id": "6b90e4ff-a855-42c1-b5ee-e7ea6a0acef7",
   "metadata": {},
   "outputs": [
    {
     "data": {
      "text/plain": [
       "fl_date                         object\n",
       "origin_city_name                object\n",
       "dest_city_name                  object\n",
       "crs_dep_time                     int64\n",
       "crs_arr_time                     int64\n",
       "crs_elapsed_time               float64\n",
       "flights                        float64\n",
       "distance                       float64\n",
       "dep_time_of_day                  int64\n",
       "arr_time_of_day                  int64\n",
       "mean_arr_delay_orig_airport    float64\n",
       "mean_arr_delay_dest_airport    float64\n",
       "mean_arr_delay_carrier         float64\n",
       "dtype: object"
      ]
     },
     "execution_count": 117,
     "metadata": {},
     "output_type": "execute_result"
    }
   ],
   "source": [
    "test_M1.dtypes"
   ]
  },
  {
   "cell_type": "code",
   "execution_count": 118,
   "id": "c44f6974-0a08-48e2-9662-83e076903a27",
   "metadata": {},
   "outputs": [
    {
     "data": {
      "text/html": [
       "<div>\n",
       "<style scoped>\n",
       "    .dataframe tbody tr th:only-of-type {\n",
       "        vertical-align: middle;\n",
       "    }\n",
       "\n",
       "    .dataframe tbody tr th {\n",
       "        vertical-align: top;\n",
       "    }\n",
       "\n",
       "    .dataframe thead th {\n",
       "        text-align: right;\n",
       "    }\n",
       "</style>\n",
       "<table border=\"1\" class=\"dataframe\">\n",
       "  <thead>\n",
       "    <tr style=\"text-align: right;\">\n",
       "      <th></th>\n",
       "      <th>fl_date</th>\n",
       "      <th>origin_city_name</th>\n",
       "      <th>dest_city_name</th>\n",
       "      <th>crs_dep_time</th>\n",
       "      <th>crs_arr_time</th>\n",
       "      <th>crs_elapsed_time</th>\n",
       "      <th>flights</th>\n",
       "      <th>distance</th>\n",
       "      <th>dep_time_of_day</th>\n",
       "      <th>arr_time_of_day</th>\n",
       "      <th>mean_arr_delay_orig_airport</th>\n",
       "      <th>mean_arr_delay_dest_airport</th>\n",
       "      <th>mean_arr_delay_carrier</th>\n",
       "    </tr>\n",
       "  </thead>\n",
       "  <tbody>\n",
       "    <tr>\n",
       "      <th>0</th>\n",
       "      <td>2019-12-25</td>\n",
       "      <td>Colorado Springs, CO</td>\n",
       "      <td>Denver, CO</td>\n",
       "      <td>738</td>\n",
       "      <td>840</td>\n",
       "      <td>62.0</td>\n",
       "      <td>1.0</td>\n",
       "      <td>73.0</td>\n",
       "      <td>0</td>\n",
       "      <td>0</td>\n",
       "      <td>1.562500</td>\n",
       "      <td>8.167139</td>\n",
       "      <td>8.433741</td>\n",
       "    </tr>\n",
       "    <tr>\n",
       "      <th>1</th>\n",
       "      <td>2019-10-22</td>\n",
       "      <td>Huntsville, AL</td>\n",
       "      <td>Orlando, FL</td>\n",
       "      <td>1917</td>\n",
       "      <td>2207</td>\n",
       "      <td>110.0</td>\n",
       "      <td>1.0</td>\n",
       "      <td>535.0</td>\n",
       "      <td>1</td>\n",
       "      <td>1</td>\n",
       "      <td>8.142857</td>\n",
       "      <td>6.617143</td>\n",
       "      <td>16.618750</td>\n",
       "    </tr>\n",
       "  </tbody>\n",
       "</table>\n",
       "</div>"
      ],
      "text/plain": [
       "      fl_date      origin_city_name dest_city_name  crs_dep_time  \\\n",
       "0  2019-12-25  Colorado Springs, CO     Denver, CO           738   \n",
       "1  2019-10-22        Huntsville, AL    Orlando, FL          1917   \n",
       "\n",
       "   crs_arr_time  crs_elapsed_time  flights  distance  dep_time_of_day  \\\n",
       "0           840              62.0      1.0      73.0                0   \n",
       "1          2207             110.0      1.0     535.0                1   \n",
       "\n",
       "   arr_time_of_day  mean_arr_delay_orig_airport  mean_arr_delay_dest_airport  \\\n",
       "0                0                     1.562500                     8.167139   \n",
       "1                1                     8.142857                     6.617143   \n",
       "\n",
       "   mean_arr_delay_carrier  \n",
       "0                8.433741  \n",
       "1               16.618750  "
      ]
     },
     "execution_count": 118,
     "metadata": {},
     "output_type": "execute_result"
    }
   ],
   "source": [
    "test_M1.head(2)"
   ]
  },
  {
   "cell_type": "markdown",
   "id": "374d6180-3745-4edb-a072-e78a0901d416",
   "metadata": {},
   "source": [
    "### Get the weather \"forecast\" categorical features, the convert to dummy variables"
   ]
  },
  {
   "cell_type": "code",
   "execution_count": 119,
   "id": "16dc39b6-ee9e-45bf-89cc-e3f4eaaecf0c",
   "metadata": {},
   "outputs": [],
   "source": [
    "#import weather dataset\n",
    "weather_forecast = pd.read_csv('data/final_city_unique.csv',index_col=0)"
   ]
  },
  {
   "cell_type": "code",
   "execution_count": 120,
   "id": "a104a7f4-2a4b-463f-b58f-5a280c9d6117",
   "metadata": {},
   "outputs": [
    {
     "data": {
      "text/html": [
       "<div>\n",
       "<style scoped>\n",
       "    .dataframe tbody tr th:only-of-type {\n",
       "        vertical-align: middle;\n",
       "    }\n",
       "\n",
       "    .dataframe tbody tr th {\n",
       "        vertical-align: top;\n",
       "    }\n",
       "\n",
       "    .dataframe thead th {\n",
       "        text-align: right;\n",
       "    }\n",
       "</style>\n",
       "<table border=\"1\" class=\"dataframe\">\n",
       "  <thead>\n",
       "    <tr style=\"text-align: right;\">\n",
       "      <th></th>\n",
       "      <th>city</th>\n",
       "      <th>count</th>\n",
       "      <th>weather_categ</th>\n",
       "    </tr>\n",
       "    <tr>\n",
       "      <th>fl_date</th>\n",
       "      <th></th>\n",
       "      <th></th>\n",
       "      <th></th>\n",
       "    </tr>\n",
       "  </thead>\n",
       "  <tbody>\n",
       "    <tr>\n",
       "      <th>2018-10-25</th>\n",
       "      <td>New York, NY</td>\n",
       "      <td>7</td>\n",
       "      <td>sunny</td>\n",
       "    </tr>\n",
       "    <tr>\n",
       "      <th>2019-07-10</th>\n",
       "      <td>Chicago, IL</td>\n",
       "      <td>7</td>\n",
       "      <td>rain</td>\n",
       "    </tr>\n",
       "  </tbody>\n",
       "</table>\n",
       "</div>"
      ],
      "text/plain": [
       "                    city  count weather_categ\n",
       "fl_date                                      \n",
       "2018-10-25  New York, NY      7         sunny\n",
       "2019-07-10   Chicago, IL      7          rain"
      ]
     },
     "execution_count": 120,
     "metadata": {},
     "output_type": "execute_result"
    }
   ],
   "source": [
    "weather_forecast.head(2)"
   ]
  },
  {
   "cell_type": "code",
   "execution_count": 121,
   "id": "2f58f680-ff20-4f00-a86c-290f7564f8dd",
   "metadata": {},
   "outputs": [],
   "source": [
    "#we don't want to add the count, only the weather\n",
    "weather_forecast.drop('count', axis = 1, inplace = True)"
   ]
  },
  {
   "cell_type": "code",
   "execution_count": 122,
   "id": "21835a14-a5b8-41b0-b0f3-6ebb24a4e785",
   "metadata": {},
   "outputs": [],
   "source": [
    "test_M1 = pd.merge(test_M1, weather_forecast, how = 'left', left_on = ['fl_date', 'origin_city_name'], right_on = ['fl_date', 'city'])"
   ]
  },
  {
   "cell_type": "code",
   "execution_count": 123,
   "id": "6eca0f40-0f8b-46ce-a280-ca9aa9c83383",
   "metadata": {},
   "outputs": [
    {
     "data": {
      "text/html": [
       "<div>\n",
       "<style scoped>\n",
       "    .dataframe tbody tr th:only-of-type {\n",
       "        vertical-align: middle;\n",
       "    }\n",
       "\n",
       "    .dataframe tbody tr th {\n",
       "        vertical-align: top;\n",
       "    }\n",
       "\n",
       "    .dataframe thead th {\n",
       "        text-align: right;\n",
       "    }\n",
       "</style>\n",
       "<table border=\"1\" class=\"dataframe\">\n",
       "  <thead>\n",
       "    <tr style=\"text-align: right;\">\n",
       "      <th></th>\n",
       "      <th>fl_date</th>\n",
       "      <th>origin_city_name</th>\n",
       "      <th>dest_city_name</th>\n",
       "      <th>crs_dep_time</th>\n",
       "      <th>crs_arr_time</th>\n",
       "      <th>crs_elapsed_time</th>\n",
       "      <th>flights</th>\n",
       "      <th>distance</th>\n",
       "      <th>dep_time_of_day</th>\n",
       "      <th>arr_time_of_day</th>\n",
       "      <th>mean_arr_delay_orig_airport</th>\n",
       "      <th>mean_arr_delay_dest_airport</th>\n",
       "      <th>mean_arr_delay_carrier</th>\n",
       "      <th>city</th>\n",
       "      <th>weather_categ</th>\n",
       "    </tr>\n",
       "  </thead>\n",
       "  <tbody>\n",
       "    <tr>\n",
       "      <th>0</th>\n",
       "      <td>2019-12-25</td>\n",
       "      <td>Colorado Springs, CO</td>\n",
       "      <td>Denver, CO</td>\n",
       "      <td>738</td>\n",
       "      <td>840</td>\n",
       "      <td>62.0</td>\n",
       "      <td>1.0</td>\n",
       "      <td>73.0</td>\n",
       "      <td>0</td>\n",
       "      <td>0</td>\n",
       "      <td>1.5625</td>\n",
       "      <td>8.167139</td>\n",
       "      <td>8.433741</td>\n",
       "      <td>Colorado Springs, CO</td>\n",
       "      <td>sunny</td>\n",
       "    </tr>\n",
       "  </tbody>\n",
       "</table>\n",
       "</div>"
      ],
      "text/plain": [
       "      fl_date      origin_city_name dest_city_name  crs_dep_time  \\\n",
       "0  2019-12-25  Colorado Springs, CO     Denver, CO           738   \n",
       "\n",
       "   crs_arr_time  crs_elapsed_time  flights  distance  dep_time_of_day  \\\n",
       "0           840              62.0      1.0      73.0                0   \n",
       "\n",
       "   arr_time_of_day  mean_arr_delay_orig_airport  mean_arr_delay_dest_airport  \\\n",
       "0                0                       1.5625                     8.167139   \n",
       "\n",
       "   mean_arr_delay_carrier                  city weather_categ  \n",
       "0                8.433741  Colorado Springs, CO         sunny  "
      ]
     },
     "execution_count": 123,
     "metadata": {},
     "output_type": "execute_result"
    }
   ],
   "source": [
    "test_M1.head(1)"
   ]
  },
  {
   "cell_type": "code",
   "execution_count": 124,
   "id": "d64276e1-4f94-4210-9fa2-265a90c194c5",
   "metadata": {},
   "outputs": [],
   "source": [
    "#rename col weather_origin\n",
    "test_M1.rename({'weather_categ': 'orig_weather_categ'}, axis = 1, inplace= True)\n",
    "#drop the city col which also merged\n",
    "test_M1.drop('city', axis = 1, inplace = True)"
   ]
  },
  {
   "cell_type": "code",
   "execution_count": 125,
   "id": "cab9fbcb-a364-4407-8fd5-faaa473711b9",
   "metadata": {},
   "outputs": [],
   "source": [
    "#add the dest weather\n",
    "test_M1 = pd.merge(test_M1, weather_forecast, how = 'left', left_on = ['fl_date', 'dest_city_name'], right_on = ['fl_date', 'city'])"
   ]
  },
  {
   "cell_type": "code",
   "execution_count": 126,
   "id": "1701f3d5-140d-4db0-9ce2-fab6de062bad",
   "metadata": {},
   "outputs": [],
   "source": [
    "#rename col weather dest\n",
    "test_M1.rename({'weather_categ': 'dest_weather_categ'}, axis = 1, inplace= True)\n",
    "#drop the city col which also merged\n",
    "test_M1.drop('city', axis = 1, inplace = True)"
   ]
  },
  {
   "cell_type": "code",
   "execution_count": 127,
   "id": "afac9a6b-3d2c-49d9-ad0e-504f9df75567",
   "metadata": {},
   "outputs": [
    {
     "data": {
      "text/html": [
       "<div>\n",
       "<style scoped>\n",
       "    .dataframe tbody tr th:only-of-type {\n",
       "        vertical-align: middle;\n",
       "    }\n",
       "\n",
       "    .dataframe tbody tr th {\n",
       "        vertical-align: top;\n",
       "    }\n",
       "\n",
       "    .dataframe thead th {\n",
       "        text-align: right;\n",
       "    }\n",
       "</style>\n",
       "<table border=\"1\" class=\"dataframe\">\n",
       "  <thead>\n",
       "    <tr style=\"text-align: right;\">\n",
       "      <th></th>\n",
       "      <th>fl_date</th>\n",
       "      <th>origin_city_name</th>\n",
       "      <th>dest_city_name</th>\n",
       "      <th>crs_dep_time</th>\n",
       "      <th>crs_arr_time</th>\n",
       "      <th>crs_elapsed_time</th>\n",
       "      <th>flights</th>\n",
       "      <th>distance</th>\n",
       "      <th>dep_time_of_day</th>\n",
       "      <th>arr_time_of_day</th>\n",
       "      <th>mean_arr_delay_orig_airport</th>\n",
       "      <th>mean_arr_delay_dest_airport</th>\n",
       "      <th>mean_arr_delay_carrier</th>\n",
       "      <th>orig_weather_categ</th>\n",
       "      <th>dest_weather_categ</th>\n",
       "    </tr>\n",
       "  </thead>\n",
       "  <tbody>\n",
       "    <tr>\n",
       "      <th>0</th>\n",
       "      <td>2019-12-25</td>\n",
       "      <td>Colorado Springs, CO</td>\n",
       "      <td>Denver, CO</td>\n",
       "      <td>738</td>\n",
       "      <td>840</td>\n",
       "      <td>62.0</td>\n",
       "      <td>1.0</td>\n",
       "      <td>73.0</td>\n",
       "      <td>0</td>\n",
       "      <td>0</td>\n",
       "      <td>1.5625</td>\n",
       "      <td>8.167139</td>\n",
       "      <td>8.433741</td>\n",
       "      <td>sunny</td>\n",
       "      <td>sunny</td>\n",
       "    </tr>\n",
       "  </tbody>\n",
       "</table>\n",
       "</div>"
      ],
      "text/plain": [
       "      fl_date      origin_city_name dest_city_name  crs_dep_time  \\\n",
       "0  2019-12-25  Colorado Springs, CO     Denver, CO           738   \n",
       "\n",
       "   crs_arr_time  crs_elapsed_time  flights  distance  dep_time_of_day  \\\n",
       "0           840              62.0      1.0      73.0                0   \n",
       "\n",
       "   arr_time_of_day  mean_arr_delay_orig_airport  mean_arr_delay_dest_airport  \\\n",
       "0                0                       1.5625                     8.167139   \n",
       "\n",
       "   mean_arr_delay_carrier orig_weather_categ dest_weather_categ  \n",
       "0                8.433741              sunny              sunny  "
      ]
     },
     "execution_count": 127,
     "metadata": {},
     "output_type": "execute_result"
    }
   ],
   "source": [
    "test_M1.head(1)"
   ]
  },
  {
   "cell_type": "markdown",
   "id": "05d97bd4-7a91-48cf-9495-7c3eb6e606cb",
   "metadata": {},
   "source": [
    "### Turn date time to year, month, day"
   ]
  },
  {
   "cell_type": "code",
   "execution_count": 128,
   "id": "0eb51f3a-5f9f-44be-b115-77a7de43f7f0",
   "metadata": {},
   "outputs": [],
   "source": [
    "test_M1['fl_date'] = pd.to_datetime(test_M1['fl_date'])"
   ]
  },
  {
   "cell_type": "code",
   "execution_count": 129,
   "id": "8600281b-75c9-44c3-850a-8d4f542b2114",
   "metadata": {},
   "outputs": [],
   "source": [
    "#split date into three cols\n",
    "import datetime as dt\n",
    "test_M1['year'] = test_M1['fl_date'].dt.year\n",
    "test_M1['month'] = test_M1['fl_date'].dt.month\n",
    "test_M1['day'] = test_M1['fl_date'].dt.day"
   ]
  },
  {
   "cell_type": "code",
   "execution_count": 130,
   "id": "60b4c37b-dc76-4802-abd9-940bf8667b8a",
   "metadata": {
    "tags": []
   },
   "outputs": [
    {
     "data": {
      "text/html": [
       "<div>\n",
       "<style scoped>\n",
       "    .dataframe tbody tr th:only-of-type {\n",
       "        vertical-align: middle;\n",
       "    }\n",
       "\n",
       "    .dataframe tbody tr th {\n",
       "        vertical-align: top;\n",
       "    }\n",
       "\n",
       "    .dataframe thead th {\n",
       "        text-align: right;\n",
       "    }\n",
       "</style>\n",
       "<table border=\"1\" class=\"dataframe\">\n",
       "  <thead>\n",
       "    <tr style=\"text-align: right;\">\n",
       "      <th></th>\n",
       "      <th>fl_date</th>\n",
       "      <th>origin_city_name</th>\n",
       "      <th>dest_city_name</th>\n",
       "      <th>crs_dep_time</th>\n",
       "      <th>crs_arr_time</th>\n",
       "      <th>crs_elapsed_time</th>\n",
       "      <th>flights</th>\n",
       "      <th>distance</th>\n",
       "      <th>dep_time_of_day</th>\n",
       "      <th>arr_time_of_day</th>\n",
       "      <th>mean_arr_delay_orig_airport</th>\n",
       "      <th>mean_arr_delay_dest_airport</th>\n",
       "      <th>mean_arr_delay_carrier</th>\n",
       "      <th>orig_weather_categ</th>\n",
       "      <th>dest_weather_categ</th>\n",
       "      <th>year</th>\n",
       "      <th>month</th>\n",
       "      <th>day</th>\n",
       "    </tr>\n",
       "  </thead>\n",
       "  <tbody>\n",
       "    <tr>\n",
       "      <th>0</th>\n",
       "      <td>2019-12-25</td>\n",
       "      <td>Colorado Springs, CO</td>\n",
       "      <td>Denver, CO</td>\n",
       "      <td>738</td>\n",
       "      <td>840</td>\n",
       "      <td>62.0</td>\n",
       "      <td>1.0</td>\n",
       "      <td>73.0</td>\n",
       "      <td>0</td>\n",
       "      <td>0</td>\n",
       "      <td>1.5625</td>\n",
       "      <td>8.167139</td>\n",
       "      <td>8.433741</td>\n",
       "      <td>sunny</td>\n",
       "      <td>sunny</td>\n",
       "      <td>2019</td>\n",
       "      <td>12</td>\n",
       "      <td>25</td>\n",
       "    </tr>\n",
       "  </tbody>\n",
       "</table>\n",
       "</div>"
      ],
      "text/plain": [
       "     fl_date      origin_city_name dest_city_name  crs_dep_time  crs_arr_time  \\\n",
       "0 2019-12-25  Colorado Springs, CO     Denver, CO           738           840   \n",
       "\n",
       "   crs_elapsed_time  flights  distance  dep_time_of_day  arr_time_of_day  \\\n",
       "0              62.0      1.0      73.0                0                0   \n",
       "\n",
       "   mean_arr_delay_orig_airport  mean_arr_delay_dest_airport  \\\n",
       "0                       1.5625                     8.167139   \n",
       "\n",
       "   mean_arr_delay_carrier orig_weather_categ dest_weather_categ  year  month  \\\n",
       "0                8.433741              sunny              sunny  2019     12   \n",
       "\n",
       "   day  \n",
       "0   25  "
      ]
     },
     "execution_count": 130,
     "metadata": {},
     "output_type": "execute_result"
    }
   ],
   "source": [
    "test_M1.head(1)"
   ]
  },
  {
   "cell_type": "code",
   "execution_count": 131,
   "id": "a3645539-0d19-40e5-a8c4-c6bde8ddbb86",
   "metadata": {},
   "outputs": [],
   "source": [
    "#now we can drop date\n",
    "test_M1.drop('fl_date', axis = 1, inplace = True)"
   ]
  },
  {
   "cell_type": "code",
   "execution_count": 132,
   "id": "4d9f48da-8c07-469a-a1cd-b5c7aed82ea9",
   "metadata": {},
   "outputs": [],
   "source": [
    "#now we can drop the city names\n",
    "test_M1.drop(['origin_city_name', 'dest_city_name'], axis = 1, inplace = True)"
   ]
  },
  {
   "cell_type": "markdown",
   "id": "88068255-2039-4145-b22e-5e5511d3af7c",
   "metadata": {},
   "source": [
    "### Now we can create the dummy variables"
   ]
  },
  {
   "cell_type": "code",
   "execution_count": 133,
   "id": "459517f6-cacb-4bf4-b673-3098c8f4cb12",
   "metadata": {},
   "outputs": [],
   "source": [
    "test_M1 = pd.get_dummies(test_M1, drop_first=True)"
   ]
  },
  {
   "cell_type": "code",
   "execution_count": 134,
   "id": "130dddda-21a5-4642-8b18-c42c0c77eec3",
   "metadata": {
    "tags": []
   },
   "outputs": [
    {
     "data": {
      "text/html": [
       "<div>\n",
       "<style scoped>\n",
       "    .dataframe tbody tr th:only-of-type {\n",
       "        vertical-align: middle;\n",
       "    }\n",
       "\n",
       "    .dataframe tbody tr th {\n",
       "        vertical-align: top;\n",
       "    }\n",
       "\n",
       "    .dataframe thead th {\n",
       "        text-align: right;\n",
       "    }\n",
       "</style>\n",
       "<table border=\"1\" class=\"dataframe\">\n",
       "  <thead>\n",
       "    <tr style=\"text-align: right;\">\n",
       "      <th></th>\n",
       "      <th>crs_dep_time</th>\n",
       "      <th>crs_arr_time</th>\n",
       "      <th>crs_elapsed_time</th>\n",
       "      <th>flights</th>\n",
       "      <th>distance</th>\n",
       "      <th>dep_time_of_day</th>\n",
       "      <th>arr_time_of_day</th>\n",
       "      <th>mean_arr_delay_orig_airport</th>\n",
       "      <th>mean_arr_delay_dest_airport</th>\n",
       "      <th>mean_arr_delay_carrier</th>\n",
       "      <th>...</th>\n",
       "      <th>orig_weather_categ_no weather data</th>\n",
       "      <th>orig_weather_categ_rain</th>\n",
       "      <th>orig_weather_categ_snow</th>\n",
       "      <th>orig_weather_categ_snow &amp; rain</th>\n",
       "      <th>orig_weather_categ_sunny</th>\n",
       "      <th>dest_weather_categ_no weather data</th>\n",
       "      <th>dest_weather_categ_rain</th>\n",
       "      <th>dest_weather_categ_snow</th>\n",
       "      <th>dest_weather_categ_snow &amp; rain</th>\n",
       "      <th>dest_weather_categ_sunny</th>\n",
       "    </tr>\n",
       "  </thead>\n",
       "  <tbody>\n",
       "    <tr>\n",
       "      <th>0</th>\n",
       "      <td>738</td>\n",
       "      <td>840</td>\n",
       "      <td>62.0</td>\n",
       "      <td>1.0</td>\n",
       "      <td>73.0</td>\n",
       "      <td>0</td>\n",
       "      <td>0</td>\n",
       "      <td>1.5625</td>\n",
       "      <td>8.167139</td>\n",
       "      <td>8.433741</td>\n",
       "      <td>...</td>\n",
       "      <td>0</td>\n",
       "      <td>0</td>\n",
       "      <td>0</td>\n",
       "      <td>0</td>\n",
       "      <td>1</td>\n",
       "      <td>0</td>\n",
       "      <td>0</td>\n",
       "      <td>0</td>\n",
       "      <td>0</td>\n",
       "      <td>1</td>\n",
       "    </tr>\n",
       "  </tbody>\n",
       "</table>\n",
       "<p>1 rows × 23 columns</p>\n",
       "</div>"
      ],
      "text/plain": [
       "   crs_dep_time  crs_arr_time  crs_elapsed_time  flights  distance  \\\n",
       "0           738           840              62.0      1.0      73.0   \n",
       "\n",
       "   dep_time_of_day  arr_time_of_day  mean_arr_delay_orig_airport  \\\n",
       "0                0                0                       1.5625   \n",
       "\n",
       "   mean_arr_delay_dest_airport  mean_arr_delay_carrier  ...  \\\n",
       "0                     8.167139                8.433741  ...   \n",
       "\n",
       "   orig_weather_categ_no weather data  orig_weather_categ_rain  \\\n",
       "0                                   0                        0   \n",
       "\n",
       "   orig_weather_categ_snow  orig_weather_categ_snow & rain  \\\n",
       "0                        0                               0   \n",
       "\n",
       "   orig_weather_categ_sunny  dest_weather_categ_no weather data  \\\n",
       "0                         1                                   0   \n",
       "\n",
       "   dest_weather_categ_rain  dest_weather_categ_snow  \\\n",
       "0                        0                        0   \n",
       "\n",
       "   dest_weather_categ_snow & rain  dest_weather_categ_sunny  \n",
       "0                               0                         1  \n",
       "\n",
       "[1 rows x 23 columns]"
      ]
     },
     "execution_count": 134,
     "metadata": {},
     "output_type": "execute_result"
    }
   ],
   "source": [
    "test_M1.head(1)"
   ]
  },
  {
   "cell_type": "code",
   "execution_count": 137,
   "id": "24767a99-2a95-4bcf-91a8-6cd002cf7230",
   "metadata": {},
   "outputs": [
    {
     "data": {
      "text/plain": [
       "crs_dep_time                          0\n",
       "crs_arr_time                          0\n",
       "crs_elapsed_time                      0\n",
       "flights                               0\n",
       "distance                              0\n",
       "dep_time_of_day                       0\n",
       "arr_time_of_day                       0\n",
       "mean_arr_delay_orig_airport           0\n",
       "mean_arr_delay_dest_airport           0\n",
       "mean_arr_delay_carrier                0\n",
       "year                                  0\n",
       "month                                 0\n",
       "day                                   0\n",
       "orig_weather_categ_no weather data    0\n",
       "orig_weather_categ_rain               0\n",
       "orig_weather_categ_snow               0\n",
       "orig_weather_categ_snow & rain        0\n",
       "orig_weather_categ_sunny              0\n",
       "dest_weather_categ_no weather data    0\n",
       "dest_weather_categ_rain               0\n",
       "dest_weather_categ_snow               0\n",
       "dest_weather_categ_snow & rain        0\n",
       "dest_weather_categ_sunny              0\n",
       "dtype: int64"
      ]
     },
     "execution_count": 137,
     "metadata": {},
     "output_type": "execute_result"
    }
   ],
   "source": [
    "#final null and dtype check:\n",
    "pd.isnull(test_M1).sum()"
   ]
  },
  {
   "cell_type": "code",
   "execution_count": 138,
   "id": "bf157c14-8133-46c1-ba06-5a2cf3caf249",
   "metadata": {},
   "outputs": [
    {
     "data": {
      "text/plain": [
       "crs_dep_time                            int64\n",
       "crs_arr_time                            int64\n",
       "crs_elapsed_time                      float64\n",
       "flights                               float64\n",
       "distance                              float64\n",
       "dep_time_of_day                         int64\n",
       "arr_time_of_day                         int64\n",
       "mean_arr_delay_orig_airport           float64\n",
       "mean_arr_delay_dest_airport           float64\n",
       "mean_arr_delay_carrier                float64\n",
       "year                                    int64\n",
       "month                                   int64\n",
       "day                                     int64\n",
       "orig_weather_categ_no weather data      uint8\n",
       "orig_weather_categ_rain                 uint8\n",
       "orig_weather_categ_snow                 uint8\n",
       "orig_weather_categ_snow & rain          uint8\n",
       "orig_weather_categ_sunny                uint8\n",
       "dest_weather_categ_no weather data      uint8\n",
       "dest_weather_categ_rain                 uint8\n",
       "dest_weather_categ_snow                 uint8\n",
       "dest_weather_categ_snow & rain          uint8\n",
       "dest_weather_categ_sunny                uint8\n",
       "dtype: object"
      ]
     },
     "execution_count": 138,
     "metadata": {},
     "output_type": "execute_result"
    }
   ],
   "source": [
    "test_M1.dtypes"
   ]
  },
  {
   "cell_type": "code",
   "execution_count": 139,
   "id": "1f778c65-fb72-40ef-b036-90155624ecce",
   "metadata": {
    "tags": []
   },
   "outputs": [
    {
     "data": {
      "text/plain": [
       "<AxesSubplot:>"
      ]
     },
     "execution_count": 139,
     "metadata": {},
     "output_type": "execute_result"
    },
    {
     "data": {
      "image/png": "[encoded data removed]",
      "text/plain": [
       "<Figure size 432x288 with 2 Axes>"
      ]
     },
     "metadata": {
      "needs_background": "light"
     },
     "output_type": "display_data"
    }
   ],
   "source": [
    "sns.heatmap(test_M1.corr())"
   ]
  },
  {
   "cell_type": "code",
   "execution_count": null,
   "id": "8e4bebd7-256f-4256-a7de-2df3c68a8b94",
   "metadata": {},
   "outputs": [],
   "source": []
  },
  {
   "cell_type": "code",
   "execution_count": null,
   "id": "eb54a05d-01e8-49b5-b17f-bbdb6f1fefb5",
   "metadata": {},
   "outputs": [],
   "source": []
  },
  {
   "cell_type": "markdown",
   "id": "a166b9d5-0555-4a0d-bc19-2abae760b4ea",
   "metadata": {},
   "source": [
    "## Export Model1 as csv"
   ]
  },
  {
   "cell_type": "code",
   "execution_count": 140,
   "id": "ea240d63-4d0a-4b78-8159-cfd7933f1b8c",
   "metadata": {},
   "outputs": [],
   "source": [
    "flights_M1.to_csv('data/X_train_M1.csv', header=True, index=False)"
   ]
  },
  {
   "cell_type": "code",
   "execution_count": 141,
   "id": "b77fa786-e08b-4a59-9f0a-cd19e98f68fd",
   "metadata": {},
   "outputs": [],
   "source": [
    "test_M1.to_csv('data/X_test_M1.csv', header=True, index=False)"
   ]
  },
  {
   "cell_type": "code",
   "execution_count": null,
   "id": "439dd863-a33a-4567-9e8f-4471cead749e",
   "metadata": {},
   "outputs": [],
   "source": []
  },
  {
   "cell_type": "code",
   "execution_count": null,
   "id": "f6e6a0c0-92bf-4982-b8f0-139bc91de4fc",
   "metadata": {},
   "outputs": [],
   "source": []
  },
  {
   "cell_type": "markdown",
   "id": "346a3da8-6bf4-462a-bb42-4dc48dce16c7",
   "metadata": {},
   "source": [
    "### Run Model 1"
   ]
  },
  {
   "cell_type": "code",
   "execution_count": 142,
   "id": "193a7fcb-1242-47e0-9cb3-82b9f7bea29e",
   "metadata": {},
   "outputs": [],
   "source": [
    "from src.modules.data_preprocessing import regression"
   ]
  },
  {
   "cell_type": "code",
   "execution_count": 144,
   "id": "d81c1cf2-93d2-4a76-a6ef-19bb5f3fcd9c",
   "metadata": {},
   "outputs": [],
   "source": [
    "from sklearn.ensemble import RandomForestRegressor\n",
    "from sklearn.linear_model import LinearRegression\n",
    "from sklearn.svm import SVR"
   ]
  },
  {
   "cell_type": "code",
   "execution_count": 145,
   "id": "f0acb69a-361e-4e37-938d-fec9f7974b13",
   "metadata": {},
   "outputs": [],
   "source": [
    "regressor_list = [LinearRegression, SVR, RandomForestRegressor]"
   ]
  },
  {
   "cell_type": "code",
   "execution_count": 147,
   "id": "12bb0df7-24e1-4461-afc5-b8fa0ecfea2f",
   "metadata": {
    "tags": []
   },
   "outputs": [
    {
     "ename": "ValueError",
     "evalue": "X has 23 features, but StandardScaler is expecting 35 features as input.",
     "output_type": "error",
     "traceback": [
      "\u001b[1;31m---------------------------------------------------------------------------\u001b[0m",
      "\u001b[1;31mValueError\u001b[0m                                Traceback (most recent call last)",
      "Input \u001b[1;32mIn [147]\u001b[0m, in \u001b[0;36m<cell line: 1>\u001b[1;34m()\u001b[0m\n\u001b[1;32m----> 1\u001b[0m \u001b[43mregression\u001b[49m\u001b[43m(\u001b[49m\u001b[43mflights_M1\u001b[49m\u001b[43m,\u001b[49m\u001b[43m \u001b[49m\u001b[43mtest_M1\u001b[49m\u001b[43m,\u001b[49m\u001b[43m \u001b[49m\u001b[43my_train\u001b[49m\u001b[43m,\u001b[49m\u001b[43m \u001b[49m\u001b[43my_test\u001b[49m\u001b[43m,\u001b[49m\u001b[43m \u001b[49m\u001b[43mregressor_list\u001b[49m\u001b[43m)\u001b[49m\n",
      "File \u001b[1;32m~\\Documents\\Coding\\Week_6_MT\\Midterm_Project\\src\\modules\\data_preprocessing.py:196\u001b[0m, in \u001b[0;36mregression\u001b[1;34m(X_train, X_test, y_train, y_test, regressor_list)\u001b[0m\n\u001b[0;32m    194\u001b[0m scalar \u001b[38;5;241m=\u001b[39m StandardScaler()\n\u001b[0;32m    195\u001b[0m X_scaled_train \u001b[38;5;241m=\u001b[39m scalar\u001b[38;5;241m.\u001b[39mfit_transform(X_train)       \u001b[38;5;66;03m#fit has a memory, don't use on test\u001b[39;00m\n\u001b[1;32m--> 196\u001b[0m X_scaled_test \u001b[38;5;241m=\u001b[39m \u001b[43mscalar\u001b[49m\u001b[38;5;241;43m.\u001b[39;49m\u001b[43mtransform\u001b[49m\u001b[43m(\u001b[49m\u001b[43mX_test\u001b[49m\u001b[43m)\u001b[49m           \u001b[38;5;66;03m#scalar is an instance that has the memory\u001b[39;00m\n\u001b[0;32m    198\u001b[0m \u001b[38;5;66;03m#model\u001b[39;00m\n\u001b[0;32m    199\u001b[0m \u001b[38;5;28;01mfor\u001b[39;00m reg \u001b[38;5;129;01min\u001b[39;00m regressor_list:\n",
      "File \u001b[1;32m~\\anaconda3\\envs\\lighthouse_env\\lib\\site-packages\\sklearn\\preprocessing\\_data.py:975\u001b[0m, in \u001b[0;36mStandardScaler.transform\u001b[1;34m(self, X, copy)\u001b[0m\n\u001b[0;32m    972\u001b[0m check_is_fitted(\u001b[38;5;28mself\u001b[39m)\n\u001b[0;32m    974\u001b[0m copy \u001b[38;5;241m=\u001b[39m copy \u001b[38;5;28;01mif\u001b[39;00m copy \u001b[38;5;129;01mis\u001b[39;00m \u001b[38;5;129;01mnot\u001b[39;00m \u001b[38;5;28;01mNone\u001b[39;00m \u001b[38;5;28;01melse\u001b[39;00m \u001b[38;5;28mself\u001b[39m\u001b[38;5;241m.\u001b[39mcopy\n\u001b[1;32m--> 975\u001b[0m X \u001b[38;5;241m=\u001b[39m \u001b[38;5;28;43mself\u001b[39;49m\u001b[38;5;241;43m.\u001b[39;49m\u001b[43m_validate_data\u001b[49m\u001b[43m(\u001b[49m\n\u001b[0;32m    976\u001b[0m \u001b[43m    \u001b[49m\u001b[43mX\u001b[49m\u001b[43m,\u001b[49m\n\u001b[0;32m    977\u001b[0m \u001b[43m    \u001b[49m\u001b[43mreset\u001b[49m\u001b[38;5;241;43m=\u001b[39;49m\u001b[38;5;28;43;01mFalse\u001b[39;49;00m\u001b[43m,\u001b[49m\n\u001b[0;32m    978\u001b[0m \u001b[43m    \u001b[49m\u001b[43maccept_sparse\u001b[49m\u001b[38;5;241;43m=\u001b[39;49m\u001b[38;5;124;43m\"\u001b[39;49m\u001b[38;5;124;43mcsr\u001b[39;49m\u001b[38;5;124;43m\"\u001b[39;49m\u001b[43m,\u001b[49m\n\u001b[0;32m    979\u001b[0m \u001b[43m    \u001b[49m\u001b[43mcopy\u001b[49m\u001b[38;5;241;43m=\u001b[39;49m\u001b[43mcopy\u001b[49m\u001b[43m,\u001b[49m\n\u001b[0;32m    980\u001b[0m \u001b[43m    \u001b[49m\u001b[43mdtype\u001b[49m\u001b[38;5;241;43m=\u001b[39;49m\u001b[43mFLOAT_DTYPES\u001b[49m\u001b[43m,\u001b[49m\n\u001b[0;32m    981\u001b[0m \u001b[43m    \u001b[49m\u001b[43mforce_all_finite\u001b[49m\u001b[38;5;241;43m=\u001b[39;49m\u001b[38;5;124;43m\"\u001b[39;49m\u001b[38;5;124;43mallow-nan\u001b[39;49m\u001b[38;5;124;43m\"\u001b[39;49m\u001b[43m,\u001b[49m\n\u001b[0;32m    982\u001b[0m \u001b[43m\u001b[49m\u001b[43m)\u001b[49m\n\u001b[0;32m    984\u001b[0m \u001b[38;5;28;01mif\u001b[39;00m sparse\u001b[38;5;241m.\u001b[39missparse(X):\n\u001b[0;32m    985\u001b[0m     \u001b[38;5;28;01mif\u001b[39;00m \u001b[38;5;28mself\u001b[39m\u001b[38;5;241m.\u001b[39mwith_mean:\n",
      "File \u001b[1;32m~\\anaconda3\\envs\\lighthouse_env\\lib\\site-packages\\sklearn\\base.py:600\u001b[0m, in \u001b[0;36mBaseEstimator._validate_data\u001b[1;34m(self, X, y, reset, validate_separately, **check_params)\u001b[0m\n\u001b[0;32m    597\u001b[0m     out \u001b[38;5;241m=\u001b[39m X, y\n\u001b[0;32m    599\u001b[0m \u001b[38;5;28;01mif\u001b[39;00m \u001b[38;5;129;01mnot\u001b[39;00m no_val_X \u001b[38;5;129;01mand\u001b[39;00m check_params\u001b[38;5;241m.\u001b[39mget(\u001b[38;5;124m\"\u001b[39m\u001b[38;5;124mensure_2d\u001b[39m\u001b[38;5;124m\"\u001b[39m, \u001b[38;5;28;01mTrue\u001b[39;00m):\n\u001b[1;32m--> 600\u001b[0m     \u001b[38;5;28;43mself\u001b[39;49m\u001b[38;5;241;43m.\u001b[39;49m\u001b[43m_check_n_features\u001b[49m\u001b[43m(\u001b[49m\u001b[43mX\u001b[49m\u001b[43m,\u001b[49m\u001b[43m \u001b[49m\u001b[43mreset\u001b[49m\u001b[38;5;241;43m=\u001b[39;49m\u001b[43mreset\u001b[49m\u001b[43m)\u001b[49m\n\u001b[0;32m    602\u001b[0m \u001b[38;5;28;01mreturn\u001b[39;00m out\n",
      "File \u001b[1;32m~\\anaconda3\\envs\\lighthouse_env\\lib\\site-packages\\sklearn\\base.py:400\u001b[0m, in \u001b[0;36mBaseEstimator._check_n_features\u001b[1;34m(self, X, reset)\u001b[0m\n\u001b[0;32m    397\u001b[0m     \u001b[38;5;28;01mreturn\u001b[39;00m\n\u001b[0;32m    399\u001b[0m \u001b[38;5;28;01mif\u001b[39;00m n_features \u001b[38;5;241m!=\u001b[39m \u001b[38;5;28mself\u001b[39m\u001b[38;5;241m.\u001b[39mn_features_in_:\n\u001b[1;32m--> 400\u001b[0m     \u001b[38;5;28;01mraise\u001b[39;00m \u001b[38;5;167;01mValueError\u001b[39;00m(\n\u001b[0;32m    401\u001b[0m         \u001b[38;5;124mf\u001b[39m\u001b[38;5;124m\"\u001b[39m\u001b[38;5;124mX has \u001b[39m\u001b[38;5;132;01m{\u001b[39;00mn_features\u001b[38;5;132;01m}\u001b[39;00m\u001b[38;5;124m features, but \u001b[39m\u001b[38;5;132;01m{\u001b[39;00m\u001b[38;5;28mself\u001b[39m\u001b[38;5;241m.\u001b[39m\u001b[38;5;18m__class__\u001b[39m\u001b[38;5;241m.\u001b[39m\u001b[38;5;18m__name__\u001b[39m\u001b[38;5;132;01m}\u001b[39;00m\u001b[38;5;124m \u001b[39m\u001b[38;5;124m\"\u001b[39m\n\u001b[0;32m    402\u001b[0m         \u001b[38;5;124mf\u001b[39m\u001b[38;5;124m\"\u001b[39m\u001b[38;5;124mis expecting \u001b[39m\u001b[38;5;132;01m{\u001b[39;00m\u001b[38;5;28mself\u001b[39m\u001b[38;5;241m.\u001b[39mn_features_in_\u001b[38;5;132;01m}\u001b[39;00m\u001b[38;5;124m features as input.\u001b[39m\u001b[38;5;124m\"\u001b[39m\n\u001b[0;32m    403\u001b[0m     )\n",
      "\u001b[1;31mValueError\u001b[0m: X has 23 features, but StandardScaler is expecting 35 features as input."
     ]
    }
   ],
   "source": [
    "regression(flights_M1, test_M1, y_train, y_test, regressor_list)"
   ]
  },
  {
   "cell_type": "code",
   "execution_count": null,
   "id": "bcdce98f-338a-48e4-abe8-31e45b8ca08e",
   "metadata": {},
   "outputs": [],
   "source": []
  }
 ],
 "metadata": {
  "kernelspec": {
   "display_name": "lighthouse_env",
   "language": "python",
   "name": "lighthouse_env"
  },
  "language_info": {
   "codemirror_mode": {
    "name": "ipython",
    "version": 3
   },
   "file_extension": ".py",
   "mimetype": "text/x-python",
   "name": "python",
   "nbconvert_exporter": "python",
   "pygments_lexer": "ipython3",
   "version": "3.9.13"
  }
 },
 "nbformat": 4,
 "nbformat_minor": 5
}
