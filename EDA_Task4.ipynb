{
 "cells": [
  {
   "cell_type": "markdown",
   "id": "fece71ed-4fdc-469d-ad29-97d713e3e1f9",
   "metadata": {},
   "source": [
    "#### **Task 4**: How taxi times changing during the day? Does higher traffic lead to bigger taxi times?"
   ]
  },
  {
   "cell_type": "code",
   "execution_count": 1,
   "id": "c4dfbded-bcb4-4633-94b1-b106c77c2b9c",
   "metadata": {},
   "outputs": [],
   "source": [
    "# Import Pandas and Numpy to deal with DataFrames and NaN\n",
    "import pandas as pd\n",
    "import numpy as np\n",
    "\n",
    "# Import MatPlotLib and Seaborn to help visualize the data\n",
    "import matplotlib.pyplot as plt\n",
    "import seaborn as sns\n",
    "\n",
    "# Import os for file reader\n",
    "import os"
   ]
  },
  {
   "cell_type": "code",
   "execution_count": 2,
   "id": "15e4be7f-4a21-462e-a40e-e142e7b2d14e",
   "metadata": {},
   "outputs": [
    {
     "name": "stdout",
     "output_type": "stream",
     "text": [
      "/Users/brandonrose/Midterm_Project\n"
     ]
    }
   ],
   "source": [
    "# Get current working directory\n",
    "current_directory = os.getcwd()\n",
    "print(current_directory)"
   ]
  },
  {
   "cell_type": "code",
   "execution_count": 3,
   "id": "1a411b7f-b342-416c-a249-c8021800032f",
   "metadata": {},
   "outputs": [],
   "source": [
    "# Pull the data from csv by concatenating current working directory with\n",
    "# '/data/flights_10000.csv'\n",
    "data = pd.read_csv(current_directory +'/data/flights_10000.csv')\n",
    "data.drop(['Unnamed: 0', 'no_name'], axis=1, inplace=True)"
   ]
  },
  {
   "cell_type": "code",
   "execution_count": 4,
   "id": "cb6aba5c-224a-440e-a2ec-8b9930d1ab69",
   "metadata": {},
   "outputs": [],
   "source": [
    "#Define a taxi dataframe that only has relevant information\n",
    "#Drop NaN to remove cancellation flights\n",
    "df_taxi = data.loc[:,['tail_num', 'dep_time', 'taxi_out', 'wheels_off', 'wheels_on', 'taxi_in', 'arr_time']].dropna().reset_index()"
   ]
  },
  {
   "cell_type": "code",
   "execution_count": 5,
   "id": "526f27aa-9455-41d5-bc0b-d3d6fab0f9ab",
   "metadata": {},
   "outputs": [],
   "source": [
    "# Import function that determines time of day based on arr_time and dep_time columns\n",
    "from src.modules.data_preprocessing import time_of_day"
   ]
  },
  {
   "cell_type": "code",
   "execution_count": 6,
   "id": "9e83dfc9-c75b-47e5-9cbb-8c4b3bb1b753",
   "metadata": {},
   "outputs": [],
   "source": [
    "#New column to categorize Morning, Afternoon, Evening, Nite\n",
    "df_taxi['dep_time_of_day'] = df_taxi.apply(lambda df: time_of_day(df, method='dep'), axis=1)\n",
    "df_taxi['arr_time_of_day'] = df_taxi.apply(lambda df: time_of_day(df, method='arr'), axis=1)"
   ]
  },
  {
   "cell_type": "code",
   "execution_count": 7,
   "id": "c932e14b-068a-4ba8-b9cc-e17cbf1db08f",
   "metadata": {},
   "outputs": [
    {
     "data": {
      "text/plain": [
       "Morning      4026\n",
       "Afternoon    2806\n",
       "Evening      2188\n",
       "Night         813\n",
       "Name: dep_time_of_day, dtype: int64"
      ]
     },
     "execution_count": 7,
     "metadata": {},
     "output_type": "execute_result"
    }
   ],
   "source": [
    "df_taxi['dep_time_of_day'].value_counts()"
   ]
  },
  {
   "cell_type": "code",
   "execution_count": 8,
   "id": "36f95fd5-188f-42cc-9c4e-b00626c79426",
   "metadata": {},
   "outputs": [],
   "source": [
    "#Add a counter column to return a count of flights in our groupby \n",
    "df_taxi['counter'] = 1"
   ]
  },
  {
   "cell_type": "code",
   "execution_count": 9,
   "id": "214263e1-3842-468d-b7d4-9c81087f465d",
   "metadata": {},
   "outputs": [],
   "source": [
    "#Group departures based on their time_of_day value\n",
    "departure_group = df_taxi.groupby('dep_time_of_day')[['taxi_out', 'counter']].sum().reset_index()"
   ]
  },
  {
   "cell_type": "code",
   "execution_count": 10,
   "id": "9067962d-36a9-4090-9049-236439b1f219",
   "metadata": {},
   "outputs": [
    {
     "data": {
      "text/html": [
       "<div>\n",
       "<style scoped>\n",
       "    .dataframe tbody tr th:only-of-type {\n",
       "        vertical-align: middle;\n",
       "    }\n",
       "\n",
       "    .dataframe tbody tr th {\n",
       "        vertical-align: top;\n",
       "    }\n",
       "\n",
       "    .dataframe thead th {\n",
       "        text-align: right;\n",
       "    }\n",
       "</style>\n",
       "<table border=\"1\" class=\"dataframe\">\n",
       "  <thead>\n",
       "    <tr style=\"text-align: right;\">\n",
       "      <th></th>\n",
       "      <th>dep_time_of_day</th>\n",
       "      <th>taxi_out</th>\n",
       "      <th>counter</th>\n",
       "    </tr>\n",
       "  </thead>\n",
       "  <tbody>\n",
       "    <tr>\n",
       "      <th>2</th>\n",
       "      <td>Morning</td>\n",
       "      <td>70834.0</td>\n",
       "      <td>4026</td>\n",
       "    </tr>\n",
       "    <tr>\n",
       "      <th>0</th>\n",
       "      <td>Afternoon</td>\n",
       "      <td>47708.0</td>\n",
       "      <td>2806</td>\n",
       "    </tr>\n",
       "    <tr>\n",
       "      <th>1</th>\n",
       "      <td>Evening</td>\n",
       "      <td>39977.0</td>\n",
       "      <td>2188</td>\n",
       "    </tr>\n",
       "    <tr>\n",
       "      <th>3</th>\n",
       "      <td>Night</td>\n",
       "      <td>13536.0</td>\n",
       "      <td>813</td>\n",
       "    </tr>\n",
       "  </tbody>\n",
       "</table>\n",
       "</div>"
      ],
      "text/plain": [
       "  dep_time_of_day  taxi_out  counter\n",
       "2         Morning   70834.0     4026\n",
       "0       Afternoon   47708.0     2806\n",
       "1         Evening   39977.0     2188\n",
       "3           Night   13536.0      813"
      ]
     },
     "execution_count": 10,
     "metadata": {},
     "output_type": "execute_result"
    }
   ],
   "source": [
    "# Sort this based on taxi_out times\n",
    "departure_group.sort_values('taxi_out', ascending=False)"
   ]
  },
  {
   "cell_type": "code",
   "execution_count": 11,
   "id": "fc271eaf-2d76-48c8-af76-8e222501dba0",
   "metadata": {},
   "outputs": [
    {
     "data": {
      "text/html": [
       "<div>\n",
       "<style scoped>\n",
       "    .dataframe tbody tr th:only-of-type {\n",
       "        vertical-align: middle;\n",
       "    }\n",
       "\n",
       "    .dataframe tbody tr th {\n",
       "        vertical-align: top;\n",
       "    }\n",
       "\n",
       "    .dataframe thead th {\n",
       "        text-align: right;\n",
       "    }\n",
       "</style>\n",
       "<table border=\"1\" class=\"dataframe\">\n",
       "  <thead>\n",
       "    <tr style=\"text-align: right;\">\n",
       "      <th></th>\n",
       "      <th>arr_time_of_day</th>\n",
       "      <th>taxi_in</th>\n",
       "      <th>counter</th>\n",
       "    </tr>\n",
       "  </thead>\n",
       "  <tbody>\n",
       "    <tr>\n",
       "      <th>2</th>\n",
       "      <td>Morning</td>\n",
       "      <td>23260.0</td>\n",
       "      <td>2892</td>\n",
       "    </tr>\n",
       "    <tr>\n",
       "      <th>0</th>\n",
       "      <td>Afternoon</td>\n",
       "      <td>20960.0</td>\n",
       "      <td>2867</td>\n",
       "    </tr>\n",
       "    <tr>\n",
       "      <th>1</th>\n",
       "      <td>Evening</td>\n",
       "      <td>17708.0</td>\n",
       "      <td>2239</td>\n",
       "    </tr>\n",
       "  </tbody>\n",
       "</table>\n",
       "</div>"
      ],
      "text/plain": [
       "  arr_time_of_day  taxi_in  counter\n",
       "2         Morning  23260.0     2892\n",
       "0       Afternoon  20960.0     2867\n",
       "1         Evening  17708.0     2239"
      ]
     },
     "execution_count": 11,
     "metadata": {},
     "output_type": "execute_result"
    }
   ],
   "source": [
    "#Repeat these for arrival group\n",
    "arrival_group = df_taxi.groupby('arr_time_of_day')[['taxi_in', 'counter']].sum().reset_index()\n",
    "arrival_group.sort_values('taxi_in', ascending=False)"
   ]
  },
  {
   "cell_type": "markdown",
   "id": "cdac0bc2-e509-44f7-8b42-fe42f4c08c3a",
   "metadata": {},
   "source": [
    "#### Visualize the different taxi time weights with pie charts"
   ]
  },
  {
   "cell_type": "code",
   "execution_count": 13,
   "id": "5c85c828-4959-4fb5-886b-07603afaa426",
   "metadata": {},
   "outputs": [],
   "source": [
    "#assign our arrivals and departures data to new variables\n",
    "#---ARRIVALS---\n",
    "data1 = arrival_group['taxi_in']\n",
    "labels1 = arrival_group['arr_time_of_day'].unique()\n",
    "#---DEPARTURES---\n",
    "data2 = departure_group['taxi_out']\n",
    "labels2 = departure_group['dep_time_of_day'].unique()"
   ]
  },
  {
   "cell_type": "code",
   "execution_count": 21,
   "id": "db73274c-f3e0-4135-b6d7-590e14da656c",
   "metadata": {},
   "outputs": [
    {
     "ename": "TypeError",
     "evalue": "pie() got an unexpected keyword argument 'ax'",
     "output_type": "error",
     "traceback": [
      "\u001b[0;31m---------------------------------------------------------------------------\u001b[0m",
      "\u001b[0;31mTypeError\u001b[0m                                 Traceback (most recent call last)",
      "Cell \u001b[0;32mIn [21], line 11\u001b[0m\n\u001b[1;32m      8\u001b[0m axes[\u001b[38;5;241m1\u001b[39m]\u001b[38;5;241m.\u001b[39mset_title(\u001b[38;5;124m'\u001b[39m\u001b[38;5;124mDepartures\u001b[39m\u001b[38;5;124m'\u001b[39m)\n\u001b[1;32m     10\u001b[0m \u001b[38;5;66;03m# Arrival Chart\u001b[39;00m\n\u001b[0;32m---> 11\u001b[0m plt\u001b[38;5;241m.\u001b[39mpie(data1, ax\u001b[38;5;241m=\u001b[39maxes[\u001b[38;5;241m0\u001b[39m], labels \u001b[38;5;241m=\u001b[39m labels1, colors \u001b[38;5;241m=\u001b[39m colors, autopct\u001b[38;5;241m=\u001b[39m\u001b[38;5;124m'\u001b[39m\u001b[38;5;132;01m%.0f\u001b[39;00m\u001b[38;5;132;01m%%\u001b[39;00m\u001b[38;5;124m'\u001b[39m)\n\u001b[1;32m     13\u001b[0m \u001b[38;5;66;03m# Departure Chart\u001b[39;00m\n\u001b[1;32m     14\u001b[0m plt\u001b[38;5;241m.\u001b[39mpie(data2, labels \u001b[38;5;241m=\u001b[39m labels2, colors \u001b[38;5;241m=\u001b[39m colors, autopct\u001b[38;5;241m=\u001b[39m\u001b[38;5;124m'\u001b[39m\u001b[38;5;132;01m%.0f\u001b[39;00m\u001b[38;5;132;01m%%\u001b[39;00m\u001b[38;5;124m'\u001b[39m)\n",
      "\u001b[0;31mTypeError\u001b[0m: pie() got an unexpected keyword argument 'ax'"
     ]
    },
    {
     "data": {
      "image/png": "[encoded data removed]",
      "text/plain": [
       "<Figure size 1200x600 with 2 Axes>"
      ]
     },
     "metadata": {},
     "output_type": "display_data"
    }
   ],
   "source": [
    "#define Seaborn color palette to use\n",
    "colors = sns.color_palette('pastel')[0:4]\n",
    "\n",
    "# Plot the new data in side by side pie charts\n",
    "fig, axes = plt.subplots(1, 2, sharey=True, figsize=(12,6))\n",
    "fig.suptitle('Arrivals vs. Departure Taxi Times')\n",
    "axes[0].set_title('Arrivals')\n",
    "axes[1].set_title('Departures')\n",
    "\n",
    "# Arrival Chart\n",
    "# plt.pie(data1, ax=axes[0], labels = labels1, colors = colors, autopct='%.0f%%')\n",
    "\n",
    "# Departure Chart\n",
    "# plt.pie(data2, labels = labels2, colors = colors, autopct='%.0f%%')"
   ]
  },
  {
   "cell_type": "code",
   "execution_count": 23,
   "id": "b28d17aa-048f-4e63-89f3-4017a4280f47",
   "metadata": {},
   "outputs": [
    {
     "data": {
      "image/png": "[encoded data removed]",
      "text/plain": [
       "<Figure size 640x480 with 1 Axes>"
      ]
     },
     "metadata": {},
     "output_type": "display_data"
    }
   ],
   "source": [
    "# ARRIVAL TAXI\n",
    "plt.title(\"Taxi Times: Arrivals\")\n",
    "plt.pie(data1, labels = labels1, colors = colors, autopct='%.0f%%')\n",
    "plt.show()"
   ]
  },
  {
   "cell_type": "code",
   "execution_count": 22,
   "id": "8aab6d96-8fa4-45e0-9b3c-49b6d69acad7",
   "metadata": {},
   "outputs": [
    {
     "data": {
      "image/png": "[encoded data removed]",
      "text/plain": [
       "<Figure size 640x480 with 1 Axes>"
      ]
     },
     "metadata": {},
     "output_type": "display_data"
    }
   ],
   "source": [
    "# DEPARTURE TAXI\n",
    "#create pie chart\n",
    "plt.title(\"Taxi Times: Departures\")\n",
    "plt.pie(data2, labels = labels2, colors = colors, autopct='%.0f%%')\n",
    "plt.show()"
   ]
  },
  {
   "cell_type": "code",
   "execution_count": null,
   "id": "9bc1b7b4-9c6a-4a37-9d0f-a22353b28e28",
   "metadata": {},
   "outputs": [],
   "source": []
  }
 ],
 "metadata": {
  "kernelspec": {
   "display_name": "Python 3 (ipykernel)",
   "language": "python",
   "name": "python3"
  },
  "language_info": {
   "codemirror_mode": {
    "name": "ipython",
    "version": 3
   },
   "file_extension": ".py",
   "mimetype": "text/x-python",
   "name": "python",
   "nbconvert_exporter": "python",
   "pygments_lexer": "ipython3",
   "version": "3.9.12"
  }
 },
 "nbformat": 4,
 "nbformat_minor": 5
}
